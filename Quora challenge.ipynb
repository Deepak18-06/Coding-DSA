{
 "cells": [
  {
   "cell_type": "code",
   "execution_count": 12,
   "metadata": {},
   "outputs": [
    {
     "name": "stdout",
     "output_type": "stream",
     "text": [
      "4 6\n",
      "3 2 3 3\n",
      "3 3 3 4\n",
      "4 3 4 4\n",
      "1 1 2 1\n",
      "1 4 2 4\n",
      "2 3 3 3\n",
      "defaultdict(<class 'list'>, {(2, 3): [(3, 2), (3, 3), (3, 4), (2, 3)], (4, 3): [(4, 3), (4, 4)], (1, 1): [(1, 1), (2, 1)], (1, 4): [(1, 4), (2, 4)]})\n"
     ]
    }
   ],
   "source": [
    "import collections\n",
    "def solve(A,B,n,m):\n",
    "    def find(x):\n",
    "        if parents.setdefault(x,x) != x:\n",
    "            parents[x] = find(parents[x])\n",
    "        return parents[x]\n",
    "    def union(x,y):\n",
    "        r1 = find(x)\n",
    "        r2 = find(y)\n",
    "        parents[r2] = r1\n",
    "    parents = {}\n",
    "    for a,b in zip(A,B):\n",
    "        union(a,b)\n",
    "    res = collections.defaultdict(list)\n",
    "    for node in parents:\n",
    "        res[find(node)].append(node)\n",
    "    print(n**2 - len(res))\n",
    "n,m = map(int,input().split())\n",
    "A = [0]*m\n",
    "B = [0]*m\n",
    "for i in range(m):\n",
    "    x1,y1,x2,y2 = map(int,input().split())\n",
    "    A[i] = (x1,y1)\n",
    "    B[i] = (x2,y2)\n",
    "solve(A,B,n,m)\n",
    "#print(A,B)"
   ]
  },
  {
   "cell_type": "code",
   "execution_count": null,
   "metadata": {},
   "outputs": [],
   "source": [
    "4 6\n",
    "3 2 3 3\n",
    "3 3 3 4\n",
    "4 3 4 4\n",
    "1 1 2 1\n",
    "1 4 2 4\n",
    "2 3 3 3"
   ]
  },
  {
   "cell_type": "code",
   "execution_count": 5,
   "metadata": {},
   "outputs": [
    {
     "name": "stdout",
     "output_type": "stream",
     "text": [
      "(3, 2) (3, 3)\n",
      "(3, 3) (3, 4)\n",
      "(4, 3) (4, 4)\n",
      "(1, 1) (2, 1)\n",
      "(1, 4) (2, 4)\n",
      "(2, 3) (3, 3)\n"
     ]
    }
   ],
   "source": [
    "for a, b in zip([(3, 2), (3, 3), (4, 3), (1, 1), (1, 4), (2, 3)],[(3, 3), (3, 4), (4, 4), (2, 1), (2, 4), (3, 3)]):\n",
    "    print(a,b)"
   ]
  },
  {
   "cell_type": "code",
   "execution_count": 4,
   "metadata": {},
   "outputs": [
    {
     "data": {
      "text/plain": [
       "{(1, 2): (2, 3)}"
      ]
     },
     "execution_count": 4,
     "metadata": {},
     "output_type": "execute_result"
    }
   ],
   "source": [
    "a"
   ]
  },
  {
   "cell_type": "code",
   "execution_count": null,
   "metadata": {},
   "outputs": [],
   "source": [
    "class TrieNode:\n",
    "    def __init__(self):\n",
    "        self.children = collections.defaultdict(TrieNode)\n",
    "        sefl.isEnd = False\n",
    "class WordDict:\n",
    "    def __init__(self):\n",
    "        self.root = TrieNode()\n",
    "    \n",
    "    def addWord(self,word):\n",
    "        cur = self.root\n",
    "        for c in word:\n",
    "            if c not in cur.children:\n",
    "                cur.children[c] = TrieNode()\n",
    "            cur = cur.children[c]\n",
    "        cur.isEnd = True\n",
    "    \n",
    "    def search(self,word):\n",
    "        def dfs(w,node):\n",
    "            if not w:\n",
    "                return node.isEnd\n",
    "            if w[0] == '.':\n",
    "                for node in node.children.values():\n",
    "                    if dfs(w[1:],node):\n",
    "                        return True\n",
    "            else:\n",
    "                if w[0] in node.children:\n",
    "                    return dfs(w[1:],)"
   ]
  },
  {
   "cell_type": "code",
   "execution_count": null,
   "metadata": {},
   "outputs": [],
   "source": [
    "class TrieNode:\n",
    "    def __init__(self):\n",
    "        self.children = defaultdict(TrieNode)\n",
    "        self.is_end = False\n",
    "        \n",
    "class WordDictionary:\n",
    "\n",
    "    def __init__(self):\n",
    "        self.root = TrieNode()\n",
    "        \n",
    "    def addWord(self, word: str) -> None:\n",
    "        cur = self.root\n",
    "        for c in word:\n",
    "            if c not in cur.children:\n",
    "                cur.children[c] = TrieNode()\n",
    "            cur = cur.children[c]\n",
    "    \n",
    "        cur.is_end = True\n",
    "\n",
    "    def search(self, word: str) -> bool:\n",
    "        def dfs(w, node):\n",
    "            if not w:\n",
    "                return node.is_end\n",
    "            \n",
    "            if w[0] == '.':\n",
    "                for node in node.children.values():\n",
    "                    if dfs(w[1:], node):\n",
    "                        return True\n",
    "            else:\n",
    "                if w[0] in node.children:\n",
    "                    return dfs(w[1:], node.children[w[0]])\n",
    "                else:\n",
    "                    return False\n",
    "        \n",
    "        return dfs(word, self.root)"
   ]
  },
  {
   "cell_type": "code",
   "execution_count": 1,
   "metadata": {},
   "outputs": [
    {
     "data": {
      "text/plain": [
       "'4'"
      ]
     },
     "execution_count": 1,
     "metadata": {},
     "output_type": "execute_result"
    }
   ],
   "source": [
    "repr(4)"
   ]
  },
  {
   "cell_type": "code",
   "execution_count": 2,
   "metadata": {},
   "outputs": [
    {
     "name": "stdout",
     "output_type": "stream",
     "text": [
      "True\n"
     ]
    }
   ],
   "source": [
    "def foo(x):\n",
    "    x[0] = ['def']\n",
    "    x[1] = ['abc']\n",
    "    return id(x)\n",
    "q = ['abc','def']\n",
    "print(id(q) == foo(q))"
   ]
  },
  {
   "cell_type": "code",
   "execution_count": 3,
   "metadata": {},
   "outputs": [
    {
     "ename": "TypeError",
     "evalue": "'str' object does not support item assignment",
     "output_type": "error",
     "traceback": [
      "\u001b[0;31m---------------------------------------------------------------------------\u001b[0m",
      "\u001b[0;31mTypeError\u001b[0m                                 Traceback (most recent call last)",
      "\u001b[0;32m<ipython-input-3-cf6cefcc919f>\u001b[0m in \u001b[0;36m<module>\u001b[0;34m\u001b[0m\n\u001b[1;32m      1\u001b[0m \u001b[0ma\u001b[0m \u001b[0;34m=\u001b[0m \u001b[0;34m'Heell'\u001b[0m\u001b[0;34m\u001b[0m\u001b[0;34m\u001b[0m\u001b[0m\n\u001b[0;32m----> 2\u001b[0;31m \u001b[0ma\u001b[0m\u001b[0;34m[\u001b[0m\u001b[0;36m0\u001b[0m\u001b[0;34m]\u001b[0m \u001b[0;34m=\u001b[0m \u001b[0;34m'h'\u001b[0m\u001b[0;34m\u001b[0m\u001b[0;34m\u001b[0m\u001b[0m\n\u001b[0m",
      "\u001b[0;31mTypeError\u001b[0m: 'str' object does not support item assignment"
     ]
    }
   ],
   "source": [
    "a = 'Heell'\n",
    "a[0] = 'h'"
   ]
  },
  {
   "cell_type": "code",
   "execution_count": 4,
   "metadata": {},
   "outputs": [
    {
     "name": "stdout",
     "output_type": "stream",
     "text": [
      "4\n",
      "101\n",
      "Sales pptx\n",
      "10/02/2020,Rajesh,5MB\n",
      "102\n",
      "Report pptx\n",
      "Rohit,2MB,12/12/2019\n",
      "103\n",
      "Design Document docx\n",
      "4038KB,01/01/2020,Vijay\n",
      "104\n",
      "Test Approach docx\n",
      "385KB,Sujay,28/03/2020\n",
      "101 10/02/2020\n",
      "102 12/12/2019\n",
      "103 01/01/2020\n",
      "104 28/03/2020\n",
      "dox\n"
     ]
    },
    {
     "ename": "IndexError",
     "evalue": "list index out of range",
     "output_type": "error",
     "traceback": [
      "\u001b[0;31m---------------------------------------------------------------------------\u001b[0m",
      "\u001b[0;31mIndexError\u001b[0m                                Traceback (most recent call last)",
      "\u001b[0;32m<ipython-input-4-ec9e8aa9b07a>\u001b[0m in \u001b[0;36m<module>\u001b[0;34m\u001b[0m\n\u001b[1;32m     38\u001b[0m     \u001b[0mprint\u001b[0m\u001b[0;34m(\u001b[0m\u001b[0mi\u001b[0m\u001b[0;34m[\u001b[0m\u001b[0;36m0\u001b[0m\u001b[0;34m]\u001b[0m\u001b[0;34m,\u001b[0m\u001b[0mi\u001b[0m\u001b[0;34m[\u001b[0m\u001b[0;36m1\u001b[0m\u001b[0;34m]\u001b[0m\u001b[0;34m)\u001b[0m\u001b[0;34m\u001b[0m\u001b[0;34m\u001b[0m\u001b[0m\n\u001b[1;32m     39\u001b[0m \u001b[0mdocname\u001b[0m \u001b[0;34m=\u001b[0m \u001b[0minput\u001b[0m\u001b[0;34m(\u001b[0m\u001b[0;34m)\u001b[0m\u001b[0;34m\u001b[0m\u001b[0;34m\u001b[0m\u001b[0m\n\u001b[0;32m---> 40\u001b[0;31m \u001b[0mprint\u001b[0m\u001b[0;34m(\u001b[0m\u001b[0;34m'Document Count ='\u001b[0m\u001b[0;34m,\u001b[0m\u001b[0marchive\u001b[0m\u001b[0;34m.\u001b[0m\u001b[0mcountDocumentsOfGivenType\u001b[0m\u001b[0;34m(\u001b[0m\u001b[0mdocname\u001b[0m\u001b[0;34m)\u001b[0m\u001b[0;34m)\u001b[0m\u001b[0;34m\u001b[0m\u001b[0;34m\u001b[0m\u001b[0m\n\u001b[0m",
      "\u001b[0;32m<ipython-input-4-ec9e8aa9b07a>\u001b[0m in \u001b[0;36mcountDocumentsOfGivenType\u001b[0;34m(self, docName)\u001b[0m\n\u001b[1;32m     22\u001b[0m         \u001b[0mc\u001b[0m \u001b[0;34m=\u001b[0m \u001b[0;36m0\u001b[0m\u001b[0;34m\u001b[0m\u001b[0;34m\u001b[0m\u001b[0m\n\u001b[1;32m     23\u001b[0m         \u001b[0;32mfor\u001b[0m \u001b[0mdoc\u001b[0m \u001b[0;32min\u001b[0m \u001b[0mself\u001b[0m\u001b[0;34m.\u001b[0m\u001b[0mdocumentList\u001b[0m\u001b[0;34m:\u001b[0m\u001b[0;34m\u001b[0m\u001b[0;34m\u001b[0m\u001b[0m\n\u001b[0;32m---> 24\u001b[0;31m             \u001b[0mType\u001b[0m \u001b[0;34m=\u001b[0m \u001b[0mdoc\u001b[0m\u001b[0;34m.\u001b[0m\u001b[0mdocName\u001b[0m\u001b[0;34m.\u001b[0m\u001b[0msplit\u001b[0m\u001b[0;34m(\u001b[0m\u001b[0;34m'.'\u001b[0m\u001b[0;34m)\u001b[0m\u001b[0;34m[\u001b[0m\u001b[0;36m1\u001b[0m\u001b[0;34m]\u001b[0m\u001b[0;34m\u001b[0m\u001b[0;34m\u001b[0m\u001b[0m\n\u001b[0m\u001b[1;32m     25\u001b[0m             \u001b[0;32mif\u001b[0m \u001b[0mType\u001b[0m\u001b[0;34m==\u001b[0m\u001b[0mdocName\u001b[0m\u001b[0;34m:\u001b[0m\u001b[0;34m\u001b[0m\u001b[0;34m\u001b[0m\u001b[0m\n\u001b[1;32m     26\u001b[0m                 \u001b[0mc\u001b[0m\u001b[0;34m+=\u001b[0m\u001b[0;36m1\u001b[0m\u001b[0;34m\u001b[0m\u001b[0;34m\u001b[0m\u001b[0m\n",
      "\u001b[0;31mIndexError\u001b[0m: list index out of range"
     ]
    }
   ],
   "source": [
    "class Document:\n",
    "    def __init__(self, docid, name, details):\n",
    "        self.docid = docid\n",
    "        self.docName = name\n",
    "        self.docDetails = details\n",
    "class DocumentArchive:\n",
    "    def __init__(self, id, List ):\n",
    "        self.archiveId = id\n",
    "        self.documentList = List\n",
    "    def findDateFromDocumentDetails(self):\n",
    "        doclist = []\n",
    "        for doc in self.documentList:\n",
    "            val = doc.docDetails.split(',')\n",
    "            #print(val, doc.docDetails.count('/'))\n",
    "            if doc.docDetails.count('/')==2:\n",
    "                for x in val:\n",
    "                    if '/' in x:\n",
    "                        doclist.append((doc.docid,x))\n",
    "                        #print(x)\n",
    "        return doclist\n",
    "    def countDocumentsOfGivenType(self, docName):\n",
    "        c = 0\n",
    "        for doc in self.documentList:\n",
    "            Type = doc.docName.split('.')[1]\n",
    "            if Type==docName:\n",
    "                c+=1\n",
    "        return c\n",
    "n = int(input())\n",
    "documents = []\n",
    "for _ in range(n):\n",
    "    docid = input()\n",
    "    name = input()\n",
    "    details = input()\n",
    "    doc = Document(docid,name,details)\n",
    "    documents.append(doc)\n",
    "archive = DocumentArchive(10,documents)\n",
    "for i in archive.findDateFromDocumentDetails():\n",
    "    print(i[0],i[1])\n",
    "docname = input()\n",
    "print('Document Count =',archive.countDocumentsOfGivenType(docname))"
   ]
  },
  {
   "cell_type": "code",
   "execution_count": 5,
   "metadata": {},
   "outputs": [
    {
     "name": "stdout",
     "output_type": "stream",
     "text": [
      ".docx\n"
     ]
    },
    {
     "ename": "IndexError",
     "evalue": "list index out of range",
     "output_type": "error",
     "traceback": [
      "\u001b[0;31m---------------------------------------------------------------------------\u001b[0m",
      "\u001b[0;31mIndexError\u001b[0m                                Traceback (most recent call last)",
      "\u001b[0;32m<ipython-input-5-e6032ebac8e6>\u001b[0m in \u001b[0;36m<module>\u001b[0;34m\u001b[0m\n\u001b[1;32m      1\u001b[0m \u001b[0mdocname\u001b[0m \u001b[0;34m=\u001b[0m \u001b[0minput\u001b[0m\u001b[0;34m(\u001b[0m\u001b[0;34m)\u001b[0m\u001b[0;34m\u001b[0m\u001b[0;34m\u001b[0m\u001b[0m\n\u001b[0;32m----> 2\u001b[0;31m \u001b[0mprint\u001b[0m\u001b[0;34m(\u001b[0m\u001b[0;34m'Document Count ='\u001b[0m\u001b[0;34m,\u001b[0m\u001b[0marchive\u001b[0m\u001b[0;34m.\u001b[0m\u001b[0mcountDocumentsOfGivenType\u001b[0m\u001b[0;34m(\u001b[0m\u001b[0mdocname\u001b[0m\u001b[0;34m)\u001b[0m\u001b[0;34m)\u001b[0m\u001b[0;34m\u001b[0m\u001b[0;34m\u001b[0m\u001b[0m\n\u001b[0m",
      "\u001b[0;32m<ipython-input-4-ec9e8aa9b07a>\u001b[0m in \u001b[0;36mcountDocumentsOfGivenType\u001b[0;34m(self, docName)\u001b[0m\n\u001b[1;32m     22\u001b[0m         \u001b[0mc\u001b[0m \u001b[0;34m=\u001b[0m \u001b[0;36m0\u001b[0m\u001b[0;34m\u001b[0m\u001b[0;34m\u001b[0m\u001b[0m\n\u001b[1;32m     23\u001b[0m         \u001b[0;32mfor\u001b[0m \u001b[0mdoc\u001b[0m \u001b[0;32min\u001b[0m \u001b[0mself\u001b[0m\u001b[0;34m.\u001b[0m\u001b[0mdocumentList\u001b[0m\u001b[0;34m:\u001b[0m\u001b[0;34m\u001b[0m\u001b[0;34m\u001b[0m\u001b[0m\n\u001b[0;32m---> 24\u001b[0;31m             \u001b[0mType\u001b[0m \u001b[0;34m=\u001b[0m \u001b[0mdoc\u001b[0m\u001b[0;34m.\u001b[0m\u001b[0mdocName\u001b[0m\u001b[0;34m.\u001b[0m\u001b[0msplit\u001b[0m\u001b[0;34m(\u001b[0m\u001b[0;34m'.'\u001b[0m\u001b[0;34m)\u001b[0m\u001b[0;34m[\u001b[0m\u001b[0;36m1\u001b[0m\u001b[0;34m]\u001b[0m\u001b[0;34m\u001b[0m\u001b[0;34m\u001b[0m\u001b[0m\n\u001b[0m\u001b[1;32m     25\u001b[0m             \u001b[0;32mif\u001b[0m \u001b[0mType\u001b[0m\u001b[0;34m==\u001b[0m\u001b[0mdocName\u001b[0m\u001b[0;34m:\u001b[0m\u001b[0;34m\u001b[0m\u001b[0;34m\u001b[0m\u001b[0m\n\u001b[1;32m     26\u001b[0m                 \u001b[0mc\u001b[0m\u001b[0;34m+=\u001b[0m\u001b[0;36m1\u001b[0m\u001b[0;34m\u001b[0m\u001b[0;34m\u001b[0m\u001b[0m\n",
      "\u001b[0;31mIndexError\u001b[0m: list index out of range"
     ]
    }
   ],
   "source": [
    "docname = input()\n",
    "print('Document Count =',archive.countDocumentsOfGivenType(docname))"
   ]
  },
  {
   "cell_type": "code",
   "execution_count": null,
   "metadata": {},
   "outputs": [],
   "source": [
    "4\n",
    "101\n",
    "Sales pptx\n",
    "10/02/2020,Rajesh,5MB\n",
    "102\n",
    "Report pptx\n",
    "Rohit,2MB,12/12/2019\n",
    "103\n",
    "Design Document docx\n",
    "4038KB,01/01/2020,Vijay\n",
    "104\n",
    "Test Approach docx\n",
    "385KB,Sujay,28/03/2020\n",
    "101 10/02/2020\n",
    "102 12/12/2019\n",
    "103 01/01/2020\n",
    "104 28/03/2020\n",
    "dox"
   ]
  },
  {
   "cell_type": "code",
   "execution_count": 10,
   "metadata": {},
   "outputs": [
    {
     "name": "stdout",
     "output_type": "stream",
     "text": [
      "101 10/02/2020\n",
      "102 12/12/2019\n",
      "103 01/01/2020\n",
      "104 28/03/2020\n"
     ]
    }
   ],
   "source": [
    "for i in archive.findDateFromDocumentDetails():\n",
    "    print(i[0].rstrip().lstrip(),i[1].rstrip().lstrip())"
   ]
  },
  {
   "cell_type": "code",
   "execution_count": 9,
   "metadata": {},
   "outputs": [
    {
     "data": {
      "text/plain": [
       "True"
      ]
     },
     "execution_count": 9,
     "metadata": {},
     "output_type": "execute_result"
    }
   ],
   "source": [
    "'101 10/02/2020' == '101 10/02/2020'"
   ]
  },
  {
   "cell_type": "code",
   "execution_count": 13,
   "metadata": {},
   "outputs": [
    {
     "data": {
      "text/plain": [
       "'kjhjdf'"
      ]
     },
     "execution_count": 13,
     "metadata": {},
     "output_type": "execute_result"
    }
   ],
   "source": [
    "' kjhjdf '.strip()"
   ]
  },
  {
   "cell_type": "code",
   "execution_count": 17,
   "metadata": {},
   "outputs": [
    {
     "ename": "TypeError",
     "evalue": "unhashable type: 'list'",
     "output_type": "error",
     "traceback": [
      "\u001b[0;31m---------------------------------------------------------------------------\u001b[0m",
      "\u001b[0;31mTypeError\u001b[0m                                 Traceback (most recent call last)",
      "\u001b[0;32m<ipython-input-17-64c85ae683d8>\u001b[0m in \u001b[0;36m<module>\u001b[0;34m\u001b[0m\n\u001b[1;32m      1\u001b[0m \u001b[0ma\u001b[0m \u001b[0;34m=\u001b[0m \u001b[0mset\u001b[0m\u001b[0;34m(\u001b[0m\u001b[0;34m)\u001b[0m\u001b[0;34m\u001b[0m\u001b[0;34m\u001b[0m\u001b[0m\n\u001b[0;32m----> 2\u001b[0;31m \u001b[0ma\u001b[0m\u001b[0;34m.\u001b[0m\u001b[0madd\u001b[0m\u001b[0;34m(\u001b[0m\u001b[0;34m[\u001b[0m\u001b[0;36m3\u001b[0m\u001b[0;34m]\u001b[0m\u001b[0;34m)\u001b[0m\u001b[0;34m\u001b[0m\u001b[0;34m\u001b[0m\u001b[0m\n\u001b[0m\u001b[1;32m      3\u001b[0m \u001b[0ma\u001b[0m\u001b[0;34m.\u001b[0m\u001b[0madd\u001b[0m\u001b[0;34m(\u001b[0m\u001b[0;34m[\u001b[0m\u001b[0;36m4\u001b[0m\u001b[0;34m]\u001b[0m\u001b[0;34m)\u001b[0m\u001b[0;34m\u001b[0m\u001b[0;34m\u001b[0m\u001b[0m\n",
      "\u001b[0;31mTypeError\u001b[0m: unhashable type: 'list'"
     ]
    }
   ],
   "source": [
    "a = set()\n",
    "a.add([3])\n",
    "a.add([4])"
   ]
  },
  {
   "cell_type": "code",
   "execution_count": 15,
   "metadata": {},
   "outputs": [],
   "source": [
    "a = list(a)"
   ]
  },
  {
   "cell_type": "code",
   "execution_count": 16,
   "metadata": {},
   "outputs": [
    {
     "data": {
      "text/plain": [
       "[3, 4]"
      ]
     },
     "execution_count": 16,
     "metadata": {},
     "output_type": "execute_result"
    }
   ],
   "source": [
    "a"
   ]
  },
  {
   "cell_type": "code",
   "execution_count": 19,
   "metadata": {},
   "outputs": [
    {
     "data": {
      "text/plain": [
       "3"
      ]
     },
     "execution_count": 19,
     "metadata": {},
     "output_type": "execute_result"
    }
   ],
   "source": [
    "a = [2,2,3]\n",
    "''.join(map(str,a))\n",
    "a = (2,3)\n",
    "max(a)"
   ]
  },
  {
   "cell_type": "code",
   "execution_count": 23,
   "metadata": {},
   "outputs": [
    {
     "name": "stdout",
     "output_type": "stream",
     "text": [
      "1\n",
      "rajesh\n",
      "5\n",
      "120\n",
      "4\n",
      "normal\n",
      "2\n",
      "3\n",
      "over\n",
      "4\n",
      "6\n",
      "under\n",
      "0\n",
      "1\n",
      "ab\n",
      "7\n",
      "10\n",
      "rajesh\n",
      "5\n"
     ]
    }
   ],
   "source": [
    "class Person:\n",
    "    def __init__(self,name,height,weight,bmi=0,bmi_status=\"\"):\n",
    "        self.name = name\n",
    "        self.height = height\n",
    "        self.weight = weight\n",
    "        self.bmi = bmi\n",
    "        self.bmi_status = bmi_status\n",
    "    def calculateBmi(self):\n",
    "        self.bmi = int(self.weight/(self.height**2))\n",
    "    \n",
    "class Society:\n",
    "    def __init__(self,bmi_status,person_list):\n",
    "        self.bmi_status = bmi_status\n",
    "        self.person_list = person_list\n",
    "    def method1(self,string):\n",
    "        for obj in self.person_list:\n",
    "            if obj.name == string:\n",
    "                obj.calculateBmi()\n",
    "                for key, val in self.bmi_status.items():\n",
    "                    if min(val)<=obj.bmi<=max(val):\n",
    "                        obj.bmi_status = key\n",
    "                        return True\n",
    "        return False\n",
    "    def removeInvalidPersons(self,n):\n",
    "        res = []\n",
    "        for obj in self.person_list:\n",
    "            if obj.bmi<n:\n",
    "                res.append(obj.name)\n",
    "        return res\n",
    "person = []\n",
    "for _ in range(int(input())):\n",
    "    name = input()\n",
    "    height = int(input())\n",
    "    weight = int(input())\n",
    "    obj = Person(name,height,weight)\n",
    "    person.append(obj)\n",
    "statusDict = dict()\n",
    "for _ in range(int(input())):\n",
    "    status = input()\n",
    "    low = int(input())\n",
    "    high = int(input())\n",
    "    statusDict[status] = (low,high)\n",
    "result = Society(statusDict,person)\n",
    "l = result.method1(input())\n",
    "if l is False:\n",
    "    print(\"No Person Exists\")\n",
    "k  = int(input())\n",
    "result.removeInvalidPersons(k)"
   ]
  },
  {
   "cell_type": "code",
   "execution_count": 24,
   "metadata": {},
   "outputs": [],
   "source": [
    "result.removeInvalidPersons(k)"
   ]
  },
  {
   "cell_type": "code",
   "execution_count": 22,
   "metadata": {},
   "outputs": [
    {
     "name": "stdout",
     "output_type": "stream",
     "text": [
      "rajesh\n"
     ]
    },
    {
     "ename": "ValueError",
     "evalue": "too many values to unpack (expected 2)",
     "output_type": "error",
     "traceback": [
      "\u001b[0;31m---------------------------------------------------------------------------\u001b[0m",
      "\u001b[0;31mValueError\u001b[0m                                Traceback (most recent call last)",
      "\u001b[0;32m<ipython-input-22-23a43f3fab60>\u001b[0m in \u001b[0;36m<module>\u001b[0;34m\u001b[0m\n\u001b[0;32m----> 1\u001b[0;31m \u001b[0ml\u001b[0m \u001b[0;34m=\u001b[0m \u001b[0mresult\u001b[0m\u001b[0;34m.\u001b[0m\u001b[0mmethod1\u001b[0m\u001b[0;34m(\u001b[0m\u001b[0minput\u001b[0m\u001b[0;34m(\u001b[0m\u001b[0;34m)\u001b[0m\u001b[0;34m)\u001b[0m\u001b[0;34m\u001b[0m\u001b[0;34m\u001b[0m\u001b[0m\n\u001b[0m\u001b[1;32m      2\u001b[0m \u001b[0;32mif\u001b[0m \u001b[0ml\u001b[0m \u001b[0;32mis\u001b[0m \u001b[0;32mFalse\u001b[0m\u001b[0;34m:\u001b[0m\u001b[0;34m\u001b[0m\u001b[0;34m\u001b[0m\u001b[0m\n\u001b[1;32m      3\u001b[0m     \u001b[0mprint\u001b[0m\u001b[0;34m(\u001b[0m\u001b[0;34m\"No Person Exists\"\u001b[0m\u001b[0;34m)\u001b[0m\u001b[0;34m\u001b[0m\u001b[0;34m\u001b[0m\u001b[0m\n\u001b[1;32m      4\u001b[0m \u001b[0mk\u001b[0m  \u001b[0;34m=\u001b[0m \u001b[0mint\u001b[0m\u001b[0;34m(\u001b[0m\u001b[0minput\u001b[0m\u001b[0;34m(\u001b[0m\u001b[0;34m)\u001b[0m\u001b[0;34m)\u001b[0m\u001b[0;34m\u001b[0m\u001b[0;34m\u001b[0m\u001b[0m\n\u001b[1;32m      5\u001b[0m \u001b[0mresult\u001b[0m\u001b[0;34m.\u001b[0m\u001b[0mremoveInvalidPersons\u001b[0m\u001b[0;34m(\u001b[0m\u001b[0mk\u001b[0m\u001b[0;34m)\u001b[0m\u001b[0;34m\u001b[0m\u001b[0;34m\u001b[0m\u001b[0m\n",
      "\u001b[0;32m<ipython-input-20-d01bdf02b95a>\u001b[0m in \u001b[0;36mmethod1\u001b[0;34m(self, string)\u001b[0m\n\u001b[1;32m     17\u001b[0m             \u001b[0;32mif\u001b[0m \u001b[0mobj\u001b[0m\u001b[0;34m.\u001b[0m\u001b[0mname\u001b[0m \u001b[0;34m==\u001b[0m \u001b[0mstring\u001b[0m\u001b[0;34m:\u001b[0m\u001b[0;34m\u001b[0m\u001b[0;34m\u001b[0m\u001b[0m\n\u001b[1;32m     18\u001b[0m                 \u001b[0mobj\u001b[0m\u001b[0;34m.\u001b[0m\u001b[0mcalculateBmi\u001b[0m\u001b[0;34m(\u001b[0m\u001b[0;34m)\u001b[0m\u001b[0;34m\u001b[0m\u001b[0;34m\u001b[0m\u001b[0m\n\u001b[0;32m---> 19\u001b[0;31m                 \u001b[0;32mfor\u001b[0m \u001b[0mkey\u001b[0m\u001b[0;34m,\u001b[0m \u001b[0mval\u001b[0m \u001b[0;32min\u001b[0m \u001b[0mself\u001b[0m\u001b[0;34m.\u001b[0m\u001b[0mbmi_status\u001b[0m\u001b[0;34m:\u001b[0m\u001b[0;34m\u001b[0m\u001b[0;34m\u001b[0m\u001b[0m\n\u001b[0m\u001b[1;32m     20\u001b[0m                     \u001b[0;32mif\u001b[0m \u001b[0mmin\u001b[0m\u001b[0;34m(\u001b[0m\u001b[0mval\u001b[0m\u001b[0;34m)\u001b[0m\u001b[0;34m<=\u001b[0m\u001b[0mobj\u001b[0m\u001b[0;34m.\u001b[0m\u001b[0mbmi\u001b[0m\u001b[0;34m<=\u001b[0m\u001b[0mmax\u001b[0m\u001b[0;34m(\u001b[0m\u001b[0mval\u001b[0m\u001b[0;34m)\u001b[0m\u001b[0;34m:\u001b[0m\u001b[0;34m\u001b[0m\u001b[0;34m\u001b[0m\u001b[0m\n\u001b[1;32m     21\u001b[0m                         \u001b[0mobj\u001b[0m\u001b[0;34m.\u001b[0m\u001b[0mbmi_status\u001b[0m \u001b[0;34m=\u001b[0m \u001b[0mkey\u001b[0m\u001b[0;34m\u001b[0m\u001b[0;34m\u001b[0m\u001b[0m\n",
      "\u001b[0;31mValueError\u001b[0m: too many values to unpack (expected 2)"
     ]
    }
   ],
   "source": [
    "l = result.method1(input())\n",
    "if l is False:\n",
    "    print(\"No Person Exists\")\n",
    "k  = int(input())\n",
    "result.removeInvalidPersons(k)"
   ]
  },
  {
   "cell_type": "code",
   "execution_count": 4,
   "metadata": {},
   "outputs": [
    {
     "name": "stdout",
     "output_type": "stream",
     "text": [
      "201 203 205 207 209 211 213 215 217 219 221 223 225 227 229 231 233 235 237 239 241 243 245 247 249 "
     ]
    }
   ],
   "source": [
    "# answer 1\n",
    "# running while loop with condiion 3*i<=n with i starting from 1\n",
    "# the below function takes values of n,x,y and return the desire sum\n",
    "def solve(n,x,y):\n",
    "    i = 1\n",
    "    SUM = 0\n",
    "    while 3*i<=n:                             \n",
    "        SUM = SUM + ((3*i)**x)/(3*i + 1)**y\n",
    "        i+=1\n",
    "    return SUM\n",
    "solve(6,1,1)\n",
    "\n",
    "# answer 2\n",
    "# looping from 201 to 250 and checking if number is not divisible by 2\n",
    "# then it is even so print it and increament the number to check for next number\n",
    "def displayOdd():\n",
    "    start = 201\n",
    "    end = 250             \n",
    "    while start<=end:\n",
    "        if start%2 != 0:\n",
    "            print(start,end=\" \")\n",
    "        start+=1\n",
    "displayOdd()"
   ]
  },
  {
   "cell_type": "code",
   "execution_count": 2,
   "metadata": {},
   "outputs": [
    {
     "data": {
      "text/plain": [
       "1.6071428571428572"
      ]
     },
     "execution_count": 2,
     "metadata": {},
     "output_type": "execute_result"
    }
   ],
   "source": [
    "3/4 + 6/7"
   ]
  },
  {
   "cell_type": "code",
   "execution_count": 6,
   "metadata": {},
   "outputs": [
    {
     "name": "stdout",
     "output_type": "stream",
     "text": [
      "3 1 1\n",
      "4 2 1\n",
      "6 2 2\n",
      "5 3 1\n",
      "7 3 2\n",
      "9 3 3\n"
     ]
    }
   ],
   "source": [
    "p = 1\n",
    "for i in range(1,4):\n",
    "    for k in range(1,i+1):\n",
    "        p = 2*k\n",
    "        p+=i\n",
    "        print(p,i,k)"
   ]
  },
  {
   "cell_type": "code",
   "execution_count": null,
   "metadata": {},
   "outputs": [],
   "source": []
  },
  {
   "cell_type": "markdown",
   "metadata": {},
   "source": [
    "(outer iteration 1) when p =1 and i = 1\n",
    "         (inner iteration 1) k = 1\n",
    "             (putting the values of i and k to get p)\n",
    "             p = 2*1 = 2\n",
    "             p = 2+1 = 3\n",
    "(outer iteration 2) when p = 3 and i =2\n",
    "        (inner iteration 1) k =1\n",
    "            p = 2*1 =  2\n",
    "            p = 2+2 = 4\n",
    "        (inner iteration 2) k =2\n",
    "            p = 2*2 = 4\n",
    "            p = 4+2 = 6\n",
    "(outer iteration 3) when p = 6 and i = 3\n",
    "          (inner iteration 1) k =1\n",
    "            p = 2*1 =  2\n",
    "            p = 2+3 = 5\n",
    "        (inner iteration 2) k =2\n",
    "            p = 2*2 = 4\n",
    "            p = 4+3 = 7\n",
    "        (inner iteration 3) k = 3\n",
    "            p = 2*3 = 6\n",
    "            p = 6+3 = 9\n",
    " in the end value of p comes out to be 9\n",
    "            "
   ]
  },
  {
   "cell_type": "code",
   "execution_count": null,
   "metadata": {},
   "outputs": [],
   "source": [
    "create table invoice_item( id int NOT NULL, \n",
    "                          invoice_id int, \n",
    "                          product_id int,\n",
    "                          quantity int,\n",
    "                          price decimal(8,2),\n",
    "                          line_total_price decimal(8,2), \n",
    "                          PRIMARY KEY(id), FOREIGN KEY(invoice_id) REFERENCES(invoice.id), FOREIGN KEY(product_id) REFERENCES(product.id));\n"
   ]
  },
  {
   "cell_type": "code",
   "execution_count": 6,
   "metadata": {
    "scrolled": true
   },
   "outputs": [
    {
     "name": "stdout",
     "output_type": "stream",
     "text": [
      "0 2 1\n",
      "0 1 0\n"
     ]
    },
    {
     "data": {
      "text/plain": [
       "0"
      ]
     },
     "execution_count": 6,
     "metadata": {},
     "output_type": "execute_result"
    }
   ],
   "source": [
    "def solve(arr):\n",
    "    low = 0\n",
    "    high = len(arr)\n",
    "    while low<high:\n",
    "        mid =  (low+high)//2\n",
    "        print(low,high,mid)\n",
    "        if mid == arr[mid]:\n",
    "            return mid\n",
    "        elif mid>arr[mid]:\n",
    "            low = mid+1\n",
    "        else:\n",
    "            high = mid\n",
    "    return -1\n",
    "solve([0,3])"
   ]
  },
  {
   "cell_type": "code",
   "execution_count": 11,
   "metadata": {},
   "outputs": [
    {
     "data": {
      "text/plain": [
       "True"
      ]
     },
     "execution_count": 11,
     "metadata": {},
     "output_type": "execute_result"
    }
   ],
   "source": [
    "def isSubsequence(s,t):\n",
    "    n = len(s)\n",
    "    j = 0\n",
    "    for i in range(len(t)):\n",
    "        if s[j] == t[i]:\n",
    "            j+=1\n",
    "            if j == n:\n",
    "                return True\n",
    "    return False\n",
    "isSubsequence('0','1001011')"
   ]
  },
  {
   "cell_type": "code",
   "execution_count": 12,
   "metadata": {},
   "outputs": [
    {
     "name": "stdout",
     "output_type": "stream",
     "text": [
      "0\n"
     ]
    },
    {
     "data": {
      "text/plain": [
       "75"
      ]
     },
     "execution_count": 12,
     "metadata": {},
     "output_type": "execute_result"
    }
   ],
   "source": [
    "print(bin(0)[2:])\n",
    "int('1001011',2)"
   ]
  },
  {
   "cell_type": "code",
   "execution_count": 13,
   "metadata": {},
   "outputs": [
    {
     "name": "stdout",
     "output_type": "stream",
     "text": [
      "2\n",
      "1001011\n",
      "1100\n",
      "1111\n",
      "0\n"
     ]
    }
   ],
   "source": [
    "def isSubsequence(s,t):\n",
    "    n = len(s)\n",
    "    j = 0\n",
    "    for i in range(len(t)):\n",
    "        if s[j] == t[i]:\n",
    "            j+=1\n",
    "            if j == n:\n",
    "                return True\n",
    "    return False\n",
    "def mex(s):\n",
    "    num = int(s,2)\n",
    "    for i in range(num):\n",
    "        if not isSubsequence(bin(i)[2:],s):\n",
    "            return bin(i)[2:]\n",
    "for _ in range(int(input())):\n",
    "    s = input()\n",
    "    print(mex(s))"
   ]
  },
  {
   "cell_type": "code",
   "execution_count": 18,
   "metadata": {},
   "outputs": [
    {
     "data": {
      "text/plain": [
       "True"
      ]
     },
     "execution_count": 18,
     "metadata": {},
     "output_type": "execute_result"
    }
   ],
   "source": [
    "def isToeplitz(arr):\n",
    "    m = len(arr)\n",
    "    n = len(arr[0])\n",
    "    rotatedArray = arr[0][:-1]\n",
    "    for i in range(1,m):\n",
    "        if arr[i][1:] != rotatedArray:\n",
    "            return False\n",
    "        rotatedArray = arr[i][:-1]\n",
    "    return True\n",
    "isToeplitz([[1,2,3,4],\n",
    " [5,1,2,3],\n",
    " [6,5,1,2]])"
   ]
  },
  {
   "cell_type": "code",
   "execution_count": 1,
   "metadata": {},
   "outputs": [
    {
     "data": {
      "text/plain": [
       "['12', '234', '34']"
      ]
     },
     "execution_count": 1,
     "metadata": {},
     "output_type": "execute_result"
    }
   ],
   "source": [
    "\"12 234 34\".split()"
   ]
  },
  {
   "cell_type": "code",
   "execution_count": 2,
   "metadata": {},
   "outputs": [],
   "source": [
    "t = (1,2,3)"
   ]
  },
  {
   "cell_type": "code",
   "execution_count": 3,
   "metadata": {},
   "outputs": [
    {
     "data": {
      "text/plain": [
       "3"
      ]
     },
     "execution_count": 3,
     "metadata": {},
     "output_type": "execute_result"
    }
   ],
   "source": [
    "len(t)"
   ]
  },
  {
   "cell_type": "code",
   "execution_count": 4,
   "metadata": {},
   "outputs": [
    {
     "data": {
      "text/plain": [
       "3"
      ]
     },
     "execution_count": 4,
     "metadata": {},
     "output_type": "execute_result"
    }
   ],
   "source": [
    "max(t)"
   ]
  },
  {
   "cell_type": "code",
   "execution_count": 6,
   "metadata": {},
   "outputs": [
    {
     "ename": "TypeError",
     "evalue": "'tuple' object does not support item assignment",
     "output_type": "error",
     "traceback": [
      "\u001b[0;31m---------------------------------------------------------------------------\u001b[0m",
      "\u001b[0;31mTypeError\u001b[0m                                 Traceback (most recent call last)",
      "\u001b[0;32m<ipython-input-6-b9373972991e>\u001b[0m in \u001b[0;36m<module>\u001b[0;34m\u001b[0m\n\u001b[0;32m----> 1\u001b[0;31m \u001b[0mt\u001b[0m\u001b[0;34m[\u001b[0m\u001b[0;36m2\u001b[0m\u001b[0;34m]\u001b[0m \u001b[0;34m=\u001b[0m\u001b[0;36m4\u001b[0m\u001b[0;34m\u001b[0m\u001b[0;34m\u001b[0m\u001b[0m\n\u001b[0m",
      "\u001b[0;31mTypeError\u001b[0m: 'tuple' object does not support item assignment"
     ]
    }
   ],
   "source": [
    "t[2] =4"
   ]
  },
  {
   "cell_type": "code",
   "execution_count": 8,
   "metadata": {},
   "outputs": [
    {
     "data": {
      "text/plain": [
       "['python', 'is', 'popular', 'lang']"
      ]
     },
     "execution_count": 8,
     "metadata": {},
     "output_type": "execute_result"
    }
   ],
   "source": [
    "import re\n",
    "s = \"python is popular lang\"\n",
    "re.split(\"\\s\",s)"
   ]
  },
  {
   "cell_type": "code",
   "execution_count": 10,
   "metadata": {},
   "outputs": [
    {
     "data": {
      "text/plain": [
       "1"
      ]
     },
     "execution_count": 10,
     "metadata": {},
     "output_type": "execute_result"
    }
   ],
   "source": [
    "s = {'1':4}\n",
    "len(s)"
   ]
  },
  {
   "cell_type": "code",
   "execution_count": 34,
   "metadata": {},
   "outputs": [],
   "source": [
    "def findAvailableStock(products,product):\n",
    "    result = dict()\n",
    "    for pro in products:\n",
    "        if pro.productName in product:\n",
    "            result[pro.productName] = pro.quantityOnHand\n",
    "    if len(result) == 0:\n",
    "        return None\n",
    "    return result\n",
    "def updateStockByProductType(products,num,types):\n",
    "    flag = False\n",
    "    for pro in products:\n",
    "        if pro.productType == types:\n",
    "            if pro.quantityOnHand < pro.reorderingQuantity:\n",
    "                flag = True\n",
    "                pro.quantityOnHand+=num\n",
    "    if flag:\n",
    "        return flag\n",
    "    return None"
   ]
  },
  {
   "cell_type": "code",
   "execution_count": null,
   "metadata": {},
   "outputs": [
    {
     "name": "stdout",
     "output_type": "stream",
     "text": [
      "pen\n",
      "sta\n",
      "25\n",
      "30\n",
      "5\n",
      "pencil\n",
      "sta\n",
      "20\n",
      "20\n",
      "10\n",
      "soap\n"
     ]
    }
   ],
   "source": [
    "class Product:\n",
    "    def __init__(self,productName,productType,productPrice,quantityOnHand,reorderingQuantity):\n",
    "        self.productName=productName\n",
    "        self.productType=productType\n",
    "        self.productPrice=productPrice\n",
    "        self.quantityOnHand=quantityOnHand\n",
    "        self.reorderingQuantity=reorderingQuantity\n",
    "\"\"\"\n",
    "def findAvailableStock(products,product):\n",
    "    result = dict()\n",
    "    for pro in products:\n",
    "        if pro.productName in product:\n",
    "            result[pro.productName] = pro.quantityOnHand\n",
    "    if len(result) == 0:\n",
    "        return None\n",
    "    return result\n",
    "def updateStockByProductType(products,num,types):\n",
    "    flag = False\n",
    "    for pro in products:\n",
    "        if pro.productType == types:\n",
    "            if pro.quantityOnHand < pro.reorderingQuantity:\n",
    "                flag = True\n",
    "                pro.quantityOnHand+=num\n",
    "    if flag:\n",
    "        return products\n",
    "    return None\n",
    "\"\"\"\n",
    "pro = []\n",
    "for _ in range(5):\n",
    "    a = input()\n",
    "    b= input()\n",
    "    c = int(input())\n",
    "    d = int(input())\n",
    "    e = int(input())\n",
    "    obj = Product(a,b,c,d,e)\n",
    "    pro.append(obj)\n",
    "productList = [input() for _ in range(int(input()))]\n",
    "quatity =int(input())\n",
    "types = input()\n",
    "res = findAvailableStock(pro,productList)\n",
    "if res:\n",
    "    for key,val in res.items():\n",
    "        print(key,val)\n",
    "else:\n",
    "    print(\"Product Not Found\")\n",
    "k = updateStockByProductType(pro,quatity,types)\n",
    "if k:\n",
    "    for p in pro:\n",
    "        print(p.productName,p.quantityOnHand)\n",
    "else:\n",
    "    print('Product Not Found')\n"
   ]
  },
  {
   "cell_type": "code",
   "execution_count": 14,
   "metadata": {},
   "outputs": [
    {
     "name": "stdout",
     "output_type": "stream",
     "text": [
      "pen\n",
      "stationary\n",
      "25\n",
      "30\n",
      "5\n",
      "pencil\n",
      "stationary\n",
      "20\n",
      "20\n",
      "10\n",
      "soap\n",
      "body care\n",
      "15\n",
      "100\n",
      "30\n",
      "face cream\n",
      "cosmetics\n",
      "200\n",
      "10\n",
      "15\n",
      "shampoo\n",
      "body care\n",
      "100\n",
      "10\n",
      "15\n",
      "3\n",
      "soap\n",
      "face cream\n",
      "pen\n",
      "20\n",
      "body care\n",
      "pen 30\n",
      "soap 100\n",
      "face cream 10\n"
     ]
    },
    {
     "ename": "AttributeError",
     "evalue": "'list' object has no attribute 'quantityOnHand'",
     "output_type": "error",
     "traceback": [
      "\u001b[0;31m---------------------------------------------------------------------------\u001b[0m",
      "\u001b[0;31mAttributeError\u001b[0m                            Traceback (most recent call last)",
      "\u001b[0;32m<ipython-input-14-c3f624d0cef6>\u001b[0m in \u001b[0;36m<module>\u001b[0;34m\u001b[0m\n\u001b[1;32m     20\u001b[0m \u001b[0;32mif\u001b[0m \u001b[0mk\u001b[0m\u001b[0;34m:\u001b[0m\u001b[0;34m\u001b[0m\u001b[0;34m\u001b[0m\u001b[0m\n\u001b[1;32m     21\u001b[0m     \u001b[0;32mfor\u001b[0m \u001b[0mp\u001b[0m \u001b[0;32min\u001b[0m \u001b[0mpro\u001b[0m\u001b[0;34m:\u001b[0m\u001b[0;34m\u001b[0m\u001b[0;34m\u001b[0m\u001b[0m\n\u001b[0;32m---> 22\u001b[0;31m         \u001b[0mprint\u001b[0m\u001b[0;34m(\u001b[0m\u001b[0mp\u001b[0m\u001b[0;34m.\u001b[0m\u001b[0mproductName\u001b[0m\u001b[0;34m,\u001b[0m\u001b[0mpro\u001b[0m\u001b[0;34m.\u001b[0m\u001b[0mquantityOnHand\u001b[0m\u001b[0;34m)\u001b[0m\u001b[0;34m\u001b[0m\u001b[0;34m\u001b[0m\u001b[0m\n\u001b[0m\u001b[1;32m     23\u001b[0m \u001b[0;32melse\u001b[0m\u001b[0;34m:\u001b[0m\u001b[0;34m\u001b[0m\u001b[0;34m\u001b[0m\u001b[0m\n\u001b[1;32m     24\u001b[0m     \u001b[0mprint\u001b[0m\u001b[0;34m(\u001b[0m\u001b[0;34m'Product Not Found'\u001b[0m\u001b[0;34m)\u001b[0m\u001b[0;34m\u001b[0m\u001b[0;34m\u001b[0m\u001b[0m\n",
      "\u001b[0;31mAttributeError\u001b[0m: 'list' object has no attribute 'quantityOnHand'"
     ]
    }
   ],
   "source": [
    "pro = []\n",
    "for _ in range(5):\n",
    "    a = input()\n",
    "    b= input()\n",
    "    c = int(input())\n",
    "    d = int(input())\n",
    "    e = int(input())\n",
    "    obj = Product(a,b,c,d,e)\n",
    "    pro.append(obj)\n",
    "productList = [input() for _ in range(int(input()))]\n",
    "quatity =int(input())\n",
    "types = input()\n",
    "res = findAvailableStock(pro,productList)\n",
    "if res:\n",
    "    for key,val in res.items():\n",
    "        print(key,val)\n",
    "else:\n",
    "    print(\"Product Not Found\")\n",
    "k = updateStockByProductType(pro,quatity,types)\n",
    "if k:\n",
    "    for p in pro:\n",
    "        print(p.productName,p.quantityOnHand)\n",
    "else:\n",
    "    print('Product Not Found')"
   ]
  },
  {
   "cell_type": "code",
   "execution_count": 35,
   "metadata": {},
   "outputs": [
    {
     "name": "stdout",
     "output_type": "stream",
     "text": [
      "pen 30\n",
      "soap 100\n",
      "face cream 10\n",
      "pen 30\n",
      "pencil 20\n",
      "soap 160\n",
      "face cream 10\n",
      "shampoo 70\n"
     ]
    }
   ],
   "source": [
    "if res:\n",
    "    for key,val in res.items():\n",
    "        print(key,val)\n",
    "else:\n",
    "    print(\"Product Not Found\")\n",
    "k = updateStockByProductType(pro,quatity,types)\n",
    "if k:\n",
    "    for p in pro:\n",
    "        print(p.productName,p.quantityOnHand)\n",
    "else:\n",
    "    print('Product Not Found')"
   ]
  },
  {
   "cell_type": "code",
   "execution_count": 16,
   "metadata": {},
   "outputs": [
    {
     "name": "stdout",
     "output_type": "stream",
     "text": [
      "['soap', 'face cream', 'pen']\n"
     ]
    }
   ],
   "source": [
    "print(productList)"
   ]
  },
  {
   "cell_type": "code",
   "execution_count": 18,
   "metadata": {},
   "outputs": [
    {
     "name": "stdout",
     "output_type": "stream",
     "text": [
      "body care\n"
     ]
    }
   ],
   "source": [
    "print(types)"
   ]
  },
  {
   "cell_type": "code",
   "execution_count": null,
   "metadata": {},
   "outputs": [],
   "source": [
    "def solve(arr):\n",
    "    negative = 0\n",
    "    positive = 0\n",
    "    presum = 0\n",
    "    for i in range(len(arr)):\n",
    "        presum +=arr[i]\n",
    "        if arr[i]<0:\n",
    "            negative+=1\n",
    "        else:\n",
    "            positive+=1\n",
    "    return (presum/abs(negative-positive))\n",
    "arr = [1,8,-6,-1,6,8]\n",
    "solve(arr)"
   ]
  },
  {
   "cell_type": "code",
   "execution_count": 6,
   "metadata": {},
   "outputs": [
    {
     "name": "stdout",
     "output_type": "stream",
     "text": [
      "Name:        Rahul Yadav\n",
      "ID:          17U03046\n",
      "Enter mark  1: 67\n",
      "Enter mark  2: -90\n",
      "Invalid mark\n",
      "Enter mark  2: 90\n",
      "Enter mark  3: 82\n",
      "The marks are: 67.0 90.0 82.0\n",
      "The sum of the marks is  239.0\n",
      "The average of the marks is 79.66666666666667\n"
     ]
    }
   ],
   "source": [
    "def printNameId():\n",
    "    print(\"Name:        Krupa Rupapra\")\n",
    "    print(\"ID:          3011374160\")\n",
    "def enterMarks(marks):\n",
    "    i = 1\n",
    "    while i<4:\n",
    "        print(\"Enter mark \",i,end=\": \")\n",
    "        mark = float(input())\n",
    "        if mark<0 or mark>100:\n",
    "            print(\"Invalid mark\")\n",
    "            continue\n",
    "        else:\n",
    "            marks.append(mark)\n",
    "            i+=1\n",
    "    print(\"The marks are:\",*marks)\n",
    "def printSumAndAvg(marks):\n",
    "    sumOfNumbers = sum(marks)\n",
    "    avg = sumOfNumbers/len(marks)\n",
    "    print(\"The sum of the marks is \",sumOfNumbers)\n",
    "    print(\"The average of the marks is\",avg)\n",
    "if __name__ == \"__main__\":\n",
    "    printNameId()\n",
    "    marks = []\n",
    "    enterMarks(marks)\n",
    "    printSumAndAvg(marks)"
   ]
  },
  {
   "cell_type": "code",
   "execution_count": 3,
   "metadata": {},
   "outputs": [
    {
     "name": "stdout",
     "output_type": "stream",
     "text": [
      "Enter mark  1 22\n",
      "Enter mark  2 -3\n",
      "Invalid mark\n",
      "Enter mark  2 00\n",
      "Enter mark  3 5\n",
      "22.0 0.0 5.0\n"
     ]
    }
   ],
   "source": [
    "enterMarks()"
   ]
  },
  {
   "cell_type": "code",
   "execution_count": null,
   "metadata": {},
   "outputs": [],
   "source": [
    "websiteVisits = []\n",
    "appVisists = []\n",
    "for _ in range(int(input())):\n",
    "    time=int(input())\n",
    "    websiteVisits.append([time,0])\n",
    "for _ in range(int(input())):\n",
    "    time = int(input())\n",
    "    appVisists.append([time,1])\n",
    "result = []\n",
    "i = 0\n",
    "j = 0\n",
    "while i<len(websiteVisits) and j<len(appVisists):\n",
    "    if websiteVisits[i][0]<appVisists[j][0]:\n",
    "        result.append(websiteVisits[i])\n",
    "        i+=1\n",
    "    else:\n",
    "        result.append(appVisists[j])\n",
    "        j+=1\n",
    "while i<len(we)"
   ]
  }
 ],
 "metadata": {
  "kernelspec": {
   "display_name": "Python 3",
   "language": "python",
   "name": "python3"
  },
  "language_info": {
   "codemirror_mode": {
    "name": "ipython",
    "version": 3
   },
   "file_extension": ".py",
   "mimetype": "text/x-python",
   "name": "python",
   "nbconvert_exporter": "python",
   "pygments_lexer": "ipython3",
   "version": "3.8.3"
  }
 },
 "nbformat": 4,
 "nbformat_minor": 4
}
