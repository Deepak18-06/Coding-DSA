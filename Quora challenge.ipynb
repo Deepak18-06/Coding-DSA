{
 "cells": [
  {
   "cell_type": "code",
   "execution_count": 12,
   "metadata": {},
   "outputs": [
    {
     "name": "stdout",
     "output_type": "stream",
     "text": [
      "4 6\n",
      "3 2 3 3\n",
      "3 3 3 4\n",
      "4 3 4 4\n",
      "1 1 2 1\n",
      "1 4 2 4\n",
      "2 3 3 3\n",
      "defaultdict(<class 'list'>, {(2, 3): [(3, 2), (3, 3), (3, 4), (2, 3)], (4, 3): [(4, 3), (4, 4)], (1, 1): [(1, 1), (2, 1)], (1, 4): [(1, 4), (2, 4)]})\n"
     ]
    }
   ],
   "source": [
    "import collections\n",
    "def solve(A,B,n,m):\n",
    "    def find(x):\n",
    "        if parents.setdefault(x,x) != x:\n",
    "            parents[x] = find(parents[x])\n",
    "        return parents[x]\n",
    "    def union(x,y):\n",
    "        r1 = find(x)\n",
    "        r2 = find(y)\n",
    "        parents[r2] = r1\n",
    "    parents = {}\n",
    "    for a,b in zip(A,B):\n",
    "        union(a,b)\n",
    "    res = collections.defaultdict(list)\n",
    "    for node in parents:\n",
    "        res[find(node)].append(node)\n",
    "    print(n**2 - len(res))\n",
    "n,m = map(int,input().split())\n",
    "A = [0]*m\n",
    "B = [0]*m\n",
    "for i in range(m):\n",
    "    x1,y1,x2,y2 = map(int,input().split())\n",
    "    A[i] = (x1,y1)\n",
    "    B[i] = (x2,y2)\n",
    "solve(A,B,n,m)\n",
    "#print(A,B)"
   ]
  },
  {
   "cell_type": "code",
   "execution_count": null,
   "metadata": {},
   "outputs": [],
   "source": [
    "4 6\n",
    "3 2 3 3\n",
    "3 3 3 4\n",
    "4 3 4 4\n",
    "1 1 2 1\n",
    "1 4 2 4\n",
    "2 3 3 3"
   ]
  },
  {
   "cell_type": "code",
   "execution_count": 5,
   "metadata": {},
   "outputs": [
    {
     "name": "stdout",
     "output_type": "stream",
     "text": [
      "(3, 2) (3, 3)\n",
      "(3, 3) (3, 4)\n",
      "(4, 3) (4, 4)\n",
      "(1, 1) (2, 1)\n",
      "(1, 4) (2, 4)\n",
      "(2, 3) (3, 3)\n"
     ]
    }
   ],
   "source": [
    "for a, b in zip([(3, 2), (3, 3), (4, 3), (1, 1), (1, 4), (2, 3)],[(3, 3), (3, 4), (4, 4), (2, 1), (2, 4), (3, 3)]):\n",
    "    print(a,b)"
   ]
  },
  {
   "cell_type": "code",
   "execution_count": 4,
   "metadata": {},
   "outputs": [
    {
     "data": {
      "text/plain": [
       "{(1, 2): (2, 3)}"
      ]
     },
     "execution_count": 4,
     "metadata": {},
     "output_type": "execute_result"
    }
   ],
   "source": [
    "a"
   ]
  },
  {
   "cell_type": "code",
   "execution_count": null,
   "metadata": {},
   "outputs": [],
   "source": [
    "class TrieNode:\n",
    "    def __init__(self):\n",
    "        self.children = collections.defaultdict(TrieNode)\n",
    "        sefl.isEnd = False\n",
    "class WordDict:\n",
    "    def __init__(self):\n",
    "        self.root = TrieNode()\n",
    "    \n",
    "    def addWord(self,word):\n",
    "        cur = self.root\n",
    "        for c in word:\n",
    "            if c not in cur.children:\n",
    "                cur.children[c] = TrieNode()\n",
    "            cur = cur.children[c]\n",
    "        cur.isEnd = True\n",
    "    \n",
    "    def search(self,word):\n",
    "        def dfs(w,node):\n",
    "            if not w:\n",
    "                return node.isEnd\n",
    "            if w[0] == '.':\n",
    "                for node in node.children.values():\n",
    "                    if dfs(w[1:],node):\n",
    "                        return True\n",
    "            else:\n",
    "                if w[0] in node.children:\n",
    "                    return dfs(w[1:],)"
   ]
  },
  {
   "cell_type": "code",
   "execution_count": null,
   "metadata": {},
   "outputs": [],
   "source": [
    "class TrieNode:\n",
    "    def __init__(self):\n",
    "        self.children = defaultdict(TrieNode)\n",
    "        self.is_end = False\n",
    "        \n",
    "class WordDictionary:\n",
    "\n",
    "    def __init__(self):\n",
    "        self.root = TrieNode()\n",
    "        \n",
    "    def addWord(self, word: str) -> None:\n",
    "        cur = self.root\n",
    "        for c in word:\n",
    "            if c not in cur.children:\n",
    "                cur.children[c] = TrieNode()\n",
    "            cur = cur.children[c]\n",
    "    \n",
    "        cur.is_end = True\n",
    "\n",
    "    def search(self, word: str) -> bool:\n",
    "        def dfs(w, node):\n",
    "            if not w:\n",
    "                return node.is_end\n",
    "            \n",
    "            if w[0] == '.':\n",
    "                for node in node.children.values():\n",
    "                    if dfs(w[1:], node):\n",
    "                        return True\n",
    "            else:\n",
    "                if w[0] in node.children:\n",
    "                    return dfs(w[1:], node.children[w[0]])\n",
    "                else:\n",
    "                    return False\n",
    "        \n",
    "        return dfs(word, self.root)"
   ]
  }
 ],
 "metadata": {
  "kernelspec": {
   "display_name": "Python 3",
   "language": "python",
   "name": "python3"
  },
  "language_info": {
   "codemirror_mode": {
    "name": "ipython",
    "version": 3
   },
   "file_extension": ".py",
   "mimetype": "text/x-python",
   "name": "python",
   "nbconvert_exporter": "python",
   "pygments_lexer": "ipython3",
   "version": "3.8.3"
  }
 },
 "nbformat": 4,
 "nbformat_minor": 4
}
