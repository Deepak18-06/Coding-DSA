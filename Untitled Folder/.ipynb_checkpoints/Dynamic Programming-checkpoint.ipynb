{
 "cells": [
  {
   "cell_type": "markdown",
   "metadata": {},
   "source": [
    "# 0 1 knapsack"
   ]
  },
  {
   "cell_type": "code",
   "execution_count": 5,
   "metadata": {},
   "outputs": [],
   "source": [
    "# \n",
    "def knapsack(wt,val,W,n):\n",
    "    dp = [[0 for x  in range(W+1)] for x in range(n+1)]\n",
    "    for i in range(1,n+1):\n",
    "        for w in range(1,W+1):\n",
    "            if i == 0 or w == 0:\n",
    "                dp[i][w] =0\n",
    "            elif wt[i-1] <= w:\n",
    "                dp[i][w] = max(val[i-1] + dp[i-1][w-wt[i-1]],dp[i-1][w])\n",
    "            else:\n",
    "                dp[i][w] = dp[i-1][w]\n",
    "    return dp[n][W]"
   ]
  },
  {
   "cell_type": "code",
   "execution_count": 6,
   "metadata": {},
   "outputs": [
    {
     "ename": "SyntaxError",
     "evalue": "invalid syntax (<ipython-input-6-d2a1f53a754f>, line 9)",
     "output_type": "error",
     "traceback": [
      "\u001b[0;36m  File \u001b[0;32m\"<ipython-input-6-d2a1f53a754f>\"\u001b[0;36m, line \u001b[0;32m9\u001b[0m\n\u001b[0;31m    return dp[n][W] = max(val[n-1]+knapsack(wt,val,W-wt[n-1],n-1),knapsack(wt,val,W,n-1))\u001b[0m\n\u001b[0m                    ^\u001b[0m\n\u001b[0;31mSyntaxError\u001b[0m\u001b[0;31m:\u001b[0m invalid syntax\n"
     ]
    }
   ],
   "source": [
    "global dp \n",
    "dp = [[-1 for x in range(100)] for x in range(100)]\n",
    "def knapsack(wt,val,W,n):\n",
    "    if W==0 or n == 0:\n",
    "        return 0\n",
    "    if dp[n][W] != -1:\n",
    "        return dp[n][W]\n",
    "    if wt[n-1] <= W:\n",
    "        return dp[n][W] = max(val[n-1]+knapsack(wt,val,W-wt[n-1],n-1),knapsack(wt,val,W,n-1))\n",
    "    if wt[n-1]>W:\n",
    "        return dp[n][W] = knapsack(wt,val,W,n-1)"
   ]
  },
  {
   "cell_type": "markdown",
   "metadata": {},
   "source": [
    "# unbounded knapsack"
   ]
  },
  {
   "cell_type": "code",
   "execution_count": null,
   "metadata": {},
   "outputs": [],
   "source": [
    "def knapsack(wt,val,W,n):\n",
    "    dp = [[0 for x  in range(W+1)] for x in range(n+1)]\n",
    "    for i in range(1,n+1):\n",
    "        for w in range(1,W+1):\n",
    "            if i == 0 or w == 0:\n",
    "                dp[i][w] =0\n",
    "            elif wt[i-1] <= w:\n",
    "                # change is we are calling again the same item to be include and leaving item same as\n",
    "                #before which is not included\n",
    "                dp[i][w] = max(val[i-1] + dp[i][w-wt[i-1]],dp[i-1][w])\n",
    "            else:\n",
    "                dp[i][w] = dp[i-1][w]\n",
    "    return dp[n][W]"
   ]
  },
  {
   "cell_type": "code",
   "execution_count": null,
   "metadata": {},
   "outputs": [],
   "source": [
    "global dp \n",
    "dp = [[-1 for x in range(100)] for x in range(100)]\n",
    "def knapsack(wt,val,W,n):\n",
    "    if W==0 or n == 0:\n",
    "        return 0\n",
    "    if dp[n][W] != -1:\n",
    "        return dp[n][W]\n",
    "    if wt[n-1] <= W:                                    \n",
    "        return dp[n][W] = max(val[n-1]+knapsack(wt,val,W-wt[n-1],n),knapsack(wt,val,W,n-1))\n",
    "                                                        #change--^ n in place of n-1\n",
    "    if wt[n-1]>W:\n",
    "        return dp[n][W] = knapsack(wt,val,W,n-1)"
   ]
  },
  {
   "cell_type": "code",
   "execution_count": null,
   "metadata": {},
   "outputs": [],
   "source": [
    "def unboundedKnapsack(W, n, val, wt): \n",
    "  \n",
    "    # dp[i] is going to store maximum  \n",
    "    # value with knapsack capacity i. \n",
    "    dp = [0 for i in range(W + 1)] \n",
    "  \n",
    "    ans = 0\n",
    "  \n",
    "    # Fill dp[] using above recursive formula \n",
    "    for i in range(W + 1): \n",
    "        for j in range(n): \n",
    "            if (wt[j] <= i): \n",
    "                dp[i] = max(dp[i], dp[i - wt[j]] + val[j]) \n",
    "  \n",
    "    return dp[W] "
   ]
  }
 ],
 "metadata": {
  "kernelspec": {
   "display_name": "Python 3",
   "language": "python",
   "name": "python3"
  },
  "language_info": {
   "codemirror_mode": {
    "name": "ipython",
    "version": 3
   },
   "file_extension": ".py",
   "mimetype": "text/x-python",
   "name": "python",
   "nbconvert_exporter": "python",
   "pygments_lexer": "ipython3",
   "version": "3.8.3"
  }
 },
 "nbformat": 4,
 "nbformat_minor": 4
}
