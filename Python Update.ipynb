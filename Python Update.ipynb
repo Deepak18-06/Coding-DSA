{
 "cells": [
  {
   "cell_type": "code",
   "execution_count": 3,
   "id": "9bc0bd49",
   "metadata": {},
   "outputs": [
    {
     "name": "stdout",
     "output_type": "stream",
     "text": [
      "1\n"
     ]
    }
   ],
   "source": [
    "n = 1\n",
    "print(n)"
   ]
  },
  {
   "cell_type": "code",
   "execution_count": 4,
   "id": "d3629f0d",
   "metadata": {},
   "outputs": [
    {
     "data": {
      "text/plain": [
       "int"
      ]
     },
     "execution_count": 4,
     "metadata": {},
     "output_type": "execute_result"
    }
   ],
   "source": [
    "type(n)"
   ]
  },
  {
   "cell_type": "code",
   "execution_count": 6,
   "id": "9da904e7",
   "metadata": {},
   "outputs": [
    {
     "name": "stdout",
     "output_type": "stream",
     "text": [
      "abc\n"
     ]
    }
   ],
   "source": [
    "n = 'abc'\n",
    "print(n)"
   ]
  },
  {
   "cell_type": "code",
   "execution_count": 7,
   "id": "d9681801",
   "metadata": {},
   "outputs": [
    {
     "data": {
      "text/plain": [
       "str"
      ]
     },
     "execution_count": 7,
     "metadata": {},
     "output_type": "execute_result"
    }
   ],
   "source": [
    "type(n)"
   ]
  },
  {
   "cell_type": "code",
   "execution_count": 8,
   "id": "4d404eda",
   "metadata": {},
   "outputs": [],
   "source": [
    "# Dynamically typed language"
   ]
  },
  {
   "cell_type": "code",
   "execution_count": 10,
   "id": "1fb87230",
   "metadata": {},
   "outputs": [
    {
     "name": "stdout",
     "output_type": "stream",
     "text": [
      "0 a\n"
     ]
    }
   ],
   "source": [
    "n, m = 0, \"a\"\n",
    "print(n,m)"
   ]
  },
  {
   "cell_type": "code",
   "execution_count": 12,
   "id": "5093141e",
   "metadata": {},
   "outputs": [
    {
     "name": "stdout",
     "output_type": "stream",
     "text": [
      "2\n"
     ]
    }
   ],
   "source": [
    "n+=1\n",
    "print(n)"
   ]
  },
  {
   "cell_type": "code",
   "execution_count": 13,
   "id": "3cdc6afc",
   "metadata": {},
   "outputs": [],
   "source": [
    "a = None\n"
   ]
  },
  {
   "cell_type": "code",
   "execution_count": 14,
   "id": "ef75b33c",
   "metadata": {},
   "outputs": [
    {
     "name": "stdout",
     "output_type": "stream",
     "text": [
      "None\n"
     ]
    }
   ],
   "source": [
    "print(a)"
   ]
  },
  {
   "cell_type": "code",
   "execution_count": 15,
   "id": "09080ccf",
   "metadata": {},
   "outputs": [
    {
     "data": {
      "text/plain": [
       "NoneType"
      ]
     },
     "execution_count": 15,
     "metadata": {},
     "output_type": "execute_result"
    }
   ],
   "source": [
    "type(a)"
   ]
  },
  {
   "cell_type": "markdown",
   "id": "05be91e2",
   "metadata": {},
   "source": [
    "```\n",
    "this is code\n",
    "```"
   ]
  },
  {
   "cell_type": "code",
   "execution_count": 22,
   "id": "f36a6282",
   "metadata": {},
   "outputs": [
    {
     "name": "stdout",
     "output_type": "stream",
     "text": [
      "one\n"
     ]
    }
   ],
   "source": [
    "a = 1\n",
    "if a == 2:\n",
    "    print(\"two\")\n",
    "elif a == 1:\n",
    "    print(\"one\")\n",
    "else:\n",
    "    print(\"none\")"
   ]
  },
  {
   "cell_type": "markdown",
   "id": "b3ed7ee8",
   "metadata": {},
   "source": [
    "&& in other languages -> and in python"
   ]
  },
  {
   "cell_type": "markdown",
   "id": "cb249981",
   "metadata": {},
   "source": [
    "|| in other languages and or in python"
   ]
  },
  {
   "cell_type": "code",
   "execution_count": 23,
   "id": "46010b8e",
   "metadata": {},
   "outputs": [
    {
     "name": "stdout",
     "output_type": "stream",
     "text": [
      "10\n",
      "9\n",
      "8\n",
      "7\n",
      "6\n",
      "5\n",
      "4\n",
      "3\n",
      "2\n",
      "1\n"
     ]
    }
   ],
   "source": [
    "a = 10\n",
    "while a != 0:\n",
    "    print(a)\n",
    "    a-=1"
   ]
  },
  {
   "cell_type": "code",
   "execution_count": 24,
   "id": "05087699",
   "metadata": {},
   "outputs": [
    {
     "name": "stdout",
     "output_type": "stream",
     "text": [
      "0\n",
      "1\n",
      "2\n",
      "3\n",
      "4\n"
     ]
    }
   ],
   "source": [
    "for i in range(5):\n",
    "    print(i)"
   ]
  },
  {
   "cell_type": "code",
   "execution_count": 25,
   "id": "1b815a5d",
   "metadata": {},
   "outputs": [
    {
     "name": "stdout",
     "output_type": "stream",
     "text": [
      "2\n",
      "3\n",
      "4\n",
      "5\n"
     ]
    }
   ],
   "source": [
    "for i in range(2,6):\n",
    "    print(i)"
   ]
  },
  {
   "cell_type": "code",
   "execution_count": 26,
   "id": "b1ab3ab8",
   "metadata": {},
   "outputs": [
    {
     "name": "stdout",
     "output_type": "stream",
     "text": [
      "5\n",
      "4\n",
      "3\n",
      "2\n"
     ]
    }
   ],
   "source": [
    "for i in range(5, 1, -1):\n",
    "    print(i)"
   ]
  },
  {
   "cell_type": "code",
   "execution_count": 27,
   "id": "07d2f6bc",
   "metadata": {},
   "outputs": [
    {
     "name": "stdout",
     "output_type": "stream",
     "text": [
      "2.5\n"
     ]
    }
   ],
   "source": [
    "print(5/2)"
   ]
  },
  {
   "cell_type": "code",
   "execution_count": 28,
   "id": "4bfb8503",
   "metadata": {},
   "outputs": [
    {
     "name": "stdout",
     "output_type": "stream",
     "text": [
      "2\n"
     ]
    }
   ],
   "source": [
    "print(5//2)"
   ]
  },
  {
   "cell_type": "code",
   "execution_count": 29,
   "id": "2758395e",
   "metadata": {},
   "outputs": [
    {
     "name": "stdout",
     "output_type": "stream",
     "text": [
      "1\n"
     ]
    }
   ],
   "source": [
    "print(5%2)"
   ]
  },
  {
   "cell_type": "code",
   "execution_count": 30,
   "id": "8f2af350",
   "metadata": {},
   "outputs": [
    {
     "name": "stdout",
     "output_type": "stream",
     "text": [
      "2\n"
     ]
    }
   ],
   "source": [
    "print(-10 % 3)"
   ]
  },
  {
   "cell_type": "code",
   "execution_count": 32,
   "id": "312a5fc0",
   "metadata": {},
   "outputs": [
    {
     "name": "stdout",
     "output_type": "stream",
     "text": [
      "2\n"
     ]
    }
   ],
   "source": [
    "import math\n",
    "print(math.ceil(3/2))"
   ]
  },
  {
   "cell_type": "code",
   "execution_count": 33,
   "id": "459a76fa",
   "metadata": {},
   "outputs": [
    {
     "name": "stdout",
     "output_type": "stream",
     "text": [
      "inf\n"
     ]
    }
   ],
   "source": [
    "# max\n",
    "print(float(\"inf\"))"
   ]
  },
  {
   "cell_type": "code",
   "execution_count": 34,
   "id": "454feeef",
   "metadata": {},
   "outputs": [
    {
     "name": "stdout",
     "output_type": "stream",
     "text": [
      "-inf\n"
     ]
    }
   ],
   "source": [
    "# min\n",
    "print(float(\"-inf\"))"
   ]
  },
  {
   "cell_type": "code",
   "execution_count": 35,
   "id": "7e0ad891",
   "metadata": {},
   "outputs": [
    {
     "name": "stdout",
     "output_type": "stream",
     "text": [
      "1.6069380442589903e+60\n"
     ]
    }
   ],
   "source": [
    "# python numbers are infinite and they never overflow\n",
    "print(math.pow(2, 200))"
   ]
  },
  {
   "cell_type": "markdown",
   "id": "aef78aa6",
   "metadata": {},
   "source": [
    "# Arrays"
   ]
  },
  {
   "cell_type": "code",
   "execution_count": 41,
   "id": "28aa5dff",
   "metadata": {},
   "outputs": [
    {
     "name": "stdout",
     "output_type": "stream",
     "text": [
      "[1, 2, 3]\n",
      "[1, 2, 3, 4]\n",
      "[1, 2, 3]\n",
      "[1, 7, 2, 3]\n"
     ]
    }
   ],
   "source": [
    "arr = [1,2,3]\n",
    "print(arr)\n",
    "arr.append(4)\n",
    "print(arr)\n",
    "arr.pop()\n",
    "print(arr)\n",
    "arr.insert(1,7)\n",
    "print(arr)"
   ]
  },
  {
   "cell_type": "code",
   "execution_count": 44,
   "id": "807b0922",
   "metadata": {},
   "outputs": [],
   "source": [
    "arr.insert(99,0)"
   ]
  },
  {
   "cell_type": "code",
   "execution_count": 45,
   "id": "54309a06",
   "metadata": {},
   "outputs": [
    {
     "name": "stdout",
     "output_type": "stream",
     "text": [
      "[1, 7, 2, 3, 0, 0]\n"
     ]
    }
   ],
   "source": [
    "print(arr)"
   ]
  },
  {
   "cell_type": "code",
   "execution_count": 46,
   "id": "86504f01",
   "metadata": {},
   "outputs": [
    {
     "data": {
      "text/plain": [
       "1"
      ]
     },
     "execution_count": 46,
     "metadata": {},
     "output_type": "execute_result"
    }
   ],
   "source": [
    "arr[0]"
   ]
  },
  {
   "cell_type": "code",
   "execution_count": 47,
   "id": "16563f97",
   "metadata": {},
   "outputs": [],
   "source": [
    "arr[2] = 99"
   ]
  },
  {
   "cell_type": "code",
   "execution_count": 48,
   "id": "b3a9312e",
   "metadata": {},
   "outputs": [
    {
     "name": "stdout",
     "output_type": "stream",
     "text": [
      "[1, 7, 99, 3, 0, 0]\n"
     ]
    }
   ],
   "source": [
    "print(arr)"
   ]
  },
  {
   "cell_type": "code",
   "execution_count": 49,
   "id": "62b4a5fa",
   "metadata": {},
   "outputs": [
    {
     "name": "stdout",
     "output_type": "stream",
     "text": [
      "[0, 0, 0, 0, 0, 0, 0, 0, 0]\n"
     ]
    }
   ],
   "source": [
    "n = 9\n",
    "arr = [0]*n\n",
    "print(arr)"
   ]
  },
  {
   "cell_type": "code",
   "execution_count": 50,
   "id": "db234f63",
   "metadata": {},
   "outputs": [
    {
     "data": {
      "text/plain": [
       "[0, 0, 0]"
      ]
     },
     "execution_count": 50,
     "metadata": {},
     "output_type": "execute_result"
    }
   ],
   "source": [
    "arr[:3]"
   ]
  },
  {
   "cell_type": "code",
   "execution_count": 52,
   "id": "f38e2cc5",
   "metadata": {},
   "outputs": [],
   "source": [
    "#unpacking\n"
   ]
  },
  {
   "cell_type": "code",
   "execution_count": 53,
   "id": "47b4042e",
   "metadata": {},
   "outputs": [
    {
     "name": "stdout",
     "output_type": "stream",
     "text": [
      "0\n",
      "0\n",
      "0\n",
      "0\n",
      "0\n",
      "0\n",
      "0\n",
      "0\n",
      "0\n"
     ]
    }
   ],
   "source": [
    "for i in range(len(arr)):\n",
    "    print(arr[i])"
   ]
  },
  {
   "cell_type": "code",
   "execution_count": 55,
   "id": "7e05f212",
   "metadata": {},
   "outputs": [
    {
     "name": "stdout",
     "output_type": "stream",
     "text": [
      "0 0\n",
      "1 0\n",
      "2 0\n",
      "3 0\n",
      "4 0\n",
      "5 0\n",
      "6 0\n",
      "7 0\n",
      "8 0\n"
     ]
    }
   ],
   "source": [
    "for i , n in enumerate(arr):\n",
    "    print(i,n)"
   ]
  },
  {
   "cell_type": "code",
   "execution_count": 57,
   "id": "546e3f6c",
   "metadata": {},
   "outputs": [
    {
     "name": "stdout",
     "output_type": "stream",
     "text": [
      "1 a\n",
      "2 b\n",
      "3 c\n",
      "4 d\n",
      "5 e\n"
     ]
    }
   ],
   "source": [
    "arr1 = [1,2,3,4,5, 6]\n",
    "arr2 = ['a', 'b', 'c','d','e']\n",
    "for n1, n2 in zip(arr1, arr2):\n",
    "    print(n1,n2)"
   ]
  },
  {
   "cell_type": "code",
   "execution_count": 58,
   "id": "5d50b46a",
   "metadata": {},
   "outputs": [],
   "source": [
    "arr1.reverse()"
   ]
  },
  {
   "cell_type": "code",
   "execution_count": 59,
   "id": "1dcea684",
   "metadata": {},
   "outputs": [
    {
     "data": {
      "text/plain": [
       "[6, 5, 4, 3, 2, 1]"
      ]
     },
     "execution_count": 59,
     "metadata": {},
     "output_type": "execute_result"
    }
   ],
   "source": [
    "arr1"
   ]
  },
  {
   "cell_type": "code",
   "execution_count": 64,
   "id": "74f2a767",
   "metadata": {},
   "outputs": [],
   "source": [
    "arr1.sort(reverse = True)"
   ]
  },
  {
   "cell_type": "code",
   "execution_count": 65,
   "id": "2e64ccc6",
   "metadata": {},
   "outputs": [
    {
     "data": {
      "text/plain": [
       "[6, 5, 4, 3, 2, 1]"
      ]
     },
     "execution_count": 65,
     "metadata": {},
     "output_type": "execute_result"
    }
   ],
   "source": [
    "arr1"
   ]
  },
  {
   "cell_type": "code",
   "execution_count": 66,
   "id": "2a730c41",
   "metadata": {},
   "outputs": [],
   "source": [
    "arr = ['abc', 'bcd', 'dcsdf', 'ahdo']"
   ]
  },
  {
   "cell_type": "code",
   "execution_count": 68,
   "id": "7194fbfb",
   "metadata": {},
   "outputs": [],
   "source": [
    "arr.sort()"
   ]
  },
  {
   "cell_type": "code",
   "execution_count": 69,
   "id": "0ba824bf",
   "metadata": {},
   "outputs": [
    {
     "data": {
      "text/plain": [
       "['abc', 'ahdo', 'bcd', 'dcsdf']"
      ]
     },
     "execution_count": 69,
     "metadata": {},
     "output_type": "execute_result"
    }
   ],
   "source": [
    "arr"
   ]
  },
  {
   "cell_type": "code",
   "execution_count": 70,
   "id": "741c467d",
   "metadata": {},
   "outputs": [],
   "source": [
    "arr.sort(key=lambda x: len(x))"
   ]
  },
  {
   "cell_type": "code",
   "execution_count": 71,
   "id": "56b44ad4",
   "metadata": {},
   "outputs": [
    {
     "data": {
      "text/plain": [
       "['abc', 'bcd', 'ahdo', 'dcsdf']"
      ]
     },
     "execution_count": 71,
     "metadata": {},
     "output_type": "execute_result"
    }
   ],
   "source": [
    "arr"
   ]
  },
  {
   "cell_type": "code",
   "execution_count": 74,
   "id": "90f16f1f",
   "metadata": {},
   "outputs": [],
   "source": [
    "arr = [i+i for i in range(5)]"
   ]
  },
  {
   "cell_type": "code",
   "execution_count": 75,
   "id": "79ccdadd",
   "metadata": {},
   "outputs": [
    {
     "data": {
      "text/plain": [
       "[0, 2, 4, 6, 8]"
      ]
     },
     "execution_count": 75,
     "metadata": {},
     "output_type": "execute_result"
    }
   ],
   "source": [
    "arr"
   ]
  },
  {
   "cell_type": "code",
   "execution_count": 76,
   "id": "1b00765c",
   "metadata": {},
   "outputs": [],
   "source": [
    "arr = [[0]*4 for i in range(4)]"
   ]
  },
  {
   "cell_type": "code",
   "execution_count": 77,
   "id": "13464a53",
   "metadata": {},
   "outputs": [
    {
     "data": {
      "text/plain": [
       "[[0, 0, 0, 0], [0, 0, 0, 0], [0, 0, 0, 0], [0, 0, 0, 0]]"
      ]
     },
     "execution_count": 77,
     "metadata": {},
     "output_type": "execute_result"
    }
   ],
   "source": [
    "arr"
   ]
  },
  {
   "cell_type": "markdown",
   "id": "b7e199af",
   "metadata": {},
   "source": [
    "# Strings"
   ]
  },
  {
   "cell_type": "code",
   "execution_count": 78,
   "id": "790d172c",
   "metadata": {},
   "outputs": [
    {
     "name": "stdout",
     "output_type": "stream",
     "text": [
      "c\n"
     ]
    }
   ],
   "source": [
    "s = 'abc'\n",
    "print(s[2])"
   ]
  },
  {
   "cell_type": "code",
   "execution_count": 79,
   "id": "e58f103a",
   "metadata": {},
   "outputs": [
    {
     "name": "stdout",
     "output_type": "stream",
     "text": [
      "abcc\n"
     ]
    }
   ],
   "source": [
    "s+='c'\n",
    "print(s)"
   ]
  },
  {
   "cell_type": "code",
   "execution_count": 80,
   "id": "5046efdd",
   "metadata": {},
   "outputs": [
    {
     "name": "stdout",
     "output_type": "stream",
     "text": [
      "97\n"
     ]
    }
   ],
   "source": [
    "print(ord('a'))"
   ]
  },
  {
   "cell_type": "code",
   "execution_count": 81,
   "id": "92e05724",
   "metadata": {},
   "outputs": [
    {
     "name": "stdout",
     "output_type": "stream",
     "text": [
      "65\n"
     ]
    }
   ],
   "source": [
    "print(ord('A'))"
   ]
  },
  {
   "cell_type": "code",
   "execution_count": 82,
   "id": "4d924d39",
   "metadata": {},
   "outputs": [
    {
     "data": {
      "text/plain": [
       "'abcc'"
      ]
     },
     "execution_count": 82,
     "metadata": {},
     "output_type": "execute_result"
    }
   ],
   "source": [
    "s"
   ]
  },
  {
   "cell_type": "code",
   "execution_count": 85,
   "id": "0f49e822",
   "metadata": {},
   "outputs": [
    {
     "name": "stdout",
     "output_type": "stream",
     "text": [
      "abc, bcd, dfs\n"
     ]
    }
   ],
   "source": [
    "strings = ['abc', 'bcd', 'dfs']\n",
    "print(\", \".join(strings))"
   ]
  },
  {
   "cell_type": "markdown",
   "id": "5a4b3723",
   "metadata": {},
   "source": [
    "# Queue"
   ]
  },
  {
   "cell_type": "code",
   "execution_count": 86,
   "id": "34dd6bd6",
   "metadata": {},
   "outputs": [],
   "source": [
    "from collections import deque\n",
    "queue = deque()"
   ]
  },
  {
   "cell_type": "code",
   "execution_count": 87,
   "id": "236cf79e",
   "metadata": {},
   "outputs": [
    {
     "name": "stdout",
     "output_type": "stream",
     "text": [
      "deque([1, 2])\n"
     ]
    }
   ],
   "source": [
    "queue.append(1)\n",
    "queue.append(2)\n",
    "print(queue)"
   ]
  },
  {
   "cell_type": "code",
   "execution_count": 88,
   "id": "4e829f3b",
   "metadata": {},
   "outputs": [
    {
     "data": {
      "text/plain": [
       "1"
      ]
     },
     "execution_count": 88,
     "metadata": {},
     "output_type": "execute_result"
    }
   ],
   "source": [
    "queue.popleft()"
   ]
  },
  {
   "cell_type": "code",
   "execution_count": 89,
   "id": "47e663a9",
   "metadata": {},
   "outputs": [
    {
     "data": {
      "text/plain": [
       "deque([2])"
      ]
     },
     "execution_count": 89,
     "metadata": {},
     "output_type": "execute_result"
    }
   ],
   "source": [
    "queue"
   ]
  },
  {
   "cell_type": "code",
   "execution_count": 90,
   "id": "8ec1658b",
   "metadata": {},
   "outputs": [],
   "source": [
    "queue.appendleft(1)"
   ]
  },
  {
   "cell_type": "code",
   "execution_count": 91,
   "id": "623c908a",
   "metadata": {},
   "outputs": [
    {
     "data": {
      "text/plain": [
       "deque([1, 2])"
      ]
     },
     "execution_count": 91,
     "metadata": {},
     "output_type": "execute_result"
    }
   ],
   "source": [
    "queue"
   ]
  },
  {
   "cell_type": "code",
   "execution_count": 93,
   "id": "8ce029b8",
   "metadata": {},
   "outputs": [
    {
     "data": {
      "text/plain": [
       "2"
      ]
     },
     "execution_count": 93,
     "metadata": {},
     "output_type": "execute_result"
    }
   ],
   "source": [
    "queue.pop()"
   ]
  },
  {
   "cell_type": "code",
   "execution_count": 94,
   "id": "d9630f3e",
   "metadata": {},
   "outputs": [
    {
     "data": {
      "text/plain": [
       "deque([1])"
      ]
     },
     "execution_count": 94,
     "metadata": {},
     "output_type": "execute_result"
    }
   ],
   "source": [
    "queue\n"
   ]
  },
  {
   "cell_type": "markdown",
   "id": "a2da3b75",
   "metadata": {},
   "source": [
    "# Hashsets"
   ]
  },
  {
   "cell_type": "code",
   "execution_count": 96,
   "id": "e0483119",
   "metadata": {},
   "outputs": [
    {
     "name": "stdout",
     "output_type": "stream",
     "text": [
      "{1, 2}\n",
      "2\n"
     ]
    }
   ],
   "source": [
    "mySet = set()\n",
    "mySet.add(1)\n",
    "mySet.add(2)\n",
    "mySet.add(2)\n",
    "print(mySet)\n",
    "print(len(mySet))"
   ]
  },
  {
   "cell_type": "code",
   "execution_count": 97,
   "id": "51a13a5b",
   "metadata": {},
   "outputs": [
    {
     "data": {
      "text/plain": [
       "True"
      ]
     },
     "execution_count": 97,
     "metadata": {},
     "output_type": "execute_result"
    }
   ],
   "source": [
    "1 in mySet"
   ]
  },
  {
   "cell_type": "code",
   "execution_count": 98,
   "id": "393912b7",
   "metadata": {},
   "outputs": [],
   "source": [
    "mySet.remove(2)"
   ]
  },
  {
   "cell_type": "code",
   "execution_count": 99,
   "id": "5df4492a",
   "metadata": {},
   "outputs": [
    {
     "data": {
      "text/plain": [
       "{1}"
      ]
     },
     "execution_count": 99,
     "metadata": {},
     "output_type": "execute_result"
    }
   ],
   "source": [
    "mySet"
   ]
  },
  {
   "cell_type": "code",
   "execution_count": 100,
   "id": "025ad839",
   "metadata": {},
   "outputs": [
    {
     "data": {
      "text/plain": [
       "{1, 2, 3}"
      ]
     },
     "execution_count": 100,
     "metadata": {},
     "output_type": "execute_result"
    }
   ],
   "source": [
    "arr = [1,2,3]\n",
    "set(arr)"
   ]
  },
  {
   "cell_type": "markdown",
   "id": "c63a869c",
   "metadata": {},
   "source": [
    "# HashMap"
   ]
  },
  {
   "cell_type": "code",
   "execution_count": 101,
   "id": "0be30aeb",
   "metadata": {},
   "outputs": [],
   "source": [
    "myMap = {}\n",
    "myMap[\"deepak\"] = 1"
   ]
  },
  {
   "cell_type": "code",
   "execution_count": 102,
   "id": "626096a4",
   "metadata": {},
   "outputs": [
    {
     "data": {
      "text/plain": [
       "{'deepak': 1}"
      ]
     },
     "execution_count": 102,
     "metadata": {},
     "output_type": "execute_result"
    }
   ],
   "source": [
    "myMap"
   ]
  },
  {
   "cell_type": "code",
   "execution_count": 103,
   "id": "60a1e2d9",
   "metadata": {},
   "outputs": [
    {
     "data": {
      "text/plain": [
       "1"
      ]
     },
     "execution_count": 103,
     "metadata": {},
     "output_type": "execute_result"
    }
   ],
   "source": [
    "myMap.pop('deepak')"
   ]
  },
  {
   "cell_type": "code",
   "execution_count": 104,
   "id": "81b0f87c",
   "metadata": {},
   "outputs": [
    {
     "data": {
      "text/plain": [
       "{}"
      ]
     },
     "execution_count": 104,
     "metadata": {},
     "output_type": "execute_result"
    }
   ],
   "source": [
    "myMap"
   ]
  },
  {
   "cell_type": "code",
   "execution_count": 105,
   "id": "0c6d1f76",
   "metadata": {},
   "outputs": [],
   "source": [
    "myMap = {i: 0 for i in range(5)}"
   ]
  },
  {
   "cell_type": "code",
   "execution_count": 106,
   "id": "b93bbbe1",
   "metadata": {},
   "outputs": [
    {
     "data": {
      "text/plain": [
       "{0: 0, 1: 0, 2: 0, 3: 0, 4: 0}"
      ]
     },
     "execution_count": 106,
     "metadata": {},
     "output_type": "execute_result"
    }
   ],
   "source": [
    "myMap"
   ]
  },
  {
   "cell_type": "code",
   "execution_count": 109,
   "id": "f63d7373",
   "metadata": {},
   "outputs": [
    {
     "name": "stdout",
     "output_type": "stream",
     "text": [
      "0 0\n",
      "1 0\n",
      "2 0\n",
      "3 0\n",
      "4 0\n"
     ]
    }
   ],
   "source": [
    "for key in myMap:\n",
    "    print(key, myMap[key])"
   ]
  },
  {
   "cell_type": "code",
   "execution_count": 111,
   "id": "b7f9b1ba",
   "metadata": {},
   "outputs": [
    {
     "name": "stdout",
     "output_type": "stream",
     "text": [
      "0\n",
      "0\n",
      "0\n",
      "0\n",
      "0\n"
     ]
    }
   ],
   "source": [
    "for val in myMap.values():\n",
    "    print(val)"
   ]
  },
  {
   "cell_type": "code",
   "execution_count": 112,
   "id": "0192f778",
   "metadata": {},
   "outputs": [
    {
     "name": "stdout",
     "output_type": "stream",
     "text": [
      "0 0\n",
      "1 0\n",
      "2 0\n",
      "3 0\n",
      "4 0\n"
     ]
    }
   ],
   "source": [
    "for key, val in myMap.items():\n",
    "    print(key,val)"
   ]
  },
  {
   "cell_type": "markdown",
   "id": "4945a1a1",
   "metadata": {},
   "source": [
    "# Tuples"
   ]
  },
  {
   "cell_type": "code",
   "execution_count": 113,
   "id": "0b309fa6",
   "metadata": {},
   "outputs": [],
   "source": [
    "a = (1,2,3)"
   ]
  },
  {
   "cell_type": "code",
   "execution_count": 114,
   "id": "5f5dbd37",
   "metadata": {},
   "outputs": [
    {
     "data": {
      "text/plain": [
       "(1, 2, 3)"
      ]
     },
     "execution_count": 114,
     "metadata": {},
     "output_type": "execute_result"
    }
   ],
   "source": [
    "a"
   ]
  },
  {
   "cell_type": "code",
   "execution_count": 115,
   "id": "7c4e3398",
   "metadata": {},
   "outputs": [
    {
     "name": "stdout",
     "output_type": "stream",
     "text": [
      "2\n"
     ]
    }
   ],
   "source": [
    "print(a[1])"
   ]
  },
  {
   "cell_type": "code",
   "execution_count": 117,
   "id": "aef8df15",
   "metadata": {},
   "outputs": [],
   "source": [
    "# can't modify tuples"
   ]
  },
  {
   "cell_type": "code",
   "execution_count": 118,
   "id": "578d111c",
   "metadata": {},
   "outputs": [],
   "source": [
    "# list are not hashable\n"
   ]
  },
  {
   "cell_type": "markdown",
   "id": "0ca01ab1",
   "metadata": {},
   "source": [
    "# Heaps"
   ]
  },
  {
   "cell_type": "code",
   "execution_count": 119,
   "id": "6a348b13",
   "metadata": {},
   "outputs": [],
   "source": [
    "# min heap by default\n",
    "import heapq\n",
    "minHeap = []\n",
    "heapq.heappush(minHeap, 3)"
   ]
  },
  {
   "cell_type": "code",
   "execution_count": 121,
   "id": "5c7db935",
   "metadata": {},
   "outputs": [
    {
     "data": {
      "text/plain": [
       "[3]"
      ]
     },
     "execution_count": 121,
     "metadata": {},
     "output_type": "execute_result"
    }
   ],
   "source": [
    "minHeap\n",
    "# min are always at index 0"
   ]
  },
  {
   "cell_type": "code",
   "execution_count": 122,
   "id": "303371ad",
   "metadata": {},
   "outputs": [
    {
     "name": "stdout",
     "output_type": "stream",
     "text": [
      "3\n"
     ]
    }
   ],
   "source": [
    "while len(minHeap):\n",
    "    print(heapq.heappop(minHeap))"
   ]
  },
  {
   "cell_type": "code",
   "execution_count": 123,
   "id": "52600672",
   "metadata": {},
   "outputs": [],
   "source": [
    "# for maxheap\n",
    "# use - before and after pushing and poping"
   ]
  },
  {
   "cell_type": "code",
   "execution_count": 124,
   "id": "679a5da9",
   "metadata": {},
   "outputs": [],
   "source": [
    "arr = [5,2,3,4,5]\n",
    "heapq.heapify(arr)"
   ]
  },
  {
   "cell_type": "code",
   "execution_count": 125,
   "id": "b55f8c40",
   "metadata": {},
   "outputs": [
    {
     "data": {
      "text/plain": [
       "[2, 4, 3, 5, 5]"
      ]
     },
     "execution_count": 125,
     "metadata": {},
     "output_type": "execute_result"
    }
   ],
   "source": [
    "arr"
   ]
  },
  {
   "cell_type": "markdown",
   "id": "a6885264",
   "metadata": {},
   "source": [
    "# Functions"
   ]
  },
  {
   "cell_type": "code",
   "execution_count": 126,
   "id": "2a2793d0",
   "metadata": {},
   "outputs": [
    {
     "name": "stdout",
     "output_type": "stream",
     "text": [
      "2 3\n"
     ]
    }
   ],
   "source": [
    "def myFunc(n, m):\n",
    "    print(n, m)\n",
    "myFunc(2,3)"
   ]
  },
  {
   "cell_type": "code",
   "execution_count": 127,
   "id": "ca3ae353",
   "metadata": {},
   "outputs": [
    {
     "name": "stdout",
     "output_type": "stream",
     "text": [
      "abc\n"
     ]
    }
   ],
   "source": [
    "# nested function\n",
    "def outer(a,b):\n",
    "    c = 'c'\n",
    "    \n",
    "    def inner():\n",
    "        return a+b+c\n",
    "    return inner()\n",
    "print(outer('a', 'b'))"
   ]
  },
  {
   "cell_type": "markdown",
   "id": "9e88e032",
   "metadata": {},
   "source": [
    "# Classes"
   ]
  },
  {
   "cell_type": "code",
   "execution_count": 138,
   "id": "49e77c7e",
   "metadata": {},
   "outputs": [],
   "source": [
    "class MyClass:\n",
    "    #constructor\n",
    "    def __init__(self, nums):\n",
    "        self.nums = nums\n",
    "        self.size = len(nums)\n",
    "    \n",
    "    def getLength(self):\n",
    "        return self.size\n",
    "    def getDoubleLength(self):\n",
    "        return 2 * self.getLength()\n",
    "myObject = MyClass([1,3,4])"
   ]
  },
  {
   "cell_type": "code",
   "execution_count": 139,
   "id": "74218dd4",
   "metadata": {},
   "outputs": [
    {
     "data": {
      "text/plain": [
       "<__main__.MyClass at 0x104922f10>"
      ]
     },
     "execution_count": 139,
     "metadata": {},
     "output_type": "execute_result"
    }
   ],
   "source": [
    "myObject"
   ]
  },
  {
   "cell_type": "code",
   "execution_count": 140,
   "id": "f2ceea14",
   "metadata": {},
   "outputs": [
    {
     "data": {
      "text/plain": [
       "[1, 3, 4]"
      ]
     },
     "execution_count": 140,
     "metadata": {},
     "output_type": "execute_result"
    }
   ],
   "source": [
    "myObject.nums"
   ]
  },
  {
   "cell_type": "code",
   "execution_count": 141,
   "id": "d23dece7",
   "metadata": {},
   "outputs": [
    {
     "data": {
      "text/plain": [
       "3"
      ]
     },
     "execution_count": 141,
     "metadata": {},
     "output_type": "execute_result"
    }
   ],
   "source": [
    "myObject.size"
   ]
  },
  {
   "cell_type": "code",
   "execution_count": 142,
   "id": "a02e27eb",
   "metadata": {},
   "outputs": [
    {
     "data": {
      "text/plain": [
       "3"
      ]
     },
     "execution_count": 142,
     "metadata": {},
     "output_type": "execute_result"
    }
   ],
   "source": [
    "myObject.getLength()"
   ]
  },
  {
   "cell_type": "code",
   "execution_count": 143,
   "id": "875f0102",
   "metadata": {},
   "outputs": [
    {
     "data": {
      "text/plain": [
       "6"
      ]
     },
     "execution_count": 143,
     "metadata": {},
     "output_type": "execute_result"
    }
   ],
   "source": [
    "myObject.getDoubleLength()"
   ]
  },
  {
   "cell_type": "code",
   "execution_count": null,
   "id": "8b88d04a",
   "metadata": {},
   "outputs": [],
   "source": []
  }
 ],
 "metadata": {
  "kernelspec": {
   "display_name": "Python 3 (ipykernel)",
   "language": "python",
   "name": "python3"
  },
  "language_info": {
   "codemirror_mode": {
    "name": "ipython",
    "version": 3
   },
   "file_extension": ".py",
   "mimetype": "text/x-python",
   "name": "python",
   "nbconvert_exporter": "python",
   "pygments_lexer": "ipython3",
   "version": "3.11.5"
  }
 },
 "nbformat": 4,
 "nbformat_minor": 5
}
