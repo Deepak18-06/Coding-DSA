{
 "cells": [
  {
   "cell_type": "markdown",
   "metadata": {},
   "source": [
    "# Stack\n",
    "<br> <b>whenver there are two loops in a brute force solution of a problem and the inner loop depends on outer loop then we need to see if we can optimize the code using stack"
   ]
  },
  {
   "cell_type": "code",
   "execution_count": 10,
   "metadata": {},
   "outputs": [
    {
     "name": "stdout",
     "output_type": "stream",
     "text": [
      "<__main__.Stack object at 0x116e70050>\n",
      "[1, 2]\n",
      "[1]\n",
      "[]\n",
      "-1\n"
     ]
    }
   ],
   "source": [
    "class Stack:\n",
    "#     def __init__(self):\n",
    "#         self.stack = [0]*1000\n",
    "#         self.top = -1\n",
    "#     def push(self,val):\n",
    "#         self.top+=1\n",
    "#         self.stack[top] = val\n",
    "#     def pop(self):\n",
    "#         self.top -=1\n",
    "    def push(self,val):\n",
    "        self.stack.append(val)\n",
    "    def pop(self):\n",
    "        if len(self.stack) <=0:\n",
    "            return -1\n",
    "        else:\n",
    "            return self.stack.pop()\n",
    "a = Stack()\n",
    "print(a)\n",
    "a.push(1)\n",
    "a.push(2)\n",
    "print(a.stack)\n",
    "a.pop()\n",
    "print(a.stack)\n",
    "a.pop()\n",
    "print(a.stack)\n",
    "print(a.pop())"
   ]
  },
  {
   "cell_type": "markdown",
   "metadata": {},
   "source": [
    "### 1. Nearest greater right"
   ]
  },
  {
   "cell_type": "code",
   "execution_count": 5,
   "metadata": {},
   "outputs": [
    {
     "name": "stdout",
     "output_type": "stream",
     "text": [
      "[3, 4, 4, -1]\n"
     ]
    }
   ],
   "source": [
    "def NGR(arr):\n",
    "    stack =[]\n",
    "    res = []\n",
    "    for i in range(len(arr)-1,-1,-1):\n",
    "        if len(stack) == 0:\n",
    "            res.append(-1)\n",
    "        elif len(stack)>0 and stack[-1]>arr[i]:\n",
    "            res.append(stack[-1])\n",
    "        elif len(stack)>0 and stack[-1]<arr[i]:\n",
    "            while len(stack)>0 and stack[-1] < arr[i]:\n",
    "                stack.pop()\n",
    "            if len(stack)==0:\n",
    "                res.append(-1)\n",
    "            else:\n",
    "                res.append(stack[-1])\n",
    "        stack.append(arr[i])\n",
    "    return res\n",
    "            \n",
    "arr = [1,3,2,4]\n",
    "result = NGR(arr)\n",
    "print(result[::-1])"
   ]
  },
  {
   "cell_type": "markdown",
   "metadata": {},
   "source": [
    "### 2. Nearest greater to left"
   ]
  },
  {
   "cell_type": "code",
   "execution_count": 14,
   "metadata": {},
   "outputs": [
    {
     "name": "stdout",
     "output_type": "stream",
     "text": [
      "[-1, -1, 3, -1]\n"
     ]
    }
   ],
   "source": [
    "def NGL(arr):\n",
    "    stack =[]\n",
    "    res = []\n",
    "    for i in range(len(arr)): # here is the change\n",
    "        if len(stack) == 0:\n",
    "            res.append(-1)\n",
    "        elif len(stack)>0 and stack[-1]>arr[i]:\n",
    "            res.append(stack[-1])\n",
    "        elif len(stack)>0 and stack[-1]<arr[i]:\n",
    "            while len(stack)>0 and stack[-1] < arr[i]:\n",
    "                stack.pop()\n",
    "            if len(stack)==0:\n",
    "                res.append(-1)\n",
    "            else:\n",
    "                res.append(stack[-1])\n",
    "        stack.append(arr[i])\n",
    "    return res\n",
    "            \n",
    "arr = [1,3,2,4]\n",
    "result = NGL(arr)\n",
    "print(result)\n"
   ]
  },
  {
   "cell_type": "code",
   "execution_count": 15,
   "metadata": {},
   "outputs": [
    {
     "name": "stdout",
     "output_type": "stream",
     "text": [
      "[-1, -1, 3, -1]\n"
     ]
    }
   ],
   "source": [
    "def nearestGreaterElementToLeft(arr):\n",
    "    res = []\n",
    "    stack = []\n",
    "    for i in range(len(arr)):\n",
    "        while stack and arr[i] > stack[-1]:\n",
    "            stack.pop()\n",
    "        if len(stack) == 0:\n",
    "            res.append(-1)\n",
    "        else:\n",
    "            res.append(stack[-1])\n",
    "        stack.append(arr[i])\n",
    "    return res\n",
    "arr = [1,3,2,4]\n",
    "result = nearestGreaterElementToLeft(arr)\n",
    "print(result)"
   ]
  },
  {
   "cell_type": "markdown",
   "metadata": {},
   "source": [
    "### 3. Nearest smaller to left"
   ]
  },
  {
   "cell_type": "code",
   "execution_count": 25,
   "metadata": {},
   "outputs": [
    {
     "data": {
      "text/plain": [
       "[-1, -1, 1, 5, 1, 2]"
      ]
     },
     "execution_count": 25,
     "metadata": {},
     "output_type": "execute_result"
    }
   ],
   "source": [
    "def NSL(arr):\n",
    "    stack = []\n",
    "    res = []\n",
    "    for i in range(len(arr)):\n",
    "        if len(stack) == 0:\n",
    "            res.append(-1)\n",
    "        elif len(stack) >0 and arr[i]>stack[-1]:\n",
    "            res.append(stack[-1])\n",
    "        elif len(stack) >0 and arr[i]<=stack[-1]:\n",
    "            while len(stack)>0 and arr[i]<=stack[-1]:\n",
    "                stack.pop()\n",
    "            if len(stack) == 0:\n",
    "                res.append(-1)\n",
    "            else:\n",
    "                res.append(stack[-1])\n",
    "        stack.append(arr[i])\n",
    "    return res\n",
    "arr = [2,1,5,6,2,3]\n",
    "NSL(arr)"
   ]
  },
  {
   "cell_type": "markdown",
   "metadata": {},
   "source": [
    "### 4. Nearest smaller to right"
   ]
  },
  {
   "cell_type": "code",
   "execution_count": 12,
   "metadata": {},
   "outputs": [
    {
     "name": "stdout",
     "output_type": "stream",
     "text": [
      "[2, 2, -1, 8, -1]\n"
     ]
    }
   ],
   "source": [
    "def NSR(arr):\n",
    "    stack = []\n",
    "    res = []\n",
    "    for i in range(len(arr)-1,-1,-1):\n",
    "        if len(stack) == 0:\n",
    "            res.append(-1)\n",
    "        elif len(stack) >0 and arr[i]>stack[-1]:\n",
    "            res.append(stack[-1])\n",
    "        elif len(stack) >0 and arr[i]<=stack[-1]:\n",
    "            while len(stack)>0 and arr[i]<=stack[-1]:\n",
    "                stack.pop()\n",
    "            if len(stack) == 0:\n",
    "                res.append(-1)\n",
    "            else:\n",
    "                res.append(stack[-1])\n",
    "        stack.append(arr[i])\n",
    "    return res\n",
    "arr = [4,5,2,10,8]\n",
    "result = NSR(arr)\n",
    "print(result[::-1])"
   ]
  },
  {
   "cell_type": "markdown",
   "metadata": {},
   "source": [
    "### 5. Stock Span Problem"
   ]
  },
  {
   "cell_type": "code",
   "execution_count": 16,
   "metadata": {},
   "outputs": [
    {
     "name": "stdout",
     "output_type": "stream",
     "text": [
      "[-1, 0, 1, 1, 3, 1, 0]\n",
      "1 1 1 2 1 4 6 "
     ]
    }
   ],
   "source": [
    "# using ngr\n",
    "def Stock(arr):\n",
    "    stack =[]\n",
    "    res = []\n",
    "    for i in range(len(arr)): # here is the change\n",
    "        if len(stack) == 0:\n",
    "            res.append(-1)\n",
    "        elif len(stack)>0 and stack[-1][0]>arr[i]:\n",
    "            res.append(stack[-1][1])\n",
    "        elif len(stack)>0 and stack[-1][0]<arr[i]:\n",
    "            while len(stack)>0 and stack[-1][0] < arr[i]:\n",
    "                stack.pop()\n",
    "            if len(stack)==0:\n",
    "                res.append(-1)\n",
    "            else:\n",
    "                res.append(stack[-1][1])\n",
    "        stack.append([arr[i],i])\n",
    "    return res\n",
    "            \n",
    "arr = [100,80,60,70,60,75,85]\n",
    "result = Stock(arr)\n",
    "print(result)\n",
    "for i in range(len(result)):\n",
    "    print(i - result[i],end = \" \")"
   ]
  },
  {
   "cell_type": "code",
   "execution_count": 22,
   "metadata": {},
   "outputs": [
    {
     "name": "stdout",
     "output_type": "stream",
     "text": [
      "[1, 1, 1, 2, 1, 4, 6]\n"
     ]
    }
   ],
   "source": [
    "def stockSpanProblem(arr):\n",
    "    stack = []\n",
    "    res = []\n",
    "    for i in range(len(arr)):\n",
    "        while stack and stack[-1][0] <= arr[i]:\n",
    "            stack.pop()\n",
    "        if stack:\n",
    "            res.append(i - stack[-1][1])\n",
    "        else:\n",
    "            res.append(1)\n",
    "        stack.append((arr[i],i))\n",
    "    return res\n",
    "arr = [100,80,60,70,60,75,85]\n",
    "result = stockSpanProblem(arr)\n",
    "print(result)"
   ]
  },
  {
   "cell_type": "markdown",
   "metadata": {},
   "source": [
    "### 6. Maximum Area Histogram (MAH)"
   ]
  },
  {
   "cell_type": "code",
   "execution_count": 27,
   "metadata": {},
   "outputs": [
    {
     "data": {
      "text/plain": [
       "12"
      ]
     },
     "execution_count": 27,
     "metadata": {},
     "output_type": "execute_result"
    }
   ],
   "source": [
    " def MAH(arr1):\n",
    "    def NSLIndex(arr):\n",
    "        pseudoindex = -1\n",
    "        stack = []\n",
    "        res = []\n",
    "        for i in range(len(arr)):\n",
    "            if len(stack) == 0:\n",
    "                res.append(pseudoindex)\n",
    "            elif len(stack) >0 and arr[i]>stack[-1][0]:\n",
    "                res.append(stack[-1][1])\n",
    "            elif len(stack) >0 and arr[i]<=stack[-1][0]:\n",
    "                while len(stack)>0 and arr[i]<=stack[-1][0]:\n",
    "                    stack.pop()\n",
    "                if len(stack) == 0:\n",
    "                    res.append(pseudoindex)\n",
    "                else:\n",
    "                    res.append(stack[-1][1])\n",
    "            stack.append([arr[i],i])\n",
    "        return res\n",
    "    def NSRIndex(arr):\n",
    "        stack = []\n",
    "        res = []\n",
    "        pseudoindex = len(arr)\n",
    "        for i in range(len(arr)-1,-1,-1):\n",
    "            if len(stack) == 0:\n",
    "                res.append(pseudoindex)\n",
    "            elif len(stack) >0 and arr[i]>stack[-1][0]:\n",
    "                res.append(stack[-1][1])\n",
    "            elif len(stack) >0 and arr[i]<=stack[-1][0]:\n",
    "                while len(stack)>0 and arr[i]<=stack[-1][0]:\n",
    "                    stack.pop()\n",
    "                if len(stack) == 0:\n",
    "                    res.append(pseudoindex)\n",
    "                else:\n",
    "                    res.append(stack[-1][1])\n",
    "            stack.append([arr[i],i])\n",
    "        return res[::-1]\n",
    "    arr = arr1\n",
    "    left = NSLIndex(arr)\n",
    "    right = NSRIndex(arr)\n",
    "    res = []\n",
    "    for i in range(len(arr)):\n",
    "        res.append((right[i]-left[i]-1)*arr[i])\n",
    "    return(max(res))\n",
    "arr = [6,2,5,4,5,1,6]\n",
    "MAH(arr)"
   ]
  },
  {
   "cell_type": "markdown",
   "metadata": {},
   "source": [
    "### 7. Max area rectangle in Binary matrix"
   ]
  },
  {
   "cell_type": "code",
   "execution_count": 35,
   "metadata": {},
   "outputs": [
    {
     "data": {
      "text/plain": [
       "8"
      ]
     },
     "execution_count": 35,
     "metadata": {},
     "output_type": "execute_result"
    }
   ],
   "source": [
    "def MAR(matrix):\n",
    "    v1 = matrix[0]\n",
    "    r1  = MAH(v1)\n",
    "    n = len(matrix)\n",
    "    m = len(matrix[0])\n",
    "    for i in range(1,n):\n",
    "        for j in range(m):\n",
    "            if matrix[i][j] == 0:\n",
    "                v1[j] = 0\n",
    "            else:\n",
    "                v1[j] = v1[j]+matrix[i][j]\n",
    "        r1 = max(r1,MAH(v1))\n",
    "    return r1\n",
    "matrix = [[0,1,1,0],\n",
    "          [1,1,1,1],\n",
    "          [1,1,1,1],\n",
    "          [1,1,0,0]]\n",
    "MAR(matrix)\n",
    "    \n",
    "    "
   ]
  },
  {
   "cell_type": "code",
   "execution_count": 33,
   "metadata": {},
   "outputs": [
    {
     "data": {
      "text/plain": [
       "24"
      ]
     },
     "execution_count": 33,
     "metadata": {},
     "output_type": "execute_result"
    }
   ],
   "source": [
    "def maxAreaRectangleBinary(matrix):\n",
    "    heights = matrix[0]\n",
    "    area = MAH(heights)  # maximum area histogram using NSR and NSL\n",
    "    for i in range(1, len(matrix)):\n",
    "        for j in range(len(matrix[0])):\n",
    "            if matrix[i][j] == 0:  # dropping the height to zero\n",
    "                heights[j] = 0\n",
    "            else:  # increasing the height of the buildings\n",
    "                heights[j] += matrix[i][j]\n",
    "        # Update area if the area formed by the current row is greater\n",
    "        area = max(area, MAH(heights))\n",
    "    return area\n",
    "maxAreaRectangleBinary(matrix)\n",
    "            "
   ]
  },
  {
   "cell_type": "markdown",
   "metadata": {},
   "source": [
    "### 8. Rain Water Trapping"
   ]
  },
  {
   "cell_type": "code",
   "execution_count": 27,
   "metadata": {},
   "outputs": [],
   "source": [
    "def trap(A):\n",
    "    left = [None]*len(A)\n",
    "    right = [None]*len(A)\n",
    "    right[0] = A[0]\n",
    "    left[len(A)-1] = A[len(A)-1]\n",
    "    for i in range(1,len(A)):\n",
    "        right[i] = (max(right[i-1],A[i]))\n",
    "    for j in range(len(A)-2,-1,-1):\n",
    "        left[j] = (max(left[j+1],A[j]))\n",
    "    res = []\n",
    "    for k in range(len(A)):\n",
    "        res.append(min(left[k],right[k])-A[k])\n",
    "    return sum(res)"
   ]
  },
  {
   "cell_type": "markdown",
   "metadata": {},
   "source": [
    "### 9. minimum element in stack"
   ]
  },
  {
   "cell_type": "code",
   "execution_count": null,
   "metadata": {},
   "outputs": [],
   "source": [
    "class stack:\n",
    "    def __init__(self):\n",
    "        pass\n",
    "    def pop(self):\n",
    "        pass\n",
    "    def push(self,x):\n",
    "        if self.top == -1:\n",
    "            self.array.append(x)\n",
    "            minelement = x\n",
    "        else:\n",
    "            if x >= minelement:\n",
    "                self.array.append(x)\n",
    "            elif x<minelement:\n",
    "                self.array.append(2*x-minelement)\n",
    "                minelement = x\n",
    "    def pop(self):\n",
    "        if self.top"
   ]
  },
  {
   "cell_type": "markdown",
   "metadata": {},
   "source": [
    "### 10 Implement Undo  Redo in a text editor"
   ]
  },
  {
   "cell_type": "code",
   "execution_count": null,
   "metadata": {},
   "outputs": [],
   "source": [
    "def querry(Q):\n",
    "    redo = []\n",
    "    undo = []\n",
    "    for i in range(len(Q)):\n",
    "        q = Q[i].split(' ')\n",
    "       \n",
    "        if q[0] == \"WRITE\":\n",
    "            undo.append(q[1])\n",
    "            #rint(undo)\n",
    "        \n",
    "        elif q[0] == \"UNDO\":\n",
    "            element = undo.pop()\n",
    "            redo.append(element)\n",
    "        elif q[0] == \"REDO\":\n",
    "            element1= redo.pop()\n",
    "            undo.append(element1)\n",
    "        else:\n",
    "            print(*undo)\n",
    "        \n",
    "Q = [ \"WRITE A\", \"WRITE B\", \"WRITE C\", \"UNDO\", \"READ\", \"REDO\", \"READ\" ]\n",
    "querry(Q)"
   ]
  },
  {
   "cell_type": "code",
   "execution_count": 1,
   "metadata": {},
   "outputs": [],
   "source": [
    "def validateStackSequences(pushed, popped) -> bool:\n",
    "    stack = [pushed[0]]\n",
    "    n = len(pushed)\n",
    "    m = len(popped)\n",
    "    i = 1\n",
    "    j = 0\n",
    "\n",
    "    while i<n and j<m:\n",
    "        while stack and stack[-1] != popped[j] and (i<n):\n",
    "            stack.append(pushed[i])\n",
    "            i+=1\n",
    "        print(stack)\n",
    "        while stack and j<m and stack[-1] == popped[j]:\n",
    "            print(stack[-1],j)\n",
    "            stack.pop()\n",
    "            j+=1\n",
    "        print(stack)\n",
    "    if len(stack) == 0:\n",
    "        return True\n",
    "    return False\n",
    "pushed = [0,1]\n",
    "popped = [0,1]\n",
    "#validateStackSequences(pushed,popped)"
   ]
  },
  {
   "cell_type": "code",
   "execution_count": null,
   "metadata": {},
   "outputs": [],
   "source": []
  }
 ],
 "metadata": {
  "kernelspec": {
   "display_name": "Python 3 (ipykernel)",
   "language": "python",
   "name": "python3"
  },
  "language_info": {
   "codemirror_mode": {
    "name": "ipython",
    "version": 3
   },
   "file_extension": ".py",
   "mimetype": "text/x-python",
   "name": "python",
   "nbconvert_exporter": "python",
   "pygments_lexer": "ipython3",
   "version": "3.11.5"
  }
 },
 "nbformat": 4,
 "nbformat_minor": 4
}
