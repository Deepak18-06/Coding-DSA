{
 "cells": [
  {
   "cell_type": "markdown",
   "metadata": {},
   "source": [
    "# Stack\n",
    "<br> <b>whenver there are two loops in a brute force solution of a problem and the inner loop depends on outer loop then we need to see if we can optimize the code using stack"
   ]
  },
  {
   "cell_type": "markdown",
   "metadata": {},
   "source": [
    "### 1. Nearest greater right"
   ]
  },
  {
   "cell_type": "code",
   "execution_count": 5,
   "metadata": {},
   "outputs": [
    {
     "name": "stdout",
     "output_type": "stream",
     "text": [
      "[3, 4, 4, -1]\n"
     ]
    }
   ],
   "source": [
    "def NGR(arr):\n",
    "    stack =[]\n",
    "    res = []\n",
    "    for i in range(len(arr)-1,-1,-1):\n",
    "        if len(stack) == 0:\n",
    "            res.append(-1)\n",
    "        elif len(stack)>0 and stack[-1]>arr[i]:\n",
    "            res.append(stack[-1])\n",
    "        elif len(stack)>0 and stack[-1]<arr[i]:\n",
    "            while len(stack)>0 and stack[-1] < arr[i]:\n",
    "                stack.pop()\n",
    "            if len(stack)==0:\n",
    "                res.append(-1)\n",
    "            else:\n",
    "                res.append(stack[-1])\n",
    "        stack.append(arr[i])\n",
    "    return res\n",
    "            \n",
    "arr = [1,3,2,4]\n",
    "result = NGR(arr)\n",
    "print(result[::-1])"
   ]
  },
  {
   "cell_type": "markdown",
   "metadata": {},
   "source": [
    "### 2. Nearest greater to left"
   ]
  },
  {
   "cell_type": "code",
   "execution_count": 6,
   "metadata": {},
   "outputs": [
    {
     "name": "stdout",
     "output_type": "stream",
     "text": [
      "[-1, -1, 3, -1]\n"
     ]
    }
   ],
   "source": [
    "def NGL(arr):\n",
    "    stack =[]\n",
    "    res = []\n",
    "    for i in range(len(arr)): # here is the change\n",
    "        if len(stack) == 0:\n",
    "            res.append(-1)\n",
    "        elif len(stack)>0 and stack[-1]>arr[i]:\n",
    "            res.append(stack[-1])\n",
    "        elif len(stack)>0 and stack[-1]<arr[i]:\n",
    "            while len(stack)>0 and stack[-1] < arr[i]:\n",
    "                stack.pop()\n",
    "            if len(stack)==0:\n",
    "                res.append(-1)\n",
    "            else:\n",
    "                res.append(stack[-1])\n",
    "        stack.append(arr[i])\n",
    "    return res\n",
    "            \n",
    "arr = [1,3,2,4]\n",
    "result = NGL(arr)\n",
    "print(result)"
   ]
  },
  {
   "cell_type": "markdown",
   "metadata": {},
   "source": [
    "### 3. Nearest smaller to left"
   ]
  },
  {
   "cell_type": "code",
   "execution_count": 8,
   "metadata": {},
   "outputs": [
    {
     "data": {
      "text/plain": [
       "[-1, 4, -1, 2, 2]"
      ]
     },
     "execution_count": 8,
     "metadata": {},
     "output_type": "execute_result"
    }
   ],
   "source": [
    "def NSL(arr):\n",
    "    stack = []\n",
    "    res = []\n",
    "    for i in range(len(arr)):\n",
    "        if len(stack) == 0:\n",
    "            res.append(-1)\n",
    "        elif len(stack) >0 and arr[i]>stack[-1]:\n",
    "            res.append(stack[-1])\n",
    "        elif len(stack) >0 and arr[i]<=stack[-1]:\n",
    "            while len(stack)>0 and arr[i]<=stack[-1]:\n",
    "                stack.pop()\n",
    "            if len(stack) == 0:\n",
    "                res.append(-1)\n",
    "            else:\n",
    "                res.append(stack[-1])\n",
    "        stack.append(arr[i])\n",
    "    return res\n",
    "arr = [4,5,2,10,8]\n",
    "NSL(arr)"
   ]
  },
  {
   "cell_type": "markdown",
   "metadata": {},
   "source": [
    "### 4. Nearest smaller to right"
   ]
  },
  {
   "cell_type": "code",
   "execution_count": 12,
   "metadata": {},
   "outputs": [
    {
     "name": "stdout",
     "output_type": "stream",
     "text": [
      "[2, 2, -1, 8, -1]\n"
     ]
    }
   ],
   "source": [
    "def NSR(arr):\n",
    "    stack = []\n",
    "    res = []\n",
    "    for i in range(len(arr)-1,-1,-1):\n",
    "        if len(stack) == 0:\n",
    "            res.append(-1)\n",
    "        elif len(stack) >0 and arr[i]>stack[-1]:\n",
    "            res.append(stack[-1])\n",
    "        elif len(stack) >0 and arr[i]<=stack[-1]:\n",
    "            while len(stack)>0 and arr[i]<=stack[-1]:\n",
    "                stack.pop()\n",
    "            if len(stack) == 0:\n",
    "                res.append(-1)\n",
    "            else:\n",
    "                res.append(stack[-1])\n",
    "        stack.append(arr[i])\n",
    "    return res\n",
    "arr = [4,5,2,10,8]\n",
    "result = NSR(arr)\n",
    "print(result[::-1])"
   ]
  },
  {
   "cell_type": "markdown",
   "metadata": {},
   "source": [
    "### 5. Stock Span Problem"
   ]
  },
  {
   "cell_type": "code",
   "execution_count": 16,
   "metadata": {},
   "outputs": [
    {
     "name": "stdout",
     "output_type": "stream",
     "text": [
      "[-1, 0, 1, 1, 3, 1, 0]\n",
      "1 1 1 2 1 4 6 "
     ]
    }
   ],
   "source": [
    "def Stock(arr):\n",
    "    stack =[]\n",
    "    res = []\n",
    "    for i in range(len(arr)): # here is the change\n",
    "        if len(stack) == 0:\n",
    "            res.append(-1)\n",
    "        elif len(stack)>0 and stack[-1][0]>arr[i]:\n",
    "            res.append(stack[-1][1])\n",
    "        elif len(stack)>0 and stack[-1][0]<arr[i]:\n",
    "            while len(stack)>0 and stack[-1][0] < arr[i]:\n",
    "                stack.pop()\n",
    "            if len(stack)==0:\n",
    "                res.append(-1)\n",
    "            else:\n",
    "                res.append(stack[-1][1])\n",
    "        stack.append([arr[i],i])\n",
    "    return res\n",
    "            \n",
    "arr = [100,80,60,70,60,75,85]\n",
    "result = Stock(arr)\n",
    "print(result)\n",
    "for i in range(len(result)):\n",
    "    print(i - result[i],end = \" \")"
   ]
  },
  {
   "cell_type": "markdown",
   "metadata": {},
   "source": [
    "### 6. Maximum Area Histogram (MAH)"
   ]
  },
  {
   "cell_type": "code",
   "execution_count": 24,
   "metadata": {},
   "outputs": [
    {
     "data": {
      "text/plain": [
       "12"
      ]
     },
     "execution_count": 24,
     "metadata": {},
     "output_type": "execute_result"
    }
   ],
   "source": [
    " def MAH(arr1):\n",
    "    def NSLIndex(arr):\n",
    "        pseudoindex = -1\n",
    "        stack = []\n",
    "        res = []\n",
    "        for i in range(len(arr)):\n",
    "            if len(stack) == 0:\n",
    "                res.append(pseudoindex)\n",
    "            elif len(stack) >0 and arr[i]>stack[-1][0]:\n",
    "                res.append(stack[-1][1])\n",
    "            elif len(stack) >0 and arr[i]<=stack[-1][0]:\n",
    "                while len(stack)>0 and arr[i]<=stack[-1][0]:\n",
    "                    stack.pop()\n",
    "                if len(stack) == 0:\n",
    "                    res.append(pseudoindex)\n",
    "                else:\n",
    "                    res.append(stack[-1][1])\n",
    "            stack.append([arr[i],i])\n",
    "        return res\n",
    "    def NSRIndex(arr):\n",
    "        stack = []\n",
    "        res = []\n",
    "        pseudoindex = len(arr)\n",
    "        for i in range(len(arr)-1,-1,-1):\n",
    "            if len(stack) == 0:\n",
    "                res.append(pseudoindex)\n",
    "            elif len(stack) >0 and arr[i]>stack[-1][0]:\n",
    "                res.append(stack[-1][1])\n",
    "            elif len(stack) >0 and arr[i]<=stack[-1][0]:\n",
    "                while len(stack)>0 and arr[i]<=stack[-1][0]:\n",
    "                    stack.pop()\n",
    "                if len(stack) == 0:\n",
    "                    res.append(pseudoindex)\n",
    "                else:\n",
    "                    res.append(stack[-1][1])\n",
    "            stack.append([arr[i],i])\n",
    "        return res[::-1]\n",
    "    arr = arr1\n",
    "    left = NSLIndex(arr)\n",
    "    right = NSRIndex(arr)\n",
    "    res = []\n",
    "    for i in range(len(arr)):\n",
    "        res.append((right[i]-left[i]-1)*arr[i])\n",
    "    return(max(res))\n",
    "arr = [6,2,5,4,5,1,6]\n",
    "MAH(arr)"
   ]
  },
  {
   "cell_type": "markdown",
   "metadata": {},
   "source": [
    "### 7. Max area rectangle"
   ]
  },
  {
   "cell_type": "code",
   "execution_count": 26,
   "metadata": {},
   "outputs": [
    {
     "data": {
      "text/plain": [
       "8"
      ]
     },
     "execution_count": 26,
     "metadata": {},
     "output_type": "execute_result"
    }
   ],
   "source": [
    "def MAR(matrix):\n",
    "    v1 = matrix[0]\n",
    "    r1  = MAH(v1)\n",
    "    n = len(matrix)\n",
    "    m = len(matrix[0])\n",
    "    for i in range(1,n):\n",
    "        for j in range(m):\n",
    "            if matrix[i][j] == 0:\n",
    "                v1[j] = 0\n",
    "            else:\n",
    "                v1[j] = v1[j]+matrix[i][j]\n",
    "        r1 = max(r1,MAH(v1))\n",
    "    return r1\n",
    "matrix = [[0,1,1,0],[1,1,1,1],[1,1,1,1],[1,1,0,0]]\n",
    "MAR(matrix)\n",
    "    \n",
    "    "
   ]
  },
  {
   "cell_type": "markdown",
   "metadata": {},
   "source": [
    "### 8. Rain Water Trapping"
   ]
  },
  {
   "cell_type": "code",
   "execution_count": 27,
   "metadata": {},
   "outputs": [],
   "source": [
    "def trap(A):\n",
    "    left = [None]*len(A)\n",
    "    right = [None]*len(A)\n",
    "    right[0] = A[0]\n",
    "    left[len(A)-1] = A[len(A)-1]\n",
    "    for i in range(1,len(A)):\n",
    "        right[i] = (max(right[i-1],A[i]))\n",
    "    for j in range(len(A)-2,-1,-1):\n",
    "        left[j] = (max(left[j+1],A[j]))\n",
    "    res = []\n",
    "    for k in range(len(A)):\n",
    "        res.append(min(left[k],right[k])-A[k])\n",
    "    return sum(res)"
   ]
  },
  {
   "cell_type": "markdown",
   "metadata": {},
   "source": [
    "### 9. minimum element in stack"
   ]
  },
  {
   "cell_type": "code",
   "execution_count": null,
   "metadata": {},
   "outputs": [],
   "source": [
    "class stack:\n",
    "    def __init__(self):\n",
    "        pass\n",
    "    def pop(self):\n",
    "        pass\n",
    "    def push(self,x):\n",
    "        if self.top == -1:\n",
    "            self.array.append(x)\n",
    "            minelement = x\n",
    "        else:\n",
    "            if x >= minelement:\n",
    "                self.array.append(x)\n",
    "            elif x<minelement:\n",
    "                self.array.append(2*x-minelement)\n",
    "                minelement = x\n",
    "    def pop(self):\n",
    "        if self.top"
   ]
  }
 ],
 "metadata": {
  "kernelspec": {
   "display_name": "Python 3",
   "language": "python",
   "name": "python3"
  },
  "language_info": {
   "codemirror_mode": {
    "name": "ipython",
    "version": 3
   },
   "file_extension": ".py",
   "mimetype": "text/x-python",
   "name": "python",
   "nbconvert_exporter": "python",
   "pygments_lexer": "ipython3",
   "version": "3.8.3"
  }
 },
 "nbformat": 4,
 "nbformat_minor": 4
}
