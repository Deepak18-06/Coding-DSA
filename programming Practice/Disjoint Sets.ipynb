{
 "cells": [
  {
   "cell_type": "markdown",
   "metadata": {},
   "source": [
    "# Cycle Detection in a undirected graph using union and find\n",
    "### Time Complexity O(V*E)\n",
    "### union() = O(n) = find()"
   ]
  },
  {
   "cell_type": "code",
   "execution_count": 8,
   "metadata": {},
   "outputs": [
    {
     "name": "stdout",
     "output_type": "stream",
     "text": [
      "1 [1]\n",
      "2 [2]\n",
      "0 [0]\n"
     ]
    },
    {
     "data": {
      "text/plain": [
       "True"
      ]
     },
     "execution_count": 8,
     "metadata": {},
     "output_type": "execute_result"
    }
   ],
   "source": [
    "from collections import defaultdict\n",
    "class Graph:\n",
    "    def __init__(self,vertices):\n",
    "        self.V = vertices\n",
    "        self.graph = defaultdict(list)\n",
    "    def addEdge(self,u,v):\n",
    "        self.graph[u].append(v)\n",
    "    def printGraph(self):\n",
    "        for u,v in self.graph.items():\n",
    "            print(u,v)\n",
    "    def find_parent(self,parent,i):\n",
    "        if parent[i] == -1:\n",
    "            return i\n",
    "        if parent[i] != -1:\n",
    "            return self.find_parent(parent,parent[i])\n",
    "    def union(self,parent,x,y):\n",
    "        x_set = self.find_parent(parent,x)\n",
    "        y_set = self.find_parent(parent,y)\n",
    "        parent[x_set] = y_set\n",
    "    def isCycle(self):\n",
    "        parent = [-1]*self.V\n",
    "        for i in self.graph:\n",
    "            for j in self.graph[i]:\n",
    "                x = self.find_parent(parent,i)\n",
    "                y = self.find_parent(parent,j)\n",
    "                if x == y:\n",
    "                    return True\n",
    "                self.union(parent,x,y)\n",
    "        return False\n",
    "obj = Graph(3)\n",
    "obj.addEdge(1,1)\n",
    "obj.addEdge(2,2)\n",
    "obj.addEdge(0,0)\n",
    "obj.printGraph()\n",
    "obj.isCycle()"
   ]
  },
  {
   "cell_type": "markdown",
   "metadata": {},
   "source": [
    "# Using union by Rank"
   ]
  },
  {
   "cell_type": "code",
   "execution_count": 9,
   "metadata": {},
   "outputs": [],
   "source": [
    "from collections import defaultdict\n",
    "class Graph:\n",
    "    def __init__(self,vertices):\n",
    "        self.V = vertices\n",
    "        self.edges = defaultdict(list)\n",
    "    def add_edge(self,u,v):\n",
    "        self.edges[u].append(v)\n",
    "class Subset:\n",
    "    def __init__(self,parent,rank):\n",
    "        self.parent = parent\n",
    "        self.rank = rank\n",
    "def find(subsets,node):\n",
    "    if subsets[node].parent != node:\n",
    "        subsets[node].parent = find(subsets,subsets[node].parent)\n",
    "    return subsets[node].parent\n",
    "def union(subsets,u,v):\n",
    "    if subsets[u].rank>subsets[v].rank:\n",
    "        subsets[v].parent = u\n",
    "    elif subsets[v].rank > subsets[u].rank:\n",
    "        subsets[u].parend = v\n",
    "    else:\n",
    "        subsets[v].parent = u\n",
    "        subsets[u].rank+=1\n",
    "def isCycle(graph):\n",
    "    subsets = []\n",
    "    for u in range(graph.V):\n",
    "        subsets.append(Subset(u,0))\n",
    "    for u in graph.edges:\n",
    "        u_rep = find(subsets,u) # finding absolute root of u\n",
    "        for v in graph.edges[u]:\n",
    "            v_rep  = find(subsets,v)\n",
    "            if u_rep ==  v_rep:\n",
    "                return True\n",
    "            else:\n",
    "                union(subsets,u_rep,v_rep)\n",
    "    return False\n",
    "        \n",
    "    "
   ]
  },
  {
   "cell_type": "code",
   "execution_count": 10,
   "metadata": {},
   "outputs": [
    {
     "name": "stdout",
     "output_type": "stream",
     "text": [
      "Graph contains cycle\n"
     ]
    }
   ],
   "source": [
    "# Driver Code\n",
    "g = Graph(3)\n",
    " \n",
    "# add edge 0-1\n",
    "g.add_edge(0, 1)\n",
    " \n",
    "# add edge 1-2\n",
    "g.add_edge(1, 2)\n",
    " \n",
    "# add edge 0-2\n",
    "g.add_edge(0, 2)\n",
    " \n",
    "if isCycle(g):\n",
    "    print('Graph contains cycle')\n",
    "else:\n",
    "    print('Graph does not contain cycle')"
   ]
  },
  {
   "cell_type": "code",
   "execution_count": null,
   "metadata": {},
   "outputs": [],
   "source": []
  }
 ],
 "metadata": {
  "kernelspec": {
   "display_name": "Python 3",
   "language": "python",
   "name": "python3"
  },
  "language_info": {
   "codemirror_mode": {
    "name": "ipython",
    "version": 3
   },
   "file_extension": ".py",
   "mimetype": "text/x-python",
   "name": "python",
   "nbconvert_exporter": "python",
   "pygments_lexer": "ipython3",
   "version": "3.8.3"
  }
 },
 "nbformat": 4,
 "nbformat_minor": 4
}
