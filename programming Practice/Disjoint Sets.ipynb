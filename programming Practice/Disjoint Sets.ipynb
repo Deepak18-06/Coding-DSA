{
 "cells": [
  {
   "cell_type": "markdown",
   "metadata": {},
   "source": [
    "# Cycle Detection in a undirected graph using union and find\n",
    "### Time Complexity O(V*E)\n",
    "### union() = O(n) = find()"
   ]
  },
  {
   "cell_type": "code",
   "execution_count": 8,
   "metadata": {},
   "outputs": [
    {
     "name": "stdout",
     "output_type": "stream",
     "text": [
      "1 [1]\n",
      "2 [2]\n",
      "0 [0]\n"
     ]
    },
    {
     "data": {
      "text/plain": [
       "True"
      ]
     },
     "execution_count": 8,
     "metadata": {},
     "output_type": "execute_result"
    }
   ],
   "source": [
    "from collections import defaultdict\n",
    "class Graph:\n",
    "    def __init__(self,vertices):\n",
    "        self.V = vertices\n",
    "        self.graph = defaultdict(list)\n",
    "    def addEdge(self,u,v):\n",
    "        self.graph[u].append(v)\n",
    "    def printGraph(self):\n",
    "        for u,v in self.graph.items():\n",
    "            print(u,v)\n",
    "    def find_parent(self,parent,i):\n",
    "        if parent[i] == -1:\n",
    "            return i\n",
    "        if parent[i] != -1:\n",
    "            return self.find_parent(parent,parent[i])\n",
    "    def union(self,parent,x,y):\n",
    "        x_set = self.find_parent(parent,x)\n",
    "        y_set = self.find_parent(parent,y)\n",
    "        parent[x_set] = y_set\n",
    "    def isCycle(self):\n",
    "        parent = [-1]*self.V\n",
    "        for i in self.graph:\n",
    "            for j in self.graph[i]:\n",
    "                x = self.find_parent(parent,i)\n",
    "                y = self.find_parent(parent,j)\n",
    "                if x == y:\n",
    "                    return True\n",
    "                self.union(parent,x,y)\n",
    "        return False\n",
    "obj = Graph(3)\n",
    "obj.addEdge(1,1)\n",
    "obj.addEdge(2,2)\n",
    "obj.addEdge(0,0)\n",
    "obj.printGraph()\n",
    "obj.isCycle()"
   ]
  },
  {
   "cell_type": "markdown",
   "metadata": {},
   "source": [
    "# Using union by Rank"
   ]
  },
  {
   "cell_type": "code",
   "execution_count": 9,
   "metadata": {},
   "outputs": [],
   "source": [
    "from collections import defaultdict\n",
    "class Graph:\n",
    "    def __init__(self,vertices):\n",
    "        self.V = vertices\n",
    "        self.edges = defaultdict(list)\n",
    "    def add_edge(self,u,v):\n",
    "        self.edges[u].append(v)\n",
    "class Subset:\n",
    "    def __init__(self,parent,rank):\n",
    "        self.parent = parent\n",
    "        self.rank = rank\n",
    "def find(subsets,node):\n",
    "    if subsets[node].parent != node:\n",
    "        subsets[node].parent = find(subsets,subsets[node].parent)\n",
    "    return subsets[node].parent\n",
    "def union(subsets,u,v):\n",
    "    if subsets[u].rank>subsets[v].rank:\n",
    "        subsets[v].parent = u\n",
    "    elif subsets[v].rank > subsets[u].rank:\n",
    "        subsets[u].parend = v\n",
    "    else:\n",
    "        subsets[v].parent = u\n",
    "        subsets[u].rank+=1\n",
    "def isCycle(graph):\n",
    "    subsets = []\n",
    "    for u in range(graph.V):\n",
    "        subsets.append(Subset(u,0))\n",
    "    for u in graph.edges:\n",
    "        u_rep = find(subsets,u) # finding absolute root of u\n",
    "        for v in graph.edges[u]:\n",
    "            v_rep  = find(subsets,v)\n",
    "            if u_rep ==  v_rep:\n",
    "                return True\n",
    "            else:\n",
    "                union(subsets,u_rep,v_rep)\n",
    "    return False\n",
    "        \n",
    "    "
   ]
  },
  {
   "cell_type": "code",
   "execution_count": 10,
   "metadata": {},
   "outputs": [
    {
     "name": "stdout",
     "output_type": "stream",
     "text": [
      "Graph contains cycle\n"
     ]
    }
   ],
   "source": [
    "# Driver Code\n",
    "g = Graph(3)\n",
    " \n",
    "# add edge 0-1\n",
    "g.add_edge(0, 1)\n",
    " \n",
    "# add edge 1-2\n",
    "g.add_edge(1, 2)\n",
    " \n",
    "# add edge 0-2\n",
    "g.add_edge(0, 2)\n",
    " \n",
    "if isCycle(g):\n",
    "    print('Graph contains cycle')\n",
    "else:\n",
    "    print('Graph does not contain cycle')"
   ]
  },
  {
   "cell_type": "code",
   "execution_count": 9,
   "metadata": {},
   "outputs": [
    {
     "name": "stdout",
     "output_type": "stream",
     "text": [
      "{3: 3, 0: 3, 2: 2, 1: 2} defaultdict(<class 'list'>, {3: ['b', 'd'], 2: ['a', 'c']})\n",
      "0\n",
      "1\n",
      "2\n",
      "3\n"
     ]
    },
    {
     "data": {
      "text/plain": [
       "'bacd'"
      ]
     },
     "execution_count": 9,
     "metadata": {},
     "output_type": "execute_result"
    }
   ],
   "source": [
    "import collections\n",
    "import heapq\n",
    "def smallesStringSwaps(s,pairs):\n",
    "    def find(x):\n",
    "        if parents.setdefault(x,x) != x:\n",
    "            parents[x] = find(parents[x])\n",
    "        return parents[x]\n",
    "    parents, heaps = {},collections.defaultdict(list)\n",
    "    for a,b in pairs:\n",
    "        parents[find(a)] = find(b)\n",
    "    for node in parents: # put all the 'nodes' into the appropriate parent heap\n",
    "        heapq.heappush(heaps[find(node)], s[node])\n",
    "    print(parents,heaps)\n",
    "    res = ''\n",
    "    for i,c in enumerate(s):\n",
    "        if i in parents:\n",
    "            print(i)\n",
    "            res+=heapq.heappop(heaps[find(i)])\n",
    "        else:\n",
    "            res+=c\n",
    "\n",
    "    return res\n",
    "s = 'dcab'\n",
    "pairs = [[0,3],[1,2],[0,2]]\n",
    "s = \"dcab\"\n",
    "pairs = [[0,3],[1,2]]\n",
    "smallesStringSwaps(s,pairs)"
   ]
  },
  {
   "cell_type": "code",
   "execution_count": 14,
   "metadata": {},
   "outputs": [
    {
     "data": {
      "text/plain": [
       "False"
      ]
     },
     "execution_count": 14,
     "metadata": {},
     "output_type": "execute_result"
    }
   ],
   "source": [
    "parents = {}\n",
    "parents.setdefault(1,1) != 1\n",
    "#print(parents)"
   ]
  },
  {
   "cell_type": "markdown",
   "metadata": {},
   "source": [
    "# number of Provinces\n",
    "[question](https://leetcode.com/problems/number-of-provinces/)"
   ]
  },
  {
   "cell_type": "code",
   "execution_count": 11,
   "metadata": {},
   "outputs": [
    {
     "name": "stdout",
     "output_type": "stream",
     "text": [
      "defaultdict(<class 'list'>, {1: [0, 1], 2: [2]})\n"
     ]
    }
   ],
   "source": [
    "def numOfPro(mat):\n",
    "    def find(x):\n",
    "        if parents.setdefault(x,x) != x:\n",
    "            parents[x] = find(parents[x])\n",
    "        return parents[x]\n",
    "    parents = {}\n",
    "    for i in range(len(mat)):\n",
    "        for j in range(i,len(mat[0])):\n",
    "            if mat[i][j] == 1:\n",
    "                parents[find(i)] = find(j)\n",
    "    res = collections.defaultdict(list)\n",
    "    for node in parents:\n",
    "        res[find(node)].append(node)\n",
    "    print(res)\n",
    "                \n",
    "    \n",
    "isConnected = [[1,1,0],[1,1,0],[0,0,1]]\n",
    "numOfPro(isConnected)"
   ]
  },
  {
   "cell_type": "markdown",
   "metadata": {},
   "source": [
    "# Checking existence of edge length limit\n",
    "[Question](https://leetcode.com/problems/checking-existence-of-edge-length-limited-paths/submissions/)"
   ]
  },
  {
   "cell_type": "code",
   "execution_count": 15,
   "metadata": {},
   "outputs": [
    {
     "data": {
      "text/plain": [
       "[False, True]"
      ]
     },
     "execution_count": 15,
     "metadata": {},
     "output_type": "execute_result"
    }
   ],
   "source": [
    "def dist(edgeList,n,queries):\n",
    "    parents = list(range(n))\n",
    "    def find(x):\n",
    "        if parents[x] != x:\n",
    "            parents[x] = find(parents[x])\n",
    "        return parents[x]\n",
    "    def union(x,y):\n",
    "        r1 = find(x)\n",
    "        r2 = find(y)\n",
    "        if r1 != r2:\n",
    "            parents[r2] = r1\n",
    "    edgeList.sort(key = lambda x:x[2])\n",
    "    q = [(l,u,v,i) for i,(u,v,l) in enumerate(queries)]\n",
    "    q.sort()\n",
    "    m = len(queries)\n",
    "    ans = [False]*m\n",
    "    edge_size = len(edgeList)\n",
    "    edge_index = 0\n",
    "    for q_limit,u,v,i in q:\n",
    "        while edge_index<edge_size and edgeList[edge_index][2]<q_limit:\n",
    "            union(edgeList[edge_index][0],edgeList[edge_index][1])\n",
    "            edge_index+=1\n",
    "        ans[i] = find(u) == find(v)\n",
    "    return ans\n",
    "n = 3\n",
    "edgeList = [[0,1,2],[1,2,4],[2,0,8],[1,0,16]]\n",
    "queries = [[0,1,2],[0,2,5]]\n",
    "dist(edgeList,n,queries)"
   ]
  },
  {
   "cell_type": "code",
   "execution_count": 18,
   "metadata": {},
   "outputs": [
    {
     "data": {
      "text/plain": [
       "-3"
      ]
     },
     "execution_count": 18,
     "metadata": {},
     "output_type": "execute_result"
    }
   ],
   "source": [
    "def removeStones(stones):\n",
    "    graph = collections.defaultdict(list)\n",
    "    for i, x in enumerate(stones):\n",
    "        for j in range(i):\n",
    "            y = stones[j]\n",
    "            if x[0]==y[0] or x[1]==y[1]:\n",
    "                graph[i].append(j)\n",
    "                graph[j].append(i)\n",
    "    print(graph)\n",
    "stones = [[0,0],[0,1],[1,0],[1,2],[2,1],[2,2]]\n",
    "removeStones(stones)"
   ]
  },
  {
   "cell_type": "code",
   "execution_count": 22,
   "metadata": {},
   "outputs": [
    {
     "data": {
      "text/plain": [
       "5"
      ]
     },
     "execution_count": 22,
     "metadata": {},
     "output_type": "execute_result"
    }
   ],
   "source": [
    "class DSU:\n",
    "    def __init__(self, N):\n",
    "        self.p = [i for i in range(N)]\n",
    "\n",
    "    def find(self, x):\n",
    "        if self.p[x] != x:\n",
    "            self.p[x] = self.find(self.p[x])\n",
    "        return self.p[x]\n",
    "\n",
    "    def union(self, x, y):\n",
    "        xr = self.find(x)\n",
    "        yr = self.find(y)\n",
    "        self.p[xr] = yr\n",
    "\n",
    "def removeStones(stones):\n",
    "    N = len(stones)\n",
    "    dsu = DSU(20000)\n",
    "    for x, y in stones:\n",
    "        dsu.union(x, y + 10000)\n",
    "\n",
    "    return N - len({dsu.find(x) for x, y in stones})\n",
    "stones = [[0,0],[0,1],[1,0],[1,2],[2,1],[2,2]]\n",
    "removeStones(stones)"
   ]
  },
  {
   "cell_type": "markdown",
   "metadata": {},
   "source": [
    "# Couples holding hands"
   ]
  },
  {
   "cell_type": "code",
   "execution_count": 30,
   "metadata": {},
   "outputs": [
    {
     "data": {
      "text/plain": [
       "3"
      ]
     },
     "execution_count": 30,
     "metadata": {},
     "output_type": "execute_result"
    }
   ],
   "source": [
    "def couples(row):\n",
    "    HashMap = dict()\n",
    "    swaps = 0\n",
    "    def swap(arr,i,j):\n",
    "        temp = arr[i]\n",
    "        arr[i] = arr[j]\n",
    "        arr[j] = temp\n",
    "        \n",
    "        HashMap[arr[i]] = i\n",
    "        HashMap[arr[j]] = j\n",
    "    for i in range(len(row)):\n",
    "        HashMap[row[i]] = i\n",
    "    for i in range(0,len(row),2):\n",
    "        first = row[i]\n",
    "        second = first^1\n",
    "        if row[i+1] != second:\n",
    "            swaps+=1\n",
    "            swap(row,i+1,HashMap[second])\n",
    "            #row[i+1],row[HashMap.get(second)] = row[HashMap.get(second)],row[i+1]\n",
    "            #HashMap[row[i+1]] = i+1\n",
    "            #HashMap[row[HashMap.get(second)]] = HashMap.get(second)\n",
    "    return swaps\n",
    "    \n",
    "row = [0,2,4,6,7,1,3,5]\n",
    "couples(row)"
   ]
  },
  {
   "cell_type": "code",
   "execution_count": 35,
   "metadata": {},
   "outputs": [
    {
     "name": "stdout",
     "output_type": "stream",
     "text": [
      "[2, 2, 2, 2, 2, 2, 2, 6]\n",
      "2 2 2\n"
     ]
    },
    {
     "data": {
      "text/plain": [
       "3"
      ]
     },
     "execution_count": 35,
     "metadata": {},
     "output_type": "execute_result"
    }
   ],
   "source": [
    "def couplesUnion(row):\n",
    "    n = len(row)\n",
    "    parents = [0]*n\n",
    "    def find(x):\n",
    "        if parents[x] != x:\n",
    "            parents[x] = find(parents[x])\n",
    "        return parents[x]\n",
    "    def union(x,y):\n",
    "        parents[find(x)] = find(y)\n",
    "    for i in range(0,n,2):\n",
    "        parents[i] = parents[i+1] = i\n",
    "    for i in range(0,n,2):\n",
    "        union(row[i],row[i+1])\n",
    "    print(parents)\n",
    "    swaps = 0\n",
    "    for i in range(0,n,2):\n",
    "        if i == parents[i] == parents[i+1]:\n",
    "            print(i,parents[i],parents[i+1])\n",
    "            swaps+=1\n",
    "    return n//2 - swaps\n",
    "row = [0,2,4,6,7,1,3,5]\n",
    "couplesUnion(row)"
   ]
  },
  {
   "cell_type": "code",
   "execution_count": null,
   "metadata": {},
   "outputs": [],
   "source": []
  }
 ],
 "metadata": {
  "kernelspec": {
   "display_name": "Python 3",
   "language": "python",
   "name": "python3"
  },
  "language_info": {
   "codemirror_mode": {
    "name": "ipython",
    "version": 3
   },
   "file_extension": ".py",
   "mimetype": "text/x-python",
   "name": "python",
   "nbconvert_exporter": "python",
   "pygments_lexer": "ipython3",
   "version": "3.8.3"
  }
 },
 "nbformat": 4,
 "nbformat_minor": 4
}
