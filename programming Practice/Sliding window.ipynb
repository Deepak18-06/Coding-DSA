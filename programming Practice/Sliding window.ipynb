{
 "cells": [
  {
   "cell_type": "markdown",
   "id": "e7320eb7",
   "metadata": {},
   "source": [
    "# Sliding Window\n",
    "\n",
    "- fixed window size\n",
    "- variable window size increasing and decreasing\n",
    "    - brute force\n",
    "    - better -> increase window size and when condition is matched shrink the window\n",
    "    - best/ optimal"
   ]
  },
  {
   "cell_type": "code",
   "execution_count": 13,
   "id": "7719b644",
   "metadata": {},
   "outputs": [
    {
     "name": "stdout",
     "output_type": "stream",
     "text": [
      "3\n"
     ]
    }
   ],
   "source": [
    "def longestSubarrayWithSumLessThanEqualToK(arr, k):\n",
    "    maxLength = 0\n",
    "    for i in range(len(arr)):\n",
    "        subArraySum = 0 \n",
    "        for j in range(i, len(arr)):\n",
    "            subArraySum += arr[j] \n",
    "            if subArraySum <= k and j - i + 1 > maxLength:\n",
    "                maxLength = j - i + 1\n",
    "            if subArraySum > k:\n",
    "                break\n",
    "    return maxLength\n",
    "\n",
    "arr = [1, 2, 3, 4, 5]\n",
    "k = 7\n",
    "print(longestSubarrayWithSumLessThanEqualToK(arr, k))\n"
   ]
  },
  {
   "cell_type": "code",
   "execution_count": 14,
   "id": "b75fa9a2",
   "metadata": {},
   "outputs": [
    {
     "name": "stdout",
     "output_type": "stream",
     "text": [
      "3\n"
     ]
    }
   ],
   "source": [
    "def longestSubarrayWithSumLessThanEqualToK(arr, k):\n",
    "    left = 0\n",
    "    right = 0\n",
    "    subArraySum = 0\n",
    "    length = 0\n",
    "    while right < len(arr):\n",
    "        subArraySum += arr[right]\n",
    "        while subArraySum > k:\n",
    "            subArraySum -= arr[left]\n",
    "            left += 1\n",
    "        length = max(length, right - left + 1)\n",
    "        right += 1\n",
    "    return length\n",
    "arr = [1, 2, 3, 4, 5]\n",
    "k = 7\n",
    "print(longestSubarrayWithSumLessThanEqualToK(arr, k))\n",
    "# Time complexity -> O(N+N)"
   ]
  },
  {
   "cell_type": "code",
   "execution_count": 15,
   "id": "4cbbfe9e",
   "metadata": {},
   "outputs": [
    {
     "name": "stdout",
     "output_type": "stream",
     "text": [
      "3\n"
     ]
    }
   ],
   "source": [
    "def longestSubarrayWithSumLessThanEqualToK(arr, k):\n",
    "    left = 0\n",
    "    right = 0\n",
    "    subArraySum = 0\n",
    "    maxLength = 0\n",
    "    \n",
    "    while right < len(arr):\n",
    "        subArraySum += arr[right]\n",
    "        \n",
    "        if subArraySum > k:\n",
    "            subArraySum -= arr[left]\n",
    "            left += 1\n",
    "            \n",
    "        maxLength = max(maxLength, right - left + 1)\n",
    "        \n",
    "        right += 1\n",
    "        \n",
    "    return maxLength\n",
    "\n",
    "arr = [1, 2, 3, 4, 5]\n",
    "k = 7\n",
    "print(longestSubarrayWithSumLessThanEqualToK(arr, k))\n",
    "# Time complexity -> O(N)"
   ]
  },
  {
   "cell_type": "markdown",
   "id": "b006d3f1",
   "metadata": {},
   "source": [
    "## Maxiumum Point you can obtain from n card \n",
    "[!https://leetcode.com/problems/maximum-points-you-can-obtain-from-cards/description/]"
   ]
  },
  {
   "cell_type": "code",
   "execution_count": 48,
   "id": "3e0d0ec8",
   "metadata": {},
   "outputs": [
    {
     "data": {
      "text/plain": [
       "16"
      ]
     },
     "execution_count": 48,
     "metadata": {},
     "output_type": "execute_result"
    }
   ],
   "source": [
    "def maxScore(cardPoints: list[int], k: int) -> int:\n",
    "    leftSum = 0\n",
    "    rightSum = 0\n",
    "    result = 0\n",
    "    for i in range(k):\n",
    "        leftSum+=cardPoints[i]\n",
    "    result = leftSum\n",
    "    rightIndex = len(cardPoints) - 1\n",
    "    for i in range(k-1, -1, -1):\n",
    "        leftSum = leftSum - cardPoints[i]\n",
    "        rightSum = rightSum + cardPoints[rightIndex]\n",
    "        rightIndex -=1\n",
    "        result = max(leftSum + rightSum, result)\n",
    "    return result \n",
    "cards = [6,2,3,4,7,2,1,7,1]\n",
    "k = 4\n",
    "maxScore(cards, k)\n",
    "# Time complexity\n",
    "# O(k) + O(k)\n",
    "# Space complexity -> O(1)"
   ]
  },
  {
   "cell_type": "markdown",
   "id": "9998a1eb",
   "metadata": {},
   "source": [
    "## Longest substring without repeating characters\n",
    "https://leetcode.com/problems/longest-substring-without-repeating-characters/description/"
   ]
  },
  {
   "cell_type": "code",
   "execution_count": 52,
   "id": "30c3fa78",
   "metadata": {},
   "outputs": [
    {
     "data": {
      "text/plain": [
       "3"
      ]
     },
     "execution_count": 52,
     "metadata": {},
     "output_type": "execute_result"
    }
   ],
   "source": [
    "def longestSubstrting(s) -> int:\n",
    "    left = 0\n",
    "    result = 0\n",
    "    hashMap = {}\n",
    "    for right in range(len(s)):\n",
    "        if s[right] in hashMap:\n",
    "            left = max(left, hashMap[s[right]] + 1)\n",
    "        hashMap[s[right]] = right\n",
    "        result = max(result, right - left + 1)\n",
    "    return result\n",
    "\n",
    "s = \"abcabcbb\"\n",
    "output = 3\n",
    "longestSubstrting(s)"
   ]
  },
  {
   "cell_type": "code",
   "execution_count": 57,
   "id": "7b9034b1",
   "metadata": {},
   "outputs": [
    {
     "data": {
      "text/plain": [
       "3"
      ]
     },
     "execution_count": 57,
     "metadata": {},
     "output_type": "execute_result"
    }
   ],
   "source": [
    "# this is better to understand\n",
    "def longestSubstringV2(s) -> int:\n",
    "    left = 0\n",
    "    right = 0\n",
    "    hashMap = {}\n",
    "    result = 0\n",
    "    for right in range(len(s)):\n",
    "        if s[right] in hashMap and hashMap[s[right]] >= left:\n",
    "            left = hashMap[s[right]] + 1\n",
    "        hashMap[s[right]] = right\n",
    "        result = max(result, right - left + 1)\n",
    "    return result\n",
    "s = \"abcabcbb\"\n",
    "output = 3\n",
    "longestSubstringV2(s)"
   ]
  },
  {
   "cell_type": "markdown",
   "id": "5c13d9c4",
   "metadata": {},
   "source": [
    "## Maximum consecutive ones III\n",
    "https://leetcode.com/problems/max-consecutive-ones-iii/"
   ]
  },
  {
   "cell_type": "code",
   "execution_count": 63,
   "id": "2ed8dd6e",
   "metadata": {},
   "outputs": [
    {
     "data": {
      "text/plain": [
       "6"
      ]
     },
     "execution_count": 63,
     "metadata": {},
     "output_type": "execute_result"
    }
   ],
   "source": [
    "# it can be reduce to longest subarray with atmost k zeros\n",
    "def maxOnes(arr, k):\n",
    "    left = 0\n",
    "    right = 0\n",
    "    maxLength = 0\n",
    "    zeros = 0\n",
    "    while right < len(arr):\n",
    "        if arr[right] == 0:\n",
    "            zeros +=1\n",
    "        while zeros > k:\n",
    "            if arr[left] == 0:\n",
    "                zeros -=1\n",
    "            left+=1\n",
    "        if zeros <= k:\n",
    "            maxLength = max(maxLength, right - left + 1)\n",
    "        right+=1     \n",
    "    return maxLength  \n",
    "arr = [1,1,1,0,0,0,1,1,1,1,0]\n",
    "k = 2\n",
    "maxOnes(arr,k)\n",
    "# Time complexity\n",
    "# O(n) + O(n)"
   ]
  },
  {
   "cell_type": "markdown",
   "id": "f7b2721a",
   "metadata": {},
   "source": [
    "## Fruit into Baskets\n",
    "https://leetcode.com/problems/fruit-into-baskets/description/"
   ]
  },
  {
   "cell_type": "code",
   "execution_count": 68,
   "id": "34d8cc74",
   "metadata": {},
   "outputs": [
    {
     "data": {
      "text/plain": [
       "4"
      ]
     },
     "execution_count": 68,
     "metadata": {},
     "output_type": "execute_result"
    }
   ],
   "source": [
    "    def totalFruit(fruits: list[int]) -> int:\n",
    "        left = 0\n",
    "        right = 0\n",
    "        maxLength = 0\n",
    "        hashMap = {}\n",
    "        while right < len(fruits):\n",
    "            hashMap[fruits[right]] = hashMap.get(fruits[right], 0) + 1\n",
    "            while len(hashMap) > 2: # while can be replaced with 'if' for O(n)\n",
    "                hashMap[fruits[left]] -=1\n",
    "                if hashMap[fruits[left]] == 0:\n",
    "                    hashMap.pop(fruits[left])\n",
    "                left += 1\n",
    "            if len(hashMap) <=2:\n",
    "                maxLength = max(maxLength, right - left + 1)\n",
    "            right +=1\n",
    "        return maxLength\n",
    "\n",
    "fruits = [1,2,3,2,2]\n",
    "totalFruit(fruits)\n",
    "# time complexity \n",
    "# O(n) + O(n)\n"
   ]
  },
  {
   "cell_type": "markdown",
   "id": "69e03f34",
   "metadata": {},
   "source": [
    "## Longest Substring with atmost k distinct characters\n",
    "https://www.geeksforgeeks.org/problems/longest-k-unique-characters-substring0853/1"
   ]
  },
  {
   "cell_type": "code",
   "execution_count": 72,
   "id": "ee28e4be",
   "metadata": {},
   "outputs": [
    {
     "data": {
      "text/plain": [
       "7"
      ]
     },
     "execution_count": 72,
     "metadata": {},
     "output_type": "execute_result"
    }
   ],
   "source": [
    "def longestKSubstr(s,k):\n",
    "    left = 0\n",
    "    right = 0\n",
    "    maxLength = 0\n",
    "    hashMap = {}\n",
    "    while right < len(s):\n",
    "        hashMap[s[right]] = hashMap.get(s[right], 0) + 1\n",
    "        while len(hashMap) > k:\n",
    "            hashMap[s[left]] -=1\n",
    "            if hashMap[s[left]] == 0:\n",
    "                hashMap.pop(s[left])\n",
    "            left += 1\n",
    "        if len(hashMap) <=k:\n",
    "            maxLength = max(maxLength, right - left + 1)\n",
    "        right +=1\n",
    "    return maxLength\n",
    "S = \"aabacbebebe\"\n",
    "K = 3\n",
    "longestKSubstr(S,K)"
   ]
  },
  {
   "cell_type": "markdown",
   "id": "00226aba",
   "metadata": {},
   "source": [
    "## Number of substrings containing all the 3 characters\n",
    "https://leetcode.com/problems/number-of-substrings-containing-all-three-characters/"
   ]
  },
  {
   "cell_type": "code",
   "execution_count": 73,
   "id": "83048a62",
   "metadata": {},
   "outputs": [],
   "source": [
    "def numberOfSubstrings(s: str) -> int:\n",
    "    a = -1\n",
    "    b = -1\n",
    "    c = -1\n",
    "    result = 0\n",
    "    for i in range(len(s)):\n",
    "        if s[i] == 'a':\n",
    "            a = i\n",
    "        if s[i] == 'b':\n",
    "            b = i\n",
    "        if s[i] == 'c':\n",
    "            c = i\n",
    "        if a != -1 and b != -1 and c != -1:\n",
    "            result = result +  1 + min(a,b,c)\n",
    "    return result "
   ]
  },
  {
   "cell_type": "markdown",
   "id": "afa4283e",
   "metadata": {},
   "source": [
    "## Longest repeating character replacement\n",
    "https://leetcode.com/problems/longest-repeating-character-replacement/description/"
   ]
  },
  {
   "cell_type": "code",
   "execution_count": 78,
   "id": "c9b15cd4",
   "metadata": {},
   "outputs": [
    {
     "data": {
      "text/plain": [
       "4"
      ]
     },
     "execution_count": 78,
     "metadata": {},
     "output_type": "execute_result"
    }
   ],
   "source": [
    "def characterReplacement(s: str, k: int) -> int:\n",
    "    left = 0\n",
    "    right = 0\n",
    "    maxLength = 0\n",
    "    maxFrequency = 0\n",
    "    count = [0 for i in range(26)]\n",
    "    while right < len(s):\n",
    "        count[ord(s[right]) - ord('A')]+=1\n",
    "        maxFrequency = max(maxFrequency, count[ord(s[right]) - ord('A')])\n",
    "        while (right - left + 1 - maxFrequency) > k:\n",
    "            count[ord(s[left])- ord('A')]-=1\n",
    "            maxFrequency = max(count)\n",
    "            left+=1\n",
    "        if (right - left + 1 - maxFrequency) <= k:\n",
    "            maxLength = max(maxLength, right - left + 1)\n",
    "        right+=1\n",
    "    return maxLength      \n",
    "s = \"ABAB\"\n",
    "k = 2\n",
    "characterReplacement(s,k)\n",
    "        "
   ]
  },
  {
   "cell_type": "markdown",
   "id": "e17b9998",
   "metadata": {},
   "source": [
    "## Count subarray where sum equal to k\n",
    "https://leetcode.com/problems/subarray-sum-equals-k/description/"
   ]
  },
  {
   "cell_type": "code",
   "execution_count": 80,
   "id": "1bb0a99d",
   "metadata": {},
   "outputs": [
    {
     "data": {
      "text/plain": [
       "2"
      ]
     },
     "execution_count": 80,
     "metadata": {},
     "output_type": "execute_result"
    }
   ],
   "source": [
    "def subarraySum(nums: list[int], k: int) -> int:\n",
    "    myMap = defaultdict(lambda:0)\n",
    "    left = 0\n",
    "    right = 0\n",
    "    sum_here = 0\n",
    "    result = 0\n",
    "    while right < len(nums):\n",
    "        sum_here +=nums[right] #prefix sum\n",
    "        if sum_here == k:\n",
    "            result+=1\n",
    "        if sum_here - k in myMap: #if prefix sum minus k exist then add those in result \n",
    "            result += myMap[sum_here - k]\n",
    "        myMap[sum_here]+=1\n",
    "        right +=1\n",
    "    return result\n",
    "nums = [1,1,1]\n",
    "k = 2\n",
    "subarraySum(nums, k)"
   ]
  },
  {
   "cell_type": "markdown",
   "id": "5fde8f3d",
   "metadata": {},
   "source": [
    "## Binary Subarray with Sum\n",
    "https://leetcode.com/problems/binary-subarrays-with-sum/description/"
   ]
  },
  {
   "cell_type": "code",
   "execution_count": 81,
   "id": "c97e9a4e",
   "metadata": {},
   "outputs": [],
   "source": [
    "def numSubarraysWithSum(nums: list[int], goal: int) -> int:\n",
    "    def helper(nums, goal):\n",
    "        if goal < 0:\n",
    "            return 0 \n",
    "        left = 0\n",
    "        right = 0\n",
    "        count = 0\n",
    "        sum = 0\n",
    "        while right < len(nums):\n",
    "            sum += nums[right]\n",
    "            while sum > goal:\n",
    "                sum -= nums[left]\n",
    "                left +=1\n",
    "            count = count + (right - left + 1)\n",
    "            right += 1\n",
    "        return count\n",
    "    return helper(nums, goal) - helper(nums, goal -1)\n",
    "    # (sum <= goal) - (sum <= goal - 1)"
   ]
  },
  {
   "cell_type": "markdown",
   "id": "8c16b8dd",
   "metadata": {},
   "source": [
    "## Count number of nice subarray\n",
    "https://leetcode.com/problems/count-number-of-nice-subarrays/description/"
   ]
  },
  {
   "cell_type": "code",
   "execution_count": null,
   "id": "a81121fe",
   "metadata": {},
   "outputs": [],
   "source": [
    "def numberOfSubarrays(nums: list[int], k: int) -> int:\n",
    "    def helper(nums, goal):\n",
    "        if goal < 0:\n",
    "            return 0\n",
    "        left = 0\n",
    "        right = 0\n",
    "        count = 0\n",
    "        sum_here = 0\n",
    "        while right < len(nums):\n",
    "            sum_here += nums[right] % 2 # here is the change\n",
    "            while sum_here > goal:\n",
    "                sum_here -= nums[left] % 2\n",
    "                left +=1\n",
    "            count = count + right - left + 1\n",
    "            right +=1\n",
    "        return count\n",
    "    return helper(nums, k) - helper(nums, k-1)"
   ]
  },
  {
   "cell_type": "markdown",
   "id": "1ea44b62",
   "metadata": {},
   "source": [
    "## Subarray with k different Integers\n",
    "https://leetcode.com/problems/subarrays-with-k-different-integers/description/"
   ]
  },
  {
   "cell_type": "code",
   "execution_count": 83,
   "id": "315adca3",
   "metadata": {},
   "outputs": [],
   "source": [
    "def subarraysWithLessThanKDistinct(self, nums, k):\n",
    "    left = 0\n",
    "    right = 0\n",
    "    result = 0\n",
    "    hashMap = {}\n",
    "    while right < len(nums):\n",
    "        hashMap[nums[right]] = hashMap.get(nums[right], 0) + 1\n",
    "        while len(hashMap) > k:\n",
    "            hashMap[nums[left]] -= 1\n",
    "            if hashMap[nums[left]] == 0:\n",
    "                hashMap.pop(nums[left])\n",
    "            left+=1\n",
    "        if len(hashMap) <= k:\n",
    "            result = result + 1 + right - left + 1\n",
    "        right+=1\n",
    "    return result\n",
    "def subarraysWithKDistinct(self, nums: list[int], k: int) -> int:\n",
    "    return self.subarraysWithLessThanKDistinct(nums, k) - self.subarraysWithLessThanKDistinct(nums, k-1)"
   ]
  },
  {
   "cell_type": "markdown",
   "id": "31f48fed",
   "metadata": {},
   "source": [
    "## Minimum window Substring\n"
   ]
  },
  {
   "cell_type": "code",
   "execution_count": 85,
   "id": "e82c58ce",
   "metadata": {},
   "outputs": [],
   "source": [
    "def solve():\n",
    "    pass"
   ]
  },
  {
   "cell_type": "code",
   "execution_count": null,
   "id": "7f8192fe",
   "metadata": {},
   "outputs": [],
   "source": []
  }
 ],
 "metadata": {
  "kernelspec": {
   "display_name": "Python 3 (ipykernel)",
   "language": "python",
   "name": "python3"
  },
  "language_info": {
   "codemirror_mode": {
    "name": "ipython",
    "version": 3
   },
   "file_extension": ".py",
   "mimetype": "text/x-python",
   "name": "python",
   "nbconvert_exporter": "python",
   "pygments_lexer": "ipython3",
   "version": "3.11.5"
  }
 },
 "nbformat": 4,
 "nbformat_minor": 5
}
