{
 "cells": [
  {
   "cell_type": "code",
   "execution_count": 3,
   "metadata": {},
   "outputs": [
    {
     "name": "stdout",
     "output_type": "stream",
     "text": [
      "12 3 4 2\n",
      "No\n"
     ]
    }
   ],
   "source": [
    "n,k,x,y = map(int,input().split())\n",
    "def solve(n,k,x,y):\n",
    "    for j in range(n):\n",
    "        current = (x+j*k)%n\n",
    "        if current == y:\n",
    "            return \"Yes\"\n",
    "    return \"No\"\n",
    "print(solve(n,k,x,y))"
   ]
  },
  {
   "cell_type": "code",
   "execution_count": 4,
   "metadata": {},
   "outputs": [
    {
     "name": "stdout",
     "output_type": "stream",
     "text": [
      "6 5\n",
      "10 5 5 3 2 1\n"
     ]
    },
    {
     "ename": "KeyboardInterrupt",
     "evalue": "",
     "output_type": "error",
     "traceback": [
      "\u001b[0;31m---------------------------------------------------------------------------\u001b[0m",
      "\u001b[0;31mKeyboardInterrupt\u001b[0m                         Traceback (most recent call last)",
      "\u001b[0;32m<ipython-input-4-934f6e48a96d>\u001b[0m in \u001b[0;36m<module>\u001b[0;34m\u001b[0m\n\u001b[1;32m      7\u001b[0m     \u001b[0mqueries\u001b[0m\u001b[0;34m+=\u001b[0m\u001b[0ms\u001b[0m\u001b[0;34m[\u001b[0m\u001b[0mj\u001b[0m\u001b[0;34m]\u001b[0m\u001b[0;34m\u001b[0m\u001b[0;34m\u001b[0m\u001b[0m\n\u001b[1;32m      8\u001b[0m     \u001b[0mqueries\u001b[0m\u001b[0;34m-=\u001b[0m\u001b[0mk\u001b[0m\u001b[0;34m\u001b[0m\u001b[0;34m\u001b[0m\u001b[0m\n\u001b[0;32m----> 9\u001b[0;31m     \u001b[0mday\u001b[0m\u001b[0;34m+=\u001b[0m\u001b[0;36m1\u001b[0m\u001b[0;34m\u001b[0m\u001b[0;34m\u001b[0m\u001b[0m\n\u001b[0m\u001b[1;32m     10\u001b[0m \u001b[0mprint\u001b[0m\u001b[0;34m(\u001b[0m\u001b[0mday\u001b[0m\u001b[0;34m)\u001b[0m\u001b[0;34m\u001b[0m\u001b[0;34m\u001b[0m\u001b[0m\n",
      "\u001b[0;31mKeyboardInterrupt\u001b[0m: "
     ]
    }
   ],
   "source": [
    "n,k =map(int,input().split())\n",
    "s = list(map(int,input().strip().split()))\n",
    "j = 0\n",
    "day = 0\n",
    "queries = 0\n",
    "while queries >= 0:\n",
    "    if j<n:\n",
    "        queries+=s[j]\n",
    "    queries-=k\n",
    "    day+=1\n",
    "    j+=1\n",
    "print(day)"
   ]
  },
  {
   "cell_type": "code",
   "execution_count": 1,
   "metadata": {},
   "outputs": [
    {
     "data": {
      "text/plain": [
       "0"
      ]
     },
     "execution_count": 1,
     "metadata": {},
     "output_type": "execute_result"
    }
   ],
   "source": [
    "1&2"
   ]
  },
  {
   "cell_type": "code",
   "execution_count": 13,
   "metadata": {},
   "outputs": [
    {
     "data": {
      "text/plain": [
       "2"
      ]
     },
     "execution_count": 13,
     "metadata": {},
     "output_type": "execute_result"
    }
   ],
   "source": [
    "2&3"
   ]
  },
  {
   "cell_type": "code",
   "execution_count": 14,
   "metadata": {},
   "outputs": [
    {
     "data": {
      "text/plain": [
       "1"
      ]
     },
     "execution_count": 14,
     "metadata": {},
     "output_type": "execute_result"
    }
   ],
   "source": [
    "3&1"
   ]
  },
  {
   "cell_type": "code",
   "execution_count": 5,
   "metadata": {},
   "outputs": [
    {
     "data": {
      "text/plain": [
       "4"
      ]
     },
     "execution_count": 5,
     "metadata": {},
     "output_type": "execute_result"
    }
   ],
   "source": [
    "4&5"
   ]
  },
  {
   "cell_type": "code",
   "execution_count": 6,
   "metadata": {},
   "outputs": [
    {
     "data": {
      "text/plain": [
       "4"
      ]
     },
     "execution_count": 6,
     "metadata": {},
     "output_type": "execute_result"
    }
   ],
   "source": [
    "5&6"
   ]
  },
  {
   "cell_type": "code",
   "execution_count": 7,
   "metadata": {},
   "outputs": [
    {
     "data": {
      "text/plain": [
       "6"
      ]
     },
     "execution_count": 7,
     "metadata": {},
     "output_type": "execute_result"
    }
   ],
   "source": [
    "6&7"
   ]
  },
  {
   "cell_type": "code",
   "execution_count": 8,
   "metadata": {},
   "outputs": [
    {
     "data": {
      "text/plain": [
       "0"
      ]
     },
     "execution_count": 8,
     "metadata": {},
     "output_type": "execute_result"
    }
   ],
   "source": [
    "7&8"
   ]
  },
  {
   "cell_type": "code",
   "execution_count": 20,
   "metadata": {},
   "outputs": [
    {
     "data": {
      "text/plain": [
       "2.0"
      ]
     },
     "execution_count": 20,
     "metadata": {},
     "output_type": "execute_result"
    }
   ],
   "source": [
    "import math\n",
    "math.log(4)/math.log(2)"
   ]
  },
  {
   "cell_type": "code",
   "execution_count": null,
   "metadata": {},
   "outputs": [],
   "source": [
    "# 1->  0 0 0\n",
    "# 2->  0 1 0\n",
    "# 3->  0 1 1\n",
    "# 4->  1 0 0\n",
    "# 5->  1 0 1\n",
    "# 6->  1 1 0\n",
    "# 7->  1 1 1\n",
    "# 8->1 0 0 0"
   ]
  },
  {
   "cell_type": "code",
   "execution_count": 26,
   "metadata": {},
   "outputs": [],
   "source": [
    "a = [-1]"
   ]
  },
  {
   "cell_type": "code",
   "execution_count": 29,
   "metadata": {},
   "outputs": [
    {
     "name": "stdout",
     "output_type": "stream",
     "text": [
      "-1 c d\n"
     ]
    }
   ],
   "source": [
    "print(*a,\"c\",\"d\")"
   ]
  },
  {
   "cell_type": "code",
   "execution_count": 23,
   "metadata": {},
   "outputs": [
    {
     "ename": "SyntaxError",
     "evalue": "can't use starred expression here (<ipython-input-23-b252d56222c4>, line 1)",
     "output_type": "error",
     "traceback": [
      "\u001b[0;36m  File \u001b[0;32m\"<ipython-input-23-b252d56222c4>\"\u001b[0;36m, line \u001b[0;32m1\u001b[0m\n\u001b[0;31m    *a\u001b[0m\n\u001b[0m    ^\u001b[0m\n\u001b[0;31mSyntaxError\u001b[0m\u001b[0;31m:\u001b[0m can't use starred expression here\n"
     ]
    }
   ],
   "source": [
    "*a"
   ]
  },
  {
   "cell_type": "code",
   "execution_count": 50,
   "metadata": {},
   "outputs": [
    {
     "name": "stdout",
     "output_type": "stream",
     "text": [
      "6\n",
      "2 1 3 5 4 6\n"
     ]
    }
   ],
   "source": [
    "def solve(n):\n",
    "    if (math.log(n)/math.log(2))%2 == 0:\n",
    "        return [-1]\n",
    "    \n",
    "    else:\n",
    "        res =  [i+1 for i in range(n)]\n",
    "        #res[0],res[1] = res[1],res[0]\n",
    "        i = 0\n",
    "        #for i in range(2,n):\n",
    "        while i<n:\n",
    "            #print(res[i])\n",
    "            if (math.log(res[i])/math.log(2)).is_integer():\n",
    "                res[i],res[i+1] = res[i+1],res[i]\n",
    "                i+=2\n",
    "            else:\n",
    "                i+=1\n",
    "    return res\n",
    "n = int(input())\n",
    "result = solve(n)\n",
    "print(*result)"
   ]
  },
  {
   "cell_type": "code",
   "execution_count": 38,
   "metadata": {},
   "outputs": [
    {
     "data": {
      "text/plain": [
       "False"
      ]
     },
     "execution_count": 38,
     "metadata": {},
     "output_type": "execute_result"
    }
   ],
   "source": [
    "(math.log(3)/math.log(2)).is_integer()"
   ]
  },
  {
   "cell_type": "code",
   "execution_count": 67,
   "metadata": {},
   "outputs": [
    {
     "name": "stdout",
     "output_type": "stream",
     "text": [
      "10\n",
      "1\n",
      "-1\n",
      "2\n",
      "-1\n",
      "3\n",
      "2 1 3\n",
      "4\n",
      "-1\n",
      "5\n",
      "2 1 3 5 4\n",
      "6\n",
      "2 1 3 5 4 6\n",
      "7\n",
      "2 1 3 5 4 6 7\n",
      "8\n",
      "-1\n",
      "9\n",
      "2 1 3 5 4 6 7 9 8\n",
      "16\n",
      "-1\n"
     ]
    }
   ],
   "source": [
    "import math\n",
    "try:\n",
    "    for i in range(int(input())):\n",
    "        def solve(n):\n",
    "            if (math.log(n)/math.log(2)).is_integer():\n",
    "                return [-1]\n",
    "            \n",
    "            else:\n",
    "                res =  [i+1 for i in range(n)]\n",
    "                #res[0],res[1] = res[1],res[0]\n",
    "                i = 0\n",
    "                #for i in range(2,n):\n",
    "                while i<n:\n",
    "                    #print(res[i])\n",
    "                    if (math.log(res[i])/math.log(2)).is_integer():\n",
    "                        res[i],res[i+1] = res[i+1],res[i]\n",
    "                        i+=2\n",
    "                    else:\n",
    "                        i+=1\n",
    "            return res\n",
    "        n = int(input())\n",
    "        result = solve(n)\n",
    "        print(*result)\n",
    "            \n",
    "except:\n",
    "    pass"
   ]
  },
  {
   "cell_type": "code",
   "execution_count": 52,
   "metadata": {},
   "outputs": [
    {
     "ename": "TypeError",
     "evalue": "sequence item 0: expected str instance, int found",
     "output_type": "error",
     "traceback": [
      "\u001b[0;31m---------------------------------------------------------------------------\u001b[0m",
      "\u001b[0;31mTypeError\u001b[0m                                 Traceback (most recent call last)",
      "\u001b[0;32m<ipython-input-52-1e97fee9e26d>\u001b[0m in \u001b[0;36m<module>\u001b[0;34m\u001b[0m\n\u001b[1;32m      1\u001b[0m \u001b[0ml\u001b[0m \u001b[0;34m=\u001b[0m \u001b[0;34m[\u001b[0m\u001b[0;36m1\u001b[0m\u001b[0;34m,\u001b[0m\u001b[0;36m2\u001b[0m\u001b[0;34m,\u001b[0m\u001b[0;36m3\u001b[0m\u001b[0;34m,\u001b[0m\u001b[0;36m4\u001b[0m\u001b[0;34m]\u001b[0m\u001b[0;34m\u001b[0m\u001b[0;34m\u001b[0m\u001b[0m\n\u001b[0;32m----> 2\u001b[0;31m \u001b[0mprint\u001b[0m\u001b[0;34m(\u001b[0m\u001b[0;34m\" \"\u001b[0m\u001b[0;34m.\u001b[0m\u001b[0mjoin\u001b[0m\u001b[0;34m(\u001b[0m\u001b[0mlist\u001b[0m\u001b[0;34m(\u001b[0m\u001b[0mmap\u001b[0m\u001b[0;34m(\u001b[0m\u001b[0mint\u001b[0m\u001b[0;34m,\u001b[0m\u001b[0ml\u001b[0m\u001b[0;34m)\u001b[0m\u001b[0;34m)\u001b[0m\u001b[0;34m)\u001b[0m\u001b[0;34m)\u001b[0m\u001b[0;34m\u001b[0m\u001b[0;34m\u001b[0m\u001b[0m\n\u001b[0m",
      "\u001b[0;31mTypeError\u001b[0m: sequence item 0: expected str instance, int found"
     ]
    }
   ],
   "source": [
    "l = [1,2,3,4]\n",
    "print(\" \".join(list(map(int,l))))"
   ]
  },
  {
   "cell_type": "code",
   "execution_count": 53,
   "metadata": {},
   "outputs": [
    {
     "name": "stdout",
     "output_type": "stream",
     "text": [
      "1 2 3 4 "
     ]
    }
   ],
   "source": [
    "for i in l:\n",
    "    print(i, end=' ')"
   ]
  },
  {
   "cell_type": "code",
   "execution_count": 64,
   "metadata": {},
   "outputs": [
    {
     "name": "stdout",
     "output_type": "stream",
     "text": [
      "8\n",
      "8\n"
     ]
    }
   ],
   "source": [
    "import math\n",
    "try:\n",
    "    for j in range(int(input())):\n",
    "        n = int(input())\n",
    "        if (math.log(n)/math.log(2))%2 == 0:\n",
    "            print(-1)\n",
    "\n",
    "        else:\n",
    "            res =  [i+1 for i in range(n)]\n",
    "            #res[0],res[1] = res[1],res[0]\n",
    "            i = 0\n",
    "            #for i in range(2,n):\n",
    "            while i<n:\n",
    "                #print(res[i])\n",
    "                if (math.log(res[i])/math.log(2)).is_integer():\n",
    "                    res[i],res[i+1] = res[i+1],res[i]\n",
    "                    i+=2\n",
    "                else:\n",
    "                    i+=1\n",
    "            print(*res)\n",
    "            \n",
    "except:\n",
    "    pass"
   ]
  },
  {
   "cell_type": "markdown",
   "metadata": {},
   "source": [
    "## tokenization"
   ]
  },
  {
   "cell_type": "code",
   "execution_count": 7,
   "metadata": {},
   "outputs": [
    {
     "name": "stdout",
     "output_type": "stream",
     "text": [
      "showing info https://raw.githubusercontent.com/nltk/nltk_data/gh-pages/index.xml\n"
     ]
    },
    {
     "ename": "KeyboardInterrupt",
     "evalue": "",
     "output_type": "error",
     "traceback": [
      "\u001b[0;31m---------------------------------------------------------------------------\u001b[0m",
      "\u001b[0;31mKeyboardInterrupt\u001b[0m                         Traceback (most recent call last)",
      "\u001b[0;32m<ipython-input-7-3b02390c7677>\u001b[0m in \u001b[0;36m<module>\u001b[0;34m\u001b[0m\n\u001b[1;32m      1\u001b[0m \u001b[0;32mimport\u001b[0m \u001b[0mnltk\u001b[0m\u001b[0;34m\u001b[0m\u001b[0;34m\u001b[0m\u001b[0m\n\u001b[0;32m----> 2\u001b[0;31m \u001b[0mnltk\u001b[0m\u001b[0;34m.\u001b[0m\u001b[0mdownload\u001b[0m\u001b[0;34m(\u001b[0m\u001b[0;34m)\u001b[0m\u001b[0;34m\u001b[0m\u001b[0;34m\u001b[0m\u001b[0m\n\u001b[0m",
      "\u001b[0;32m~/anaconda3/lib/python3.8/site-packages/nltk/downloader.py\u001b[0m in \u001b[0;36mdownload\u001b[0;34m(self, info_or_id, download_dir, quiet, force, prefix, halt_on_error, raise_on_error, print_error_to)\u001b[0m\n\u001b[1;32m    763\u001b[0m             \u001b[0;32mif\u001b[0m \u001b[0mdownload_dir\u001b[0m \u001b[0;32mis\u001b[0m \u001b[0;32mnot\u001b[0m \u001b[0;32mNone\u001b[0m\u001b[0;34m:\u001b[0m\u001b[0;34m\u001b[0m\u001b[0;34m\u001b[0m\u001b[0m\n\u001b[1;32m    764\u001b[0m                 \u001b[0mself\u001b[0m\u001b[0;34m.\u001b[0m\u001b[0m_download_dir\u001b[0m \u001b[0;34m=\u001b[0m \u001b[0mdownload_dir\u001b[0m\u001b[0;34m\u001b[0m\u001b[0;34m\u001b[0m\u001b[0m\n\u001b[0;32m--> 765\u001b[0;31m             \u001b[0mself\u001b[0m\u001b[0;34m.\u001b[0m\u001b[0m_interactive_download\u001b[0m\u001b[0;34m(\u001b[0m\u001b[0;34m)\u001b[0m\u001b[0;34m\u001b[0m\u001b[0;34m\u001b[0m\u001b[0m\n\u001b[0m\u001b[1;32m    766\u001b[0m             \u001b[0;32mreturn\u001b[0m \u001b[0;32mTrue\u001b[0m\u001b[0;34m\u001b[0m\u001b[0;34m\u001b[0m\u001b[0m\n\u001b[1;32m    767\u001b[0m \u001b[0;34m\u001b[0m\u001b[0m\n",
      "\u001b[0;32m~/anaconda3/lib/python3.8/site-packages/nltk/downloader.py\u001b[0m in \u001b[0;36m_interactive_download\u001b[0;34m(self)\u001b[0m\n\u001b[1;32m   1113\u001b[0m         \u001b[0;32mif\u001b[0m \u001b[0mTKINTER\u001b[0m\u001b[0;34m:\u001b[0m\u001b[0;34m\u001b[0m\u001b[0;34m\u001b[0m\u001b[0m\n\u001b[1;32m   1114\u001b[0m             \u001b[0;32mtry\u001b[0m\u001b[0;34m:\u001b[0m\u001b[0;34m\u001b[0m\u001b[0;34m\u001b[0m\u001b[0m\n\u001b[0;32m-> 1115\u001b[0;31m                 \u001b[0mDownloaderGUI\u001b[0m\u001b[0;34m(\u001b[0m\u001b[0mself\u001b[0m\u001b[0;34m)\u001b[0m\u001b[0;34m.\u001b[0m\u001b[0mmainloop\u001b[0m\u001b[0;34m(\u001b[0m\u001b[0;34m)\u001b[0m\u001b[0;34m\u001b[0m\u001b[0;34m\u001b[0m\u001b[0m\n\u001b[0m\u001b[1;32m   1116\u001b[0m             \u001b[0;32mexcept\u001b[0m \u001b[0mTclError\u001b[0m\u001b[0;34m:\u001b[0m\u001b[0;34m\u001b[0m\u001b[0;34m\u001b[0m\u001b[0m\n\u001b[1;32m   1117\u001b[0m                 \u001b[0mDownloaderShell\u001b[0m\u001b[0;34m(\u001b[0m\u001b[0mself\u001b[0m\u001b[0;34m)\u001b[0m\u001b[0;34m.\u001b[0m\u001b[0mrun\u001b[0m\u001b[0;34m(\u001b[0m\u001b[0;34m)\u001b[0m\u001b[0;34m\u001b[0m\u001b[0;34m\u001b[0m\u001b[0m\n",
      "\u001b[0;32m~/anaconda3/lib/python3.8/site-packages/nltk/downloader.py\u001b[0m in \u001b[0;36mmainloop\u001b[0;34m(self, *args, **kwargs)\u001b[0m\n\u001b[1;32m   1932\u001b[0m \u001b[0;34m\u001b[0m\u001b[0m\n\u001b[1;32m   1933\u001b[0m     \u001b[0;32mdef\u001b[0m \u001b[0mmainloop\u001b[0m\u001b[0;34m(\u001b[0m\u001b[0mself\u001b[0m\u001b[0;34m,\u001b[0m \u001b[0;34m*\u001b[0m\u001b[0margs\u001b[0m\u001b[0;34m,\u001b[0m \u001b[0;34m**\u001b[0m\u001b[0mkwargs\u001b[0m\u001b[0;34m)\u001b[0m\u001b[0;34m:\u001b[0m\u001b[0;34m\u001b[0m\u001b[0;34m\u001b[0m\u001b[0m\n\u001b[0;32m-> 1934\u001b[0;31m         \u001b[0mself\u001b[0m\u001b[0;34m.\u001b[0m\u001b[0mtop\u001b[0m\u001b[0;34m.\u001b[0m\u001b[0mmainloop\u001b[0m\u001b[0;34m(\u001b[0m\u001b[0;34m*\u001b[0m\u001b[0margs\u001b[0m\u001b[0;34m,\u001b[0m \u001b[0;34m**\u001b[0m\u001b[0mkwargs\u001b[0m\u001b[0;34m)\u001b[0m\u001b[0;34m\u001b[0m\u001b[0;34m\u001b[0m\u001b[0m\n\u001b[0m\u001b[1;32m   1935\u001b[0m \u001b[0;34m\u001b[0m\u001b[0m\n\u001b[1;32m   1936\u001b[0m     \u001b[0;31m# /////////////////////////////////////////////////////////////////\u001b[0m\u001b[0;34m\u001b[0m\u001b[0;34m\u001b[0m\u001b[0;34m\u001b[0m\u001b[0m\n",
      "\u001b[0;32m~/anaconda3/lib/python3.8/tkinter/__init__.py\u001b[0m in \u001b[0;36mmainloop\u001b[0;34m(self, n)\u001b[0m\n\u001b[1;32m   1418\u001b[0m     \u001b[0;32mdef\u001b[0m \u001b[0mmainloop\u001b[0m\u001b[0;34m(\u001b[0m\u001b[0mself\u001b[0m\u001b[0;34m,\u001b[0m \u001b[0mn\u001b[0m\u001b[0;34m=\u001b[0m\u001b[0;36m0\u001b[0m\u001b[0;34m)\u001b[0m\u001b[0;34m:\u001b[0m\u001b[0;34m\u001b[0m\u001b[0;34m\u001b[0m\u001b[0m\n\u001b[1;32m   1419\u001b[0m         \u001b[0;34m\"\"\"Call the mainloop of Tk.\"\"\"\u001b[0m\u001b[0;34m\u001b[0m\u001b[0;34m\u001b[0m\u001b[0m\n\u001b[0;32m-> 1420\u001b[0;31m         \u001b[0mself\u001b[0m\u001b[0;34m.\u001b[0m\u001b[0mtk\u001b[0m\u001b[0;34m.\u001b[0m\u001b[0mmainloop\u001b[0m\u001b[0;34m(\u001b[0m\u001b[0mn\u001b[0m\u001b[0;34m)\u001b[0m\u001b[0;34m\u001b[0m\u001b[0;34m\u001b[0m\u001b[0m\n\u001b[0m\u001b[1;32m   1421\u001b[0m \u001b[0;34m\u001b[0m\u001b[0m\n\u001b[1;32m   1422\u001b[0m     \u001b[0;32mdef\u001b[0m \u001b[0mquit\u001b[0m\u001b[0;34m(\u001b[0m\u001b[0mself\u001b[0m\u001b[0;34m)\u001b[0m\u001b[0;34m:\u001b[0m\u001b[0;34m\u001b[0m\u001b[0;34m\u001b[0m\u001b[0m\n",
      "\u001b[0;31mKeyboardInterrupt\u001b[0m: "
     ]
    }
   ],
   "source": [
    "import nltk\n",
    "nltk.download()"
   ]
  },
  {
   "cell_type": "code",
   "execution_count": 6,
   "metadata": {},
   "outputs": [
    {
     "ename": "LookupError",
     "evalue": "\n**********************************************************************\n  Resource \u001b[93mpunkt\u001b[0m not found.\n  Please use the NLTK Downloader to obtain the resource:\n\n  \u001b[31m>>> import nltk\n  >>> nltk.download('punkt')\n  \u001b[0m\n  For more information see: https://www.nltk.org/data.html\n\n  Attempted to load \u001b[93mtokenizers/punkt/PY3/english.pickle\u001b[0m\n\n  Searched in:\n    - '/home/deepak/nltk_data'\n    - '/home/deepak/anaconda3/nltk_data'\n    - '/home/deepak/anaconda3/share/nltk_data'\n    - '/home/deepak/anaconda3/lib/nltk_data'\n    - '/usr/share/nltk_data'\n    - '/usr/local/share/nltk_data'\n    - '/usr/lib/nltk_data'\n    - '/usr/local/lib/nltk_data'\n    - ''\n**********************************************************************\n",
     "output_type": "error",
     "traceback": [
      "\u001b[0;31m---------------------------------------------------------------------------\u001b[0m",
      "\u001b[0;31mLookupError\u001b[0m                               Traceback (most recent call last)",
      "\u001b[0;32m<ipython-input-6-ad2a2967ddde>\u001b[0m in \u001b[0;36m<module>\u001b[0;34m\u001b[0m\n\u001b[1;32m      3\u001b[0m \u001b[0mspecies\u001b[0m \u001b[0mby\u001b[0m \u001b[0mbuilding\u001b[0m \u001b[0ma\u001b[0m \u001b[0mself\u001b[0m\u001b[0;34m-\u001b[0m\u001b[0msustaining\u001b[0m \u001b[0mcity\u001b[0m \u001b[0mon\u001b[0m \u001b[0mMars\u001b[0m\u001b[0;34m.\u001b[0m \u001b[0mIn\u001b[0m \u001b[0;36m2008\u001b[0m\u001b[0;34m,\u001b[0m \u001b[0mSpaceX\u001b[0m\u001b[0;31m’\u001b[0m\u001b[0ms\u001b[0m \u001b[0mFalcon\u001b[0m \u001b[0;36m1\u001b[0m \u001b[0mbecame\u001b[0m \u001b[0mthe\u001b[0m \u001b[0mfirst\u001b[0m \u001b[0mprivately\u001b[0m \u001b[0mdeveloped\u001b[0m\u001b[0;34m\u001b[0m\u001b[0;34m\u001b[0m\u001b[0m\n\u001b[1;32m      4\u001b[0m liquid-fuel launch vehicle to orbit the Earth.\"\"\"\n\u001b[0;32m----> 5\u001b[0;31m \u001b[0mword_tokenize\u001b[0m\u001b[0;34m(\u001b[0m\u001b[0mtext\u001b[0m\u001b[0;34m)\u001b[0m\u001b[0;34m\u001b[0m\u001b[0;34m\u001b[0m\u001b[0m\n\u001b[0m",
      "\u001b[0;32m~/anaconda3/lib/python3.8/site-packages/nltk/tokenize/__init__.py\u001b[0m in \u001b[0;36mword_tokenize\u001b[0;34m(text, language, preserve_line)\u001b[0m\n\u001b[1;32m    127\u001b[0m     \u001b[0;34m:\u001b[0m\u001b[0mtype\u001b[0m \u001b[0mpreserve_line\u001b[0m\u001b[0;34m:\u001b[0m \u001b[0mbool\u001b[0m\u001b[0;34m\u001b[0m\u001b[0;34m\u001b[0m\u001b[0m\n\u001b[1;32m    128\u001b[0m     \"\"\"\n\u001b[0;32m--> 129\u001b[0;31m     \u001b[0msentences\u001b[0m \u001b[0;34m=\u001b[0m \u001b[0;34m[\u001b[0m\u001b[0mtext\u001b[0m\u001b[0;34m]\u001b[0m \u001b[0;32mif\u001b[0m \u001b[0mpreserve_line\u001b[0m \u001b[0;32melse\u001b[0m \u001b[0msent_tokenize\u001b[0m\u001b[0;34m(\u001b[0m\u001b[0mtext\u001b[0m\u001b[0;34m,\u001b[0m \u001b[0mlanguage\u001b[0m\u001b[0;34m)\u001b[0m\u001b[0;34m\u001b[0m\u001b[0;34m\u001b[0m\u001b[0m\n\u001b[0m\u001b[1;32m    130\u001b[0m     return [\n\u001b[1;32m    131\u001b[0m         \u001b[0mtoken\u001b[0m \u001b[0;32mfor\u001b[0m \u001b[0msent\u001b[0m \u001b[0;32min\u001b[0m \u001b[0msentences\u001b[0m \u001b[0;32mfor\u001b[0m \u001b[0mtoken\u001b[0m \u001b[0;32min\u001b[0m \u001b[0m_treebank_word_tokenizer\u001b[0m\u001b[0;34m.\u001b[0m\u001b[0mtokenize\u001b[0m\u001b[0;34m(\u001b[0m\u001b[0msent\u001b[0m\u001b[0;34m)\u001b[0m\u001b[0;34m\u001b[0m\u001b[0;34m\u001b[0m\u001b[0m\n",
      "\u001b[0;32m~/anaconda3/lib/python3.8/site-packages/nltk/tokenize/__init__.py\u001b[0m in \u001b[0;36msent_tokenize\u001b[0;34m(text, language)\u001b[0m\n\u001b[1;32m    104\u001b[0m     \u001b[0;34m:\u001b[0m\u001b[0mparam\u001b[0m \u001b[0mlanguage\u001b[0m\u001b[0;34m:\u001b[0m \u001b[0mthe\u001b[0m \u001b[0mmodel\u001b[0m \u001b[0mname\u001b[0m \u001b[0;32min\u001b[0m \u001b[0mthe\u001b[0m \u001b[0mPunkt\u001b[0m \u001b[0mcorpus\u001b[0m\u001b[0;34m\u001b[0m\u001b[0;34m\u001b[0m\u001b[0m\n\u001b[1;32m    105\u001b[0m     \"\"\"\n\u001b[0;32m--> 106\u001b[0;31m     \u001b[0mtokenizer\u001b[0m \u001b[0;34m=\u001b[0m \u001b[0mload\u001b[0m\u001b[0;34m(\u001b[0m\u001b[0;34m\"tokenizers/punkt/{0}.pickle\"\u001b[0m\u001b[0;34m.\u001b[0m\u001b[0mformat\u001b[0m\u001b[0;34m(\u001b[0m\u001b[0mlanguage\u001b[0m\u001b[0;34m)\u001b[0m\u001b[0;34m)\u001b[0m\u001b[0;34m\u001b[0m\u001b[0;34m\u001b[0m\u001b[0m\n\u001b[0m\u001b[1;32m    107\u001b[0m     \u001b[0;32mreturn\u001b[0m \u001b[0mtokenizer\u001b[0m\u001b[0;34m.\u001b[0m\u001b[0mtokenize\u001b[0m\u001b[0;34m(\u001b[0m\u001b[0mtext\u001b[0m\u001b[0;34m)\u001b[0m\u001b[0;34m\u001b[0m\u001b[0;34m\u001b[0m\u001b[0m\n\u001b[1;32m    108\u001b[0m \u001b[0;34m\u001b[0m\u001b[0m\n",
      "\u001b[0;32m~/anaconda3/lib/python3.8/site-packages/nltk/data.py\u001b[0m in \u001b[0;36mload\u001b[0;34m(resource_url, format, cache, verbose, logic_parser, fstruct_reader, encoding)\u001b[0m\n\u001b[1;32m    750\u001b[0m \u001b[0;34m\u001b[0m\u001b[0m\n\u001b[1;32m    751\u001b[0m     \u001b[0;31m# Load the resource.\u001b[0m\u001b[0;34m\u001b[0m\u001b[0;34m\u001b[0m\u001b[0;34m\u001b[0m\u001b[0m\n\u001b[0;32m--> 752\u001b[0;31m     \u001b[0mopened_resource\u001b[0m \u001b[0;34m=\u001b[0m \u001b[0m_open\u001b[0m\u001b[0;34m(\u001b[0m\u001b[0mresource_url\u001b[0m\u001b[0;34m)\u001b[0m\u001b[0;34m\u001b[0m\u001b[0;34m\u001b[0m\u001b[0m\n\u001b[0m\u001b[1;32m    753\u001b[0m \u001b[0;34m\u001b[0m\u001b[0m\n\u001b[1;32m    754\u001b[0m     \u001b[0;32mif\u001b[0m \u001b[0mformat\u001b[0m \u001b[0;34m==\u001b[0m \u001b[0;34m\"raw\"\u001b[0m\u001b[0;34m:\u001b[0m\u001b[0;34m\u001b[0m\u001b[0;34m\u001b[0m\u001b[0m\n",
      "\u001b[0;32m~/anaconda3/lib/python3.8/site-packages/nltk/data.py\u001b[0m in \u001b[0;36m_open\u001b[0;34m(resource_url)\u001b[0m\n\u001b[1;32m    875\u001b[0m \u001b[0;34m\u001b[0m\u001b[0m\n\u001b[1;32m    876\u001b[0m     \u001b[0;32mif\u001b[0m \u001b[0mprotocol\u001b[0m \u001b[0;32mis\u001b[0m \u001b[0;32mNone\u001b[0m \u001b[0;32mor\u001b[0m \u001b[0mprotocol\u001b[0m\u001b[0;34m.\u001b[0m\u001b[0mlower\u001b[0m\u001b[0;34m(\u001b[0m\u001b[0;34m)\u001b[0m \u001b[0;34m==\u001b[0m \u001b[0;34m\"nltk\"\u001b[0m\u001b[0;34m:\u001b[0m\u001b[0;34m\u001b[0m\u001b[0;34m\u001b[0m\u001b[0m\n\u001b[0;32m--> 877\u001b[0;31m         \u001b[0;32mreturn\u001b[0m \u001b[0mfind\u001b[0m\u001b[0;34m(\u001b[0m\u001b[0mpath_\u001b[0m\u001b[0;34m,\u001b[0m \u001b[0mpath\u001b[0m \u001b[0;34m+\u001b[0m \u001b[0;34m[\u001b[0m\u001b[0;34m\"\"\u001b[0m\u001b[0;34m]\u001b[0m\u001b[0;34m)\u001b[0m\u001b[0;34m.\u001b[0m\u001b[0mopen\u001b[0m\u001b[0;34m(\u001b[0m\u001b[0;34m)\u001b[0m\u001b[0;34m\u001b[0m\u001b[0;34m\u001b[0m\u001b[0m\n\u001b[0m\u001b[1;32m    878\u001b[0m     \u001b[0;32melif\u001b[0m \u001b[0mprotocol\u001b[0m\u001b[0;34m.\u001b[0m\u001b[0mlower\u001b[0m\u001b[0;34m(\u001b[0m\u001b[0;34m)\u001b[0m \u001b[0;34m==\u001b[0m \u001b[0;34m\"file\"\u001b[0m\u001b[0;34m:\u001b[0m\u001b[0;34m\u001b[0m\u001b[0;34m\u001b[0m\u001b[0m\n\u001b[1;32m    879\u001b[0m         \u001b[0;31m# urllib might not use mode='rb', so handle this one ourselves:\u001b[0m\u001b[0;34m\u001b[0m\u001b[0;34m\u001b[0m\u001b[0;34m\u001b[0m\u001b[0m\n",
      "\u001b[0;32m~/anaconda3/lib/python3.8/site-packages/nltk/data.py\u001b[0m in \u001b[0;36mfind\u001b[0;34m(resource_name, paths)\u001b[0m\n\u001b[1;32m    583\u001b[0m     \u001b[0msep\u001b[0m \u001b[0;34m=\u001b[0m \u001b[0;34m\"*\"\u001b[0m \u001b[0;34m*\u001b[0m \u001b[0;36m70\u001b[0m\u001b[0;34m\u001b[0m\u001b[0;34m\u001b[0m\u001b[0m\n\u001b[1;32m    584\u001b[0m     \u001b[0mresource_not_found\u001b[0m \u001b[0;34m=\u001b[0m \u001b[0;34m\"\\n%s\\n%s\\n%s\\n\"\u001b[0m \u001b[0;34m%\u001b[0m \u001b[0;34m(\u001b[0m\u001b[0msep\u001b[0m\u001b[0;34m,\u001b[0m \u001b[0mmsg\u001b[0m\u001b[0;34m,\u001b[0m \u001b[0msep\u001b[0m\u001b[0;34m)\u001b[0m\u001b[0;34m\u001b[0m\u001b[0;34m\u001b[0m\u001b[0m\n\u001b[0;32m--> 585\u001b[0;31m     \u001b[0;32mraise\u001b[0m \u001b[0mLookupError\u001b[0m\u001b[0;34m(\u001b[0m\u001b[0mresource_not_found\u001b[0m\u001b[0;34m)\u001b[0m\u001b[0;34m\u001b[0m\u001b[0;34m\u001b[0m\u001b[0m\n\u001b[0m\u001b[1;32m    586\u001b[0m \u001b[0;34m\u001b[0m\u001b[0m\n\u001b[1;32m    587\u001b[0m \u001b[0;34m\u001b[0m\u001b[0m\n",
      "\u001b[0;31mLookupError\u001b[0m: \n**********************************************************************\n  Resource \u001b[93mpunkt\u001b[0m not found.\n  Please use the NLTK Downloader to obtain the resource:\n\n  \u001b[31m>>> import nltk\n  >>> nltk.download('punkt')\n  \u001b[0m\n  For more information see: https://www.nltk.org/data.html\n\n  Attempted to load \u001b[93mtokenizers/punkt/PY3/english.pickle\u001b[0m\n\n  Searched in:\n    - '/home/deepak/nltk_data'\n    - '/home/deepak/anaconda3/nltk_data'\n    - '/home/deepak/anaconda3/share/nltk_data'\n    - '/home/deepak/anaconda3/lib/nltk_data'\n    - '/usr/share/nltk_data'\n    - '/usr/local/share/nltk_data'\n    - '/usr/lib/nltk_data'\n    - '/usr/local/lib/nltk_data'\n    - ''\n**********************************************************************\n"
     ]
    }
   ],
   "source": [
    "from nltk.tokenize import word_tokenize \n",
    "text = \"\"\"Founded in 2002, SpaceX’s mission is to enable humans to become a spacefaring civilization and a multi-planet \n",
    "species by building a self-sustaining city on Mars. In 2008, SpaceX’s Falcon 1 became the first privately developed \n",
    "liquid-fuel launch vehicle to orbit the Earth.\"\"\"\n",
    "word_tokenize(text)"
   ]
  },
  {
   "cell_type": "code",
   "execution_count": 3,
   "metadata": {},
   "outputs": [
    {
     "name": "stdout",
     "output_type": "stream",
     "text": [
      "Requirement already satisfied: nltk in /home/deepak/anaconda3/lib/python3.8/site-packages (3.5)\n",
      "Requirement already satisfied: joblib in /home/deepak/anaconda3/lib/python3.8/site-packages (from nltk) (0.16.0)\n",
      "Requirement already satisfied: tqdm in /home/deepak/anaconda3/lib/python3.8/site-packages (from nltk) (4.47.0)\n",
      "Requirement already satisfied: regex in /home/deepak/anaconda3/lib/python3.8/site-packages (from nltk) (2020.6.8)\n",
      "Requirement already satisfied: click in /home/deepak/anaconda3/lib/python3.8/site-packages (from nltk) (7.1.2)\n"
     ]
    }
   ],
   "source": [
    "!pip install nltk"
   ]
  },
  {
   "cell_type": "code",
   "execution_count": 2,
   "metadata": {},
   "outputs": [
    {
     "name": "stdout",
     "output_type": "stream",
     "text": [
      "5\n"
     ]
    }
   ],
   "source": [
    "# A Naive recursive Python program to fin minimum number \n",
    "# operations to convert str1 to str2 \n",
    "def editDistance(str1, str2, m, n): \n",
    "  \n",
    "    # If first string is empty, the only option is to \n",
    "    # insert all characters of second string into first \n",
    "    if m == 0: \n",
    "         return n \n",
    "  \n",
    "    # If second string is empty, the only option is to \n",
    "    # remove all characters of first string \n",
    "    if n == 0: \n",
    "        return m \n",
    "  \n",
    "    # If last characters of two strings are same, nothing \n",
    "    # much to do. Ignore last characters and get count for \n",
    "    # remaining strings. \n",
    "    if str1[m-1]== str2[n-1]: \n",
    "        return editDistance(str1, str2, m-1, n-1) \n",
    "  \n",
    "    # If last characters are not same, consider all three \n",
    "    # operations on last character of first string, recursively \n",
    "    # compute minimum cost for all three operations and take \n",
    "    # minimum of three values. \n",
    "    return 1 + min(editDistance(str1, str2, m, n-1),    # Insert \n",
    "                   editDistance(str1, str2, m-1, n),    # Remove \n",
    "                   editDistance(str1, str2, m-1, n-1)    # Replace \n",
    "                   ) \n",
    "  \n",
    "# Driver program to test the above function \n",
    "str1 = \"INTENTION\"\n",
    "str2 = \"EXECUTION\"\n",
    "print(editDistance(str1, str2, len(str1), len(str2)))"
   ]
  },
  {
   "cell_type": "code",
   "execution_count": 13,
   "metadata": {},
   "outputs": [
    {
     "name": "stdout",
     "output_type": "stream",
     "text": [
      "2 25 1 2\n",
      "100 20\n",
      "-1\n"
     ]
    }
   ],
   "source": [
    "def find(A,n,x,p):\n",
    "    mini = float('inf')\n",
    "    minp = 0\n",
    "    for i in range(n):\n",
    "        if A[i] == x:\n",
    "            if abs(p-i) < mini:\n",
    "                mini = abs(p-i)\n",
    "                minp = i\n",
    "    return minp\n",
    "def solve(A,N,X,p,k):\n",
    "    index = find(A,N,X,p)\n",
    "    count = 0\n",
    "    if A[index] != X:\n",
    "        A[k-1] = X\n",
    "        A.sort()\n",
    "        count+=1\n",
    "    if A[p-1] == k:\n",
    "        print(0+count)\n",
    "        return\n",
    "    if p<k and A[p-1]<X:\n",
    "        print(-1)\n",
    "        return\n",
    "    if p>k and A[p-1]>X:\n",
    "        print(-1)\n",
    "        return\n",
    "    index = find(A,N,X,p)+1\n",
    "    print(abs(p-index)+count)\n",
    "N,X,p,k = map(int,input().split())\n",
    "A = list(map(int,input().split()))\n",
    "A.sort()\n",
    "solve(A,N,X,p,k)\n",
    "\n",
    "        \n",
    "    \n",
    "        "
   ]
  },
  {
   "cell_type": "code",
   "execution_count": 55,
   "metadata": {},
   "outputs": [],
   "source": [
    "def solve(n,d):\n",
    "    arr = [0]*n\n",
    "    for i in range(n):\n",
    "        arr[i] = list(map(int,input().split()))\n",
    "    adj = [[0 for i in range(n)] for j in range(n)]\n",
    "    for i in range(n):\n",
    "        for j in range(i,n):\n",
    "            cost = 0\n",
    "            for n1,n2 in zip(arr[i],arr[j]):\n",
    "                cost+=abs(n1-n2)\n",
    "            adj[i][j] = -cost\n",
    "            adj[j][i] = -cost\n",
    "    return adj"
   ]
  },
  {
   "cell_type": "code",
   "execution_count": 47,
   "metadata": {},
   "outputs": [
    {
     "name": "stdout",
     "output_type": "stream",
     "text": [
      "2 2\n",
      "1 1\n",
      "2 2\n",
      "-2\n"
     ]
    }
   ],
   "source": [
    "def find(i): \n",
    "    while parent[i] != i: \n",
    "        i = parent[i] \n",
    "    return i \n",
    "  \n",
    "# Does union of i and j. It returns \n",
    "# false if i and j are already in same  \n",
    "# set.  \n",
    "def union(i, j): \n",
    "    a = find(i) \n",
    "    b = find(j) \n",
    "    parent[a] = b \n",
    "# Finds MST using Kruskal's algorithm  \n",
    "def kruskalMST(cost): \n",
    "    mincost = 0 # Cost of min MST \n",
    "  \n",
    "    # Initialize sets of disjoint sets \n",
    "    for i in range(V): \n",
    "        parent[i] = i \n",
    "  \n",
    "    # Include minimum weight edges one by one  \n",
    "    edge_count = 0\n",
    "    while edge_count < V - 1: \n",
    "        min = INF \n",
    "        a = -1\n",
    "        b = -1\n",
    "        for i in range(V): \n",
    "            for j in range(V): \n",
    "                if find(i) != find(j) and cost[i][j] < min: \n",
    "                    min = cost[i][j] \n",
    "                    a = i \n",
    "                    b = j \n",
    "        union(a, b) \n",
    "        edge_count += 1\n",
    "        mincost += min\n",
    "  \n",
    "    print(-mincost) \n",
    "  \n",
    "  \n",
    "# Driver code  \n",
    "# Let us create the following graph  \n",
    "#         2 3  \n",
    "#     (0)--(1)--(2)  \n",
    "#     | / \\ |  \n",
    "#     6| 8/ \\5 |7  \n",
    "#     | /     \\ |  \n",
    "#     (3)-------(4)  \n",
    "#         9 \n",
    "n,d = map(int,input().split())  \n",
    "V = n\n",
    "matrix = solve(n,d)\n",
    "parent = [i for i in range(V)] \n",
    "INF = float('inf') \n",
    "cost = matrix\n",
    "  \n",
    "# Print the solution  \n",
    "kruskalMST(cost) "
   ]
  },
  {
   "cell_type": "code",
   "execution_count": 45,
   "metadata": {},
   "outputs": [
    {
     "name": "stdout",
     "output_type": "stream",
     "text": [
      "2 2\n",
      "1 1\n",
      "2 2\n",
      "[0, 2]\n",
      "[2, 0]\n"
     ]
    }
   ],
   "source": [
    "def solve():\n",
    "    n,d = map(int,input().split())  \n",
    "    arr = [0]*n\n",
    "    for i in range(n):\n",
    "        arr[i] = list(map(int,input().split()))\n",
    "    adj = [[0 for i in range(n)] for j in range(n)]\n",
    "    for i in range(n):\n",
    "        for j in range(i,n):\n",
    "            cost = 0\n",
    "            for n1,n2 in zip(arr[i],arr[j]):\n",
    "                cost+=abs(n1-n2)\n",
    "            adj[i][j] = cost\n",
    "            adj[j][i] = cost\n",
    "    for i in range(n):\n",
    "        print(adj[i])\n",
    "    #return adj\n",
    "solve()"
   ]
  },
  {
   "cell_type": "code",
   "execution_count": 58,
   "metadata": {},
   "outputs": [
    {
     "name": "stdout",
     "output_type": "stream",
     "text": [
      "2 2\n",
      "1 1\n",
      "2 2\n"
     ]
    },
    {
     "ename": "TypeError",
     "evalue": "list indices must be integers or slices, not NoneType",
     "output_type": "error",
     "traceback": [
      "\u001b[0;31m---------------------------------------------------------------------------\u001b[0m",
      "\u001b[0;31mTypeError\u001b[0m                                 Traceback (most recent call last)",
      "\u001b[0;32m<ipython-input-58-4f8d20190ef0>\u001b[0m in \u001b[0;36m<module>\u001b[0;34m\u001b[0m\n\u001b[1;32m     73\u001b[0m \u001b[0mg\u001b[0m\u001b[0;34m.\u001b[0m\u001b[0mgraph\u001b[0m \u001b[0;34m=\u001b[0m \u001b[0msolve\u001b[0m\u001b[0;34m(\u001b[0m\u001b[0mn\u001b[0m\u001b[0;34m,\u001b[0m\u001b[0md\u001b[0m\u001b[0;34m)\u001b[0m\u001b[0;34m\u001b[0m\u001b[0;34m\u001b[0m\u001b[0m\n\u001b[1;32m     74\u001b[0m \u001b[0;34m\u001b[0m\u001b[0m\n\u001b[0;32m---> 75\u001b[0;31m \u001b[0mg\u001b[0m\u001b[0;34m.\u001b[0m\u001b[0mprimMST\u001b[0m\u001b[0;34m(\u001b[0m\u001b[0;34m)\u001b[0m\u001b[0;34m;\u001b[0m\u001b[0;34m\u001b[0m\u001b[0;34m\u001b[0m\u001b[0m\n\u001b[0m",
      "\u001b[0;32m<ipython-input-58-4f8d20190ef0>\u001b[0m in \u001b[0;36mprimMST\u001b[0;34m(self)\u001b[0m\n\u001b[1;32m     67\u001b[0m                         \u001b[0mparent\u001b[0m\u001b[0;34m[\u001b[0m\u001b[0mv\u001b[0m\u001b[0;34m]\u001b[0m \u001b[0;34m=\u001b[0m \u001b[0mu\u001b[0m\u001b[0;34m\u001b[0m\u001b[0;34m\u001b[0m\u001b[0m\n\u001b[1;32m     68\u001b[0m \u001b[0;34m\u001b[0m\u001b[0m\n\u001b[0;32m---> 69\u001b[0;31m         \u001b[0mself\u001b[0m\u001b[0;34m.\u001b[0m\u001b[0mprintMST\u001b[0m\u001b[0;34m(\u001b[0m\u001b[0mparent\u001b[0m\u001b[0;34m)\u001b[0m\u001b[0;34m\u001b[0m\u001b[0;34m\u001b[0m\u001b[0m\n\u001b[0m\u001b[1;32m     70\u001b[0m \u001b[0mn\u001b[0m\u001b[0;34m,\u001b[0m\u001b[0md\u001b[0m \u001b[0;34m=\u001b[0m \u001b[0mmap\u001b[0m\u001b[0;34m(\u001b[0m\u001b[0mint\u001b[0m\u001b[0;34m,\u001b[0m\u001b[0minput\u001b[0m\u001b[0;34m(\u001b[0m\u001b[0;34m)\u001b[0m\u001b[0;34m.\u001b[0m\u001b[0msplit\u001b[0m\u001b[0;34m(\u001b[0m\u001b[0;34m)\u001b[0m\u001b[0;34m)\u001b[0m\u001b[0;34m\u001b[0m\u001b[0;34m\u001b[0m\u001b[0m\n\u001b[1;32m     71\u001b[0m \u001b[0mg\u001b[0m \u001b[0;34m=\u001b[0m \u001b[0mGraph\u001b[0m\u001b[0;34m(\u001b[0m\u001b[0mn\u001b[0m\u001b[0;34m)\u001b[0m\u001b[0;34m\u001b[0m\u001b[0;34m\u001b[0m\u001b[0m\n",
      "\u001b[0;32m<ipython-input-58-4f8d20190ef0>\u001b[0m in \u001b[0;36mprintMST\u001b[0;34m(self, parent)\u001b[0m\n\u001b[1;32m     12\u001b[0m         \u001b[0mres\u001b[0m \u001b[0;34m=\u001b[0m \u001b[0;36m0\u001b[0m\u001b[0;34m\u001b[0m\u001b[0;34m\u001b[0m\u001b[0m\n\u001b[1;32m     13\u001b[0m         \u001b[0;32mfor\u001b[0m \u001b[0mi\u001b[0m \u001b[0;32min\u001b[0m \u001b[0mrange\u001b[0m\u001b[0;34m(\u001b[0m\u001b[0;36m1\u001b[0m\u001b[0;34m,\u001b[0m \u001b[0mself\u001b[0m\u001b[0;34m.\u001b[0m\u001b[0mV\u001b[0m\u001b[0;34m)\u001b[0m\u001b[0;34m:\u001b[0m\u001b[0;34m\u001b[0m\u001b[0;34m\u001b[0m\u001b[0m\n\u001b[0;32m---> 14\u001b[0;31m             \u001b[0mres\u001b[0m\u001b[0;34m+=\u001b[0m\u001b[0mself\u001b[0m\u001b[0;34m.\u001b[0m\u001b[0mgraph\u001b[0m\u001b[0;34m[\u001b[0m\u001b[0mi\u001b[0m\u001b[0;34m]\u001b[0m\u001b[0;34m[\u001b[0m \u001b[0mparent\u001b[0m\u001b[0;34m[\u001b[0m\u001b[0mi\u001b[0m\u001b[0;34m]\u001b[0m \u001b[0;34m]\u001b[0m\u001b[0;34m\u001b[0m\u001b[0;34m\u001b[0m\u001b[0m\n\u001b[0m\u001b[1;32m     15\u001b[0m         \u001b[0mprint\u001b[0m\u001b[0;34m(\u001b[0m\u001b[0;34m-\u001b[0m\u001b[0mint\u001b[0m\u001b[0;34m(\u001b[0m\u001b[0mres\u001b[0m\u001b[0;34m)\u001b[0m\u001b[0;34m)\u001b[0m\u001b[0;34m\u001b[0m\u001b[0;34m\u001b[0m\u001b[0m\n\u001b[1;32m     16\u001b[0m \u001b[0;34m\u001b[0m\u001b[0m\n",
      "\u001b[0;31mTypeError\u001b[0m: list indices must be integers or slices, not NoneType"
     ]
    }
   ],
   "source": [
    "import sys # Library for INT_MAX\n",
    " \n",
    "class Graph():\n",
    " \n",
    "    def __init__(self, vertices):\n",
    "        self.V = vertices\n",
    "        self.graph = [[0 for column in range(vertices)] \n",
    "                    for row in range(vertices)]\n",
    " \n",
    "    # A utility function to print the constructed MST stored in parent[]\n",
    "    def printMST(self, parent):\n",
    "        res = 0\n",
    "        for i in range(1, self.V):\n",
    "            res+=self.graph[i][ parent[i] ]\n",
    "        print(-int(res))\n",
    " \n",
    "    # A utility function to find the vertex with \n",
    "    # minimum distance value, from the set of vertices \n",
    "    # not yet included in shortest path tree\n",
    "    def minKey(self, key, mstSet):\n",
    " \n",
    "        # Initilaize min value\n",
    "        min = float('inf')\n",
    "        min_index = 0\n",
    "        for v in range(self.V):\n",
    "            if key[v] < min and mstSet[v] == False:\n",
    "                min = key[v]\n",
    "                min_index = v\n",
    " \n",
    "        return min_index\n",
    " \n",
    "    # Function to construct and print MST for a graph \n",
    "    # represented using adjacency matrix representation\n",
    "    def primMST(self):\n",
    " \n",
    "        # Key values used to pick minimum weight edge in cut\n",
    "        key = [float('inf')] * self.V\n",
    "        parent = [None] * self.V # Array to store constructed MST\n",
    "        # Make key 0 so that this vertex is picked as first vertex\n",
    "        key[0] = 0\n",
    "        mstSet = [False] * self.V\n",
    " \n",
    "        parent[0] = -1 # First node is always the root of\n",
    " \n",
    "        for cout in range(self.V):\n",
    " \n",
    "            # Pick the minimum distance vertex from \n",
    "            # the set of vertices not yet processed. \n",
    "            # u is always equal to src in first iteration\n",
    "            u = self.minKey(key, mstSet)\n",
    " \n",
    "            # Put the minimum distance vertex in \n",
    "            # the shortest path tree\n",
    "            mstSet[u] = True\n",
    " \n",
    "            # Update dist value of the adjacent vertices \n",
    "            # of the picked vertex only if the current \n",
    "            # distance is greater than new distance and\n",
    "            # the vertex in not in the shotest path tree\n",
    "            for v in range(self.V):\n",
    " \n",
    "                # graph[u][v] is non zero only for adjacent vertices of m\n",
    "                # mstSet[v] is false for vertices not yet included in MST\n",
    "                # Update the key only if graph[u][v] is smaller than key[v]\n",
    "                if self.graph[u][v] > 0 and mstSet[v] == False and key[v] > self.graph[u][v]:\n",
    "                        key[v] = self.graph[u][v]\n",
    "                        parent[v] = u\n",
    " \n",
    "        self.printMST(parent)\n",
    "n,d = map(int,input().split()) \n",
    "g = Graph(n)\n",
    "\n",
    "g.graph = solve(n,d)\n",
    " \n",
    "g.primMST();"
   ]
  },
  {
   "cell_type": "code",
   "execution_count": 68,
   "metadata": {},
   "outputs": [],
   "source": [
    "points = [[1,2],[3,4],[5,6],[7,8]]\n",
    "points.sort(key = lambda x:x[1])"
   ]
  },
  {
   "cell_type": "code",
   "execution_count": 67,
   "metadata": {},
   "outputs": [
    {
     "ename": "TypeError",
     "evalue": "<lambda>() missing 1 required positional argument: 'y'",
     "output_type": "error",
     "traceback": [
      "\u001b[0;31m---------------------------------------------------------------------------\u001b[0m",
      "\u001b[0;31mTypeError\u001b[0m                                 Traceback (most recent call last)",
      "\u001b[0;32m<ipython-input-67-ff15f9caa6ef>\u001b[0m in \u001b[0;36m<module>\u001b[0;34m\u001b[0m\n\u001b[0;32m----> 1\u001b[0;31m \u001b[0msorted\u001b[0m\u001b[0;34m(\u001b[0m\u001b[0mpoints\u001b[0m\u001b[0;34m,\u001b[0m\u001b[0mkey\u001b[0m\u001b[0;34m=\u001b[0m\u001b[0;32mlambda\u001b[0m \u001b[0mx\u001b[0m\u001b[0;34m,\u001b[0m\u001b[0my\u001b[0m\u001b[0;34m:\u001b[0m \u001b[0mx\u001b[0m\u001b[0;34m[\u001b[0m\u001b[0;36m1\u001b[0m\u001b[0;34m]\u001b[0m\u001b[0;34m<\u001b[0m\u001b[0my\u001b[0m\u001b[0;34m[\u001b[0m\u001b[0;36m1\u001b[0m\u001b[0;34m]\u001b[0m\u001b[0;34m)\u001b[0m\u001b[0;34m\u001b[0m\u001b[0;34m\u001b[0m\u001b[0m\n\u001b[0m",
      "\u001b[0;31mTypeError\u001b[0m: <lambda>() missing 1 required positional argument: 'y'"
     ]
    }
   ],
   "source": [
    "sorted(points,key=lambda x,y: x[1]<y[1])"
   ]
  },
  {
   "cell_type": "code",
   "execution_count": 18,
   "metadata": {},
   "outputs": [
    {
     "name": "stdout",
     "output_type": "stream",
     "text": [
      "10 10 3 3\n",
      "3 6 8\n",
      "1 6 10\n",
      "3\n"
     ]
    }
   ],
   "source": [
    "\n",
    "def addsquares():\n",
    "    w,h,n,m = map(int,input().split())\n",
    "    vt = list(map(int,input().split()))\n",
    "    hz = list(map(int,input().split()))\n",
    "    vdiff = set()\n",
    "    hdiff = set()\n",
    "    for i in range(n):\n",
    "        for j in range(i+1,n):\n",
    "            vdiff.add(abs(vt[i]-vt[j]))\n",
    "    for i in range(m):\n",
    "        for j in range(i+1,m):\n",
    "            hdiff.add(abs(hz[i]-hz[j]))\n",
    "    maxi = 0\n",
    "    for k in range(h+1):\n",
    "        if k in hz:\n",
    "            continue\n",
    "        for i in range(len(hz)):\n",
    "            hdiff.add(abs(hz[i]-k))\n",
    "        ans = 0\n",
    "        #Set = set()\n",
    "        for key in vdiff:\n",
    "            if key in hdiff:\n",
    "                ans+=1\n",
    "        maxi = max(ans,maxi)\n",
    "    print(maxi)\n",
    "addsquares()\n",
    "    "
   ]
  },
  {
   "cell_type": "code",
   "execution_count": 8,
   "metadata": {},
   "outputs": [
    {
     "data": {
      "text/plain": [
       "1"
      ]
     },
     "execution_count": 8,
     "metadata": {},
     "output_type": "execute_result"
    }
   ],
   "source": [
    "abs(10-11)"
   ]
  },
  {
   "cell_type": "code",
   "execution_count": 12,
   "metadata": {},
   "outputs": [],
   "source": [
    "a = [1,2,3]\n",
    "b = [2,3,4]\n",
    "k = abs(a[2]-b[0])"
   ]
  },
  {
   "cell_type": "code",
   "execution_count": 13,
   "metadata": {},
   "outputs": [
    {
     "data": {
      "text/plain": [
       "1"
      ]
     },
     "execution_count": 13,
     "metadata": {},
     "output_type": "execute_result"
    }
   ],
   "source": [
    "k"
   ]
  },
  {
   "cell_type": "code",
   "execution_count": null,
   "metadata": {},
   "outputs": [],
   "source": [
    " "
   ]
  },
  {
   "cell_type": "code",
   "execution_count": 16,
   "metadata": {},
   "outputs": [
    {
     "data": {
      "text/plain": [
       "[2, 3, 4, 5]"
      ]
     },
     "execution_count": 16,
     "metadata": {},
     "output_type": "execute_result"
    }
   ],
   "source": [
    "vt\n"
   ]
  },
  {
   "cell_type": "code",
   "execution_count": 10,
   "metadata": {},
   "outputs": [
    {
     "name": "stdout",
     "output_type": "stream",
     "text": [
      "2 0\n",
      "4 0\n"
     ]
    },
    {
     "data": {
      "text/plain": [
       "2"
      ]
     },
     "execution_count": 10,
     "metadata": {},
     "output_type": "execute_result"
    }
   ],
   "source": [
    "def solve(A,B):\n",
    "    res = 0\n",
    "    for i in range(len(A)):\n",
    "        for j in range(len(A[0])):\n",
    "            if (A[i][0]+A[j][0])*(A[i][1]+A[j][1]) == B:\n",
    "                print(i,j)\n",
    "                res+=1\n",
    "    return res%1000000007\n",
    "A = [[3,4],[1,4],[3,1],[2,5],[3,1]]\n",
    "B = 30\n",
    "solve(A,B)"
   ]
  },
  {
   "cell_type": "code",
   "execution_count": 27,
   "metadata": {},
   "outputs": [
    {
     "data": {
      "text/plain": [
       "'10.94.205.91'"
      ]
     },
     "execution_count": 27,
     "metadata": {},
     "output_type": "execute_result"
    }
   ],
   "source": [
    "from random import randint\n",
    "import random\n",
    "def dhcp_service(ip_address):\n",
    "    # TODO - Write IP generation function, that generates the last 3 octets for the IP\n",
    "    assigned = '.'.join('%s'%random.randint(0, 255) for i in range(3))\n",
    "    first = ip_address.split('.')[0]\n",
    "    ip_address  = first+\".\"+assigned\n",
    "    return ip_address\n",
    "\n",
    "class ServerClass:\n",
    "\n",
    "    def __init__(self):\n",
    "        # DO NOT EDIT\n",
    "        self.ip = \"10.0.0.0\"\n",
    "\n",
    "    def request_dhcp_ip(self):\n",
    "        # TODO - Call dhcp_service, set the IP to its result\n",
    "        self.ip = dhcp_service(self.ip)\n",
    "s = ServerClass()\n",
    "s.request_dhcp_ip()\n",
    "s.ip"
   ]
  },
  {
   "cell_type": "code",
   "execution_count": 23,
   "metadata": {},
   "outputs": [],
   "source": []
  },
  {
   "cell_type": "code",
   "execution_count": 24,
   "metadata": {},
   "outputs": [],
   "source": []
  },
  {
   "cell_type": "code",
   "execution_count": 25,
   "metadata": {},
   "outputs": [
    {
     "data": {
      "text/plain": [
       "'10.252.90.100'"
      ]
     },
     "execution_count": 25,
     "metadata": {},
     "output_type": "execute_result"
    }
   ],
   "source": [
    "s.ip"
   ]
  },
  {
   "cell_type": "code",
   "execution_count": null,
   "metadata": {},
   "outputs": [],
   "source": [
    "bool issemiconnected(graph[n][n])\n",
    "{\n",
    "for(int i=0;i<n;i++)\n",
    "{\n",
    "for(int j=0;j<n;j++)\n",
    "  {\n",
    "     if(i==j)\n",
    "     continue;\n",
    "     else\n",
    "      {if( ! ( graph[i][j] || graph[j][i] )\n",
    "          {\n",
    "        return false;\n",
    "          }\n",
    "       }\n",
    "   }\n",
    "}\n",
    "return true;\n",
    "}"
   ]
  },
  {
   "cell_type": "code",
   "execution_count": 1,
   "metadata": {},
   "outputs": [
    {
     "name": "stdout",
     "output_type": "stream",
     "text": [
      "42000\n"
     ]
    }
   ],
   "source": [
    "sum = 0\n",
    "for i in range(10):\n",
    "    for j in range(10):\n",
    "        for k in range(10):\n",
    "            sum+=42\n",
    "print(sum)"
   ]
  },
  {
   "cell_type": "code",
   "execution_count": 28,
   "metadata": {},
   "outputs": [
    {
     "name": "stdout",
     "output_type": "stream",
     "text": [
      "Write your email addresss201999990@kfupm.edu.sa\n",
      "The entered email is Valid\n",
      "The entered email is a KFUPM email\n",
      "The entered email is a freshman student email\n"
     ]
    }
   ],
   "source": [
    "def CheckEmail():\n",
    "    email = input(\"Write your email address\")\n",
    "    if '@' not in email or '.' not in email:\n",
    "        print(\"The entered email is not valid\")\n",
    "        return\n",
    "    username,last = email.split('@')\n",
    "    domain = last.split('.')\n",
    "    if len(username)>0 and len(domain[0])>0 and len(domain[1])>0:\n",
    "        print(\"The entered email is Valid\")\n",
    "        if last == \"kfupm.edu.sa\":\n",
    "            print(\"The entered email is a KFUPM email\")\n",
    "            if username[:5] == 's2019' and len(username[1:]) == 9:\n",
    "                print(\"The entered email is a freshman student email\")\n",
    "    else:\n",
    "        print(\"The entered email is not valid\")\n",
    "    \n",
    "CheckEmail()"
   ]
  },
  {
   "cell_type": "code",
   "execution_count": 11,
   "metadata": {},
   "outputs": [],
   "source": [
    "#username\n"
   ]
  },
  {
   "cell_type": "code",
   "execution_count": 13,
   "metadata": {},
   "outputs": [
    {
     "data": {
      "text/plain": [
       "''"
      ]
     },
     "execution_count": 13,
     "metadata": {},
     "output_type": "execute_result"
    }
   ],
   "source": [
    "organisation"
   ]
  },
  {
   "cell_type": "code",
   "execution_count": 23,
   "metadata": {},
   "outputs": [],
   "source": [
    "s = \"df.g.h.dm\".split('.')"
   ]
  },
  {
   "cell_type": "code",
   "execution_count": 24,
   "metadata": {},
   "outputs": [
    {
     "data": {
      "text/plain": [
       "['df', 'g', 'h', 'dm']"
      ]
     },
     "execution_count": 24,
     "metadata": {},
     "output_type": "execute_result"
    }
   ],
   "source": [
    "s"
   ]
  },
  {
   "cell_type": "code",
   "execution_count": 46,
   "metadata": {},
   "outputs": [
    {
     "name": "stdout",
     "output_type": "stream",
     "text": [
      "enter an odd positive number5\n",
      "Total number of terms in this seris is 7\n",
      "after del operations a is  [1, 3, 5]\n"
     ]
    }
   ],
   "source": [
    "def solve():\n",
    "    n = int(input(\"enter an odd positive number\"))\n",
    "    a = []\n",
    "    for i in range(1,n+1):\n",
    "        if i%2 == 0:\n",
    "            a.append(i)\n",
    "            a.append(i)\n",
    "        else:\n",
    "            a.append(i)\n",
    "    print(\"Total number of terms in this seris is\",n+n//2)\n",
    "    k = 0\n",
    "    while k<len(a):\n",
    "        if a[k]%2 == 0:\n",
    "            del a[k]\n",
    "        else:\n",
    "            k = k+1\n",
    "    print(\"after del operations a is \",a)\n",
    "solve()"
   ]
  },
  {
   "cell_type": "code",
   "execution_count": 47,
   "metadata": {},
   "outputs": [],
   "source": [
    "#creating Node class\n",
    "class Node:\n",
    "    def __init__(self,val):\n",
    "        self.val = val\n",
    "        self.left = None\n",
    "        self.right = None\n",
    "# making node with values\n",
    "A = Node('A')\n",
    "B = Node('B')\n",
    "C = Node('C')\n",
    "D = Node('D')\n",
    "A.right = D  # connecting D to A's right\n",
    "A.left = B   # connecting B to A's left\n",
    "B.right = D  # connecting D to B's right\n",
    "B.left = C   # connecting C to B's left"
   ]
  },
  {
   "cell_type": "code",
   "execution_count": 48,
   "metadata": {},
   "outputs": [
    {
     "data": {
      "text/plain": [
       "'C'"
      ]
     },
     "execution_count": 48,
     "metadata": {},
     "output_type": "execute_result"
    }
   ],
   "source": [
    "A.left.left.val"
   ]
  },
  {
   "cell_type": "code",
   "execution_count": 72,
   "metadata": {},
   "outputs": [
    {
     "name": "stdout",
     "output_type": "stream",
     "text": [
      "code for Nocolor is 0\n",
      "sorted code list [17, 19, 66, 97, 111, 128, 231, 333]\n"
     ]
    }
   ],
   "source": [
    "Colors = ['Red','Blue','Green','Black','Yellow','Orange','Purple','Nocolor']\n",
    "Codes = [97,17,19,128,66,111,231 ,0]\n",
    "codeDict = {Colors[i]:Codes[i] for i in range(len(Colors))}\n",
    "# answer 1.\n",
    "print(\"code for Nocolor is\",codeDict['Nocolor'])\n",
    "#answer 2.\n",
    "codeDict['Nocolor'] = 333\n",
    "# answer 3\n",
    "Sorted_Codes = []\n",
    "for color in Colors:\n",
    "    Sorted_Codes.append(codeDict[color])\n",
    "Sorted_Codes.sort()\n",
    "print(\"sorted code list\",Sorted_Codes)\n",
    "# answer 4.\n",
    "codeDict['white'] = codeDict['Nocolor']\n",
    "del codeDict['Nocolor']\n",
    "# answer 5.\n",
    "del codeDict['white']"
   ]
  },
  {
   "cell_type": "code",
   "execution_count": 71,
   "metadata": {},
   "outputs": [
    {
     "data": {
      "text/plain": [
       "{'Red': 97,\n",
       " 'Blue': 17,\n",
       " 'Green': 19,\n",
       " 'Black': 128,\n",
       " 'Yellow': 66,\n",
       " 'Orange': 111,\n",
       " 'Purple': 231,\n",
       " 'white': 333}"
      ]
     },
     "execution_count": 71,
     "metadata": {},
     "output_type": "execute_result"
    }
   ],
   "source": [
    "codeDict"
   ]
  },
  {
   "cell_type": "code",
   "execution_count": 62,
   "metadata": {},
   "outputs": [
    {
     "name": "stdout",
     "output_type": "stream",
     "text": [
      "97\n",
      "17\n",
      "19\n",
      "128\n",
      "66\n",
      "111\n",
      "231\n",
      "333\n"
     ]
    }
   ],
   "source": [
    "for color in Colors:\n",
    "    print(codeDict[color])"
   ]
  },
  {
   "cell_type": "code",
   "execution_count": null,
   "metadata": {},
   "outputs": [],
   "source": [
    "if arr.size <= 2\n",
    "    return arr.size\n",
    "else \n",
    "   ans = 2\n",
    "   temp_ans = 2 // We will update ans when temp_ans > ans;\n",
    "   for i = 2; i < arr.size ; ++i\n",
    "       if arr[i] = arr[i-2]\n",
    "            temp_ans = temp_ans + 1;\n",
    "       else\n",
    "            temp_ans = 2;\n",
    "       ans = max(temp_ans , ans);\n",
    "   return ans;"
   ]
  },
  {
   "cell_type": "code",
   "execution_count": 5,
   "metadata": {},
   "outputs": [
    {
     "data": {
      "text/plain": [
       "[3, 7, 3, 7]"
      ]
     },
     "execution_count": 5,
     "metadata": {},
     "output_type": "execute_result"
    }
   ],
   "source": [
    "def solve(arr):\n",
    "    if len(arr)<=2:\n",
    "        return len(arr)\n",
    "    else:\n",
    "        res = [arr[0],arr[1]]\n",
    "        temp_res = [arr[0],arr[1]]\n",
    "        for i in range(2,len(arr)):\n",
    "            if arr[i] == arr[i-2]:\n",
    "                temp_res.append(arr[i])\n",
    "            else:\n",
    "                temp_res = [arr[i-1],arr[i]]\n",
    "            if len(temp_res)>len(res):\n",
    "                res = temp_res\n",
    "        return res\n",
    "arr = [3,7,3,7, 2, 1, 2]\n",
    "solve(arr)"
   ]
  },
  {
   "cell_type": "code",
   "execution_count": 2,
   "metadata": {},
   "outputs": [
    {
     "data": {
      "text/plain": [
       "{'A': ['E', 'F', 'B'],\n",
       " 'B': ['C', 'A'],\n",
       " 'C': ['G', 'H', 'B'],\n",
       " 'D': ['H'],\n",
       " 'E': ['A'],\n",
       " 'F': ['A'],\n",
       " 'G': ['C', 'H'],\n",
       " 'H': ['D', 'G']}"
      ]
     },
     "execution_count": 2,
     "metadata": {},
     "output_type": "execute_result"
    }
   ],
   "source": [
    "# python dictionary for adjacancy list\n",
    "adjacancy_list = {'A':['E','F','B'],\n",
    "                  'B':['C','A'],\n",
    "                  'C':['G','H','B'],\n",
    "                  'D':['H'],\n",
    "                  'E':['A'],\n",
    "                  'F':['A'],\n",
    "                  'G':['C','H'],\n",
    "                  'H':['D','G']\n",
    "                 }\n"
   ]
  },
  {
   "cell_type": "code",
   "execution_count": 3,
   "metadata": {},
   "outputs": [
    {
     "data": {
      "text/plain": [
       "True"
      ]
     },
     "execution_count": 3,
     "metadata": {},
     "output_type": "execute_result"
    }
   ],
   "source": [
    "def checkGraph(adjacancy_list):\n",
    "    if len(adjacancy_list) == 0:\n",
    "        return False\n",
    "    return True\n",
    "checkGraph(adjacancy_list)"
   ]
  },
  {
   "cell_type": "code",
   "execution_count": 8,
   "metadata": {},
   "outputs": [
    {
     "name": "stdout",
     "output_type": "stream",
     "text": [
      "5\n",
      "100\n",
      "100\n",
      "100\n",
      "100\n",
      "100\n",
      "Equal\n",
      "100 100\n"
     ]
    }
   ],
   "source": [
    "def solve():\n",
    "    n = int(input())\n",
    "    dist = []\n",
    "    for i in range(n):\n",
    "        dist.append(int(input()))\n",
    "    if n<2:\n",
    "        print(\"Invalid Input\")\n",
    "        return\n",
    "    dist.sort()\n",
    "    res = dist[:2]\n",
    "    l = 0\n",
    "    for i in range(len(dist)):\n",
    "        if dist[i] != dist[0]:\n",
    "            break\n",
    "        l+=1\n",
    "    if l == n:\n",
    "        print(\"Equal\")\n",
    "        return\n",
    "    print(*res)\n",
    "solve()"
   ]
  },
  {
   "cell_type": "code",
   "execution_count": 7,
   "metadata": {},
   "outputs": [
    {
     "name": "stdout",
     "output_type": "stream",
     "text": [
      "10\n",
      "25\n"
     ]
    }
   ],
   "source": [
    "def solve():\n",
    "    n = int(input())\n",
    "    if n<10:\n",
    "        print(n+10)\n",
    "        return\n",
    "    res = []\n",
    "    for i in range(9,1,-1):\n",
    "        while n%i == 0:\n",
    "            n = n/i\n",
    "            res.append(i)\n",
    "    if n>10:\n",
    "        print(\"Not Possible\")\n",
    "        return\n",
    "    n = res[len(res)-1] \n",
    "    for i in range(len(res)-2,-1,-1): \n",
    "        n = 10 * n + res[i] \n",
    "    print(n) \n",
    "solve()"
   ]
  },
  {
   "cell_type": "code",
   "execution_count": 21,
   "metadata": {},
   "outputs": [
    {
     "name": "stdout",
     "output_type": "stream",
     "text": [
      "[[0, 0, 0], [0, 0, 0], [0, 0, 0], [0, 0, 0], [0, 0, 0]]\n",
      "[[0, 0, 0], [0, 0, 0], [0, 0, 0], [0, 0, 0], [0, 0, 0]]\n",
      "[[0, 0, 0], [0, 0, 0], [0, 1, 0], [0, 0, 0], [0, 0, 0]]\n",
      "[[0, 0, 0], [0, 0, 0], [0, 1, 0], [0, 0, 2], [0, 0, 0]]\n",
      "[[0, 0, 0], [0, 0, 0], [0, 1, 0], [0, 0, 2], [0, 0, 0]]\n"
     ]
    },
    {
     "data": {
      "text/plain": [
       "1"
      ]
     },
     "execution_count": 21,
     "metadata": {},
     "output_type": "execute_result"
    }
   ],
   "source": [
    "def LCSubStr(X, Y, m, n): \n",
    "    LCSuff = [[0 for k in range(n+1)] for l in range(m+1)] \n",
    "    result = float(\"inf\")\n",
    "    for i in range(m + 1): \n",
    "        for j in range(n + 1): \n",
    "            if (i == 0 or j == 0): \n",
    "                LCSuff[i][j] = 0\n",
    "            elif (X[i-1] == Y[j-1]): \n",
    "                LCSuff[i][j] = LCSuff[i-1][j-1] + 1\n",
    "                result = min(result, LCSuff[i][j]) \n",
    "            else: \n",
    "                LCSuff[i][j] = 0\n",
    "        print(LCSuff)\n",
    "    return result \n",
    "X = 'abdc'\n",
    "Y = 'bd'\n",
    "  \n",
    "m = len(X) \n",
    "n = len(Y) \n",
    "LCSubStr(X, Y, m, n)"
   ]
  },
  {
   "cell_type": "code",
   "execution_count": 22,
   "metadata": {},
   "outputs": [
    {
     "data": {
      "text/plain": [
       "'dsgfsdgd'"
      ]
     },
     "execution_count": 22,
     "metadata": {},
     "output_type": "execute_result"
    }
   ],
   "source": [
    "min('dsgfsdgd','zx')"
   ]
  },
  {
   "cell_type": "code",
   "execution_count": 25,
   "metadata": {},
   "outputs": [
    {
     "name": "stdout",
     "output_type": "stream",
     "text": [
      "dc\n",
      "bdcc\n"
     ]
    },
    {
     "data": {
      "text/plain": [
       "3"
      ]
     },
     "execution_count": 25,
     "metadata": {},
     "output_type": "execute_result"
    }
   ],
   "source": [
    "def solve():\n",
    "    A = input()\n",
    "    B = input()\n",
    "    res = 0\n",
    "    for i in range(len(A)):\n",
    "        res+=B.count(A[i])\n",
    "    return res\n",
    "\n",
    "solve()        "
   ]
  },
  {
   "cell_type": "code",
   "execution_count": 28,
   "metadata": {},
   "outputs": [
    {
     "name": "stdout",
     "output_type": "stream",
     "text": [
      "5\n",
      "1 2 3 7 8\n",
      "2\n"
     ]
    },
    {
     "data": {
      "text/plain": [
       "2"
      ]
     },
     "execution_count": 28,
     "metadata": {},
     "output_type": "execute_result"
    }
   ],
   "source": [
    "def minMaxDiff():\n",
    "    n = int(input())\n",
    "    arr = list(map(int,input().split()))\n",
    "    k = int(input())\n",
    "    arr1 = arr[1:-1]\n",
    "    max_adj_dif = float('-inf');\n",
    "    for i in range(n - 1):\n",
    "        max_adj_dif = max(max_adj_dif, \n",
    "                          abs(arr[i] -\n",
    "                              arr[i + 1]));\n",
    "    if (max_adj_dif == 0):\n",
    "        return 0;\n",
    "    best = 1;\n",
    "    worst = max_adj_dif;\n",
    "     \n",
    "    while (best < worst):\n",
    "        mid = (best + worst) // 2;\n",
    "        required = 0\n",
    " \n",
    "        for i in range(n - 1):\n",
    "            required += (abs(arr[i] -\n",
    "                             arr[i + 1]) - 1) // mid\n",
    "        if (required > k):\n",
    "            best = mid + 1;\n",
    "        else:\n",
    "            worst = mid\n",
    "    return worst\n",
    "minMaxDiff()"
   ]
  },
  {
   "cell_type": "code",
   "execution_count": 29,
   "metadata": {},
   "outputs": [
    {
     "data": {
      "text/plain": [
       "[2, 3, 7]"
      ]
     },
     "execution_count": 29,
     "metadata": {},
     "output_type": "execute_result"
    }
   ],
   "source": [
    "arr = [1,2,3,7,8]\n",
    "arr[1:-1]"
   ]
  },
  {
   "cell_type": "code",
   "execution_count": 30,
   "metadata": {},
   "outputs": [
    {
     "data": {
      "text/plain": [
       "1"
      ]
     },
     "execution_count": 30,
     "metadata": {},
     "output_type": "execute_result"
    }
   ],
   "source": [
    "def minimumAdjacentDifference(a, n, k) :\n",
    "    minDiff = float(\"inf\")\n",
    "    for i in range( 1<<n) : \n",
    "        cnt = bin(i).count('1')\n",
    "        if (cnt == n - k) :\n",
    "            temp = []\n",
    "            for j in range(n) :\n",
    "                if ((i & (1 << j)) != 0) :\n",
    "                    temp.append(a[j])\n",
    "            maxDiff = float('-inf')\n",
    "             \n",
    "            for j in range(len(temp) - 1) :\n",
    "                maxDiff = max(maxDiff, temp[j + 1] - temp[j])\n",
    "           \n",
    "            minDiff = min(minDiff, maxDiff)\n",
    "      \n",
    "    return minDiff\n",
    "a = [1,2,3,7,8]\n",
    "n = 5\n",
    "k = 2\n",
    "minimumAdjacentDifference(a,n,k)"
   ]
  },
  {
   "cell_type": "code",
   "execution_count": 33,
   "metadata": {},
   "outputs": [
    {
     "name": "stdout",
     "output_type": "stream",
     "text": [
      "5\n",
      "1 3 5\n",
      "4 12\n",
      "2 3 9\n",
      "32 48\n",
      "3 13 28\n",
      "81920 131072\n",
      "42 999 1881\n",
      "728771468 762921230\n",
      "4 97 43\n",
      "8388608 203423744\n"
     ]
    }
   ],
   "source": [
    "for i in range(int(input())):\n",
    "    mod = 1000000007\n",
    "    a,b,n = map(int,input().split())\n",
    "    for j in range(n-1):\n",
    "        a1 = a\n",
    "        b1 = b\n",
    "        a = (b1-a1)%mod\n",
    "        b = (a1+b1)%mod\n",
    "    print(a,b)"
   ]
  },
  {
   "cell_type": "code",
   "execution_count": 39,
   "metadata": {},
   "outputs": [
    {
     "name": "stdout",
     "output_type": "stream",
     "text": [
      "-9223372036854775806\n"
     ]
    }
   ],
   "source": [
    "import sys\n",
    "\n",
    "INT_MAX = sys.maxsize;\n",
    "INT_MIN = -(sys.maxsize - 1);\n",
    "\n",
    "# Function to find the minimum \n",
    "# of the maximum difference of the\n",
    "# adjacent elements after removing\n",
    "# K elements from the array\n",
    "def minimumAdjacentDifference(a, n, k) :\n",
    "\t\n",
    "\t# Intialising the \n",
    "\t# minimum difference\n",
    "\tminDiff = INT_MAX;\n",
    "\n",
    "\t# Iterating over all \n",
    "\t# subarrays of size n-k\n",
    "\tfor i in range(k + 1) :\n",
    "\t\t\n",
    "\t\t# Maximum difference after\n",
    "\t\t# removing elements\n",
    "\t\tmaxDiff = INT_MIN;\n",
    "\t\tfor j in range( n - k - 3) : \n",
    "\t\t\tfor p in range(i+1, i + j) :\n",
    "\t\t\t\tmaxDiff = max(maxDiff, a[p + 1] - a[p]);\n",
    "\t\n",
    "\t\t# Minimum Adjacent Difference\n",
    "\t\tminDiff = min(minDiff, maxDiff);\n",
    "\t\t\n",
    "\treturn minDiff;\n",
    "\n",
    "# Driver Code\n",
    "if __name__ == \"__main__\" :\n",
    "\n",
    "\tn = 5;\n",
    "\tk = 2;\n",
    "\n",
    "\ta = [ 1,2,3,7,8 ];\n",
    "\n",
    "\tprint(minimumAdjacentDifference(a, n, k));\n"
   ]
  },
  {
   "cell_type": "code",
   "execution_count": 3,
   "metadata": {},
   "outputs": [
    {
     "name": "stdout",
     "output_type": "stream",
     "text": [
      "5\n",
      "2\n",
      "ans is 0\n",
      "ans is 2\n",
      "2\n",
      "3\n",
      "ans is 0\n",
      "ans is 2\n",
      "ans is 4\n",
      "ans is 6\n",
      "4\n",
      "4\n",
      "ans is 0\n",
      "ans is 2\n",
      "ans is 4\n",
      "ans is 6\n",
      "ans is 8\n",
      "ans is 10\n",
      "ans is 12\n",
      "ans is 14\n",
      "8\n",
      "5\n",
      "ans is 0\n",
      "ans is 2\n",
      "ans is 4\n",
      "ans is 6\n",
      "ans is 8\n",
      "ans is 10\n",
      "ans is 12\n",
      "ans is 14\n",
      "ans is 16\n",
      "ans is 18\n",
      "ans is 20\n",
      "ans is 22\n",
      "ans is 24\n",
      "ans is 26\n",
      "ans is 28\n",
      "ans is 30\n",
      "16\n",
      "6\n",
      "ans is 0\n",
      "ans is 2\n",
      "ans is 4\n",
      "ans is 6\n",
      "ans is 8\n",
      "ans is 10\n",
      "ans is 12\n",
      "ans is 14\n",
      "ans is 16\n",
      "ans is 18\n",
      "ans is 20\n",
      "ans is 22\n",
      "ans is 24\n",
      "ans is 26\n",
      "ans is 28\n",
      "ans is 30\n",
      "ans is 32\n",
      "ans is 34\n",
      "ans is 36\n",
      "ans is 38\n",
      "ans is 40\n",
      "ans is 42\n",
      "ans is 44\n",
      "ans is 46\n",
      "ans is 48\n",
      "ans is 50\n",
      "ans is 52\n",
      "ans is 54\n",
      "ans is 56\n",
      "ans is 58\n",
      "ans is 60\n",
      "ans is 62\n",
      "32\n"
     ]
    }
   ],
   "source": [
    "for _ in range(int(input())):\n",
    "    n = int(input())\n",
    "    count = 0\n",
    "    for x in range(2**n):\n",
    "        if x^(x+1) == (x+2)^(x+3):\n",
    "            print(\"ans is\",x)\n",
    "            count+=1\n",
    "    print(count%1000000007)"
   ]
  },
  {
   "cell_type": "code",
   "execution_count": 4,
   "metadata": {},
   "outputs": [
    {
     "data": {
      "text/plain": [
       "32"
      ]
     },
     "execution_count": 4,
     "metadata": {},
     "output_type": "execute_result"
    }
   ],
   "source": [
    "64//2\n"
   ]
  },
  {
   "cell_type": "code",
   "execution_count": 5,
   "metadata": {},
   "outputs": [
    {
     "name": "stdout",
     "output_type": "stream",
     "text": [
      "5\n",
      "2\n",
      "2\n",
      "3\n",
      "4\n",
      "4\n",
      "8\n",
      "5\n",
      "12\n"
     ]
    },
    {
     "ename": "KeyboardInterrupt",
     "evalue": "Interrupted by user",
     "output_type": "error",
     "traceback": [
      "\u001b[0;31m---------------------------------------------------------------------------\u001b[0m",
      "\u001b[0;31mKeyboardInterrupt\u001b[0m                         Traceback (most recent call last)",
      "\u001b[0;32m<ipython-input-5-c705d1727c0c>\u001b[0m in \u001b[0;36m<module>\u001b[0;34m\u001b[0m\n\u001b[1;32m      1\u001b[0m \u001b[0;32mfor\u001b[0m \u001b[0m_\u001b[0m \u001b[0;32min\u001b[0m \u001b[0mrange\u001b[0m\u001b[0;34m(\u001b[0m\u001b[0mint\u001b[0m\u001b[0;34m(\u001b[0m\u001b[0minput\u001b[0m\u001b[0;34m(\u001b[0m\u001b[0;34m)\u001b[0m\u001b[0;34m)\u001b[0m\u001b[0;34m)\u001b[0m\u001b[0;34m:\u001b[0m\u001b[0;34m\u001b[0m\u001b[0;34m\u001b[0m\u001b[0m\n\u001b[0;32m----> 2\u001b[0;31m         \u001b[0mn\u001b[0m \u001b[0;34m=\u001b[0m \u001b[0mint\u001b[0m\u001b[0;34m(\u001b[0m\u001b[0minput\u001b[0m\u001b[0;34m(\u001b[0m\u001b[0;34m)\u001b[0m\u001b[0;34m)\u001b[0m\u001b[0;34m\u001b[0m\u001b[0;34m\u001b[0m\u001b[0m\n\u001b[0m\u001b[1;32m      3\u001b[0m         \u001b[0;32mif\u001b[0m \u001b[0mn\u001b[0m\u001b[0;34m<=\u001b[0m\u001b[0;36m1\u001b[0m\u001b[0;34m:\u001b[0m\u001b[0;34m\u001b[0m\u001b[0;34m\u001b[0m\u001b[0m\n\u001b[1;32m      4\u001b[0m             \u001b[0mprint\u001b[0m\u001b[0;34m(\u001b[0m\u001b[0;36m1\u001b[0m\u001b[0;34m)\u001b[0m\u001b[0;34m\u001b[0m\u001b[0;34m\u001b[0m\u001b[0m\n\u001b[1;32m      5\u001b[0m         \u001b[0;32melse\u001b[0m\u001b[0;34m:\u001b[0m\u001b[0;34m\u001b[0m\u001b[0;34m\u001b[0m\u001b[0m\n",
      "\u001b[0;32m~/anaconda3/lib/python3.8/site-packages/ipykernel/kernelbase.py\u001b[0m in \u001b[0;36mraw_input\u001b[0;34m(self, prompt)\u001b[0m\n\u001b[1;32m    858\u001b[0m                 \u001b[0;34m\"raw_input was called, but this frontend does not support input requests.\"\u001b[0m\u001b[0;34m\u001b[0m\u001b[0;34m\u001b[0m\u001b[0m\n\u001b[1;32m    859\u001b[0m             )\n\u001b[0;32m--> 860\u001b[0;31m         return self._input_request(str(prompt),\n\u001b[0m\u001b[1;32m    861\u001b[0m             \u001b[0mself\u001b[0m\u001b[0;34m.\u001b[0m\u001b[0m_parent_ident\u001b[0m\u001b[0;34m,\u001b[0m\u001b[0;34m\u001b[0m\u001b[0;34m\u001b[0m\u001b[0m\n\u001b[1;32m    862\u001b[0m             \u001b[0mself\u001b[0m\u001b[0;34m.\u001b[0m\u001b[0m_parent_header\u001b[0m\u001b[0;34m,\u001b[0m\u001b[0;34m\u001b[0m\u001b[0;34m\u001b[0m\u001b[0m\n",
      "\u001b[0;32m~/anaconda3/lib/python3.8/site-packages/ipykernel/kernelbase.py\u001b[0m in \u001b[0;36m_input_request\u001b[0;34m(self, prompt, ident, parent, password)\u001b[0m\n\u001b[1;32m    902\u001b[0m             \u001b[0;32mexcept\u001b[0m \u001b[0mKeyboardInterrupt\u001b[0m\u001b[0;34m:\u001b[0m\u001b[0;34m\u001b[0m\u001b[0;34m\u001b[0m\u001b[0m\n\u001b[1;32m    903\u001b[0m                 \u001b[0;31m# re-raise KeyboardInterrupt, to truncate traceback\u001b[0m\u001b[0;34m\u001b[0m\u001b[0;34m\u001b[0m\u001b[0;34m\u001b[0m\u001b[0m\n\u001b[0;32m--> 904\u001b[0;31m                 \u001b[0;32mraise\u001b[0m \u001b[0mKeyboardInterrupt\u001b[0m\u001b[0;34m(\u001b[0m\u001b[0;34m\"Interrupted by user\"\u001b[0m\u001b[0;34m)\u001b[0m \u001b[0;32mfrom\u001b[0m \u001b[0;32mNone\u001b[0m\u001b[0;34m\u001b[0m\u001b[0;34m\u001b[0m\u001b[0m\n\u001b[0m\u001b[1;32m    905\u001b[0m             \u001b[0;32mexcept\u001b[0m \u001b[0mException\u001b[0m \u001b[0;32mas\u001b[0m \u001b[0me\u001b[0m\u001b[0;34m:\u001b[0m\u001b[0;34m\u001b[0m\u001b[0;34m\u001b[0m\u001b[0m\n\u001b[1;32m    906\u001b[0m                 \u001b[0mself\u001b[0m\u001b[0;34m.\u001b[0m\u001b[0mlog\u001b[0m\u001b[0;34m.\u001b[0m\u001b[0mwarning\u001b[0m\u001b[0;34m(\u001b[0m\u001b[0;34m\"Invalid Message:\"\u001b[0m\u001b[0;34m,\u001b[0m \u001b[0mexc_info\u001b[0m\u001b[0;34m=\u001b[0m\u001b[0;32mTrue\u001b[0m\u001b[0;34m)\u001b[0m\u001b[0;34m\u001b[0m\u001b[0;34m\u001b[0m\u001b[0m\n",
      "\u001b[0;31mKeyboardInterrupt\u001b[0m: Interrupted by user"
     ]
    },
    {
     "name": "stdout",
     "output_type": "stream",
     "text": [
      "4\n"
     ]
    }
   ],
   "source": [
    "for _ in range(int(input())):\n",
    "        n = int(input())\n",
    "        if n<=1:\n",
    "            print(1)\n",
    "        else:\n",
    "            count = (n**2)//2\n",
    "            print(count%1000000007)"
   ]
  },
  {
   "cell_type": "code",
   "execution_count": 7,
   "metadata": {},
   "outputs": [
    {
     "data": {
      "text/plain": [
       "32"
      ]
     },
     "execution_count": 7,
     "metadata": {},
     "output_type": "execute_result"
    }
   ],
   "source": [
    "2**5"
   ]
  },
  {
   "cell_type": "code",
   "execution_count": 8,
   "metadata": {},
   "outputs": [
    {
     "data": {
      "text/plain": [
       "16"
      ]
     },
     "execution_count": 8,
     "metadata": {},
     "output_type": "execute_result"
    }
   ],
   "source": [
    "32//2"
   ]
  },
  {
   "cell_type": "code",
   "execution_count": 9,
   "metadata": {},
   "outputs": [
    {
     "data": {
      "text/plain": [
       "16"
      ]
     },
     "execution_count": 9,
     "metadata": {},
     "output_type": "execute_result"
    }
   ],
   "source": [
    "16%1000000007"
   ]
  },
  {
   "cell_type": "code",
   "execution_count": 11,
   "metadata": {},
   "outputs": [
    {
     "data": {
      "text/plain": [
       "12.5"
      ]
     },
     "execution_count": 11,
     "metadata": {},
     "output_type": "execute_result"
    }
   ],
   "source": [
    "(5**2)/2"
   ]
  },
  {
   "cell_type": "code",
   "execution_count": null,
   "metadata": {},
   "outputs": [],
   "source": [
    "try:\n",
    "    for _ in range(int(input())):\n",
    "        n = int(input())\n",
    "        if n<=1:\n",
    "            print(1)\n",
    "        else:\n",
    "            count = (2**n)//2\n",
    "            print(count%1000000007)\n",
    "except:\n",
    "    pass\n"
   ]
  }
 ],
 "metadata": {
  "kernelspec": {
   "display_name": "Python 3",
   "language": "python",
   "name": "python3"
  },
  "language_info": {
   "codemirror_mode": {
    "name": "ipython",
    "version": 3
   },
   "file_extension": ".py",
   "mimetype": "text/x-python",
   "name": "python",
   "nbconvert_exporter": "python",
   "pygments_lexer": "ipython3",
   "version": "3.8.3"
  }
 },
 "nbformat": 4,
 "nbformat_minor": 4
}
