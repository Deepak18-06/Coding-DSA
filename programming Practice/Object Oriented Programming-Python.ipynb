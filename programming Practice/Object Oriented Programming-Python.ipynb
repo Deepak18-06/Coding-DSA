{
 "cells": [
  {
   "cell_type": "code",
   "execution_count": 9,
   "metadata": {},
   "outputs": [
    {
     "name": "stdout",
     "output_type": "stream",
     "text": [
      "in init\n",
      "i5 8 ram\n"
     ]
    }
   ],
   "source": [
    "class computer:\n",
    "    # the init function act as constructor in python \n",
    "    # we pass self because while calling method of class the object itself is passed to the method\n",
    "    def __init__(self,cpu,ram,):\n",
    "        self.cpu = cpu\n",
    "        self.ram = ram\n",
    "        #print(\"in init\")\n",
    "    def config(self):\n",
    "        print(self.cpu,self.ram,\"ram\")\n",
    "\n",
    "comp1 = computer('i5',8)\n",
    "comp1.config()"
   ]
  },
  {
   "cell_type": "code",
   "execution_count": 29,
   "metadata": {},
   "outputs": [
    {
     "name": "stdout",
     "output_type": "stream",
     "text": [
      "10 BMW 4\n",
      "4\n",
      "10 BMW\n",
      "this is class car ... a\n"
     ]
    }
   ],
   "source": [
    "class car:\n",
    "    wheels = 4\n",
    "    def __init__(self):\n",
    "        self.mil = 10\n",
    "        self.com = 'BMW'\n",
    "    def pri(self):\n",
    "        '''\n",
    "        this is a instance method which uses instance variable of class\n",
    "        '''\n",
    "        print(self.mil,self.com)\n",
    "    @classmethod\n",
    "    def wheel(cls):\n",
    "        '''\n",
    "        this is a classmethod which uses class variable when changed all the instance method that uses this this \n",
    "        values also changes\n",
    "        '''\n",
    "        return cls.wheels\n",
    "    @staticmethod\n",
    "    def info(a):\n",
    "        '''\n",
    "        this method is static it doesnt have to do anything with instance and class \n",
    "        '''\n",
    "        print(\"this is class car ...\",a)\n",
    "        \n",
    "c1 = car()\n",
    "\n",
    "print(c1.mil,c1.com,c1.wheels)\n",
    "print(car.wheel())\n",
    "c1.pri()\n",
    "car.info('a')"
   ]
  },
  {
   "cell_type": "code",
   "execution_count": null,
   "metadata": {},
   "outputs": [],
   "source": []
  }
 ],
 "metadata": {
  "kernelspec": {
   "display_name": "Python 3",
   "language": "python",
   "name": "python3"
  },
  "language_info": {
   "codemirror_mode": {
    "name": "ipython",
    "version": 3
   },
   "file_extension": ".py",
   "mimetype": "text/x-python",
   "name": "python",
   "nbconvert_exporter": "python",
   "pygments_lexer": "ipython3",
   "version": "3.8.3"
  }
 },
 "nbformat": 4,
 "nbformat_minor": 4
}
