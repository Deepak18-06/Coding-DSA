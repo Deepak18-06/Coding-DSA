{
 "cells": [
  {
   "cell_type": "markdown",
   "metadata": {},
   "source": [
    "# Answer 1"
   ]
  },
  {
   "cell_type": "code",
   "execution_count": 1,
   "metadata": {},
   "outputs": [
    {
     "data": {
      "text/plain": [
       "[1, 2, 3, 4, 5, 6, 7, 8, 8, 9, 14, 19]"
      ]
     },
     "execution_count": 1,
     "metadata": {},
     "output_type": "execute_result"
    }
   ],
   "source": [
    "def sortedLists(arr1,arr2):\n",
    "    result = []\n",
    "    first_pointer = 0\n",
    "    second_pointer = 0\n",
    "    while first_pointer<len(arr1) and second_pointer<len(arr2):\n",
    "        if arr1[first_pointer]<arr2[second_pointer]:\n",
    "            result.append(arr1[first_pointer])\n",
    "            first_pointer+=1\n",
    "        else:\n",
    "            result.append(arr2[second_pointer])\n",
    "            second_pointer+=1\n",
    "    while first_pointer<len(arr1):\n",
    "        result.append(arr1[first_pointer])\n",
    "        first_pointer+=1\n",
    "    while second_pointer<len(arr2):\n",
    "        result.append(arr2[second_pointer])\n",
    "        second_pointer+=1 \n",
    "    return result\n",
    "arr1 = [1,2,3,4,5,6,7,8]\n",
    "arr2 = [8,9,14,19]\n",
    "sortedLists(arr1,arr2)\n",
    "        "
   ]
  },
  {
   "cell_type": "markdown",
   "metadata": {},
   "source": [
    "# Answer 2"
   ]
  },
  {
   "cell_type": "code",
   "execution_count": null,
   "metadata": {},
   "outputs": [],
   "source": [
    "# Answer 2\n",
    "import numpy as np\n",
    "fill_this = (\"-\",0,\"01/01,2010\",0) # here we assuming that in missing place '-' is there\n",
    "ressult = np.genfromtxt(file_name,filling_values = fill_this)\n"
   ]
  },
  {
   "cell_type": "markdown",
   "metadata": {},
   "source": [
    "# Answer 3"
   ]
  },
  {
   "cell_type": "code",
   "execution_count": 15,
   "metadata": {},
   "outputs": [
    {
     "data": {
      "text/html": [
       "<div>\n",
       "<style scoped>\n",
       "    .dataframe tbody tr th:only-of-type {\n",
       "        vertical-align: middle;\n",
       "    }\n",
       "\n",
       "    .dataframe tbody tr th {\n",
       "        vertical-align: top;\n",
       "    }\n",
       "\n",
       "    .dataframe thead th {\n",
       "        text-align: right;\n",
       "    }\n",
       "</style>\n",
       "<table border=\"1\" class=\"dataframe\">\n",
       "  <thead>\n",
       "    <tr style=\"text-align: right;\">\n",
       "      <th></th>\n",
       "      <th>EMPID</th>\n",
       "      <th>Gender</th>\n",
       "      <th>Age</th>\n",
       "      <th>Sales</th>\n",
       "      <th>BMI</th>\n",
       "    </tr>\n",
       "  </thead>\n",
       "  <tbody>\n",
       "    <tr>\n",
       "      <th>0</th>\n",
       "      <td>E001</td>\n",
       "      <td>M</td>\n",
       "      <td>34</td>\n",
       "      <td>123</td>\n",
       "      <td>Normal</td>\n",
       "    </tr>\n",
       "    <tr>\n",
       "      <th>1</th>\n",
       "      <td>E002</td>\n",
       "      <td>F</td>\n",
       "      <td>40</td>\n",
       "      <td>114</td>\n",
       "      <td>Overweight</td>\n",
       "    </tr>\n",
       "    <tr>\n",
       "      <th>2</th>\n",
       "      <td>E003</td>\n",
       "      <td>F</td>\n",
       "      <td>37</td>\n",
       "      <td>135</td>\n",
       "      <td>Obesity</td>\n",
       "    </tr>\n",
       "    <tr>\n",
       "      <th>3</th>\n",
       "      <td>E004</td>\n",
       "      <td>M</td>\n",
       "      <td>30</td>\n",
       "      <td>139</td>\n",
       "      <td>Underweight</td>\n",
       "    </tr>\n",
       "    <tr>\n",
       "      <th>4</th>\n",
       "      <td>E005</td>\n",
       "      <td>F</td>\n",
       "      <td>44</td>\n",
       "      <td>117</td>\n",
       "      <td>Underweight</td>\n",
       "    </tr>\n",
       "    <tr>\n",
       "      <th>5</th>\n",
       "      <td>E006</td>\n",
       "      <td>M</td>\n",
       "      <td>36</td>\n",
       "      <td>121</td>\n",
       "      <td>Normal</td>\n",
       "    </tr>\n",
       "    <tr>\n",
       "      <th>6</th>\n",
       "      <td>E007</td>\n",
       "      <td>M</td>\n",
       "      <td>32</td>\n",
       "      <td>133</td>\n",
       "      <td>Obesity</td>\n",
       "    </tr>\n",
       "    <tr>\n",
       "      <th>7</th>\n",
       "      <td>E008</td>\n",
       "      <td>F</td>\n",
       "      <td>26</td>\n",
       "      <td>140</td>\n",
       "      <td>Normal</td>\n",
       "    </tr>\n",
       "    <tr>\n",
       "      <th>8</th>\n",
       "      <td>E009</td>\n",
       "      <td>M</td>\n",
       "      <td>32</td>\n",
       "      <td>133</td>\n",
       "      <td>Normal</td>\n",
       "    </tr>\n",
       "    <tr>\n",
       "      <th>9</th>\n",
       "      <td>E010</td>\n",
       "      <td>M</td>\n",
       "      <td>36</td>\n",
       "      <td>133</td>\n",
       "      <td>Underweight</td>\n",
       "    </tr>\n",
       "  </tbody>\n",
       "</table>\n",
       "</div>"
      ],
      "text/plain": [
       "  EMPID Gender  Age  Sales          BMI\n",
       "0  E001      M   34    123       Normal\n",
       "1  E002      F   40    114   Overweight\n",
       "2  E003      F   37    135      Obesity\n",
       "3  E004      M   30    139  Underweight\n",
       "4  E005      F   44    117  Underweight\n",
       "5  E006      M   36    121       Normal\n",
       "6  E007      M   32    133      Obesity\n",
       "7  E008      F   26    140       Normal\n",
       "8  E009      M   32    133       Normal\n",
       "9  E010      M   36    133  Underweight"
      ]
     },
     "execution_count": 15,
     "metadata": {},
     "output_type": "execute_result"
    }
   ],
   "source": [
    "# Creating dataframe\n",
    "import pandas as pd \n",
    "data = {'EMPID':['E001','E002','E003','E004','E005','E006','E007','E008','E009','E010'],\n",
    "        'Gender':['M','F','F','M','F','M','M','F','M','M',],\n",
    "        'Age':[34,40,37,30,44,36,32,26,32,36],\n",
    "        'Sales':[123,114,135,139,117,121,133,140,133,133],\n",
    "        'BMI':['Normal','Overweight','Obesity','Underweight','Underweight','Normal','Obesity','Normal','Normal','Underweight']}\n",
    "df = pd.DataFrame(data) \n",
    "df "
   ]
  },
  {
   "cell_type": "code",
   "execution_count": 22,
   "metadata": {},
   "outputs": [
    {
     "data": {
      "text/plain": [
       "<matplotlib.axes._subplots.AxesSubplot at 0x7f8d7a026ca0>"
      ]
     },
     "execution_count": 22,
     "metadata": {},
     "output_type": "execute_result"
    },
    {
     "data": {
      "image/png": "[encoded data removed]",
      "text/plain": [
       "<Figure size 432x288 with 1 Axes>"
      ]
     },
     "metadata": {
      "needs_background": "light"
     },
     "output_type": "display_data"
    }
   ],
   "source": [
    "var = df.groupby(['BMI','Gender']).Sales.sum()\n",
    "var.unstack().plot(kind='bar', stacked = True,  color=['pink','green'], grid=False)"
   ]
  },
  {
   "cell_type": "markdown",
   "metadata": {},
   "source": [
    "# Answer 4"
   ]
  },
  {
   "cell_type": "code",
   "execution_count": 14,
   "metadata": {},
   "outputs": [
    {
     "name": "stdout",
     "output_type": "stream",
     "text": [
      "movie 1\n",
      "is 4\n",
      "unwatchable 1\n",
      "no 1\n",
      "matter 1\n",
      "how 1\n",
      "decent 1\n",
      "the 3\n",
      "first 1\n",
      "half 1\n",
      " 4\n",
      ". 2\n",
      "somewhat 1\n",
      "funny 1\n",
      "and 1\n",
      "well 1\n",
      "paced 1\n",
      "action 1\n",
      "thriller 1\n",
      "that 1\n",
      "has 1\n",
      "jamie 1\n",
      "foxx 1\n",
      "as 2\n",
      "a 1\n",
      "hapless 1\n",
      "fast 1\n",
      "talking 1\n",
      "hoodlum 1\n",
      "who 2\n",
      "chosen 1\n",
      "by 1\n",
      "an 1\n",
      "overly 1\n",
      "demanding 1\n",
      "morse 1\n",
      "okay 1\n",
      "agent 1\n",
      "comes 1\n",
      "up 1\n",
      "with 1\n",
      "ingenious 1\n",
      "plan 1\n",
      "to 1\n",
      "get 1\n",
      "whoever 1\n",
      "did 1\n",
      "it 1\n",
      "at 1\n",
      "all 1\n",
      "cost 1\n"
     ]
    }
   ],
   "source": [
    "reviews = ['movie is unwatchable no matter how decent the first half is  .',\n",
    "           'somewhat funny and well  paced action thriller that has jamie foxx as a hapless  fast  talking hoodlum who is chosen by an overly demanding',\n",
    "           'morse is okay as the agent who comes up with the ingenious plan to get whoever did it at all cost .']\n",
    "from collections import defaultdict\n",
    "counts = defaultdict(lambda : 0)\n",
    "for i in range(len(reviews)):\n",
    "    for word in reviews[i].split(' '):\n",
    "        counts[word] += 1\n",
    "for key in counts:\n",
    "    print(key,counts[key])"
   ]
  },
  {
   "cell_type": "code",
   "execution_count": null,
   "metadata": {},
   "outputs": [],
   "source": []
  },
  {
   "cell_type": "code",
   "execution_count": null,
   "metadata": {},
   "outputs": [],
   "source": []
  }
 ],
 "metadata": {
  "kernelspec": {
   "display_name": "Python 3",
   "language": "python",
   "name": "python3"
  },
  "language_info": {
   "codemirror_mode": {
    "name": "ipython",
    "version": 3
   },
   "file_extension": ".py",
   "mimetype": "text/x-python",
   "name": "python",
   "nbconvert_exporter": "python",
   "pygments_lexer": "ipython3",
   "version": "3.8.3"
  }
 },
 "nbformat": 4,
 "nbformat_minor": 4
}
