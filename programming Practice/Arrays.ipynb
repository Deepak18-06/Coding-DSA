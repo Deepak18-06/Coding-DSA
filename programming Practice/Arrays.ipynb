{
 "cells": [
  {
   "cell_type": "markdown",
   "metadata": {},
   "source": [
    "# Find Duplicates in an array"
   ]
  },
  {
   "cell_type": "code",
   "execution_count": 1,
   "metadata": {},
   "outputs": [
    {
     "data": {
      "text/plain": [
       "[3, 5]"
      ]
     },
     "execution_count": 1,
     "metadata": {},
     "output_type": "execute_result"
    }
   ],
   "source": [
    "def findDuplicates(nums):\n",
    "    dic = set()\n",
    "    res = []\n",
    "    for i in nums:\n",
    "        if i in dic:\n",
    "            res.append(i)\n",
    "        else:\n",
    "            dic.add(i)\n",
    "    return res\n",
    "arr = [1,2,3,3,7,5,5]\n",
    "findDuplicates(arr)\n",
    "\n",
    "# O(n)\n",
    "def printRepeating(arr, size):\n",
    " \n",
    "    print(\"The repeating elements are: \")\n",
    " \n",
    "    for i in range(0, size):\n",
    " \n",
    "        if arr[abs(arr[i])] >= 0:\n",
    "            arr[abs(arr[i])] = -arr[abs(arr[i])]\n",
    "        else:\n",
    "            print(abs(arr[i]), end=\" \")\n"
   ]
  },
  {
   "cell_type": "markdown",
   "metadata": {},
   "source": [
    "# Sort array of 0,1,2"
   ]
  },
  {
   "cell_type": "code",
   "execution_count": 2,
   "metadata": {},
   "outputs": [],
   "source": [
    "def sortColors(nums):\n",
    "    low = 0\n",
    "    mid = 0\n",
    "    high = len(nums)-1\n",
    "    while mid<=high:\n",
    "        if nums[mid] == 0:\n",
    "            nums[mid],nums[low] = nums[low],nums[mid]\n",
    "            low+=1\n",
    "            mid+=1\n",
    "        elif nums[mid] == 1:\n",
    "            mid+=1\n",
    "        else:\n",
    "            nums[mid],nums[high] = nums[high],nums[mid]\n",
    "            high-=1"
   ]
  },
  {
   "cell_type": "markdown",
   "metadata": {},
   "source": [
    "# Find missing and repeating number in an array"
   ]
  },
  {
   "cell_type": "code",
   "execution_count": 3,
   "metadata": {},
   "outputs": [
    {
     "name": "stdout",
     "output_type": "stream",
     "text": [
      "repeating number is 2\n",
      "missing number is 5\n"
     ]
    }
   ],
   "source": [
    "def missingRepeating(arr):\n",
    "    for i in range(len(arr)):\n",
    "        if arr[abs(arr[i])-1]>0:\n",
    "            arr[abs(arr[i])-1] = -arr[abs(arr[i])-1]\n",
    "        else:\n",
    "            print(\"repeating number is\",abs(arr[i]))\n",
    "    for i in range(len(arr)):\n",
    "        if arr[i]>0:\n",
    "            print(\"missing number is\",i+1)\n",
    "arr = [3,4,2,2,1]\n",
    "missingRepeating(arr)"
   ]
  },
  {
   "cell_type": "markdown",
   "metadata": {},
   "source": [
    "# Merge two sorted array without using extra space"
   ]
  },
  {
   "cell_type": "code",
   "execution_count": 10,
   "metadata": {},
   "outputs": [
    {
     "ename": "IndexError",
     "evalue": "list index out of range",
     "output_type": "error",
     "traceback": [
      "\u001b[0;31m---------------------------------------------------------------------------\u001b[0m",
      "\u001b[0;31mIndexError\u001b[0m                                Traceback (most recent call last)",
      "\u001b[0;32m<ipython-input-10-277ad60ccce9>\u001b[0m in \u001b[0;36m<module>\u001b[0;34m\u001b[0m\n\u001b[1;32m     13\u001b[0m \u001b[0marr1\u001b[0m \u001b[0;34m=\u001b[0m \u001b[0;34m[\u001b[0m\u001b[0;36m2\u001b[0m\u001b[0;34m,\u001b[0m\u001b[0;36m4\u001b[0m\u001b[0;34m,\u001b[0m\u001b[0;36m6\u001b[0m\u001b[0;34m,\u001b[0m\u001b[0;36m9\u001b[0m\u001b[0;34m]\u001b[0m\u001b[0;34m\u001b[0m\u001b[0;34m\u001b[0m\u001b[0m\n\u001b[1;32m     14\u001b[0m \u001b[0marr2\u001b[0m \u001b[0;34m=\u001b[0m \u001b[0;34m[\u001b[0m\u001b[0;36m1\u001b[0m\u001b[0;34m,\u001b[0m\u001b[0;36m3\u001b[0m\u001b[0;34m,\u001b[0m\u001b[0;36m5\u001b[0m\u001b[0;34m,\u001b[0m\u001b[0;36m7\u001b[0m\u001b[0;34m,\u001b[0m\u001b[0;36m8\u001b[0m\u001b[0;34m,\u001b[0m\u001b[0;36m10\u001b[0m\u001b[0;34m]\u001b[0m\u001b[0;34m\u001b[0m\u001b[0;34m\u001b[0m\u001b[0m\n\u001b[0;32m---> 15\u001b[0;31m \u001b[0mmergeSorted\u001b[0m\u001b[0;34m(\u001b[0m\u001b[0marr1\u001b[0m\u001b[0;34m,\u001b[0m\u001b[0marr2\u001b[0m\u001b[0;34m)\u001b[0m\u001b[0;34m\u001b[0m\u001b[0;34m\u001b[0m\u001b[0m\n\u001b[0m",
      "\u001b[0;32m<ipython-input-10-277ad60ccce9>\u001b[0m in \u001b[0;36mmergeSorted\u001b[0;34m(arr1, arr2)\u001b[0m\n\u001b[1;32m      3\u001b[0m     \u001b[0ml2\u001b[0m \u001b[0;34m=\u001b[0m \u001b[0;36m0\u001b[0m\u001b[0;34m\u001b[0m\u001b[0;34m\u001b[0m\u001b[0m\n\u001b[1;32m      4\u001b[0m     \u001b[0;32mwhile\u001b[0m \u001b[0ml1\u001b[0m\u001b[0;34m<\u001b[0m\u001b[0mlen\u001b[0m\u001b[0;34m(\u001b[0m\u001b[0marr1\u001b[0m\u001b[0;34m)\u001b[0m \u001b[0;32mand\u001b[0m \u001b[0ml2\u001b[0m\u001b[0;34m<\u001b[0m\u001b[0mlen\u001b[0m\u001b[0;34m(\u001b[0m\u001b[0marr2\u001b[0m\u001b[0;34m)\u001b[0m\u001b[0;34m:\u001b[0m\u001b[0;34m\u001b[0m\u001b[0;34m\u001b[0m\u001b[0m\n\u001b[0;32m----> 5\u001b[0;31m         \u001b[0;32mif\u001b[0m \u001b[0marr\u001b[0m\u001b[0;34m[\u001b[0m\u001b[0ml1\u001b[0m\u001b[0;34m]\u001b[0m \u001b[0;34m>\u001b[0m \u001b[0marr\u001b[0m\u001b[0;34m[\u001b[0m\u001b[0ml2\u001b[0m\u001b[0;34m]\u001b[0m\u001b[0;34m:\u001b[0m\u001b[0;34m\u001b[0m\u001b[0;34m\u001b[0m\u001b[0m\n\u001b[0m\u001b[1;32m      6\u001b[0m             \u001b[0marr1\u001b[0m\u001b[0;34m[\u001b[0m\u001b[0ml1\u001b[0m\u001b[0;34m]\u001b[0m\u001b[0;34m,\u001b[0m\u001b[0marr2\u001b[0m\u001b[0;34m[\u001b[0m\u001b[0ml2\u001b[0m\u001b[0;34m]\u001b[0m \u001b[0;34m=\u001b[0m \u001b[0marr2\u001b[0m\u001b[0;34m[\u001b[0m\u001b[0ml2\u001b[0m\u001b[0;34m]\u001b[0m\u001b[0;34m,\u001b[0m\u001b[0marr1\u001b[0m\u001b[0;34m[\u001b[0m\u001b[0ml1\u001b[0m\u001b[0;34m]\u001b[0m\u001b[0;34m\u001b[0m\u001b[0;34m\u001b[0m\u001b[0m\n\u001b[1;32m      7\u001b[0m             \u001b[0marr2\u001b[0m\u001b[0;34m.\u001b[0m\u001b[0msort\u001b[0m\u001b[0;34m(\u001b[0m\u001b[0;34m)\u001b[0m\u001b[0;34m\u001b[0m\u001b[0;34m\u001b[0m\u001b[0m\n",
      "\u001b[0;31mIndexError\u001b[0m: list index out of range"
     ]
    }
   ],
   "source": [
    "def mergeSorted(arr1,arr2):\n",
    "    l1 = 0\n",
    "    l2 = 0\n",
    "    while l1<len(arr1) and l2<len(arr2):\n",
    "        if arr[l1] > arr[l2]:\n",
    "            arr1[l1],arr2[l2] = arr2[l2],arr1[l1]\n",
    "            arr2.sort()\n",
    "            l1+=1\n",
    "        else:\n",
    "            l2+=1\n",
    "    print(arr1)\n",
    "    return arr1.extend(arr2)\n",
    "arr1 = [2,4,6,9]\n",
    "arr2 = [1,3,5,7,8,10]\n",
    "mergeSorted(arr1,arr2)"
   ]
  },
  {
   "cell_type": "markdown",
   "metadata": {},
   "source": [
    "# Largest Sum contiguous subarray(Kadane's Algorithm)"
   ]
  },
  {
   "cell_type": "code",
   "execution_count": 23,
   "metadata": {},
   "outputs": [
    {
     "data": {
      "text/plain": [
       "7"
      ]
     },
     "execution_count": 23,
     "metadata": {},
     "output_type": "execute_result"
    }
   ],
   "source": [
    "def KadaneAlgo(arr):\n",
    "    max_over = -9223372036854775807 - 1\n",
    "    max_here = 0\n",
    "    for i in range(len(arr)):\n",
    "        max_here = max_here+arr[i]\n",
    "        if max_here <arr[i]:\n",
    "            max_here = arr[i]\n",
    "        if max_over<max_here:\n",
    "            max_over = max_here\n",
    "    return max_over\n",
    "arr = [-2, -3, 4, -1, -2, 1, 5, -3]\n",
    "KadaneAlgo(arr)"
   ]
  },
  {
   "cell_type": "markdown",
   "metadata": {},
   "source": [
    "# Merge Overlapping Intervals"
   ]
  },
  {
   "cell_type": "code",
   "execution_count": 26,
   "metadata": {},
   "outputs": [
    {
     "data": {
      "text/plain": [
       "[[1, 6], [8, 10], [15, 18]]"
      ]
     },
     "execution_count": 26,
     "metadata": {},
     "output_type": "execute_result"
    }
   ],
   "source": [
    "def mergeIntervals(arr):\n",
    "    arr.sort(key = lambda x:x[0])\n",
    "    i = 1\n",
    "    while i<len(arr):\n",
    "        if arr[i-1][1]>=arr[i][0]:\n",
    "            arr[i-1][1] = arr[i][1]\n",
    "            del arr[i]\n",
    "        else:\n",
    "            i+=1\n",
    "    return arr\n",
    "intervals = [[1,3],[2,6],[8,10],[15,18]]\n",
    "mergeIntervals(intervals)"
   ]
  },
  {
   "cell_type": "code",
   "execution_count": 4,
   "metadata": {},
   "outputs": [
    {
     "data": {
      "text/plain": [
       "7"
      ]
     },
     "execution_count": 4,
     "metadata": {},
     "output_type": "execute_result"
    }
   ],
   "source": [
    "def longestPal(s):\n",
    "    res = 0\n",
    "    for i in range(1,len(s),2):\n",
    "        if s[i] == s[i-1]:\n",
    "            res+=1\n",
    "    if res == len(s)/2:\n",
    "        return res*2\n",
    "    return res*2 + 1\n",
    "s = \"abccccdd\"\n",
    "longestPal(s)\n"
   ]
  },
  {
   "cell_type": "code",
   "execution_count": null,
   "metadata": {},
   "outputs": [],
   "source": [
    "def solve(h,m):\n",
    "    # hour move .25 degre in 1 min\n",
    "    # minute  hand moves 6 degree in min\n",
    "    # 3:15\n",
    "    # hminutes = 195\n",
    "    # hangle = 48.5\n",
    "    first = 30*h # 90\n",
    "    hour = first+m*.25 # 3.8\n",
    "    minute = 6*m\n",
    "    if hour>minute:\n",
    "        result = hour-minute\n",
    "    else:\n",
    "        result = minute- hour\n",
    "    return result\n",
    "solve(4,20)"
   ]
  }
 ],
 "metadata": {
  "kernelspec": {
   "display_name": "Python 3",
   "language": "python",
   "name": "python3"
  },
  "language_info": {
   "codemirror_mode": {
    "name": "ipython",
    "version": 3
   },
   "file_extension": ".py",
   "mimetype": "text/x-python",
   "name": "python",
   "nbconvert_exporter": "python",
   "pygments_lexer": "ipython3",
   "version": "3.8.8"
  }
 },
 "nbformat": 4,
 "nbformat_minor": 4
}
