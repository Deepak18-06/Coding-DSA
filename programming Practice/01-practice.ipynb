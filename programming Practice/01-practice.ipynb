{
 "cells": [
  {
   "cell_type": "markdown",
   "id": "fdd06f0f-3d48-4c84-bd73-07d271d8e01a",
   "metadata": {},
   "source": [
    "# Arrays"
   ]
  },
  {
   "cell_type": "code",
   "execution_count": 12,
   "id": "e52fe910-e066-4d53-a835-b2a70f06bc2e",
   "metadata": {},
   "outputs": [
    {
     "name": "stdout",
     "output_type": "stream",
     "text": [
      "{1: 0, 2: 1, 3: 2, 4: 3, 5: 4, 6: 5, 7: 6, 8: 7, 9: 8}\n"
     ]
    },
    {
     "data": {
      "text/plain": [
       "[[1, 8], [2, 7], [3, 6], [4, 5], [5, 4], [6, 3], [7, 2], [8, 1]]"
      ]
     },
     "execution_count": 12,
     "metadata": {},
     "output_type": "execute_result"
    }
   ],
   "source": [
    "#two sum\n",
    "\n",
    "#unsorted array\n",
    "def toSum(arr,k):\n",
    "    map = {}\n",
    "    for i in range(len(arr)):\n",
    "        if arr[i] not in map:\n",
    "            map[arr[i]] = i\n",
    "    print(map)\n",
    "    result = []\n",
    "    for i in range(len(arr)):\n",
    "        temp = k - arr[i]\n",
    "        if temp in map and map[temp] != i:\n",
    "            result.append([arr[i],temp])\n",
    "    return result\n",
    "\n",
    "array = [1,2,3,4,5,6,7,8,9]\n",
    "toSum(array,9)"
   ]
  },
  {
   "cell_type": "markdown",
   "id": "0a1f5e8d-2326-43fb-b0b5-d69a772be3fd",
   "metadata": {},
   "source": [
    "## Frog Jump"
   ]
  },
  {
   "cell_type": "code",
   "execution_count": 2,
   "id": "b72d3d53-31bb-4d07-949a-aa403cb421fc",
   "metadata": {},
   "outputs": [],
   "source": [
    "def minCostToJumpFromStartToEnd(costs):\n",
    "    dp = [0 for i in range(len(costs))]\n",
    "    dp[0] = 0\n",
    "    for i in range(1, len(costs)):\n",
    "        first = dp[i-1] + abs(cost[i] - cost[i-1])\n",
    "        if i > 1:\n",
    "            second = dp[i-2] + abs(cost[i] - cost[i-2])\n",
    "        dp[i] = min(first, second)"
   ]
  },
  {
   "cell_type": "code",
   "execution_count": null,
   "id": "e3f9e21f-bbef-4a8a-a8df-8ef7f9daca04",
   "metadata": {},
   "outputs": [],
   "source": []
  }
 ],
 "metadata": {
  "kernelspec": {
   "display_name": "Python 3 (ipykernel)",
   "language": "python",
   "name": "python3"
  },
  "language_info": {
   "codemirror_mode": {
    "name": "ipython",
    "version": 3
   },
   "file_extension": ".py",
   "mimetype": "text/x-python",
   "name": "python",
   "nbconvert_exporter": "python",
   "pygments_lexer": "ipython3",
   "version": "3.12.4"
  }
 },
 "nbformat": 4,
 "nbformat_minor": 5
}
