{
 "cells": [
  {
   "cell_type": "markdown",
   "metadata": {},
   "source": [
    "### Depth first Search\n",
    "### Breadth first search"
   ]
  },
  {
   "cell_type": "code",
   "execution_count": 3,
   "metadata": {},
   "outputs": [
    {
     "name": "stdout",
     "output_type": "stream",
     "text": [
      "2 0 1 3 dfs None\n",
      "2 0 3 1 Following is Breadth First Traversal (starting from vertex 2) None\n"
     ]
    }
   ],
   "source": [
    "from collections import defaultdict\n",
    "class Graph:\n",
    "    def __init__(self):\n",
    "        self.graph = defaultdict(list)\n",
    "    def addEdge(self,u,v):\n",
    "        self.graph[u].append(v)\n",
    "    def dfs(self,v,visited):\n",
    "        visited[v] = True\n",
    "        print(v,end=' ')\n",
    "        for i in self.graph[v]:\n",
    "            if visited[i]== False:\n",
    "                self.dfs(i,visited)\n",
    "    def dfsUtill(self,v):\n",
    "        visited = [False]*10\n",
    "        self.dfs(v,visited)\n",
    "    def bfs(self,s):\n",
    "        visited = [False]*(len(self.graph))\n",
    "        queue = []\n",
    "        queue.append(s)\n",
    "        visited[s] = True\n",
    "        #print(s,end = ' ')\n",
    "        while queue:\n",
    "            s = queue.pop(0)\n",
    "            print(s,end = ' ')\n",
    "            for i in self.graph[s]:\n",
    "                if visited[i] == False:\n",
    "                    queue.append(i)\n",
    "                    visited[i] = True\n",
    "g = Graph() \n",
    "g.addEdge(0, 1) \n",
    "g.addEdge(0, 2) \n",
    "g.addEdge(1, 2) \n",
    "g.addEdge(2, 0) \n",
    "g.addEdge(2, 3) \n",
    "g.addEdge(3, 3)\n",
    "print(\"dfs\",g.dfsUtill(2))\n",
    "print (\"Following is Breadth First Traversal\"\n",
    "                  \" (starting from vertex 2)\",g.bfs(2)) "
   ]
  },
  {
   "cell_type": "markdown",
   "metadata": {},
   "source": [
    "### Detect a Cycle in a Graph"
   ]
  },
  {
   "cell_type": "code",
   "execution_count": 7,
   "metadata": {},
   "outputs": [],
   "source": [
    "from collections import defaultdict\n",
    "class Graph:\n",
    "    def __init__(self,vertices):\n",
    "        self.v = vertices\n",
    "        self.graph = defaultdict(list)\n",
    "    def addEdge(self,v,u):\n",
    "        self.graph[u].append(v)\n",
    "    def HasCycle(self,v,visited,parent):\n",
    "        visited[v] = True\n",
    "        #print(v,end=' ')\n",
    "        for i in self.graph[v]:\n",
    "            if visited[i] == False and self.HasCycle(i,visited,v):\n",
    "                return True\n",
    "            elif parent != i:\n",
    "                return True\n",
    "        return False\n",
    "            \n",
    "    def dfsUtill(self):\n",
    "        visited = [False]*(len(self.graph))\n",
    "        for i in range(len(self.graph)):\n",
    "            if visited[i] == False and self.HasCycle(i,visited,-1):\n",
    "                return True\n",
    "\n",
    "        return False"
   ]
  },
  {
   "cell_type": "code",
   "execution_count": null,
   "metadata": {},
   "outputs": [],
   "source": []
  }
 ],
 "metadata": {
  "kernelspec": {
   "display_name": "Python 3",
   "language": "python",
   "name": "python3"
  },
  "language_info": {
   "codemirror_mode": {
    "name": "ipython",
    "version": 3
   },
   "file_extension": ".py",
   "mimetype": "text/x-python",
   "name": "python",
   "nbconvert_exporter": "python",
   "pygments_lexer": "ipython3",
   "version": "3.8.3"
  }
 },
 "nbformat": 4,
 "nbformat_minor": 4
}
