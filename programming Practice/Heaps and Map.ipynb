{
 "cells": [
  {
   "cell_type": "code",
   "execution_count": 3,
   "metadata": {},
   "outputs": [],
   "source": [
    "import heapq\n"
   ]
  },
  {
   "cell_type": "markdown",
   "metadata": {},
   "source": [
    "# K largest element in an array"
   ]
  },
  {
   "cell_type": "code",
   "execution_count": 3,
   "metadata": {},
   "outputs": [
    {
     "data": {
      "text/plain": [
       "[6, 11]"
      ]
     },
     "execution_count": 3,
     "metadata": {},
     "output_type": "execute_result"
    }
   ],
   "source": [
    "def solve(arr,k):\n",
    "    min_heap = []\n",
    "    for i in arr[:k]:\n",
    "        heapq.heappush(min_heap,i)\n",
    "    for b in arr[k:]:\n",
    "        heapq.heappushpop(min_heap,b)\n",
    "    return min_heap\n",
    "arr = [11, 3, 4, 6]\n",
    "k = 2\n",
    "solve(arr,k)"
   ]
  },
  {
   "cell_type": "markdown",
   "metadata": {},
   "source": [
    "# K Smallest element in an array"
   ]
  },
  {
   "cell_type": "code",
   "execution_count": 28,
   "metadata": {},
   "outputs": [
    {
     "data": {
      "text/plain": [
       "[-15]"
      ]
     },
     "execution_count": 28,
     "metadata": {},
     "output_type": "execute_result"
    }
   ],
   "source": [
    "def solve1(arr,k):\n",
    "    min_heap = []\n",
    "    for a in arr[:k]:\n",
    "        heapq.heappush(min_heap,-a)\n",
    "    for b in arr[k:]:\n",
    "        heapq.heappushpop(min_heap,-b)\n",
    "    return min_heap\n",
    "solve1(arr,k)"
   ]
  },
  {
   "cell_type": "markdown",
   "metadata": {},
   "source": [
    "# Merge k sorted arrays"
   ]
  },
  {
   "cell_type": "code",
   "execution_count": 8,
   "metadata": {},
   "outputs": [
    {
     "data": {
      "text/plain": [
       "[0, 1, 2, 2, 3, 4, 6, 9, 10]"
      ]
     },
     "execution_count": 8,
     "metadata": {},
     "output_type": "execute_result"
    }
   ],
   "source": [
    "def mergeK(A):\n",
    "    heap = []\n",
    "    ans = []\n",
    "    for i in range(len(A)):\n",
    "        heapq.heappush(heap,(A[i][0],i,0))\n",
    "    while len(heap) != 0:\n",
    "        a,b,c = heapq.heappop(heap)\n",
    "        i = b\n",
    "        j = c\n",
    "        ans.append(a)\n",
    "        if (j+1)<len(A[i]):\n",
    "            heapq.heappush(heap,(A[i][j+1],i,j+1))\n",
    "    return ans\n",
    "A = [[1, 2, 3],\n",
    "    [2, 4, 6],\n",
    "    [0, 9, 10],\n",
    "    ]\n",
    "mergeK(A)"
   ]
  },
  {
   "cell_type": "markdown",
   "metadata": {},
   "source": [
    "# Profit maximization"
   ]
  },
  {
   "cell_type": "code",
   "execution_count": 5,
   "metadata": {},
   "outputs": [
    {
     "data": {
      "text/plain": [
       "7"
      ]
     },
     "execution_count": 5,
     "metadata": {},
     "output_type": "execute_result"
    }
   ],
   "source": [
    "\n",
    "def maxiProfit(seats,tickets):\n",
    "    cost = 0\n",
    "    seats = [-seat for seat in seats]\n",
    "    heapq.heapify(seats)\n",
    "    for i in range(tickets):\n",
    "        price = heapq.heappop(seats)\n",
    "        heapq.heappush(seats,price+1)\n",
    "        cost+=abs(price)\n",
    "    return cost\n",
    "seats = [1,4]\n",
    "tickets = 2\n",
    "maxiProfit(seats,tickets)"
   ]
  },
  {
   "cell_type": "markdown",
   "metadata": {},
   "source": [
    "# Merge k sorted List"
   ]
  },
  {
   "cell_type": "code",
   "execution_count": 6,
   "metadata": {},
   "outputs": [
    {
     "ename": "NameError",
     "evalue": "name 'List' is not defined",
     "output_type": "error",
     "traceback": [
      "\u001b[0;31m---------------------------------------------------------------------------\u001b[0m",
      "\u001b[0;31mNameError\u001b[0m                                 Traceback (most recent call last)",
      "\u001b[0;32m<ipython-input-6-a1dfddec1547>\u001b[0m in \u001b[0;36m<module>\u001b[0;34m\u001b[0m\n\u001b[0;32m----> 1\u001b[0;31m \u001b[0;32mdef\u001b[0m \u001b[0mmergeKLists\u001b[0m\u001b[0;34m(\u001b[0m\u001b[0mself\u001b[0m\u001b[0;34m,\u001b[0m \u001b[0mlists\u001b[0m\u001b[0;34m:\u001b[0m \u001b[0mList\u001b[0m\u001b[0;34m[\u001b[0m\u001b[0mListNode\u001b[0m\u001b[0;34m]\u001b[0m\u001b[0;34m)\u001b[0m \u001b[0;34m->\u001b[0m \u001b[0mListNode\u001b[0m\u001b[0;34m:\u001b[0m\u001b[0;34m\u001b[0m\u001b[0;34m\u001b[0m\u001b[0m\n\u001b[0m\u001b[1;32m      2\u001b[0m     \u001b[0;32mimport\u001b[0m \u001b[0mheapq\u001b[0m\u001b[0;34m\u001b[0m\u001b[0;34m\u001b[0m\u001b[0m\n\u001b[1;32m      3\u001b[0m     \u001b[0mheap\u001b[0m \u001b[0;34m=\u001b[0m \u001b[0;34m[\u001b[0m\u001b[0;34m]\u001b[0m\u001b[0;34m\u001b[0m\u001b[0;34m\u001b[0m\u001b[0m\n\u001b[1;32m      4\u001b[0m     \u001b[0mdummy\u001b[0m \u001b[0;34m=\u001b[0m \u001b[0mans\u001b[0m \u001b[0;34m=\u001b[0m \u001b[0mListNode\u001b[0m\u001b[0;34m(\u001b[0m\u001b[0;34m)\u001b[0m\u001b[0;34m\u001b[0m\u001b[0;34m\u001b[0m\u001b[0m\n\u001b[1;32m      5\u001b[0m     \u001b[0;32mfor\u001b[0m \u001b[0mi\u001b[0m \u001b[0;32min\u001b[0m \u001b[0mlists\u001b[0m\u001b[0;34m:\u001b[0m\u001b[0;34m\u001b[0m\u001b[0;34m\u001b[0m\u001b[0m\n",
      "\u001b[0;31mNameError\u001b[0m: name 'List' is not defined"
     ]
    }
   ],
   "source": [
    "def mergeKLists(self, lists: List[ListNode]) -> ListNode:\n",
    "    import heapq\n",
    "    heap = []\n",
    "    dummy = ans = ListNode()\n",
    "    for i in lists:\n",
    "        if i:\n",
    "            heapq.heappush(heap,(i.val,i))\n",
    "    while len(heap) != 0:\n",
    "        value,node = heapq.heappop(heap)\n",
    "        dummy.next = ListNode(value)\n",
    "        dummy = dummy.next\n",
    "        node = node.next\n",
    "        if node:\n",
    "            heapq.heappush(heap,(node.val,node))\n",
    "    return ans.next"
   ]
  },
  {
   "cell_type": "markdown",
   "metadata": {},
   "source": [
    "# K closest Number"
   ]
  },
  {
   "cell_type": "code",
   "execution_count": 8,
   "metadata": {},
   "outputs": [
    {
     "name": "stdout",
     "output_type": "stream",
     "text": [
      "6\n",
      "8\n",
      "7\n"
     ]
    }
   ],
   "source": [
    "def KclosetsNumber(arr,k,x):\n",
    "    heap = []\n",
    "    for i in range(len(arr)):\n",
    "        heapq.heappush(heap,(-abs(arr[i]-x),arr[i]))\n",
    "        if len(heap)>k:\n",
    "            heapq.heappop(heap)\n",
    "    for a in heap:\n",
    "        f,s = a\n",
    "        print(s)\n",
    "arr =[5,6,7,8,9]\n",
    "k = 3\n",
    "x = 7\n",
    "KclosetsNumber(arr,k,x)"
   ]
  },
  {
   "cell_type": "markdown",
   "metadata": {},
   "source": [
    "# Top k frequent Numbers"
   ]
  },
  {
   "cell_type": "code",
   "execution_count": 21,
   "metadata": {},
   "outputs": [
    {
     "data": {
      "text/plain": [
       "[(2, 2), (3, 1)]"
      ]
     },
     "execution_count": 21,
     "metadata": {},
     "output_type": "execute_result"
    }
   ],
   "source": [
    "def topKfrequent(arr,k):\n",
    "    heap = []\n",
    "    for i in set(arr):\n",
    "        heapq.heappush(heap,(arr.count(i),i))\n",
    "        if len(heap)>k:\n",
    "            heapq.heappop(heap)\n",
    "    return heap\n",
    "arr = [1,1,1,3,2,2,4]\n",
    "k = 2\n",
    "topKfrequent(arr,k)"
   ]
  },
  {
   "cell_type": "markdown",
   "metadata": {},
   "source": [
    "# Frequency Sort"
   ]
  },
  {
   "cell_type": "code",
   "execution_count": 23,
   "metadata": {},
   "outputs": [
    {
     "name": "stdout",
     "output_type": "stream",
     "text": [
      "1 2 "
     ]
    }
   ],
   "source": [
    "def FrequencySort(arr):\n",
    "    heap = []\n",
    "    for i in set(arr):\n",
    "        heapq.heappush(heap,(-arr.count(i),i))\n",
    "    for tup in heap:\n",
    "        a,b = heapq.heappop(heap)\n",
    "        print(b,end=' ')\n",
    "FrequencySort(arr)"
   ]
  },
  {
   "cell_type": "markdown",
   "metadata": {},
   "source": [
    "# K closest Point to origin"
   ]
  },
  {
   "cell_type": "code",
   "execution_count": 24,
   "metadata": {},
   "outputs": [
    {
     "data": {
      "text/plain": [
       "[(-8, -2, 2), (-1, 0, 1)]"
      ]
     },
     "execution_count": 24,
     "metadata": {},
     "output_type": "execute_result"
    }
   ],
   "source": [
    "def KclosestOrigin(arr,k):\n",
    "    heap = []\n",
    "    for i in range(len(arr)):\n",
    "        dist  = -(arr[i][0]**2 + arr[i][1]**2)\n",
    "        heapq.heappush(heap,(dist,arr[i][0],arr[i][1]))\n",
    "        if len(heap)>k:\n",
    "            heapq.heappop(heap)\n",
    "    return heap\n",
    "mat = [[1,3],[-2,2],[5,8],[0,1]]\n",
    "k = 2\n",
    "KclosestOrigin(mat,k)"
   ]
  },
  {
   "cell_type": "markdown",
   "metadata": {},
   "source": [
    "# Connect Ropes to minimize"
   ]
  },
  {
   "cell_type": "code",
   "execution_count": 27,
   "metadata": {},
   "outputs": [
    {
     "data": {
      "text/plain": [
       "33"
      ]
     },
     "execution_count": 27,
     "metadata": {},
     "output_type": "execute_result"
    }
   ],
   "source": [
    "def connectRopes(arr):\n",
    "    heapq.heapify(arr)\n",
    "    cost = 0\n",
    "    while len(arr) >= 2:\n",
    "        a = heapq.heappop(arr)\n",
    "        b = heapq.heappop(arr)\n",
    "        heapq.heappush(arr,a+b)\n",
    "        cost+= a+b\n",
    "    return cost\n",
    "arr = [1,2,3,4,5]\n",
    "connectRopes(arr)\n",
    "        \n",
    "    "
   ]
  },
  {
   "cell_type": "markdown",
   "metadata": {},
   "source": [
    "# Sum of Elements between k1 smallest and k2 smallest numbers"
   ]
  },
  {
   "cell_type": "code",
   "execution_count": 32,
   "metadata": {},
   "outputs": [
    {
     "name": "stdout",
     "output_type": "stream",
     "text": [
      "15 5\n"
     ]
    },
    {
     "data": {
      "text/plain": [
       "23"
      ]
     },
     "execution_count": 32,
     "metadata": {},
     "output_type": "execute_result"
    }
   ],
   "source": [
    "def SumK1K2(arr,k1,k2):\n",
    "    s1 = solve1(arr,k1)\n",
    "    s2 = solve1(arr,k2)\n",
    "    s11 = -s1[0]\n",
    "    s22 = -s2[0]\n",
    "    s1 = max(s11,s22)\n",
    "    s2 = min(s11,s22)\n",
    "    print(s1,s2)\n",
    "    res = 0\n",
    "    for i in arr:\n",
    "        if s2<i<s1:\n",
    "            res+=i\n",
    "    return res\n",
    "arr = [1,3,12,5,15,11]\n",
    "k1 = 3\n",
    "k2 = 6\n",
    "SumK1K2(arr,k1,k2)"
   ]
  },
  {
   "cell_type": "markdown",
   "metadata": {},
   "source": [
    "# Maximum Sum Combinations OR N Maximum sum pair of combination"
   ]
  },
  {
   "cell_type": "code",
   "execution_count": 34,
   "metadata": {},
   "outputs": [
    {
     "data": {
      "text/plain": [
       "[10, 9, 9, 8]"
      ]
     },
     "execution_count": 34,
     "metadata": {},
     "output_type": "execute_result"
    }
   ],
   "source": [
    "def maxSumCombi(A,B,k):\n",
    "    n = len(A)\n",
    "    heap = []\n",
    "    A.sort()\n",
    "    B.sort()\n",
    "    res = []\n",
    "    my_set = set()\n",
    "    my_set.add((n-1,n-1))\n",
    "    heapq.heappush(heap,[-1*(A[n-1]+B[n-1]),(n-1,n-1)])\n",
    "    for _ in range(k):\n",
    "        temp = heapq.heappop(heap)\n",
    "        res.append(-temp[0])\n",
    "        i,j = temp[1]\n",
    "        if j>=1:\n",
    "            if (i,j-1) not in my_set:\n",
    "                heapq.heappush(heap,[-1*(A[i]+B[j-1]),(i,j-1)])\n",
    "                my_set.add((i,j-1))\n",
    "        if i>=1:\n",
    "            if (i-1,j) not in my_set:\n",
    "                heapq.heappush(heap,[-1*(A[i-1]+B[j]),(i-1,j)])\n",
    "                my_set.add((i-1,j))\n",
    "    return res\n",
    "A = [1, 4, 2, 3]\n",
    "B = [2, 5, 1, 6]\n",
    "C = 4\n",
    "maxSumCombi(A,B,C)"
   ]
  },
  {
   "cell_type": "markdown",
   "metadata": {},
   "source": [
    "# Magician and Chocolates"
   ]
  },
  {
   "cell_type": "code",
   "execution_count": 35,
   "metadata": {},
   "outputs": [
    {
     "data": {
      "text/plain": [
       "33"
      ]
     },
     "execution_count": 35,
     "metadata": {},
     "output_type": "execute_result"
    }
   ],
   "source": [
    "def nchoc(A,k):\n",
    "    n = len(A)\n",
    "    heap = []\n",
    "    for i in A:\n",
    "        heapq.heappush(heap,-i)\n",
    "    res = 0\n",
    "    for _ in range(k):\n",
    "        if not heap:\n",
    "            break\n",
    "        val = -heapq.heappop(heap)\n",
    "        res+=val\n",
    "        val = val//2\n",
    "        if val:\n",
    "            heapq.heappush(heap,-val)\n",
    "    return res\n",
    "k = 5\n",
    "A = [2, 4, 6, 8, 10]\n",
    "nchoc(A,k)"
   ]
  },
  {
   "cell_type": "code",
   "execution_count": null,
   "metadata": {},
   "outputs": [],
   "source": []
  }
 ],
 "metadata": {
  "kernelspec": {
   "display_name": "Python 3",
   "language": "python",
   "name": "python3"
  },
  "language_info": {
   "codemirror_mode": {
    "name": "ipython",
    "version": 3
   },
   "file_extension": ".py",
   "mimetype": "text/x-python",
   "name": "python",
   "nbconvert_exporter": "python",
   "pygments_lexer": "ipython3",
   "version": "3.8.3"
  }
 },
 "nbformat": 4,
 "nbformat_minor": 4
}
