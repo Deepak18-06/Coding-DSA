{
 "cells": [
  {
   "cell_type": "code",
   "execution_count": 1,
   "metadata": {},
   "outputs": [],
   "source": [
    "import heapq\n"
   ]
  },
  {
   "cell_type": "markdown",
   "metadata": {},
   "source": [
    "# K largest element in an array"
   ]
  },
  {
   "cell_type": "code",
   "execution_count": 3,
   "metadata": {},
   "outputs": [
    {
     "data": {
      "text/plain": [
       "[6, 11]"
      ]
     },
     "execution_count": 3,
     "metadata": {},
     "output_type": "execute_result"
    }
   ],
   "source": [
    "def solve(arr,k):\n",
    "    min_heap = []\n",
    "    for i in arr[:k]:\n",
    "        heapq.heappush(min_heap,i)\n",
    "    for b in arr[k:]:\n",
    "        heapq.heappushpop(min_heap,b)\n",
    "    return min_heap\n",
    "arr = [11, 3, 4, 6]\n",
    "k = 2\n",
    "solve(arr,k)"
   ]
  },
  {
   "cell_type": "markdown",
   "metadata": {},
   "source": [
    "# K Smallest element in an array"
   ]
  },
  {
   "cell_type": "code",
   "execution_count": 7,
   "metadata": {},
   "outputs": [
    {
     "data": {
      "text/plain": [
       "[-4, -3]"
      ]
     },
     "execution_count": 7,
     "metadata": {},
     "output_type": "execute_result"
    }
   ],
   "source": [
    "def solve1(arr,k):\n",
    "    min_heap = []\n",
    "    for a in arr[:k]:\n",
    "        heapq.heappush(min_heap,-a)\n",
    "    for b in arr[k:]:\n",
    "        heapq.heappushpop(min_heap,-b)\n",
    "    return min_heap\n",
    "solve1(arr,k)"
   ]
  },
  {
   "cell_type": "markdown",
   "metadata": {},
   "source": [
    "# Merge k sorted arrays"
   ]
  },
  {
   "cell_type": "code",
   "execution_count": 8,
   "metadata": {},
   "outputs": [
    {
     "data": {
      "text/plain": [
       "[0, 1, 2, 2, 3, 4, 6, 9, 10]"
      ]
     },
     "execution_count": 8,
     "metadata": {},
     "output_type": "execute_result"
    }
   ],
   "source": [
    "def mergeK(A):\n",
    "    heap = []\n",
    "    ans = []\n",
    "    for i in range(len(A)):\n",
    "        heapq.heappush(heap,(A[i][0],i,0))\n",
    "    while len(heap) != 0:\n",
    "        a,b,c = heapq.heappop(heap)\n",
    "        i = b\n",
    "        j = c\n",
    "        ans.append(a)\n",
    "        if (j+1)<len(A[i]):\n",
    "            heapq.heappush(heap,(A[i][j+1],i,j+1))\n",
    "    return ans\n",
    "A = [[1, 2, 3],\n",
    "    [2, 4, 6],\n",
    "    [0, 9, 10],\n",
    "    ]\n",
    "mergeK(A)"
   ]
  },
  {
   "cell_type": "code",
   "execution_count": null,
   "metadata": {},
   "outputs": [],
   "source": []
  }
 ],
 "metadata": {
  "kernelspec": {
   "display_name": "Python 3",
   "language": "python",
   "name": "python3"
  },
  "language_info": {
   "codemirror_mode": {
    "name": "ipython",
    "version": 3
   },
   "file_extension": ".py",
   "mimetype": "text/x-python",
   "name": "python",
   "nbconvert_exporter": "python",
   "pygments_lexer": "ipython3",
   "version": "3.8.3"
  }
 },
 "nbformat": 4,
 "nbformat_minor": 4
}
