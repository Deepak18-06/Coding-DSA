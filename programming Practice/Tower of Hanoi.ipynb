{
 "cells": [
  {
   "cell_type": "markdown",
   "metadata": {},
   "source": [
    "                                                   + +                                      +\n",
    "            +++\n",
    "            +++\n",
    "            +++\n",
    "            +++\n",
    "            +++\n",
    "            +++\n",
    "------------------------------          -----------------------------         -----------------------------"
   ]
  },
  {
   "cell_type": "markdown",
   "metadata": {},
   "source": [
    "# Tower of Hanoi\n",
    "[tutorial by aditya verma](https://www.youtube.com/watch?v=l45md3RYX7c)"
   ]
  },
  {
   "cell_type": "code",
   "execution_count": 12,
   "metadata": {},
   "outputs": [
    {
     "name": "stdout",
     "output_type": "stream",
     "text": [
      "moving plate 1 from source to helper\n",
      "moving plate 2 from source to destination\n",
      "moving plate 1 from helper to destination\n",
      "3\n"
     ]
    }
   ],
   "source": [
    "def towerOfHonoi(s,d,h,n,count):\n",
    "    count[0]+=1\n",
    "    if n == 1:\n",
    "        print(\"moving plate \"+str(n)+\" from \"+s+\" to \"+d)\n",
    "        return\n",
    "    towerOfHonoi(s,h,d,n-1,count)\n",
    "    print(\"moving plate \"+str(n)+\" from \"+s+\" to \"+d)\n",
    "    towerOfHonoi(h,d,s,n-1,count)\n",
    "    return\n",
    "n = 2\n",
    "s = 'source'\n",
    "h = 'helper'\n",
    "d = 'destination'\n",
    "count = [0]\n",
    "towerOfHonoi(s,d,h,n,count)\n",
    "print(count[0])"
   ]
  },
  {
   "cell_type": "code",
   "execution_count": 17,
   "metadata": {},
   "outputs": [
    {
     "name": "stdout",
     "output_type": "stream",
     "text": [
      "6 3 13\n"
     ]
    }
   ],
   "source": [
    "b = 18\n",
    "c = 12\n",
    "a = b-c\n",
    "for c in range(1,a-1):\n",
    "    b = b+c+12\n",
    "    b = b//5\n",
    "    d = b+a\n",
    "c = a+b+c\n",
    "print(a,b,c)"
   ]
  },
  {
   "cell_type": "code",
   "execution_count": null,
   "metadata": {},
   "outputs": [],
   "source": []
  }
 ],
 "metadata": {
  "kernelspec": {
   "display_name": "Python 3",
   "language": "python",
   "name": "python3"
  },
  "language_info": {
   "codemirror_mode": {
    "name": "ipython",
    "version": 3
   },
   "file_extension": ".py",
   "mimetype": "text/x-python",
   "name": "python",
   "nbconvert_exporter": "python",
   "pygments_lexer": "ipython3",
   "version": "3.8.3"
  }
 },
 "nbformat": 4,
 "nbformat_minor": 4
}
