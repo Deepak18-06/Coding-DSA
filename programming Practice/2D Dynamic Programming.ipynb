{
 "cells": [
  {
   "cell_type": "markdown",
   "metadata": {},
   "source": [
    "# Knapsack 0-1"
   ]
  },
  {
   "cell_type": "code",
   "execution_count": 4,
   "metadata": {},
   "outputs": [
    {
     "data": {
      "text/plain": [
       "220"
      ]
     },
     "execution_count": 4,
     "metadata": {},
     "output_type": "execute_result"
    }
   ],
   "source": [
    "def knapsack(W,wt,val,n,dp):\n",
    "    if n == 0 or W == 0:\n",
    "        return 0\n",
    "    if dp[n][W] != -1:\n",
    "        return dp[n][W]\n",
    "    if wt[n-1]<=W:\n",
    "        dp[n][W] = max(val[n-1]+knapsack(W-wt[n-1],wt,val,n-1,dp),knapsack(W,wt,val,n-1,dp))\n",
    "        return dp[n][W]\n",
    "    else:\n",
    "        dp[n][W] = knapsack(W,wt,val,n-1,dp)\n",
    "        return dp[n][W]\n",
    "    \n",
    "val = [60,100,120]\n",
    "wt =  [10,20,30]\n",
    "W = 50\n",
    "n = len(val)\n",
    "dp = [[-1 for i in range(W+1)] for j in range(n+1)]\n",
    "knapsack(W,wt,val,n,dp)\n",
    "# recursive\n",
    "# Time: O(2^n)\n",
    "\n",
    "# memoization\n",
    "# Time: O(n*W)\n",
    "# Space : O(n*W)"
   ]
  },
  {
   "cell_type": "code",
   "execution_count": 7,
   "metadata": {},
   "outputs": [
    {
     "data": {
      "text/plain": [
       "220"
      ]
     },
     "execution_count": 7,
     "metadata": {},
     "output_type": "execute_result"
    }
   ],
   "source": [
    "def knapsackTabulation(W,wt,val,n):\n",
    "    dp = [[ 0 for i in range(W+1)] for j in range(n+1)]\n",
    "    for i in range(1,n+1):\n",
    "        for w in range(1,W+1):\n",
    "            if wt[i-1] <= w:\n",
    "                dp[i][w] = max(val[i-1]+dp[i-1][w-wt[i-1]],dp[i-1][w])\n",
    "            else:\n",
    "                dp[i][w] = dp[i-1][w]\n",
    "    return dp[n][W]\n",
    "val = [60,100,120]\n",
    "wt =  [10,20,30]\n",
    "W = 50\n",
    "n = len(val)\n",
    "knapsackTabulation(W,wt,val,n)"
   ]
  },
  {
   "cell_type": "markdown",
   "metadata": {},
   "source": [
    "# Subset Sum\n",
    "[subset](https://www.geeksforgeeks.org/subset-sum-problem-dp-25/)"
   ]
  },
  {
   "cell_type": "code",
   "execution_count": 18,
   "metadata": {},
   "outputs": [
    {
     "data": {
      "text/plain": [
       "False"
      ]
     },
     "execution_count": 18,
     "metadata": {},
     "output_type": "execute_result"
    }
   ],
   "source": [
    "def subsetSum(arr,target,n):\n",
    "    if n == 0 and target != 0:\n",
    "        return False\n",
    "    if target == 0:\n",
    "        return True\n",
    "    if arr[n-1]<=target:\n",
    "        return subsetSum(arr,target-arr[n-1],n-1) or subsetSum(arr,target,n-1)\n",
    "    else:\n",
    "        return subsetSum(arr,target,n-1)\n",
    "arr = [3, 34, 4, 12, 5, 2]\n",
    "target = 30\n",
    "n = len(arr)\n",
    "subsetSum(arr,target,n)"
   ]
  },
  {
   "cell_type": "code",
   "execution_count": 19,
   "metadata": {},
   "outputs": [
    {
     "data": {
      "text/plain": [
       "0"
      ]
     },
     "execution_count": 19,
     "metadata": {},
     "output_type": "execute_result"
    }
   ],
   "source": [
    "def subSetSumIterative(arr,target,n):\n",
    "    dp = [[0 for i in range(target+1)] for j in range(len(arr)+1)]\n",
    "    for i in range(len(arr)+1):\n",
    "        for j in range(target+1):\n",
    "            if j == 0:\n",
    "                dp[i][j] = 1\n",
    "    for i in range(1,len(arr)+1):\n",
    "        for j in range(1,target+1):\n",
    "            if arr[i-1]<=j:\n",
    "                dp[i][j] = dp[i-1][j-arr[i-1]] or dp[i-1][j]\n",
    "            else:\n",
    "                dp[i][j] = dp[i-1][j]\n",
    "    return dp[n][target]\n",
    "arr = [3, 34, 4, 12, 5, 2]\n",
    "target = 30\n",
    "n = len(arr)\n",
    "subSetSumIterative(arr,target,n)"
   ]
  },
  {
   "cell_type": "markdown",
   "metadata": {},
   "source": [
    "# Coin Change\n",
    "[Question](https://leetcode.com/problems/coin-change/)"
   ]
  },
  {
   "cell_type": "code",
   "execution_count": 15,
   "metadata": {},
   "outputs": [
    {
     "name": "stdout",
     "output_type": "stream",
     "text": [
      "[0, 1, 2, 3, 4, 5, 6, 7, 8, 9, 10, 11]\n",
      "[0, 1, 1, 2, 2, 3, 3, 4, 4, 5, 5, 6]\n",
      "[0, 1, 1, 2, 2, 1, 2, 2, 3, 3, 2, 3]\n"
     ]
    },
    {
     "data": {
      "text/plain": [
       "3"
      ]
     },
     "execution_count": 15,
     "metadata": {},
     "output_type": "execute_result"
    }
   ],
   "source": [
    "def coinChange(coins, amount: int) -> int:\n",
    "    dp = [float('inf')] * (amount + 1)\n",
    "    dp[0] = 0\n",
    "\n",
    "    for coin in coins:\n",
    "        for x in range(coin, amount + 1):\n",
    "            dp[x] = min(dp[x], dp[x - coin] + 1)\n",
    "        print(dp)\n",
    "    return dp[amount] if dp[amount] != float('inf') else -1 \n",
    "coinChange([1,2,5],11)"
   ]
  },
  {
   "cell_type": "markdown",
   "metadata": {},
   "source": [
    "# Triangle\n",
    "[Question](https://leetcode.com/problems/triangle/)"
   ]
  },
  {
   "cell_type": "code",
   "execution_count": 1,
   "metadata": {},
   "outputs": [],
   "source": [
    "def triangleDp(triangle):\n",
    "    dp = copy.deepcopy(triangle[-1])\n",
    "    for i in range(len(triangle)-2,-1,-1):\n",
    "        for j in range(i+1):\n",
    "            dp[j] = triangle[i][j] + min(dp[j],dp[j+1])\n",
    "    return dp[0]\n",
    "               "
   ]
  },
  {
   "cell_type": "code",
   "execution_count": 5,
   "metadata": {},
   "outputs": [
    {
     "name": "stdout",
     "output_type": "stream",
     "text": [
      "0\n"
     ]
    },
    {
     "data": {
      "text/plain": [
       "1"
      ]
     },
     "execution_count": 5,
     "metadata": {},
     "output_type": "execute_result"
    }
   ],
   "source": [
    "# not from dynamic Programming\n",
    "def song(time):\n",
    "    R = [0 for i in range(60)]\n",
    "    for i in range(len(time)):\n",
    "        r = time[i]%60\n",
    "        R[r]+=1\n",
    "    res = R[0]\n",
    "    for i in range(1,30):\n",
    "        res+=R[i]*R[60-i]\n",
    "    res+=R[30]//2\n",
    "    print(R[59-20])\n",
    "    return res\n",
    "time = [30,20,150,100,40]\n",
    "song(time)"
   ]
  },
  {
   "cell_type": "code",
   "execution_count": 24,
   "metadata": {},
   "outputs": [
    {
     "name": "stdout",
     "output_type": "stream",
     "text": [
      "0 6\n",
      "1 3\n",
      "2 2\n",
      "in\n"
     ]
    },
    {
     "data": {
      "text/plain": [
       "'ABC'"
      ]
     },
     "execution_count": 24,
     "metadata": {},
     "output_type": "execute_result"
    }
   ],
   "source": [
    "def gcdOfStrings(str1: str, str2: str):\n",
    "    n = len(str1)\n",
    "    m = len(str2)\n",
    "    if str1[:len(str2)] == str2:\n",
    "        for i in range(len(str2)):\n",
    "            k = n//(i+1)\n",
    "            #print(i,k)\n",
    "            if str2[:i+1]*k == str1:\n",
    "                #print(\"in\")\n",
    "                return str2[:i+1]\n",
    "    return \"\"\n",
    "str1 = \"ABCABC\"\n",
    "str2 = \"ABC\"\n",
    "gcdOfStrings(str1,str2)"
   ]
  },
  {
   "cell_type": "markdown",
   "metadata": {},
   "source": [
    "# Miserman (somewhat similar to triangle problem solved above)\n",
    "[Question](https://www.spoj.com/problems/MISERMAN/)"
   ]
  },
  {
   "cell_type": "code",
   "execution_count": 18,
   "metadata": {},
   "outputs": [
    {
     "data": {
      "text/plain": [
       "10"
      ]
     },
     "execution_count": 18,
     "metadata": {},
     "output_type": "execute_result"
    }
   ],
   "source": [
    "def minFare(mat):\n",
    "    for i in range(len(mat)-2,-1,-1):\n",
    "        for j in range(len(mat[0])):\n",
    "            if j-1 <0:\n",
    "                mat[i][j] = mat[i][j] + min(mat[i+1][j],mat[i+1][j+1])\n",
    "            elif j+1 >= len(dp):\n",
    "                mat[i][j] = mat[i][j] + min(mat[i+1][j],mat[i+1][j-1])\n",
    "            else:\n",
    "                mat[i][j] = mat[i][j] + min(mat[i+1][j-1],mat[i+1][j],mat[i+1][j+1])\n",
    "       \n",
    "    return min(mat[0])\n",
    "mat = [[1,3 ,1,2,6],\n",
    "       [10,2,5,4,15],\n",
    "       [10,9,6,7,1],\n",
    "       [2,7,1,5,3],\n",
    "       [8,2,6,1,9]]\n",
    "minFare(mat)\n"
   ]
  },
  {
   "cell_type": "markdown",
   "metadata": {},
   "source": [
    "# Longest Comman Subsequence\n"
   ]
  },
  {
   "cell_type": "code",
   "execution_count": 9,
   "metadata": {},
   "outputs": [
    {
     "data": {
      "text/plain": [
       "'avaa'"
      ]
     },
     "execution_count": 9,
     "metadata": {},
     "output_type": "execute_result"
    }
   ],
   "source": [
    "def lcs(s1,s2):\n",
    "    if len(s1) == 0 or len(s2) == 0:\n",
    "        return ''\n",
    "    if s1[0] == s2[0]:\n",
    "        return s1[0] + lcs(s1[1:],s2[1:])\n",
    "    if s1[0] != s2[0]:\n",
    "        k1 = lcs(s1[1:],s2)\n",
    "        k2 = lcs(s1,s2[1:])\n",
    "        if len(k1)>len(k2):\n",
    "            return k1\n",
    "        else:\n",
    "            return k2\n",
    "lcs('avava','avvaaa')"
   ]
  },
  {
   "cell_type": "markdown",
   "metadata": {},
   "source": [
    "# Numpad\n",
    "[!Question](https://practice.geeksforgeeks.org/problems/mobile-numeric-keypad5456/1)"
   ]
  },
  {
   "cell_type": "code",
   "execution_count": 31,
   "metadata": {},
   "outputs": [
    {
     "data": {
      "text/plain": [
       "2358"
      ]
     },
     "execution_count": 31,
     "metadata": {},
     "output_type": "execute_result"
    }
   ],
   "source": [
    "def getCount(N):\n",
    "    # code here\n",
    "    dp = [[0 for i in range(10)] for j in range(N+1)]\n",
    "    for i in range(N+1):\n",
    "        for j in range(10):\n",
    "            if i == 1:\n",
    "                dp[i][j] = 1\n",
    "    for i in range(2,N+1):\n",
    "        for j in range(10):\n",
    "            if j == 0:\n",
    "                dp[i][j] = (dp[i-1][j])*2\n",
    "            elif j == 1 or j == 3 or j == 7 or j == 9:\n",
    "                dp[i][j] = dp[i-1][j]*3\n",
    "            elif j == 2 or j == 4 or j == 6:\n",
    "                dp[i][j] = dp[i-1][j]*4\n",
    "            elif j == 5 or j == 8:\n",
    "                dp[i][j] = dp[i-1][j]*5\n",
    "    #print(dp)    \n",
    "    return sum(dp[-1])\n",
    "getCount(5)"
   ]
  },
  {
   "cell_type": "markdown",
   "metadata": {},
   "source": [
    "# Merge Strings\n",
    "[Merge Strings](https://www.codechef.com/problems/STRMRG)\n"
   ]
  },
  {
   "cell_type": "code",
   "execution_count": 1,
   "metadata": {},
   "outputs": [],
   "source": [
    "def mergeStrings(string1,string2):\n",
    "    return len(string1)+len(string2) - lcs(string1,string2)"
   ]
  },
  {
   "cell_type": "markdown",
   "metadata": {},
   "source": [
    "# Abbreviation\n",
    "[Question](hackerrank.com/challenges/abbr/problem)"
   ]
  },
  {
   "cell_type": "code",
   "execution_count": 8,
   "metadata": {},
   "outputs": [],
   "source": [
    "#get lcs and then converted lcs element to uppercase  and delete lowercase alphabets and then check if they are \n",
    "#equal or not"
   ]
  },
  {
   "cell_type": "markdown",
   "metadata": {},
   "source": [
    "# Edit Distance\n",
    "[Question](https://www.geeksforgeeks.org/edit-distance-dp-5/)"
   ]
  },
  {
   "cell_type": "code",
   "execution_count": 10,
   "metadata": {},
   "outputs": [
    {
     "data": {
      "text/plain": [
       "3"
      ]
     },
     "execution_count": 10,
     "metadata": {},
     "output_type": "execute_result"
    }
   ],
   "source": [
    "def editDistance(string1,string2,m,n):\n",
    "    if n == 0:\n",
    "        return m\n",
    "    if m == 0:\n",
    "        return n\n",
    "    if string1[m-1] == string2[n-1]:\n",
    "        return editDistance(string1,string2,m-1,n-1)\n",
    "    else:\n",
    "        return 1 + min(editDistance(string1,string2,m-1,n),  # removing\n",
    "                       editDistance(string1,string2,m,n-1),  # inserting\n",
    "                       editDistance(string1,string2,m-1,n-1))# replacing\n",
    "string1 = 'sunday'\n",
    "string2 = 'saturday'\n",
    "m = len(string1)\n",
    "n = len(string2)\n",
    "editDistance(string1,string2,m,n)"
   ]
  },
  {
   "cell_type": "code",
   "execution_count": 12,
   "metadata": {},
   "outputs": [
    {
     "data": {
      "text/plain": [
       "3"
      ]
     },
     "execution_count": 12,
     "metadata": {},
     "output_type": "execute_result"
    }
   ],
   "source": [
    "def editDistanceIterative(string1,string2,m,n):\n",
    "    dp = [[0 for i in range(n+1)] for j in range(m+1)]\n",
    "    for i in range(m+1):\n",
    "        for j in range(n+1):\n",
    "            if i == 0:\n",
    "                dp[i][j] = j\n",
    "            elif j == 0:\n",
    "                dp[i][j] = i\n",
    "            elif string1[i-1] == string2[j-1]:\n",
    "                dp[i][j] = dp[i-1][j-1]\n",
    "            else:\n",
    "                dp[i][j] = 1 + min(dp[i-1][j],\n",
    "                                   dp[i][j-1],\n",
    "                                   dp[i-1][j-1])\n",
    "    return dp[-1][-1]\n",
    "editDistanceIterative(string1,string2,m,n)"
   ]
  },
  {
   "cell_type": "markdown",
   "metadata": {},
   "source": [
    "# WildCard Matching\n",
    "[Question](https://leetcode.com/problems/wildcard-matching/submissions/)"
   ]
  },
  {
   "cell_type": "code",
   "execution_count": 20,
   "metadata": {},
   "outputs": [],
   "source": [
    "class Solution:\n",
    "    def is_match(self, s, p, s_idx, p_idx):\n",
    "\t    # reached end of both strings, it must have matched\n",
    "        if s_idx >= len(s) and p_idx >= len(p):\n",
    "            return True\n",
    "  \n",
    "        # reached end of s, but there are still characters in p remaining\n",
    "        if s_idx >= len(s) and p_idx < len(p):\n",
    "\t\t    # if any character remaining in p, is not \"*\"\n",
    "\t\t\t# that means we have nothing in s to match, so return False\n",
    "            for i in range(p_idx, len(p)):\n",
    "                if p[i] != \"*\":\n",
    "                    return False\n",
    "            return True\n",
    "        \n",
    "\t\t# if we have reached end of p, but not end of s, this means\n",
    "\t\t# we do not have sufficient characters in the pattern to match s\n",
    "\t\t# return false\n",
    "        if s_idx < len(s) and p_idx >= len(p):\n",
    "            return False\n",
    "        \n",
    "        if (s_idx, p_idx) in self.dp:\n",
    "            return self.dp[(s_idx, p_idx)]\n",
    "        \n",
    "        s_char = s[s_idx]\n",
    "        p_char = p[p_idx]\n",
    "        \n",
    "        if p_char.isalpha() and s_char != p_char:\n",
    "            return False\n",
    "        \n",
    "        if p_char == \"*\":\n",
    "            skip_star = self.is_match(s, p, s_idx, p_idx + 1)\n",
    "            use_star = self.is_match(s, p, s_idx + 1, p_idx)\n",
    "            not_use_star = self.is_match(s, p, s_idx + 1, p_idx + 1)\n",
    "            \n",
    "            self.dp[(s_idx, p_idx)] = skip_star or use_star or not_use_star\n",
    "            return self.dp[(s_idx, p_idx)]\n",
    "        \n",
    "        self.dp[(s_idx, p_idx)] = self.is_match(s, p, s_idx + 1, p_idx + 1)\n",
    "        return self.dp[(s_idx, p_idx)]        \n",
    "\n",
    "\n",
    "    def isMatch(self, s: str, p: str) -> bool:        \n",
    "        self.dp = {}\n",
    "        return self.is_match(s, p, 0, 0)\n",
    "        "
   ]
  },
  {
   "cell_type": "code",
   "execution_count": 9,
   "metadata": {},
   "outputs": [
    {
     "name": "stdout",
     "output_type": "stream",
     "text": [
      "True\n"
     ]
    }
   ],
   "source": [
    "def solve(words,s):\n",
    "    wl = len(s)\n",
    "    ws = set(words)\n",
    "    def helper(i):\n",
    "        if i == wl:\n",
    "            return True\n",
    "        for j in range(i+1,wl+1):\n",
    "            if s[i:j] in ws:\n",
    "                return helper(j)\n",
    "        return False\n",
    "    return helper(0)\n",
    "words = [\"cat\",\"cats\",\"catsdogcats\",\"dog\",\"dogcatsdog\",\"hippopotamuses\",\"rat\",\"ratcatdogcat\"]\n",
    "s = 'dog'\n",
    "print(solve(words,s))"
   ]
  },
  {
   "cell_type": "code",
   "execution_count": 31,
   "metadata": {},
   "outputs": [],
   "source": [
    "def solve(words,s):\n",
    "    dp = [ 0 for i in range(len(s)+1)]\n",
    "    dp[0] = 1 # solve(word,'')--> 1\n",
    "    for i in range(len(s)+1):\n",
    "        if dp[i] == 1:\n",
    "            for word in words:\n",
    "                if s[i:i+len(word)] == word:\n",
    "                    dp[i+len(word)] = 1\n",
    "    print(s,dp)\n",
    "    return dp[-1]\n",
    "def findAllConcatenatedWordsInADict(words):\n",
    "    res = []\n",
    "    for word in words:\n",
    "        temp = set()\n",
    "        for new in words:\n",
    "            if new != word:\n",
    "                temp.add(new)\n",
    "        if solve(temp,word):\n",
    "            res.append(word)\n",
    "    return res"
   ]
  },
  {
   "cell_type": "code",
   "execution_count": 32,
   "metadata": {},
   "outputs": [
    {
     "name": "stdout",
     "output_type": "stream",
     "text": [
      "cat [1, 0, 0, 0]\n",
      "cats [1, 0, 0, 1, 0]\n",
      "catsdogcats [1, 0, 0, 1, 1, 0, 0, 1, 0, 0, 1, 1]\n",
      "dog [1, 0, 0, 0]\n",
      "dogcatsdog [1, 0, 0, 1, 0, 0, 1, 1, 0, 0, 1]\n",
      "hippopotamuses [1, 0, 0, 0, 0, 0, 0, 0, 0, 0, 0, 0, 0, 0, 0]\n",
      "rat [1, 0, 0, 0]\n",
      "ratcatdogcat [1, 0, 0, 1, 0, 0, 1, 0, 0, 1, 0, 0, 1]\n"
     ]
    },
    {
     "data": {
      "text/plain": [
       "['catsdogcats', 'dogcatsdog', 'ratcatdogcat']"
      ]
     },
     "execution_count": 32,
     "metadata": {},
     "output_type": "execute_result"
    }
   ],
   "source": [
    "words = [\"cat\",\"cats\",\"catsdogcats\",\"dog\",\"dogcatsdog\",\"hippopotamuses\",\"rat\",\"ratcatdogcat\"]\n",
    "findAllConcatenatedWordsInADict(words)\n"
   ]
  },
  {
   "cell_type": "markdown",
   "metadata": {},
   "source": [
    "# Distinct Subsequence\n",
    "[Question ](https://leetcode.com/problems/distinct-subsequences/)"
   ]
  },
  {
   "cell_type": "code",
   "execution_count": null,
   "metadata": {},
   "outputs": [],
   "source": [
    "def isSub(s,t):\n",
    "    n = len(s)\n",
    "    m = len(t)\n",
    "    dp = [0 for i in range(m)] + [1]\n",
    "    for i in range(n-1,-1,-1):\n",
    "        for j in range(m-1,-1-1):\n",
    "            if s[i] == t[j]:\n",
    "                dp[j]+=dp[j+1]\n",
    "    return dp[0]\n",
    "    "
   ]
  },
  {
   "cell_type": "code",
   "execution_count": 10,
   "metadata": {},
   "outputs": [],
   "source": [
    "def solve(s,t):\n",
    "    n = len(s)\n",
    "    m = len(t)\n",
    "    def rec(i,j):\n",
    "        if i<=n and j == m:\n",
    "            return 1\n",
    "        elif i<n and j<m:\n",
    "            res = 0\n",
    "            if s[i] == s[j]:\n",
    "                res = res + rec(i+1,j+1)\n",
    "                res = res + rec(i+1,j)\n",
    "            else:\n",
    "                res = res + rec(i+1,j)\n",
    "        else:\n",
    "            return 0\n",
    "    return rec(0,0)\n",
    "\n",
    "                "
   ]
  },
  {
   "cell_type": "code",
   "execution_count": 19,
   "metadata": {},
   "outputs": [
    {
     "name": "stdout",
     "output_type": "stream",
     "text": [
      "[5, 3, 2, 1]\n",
      "[2, 3, 2, 1]\n",
      "[2, 1, 2, 1]\n",
      "[1, 1, 2, 1]\n",
      "[1, 1, 1, 1]\n",
      "[0, 1, 1, 1]\n",
      "[0, 0, 1, 1]\n",
      "[0, 0, 0, 1]\n"
     ]
    }
   ],
   "source": [
    "def solveIterative(s,t):\n",
    "    n = len(s)\n",
    "    m = len(t)\n",
    "    dp = [[ 0 for i in range(m+1)] for j in range(n+1)]\n",
    "    for i in range(n+1):\n",
    "        dp[i][m] = 1\n",
    "    for i in range(n-1,-1,-1):\n",
    "        for j in range(m-1,-1,-1):\n",
    "            if s[i] == t[j]:\n",
    "                dp[i][j]+=dp[i+1][j+1]\n",
    "            dp[i][j] += dp[i+1][j]\n",
    "    for row in dp:\n",
    "        print(row)\n",
    "s = 'abbcd'\n",
    "t = 'abcd'\n",
    "s = \"rabbbit\"\n",
    "t = \"rabbit\"\n",
    "s = \"babgbag\"\n",
    "t = \"bag\"\n",
    "solveIterative(s,t)"
   ]
  },
  {
   "cell_type": "code",
   "execution_count": 20,
   "metadata": {},
   "outputs": [
    {
     "data": {
      "text/plain": [
       "18"
      ]
     },
     "execution_count": 20,
     "metadata": {},
     "output_type": "execute_result"
    }
   ],
   "source": [
    "a = 'this is an example'\n",
    "len(a)"
   ]
  },
  {
   "cell_type": "code",
   "execution_count": 15,
   "metadata": {},
   "outputs": [
    {
     "ename": "KeyboardInterrupt",
     "evalue": "",
     "output_type": "error",
     "traceback": [
      "\u001b[0;31m---------------------------------------------------------------------------\u001b[0m",
      "\u001b[0;31mKeyboardInterrupt\u001b[0m                         Traceback (most recent call last)",
      "\u001b[0;32m<ipython-input-15-aa23f9fcd99f>\u001b[0m in \u001b[0;36m<module>\u001b[0;34m\u001b[0m\n\u001b[1;32m     19\u001b[0m \u001b[0;31m#words = words[0:1]\u001b[0m\u001b[0;34m\u001b[0m\u001b[0;34m\u001b[0m\u001b[0;34m\u001b[0m\u001b[0m\n\u001b[1;32m     20\u001b[0m \u001b[0mmaxWidth\u001b[0m \u001b[0;34m=\u001b[0m \u001b[0;36m16\u001b[0m\u001b[0;34m\u001b[0m\u001b[0;34m\u001b[0m\u001b[0m\n\u001b[0;32m---> 21\u001b[0;31m \u001b[0mres\u001b[0m \u001b[0;34m=\u001b[0m \u001b[0mtext\u001b[0m\u001b[0;34m(\u001b[0m\u001b[0mwords\u001b[0m\u001b[0;34m,\u001b[0m\u001b[0mmaxWidth\u001b[0m\u001b[0;34m)\u001b[0m\u001b[0;34m\u001b[0m\u001b[0;34m\u001b[0m\u001b[0m\n\u001b[0m",
      "\u001b[0;32m<ipython-input-15-aa23f9fcd99f>\u001b[0m in \u001b[0;36mtext\u001b[0;34m(words, maxWidth)\u001b[0m\n\u001b[1;32m      6\u001b[0m     \u001b[0;32mwhile\u001b[0m \u001b[0mi\u001b[0m\u001b[0;34m<\u001b[0m\u001b[0mn\u001b[0m\u001b[0;34m:\u001b[0m\u001b[0;34m\u001b[0m\u001b[0;34m\u001b[0m\u001b[0m\n\u001b[1;32m      7\u001b[0m         \u001b[0mtemp\u001b[0m \u001b[0;34m=\u001b[0m \u001b[0mwords\u001b[0m\u001b[0;34m[\u001b[0m\u001b[0mi\u001b[0m\u001b[0;34m]\u001b[0m\u001b[0;34m\u001b[0m\u001b[0;34m\u001b[0m\u001b[0m\n\u001b[0;32m----> 8\u001b[0;31m         \u001b[0;32mwhile\u001b[0m \u001b[0mlen\u001b[0m\u001b[0;34m(\u001b[0m\u001b[0mtemp\u001b[0m\u001b[0;34m)\u001b[0m \u001b[0;34m<\u001b[0m \u001b[0mmaxWidth\u001b[0m\u001b[0;34m:\u001b[0m\u001b[0;34m\u001b[0m\u001b[0;34m\u001b[0m\u001b[0m\n\u001b[0m\u001b[1;32m      9\u001b[0m             \u001b[0;32mif\u001b[0m \u001b[0mi\u001b[0m \u001b[0;34m!=\u001b[0m \u001b[0mn\u001b[0m\u001b[0;34m-\u001b[0m\u001b[0;36m1\u001b[0m \u001b[0;32mand\u001b[0m \u001b[0mlen\u001b[0m\u001b[0;34m(\u001b[0m\u001b[0mwords\u001b[0m\u001b[0;34m[\u001b[0m\u001b[0mi\u001b[0m\u001b[0;34m]\u001b[0m\u001b[0;34m)\u001b[0m\u001b[0;34m+\u001b[0m\u001b[0;36m1\u001b[0m\u001b[0;34m+\u001b[0m\u001b[0mlen\u001b[0m\u001b[0;34m(\u001b[0m\u001b[0mtemp\u001b[0m\u001b[0;34m)\u001b[0m\u001b[0;34m<\u001b[0m\u001b[0mmaxWidth\u001b[0m\u001b[0;34m:\u001b[0m\u001b[0;34m\u001b[0m\u001b[0;34m\u001b[0m\u001b[0m\n\u001b[1;32m     10\u001b[0m                 \u001b[0mtemp\u001b[0m\u001b[0;34m+=\u001b[0m \u001b[0;34m' '\u001b[0m\u001b[0;34m+\u001b[0m\u001b[0mwords\u001b[0m\u001b[0;34m[\u001b[0m\u001b[0mi\u001b[0m\u001b[0;34m+\u001b[0m\u001b[0;36m1\u001b[0m\u001b[0;34m]\u001b[0m\u001b[0;34m\u001b[0m\u001b[0;34m\u001b[0m\u001b[0m\n",
      "\u001b[0;31mKeyboardInterrupt\u001b[0m: "
     ]
    }
   ],
   "source": [
    "def text(words,maxWidth):\n",
    "    n = len(words)\n",
    "    lengths = [len(word) for word in words]\n",
    "    res = []\n",
    "    i = 0\n",
    "    while i<n:\n",
    "        temp = words[i]\n",
    "        while len(temp) < maxWidth:\n",
    "            if i != n-1 and len(words[i])+1+len(temp)< maxWidth:\n",
    "                temp+= ' '+words[i+1]\n",
    "                i+=1\n",
    "            elif i == n-1:\n",
    "                temp+=' '*(maxWidth-len(temp))\n",
    "                i+=1\n",
    "        res.append(temp)\n",
    "    return res\n",
    "    \n",
    "words = [\"This\", \"is\", \"an\", \"example\", \"of\", \"text\", \"justification.\"]\n",
    "\n",
    "#words = words[0:1]\n",
    "maxWidth = 16\n",
    "res = text(words,maxWidth)"
   ]
  },
  {
   "cell_type": "code",
   "execution_count": 17,
   "metadata": {},
   "outputs": [
    {
     "name": "stdout",
     "output_type": "stream",
     "text": [
      "['This', 'is', 'an', 'example', 'of', 'text', 'justification.', '']\n"
     ]
    }
   ],
   "source": [
    "print(words+[''])"
   ]
  },
  {
   "cell_type": "code",
   "execution_count": 19,
   "metadata": {},
   "outputs": [
    {
     "name": "stdout",
     "output_type": "stream",
     "text": [
      "a\n"
     ]
    },
    {
     "data": {
      "text/plain": [
       "1"
      ]
     },
     "execution_count": 19,
     "metadata": {},
     "output_type": "execute_result"
    }
   ],
   "source": [
    "def solve(S,words):\n",
    "    res = 0\n",
    "    for word in words:\n",
    "        if word in S:\n",
    "            print(word)\n",
    "            res+=1\n",
    "    return res\n",
    "S = \"abcde\"\n",
    "words = [\"a\", \"bb\", \"acd\", \"ace\"]\n",
    "solve(S,words)"
   ]
  },
  {
   "cell_type": "code",
   "execution_count": 26,
   "metadata": {},
   "outputs": [
    {
     "name": "stdout",
     "output_type": "stream",
     "text": [
      "258345\n",
      "3\n"
     ]
    }
   ],
   "source": [
    "n = int(input())\n",
    "n = str(n)\n",
    "res = 0\n",
    "for i in range(len(n)):\n",
    "    if int(n[i])%2 == 0:\n",
    "        res+=n[i]\n",
    "print(res)"
   ]
  },
  {
   "cell_type": "code",
   "execution_count": 25,
   "metadata": {},
   "outputs": [
    {
     "name": "stdout",
     "output_type": "stream",
     "text": [
      "45673\n",
      "10\n"
     ]
    }
   ],
   "source": [
    "def isPrime(num):\n",
    "    if num > 1:\n",
    "        for i in range(2, num):\n",
    "            if (num % i) == 0:    \n",
    "                return 0\n",
    "        else:\n",
    "            return 1\n",
    "    else:\n",
    "        return 0\n",
    "n = int(input())\n",
    "n = str(n)\n",
    "res = 0\n",
    "for i in range(len(n)):\n",
    "    if  not isPrime(int(n[i])):\n",
    "        res+=int(n[i])\n",
    "print(res)"
   ]
  },
  {
   "cell_type": "code",
   "execution_count": 27,
   "metadata": {},
   "outputs": [
    {
     "name": "stdout",
     "output_type": "stream",
     "text": [
      "6\n",
      "2 4 5 5 4 4\n",
      "3\n"
     ]
    }
   ],
   "source": [
    "def solve(n,arr):\n",
    "    if n == 1:\n",
    "        return 0\n",
    "    counts = [cou]\n",
    "    return arr[-1] - arr[0]\n",
    "n = int(input())\n",
    "arr = list(map(int,input().split()))\n",
    "print(solve(n,arr))    \n"
   ]
  },
  {
   "cell_type": "code",
   "execution_count": 31,
   "metadata": {},
   "outputs": [
    {
     "name": "stdout",
     "output_type": "stream",
     "text": [
      "amcam\n",
      "1\n"
     ]
    }
   ],
   "source": [
    "n = raw_input()\n",
    "res = 0\n",
    "for i in range(len(n)):\n",
    "    if n.count(n[i]) == 1:\n",
    "        res+=1\n",
    "print(res)"
   ]
  },
  {
   "cell_type": "code",
   "execution_count": 29,
   "metadata": {},
   "outputs": [
    {
     "data": {
      "text/plain": [
       "2"
      ]
     },
     "execution_count": 29,
     "metadata": {},
     "output_type": "execute_result"
    }
   ],
   "source": [
    "'AAaa'.count('a')"
   ]
  },
  {
   "cell_type": "code",
   "execution_count": 32,
   "metadata": {},
   "outputs": [
    {
     "name": "stdout",
     "output_type": "stream",
     "text": [
      "6\n",
      "2 4 5 5 4 4\n",
      "2\n"
     ]
    }
   ],
   "source": [
    "n = int(input())\n",
    "arr = [int(i) for i in raw_input().split()]\n",
    "mapping={}\n",
    "\n",
    "if(n<2):\n",
    "\tprint(0)\n",
    "\n",
    "else:\n",
    "\tfor i in arr:\n",
    "\t\tif i in mapping:\n",
    "\t\t\tmapping[i]+=1\n",
    "\t\telse:\n",
    "\t\t\tmapping[i]=1\n",
    "\n",
    "\tarr= []\n",
    "\tfor val,product_id in mapping.items():\n",
    "\t\tarr.append((val,product_id))\n",
    "\n",
    "\tarr.sort()\n",
    "\n",
    "\n",
    "\tmax_diff = arr[1][1]-arr[0][1]\n",
    "\tmin_element = arr[0][1]\n",
    "\n",
    "\tfor i in range(1,len(arr)):\n",
    "\t\tmax_diff= max(max_diff,arr[i][1]-min_element)\n",
    "\t\tmin_element = min(min_element,arr[i][1])\n",
    "\n",
    "\tprint(max_diff)"
   ]
  },
  {
   "cell_type": "code",
   "execution_count": 34,
   "metadata": {},
   "outputs": [
    {
     "name": "stdout",
     "output_type": "stream",
     "text": [
      "5 6\n",
      "1 3 5 7 9\n",
      "3\n"
     ]
    }
   ],
   "source": [
    "n,idd = map(int,input().split())\n",
    "arr = [int(i) for i in input().split()]\n",
    "res = n\n",
    "for i in range(len(arr)):\n",
    "    if idd == arr[i]:\n",
    "        res = i\n",
    "        break\n",
    "    elif arr[i]>idd:\n",
    "        res = i\n",
    "        break\n",
    "print(res)"
   ]
  },
  {
   "cell_type": "code",
   "execution_count": 36,
   "metadata": {},
   "outputs": [
    {
     "name": "stdout",
     "output_type": "stream",
     "text": [
      "bowANDarrow\n",
      "BOWandARROW\n"
     ]
    }
   ],
   "source": [
    "oldPassword = input()\n",
    "res = ''\n",
    "for i in range(len(oldPassword)):\n",
    "    if oldPassword[i].islower():\n",
    "        res+=oldPassword[i].upper()\n",
    "    else:\n",
    "        res+=oldPassword[i].lower()\n",
    "print(res)"
   ]
  },
  {
   "cell_type": "code",
   "execution_count": 40,
   "metadata": {},
   "outputs": [
    {
     "name": "stdout",
     "output_type": "stream",
     "text": [
      "4 3\n",
      "3 5 10\n",
      "1 5 2\n",
      "9 2 12\n",
      "40 0 16\n",
      "1 0 2\n"
     ]
    }
   ],
   "source": [
    "n,m = map(int,input().split())\n",
    "arr = []\n",
    "for i in range(4):\n",
    "    sale = list(map(int,input().split()))\n",
    "    arr.append(sale)\n",
    "res = arr[0]\n",
    "for i in range(len(arr)):\n",
    "    for j in range(len(arr[0])):\n",
    "        if res[j]>arr[i][j]:\n",
    "            res[j] = arr[i][j]\n",
    "print(*res)"
   ]
  },
  {
   "cell_type": "code",
   "execution_count": 53,
   "metadata": {},
   "outputs": [],
   "source": [
    "from collections import defaultdict\n",
    "ans = defaultdict(lambda:0)\n",
    "#a = collections.counter()"
   ]
  },
  {
   "cell_type": "code",
   "execution_count": 54,
   "metadata": {},
   "outputs": [
    {
     "data": {
      "text/plain": [
       "defaultdict(<function __main__.<lambda>()>, {})"
      ]
     },
     "execution_count": 54,
     "metadata": {},
     "output_type": "execute_result"
    }
   ],
   "source": [
    "ans"
   ]
  },
  {
   "cell_type": "code",
   "execution_count": 56,
   "metadata": {},
   "outputs": [],
   "source": [
    "ans['d']+=1\n",
    "ans['a']+=1"
   ]
  },
  {
   "cell_type": "code",
   "execution_count": 61,
   "metadata": {},
   "outputs": [
    {
     "name": "stdout",
     "output_type": "stream",
     "text": [
      "d\n",
      "a\n"
     ]
    }
   ],
   "source": [
    "for k in ans:\n",
    "    print(k)"
   ]
  },
  {
   "cell_type": "code",
   "execution_count": 62,
   "metadata": {},
   "outputs": [
    {
     "ename": "AttributeError",
     "evalue": "'str' object has no attribute 'sort'",
     "output_type": "error",
     "traceback": [
      "\u001b[0;31m---------------------------------------------------------------------------\u001b[0m",
      "\u001b[0;31mAttributeError\u001b[0m                            Traceback (most recent call last)",
      "\u001b[0;32m<ipython-input-62-dd167367e069>\u001b[0m in \u001b[0;36m<module>\u001b[0;34m\u001b[0m\n\u001b[0;32m----> 1\u001b[0;31m \u001b[0;34m'adfgc'\u001b[0m\u001b[0;34m.\u001b[0m\u001b[0msort\u001b[0m\u001b[0;34m(\u001b[0m\u001b[0;34m)\u001b[0m\u001b[0;34m\u001b[0m\u001b[0;34m\u001b[0m\u001b[0m\n\u001b[0m",
      "\u001b[0;31mAttributeError\u001b[0m: 'str' object has no attribute 'sort'"
     ]
    }
   ],
   "source": [
    "'adfgc'.sort()"
   ]
  },
  {
   "cell_type": "code",
   "execution_count": 68,
   "metadata": {},
   "outputs": [],
   "source": [
    "import collections\n",
    "a = 'kjhkjgahdlkjgf'\n",
    "h = collections.Counter(a)"
   ]
  },
  {
   "cell_type": "code",
   "execution_count": 70,
   "metadata": {},
   "outputs": [],
   "source": [
    "k = sorted(h.keys())"
   ]
  },
  {
   "cell_type": "code",
   "execution_count": 71,
   "metadata": {},
   "outputs": [
    {
     "data": {
      "text/plain": [
       "['a', 'd', 'f', 'g', 'h', 'j', 'k', 'l']"
      ]
     },
     "execution_count": 71,
     "metadata": {},
     "output_type": "execute_result"
    }
   ],
   "source": [
    "k"
   ]
  },
  {
   "cell_type": "code",
   "execution_count": null,
   "metadata": {},
   "outputs": [],
   "source": []
  }
 ],
 "metadata": {
  "kernelspec": {
   "display_name": "Python 3",
   "language": "python",
   "name": "python3"
  },
  "language_info": {
   "codemirror_mode": {
    "name": "ipython",
    "version": 3
   },
   "file_extension": ".py",
   "mimetype": "text/x-python",
   "name": "python",
   "nbconvert_exporter": "python",
   "pygments_lexer": "ipython3",
   "version": "3.8.3"
  }
 },
 "nbformat": 4,
 "nbformat_minor": 4
}
