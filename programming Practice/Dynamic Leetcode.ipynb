{
 "cells": [
  {
   "cell_type": "markdown",
   "metadata": {},
   "source": [
    "# Divisor Game"
   ]
  },
  {
   "cell_type": "code",
   "execution_count": 2,
   "metadata": {},
   "outputs": [
    {
     "data": {
      "text/plain": [
       "False"
      ]
     },
     "execution_count": 2,
     "metadata": {},
     "output_type": "execute_result"
    }
   ],
   "source": [
    "# Recursive\n",
    "def divisorGame(N):\n",
    "    if N == 1:\n",
    "        return False\n",
    "    else:\n",
    "        for i in range(1,N):\n",
    "            if N%i == 0 and divisorGame(N-i) == False:\n",
    "                return True\n",
    "    return False\n",
    "divisorGame(7)\n",
    "# Time : O(N^N)  max no of divisor of N is O(n^1/3)"
   ]
  },
  {
   "cell_type": "code",
   "execution_count": 6,
   "metadata": {},
   "outputs": [
    {
     "data": {
      "text/plain": [
       "False"
      ]
     },
     "execution_count": 6,
     "metadata": {},
     "output_type": "execute_result"
    }
   ],
   "source": [
    "# memoization\n",
    "def divisorGame(N,memo = {}):\n",
    "    if N in memo:\n",
    "        return memo[N]\n",
    "    if N == 1:\n",
    "        return False\n",
    "    else:\n",
    "        for i in range(1,int(N**.5)):                      # uper bound divisor\n",
    "            if N%i == 0 and divisorGame(N-i,memo) == False :\n",
    "                memo[N] = True\n",
    "                return True\n",
    "            if i!=1 and N%i == 0 and divisorGame(N-N/i,memo) == False :\n",
    "                memo[N] = True\n",
    "                return True\n",
    "    memo[N] = False\n",
    "    return False\n",
    "divisorGame(7)\n",
    "# Time: N^2\n"
   ]
  },
  {
   "cell_type": "markdown",
   "metadata": {},
   "source": [
    "# Minimum Cost"
   ]
  },
  {
   "cell_type": "code",
   "execution_count": 14,
   "metadata": {},
   "outputs": [
    {
     "ename": "TypeError",
     "evalue": "unhashable type: 'list'",
     "output_type": "error",
     "traceback": [
      "\u001b[0;31m---------------------------------------------------------------------------\u001b[0m",
      "\u001b[0;31mTypeError\u001b[0m                                 Traceback (most recent call last)",
      "\u001b[0;32m<ipython-input-14-ae55471efbbe>\u001b[0m in \u001b[0;36m<module>\u001b[0;34m\u001b[0m\n\u001b[1;32m      7\u001b[0m \u001b[0;32mdef\u001b[0m \u001b[0mminCostClimbingStairs\u001b[0m\u001b[0;34m(\u001b[0m\u001b[0mcost\u001b[0m\u001b[0;34m)\u001b[0m\u001b[0;34m:\u001b[0m\u001b[0;34m\u001b[0m\u001b[0;34m\u001b[0m\u001b[0m\n\u001b[1;32m      8\u001b[0m     \u001b[0;32mreturn\u001b[0m \u001b[0mminCost\u001b[0m\u001b[0;34m(\u001b[0m\u001b[0mcost\u001b[0m\u001b[0;34m)\u001b[0m\u001b[0;34m\u001b[0m\u001b[0;34m\u001b[0m\u001b[0m\n\u001b[0;32m----> 9\u001b[0;31m \u001b[0mminCostClimbingStairs\u001b[0m\u001b[0;34m(\u001b[0m\u001b[0;34m[\u001b[0m\u001b[0;36m10\u001b[0m\u001b[0;34m,\u001b[0m\u001b[0;36m15\u001b[0m\u001b[0;34m,\u001b[0m\u001b[0;36m20\u001b[0m\u001b[0;34m]\u001b[0m\u001b[0;34m)\u001b[0m\u001b[0;34m\u001b[0m\u001b[0;34m\u001b[0m\u001b[0m\n\u001b[0m",
      "\u001b[0;32m<ipython-input-14-ae55471efbbe>\u001b[0m in \u001b[0;36mminCostClimbingStairs\u001b[0;34m(cost)\u001b[0m\n\u001b[1;32m      6\u001b[0m         \u001b[0;32mreturn\u001b[0m \u001b[0mmemo\u001b[0m\u001b[0;34m[\u001b[0m\u001b[0mcost\u001b[0m\u001b[0;34m]\u001b[0m\u001b[0;34m\u001b[0m\u001b[0;34m\u001b[0m\u001b[0m\n\u001b[1;32m      7\u001b[0m \u001b[0;32mdef\u001b[0m \u001b[0mminCostClimbingStairs\u001b[0m\u001b[0;34m(\u001b[0m\u001b[0mcost\u001b[0m\u001b[0;34m)\u001b[0m\u001b[0;34m:\u001b[0m\u001b[0;34m\u001b[0m\u001b[0;34m\u001b[0m\u001b[0m\n\u001b[0;32m----> 8\u001b[0;31m     \u001b[0;32mreturn\u001b[0m \u001b[0mminCost\u001b[0m\u001b[0;34m(\u001b[0m\u001b[0mcost\u001b[0m\u001b[0;34m)\u001b[0m\u001b[0;34m\u001b[0m\u001b[0;34m\u001b[0m\u001b[0m\n\u001b[0m\u001b[1;32m      9\u001b[0m \u001b[0mminCostClimbingStairs\u001b[0m\u001b[0;34m(\u001b[0m\u001b[0;34m[\u001b[0m\u001b[0;36m10\u001b[0m\u001b[0;34m,\u001b[0m\u001b[0;36m15\u001b[0m\u001b[0;34m,\u001b[0m\u001b[0;36m20\u001b[0m\u001b[0;34m]\u001b[0m\u001b[0;34m)\u001b[0m\u001b[0;34m\u001b[0m\u001b[0;34m\u001b[0m\u001b[0m\n",
      "\u001b[0;32m<ipython-input-14-ae55471efbbe>\u001b[0m in \u001b[0;36mminCost\u001b[0;34m(cost, memo)\u001b[0m\n\u001b[1;32m      3\u001b[0m         \u001b[0;32mreturn\u001b[0m \u001b[0;36m0\u001b[0m\u001b[0;34m\u001b[0m\u001b[0;34m\u001b[0m\u001b[0m\n\u001b[1;32m      4\u001b[0m     \u001b[0;32melse\u001b[0m\u001b[0;34m:\u001b[0m\u001b[0;34m\u001b[0m\u001b[0;34m\u001b[0m\u001b[0m\n\u001b[0;32m----> 5\u001b[0;31m         \u001b[0mmemo\u001b[0m\u001b[0;34m[\u001b[0m\u001b[0mcost\u001b[0m\u001b[0;34m]\u001b[0m \u001b[0;34m=\u001b[0m \u001b[0mmin\u001b[0m\u001b[0;34m(\u001b[0m\u001b[0mcost\u001b[0m\u001b[0;34m[\u001b[0m\u001b[0;36m0\u001b[0m\u001b[0;34m]\u001b[0m\u001b[0;34m+\u001b[0m\u001b[0mminCost\u001b[0m\u001b[0;34m(\u001b[0m\u001b[0mcost\u001b[0m\u001b[0;34m[\u001b[0m\u001b[0;36m1\u001b[0m\u001b[0;34m:\u001b[0m\u001b[0;34m]\u001b[0m\u001b[0;34m,\u001b[0m\u001b[0mmemo\u001b[0m\u001b[0;34m)\u001b[0m\u001b[0;34m,\u001b[0m\u001b[0mcost\u001b[0m\u001b[0;34m[\u001b[0m\u001b[0;36m1\u001b[0m\u001b[0;34m]\u001b[0m\u001b[0;34m+\u001b[0m\u001b[0mminCost\u001b[0m\u001b[0;34m(\u001b[0m\u001b[0mcost\u001b[0m\u001b[0;34m[\u001b[0m\u001b[0;36m2\u001b[0m\u001b[0;34m:\u001b[0m\u001b[0;34m]\u001b[0m\u001b[0;34m,\u001b[0m\u001b[0mmemo\u001b[0m\u001b[0;34m)\u001b[0m\u001b[0;34m)\u001b[0m\u001b[0;34m\u001b[0m\u001b[0;34m\u001b[0m\u001b[0m\n\u001b[0m\u001b[1;32m      6\u001b[0m         \u001b[0;32mreturn\u001b[0m \u001b[0mmemo\u001b[0m\u001b[0;34m[\u001b[0m\u001b[0mcost\u001b[0m\u001b[0;34m]\u001b[0m\u001b[0;34m\u001b[0m\u001b[0;34m\u001b[0m\u001b[0m\n\u001b[1;32m      7\u001b[0m \u001b[0;32mdef\u001b[0m \u001b[0mminCostClimbingStairs\u001b[0m\u001b[0;34m(\u001b[0m\u001b[0mcost\u001b[0m\u001b[0;34m)\u001b[0m\u001b[0;34m:\u001b[0m\u001b[0;34m\u001b[0m\u001b[0;34m\u001b[0m\u001b[0m\n",
      "\u001b[0;32m<ipython-input-14-ae55471efbbe>\u001b[0m in \u001b[0;36mminCost\u001b[0;34m(cost, memo)\u001b[0m\n\u001b[1;32m      3\u001b[0m         \u001b[0;32mreturn\u001b[0m \u001b[0;36m0\u001b[0m\u001b[0;34m\u001b[0m\u001b[0;34m\u001b[0m\u001b[0m\n\u001b[1;32m      4\u001b[0m     \u001b[0;32melse\u001b[0m\u001b[0;34m:\u001b[0m\u001b[0;34m\u001b[0m\u001b[0;34m\u001b[0m\u001b[0m\n\u001b[0;32m----> 5\u001b[0;31m         \u001b[0mmemo\u001b[0m\u001b[0;34m[\u001b[0m\u001b[0mcost\u001b[0m\u001b[0;34m]\u001b[0m \u001b[0;34m=\u001b[0m \u001b[0mmin\u001b[0m\u001b[0;34m(\u001b[0m\u001b[0mcost\u001b[0m\u001b[0;34m[\u001b[0m\u001b[0;36m0\u001b[0m\u001b[0;34m]\u001b[0m\u001b[0;34m+\u001b[0m\u001b[0mminCost\u001b[0m\u001b[0;34m(\u001b[0m\u001b[0mcost\u001b[0m\u001b[0;34m[\u001b[0m\u001b[0;36m1\u001b[0m\u001b[0;34m:\u001b[0m\u001b[0;34m]\u001b[0m\u001b[0;34m,\u001b[0m\u001b[0mmemo\u001b[0m\u001b[0;34m)\u001b[0m\u001b[0;34m,\u001b[0m\u001b[0mcost\u001b[0m\u001b[0;34m[\u001b[0m\u001b[0;36m1\u001b[0m\u001b[0;34m]\u001b[0m\u001b[0;34m+\u001b[0m\u001b[0mminCost\u001b[0m\u001b[0;34m(\u001b[0m\u001b[0mcost\u001b[0m\u001b[0;34m[\u001b[0m\u001b[0;36m2\u001b[0m\u001b[0;34m:\u001b[0m\u001b[0;34m]\u001b[0m\u001b[0;34m,\u001b[0m\u001b[0mmemo\u001b[0m\u001b[0;34m)\u001b[0m\u001b[0;34m)\u001b[0m\u001b[0;34m\u001b[0m\u001b[0;34m\u001b[0m\u001b[0m\n\u001b[0m\u001b[1;32m      6\u001b[0m         \u001b[0;32mreturn\u001b[0m \u001b[0mmemo\u001b[0m\u001b[0;34m[\u001b[0m\u001b[0mcost\u001b[0m\u001b[0;34m]\u001b[0m\u001b[0;34m\u001b[0m\u001b[0;34m\u001b[0m\u001b[0m\n\u001b[1;32m      7\u001b[0m \u001b[0;32mdef\u001b[0m \u001b[0mminCostClimbingStairs\u001b[0m\u001b[0;34m(\u001b[0m\u001b[0mcost\u001b[0m\u001b[0;34m)\u001b[0m\u001b[0;34m:\u001b[0m\u001b[0;34m\u001b[0m\u001b[0;34m\u001b[0m\u001b[0m\n",
      "\u001b[0;31mTypeError\u001b[0m: unhashable type: 'list'"
     ]
    }
   ],
   "source": [
    "def minCost(cost,memo = {}):\n",
    "    if len(cost)<=1:\n",
    "        return 0\n",
    "    else:\n",
    "        memo[cost] = min(cost[0]+minCost(cost[1:],memo),cost[1]+minCost(cost[2:],memo))\n",
    "        return memo[cost]\n",
    "def minCostClimbingStairs(cost):\n",
    "    return minCost(cost)\n",
    "minCostClimbingStairs([10,15,20])"
   ]
  },
  {
   "cell_type": "code",
   "execution_count": 13,
   "metadata": {},
   "outputs": [
    {
     "data": {
      "text/plain": [
       "1"
      ]
     },
     "execution_count": 13,
     "metadata": {},
     "output_type": "execute_result"
    }
   ],
   "source": [
    "def minCost(cost,n,memo = {}):\n",
    "    if n in memo:\n",
    "        return memo[n]\n",
    "    elif n<0:\n",
    "        return 0\n",
    "    elif n ==1:\n",
    "        memo[n] = 0\n",
    "        return memo[n]\n",
    "    elif n == 2:\n",
    "        return min(cost)\n",
    "    elif n == 0:\n",
    "        memo[n] = 0\n",
    "        return memo[n]\n",
    "    else:\n",
    "        memo[n] = min(minCost(cost,n-1,memo)+cost[n-1],minCost(cost,n-2,memo)+cost[n-2] )\n",
    "        #memo[n] = min(self.minCost(cost,n-1,memo))\n",
    "        return memo[n]\n",
    "def minCostClimbingStairs(cost):\n",
    "    n = len(cost)\n",
    "    return minCost(cost,n)\n",
    "minCostClimbingStairs([0,0,1,1])"
   ]
  },
  {
   "cell_type": "code",
   "execution_count": null,
   "metadata": {},
   "outputs": [],
   "source": [
    "    def minCostClimbingStairs(self, cost: List[int]) -> int:\n",
    "        f1 = 0\n",
    "        f2 = 0\n",
    "        for i in reversed(cost):\n",
    "            f1,f2 = i+min(f1,f2),f1\n",
    "        return min(f1,f2)"
   ]
  },
  {
   "cell_type": "markdown",
   "metadata": {},
   "source": [
    "# Climb Stairs Ways"
   ]
  },
  {
   "cell_type": "code",
   "execution_count": null,
   "metadata": {},
   "outputs": [],
   "source": [
    "def climbStairs(self, n: int,memo = {}) -> int:\n",
    "    if n in memo:\n",
    "        return memo[n]\n",
    "    if n == 0:\n",
    "        return 1\n",
    "    if n<0:\n",
    "        return 0\n",
    "    else:\n",
    "        memo[n] = self.climbStairs(n-1,memo) + self.climbStairs(n-2,memo)\n",
    "        return memo[n]"
   ]
  },
  {
   "cell_type": "code",
   "execution_count": 16,
   "metadata": {},
   "outputs": [
    {
     "data": {
      "text/plain": [
       "63245986"
      ]
     },
     "execution_count": 16,
     "metadata": {},
     "output_type": "execute_result"
    }
   ],
   "source": [
    "# Same as fibbonaci series\n",
    "def clibStairsIterative(n):\n",
    "    dp = [0 for i in range(n+1)]\n",
    "    dp[1] = 1\n",
    "    dp[2] = 2\n",
    "    for i in range(3,n+1):\n",
    "        dp[i] = dp[i-1]+dp[i-2]\n",
    "    return dp[n]\n",
    "clibStairsIterative(38)\n",
    "# Also this question is similar to coloring stair with no two yellow colors"
   ]
  },
  {
   "cell_type": "markdown",
   "metadata": {},
   "source": [
    "# Jumps 2 and 3\n",
    "[Jumps 2 and 3](https://www.hackerearth.com/problem/algorithm/utkarsh-and-jumps/description/)"
   ]
  },
  {
   "cell_type": "code",
   "execution_count": null,
   "metadata": {},
   "outputs": [],
   "source": [
    "def solve():\n",
    "    n,p =  map(int,input().split())\n",
    "    dp = [0 for i in range(n+1)]\n",
    "    p = p/100\n",
    "    q = 1-p \n",
    "    dp[2] = p\n",
    "    dp[3] = q\n",
    "    for i in range(4,n+1):\n",
    "        dp[i] = dp[i-2]*p + dp[i-3]*q \n",
    "    print('%.6f'%dp[-1])\n",
    "solve()"
   ]
  },
  {
   "cell_type": "markdown",
   "metadata": {},
   "source": [
    "# Is Subsequence\n",
    "[Questions Is Subsequence](https://leetcode.com/problems/is-subsequence/)"
   ]
  },
  {
   "cell_type": "code",
   "execution_count": null,
   "metadata": {},
   "outputs": [],
   "source": [
    "def isSubsequence(self, s: str, t: str) -> bool:\n",
    "    if len(s) == 0:\n",
    "        return True\n",
    "    elif len(t) == 0:\n",
    "        return False\n",
    "\n",
    "    if s[0] == t[0]:\n",
    "        return self.isSubsequence(s[1:],t[1:])\n",
    "    else:\n",
    "        return self.isSubsequence(s,t[1:])"
   ]
  },
  {
   "cell_type": "markdown",
   "metadata": {},
   "source": [
    "# BBT Counter\n",
    "[question](https://leetcode.com/problems/is-subsequence/)"
   ]
  },
  {
   "cell_type": "code",
   "execution_count": null,
   "metadata": {},
   "outputs": [],
   "source": [
    "import sys \n",
    "sys.setrecursionlimit(10**6)\n",
    "def countBT (h,memo = {}):\n",
    "    if h in memo:\n",
    "        return memo[h]\n",
    "    if h == 0:\n",
    "        memo[h] = 1\n",
    "        return 1\n",
    "    if h == 0:\n",
    "        memo[h] = 1\n",
    "        return 1\n",
    "    if h == 2:\n",
    "        memo[h] = 3\n",
    "        return 3\n",
    "    if h-1 in memo:\n",
    "        a = memo[h-1]\n",
    "    if h-1 not in memo:\n",
    "        a = countBT(h-1)\n",
    "    if h-2 in memo:\n",
    "        b = memo[h-2]\n",
    "    if h-2 not in memo:\n",
    "        b = countBT(h-2)\n",
    "    memo[h] = 2*a*b +a**2\n",
    "    return memo[h]\n",
    "countBT(3)"
   ]
  },
  {
   "cell_type": "code",
   "execution_count": 3,
   "metadata": {},
   "outputs": [
    {
     "data": {
      "text/plain": [
       "15"
      ]
     },
     "execution_count": 3,
     "metadata": {},
     "output_type": "execute_result"
    }
   ],
   "source": [
    "def BBTcount(h):\n",
    "    dp = [0 for i in range(h+1)]\n",
    "    dp[0] = 1\n",
    "    dp[1] = 1\n",
    "    dp[2] = 3\n",
    "    for i in range(2,h+1):\n",
    "        dp[i] = 2*dp[i-1]*dp[i-2] + dp[i-1]*dp[i-1]   \n",
    "    return dp[-1]\n",
    "BBTcount(3)"
   ]
  },
  {
   "cell_type": "markdown",
   "metadata": {},
   "source": [
    "# Unique Binary Search Tree (Catalan numbers)\n",
    "[Question](https://leetcode.com/problems/unique-binary-search-trees/)"
   ]
  },
  {
   "cell_type": "code",
   "execution_count": 4,
   "metadata": {},
   "outputs": [
    {
     "data": {
      "text/plain": [
       "5"
      ]
     },
     "execution_count": 4,
     "metadata": {},
     "output_type": "execute_result"
    }
   ],
   "source": [
    "def numTrees(h):\n",
    "    dp = [ 0 for i in range(h+1)]\n",
    "    dp[0] = 1\n",
    "    dp[1] = 1 #dp[2] = 2\n",
    "    for i in range(2,h+1):\n",
    "        for j in range(i):\n",
    "            dp[i] += dp[j]*dp[i-j-1] # numTree(3) = dp[0]*dp[2] + dp[1][1] +dp[0][2]\n",
    "    return dp[-1]\n",
    "numTrees(3)"
   ]
  },
  {
   "cell_type": "markdown",
   "metadata": {},
   "source": [
    "# Roy and Coin Boxes\n",
    "[Question](https://www.hackerearth.com/practice/algorithms/dynamic-programming/introduction-to-dynamic-programming-1/practice-problems/algorithm/roy-and-coin-boxes-1/description/)"
   ]
  },
  {
   "cell_type": "code",
   "execution_count": null,
   "metadata": {},
   "outputs": [],
   "source": []
  },
  {
   "cell_type": "markdown",
   "metadata": {},
   "source": [
    "# Number of R's\n",
    "[Question](https://www.hackerearth.com/practice/algorithms/dynamic-programming/introduction-to-dynamic-programming-1/practice-problems/algorithm/number-of-rs-1/)"
   ]
  },
  {
   "cell_type": "code",
   "execution_count": 7,
   "metadata": {},
   "outputs": [
    {
     "name": "stdout",
     "output_type": "stream",
     "text": [
      "1\n",
      "RRR\n",
      "2\n"
     ]
    }
   ],
   "source": [
    "for _ in range(int(input())):\n",
    "    string = input()\n",
    "    B = []\n",
    "    for i in range(len(string)):\n",
    "        if string[i] == 'R':\n",
    "            B.append(-1)\n",
    "        else:\n",
    "            B.append(1)\n",
    "    # kadane's Algorithm\n",
    "    sum_here = 0\n",
    "    sum_over = float('-inf')\n",
    "    for num in range(len(B)):\n",
    "        sum_here+=B[num]\n",
    "        if sum_here<B[num]:\n",
    "            sum_here = B[num]\n",
    "        if sum_here>sum_over:\n",
    "            sum_over = max(sum_here,sum_over)\n",
    "    print(string.count(\"R\")+sum_over)"
   ]
  },
  {
   "cell_type": "markdown",
   "metadata": {},
   "source": [
    "# Perfect Square\n",
    "[Quetion](https://leetcode.com/problems/perfect-squares/)"
   ]
  },
  {
   "cell_type": "code",
   "execution_count": 18,
   "metadata": {},
   "outputs": [
    {
     "data": {
      "text/plain": [
       "3"
      ]
     },
     "execution_count": 18,
     "metadata": {},
     "output_type": "execute_result"
    }
   ],
   "source": [
    "import math\n",
    "def numSquares(n):\n",
    "    squares=[i**2 for i in range(1,int(n**0.5)+1)]\n",
    "    dp = [0 for i in range(n+1)]\n",
    "    dp[1] = 1\n",
    "    if n == 1:\n",
    "        return 1\n",
    "    dp[2] = 2\n",
    "    if n == 2:\n",
    "        return 2\n",
    "    dp[3] = 3\n",
    "    for i in range(4,n+1):\n",
    "        res = float('inf')\n",
    "        sr = math.sqrt(i)\n",
    "        if int(sr+0.5)**2 == i:\n",
    "            dp[i] = 1\n",
    "            continue\n",
    "        for j in range(1,int(i**.5)):\n",
    "            res = min(1+dp[i-squares[j]],res)\n",
    "        dp[i] = res\n",
    "    return dp[-1]\n",
    "numSquares(12)"
   ]
  },
  {
   "cell_type": "markdown",
   "metadata": {},
   "source": [
    "# Arithmetic Slices\n",
    "[Question](https://leetcode.com/problems/arithmetic-slices/)"
   ]
  },
  {
   "cell_type": "code",
   "execution_count": 19,
   "metadata": {},
   "outputs": [],
   "source": [
    "def numberOfArithmeticSlices(A):\n",
    "    dp = [0 for i in range(len(A))]\n",
    "    for i in range(2,len(A)):\n",
    "        if A[i]-A[i-1] == A[i-1] - A[i-2]:\n",
    "            dp[i]+=dp[i-1]+1\n",
    "    return sum(dp)"
   ]
  },
  {
   "cell_type": "markdown",
   "metadata": {},
   "source": [
    "# Consecutive 1's not allowed\n",
    "[Question](https://practice.geeksforgeeks.org/problems/consecutive-1s-not-allowed1912/1#)"
   ]
  },
  {
   "cell_type": "code",
   "execution_count": 20,
   "metadata": {},
   "outputs": [],
   "source": [
    "def countStrings(n):\n",
    "    a=[0 for i in range(n)] \n",
    "    b=[0 for i in range(n)] \n",
    "    a[0] = b[0] = 1\n",
    "    for i in range(1,n): \n",
    "        a[i] = a[i-1] + b[i-1] \n",
    "        b[i] = a[i-1] \n",
    "\n",
    "    return (a[n-1] + b[n-1])%1000000007"
   ]
  },
  {
   "cell_type": "markdown",
   "metadata": {},
   "source": [
    "# House Robber\n",
    "[Question](https://leetcode.com/problems/house-robber/)"
   ]
  },
  {
   "cell_type": "code",
   "execution_count": 23,
   "metadata": {},
   "outputs": [
    {
     "data": {
      "text/plain": [
       "4"
      ]
     },
     "execution_count": 23,
     "metadata": {},
     "output_type": "execute_result"
    }
   ],
   "source": [
    "def rob(nums):\n",
    "    if len(nums) == 0:\n",
    "        return 0\n",
    "    if len(nums) == 1:\n",
    "        return nums[0]\n",
    "    dp = [0 for i in range(len(nums))]\n",
    "    dp[0] = nums[0]\n",
    "    dp[1] = max(nums[1],nums[0])\n",
    "    for i in range(2,len(nums)):\n",
    "        dp[i] = max(nums[i]+dp[i-2],dp[i-1])\n",
    "    return max(dp[-1],dp[-2])\n",
    "max(rob([1,2,3]),rob([2,3,1]))"
   ]
  },
  {
   "cell_type": "markdown",
   "metadata": {},
   "source": [
    "# House Robber II\n",
    "[Question](https://leetcode.com/problems/house-robber-ii/)"
   ]
  },
  {
   "cell_type": "code",
   "execution_count": 24,
   "metadata": {},
   "outputs": [],
   "source": [
    "def robber(nums):\n",
    "    if len(nums) == 0:\n",
    "        return 0\n",
    "    if len(nums) == 1:\n",
    "        return nums[0]\n",
    "    dp = [0 for i in range(len(nums))]\n",
    "    dp[0] = nums[0]\n",
    "    dp[1] = max(nums[1],nums[0])\n",
    "    for i in range(2,len(nums)):\n",
    "        dp[i] = max(nums[i]+dp[i-2],dp[i-1])\n",
    "    return max(dp[-1],dp[-2])\n",
    "def rob(nums) -> int:\n",
    "    if len(nums) == 1:\n",
    "        return nums[0]\n",
    "    return max(robber(nums[:-1]),robber(nums[1:])) # house 1 to end and house 0 to n-1"
   ]
  },
  {
   "cell_type": "markdown",
   "metadata": {},
   "source": [
    "# Longest Incresing Subsequence(LIS)\n",
    "[Question](https://leetcode.com/problems/longest-increasing-subsequence/)"
   ]
  },
  {
   "cell_type": "code",
   "execution_count": 25,
   "metadata": {},
   "outputs": [],
   "source": [
    "def lengthOfLIS(nums):\n",
    "    dp = [1 for i in range(len(nums))]\n",
    "    for i in range(1,len(nums)):\n",
    "        for j in range(i):\n",
    "            if nums[j] < nums[i]:\n",
    "                dp[i] = max(1+dp[j],dp[i])\n",
    "    return max(dp)\n",
    "# Time: O(n^2)\n",
    "# This can be done by nlogn (look fir that)"
   ]
  },
  {
   "cell_type": "markdown",
   "metadata": {},
   "source": [
    "# Box Stacking(LIS)\n",
    "[Question](https://practice.geeksforgeeks.org/problems/box-stacking/1)"
   ]
  },
  {
   "cell_type": "code",
   "execution_count": 31,
   "metadata": {},
   "outputs": [
    {
     "data": {
      "text/plain": [
       "60"
      ]
     },
     "execution_count": 31,
     "metadata": {},
     "output_type": "execute_result"
    }
   ],
   "source": [
    "h = [4,1,4,10]\n",
    "b = [6,2,5,12]\n",
    "l = [7,3,6,32]\n",
    "def maxHeight(h, b, l, n):\n",
    "    boxList = list(zip(h,l,b)) + list(zip(l,h,b)) + list(zip(l,b,h)) + list(zip(b,l,h)) + list(zip(h,b,l)) + list(zip(b,h,l))\n",
    "    boxList.sort(key= lambda x: (x[0], x[1]))\n",
    "    dp = [0 for i in range(len(boxList))]\n",
    "    \n",
    "    for i in range(0, len(boxList)):\n",
    "        dp[i] = boxList[i][2]\n",
    "        for j in range(i, -1, -1):\n",
    "            if (boxList[i][0] > boxList[j][0]) and (boxList[i][1] > boxList[j][1]):\n",
    "                if dp[i] < boxList[i][2] + dp[j]:\n",
    "                    dp[i] = boxList[i][2] + dp[j]\n",
    "    \n",
    "    return max(dp)\n",
    "maxHeight(h,b,l,4)    "
   ]
  },
  {
   "cell_type": "markdown",
   "metadata": {},
   "source": [
    "# Building Bridges(LIS)\n",
    "[Question](https://www.geeksforgeeks.org/dynamic-programming-building-bridges/)"
   ]
  },
  {
   "cell_type": "code",
   "execution_count": 43,
   "metadata": {},
   "outputs": [
    {
     "data": {
      "text/plain": [
       "2"
      ]
     },
     "execution_count": 43,
     "metadata": {},
     "output_type": "execute_result"
    }
   ],
   "source": [
    "def lis(pairs):\n",
    "    dp = [ 1 for i in range(len(pairs))]\n",
    "    for i in range(1,len(pairs)):\n",
    "        for j in range(i):\n",
    "            if pairs[i][0]>=pairs[j][0]:\n",
    "                dp[i] = max(1+dp[j],dp[i])\n",
    "    return max(dp)\n",
    "def solve(north,south):\n",
    "    x = list(zip(north,south))\n",
    "    x.sort(key = lambda x: (x[1],x[0]))\n",
    "    return lis(x)\n",
    "north = [6,4,2,1]\n",
    "south = [2,3,6,5]\n",
    "solve(north,south)"
   ]
  },
  {
   "cell_type": "code",
   "execution_count": null,
   "metadata": {},
   "outputs": [],
   "source": []
  },
  {
   "cell_type": "markdown",
   "metadata": {},
   "source": [
    "# Maximum Sum Increasing Subsequence (LIS)\n",
    "[Question](https://www.geeksforgeeks.org/maximum-sum-increasing-subsequence-dp-14/)"
   ]
  },
  {
   "cell_type": "code",
   "execution_count": 45,
   "metadata": {},
   "outputs": [
    {
     "data": {
      "text/plain": [
       "106"
      ]
     },
     "execution_count": 45,
     "metadata": {},
     "output_type": "execute_result"
    }
   ],
   "source": [
    "def maxSumLIS(nums):\n",
    "    dp = [nums[i] for i in range(len(nums))]\n",
    "    for i in range(1,len(nums)):\n",
    "        for j in range(i):\n",
    "            if nums[j] < nums[i]:\n",
    "                dp[i] = max(nums[i]+dp[j],dp[i])\n",
    "    return max(dp)\n",
    "arr = [1, 101, 2, 3, 100, 4, 5]\n",
    "maxSumLIS(arr)"
   ]
  },
  {
   "cell_type": "markdown",
   "metadata": {},
   "source": [
    "# Longest Chain(LIS)\n",
    "[Question](https://www.geeksforgeeks.org/maximum-length-chain-of-pairs-dp-20/)"
   ]
  },
  {
   "cell_type": "code",
   "execution_count": 34,
   "metadata": {},
   "outputs": [],
   "source": [
    "def findLongestChain(Parr) -> int:\n",
    "    Parr.sort(key = lambda x:x[0])\n",
    "    dp = [ 1 for i in range(len(Parr))]\n",
    "    for i in range(1,len(Parr)):\n",
    "        for j in range(i):\n",
    "            if Parr[i][0]>Parr[j][1]:\n",
    "                dp[i] = max(dp[j]+1,dp[i])\n",
    "    return max(dp)  "
   ]
  },
  {
   "cell_type": "code",
   "execution_count": null,
   "metadata": {},
   "outputs": [],
   "source": [
    "'''\n",
    "class Pair(object):\n",
    "    def __init__(self, a, b):\n",
    "        self.a = a\n",
    "        self.b = b\n",
    "'''\n",
    "\n",
    "def maxChainLen(Parr, n):\n",
    "    # Parr:  list of pair\n",
    "    #code here\n",
    "    Parr.sort(key = lambda x:x.a)\n",
    "    dp = [ 1 for i in range(n)]\n",
    "    for i in range(1,n):\n",
    "        for j in range(i):\n",
    "            if Parr[i].a>Parr[j].b:\n",
    "                dp[i] = max(dp[j]+1,dp[i])\n",
    "    return max(dp)"
   ]
  },
  {
   "cell_type": "markdown",
   "metadata": {},
   "source": [
    "# Longest Bitonic Sequence\n",
    "[Question](https://practice.geeksforgeeks.org/problems/longest-bitonic-subsequence0824/1)"
   ]
  },
  {
   "cell_type": "code",
   "execution_count": 47,
   "metadata": {},
   "outputs": [
    {
     "data": {
      "text/plain": [
       "5"
      ]
     },
     "execution_count": 47,
     "metadata": {},
     "output_type": "execute_result"
    }
   ],
   "source": [
    "def LIS(arr):\n",
    "    dp = [1 for i in range(len(arr))]\n",
    "    for i in range(1,len(arr)):\n",
    "        for j in range(i):\n",
    "            if arr[i]>arr[j]:\n",
    "                dp[i] = max(1+dp[j],dp[i])\n",
    "    return dp\n",
    "def LBS(arr):\n",
    "    leftToRight = LIS(arr)\n",
    "    rightToLeft = LIS(arr[::-1])\n",
    "    rightToLeft = rightToLeft[::-1]\n",
    "    result = 0\n",
    "    for i in range(len(arr)):\n",
    "        result = max(leftToRight[i]+rightToLeft[i]-1,result)\n",
    "    return result\n",
    "LBS([2,-1,4,3,5,-1,3,2])"
   ]
  },
  {
   "cell_type": "markdown",
   "metadata": {},
   "source": [
    "# Decode Ways\n",
    "[Question](https://leetcode.com/problems/decode-ways/)"
   ]
  },
  {
   "cell_type": "code",
   "execution_count": 53,
   "metadata": {},
   "outputs": [
    {
     "name": "stdout",
     "output_type": "stream",
     "text": [
      "[1, 2, 2, 3]\n"
     ]
    },
    {
     "data": {
      "text/plain": [
       "3"
      ]
     },
     "execution_count": 53,
     "metadata": {},
     "output_type": "execute_result"
    }
   ],
   "source": [
    "# wrong check Again\n",
    "def numDecodings(s):\n",
    "    if s == \"0\":\n",
    "        return 0\n",
    "    dp = [0 for i in range(len(s))]\n",
    "    if dp[0] != \"0\":\n",
    "        #print(\"h\")\n",
    "        dp[0] = 1\n",
    "    for i in range(1,len(s)):\n",
    "        if s[i] == \"0\" or (s[i-1:i+1]) =='00' or int(s[i-1:i+1])>26:\n",
    "            dp[i] = dp[i-1]\n",
    "        else:\n",
    "            dp[i] = 1+dp[i-1]\n",
    "            #print(\"h\")\n",
    "    print(dp)\n",
    "    return dp[-1]\n",
    "numDecodings(\"2101\")"
   ]
  },
  {
   "cell_type": "code",
   "execution_count": 64,
   "metadata": {},
   "outputs": [
    {
     "data": {
      "text/plain": [
       "2"
      ]
     },
     "execution_count": 64,
     "metadata": {},
     "output_type": "execute_result"
    }
   ],
   "source": [
    "# right solution\n",
    "def numDecode(s):\n",
    "    dp = [0 for i in range(len(s)+1)]\n",
    "    dp[0] = 1\n",
    "    if s[0] != '0':\n",
    "        dp[1] = 1\n",
    "    \n",
    "    for i in range(2,len(s)+1):\n",
    "        oneDigit = int(s[i-1])\n",
    "        twoDigit = int(s[i-2:i])\n",
    "        if oneDigit >0:\n",
    "            dp[i]+=dp[i-1]\n",
    "        if twoDigit>=10 and twoDigit<=26:\n",
    "            dp[i] +=dp[i-2]\n",
    "    return dp[-1]\n",
    "numDecode(\"12\")\n",
    "# Time : O(n)        \n",
    "    \n",
    "    "
   ]
  },
  {
   "cell_type": "markdown",
   "metadata": {},
   "source": [
    "# Maximum Product Subarray\n",
    "[Question](https://leetcode.com/problems/maximum-product-subarray/)"
   ]
  },
  {
   "cell_type": "code",
   "execution_count": null,
   "metadata": {},
   "outputs": [],
   "source": []
  },
  {
   "cell_type": "markdown",
   "metadata": {},
   "source": [
    "# Jump Game II\n",
    "[Question](https://leetcode.com/problems/jump-game-ii/)\n"
   ]
  },
  {
   "cell_type": "code",
   "execution_count": 60,
   "metadata": {},
   "outputs": [
    {
     "name": "stdout",
     "output_type": "stream",
     "text": [
      "[0, 1, 1, 2, 2]\n"
     ]
    },
    {
     "data": {
      "text/plain": [
       "2"
      ]
     },
     "execution_count": 60,
     "metadata": {},
     "output_type": "execute_result"
    }
   ],
   "source": [
    "def jump(nums) -> int:\n",
    "    dp = [ 1000 for i in range(len(nums))]\n",
    "    dp[0] = 0\n",
    "    for i in range(1,len(nums)):\n",
    "        for j in range(i):\n",
    "            if j+nums[j] >=i:\n",
    "                dp[i] = min(dp[j]+1,dp[i])\n",
    "    print(dp)\n",
    "    return dp[-1]\n",
    "jump([2,3,1,1,4])\n",
    "# O(n^2)\n"
   ]
  },
  {
   "cell_type": "code",
   "execution_count": 62,
   "metadata": {},
   "outputs": [],
   "source": [
    "def jump(self, nums) -> int:\n",
    "    pos=dist=jumps=0\n",
    "\n",
    "    for i in range(len(nums)-1):\n",
    "\n",
    "        dist = max(dist,i+nums[i])\n",
    "\n",
    "        if pos==i:\n",
    "            jumps+=1\n",
    "            pos = dist\n",
    "\n",
    "    return jumps\n",
    "# Time: O(n)"
   ]
  },
  {
   "cell_type": "markdown",
   "metadata": {},
   "source": [
    "# Best Time To Buy And Sell Stocks III"
   ]
  },
  {
   "cell_type": "code",
   "execution_count": 83,
   "metadata": {},
   "outputs": [
    {
     "name": "stdout",
     "output_type": "stream",
     "text": [
      "[[0, 0, 0, 0, 0, 0, 0, 0, 0], [0, 0, 0, 2, 2, 2, 3, 3, 4], [0, 0, 3, 5, 5, 5, 5, 5, 6]]\n"
     ]
    },
    {
     "data": {
      "text/plain": [
       "6"
      ]
     },
     "execution_count": 83,
     "metadata": {},
     "output_type": "execute_result"
    }
   ],
   "source": [
    "def maxProfit(prices):\n",
    "    dp = [[0 for i in range(len(prices)+1)] for j in range(3)]\n",
    "    maxdiff = dp[1][1] - prices[0]\n",
    "    for i in range(1,3):\n",
    "        for j in range(2,len(prices)+1):\n",
    "            dp[i][j] = max(dp[i][j-1],prices[j-1] + maxdiff)\n",
    "            maxdiff = max(dp[i-1][j]-prices[j-1],maxdiff)\n",
    "    print(dp)\n",
    "    return dp[-1][-1]\n",
    "prices = [3,3,5,0,0,3,1,4]\n",
    "maxProfit(prices)"
   ]
  },
  {
   "cell_type": "code",
   "execution_count": null,
   "metadata": {},
   "outputs": [],
   "source": []
  }
 ],
 "metadata": {
  "kernelspec": {
   "display_name": "Python 3",
   "language": "python",
   "name": "python3"
  },
  "language_info": {
   "codemirror_mode": {
    "name": "ipython",
    "version": 3
   },
   "file_extension": ".py",
   "mimetype": "text/x-python",
   "name": "python",
   "nbconvert_exporter": "python",
   "pygments_lexer": "ipython3",
   "version": "3.8.8"
  }
 },
 "nbformat": 4,
 "nbformat_minor": 4
}
