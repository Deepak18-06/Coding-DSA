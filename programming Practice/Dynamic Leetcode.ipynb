{
 "cells": [
  {
   "cell_type": "markdown",
   "metadata": {},
   "source": [
    "# Divisor Game"
   ]
  },
  {
   "cell_type": "code",
   "execution_count": 2,
   "metadata": {},
   "outputs": [
    {
     "data": {
      "text/plain": [
       "False"
      ]
     },
     "execution_count": 2,
     "metadata": {},
     "output_type": "execute_result"
    }
   ],
   "source": [
    "# Recursive\n",
    "def divisorGame(N):\n",
    "    if N == 1:\n",
    "        return False\n",
    "    else:\n",
    "        for i in range(1,N):\n",
    "            if N%i == 0 and divisorGame(N-i) == False:\n",
    "                return True\n",
    "    return False\n",
    "divisorGame(7)\n",
    "# Time : O(N^N)  max no of divisor of N is O(n^1/3)"
   ]
  },
  {
   "cell_type": "code",
   "execution_count": 6,
   "metadata": {},
   "outputs": [
    {
     "data": {
      "text/plain": [
       "False"
      ]
     },
     "execution_count": 6,
     "metadata": {},
     "output_type": "execute_result"
    }
   ],
   "source": [
    "# memoization\n",
    "def divisorGame(N,memo = {}):\n",
    "    if N in memo:\n",
    "        return memo[N]\n",
    "    if N == 1:\n",
    "        return False\n",
    "    else:\n",
    "        for i in range(1,int(N**.5)):                      # uper bound divisor\n",
    "            if N%i == 0 and divisorGame(N-i,memo) == False :\n",
    "                memo[N] = True\n",
    "                return True\n",
    "            if i!=1 and N%i == 0 and divisorGame(N-N/i,memo) == False :\n",
    "                memo[N] = True\n",
    "                return True\n",
    "    memo[N] = False\n",
    "    return False\n",
    "divisorGame(7)\n",
    "# Time: N^2\n"
   ]
  },
  {
   "cell_type": "markdown",
   "metadata": {},
   "source": [
    "# Minimum Cost"
   ]
  },
  {
   "cell_type": "code",
   "execution_count": 14,
   "metadata": {},
   "outputs": [
    {
     "ename": "TypeError",
     "evalue": "unhashable type: 'list'",
     "output_type": "error",
     "traceback": [
      "\u001b[0;31m---------------------------------------------------------------------------\u001b[0m",
      "\u001b[0;31mTypeError\u001b[0m                                 Traceback (most recent call last)",
      "\u001b[0;32m<ipython-input-14-ae55471efbbe>\u001b[0m in \u001b[0;36m<module>\u001b[0;34m\u001b[0m\n\u001b[1;32m      7\u001b[0m \u001b[0;32mdef\u001b[0m \u001b[0mminCostClimbingStairs\u001b[0m\u001b[0;34m(\u001b[0m\u001b[0mcost\u001b[0m\u001b[0;34m)\u001b[0m\u001b[0;34m:\u001b[0m\u001b[0;34m\u001b[0m\u001b[0;34m\u001b[0m\u001b[0m\n\u001b[1;32m      8\u001b[0m     \u001b[0;32mreturn\u001b[0m \u001b[0mminCost\u001b[0m\u001b[0;34m(\u001b[0m\u001b[0mcost\u001b[0m\u001b[0;34m)\u001b[0m\u001b[0;34m\u001b[0m\u001b[0;34m\u001b[0m\u001b[0m\n\u001b[0;32m----> 9\u001b[0;31m \u001b[0mminCostClimbingStairs\u001b[0m\u001b[0;34m(\u001b[0m\u001b[0;34m[\u001b[0m\u001b[0;36m10\u001b[0m\u001b[0;34m,\u001b[0m\u001b[0;36m15\u001b[0m\u001b[0;34m,\u001b[0m\u001b[0;36m20\u001b[0m\u001b[0;34m]\u001b[0m\u001b[0;34m)\u001b[0m\u001b[0;34m\u001b[0m\u001b[0;34m\u001b[0m\u001b[0m\n\u001b[0m",
      "\u001b[0;32m<ipython-input-14-ae55471efbbe>\u001b[0m in \u001b[0;36mminCostClimbingStairs\u001b[0;34m(cost)\u001b[0m\n\u001b[1;32m      6\u001b[0m         \u001b[0;32mreturn\u001b[0m \u001b[0mmemo\u001b[0m\u001b[0;34m[\u001b[0m\u001b[0mcost\u001b[0m\u001b[0;34m]\u001b[0m\u001b[0;34m\u001b[0m\u001b[0;34m\u001b[0m\u001b[0m\n\u001b[1;32m      7\u001b[0m \u001b[0;32mdef\u001b[0m \u001b[0mminCostClimbingStairs\u001b[0m\u001b[0;34m(\u001b[0m\u001b[0mcost\u001b[0m\u001b[0;34m)\u001b[0m\u001b[0;34m:\u001b[0m\u001b[0;34m\u001b[0m\u001b[0;34m\u001b[0m\u001b[0m\n\u001b[0;32m----> 8\u001b[0;31m     \u001b[0;32mreturn\u001b[0m \u001b[0mminCost\u001b[0m\u001b[0;34m(\u001b[0m\u001b[0mcost\u001b[0m\u001b[0;34m)\u001b[0m\u001b[0;34m\u001b[0m\u001b[0;34m\u001b[0m\u001b[0m\n\u001b[0m\u001b[1;32m      9\u001b[0m \u001b[0mminCostClimbingStairs\u001b[0m\u001b[0;34m(\u001b[0m\u001b[0;34m[\u001b[0m\u001b[0;36m10\u001b[0m\u001b[0;34m,\u001b[0m\u001b[0;36m15\u001b[0m\u001b[0;34m,\u001b[0m\u001b[0;36m20\u001b[0m\u001b[0;34m]\u001b[0m\u001b[0;34m)\u001b[0m\u001b[0;34m\u001b[0m\u001b[0;34m\u001b[0m\u001b[0m\n",
      "\u001b[0;32m<ipython-input-14-ae55471efbbe>\u001b[0m in \u001b[0;36mminCost\u001b[0;34m(cost, memo)\u001b[0m\n\u001b[1;32m      3\u001b[0m         \u001b[0;32mreturn\u001b[0m \u001b[0;36m0\u001b[0m\u001b[0;34m\u001b[0m\u001b[0;34m\u001b[0m\u001b[0m\n\u001b[1;32m      4\u001b[0m     \u001b[0;32melse\u001b[0m\u001b[0;34m:\u001b[0m\u001b[0;34m\u001b[0m\u001b[0;34m\u001b[0m\u001b[0m\n\u001b[0;32m----> 5\u001b[0;31m         \u001b[0mmemo\u001b[0m\u001b[0;34m[\u001b[0m\u001b[0mcost\u001b[0m\u001b[0;34m]\u001b[0m \u001b[0;34m=\u001b[0m \u001b[0mmin\u001b[0m\u001b[0;34m(\u001b[0m\u001b[0mcost\u001b[0m\u001b[0;34m[\u001b[0m\u001b[0;36m0\u001b[0m\u001b[0;34m]\u001b[0m\u001b[0;34m+\u001b[0m\u001b[0mminCost\u001b[0m\u001b[0;34m(\u001b[0m\u001b[0mcost\u001b[0m\u001b[0;34m[\u001b[0m\u001b[0;36m1\u001b[0m\u001b[0;34m:\u001b[0m\u001b[0;34m]\u001b[0m\u001b[0;34m,\u001b[0m\u001b[0mmemo\u001b[0m\u001b[0;34m)\u001b[0m\u001b[0;34m,\u001b[0m\u001b[0mcost\u001b[0m\u001b[0;34m[\u001b[0m\u001b[0;36m1\u001b[0m\u001b[0;34m]\u001b[0m\u001b[0;34m+\u001b[0m\u001b[0mminCost\u001b[0m\u001b[0;34m(\u001b[0m\u001b[0mcost\u001b[0m\u001b[0;34m[\u001b[0m\u001b[0;36m2\u001b[0m\u001b[0;34m:\u001b[0m\u001b[0;34m]\u001b[0m\u001b[0;34m,\u001b[0m\u001b[0mmemo\u001b[0m\u001b[0;34m)\u001b[0m\u001b[0;34m)\u001b[0m\u001b[0;34m\u001b[0m\u001b[0;34m\u001b[0m\u001b[0m\n\u001b[0m\u001b[1;32m      6\u001b[0m         \u001b[0;32mreturn\u001b[0m \u001b[0mmemo\u001b[0m\u001b[0;34m[\u001b[0m\u001b[0mcost\u001b[0m\u001b[0;34m]\u001b[0m\u001b[0;34m\u001b[0m\u001b[0;34m\u001b[0m\u001b[0m\n\u001b[1;32m      7\u001b[0m \u001b[0;32mdef\u001b[0m \u001b[0mminCostClimbingStairs\u001b[0m\u001b[0;34m(\u001b[0m\u001b[0mcost\u001b[0m\u001b[0;34m)\u001b[0m\u001b[0;34m:\u001b[0m\u001b[0;34m\u001b[0m\u001b[0;34m\u001b[0m\u001b[0m\n",
      "\u001b[0;32m<ipython-input-14-ae55471efbbe>\u001b[0m in \u001b[0;36mminCost\u001b[0;34m(cost, memo)\u001b[0m\n\u001b[1;32m      3\u001b[0m         \u001b[0;32mreturn\u001b[0m \u001b[0;36m0\u001b[0m\u001b[0;34m\u001b[0m\u001b[0;34m\u001b[0m\u001b[0m\n\u001b[1;32m      4\u001b[0m     \u001b[0;32melse\u001b[0m\u001b[0;34m:\u001b[0m\u001b[0;34m\u001b[0m\u001b[0;34m\u001b[0m\u001b[0m\n\u001b[0;32m----> 5\u001b[0;31m         \u001b[0mmemo\u001b[0m\u001b[0;34m[\u001b[0m\u001b[0mcost\u001b[0m\u001b[0;34m]\u001b[0m \u001b[0;34m=\u001b[0m \u001b[0mmin\u001b[0m\u001b[0;34m(\u001b[0m\u001b[0mcost\u001b[0m\u001b[0;34m[\u001b[0m\u001b[0;36m0\u001b[0m\u001b[0;34m]\u001b[0m\u001b[0;34m+\u001b[0m\u001b[0mminCost\u001b[0m\u001b[0;34m(\u001b[0m\u001b[0mcost\u001b[0m\u001b[0;34m[\u001b[0m\u001b[0;36m1\u001b[0m\u001b[0;34m:\u001b[0m\u001b[0;34m]\u001b[0m\u001b[0;34m,\u001b[0m\u001b[0mmemo\u001b[0m\u001b[0;34m)\u001b[0m\u001b[0;34m,\u001b[0m\u001b[0mcost\u001b[0m\u001b[0;34m[\u001b[0m\u001b[0;36m1\u001b[0m\u001b[0;34m]\u001b[0m\u001b[0;34m+\u001b[0m\u001b[0mminCost\u001b[0m\u001b[0;34m(\u001b[0m\u001b[0mcost\u001b[0m\u001b[0;34m[\u001b[0m\u001b[0;36m2\u001b[0m\u001b[0;34m:\u001b[0m\u001b[0;34m]\u001b[0m\u001b[0;34m,\u001b[0m\u001b[0mmemo\u001b[0m\u001b[0;34m)\u001b[0m\u001b[0;34m)\u001b[0m\u001b[0;34m\u001b[0m\u001b[0;34m\u001b[0m\u001b[0m\n\u001b[0m\u001b[1;32m      6\u001b[0m         \u001b[0;32mreturn\u001b[0m \u001b[0mmemo\u001b[0m\u001b[0;34m[\u001b[0m\u001b[0mcost\u001b[0m\u001b[0;34m]\u001b[0m\u001b[0;34m\u001b[0m\u001b[0;34m\u001b[0m\u001b[0m\n\u001b[1;32m      7\u001b[0m \u001b[0;32mdef\u001b[0m \u001b[0mminCostClimbingStairs\u001b[0m\u001b[0;34m(\u001b[0m\u001b[0mcost\u001b[0m\u001b[0;34m)\u001b[0m\u001b[0;34m:\u001b[0m\u001b[0;34m\u001b[0m\u001b[0;34m\u001b[0m\u001b[0m\n",
      "\u001b[0;31mTypeError\u001b[0m: unhashable type: 'list'"
     ]
    }
   ],
   "source": [
    "def minCost(cost,memo = {}):\n",
    "    if len(cost)<=1:\n",
    "        return 0\n",
    "    else:\n",
    "        memo[cost] = min(cost[0]+minCost(cost[1:],memo),cost[1]+minCost(cost[2:],memo))\n",
    "        return memo[cost]\n",
    "def minCostClimbingStairs(cost):\n",
    "    return minCost(cost)\n",
    "minCostClimbingStairs([10,15,20])"
   ]
  },
  {
   "cell_type": "code",
   "execution_count": 13,
   "metadata": {},
   "outputs": [
    {
     "data": {
      "text/plain": [
       "1"
      ]
     },
     "execution_count": 13,
     "metadata": {},
     "output_type": "execute_result"
    }
   ],
   "source": [
    "def minCost(cost,n,memo = {}):\n",
    "    if n in memo:\n",
    "        return memo[n]\n",
    "    elif n<0:\n",
    "        return 0\n",
    "    elif n ==1:\n",
    "        memo[n] = 0\n",
    "        return memo[n]\n",
    "    elif n == 2:\n",
    "        return min(cost)\n",
    "    elif n == 0:\n",
    "        memo[n] = 0\n",
    "        return memo[n]\n",
    "    else:\n",
    "        memo[n] = min(minCost(cost,n-1,memo)+cost[n-1],minCost(cost,n-2,memo)+cost[n-2] )\n",
    "        #memo[n] = min(self.minCost(cost,n-1,memo))\n",
    "        return memo[n]\n",
    "def minCostClimbingStairs(cost):\n",
    "    n = len(cost)\n",
    "    return minCost(cost,n)\n",
    "minCostClimbingStairs([0,0,1,1])"
   ]
  },
  {
   "cell_type": "code",
   "execution_count": null,
   "metadata": {},
   "outputs": [],
   "source": [
    "    def minCostClimbingStairs(self, cost: List[int]) -> int:\n",
    "        f1 = 0\n",
    "        f2 = 0\n",
    "        for i in reversed(cost):\n",
    "            f1,f2 = i+min(f1,f2),f1\n",
    "        return min(f1,f2)"
   ]
  },
  {
   "cell_type": "markdown",
   "metadata": {},
   "source": [
    "# Climb Stairs Ways"
   ]
  },
  {
   "cell_type": "code",
   "execution_count": null,
   "metadata": {},
   "outputs": [],
   "source": [
    "def climbStairs(self, n: int,memo = {}) -> int:\n",
    "    if n in memo:\n",
    "        return memo[n]\n",
    "    if n == 0:\n",
    "        return 1\n",
    "    if n<0:\n",
    "        return 0\n",
    "    else:\n",
    "        memo[n] = self.climbStairs(n-1,memo) + self.climbStairs(n-2,memo)\n",
    "        return memo[n]"
   ]
  },
  {
   "cell_type": "code",
   "execution_count": 16,
   "metadata": {},
   "outputs": [
    {
     "data": {
      "text/plain": [
       "63245986"
      ]
     },
     "execution_count": 16,
     "metadata": {},
     "output_type": "execute_result"
    }
   ],
   "source": [
    "# Same as fibbonaci series\n",
    "def clibStairsIterative(n):\n",
    "    dp = [0 for i in range(n+1)]\n",
    "    dp[1] = 1\n",
    "    dp[2] = 2\n",
    "    for i in range(3,n+1):\n",
    "        dp[i] = dp[i-1]+dp[i-2]\n",
    "    return dp[n]\n",
    "clibStairsIterative(38)\n",
    "# Also this question is similar to coloring stair with no two yellow colors"
   ]
  },
  {
   "cell_type": "markdown",
   "metadata": {},
   "source": [
    "# Jumps 2 and 3\n",
    "[Jumps 2 and 3](https://www.hackerearth.com/problem/algorithm/utkarsh-and-jumps/description/)"
   ]
  },
  {
   "cell_type": "code",
   "execution_count": null,
   "metadata": {},
   "outputs": [],
   "source": [
    "def solve():\n",
    "    n,p =  map(int,input().split())\n",
    "    dp = [0 for i in range(n+1)]\n",
    "    p = p/100\n",
    "    q = 1-p \n",
    "    dp[2] = p\n",
    "    dp[3] = q\n",
    "    for i in range(4,n+1):\n",
    "        dp[i] = dp[i-2]*p + dp[i-3]*q \n",
    "    print('%.6f'%dp[-1])\n",
    "solve()"
   ]
  },
  {
   "cell_type": "markdown",
   "metadata": {},
   "source": [
    "# Is Subsequence\n",
    "[Questions Is Subsequence](https://leetcode.com/problems/is-subsequence/)"
   ]
  },
  {
   "cell_type": "code",
   "execution_count": null,
   "metadata": {},
   "outputs": [],
   "source": [
    "def isSubsequence(self, s: str, t: str) -> bool:\n",
    "    if len(s) == 0:\n",
    "        return True\n",
    "    elif len(t) == 0:\n",
    "        return False\n",
    "\n",
    "    if s[0] == t[0]:\n",
    "        return self.isSubsequence(s[1:],t[1:])\n",
    "    else:\n",
    "        return self.isSubsequence(s,t[1:])"
   ]
  },
  {
   "cell_type": "markdown",
   "metadata": {},
   "source": [
    "# BBT Counter\n",
    "[question](https://leetcode.com/problems/is-subsequence/)"
   ]
  },
  {
   "cell_type": "code",
   "execution_count": null,
   "metadata": {},
   "outputs": [],
   "source": [
    "import sys \n",
    "sys.setrecursionlimit(10**6)\n",
    "def countBT (h,memo = {}):\n",
    "    if h in memo:\n",
    "        return memo[h]\n",
    "    if h == 0:\n",
    "        memo[h] = 1\n",
    "        return 1\n",
    "    if h == 0:\n",
    "        memo[h] = 1\n",
    "        return 1\n",
    "    if h == 2:\n",
    "        memo[h] = 3\n",
    "        return 3\n",
    "    if h-1 in memo:\n",
    "        a = memo[h-1]\n",
    "    if h-1 not in memo:\n",
    "        a = countBT(h-1)\n",
    "    if h-2 in memo:\n",
    "        b = memo[h-2]\n",
    "    if h-2 not in memo:\n",
    "        b = countBT(h-2)\n",
    "    memo[h] = 2*a*b +a**2\n",
    "    return memo[h]\n",
    "countBT(3)"
   ]
  },
  {
   "cell_type": "code",
   "execution_count": 3,
   "metadata": {},
   "outputs": [
    {
     "data": {
      "text/plain": [
       "15"
      ]
     },
     "execution_count": 3,
     "metadata": {},
     "output_type": "execute_result"
    }
   ],
   "source": [
    "def BBTcount(h):\n",
    "    dp = [0 for i in range(h+1)]\n",
    "    dp[0] = 1\n",
    "    dp[1] = 1\n",
    "    dp[2] = 3\n",
    "    for i in range(2,h+1):\n",
    "        dp[i] = 2*dp[i-1]*dp[i-2] + dp[i-1]*dp[i-1]   \n",
    "    return dp[-1]\n",
    "BBTcount(3)"
   ]
  },
  {
   "cell_type": "markdown",
   "metadata": {},
   "source": [
    "# Unique Binary Search Tree (Catalan numbers)\n",
    "[Question](https://leetcode.com/problems/unique-binary-search-trees/)"
   ]
  },
  {
   "cell_type": "code",
   "execution_count": 4,
   "metadata": {},
   "outputs": [
    {
     "data": {
      "text/plain": [
       "5"
      ]
     },
     "execution_count": 4,
     "metadata": {},
     "output_type": "execute_result"
    }
   ],
   "source": [
    "def numTrees(h):\n",
    "    dp = [ 0 for i in range(h+1)]\n",
    "    dp[0] = 1\n",
    "    dp[1] = 1 #dp[2] = 2\n",
    "    for i in range(2,h+1):\n",
    "        for j in range(i):\n",
    "            dp[i] += dp[j]*dp[i-j-1] # numTree(3) = dp[0]*dp[2] + dp[1][1] +dp[0][2]\n",
    "    return dp[-1]\n",
    "numTrees(3)"
   ]
  },
  {
   "cell_type": "markdown",
   "metadata": {},
   "source": [
    "# Roy and Coin Boxes\n",
    "[Question](https://www.hackerearth.com/practice/algorithms/dynamic-programming/introduction-to-dynamic-programming-1/practice-problems/algorithm/roy-and-coin-boxes-1/description/)"
   ]
  },
  {
   "cell_type": "code",
   "execution_count": null,
   "metadata": {},
   "outputs": [],
   "source": []
  },
  {
   "cell_type": "markdown",
   "metadata": {},
   "source": [
    "# Number of R's\n",
    "[Question](https://www.hackerearth.com/practice/algorithms/dynamic-programming/introduction-to-dynamic-programming-1/practice-problems/algorithm/number-of-rs-1/)"
   ]
  },
  {
   "cell_type": "code",
   "execution_count": 7,
   "metadata": {},
   "outputs": [
    {
     "name": "stdout",
     "output_type": "stream",
     "text": [
      "1\n",
      "RRR\n",
      "2\n"
     ]
    }
   ],
   "source": [
    "for _ in range(int(input())):\n",
    "    string = input()\n",
    "    B = []\n",
    "    for i in range(len(string)):\n",
    "        if string[i] == 'R':\n",
    "            B.append(-1)\n",
    "        else:\n",
    "            B.append(1)\n",
    "    # kadane's Algorithm\n",
    "    sum_here = 0\n",
    "    sum_over = float('-inf')\n",
    "    for num in range(len(B)):\n",
    "        sum_here+=B[num]\n",
    "        if sum_here<B[num]:\n",
    "            sum_here = B[num]\n",
    "        if sum_here>sum_over:\n",
    "            sum_over = max(sum_here,sum_over)\n",
    "    print(string.count(\"R\")+sum_over)"
   ]
  },
  {
   "cell_type": "markdown",
   "metadata": {},
   "source": [
    "# Perfect Square\n",
    "[Quetion](https://leetcode.com/problems/perfect-squares/)"
   ]
  },
  {
   "cell_type": "code",
   "execution_count": 18,
   "metadata": {},
   "outputs": [
    {
     "data": {
      "text/plain": [
       "3"
      ]
     },
     "execution_count": 18,
     "metadata": {},
     "output_type": "execute_result"
    }
   ],
   "source": [
    "import math\n",
    "def numSquares(n):\n",
    "    squares=[i**2 for i in range(1,int(n**0.5)+1)]\n",
    "    dp = [0 for i in range(n+1)]\n",
    "    dp[1] = 1\n",
    "    if n == 1:\n",
    "        return 1\n",
    "    dp[2] = 2\n",
    "    if n == 2:\n",
    "        return 2\n",
    "    dp[3] = 3\n",
    "    for i in range(4,n+1):\n",
    "        res = float('inf')\n",
    "        sr = math.sqrt(i)\n",
    "        if int(sr+0.5)**2 == i:\n",
    "            dp[i] = 1\n",
    "            continue\n",
    "        for j in range(1,int(i**.5)):\n",
    "            res = min(1+dp[i-squares[j]],res)\n",
    "        dp[i] = res\n",
    "    return dp[-1]\n",
    "numSquares(12)"
   ]
  },
  {
   "cell_type": "markdown",
   "metadata": {},
   "source": [
    "# Arithmetic Slices\n",
    "[Question](https://leetcode.com/problems/arithmetic-slices/)"
   ]
  },
  {
   "cell_type": "code",
   "execution_count": 19,
   "metadata": {},
   "outputs": [],
   "source": [
    "def numberOfArithmeticSlices(A):\n",
    "    dp = [0 for i in range(len(A))]\n",
    "    for i in range(2,len(A)):\n",
    "        if A[i]-A[i-1] == A[i-1] - A[i-2]:\n",
    "            dp[i]+=dp[i-1]+1\n",
    "    return sum(dp)"
   ]
  },
  {
   "cell_type": "markdown",
   "metadata": {},
   "source": [
    "# Consecutive 1's not allowed\n",
    "[Question](https://practice.geeksforgeeks.org/problems/consecutive-1s-not-allowed1912/1#)"
   ]
  },
  {
   "cell_type": "code",
   "execution_count": 20,
   "metadata": {},
   "outputs": [],
   "source": [
    "def countStrings(n):\n",
    "    a=[0 for i in range(n)] \n",
    "    b=[0 for i in range(n)] \n",
    "    a[0] = b[0] = 1\n",
    "    for i in range(1,n): \n",
    "        a[i] = a[i-1] + b[i-1] \n",
    "        b[i] = a[i-1] \n",
    "\n",
    "    return (a[n-1] + b[n-1])%1000000007"
   ]
  },
  {
   "cell_type": "markdown",
   "metadata": {},
   "source": [
    "# House Robber\n",
    "[Question](https://leetcode.com/problems/house-robber/)"
   ]
  },
  {
   "cell_type": "code",
   "execution_count": 23,
   "metadata": {},
   "outputs": [
    {
     "data": {
      "text/plain": [
       "4"
      ]
     },
     "execution_count": 23,
     "metadata": {},
     "output_type": "execute_result"
    }
   ],
   "source": [
    "def rob(nums):\n",
    "    if len(nums) == 0:\n",
    "        return 0\n",
    "    if len(nums) == 1:\n",
    "        return nums[0]\n",
    "    dp = [0 for i in range(len(nums))]\n",
    "    dp[0] = nums[0]\n",
    "    dp[1] = max(nums[1],nums[0])\n",
    "    for i in range(2,len(nums)):\n",
    "        dp[i] = max(nums[i]+dp[i-2],dp[i-1])\n",
    "    return max(dp[-1],dp[-2])\n",
    "max(rob([1,2,3]),rob([2,3,1]))"
   ]
  },
  {
   "cell_type": "markdown",
   "metadata": {},
   "source": [
    "# House Robber II\n",
    "[Question](https://leetcode.com/problems/house-robber-ii/)"
   ]
  },
  {
   "cell_type": "code",
   "execution_count": 24,
   "metadata": {},
   "outputs": [],
   "source": [
    "def robber(nums):\n",
    "    if len(nums) == 0:\n",
    "        return 0\n",
    "    if len(nums) == 1:\n",
    "        return nums[0]\n",
    "    dp = [0 for i in range(len(nums))]\n",
    "    dp[0] = nums[0]\n",
    "    dp[1] = max(nums[1],nums[0])\n",
    "    for i in range(2,len(nums)):\n",
    "        dp[i] = max(nums[i]+dp[i-2],dp[i-1])\n",
    "    return max(dp[-1],dp[-2])\n",
    "def rob(nums) -> int:\n",
    "    if len(nums) == 1:\n",
    "        return nums[0]\n",
    "    return max(robber(nums[:-1]),robber(nums[1:])) # house 1 to end and house 0 to n-1"
   ]
  },
  {
   "cell_type": "code",
   "execution_count": null,
   "metadata": {},
   "outputs": [],
   "source": []
  }
 ],
 "metadata": {
  "kernelspec": {
   "display_name": "Python 3",
   "language": "python",
   "name": "python3"
  },
  "language_info": {
   "codemirror_mode": {
    "name": "ipython",
    "version": 3
   },
   "file_extension": ".py",
   "mimetype": "text/x-python",
   "name": "python",
   "nbconvert_exporter": "python",
   "pygments_lexer": "ipython3",
   "version": "3.8.3"
  }
 },
 "nbformat": 4,
 "nbformat_minor": 4
}
