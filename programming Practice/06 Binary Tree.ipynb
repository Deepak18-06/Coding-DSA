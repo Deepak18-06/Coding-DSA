{
 "cells": [
  {
   "cell_type": "markdown",
   "id": "f73add48-e632-4d25-8d2f-0d430c2df9e5",
   "metadata": {},
   "source": [
    "# Binary Tree and Bineary Search Tree\n",
    "\n",
    "        1\n",
    "      /  \\\n",
    "     2    3\n",
    "    / \\  / \\\n",
    "   4   5 6  7 "
   ]
  },
  {
   "cell_type": "code",
   "execution_count": 241,
   "id": "f59ceed9-c520-4e53-8f10-cfb865cef457",
   "metadata": {},
   "outputs": [],
   "source": [
    "class Node:\n",
    "    def __init__(self, val, left=None, right=None):\n",
    "        self.val = val\n",
    "        self.left = left\n",
    "        self.right = right\n",
    "\n",
    "root = Node(1)\n",
    "root.left = Node(2)\n",
    "root.right = Node(3)\n",
    "root.left.left = Node(4)\n",
    "root.left.right = Node(5)\n",
    "root.right.left = Node(6)\n",
    "root.right.right = Node(7)"
   ]
  },
  {
   "cell_type": "markdown",
   "id": "5bd8a235-15ae-43bf-bcd2-7861c931f609",
   "metadata": {},
   "source": [
    "## DFS Traversals"
   ]
  },
  {
   "cell_type": "code",
   "execution_count": 72,
   "id": "1b5518ed-bffc-47c7-9e59-fca63a7e4125",
   "metadata": {},
   "outputs": [
    {
     "name": "stdout",
     "output_type": "stream",
     "text": [
      "Using Recursion\n",
      "Preorder\n",
      "1->2->4->5->3->6->7->\n",
      "\n",
      "1->2->4->5->3->6->7->\n",
      "Inorder\n",
      "4->2->5->1->6->3->7->\n",
      "\n",
      "4->2->5->1->6->3->7->\n",
      "Postorder\n",
      "4->5->2->6->7->3->1->\n",
      "\n",
      "4->5->2->6->7->3->1->"
     ]
    },
    {
     "name": "stderr",
     "output_type": "stream",
     "text": [
      "<>:5: SyntaxWarning: invalid escape sequence '\\ '\n",
      "<>:5: SyntaxWarning: invalid escape sequence '\\ '\n",
      "/var/folders/jr/5pzqrnpx1qlgvmh80j_sz24h0000gn/T/ipykernel_59328/2383405696.py:5: SyntaxWarning: invalid escape sequence '\\ '\n",
      "  \"\"\"\n"
     ]
    }
   ],
   "source": [
    "#dfs Traverals\n",
    "# Pre-order -> Root Left Right\n",
    "# Inorder -> Left Root Right\n",
    "# Post order -> Left Rigth Root\n",
    "\"\"\"  \n",
    "        1\n",
    "      /  \\\n",
    "     2    3\n",
    "    / \\  / \\\n",
    "   4   5 6  7 \n",
    "\"\"\"\n",
    "def preOrderTraversal(root: Node):\n",
    "    if root:\n",
    "        print(root.val, end=\"->\")\n",
    "        preOrderTraversal(root.left)\n",
    "        preOrderTraversal(root.right)\n",
    "def preOrderTraversalStack(root: Node):\n",
    "    print(\"\\n\")\n",
    "    stack = []\n",
    "    stack = [root]\n",
    "    while stack:\n",
    "        root =  stack.pop()\n",
    "        print(root.val, end=\"->\")\n",
    "        if root.right:\n",
    "            stack.append(root.right)\n",
    "        if root.left:\n",
    "            stack.append(root.left)\n",
    "            \n",
    "def inOrderTraversal(root: Node):\n",
    "    if root:\n",
    "        inOrderTraversal(root.left)\n",
    "        print(root.val, end=\"->\")\n",
    "        inOrderTraversal(root.right)\n",
    "\n",
    "def inOrderTraversalStack(root: Node):\n",
    "    print(\"\\n\")\n",
    "    stack = []\n",
    "    current = root\n",
    "    while True:\n",
    "        if current:\n",
    "            stack.append(current)\n",
    "            current = current.left\n",
    "        elif stack:\n",
    "            current = stack.pop()\n",
    "            print(current.val, end=\"->\")\n",
    "            current = current.right\n",
    "        else:\n",
    "            break\n",
    "def postOrderTraversal(root: Node):\n",
    "    if root:\n",
    "        postOrderTraversal(root.left)\n",
    "        postOrderTraversal(root.right)\n",
    "        print(root.val, end=\"->\")\n",
    "\n",
    "def postOrderTraversalStack(root: Node):\n",
    "    print(\"\\n\")\n",
    "    if not root:\n",
    "        return\n",
    "    stack = []\n",
    "    last_visited = None\n",
    "    current = root\n",
    "    while stack or current:\n",
    "        if current:\n",
    "            stack.append(current)\n",
    "            current = current.left\n",
    "        else:\n",
    "            peek_element = stack[-1]\n",
    "            if peek_element.right and peek_element.right != last_visited:\n",
    "                current = peek_element.right\n",
    "            else:\n",
    "                print(peek_element.val, end=\"->\")\n",
    "                last_visited = stack.pop()\n",
    "print(\"Using Recursion\")\n",
    "print(\"Preorder\")\n",
    "preOrderTraversal(root)\n",
    "preOrderTraversalStack(root)\n",
    "print(\"\\nInorder\")\n",
    "inOrderTraversal(root)\n",
    "inOrderTraversalStack(root)\n",
    "print(\"\\nPostorder\")\n",
    "postOrderTraversal(root)\n",
    "postOrderTraversalStack(root)\n",
    "\n"
   ]
  },
  {
   "cell_type": "markdown",
   "id": "17b148a2-f028-491d-abfb-bddbaae28648",
   "metadata": {},
   "source": [
    "## BFS Traversal"
   ]
  },
  {
   "cell_type": "code",
   "execution_count": 90,
   "id": "5e35e7a7-bbdb-467c-bc98-03371bc73cff",
   "metadata": {},
   "outputs": [
    {
     "name": "stdout",
     "output_type": "stream",
     "text": [
      "1->2->3->4->5->6->7->"
     ]
    }
   ],
   "source": [
    "## Level order traversal\n",
    "from collections import deque\n",
    "def levelOrderTraversal(root: Node):\n",
    "    queue = deque()\n",
    "    queue.append(root)\n",
    "    while queue:\n",
    "        n = len(queue)\n",
    "        for i in range(n):\n",
    "            element = queue.popleft()\n",
    "            print(element.val, end=\"->\")\n",
    "            if element.left:\n",
    "                queue.append(element.left)\n",
    "            if element.right:\n",
    "                queue.append(element.right)\n",
    "levelOrderTraversal(root)"
   ]
  },
  {
   "cell_type": "markdown",
   "id": "189004e1-2691-47ee-91b9-52399e967909",
   "metadata": {},
   "source": [
    "## Max Depth of Binary Tree"
   ]
  },
  {
   "cell_type": "code",
   "execution_count": 95,
   "id": "4d96640a-fe44-4eb3-ae65-24ca7fa3b7bd",
   "metadata": {},
   "outputs": [
    {
     "data": {
      "text/plain": [
       "3"
      ]
     },
     "execution_count": 95,
     "metadata": {},
     "output_type": "execute_result"
    }
   ],
   "source": [
    "def maxDepth(root: Node):\n",
    "    if not root:\n",
    "        return 0\n",
    "    return 1 + max(maxDepth(root.left), maxDepth(root.right))\n",
    "maxDepth(root)\n",
    "# For iterative do level order traversal and count the iteration in while loop"
   ]
  },
  {
   "cell_type": "markdown",
   "id": "99d20c2a-2b7a-45ea-b691-3740db5ac7c9",
   "metadata": {},
   "source": [
    "## Check Balanced Binary Tree"
   ]
  },
  {
   "cell_type": "code",
   "execution_count": 108,
   "id": "96e19e35-b270-428f-9030-2b3b75de3555",
   "metadata": {},
   "outputs": [
    {
     "data": {
      "text/plain": [
       "True"
      ]
     },
     "execution_count": 108,
     "metadata": {},
     "output_type": "execute_result"
    }
   ],
   "source": [
    "def isBalanced(root: Node):\n",
    "    if not root:\n",
    "        return [True, 0]\n",
    "    left = isBalanced(root.left)\n",
    "    right = isBalanced(root.right)\n",
    "    balanced = False\n",
    "    if left[0] and right[0] and abs(left[1] - right[1]) <= 1:\n",
    "        balanced = True\n",
    "    return [balanced, 1+max(isBalanced(root.left)[1], isBalanced(root.right)[1])]\n",
    "isBalanced(root)[0]"
   ]
  },
  {
   "cell_type": "markdown",
   "id": "ca065631-418d-467a-a877-b90f5b4c2daf",
   "metadata": {},
   "source": [
    "## Diameter of Binary Tree"
   ]
  },
  {
   "cell_type": "code",
   "execution_count": 137,
   "id": "ea01f0f0-4380-4393-919e-638bb99ed164",
   "metadata": {},
   "outputs": [
    {
     "name": "stdout",
     "output_type": "stream",
     "text": [
      "4\n",
      "4\n"
     ]
    }
   ],
   "source": [
    "# Brute Force O(n)\n",
    "def diameter(root: Node, result):\n",
    "    if not root:\n",
    "        return\n",
    "    leftHeight = maxDepth(root.left)\n",
    "    rightHeight = maxDepth(root.right)\n",
    "    result[0] = max(result[0], leftHeight + rightHeight)\n",
    "    diameter(root.left, result)\n",
    "    diameter(root.right, result)\n",
    "result = [0]\n",
    "diameter(root, result)\n",
    "print(result[0])\n",
    "\n",
    "#using heigh code only\n",
    "def diameterOfTree(root: Node, result):\n",
    "    if not root:\n",
    "        return 0\n",
    "    left = diameterOfTree(root.left, result)\n",
    "    right = diameterOfTree(root.right, result)\n",
    "    result[0] = max(result[0], left+right)\n",
    "    return 1 + max(left, right)\n",
    "dia = [0]\n",
    "diameterOfTree(root, dia)\n",
    "print(dia[0])"
   ]
  },
  {
   "cell_type": "markdown",
   "id": "b3a9ed50-0142-464f-ba47-2cdf3ac343d0",
   "metadata": {},
   "source": [
    "## Max Path Sum"
   ]
  },
  {
   "cell_type": "code",
   "execution_count": 140,
   "id": "5513752a-bb47-40ef-b4a4-c85ddaf278da",
   "metadata": {},
   "outputs": [
    {
     "data": {
      "text/plain": [
       "18"
      ]
     },
     "execution_count": 140,
     "metadata": {},
     "output_type": "execute_result"
    }
   ],
   "source": [
    "class Solution:\n",
    "    def maxPathSum(self, root: Node) -> int:\n",
    "        if not root:\n",
    "            return 0\n",
    "        def dfs(root,result):\n",
    "            if not root:\n",
    "                return 0\n",
    "            #ignoring the negative path\n",
    "            left = max(dfs(root.left, result),0)\n",
    "            right = max(dfs(root.right, result),0)\n",
    "            result[0] = max(result[0], left+right + root.val)\n",
    "            return root.val + max(left, right)\n",
    "        result = [float(\"-inf\")]\n",
    "        dfs(root, result)\n",
    "        return result[0]\n",
    "obj = Solution()\n",
    "obj.maxPathSum(root)"
   ]
  },
  {
   "cell_type": "markdown",
   "id": "7435e56f-eb32-44f1-b483-a208060644c2",
   "metadata": {},
   "source": [
    "## Check if two tree are identical"
   ]
  },
  {
   "cell_type": "code",
   "execution_count": 145,
   "id": "e7fe4681-3611-44b4-9008-9736ddc7d05b",
   "metadata": {},
   "outputs": [
    {
     "data": {
      "text/plain": [
       "True"
      ]
     },
     "execution_count": 145,
     "metadata": {},
     "output_type": "execute_result"
    }
   ],
   "source": [
    "def checkIdentical(root1, root2):\n",
    "    if not root1 and not root2:\n",
    "        return True\n",
    "    if root1 and root2 and root1.val == root2.val:\n",
    "        return checkIdentical(root1.left, root2.left) and checkIdentical(root1.right, root2.right)\n",
    "    return False\n",
    "checkIdentical(root, root)"
   ]
  },
  {
   "cell_type": "markdown",
   "id": "0d1ac330-491f-4ed6-93f8-3fd235f10471",
   "metadata": {},
   "source": [
    "## Zig-Zag Traversal"
   ]
  },
  {
   "cell_type": "code",
   "execution_count": 162,
   "id": "f088b12d-541a-4266-a632-df81f8bbd84d",
   "metadata": {},
   "outputs": [
    {
     "data": {
      "text/plain": [
       "[1, 3, 2, 4, 5, 6, 7]"
      ]
     },
     "execution_count": 162,
     "metadata": {},
     "output_type": "execute_result"
    }
   ],
   "source": [
    "from collections import deque\n",
    "def zigZag(root: Node):\n",
    "    queue = deque([root])\n",
    "    result = []\n",
    "    flag = 1\n",
    "    while queue:\n",
    "        n = len(queue)\n",
    "        level_elements = []\n",
    "        for i in range(n):\n",
    "            element = queue.popleft()\n",
    "            level_elements.append(element.val)\n",
    "            if element.left:\n",
    "                queue.append(element.left)\n",
    "            if element.right:\n",
    "                queue.append(element.right)\n",
    "        if flag:\n",
    "            result.extend(level_elements)\n",
    "            flag = 0\n",
    "        else:\n",
    "            result.extend(level_elements[::-1])\n",
    "            flag = 1\n",
    "    return result\n",
    "zigZag(root)\n",
    "                "
   ]
  },
  {
   "cell_type": "markdown",
   "id": "c30e8146-183b-4eb8-a321-1856d49fb0b3",
   "metadata": {},
   "source": [
    "## Boundary Traversal\n",
    "[Question](https://www.geeksforgeeks.org/problems/boundary-traversal-of-binary-tree/1)"
   ]
  },
  {
   "cell_type": "code",
   "execution_count": 166,
   "id": "10b2454d-bb3d-47eb-ab02-4d691d6db1a5",
   "metadata": {},
   "outputs": [],
   "source": [
    "'''\n",
    "class Node:\n",
    "    def __init__(self, val):\n",
    "        self.right = None\n",
    "        self.data = val\n",
    "        self.left = None\n",
    "'''\n",
    "class Solution:\n",
    "    def isLeaf(self, root):\n",
    "        if root.left is None and root.right is None:\n",
    "            return True\n",
    "        return False\n",
    "    def leftSideWithoutLeaf(self, root, result):\n",
    "        current = root.left\n",
    "        while current:\n",
    "            if not self.isLeaf(current):\n",
    "                result.append(current.data)\n",
    "            if current.left:\n",
    "                current = current.left\n",
    "            else:\n",
    "                current = current.right\n",
    "    \n",
    "    def rightSideWithoutLeaf(self, root, result):\n",
    "        current = root.right\n",
    "        temp = []\n",
    "        while current:\n",
    "            if not self.isLeaf(current):\n",
    "                temp.append(current.data)\n",
    "            if current.right:\n",
    "                current = current.right\n",
    "            else:\n",
    "                current = current.left\n",
    "        result.extend(temp[::-1])\n",
    "    \n",
    "    def addLeaves(self, root,result):\n",
    "        if self.isLeaf(root):\n",
    "            result.append(root.data)\n",
    "            return\n",
    "        if root.left:\n",
    "            self.addLeaves(root.left, result)\n",
    "        if root.right:\n",
    "            self.addLeaves(root.right, result)\n",
    "        \n",
    "    def printBoundaryView(self, root):\n",
    "        if not root:\n",
    "            return []\n",
    "        result = []\n",
    "        if not self.isLeaf(root):\n",
    "            result.append(root.data)\n",
    "        self.leftSideWithoutLeaf(root, result)\n",
    "        self.addLeaves(root, result)\n",
    "        self.rightSideWithoutLeaf(root,result)\n",
    "        return result"
   ]
  },
  {
   "cell_type": "markdown",
   "id": "24b7faeb-0653-421b-82c5-14e4c305802e",
   "metadata": {},
   "source": [
    "## Vertical Order traversal"
   ]
  },
  {
   "cell_type": "code",
   "execution_count": 185,
   "id": "9c03c255-0ae1-4f59-bf6f-dfea183abe3e",
   "metadata": {},
   "outputs": [
    {
     "data": {
      "text/plain": [
       "[[4], [2], [1, 5, 6], [3], [7]]"
      ]
     },
     "execution_count": 185,
     "metadata": {},
     "output_type": "execute_result"
    }
   ],
   "source": [
    "from collections import deque, defaultdict\n",
    "class Solution:\n",
    "    def verticalTraversal(self, root: Node):\n",
    "        if not root:\n",
    "            return []\n",
    "        \n",
    "        # Use deque for BFS and defaultdict for storing vertical order.\n",
    "        queue = deque([(0, 0, root)])  # (vertical, level, node)\n",
    "        node_map = defaultdict(lambda: defaultdict(list))  # Dictionary to hold nodes in (vertical, level)\n",
    "        \n",
    "        # BFS traversal with coordinate tracking\n",
    "        while queue:\n",
    "            vertical, level, node = queue.popleft()\n",
    "            \n",
    "            # Append the node's value to the correct vertical and level\n",
    "            node_map[vertical][level].append(node.val)\n",
    "            \n",
    "            # Traverse left and right child with updated coordinates\n",
    "            if node.left:\n",
    "                queue.append((vertical - 1, level + 1, node.left))\n",
    "            if node.right:\n",
    "                queue.append((vertical + 1, level + 1, node.right))\n",
    "        \n",
    "        # Prepare the result\n",
    "        result = []\n",
    "        \n",
    "        # Sort by vertical first, and for each vertical, sort by level\n",
    "        for vertical in sorted(node_map.keys()):\n",
    "            column = []\n",
    "            for level in sorted(node_map[vertical].keys()):\n",
    "                # Sort values at the same level\n",
    "                column.extend(sorted(node_map[vertical][level]))\n",
    "            result.append(column)\n",
    "        \n",
    "        return result\n",
    "obj = Solution()\n",
    "obj.verticalTraversal(root)"
   ]
  },
  {
   "cell_type": "markdown",
   "id": "ba2f5cc4-0cc4-4348-ba1e-f732dd7b7775",
   "metadata": {},
   "source": [
    "## Top view of Binary Tree"
   ]
  },
  {
   "cell_type": "code",
   "execution_count": 188,
   "id": "e9344f1c-dc60-4846-bd4a-91c3c0a7a876",
   "metadata": {},
   "outputs": [
    {
     "data": {
      "text/plain": [
       "[4, 2, 1, 3, 7]"
      ]
     },
     "execution_count": 188,
     "metadata": {},
     "output_type": "execute_result"
    }
   ],
   "source": [
    "from collections import OrderedDict, deque\n",
    "def topView(root):\n",
    "    if not root:\n",
    "        return []\n",
    "    queue = deque([(0, root)]) #(verticle line, node)\n",
    "    m = {}\n",
    "    while queue:\n",
    "        vertical, node = queue.popleft()\n",
    "        if vertical not in m:\n",
    "            m[vertical] = node.val\n",
    "        if node.left:\n",
    "            queue.append((vertical -1, node.left))\n",
    "        if node.right:\n",
    "            queue.append((vertical + 1, node.right))\n",
    "\n",
    "    result = [m[key] for key in sorted(m.keys())]\n",
    "    return result\n",
    "topView(root)"
   ]
  },
  {
   "cell_type": "markdown",
   "id": "1ccfb8bf-9c5c-41d4-93c6-b613845118d0",
   "metadata": {},
   "source": [
    "## Bottom view of Binary Tree"
   ]
  },
  {
   "cell_type": "code",
   "execution_count": 191,
   "id": "3cbe5701-62e6-43ad-bbc6-809ea8f04d9a",
   "metadata": {},
   "outputs": [
    {
     "data": {
      "text/plain": [
       "[4, 2, 6, 3, 7]"
      ]
     },
     "execution_count": 191,
     "metadata": {},
     "output_type": "execute_result"
    }
   ],
   "source": [
    "def bottomView(root):\n",
    "    queue = deque([(0, root)]) #vertical line , node\n",
    "    m = {}\n",
    "    while queue:\n",
    "        vertical, node = queue.popleft()\n",
    "        m[vertical] = node.val\n",
    "        if node.left:\n",
    "            queue.append((vertical - 1, node.left))\n",
    "        if node.right:\n",
    "            queue.append((vertical + 1, node.right))\n",
    "            \n",
    "    result = [m[key] for key in sorted(m.keys())]\n",
    "    return result\n",
    "bottomView(root)"
   ]
  },
  {
   "cell_type": "markdown",
   "id": "5ca549ec-1f2a-482c-8dac-73e94ffe7f53",
   "metadata": {},
   "source": [
    "## Right View of Tree\n",
    "these can be done using level order traversal too "
   ]
  },
  {
   "cell_type": "code",
   "execution_count": 194,
   "id": "b8419593-79c4-47dd-9017-d351b099b35f",
   "metadata": {},
   "outputs": [
    {
     "data": {
      "text/plain": [
       "[1, 3, 7]"
      ]
     },
     "execution_count": 194,
     "metadata": {},
     "output_type": "execute_result"
    }
   ],
   "source": [
    "def rightSideView(root):\n",
    "    #using reverse pre order\n",
    "    # preorder => Root Left Right\n",
    "    # reverse pre order => Root Right Left\n",
    "    def dfs(node,level, result):\n",
    "        if node:\n",
    "            if len(result) == level:\n",
    "                result.append(node.val)\n",
    "            dfs(node.right, level + 1, result)\n",
    "            dfs(node.left, level + 1, result)\n",
    "    result = []\n",
    "    dfs(root, 0, result)\n",
    "    return result\n",
    "rightSideView(root)"
   ]
  },
  {
   "cell_type": "markdown",
   "id": "e1beef8f-30c2-4507-9352-f8f3dcabf688",
   "metadata": {},
   "source": [
    "## Left Side View of binary Tree"
   ]
  },
  {
   "cell_type": "code",
   "execution_count": 199,
   "id": "2278c5f9-0aed-4671-aa7e-ed7b8111e19f",
   "metadata": {},
   "outputs": [
    {
     "data": {
      "text/plain": [
       "[1, 2, 4]"
      ]
     },
     "execution_count": 199,
     "metadata": {},
     "output_type": "execute_result"
    }
   ],
   "source": [
    "def leftSideView(root):\n",
    "    #using reverse pre order\n",
    "    # preorder => Root Left Right\n",
    "    def dfs(node,level, result):\n",
    "        if node:\n",
    "            if len(result) == level:\n",
    "                result.append(node.val)\n",
    "            dfs(node.left, level + 1, result)\n",
    "            dfs(node.right, level + 1, result)\n",
    "    result = []\n",
    "    dfs(root, 0, result)\n",
    "    return result\n",
    "leftSideView(root)"
   ]
  },
  {
   "cell_type": "markdown",
   "id": "be9fd89a-be53-4d1d-b2f9-298af3492205",
   "metadata": {},
   "source": [
    "## Symmetrical Binary Tree"
   ]
  },
  {
   "cell_type": "code",
   "execution_count": 203,
   "id": "85754c3f-8e4d-43dd-9f47-83ce9260b6ce",
   "metadata": {},
   "outputs": [
    {
     "data": {
      "text/plain": [
       "False"
      ]
     },
     "execution_count": 203,
     "metadata": {},
     "output_type": "execute_result"
    }
   ],
   "source": [
    "def isMirror(root1, root2):\n",
    "    if not root1 and not root2:\n",
    "        return True\n",
    "    if root1 and root2 and root1.val == root2.val:\n",
    "        return isMirror(root1.left, root2.right) and isMirror(root1.right, root2.left)\n",
    "    return False\n",
    "def isSymmetric(root):\n",
    "    if root is None:\n",
    "        return True\n",
    "    return isMirror(root.left, root.right)\n",
    "isSymmetric(root)"
   ]
  },
  {
   "cell_type": "markdown",
   "id": "63706e6d-6cce-4955-abc2-c5e298efaa11",
   "metadata": {},
   "source": [
    "## Print root to node path [visit Again]"
   ]
  },
  {
   "cell_type": "code",
   "execution_count": 210,
   "id": "2f03d234-c170-4ed9-b729-570f193d5a9a",
   "metadata": {},
   "outputs": [
    {
     "data": {
      "text/plain": [
       "[1, 3, 6]"
      ]
     },
     "execution_count": 210,
     "metadata": {},
     "output_type": "execute_result"
    }
   ],
   "source": [
    "def getpath(root, val):\n",
    "    if not root:\n",
    "        return []\n",
    "    def inorder(node, result):\n",
    "        if not node:\n",
    "            return False\n",
    "        result.append(node.val)\n",
    "        if node.val == val:\n",
    "            return True\n",
    "        if inorder(node.left, result) or inorder(node.right, result):\n",
    "            return True\n",
    "        result.pop()\n",
    "        return False\n",
    "    result = []\n",
    "    inorder(root, result)\n",
    "    return result\n",
    "getpath(root, 6)"
   ]
  },
  {
   "cell_type": "markdown",
   "id": "ef7965a3-f117-4b1a-a524-e420db1d557e",
   "metadata": {},
   "source": [
    "## Print root to left paths"
   ]
  },
  {
   "cell_type": "code",
   "execution_count": 215,
   "id": "0abdbb5b-16d5-49b5-83cf-05ce7e056af8",
   "metadata": {},
   "outputs": [
    {
     "data": {
      "text/plain": [
       "['1->2->4', '1->2->5', '1->3->6', '1->3->7']"
      ]
     },
     "execution_count": 215,
     "metadata": {},
     "output_type": "execute_result"
    }
   ],
   "source": [
    "def dfs(node, res, curr):\n",
    "        if node.right is None and node.left is None:\n",
    "            curr = curr+str(node.val)\n",
    "            res.append(curr)\n",
    "            return\n",
    "        curr = curr+str(node.val)+\"->\"\n",
    "        if node.left:\n",
    "            dfs(node.left, res, curr)\n",
    "        if node.right:\n",
    "            dfs(node.right, res, curr)\n",
    "def binaryTreePaths(root: Node):\n",
    "    if root is None:\n",
    "        return []\n",
    "    result = []\n",
    "    curr = \"\"\n",
    "    dfs(root, result, curr)\n",
    "    return result\n",
    "binaryTreePaths(root)"
   ]
  },
  {
   "cell_type": "markdown",
   "id": "5a496822-cf0c-4b71-8054-73d6e9738394",
   "metadata": {},
   "source": [
    "## Lowest Common Ancestor [visit again]"
   ]
  },
  {
   "cell_type": "code",
   "execution_count": 218,
   "id": "c8d3beab-8f79-4213-aca0-aa93c7585a32",
   "metadata": {},
   "outputs": [],
   "source": [
    "# first \n",
    "def lowestCommonAncestor(root, p, q):\n",
    "    path1 = getpath(root, p)\n",
    "    path2 = getpath(root, q)\n",
    "\n",
    "    if not path1 or not path2:\n",
    "        return None\n",
    "    lca = None\n",
    "    for i in range(min(len(path1), len(path2))):\n",
    "        if path1[i] == path2[i]:\n",
    "            lca = path1[i]\n",
    "        else:\n",
    "            break\n",
    "    return lca\n",
    "\n",
    "# Second\n",
    "def lca(root, p, q):\n",
    "    # if root is none or root equal to p or q then return root value\n",
    "    if root is None or root == p or root == q:\n",
    "        return root\n",
    "    left = lca(root.left, p, q) # get result from left part\n",
    "    right = lca(root.right, p, q) # get result from right part\n",
    "    \n",
    "    # if left part is returning none then return right part\n",
    "    if left is None:\n",
    "        return right\n",
    "        \n",
    "    #if right part is returning none then return left part\n",
    "    if right is None:\n",
    "        return left\n",
    "    # if non of left and right return None mean they return some value then return the root\n",
    "    return root\n",
    "        "
   ]
  },
  {
   "cell_type": "markdown",
   "id": "c79aaa59-6e85-4089-bcf8-7d2cf197f06c",
   "metadata": {},
   "source": [
    "## Maximum Width of Binary Tree [visit again]"
   ]
  },
  {
   "cell_type": "code",
   "execution_count": 223,
   "id": "8b13ee4f-4dae-4c15-95a8-fa10358ff0bd",
   "metadata": {},
   "outputs": [
    {
     "data": {
      "text/plain": [
       "4"
      ]
     },
     "execution_count": 223,
     "metadata": {},
     "output_type": "execute_result"
    }
   ],
   "source": [
    "def widthOfBinaryTree(root):\n",
    "    if not root:\n",
    "        return 0\n",
    "    \n",
    "    # Initialize the queue for level order traversal\n",
    "    # The queue stores (node, index), where index represents the node's horizontal position\n",
    "    queue = deque([(root, 0)])\n",
    "    max_width = 0\n",
    "    \n",
    "    while queue:\n",
    "        level_length = len(queue)\n",
    "        _, level_head_index = queue[0]  # Get the index of the first node at the current level\n",
    "        for i in range(level_length):\n",
    "            node, index = queue.popleft()\n",
    "            \n",
    "            # Adjust index to be relative to the level to prevent overflow\n",
    "            index -= level_head_index\n",
    "            \n",
    "            # Add left and right children to the queue with their corresponding indices\n",
    "            if node.left:\n",
    "                queue.append((node.left, 2 * index))\n",
    "            if node.right:\n",
    "                queue.append((node.right, 2 * index + 1))\n",
    "            \n",
    "            # After processing all nodes in the level, calculate the width\n",
    "            if i == level_length - 1:\n",
    "                current_width = index + 1\n",
    "                max_width = max(max_width, current_width)\n",
    "    \n",
    "    return max_width\n",
    "widthOfBinaryTree(root)"
   ]
  },
  {
   "cell_type": "code",
   "execution_count": null,
   "id": "16435702-ca32-48eb-ac6d-1e341d2de298",
   "metadata": {},
   "outputs": [],
   "source": []
  },
  {
   "cell_type": "markdown",
   "id": "c961ae31-8c5a-4f1b-925d-36080a4a8770",
   "metadata": {},
   "source": [
    "## Children Sum Property in Binary Tree [visit again]\n",
    "[Question](https://www.geeksforgeeks.org/problems/children-sum-parent/1?utm_source=youtube&utm_medium=collab_striver_ytdescription&utm_campaign=hildren-sum-parent)"
   ]
  },
  {
   "cell_type": "code",
   "execution_count": 230,
   "id": "fd0e5f2a-0376-4d91-8f39-d00f2e1bb719",
   "metadata": {},
   "outputs": [
    {
     "data": {
      "text/plain": [
       "0"
      ]
     },
     "execution_count": 230,
     "metadata": {},
     "output_type": "execute_result"
    }
   ],
   "source": [
    "def isSumProperty(root):\n",
    "    #if root is null or both child nodes are null, we return true.\n",
    "    if root is None :\n",
    "        return 1\n",
    "    if root.left is None and root.right is None:\n",
    "        return 1\n",
    "    \n",
    "\n",
    "    val_node = root.val\n",
    "    val_left , val_right = 0,0\n",
    "\n",
    "\n",
    "    #if left child is not null then we store its value.\n",
    "    if root.left is not None:\n",
    "        val_left = root.left.val\n",
    "\n",
    "    #if right child is not null then we store its value.\n",
    "    if root.right is not None:\n",
    "        val_right = root.right.val\n",
    "\n",
    "    #if sum of stored data of left and right child is equal to the current\n",
    "    #root data and recursively for the left and right subtree, parent data \n",
    "    #is equal to sum of child data then we return true else false.\n",
    "    if val_node != val_left + val_right:\n",
    "        return 0\n",
    "    return (isSumProperty(root.left) & isSumProperty(root.right))\n",
    "isSumProperty(root)\n"
   ]
  },
  {
   "cell_type": "markdown",
   "id": "016cac04-e1c3-4b70-bc08-953f6b3d230f",
   "metadata": {},
   "source": [
    "## Children sum property"
   ]
  },
  {
   "cell_type": "code",
   "execution_count": 239,
   "id": "a440bb68-0353-473b-a72e-532d060a193f",
   "metadata": {},
   "outputs": [
    {
     "name": "stdout",
     "output_type": "stream",
     "text": [
      "22->9->13->4->5->6->7->"
     ]
    }
   ],
   "source": [
    "def childrenSum(root):\n",
    "    if not root:\n",
    "        return \n",
    "    child = 0\n",
    "    if root.left:\n",
    "        child += root.left.val\n",
    "    if root.right:\n",
    "        child += root.right.val\n",
    "\n",
    "    if child >= root.val:\n",
    "        root.val = child\n",
    "    else:\n",
    "        if root.left:\n",
    "            root.left.val = root.val\n",
    "        if root.right:\n",
    "            root.right.val = root.val\n",
    "    childrenSum(root.left)\n",
    "    childrenSum(root.right)\n",
    "    tot = 0\n",
    "    if root.left:\n",
    "        tot += root.left.val\n",
    "    if root.right:\n",
    "        tot += root.right.val\n",
    "    if root.left or root.right:\n",
    "        root.val = tot\n",
    "        \n",
    "childrenSum(root)\n",
    "levelOrderTraversal(root)"
   ]
  },
  {
   "cell_type": "markdown",
   "id": "c265a8d2-fcfd-4a0c-a09c-23fc2275652c",
   "metadata": {},
   "source": [
    "## All Nodes Distance K in Binary Tree"
   ]
  },
  {
   "cell_type": "code",
   "execution_count": 244,
   "id": "a243f41e-9a59-4cbe-98b7-f91d6d922cbe",
   "metadata": {},
   "outputs": [],
   "source": [
    "from collections import defaultdict\n",
    "def nodeAtDistK(root: Node, target: Node, k):\n",
    "    def dfs(node, parent=None):\n",
    "        if node:\n",
    "            node.parent = parent\n",
    "            dfs(node.left, node)\n",
    "            dfs(node.right, node)\n",
    "    dfs(root)\n",
    "    queue = defaultdict()\n",
    "    queue.append((target, 0)) # target , distance\n",
    "    result = []\n",
    "    visited = {target}\n",
    "    while queue:\n",
    "        if queue[0][1] == k:\n",
    "            result = [node.val for node in queue]\n",
    "        node, dist = queue.popleft()\n",
    "        for nei in (node.left, node.right, node.parent):\n",
    "            if nei and not visited[nei]:\n",
    "                visited.add(nei)\n",
    "                queue.append((nei, dist+1))\n",
    "    return []   "
   ]
  },
  {
   "cell_type": "markdown",
   "id": "6531b1d5-14b3-4b69-a3d0-d47da446d7f6",
   "metadata": {},
   "source": [
    "## Minimum time taken to BURN the Binary Tree from a Node"
   ]
  },
  {
   "cell_type": "code",
   "execution_count": 273,
   "id": "1506288f-0572-40cd-8504-7518e8b346e6",
   "metadata": {},
   "outputs": [
    {
     "data": {
      "text/plain": [
       "{<__main__.Node at 0x305b61190>: None,\n",
       " <__main__.Node at 0x305b63740>: <__main__.Node at 0x305b61190>,\n",
       " <__main__.Node at 0x16c0eef30>: <__main__.Node at 0x305b63740>,\n",
       " <__main__.Node at 0x16c0ec740>: <__main__.Node at 0x305b63740>,\n",
       " <__main__.Node at 0x305b62390>: <__main__.Node at 0x305b61190>,\n",
       " <__main__.Node at 0x17796b080>: <__main__.Node at 0x305b62390>,\n",
       " <__main__.Node at 0x17796a720>: <__main__.Node at 0x305b62390>}"
      ]
     },
     "execution_count": 273,
     "metadata": {},
     "output_type": "execute_result"
    }
   ],
   "source": [
    "from collections import deque\n",
    "\n",
    "def markParent(root):\n",
    "    def inorder(node, parents, parent=None):\n",
    "        if node:\n",
    "            parents[node] = parent \n",
    "            inorder(node.left, parents, node)\n",
    "            inorder(node.right, parents, node)\n",
    "    \n",
    "    parents = {}\n",
    "    inorder(root, parents, None)\n",
    "    return parents\n",
    "\n",
    "def miniTimeToBurn(root, target):\n",
    "    parents = markParent(root)\n",
    "    queue = deque([(target, 0)])  # Start with the target node and time 0\n",
    "    visited = {target}  # Add the node itself, not the value\n",
    "    max_time = 0\n",
    "    \n",
    "    while queue:\n",
    "        node, dist = queue.popleft()\n",
    "        max_time = dist  # Update the time at each step\n",
    "        \n",
    "        # Traverse the left, right, and parent nodes\n",
    "        for nei in (node.left, node.right, parents[node]):\n",
    "            if nei and nei not in visited:  # Check if nei exists and is not visited\n",
    "                visited.add(nei)\n",
    "                queue.append((nei, dist + 1))\n",
    "    return max_time\n",
    "markParent(root)"
   ]
  },
  {
   "cell_type": "markdown",
   "id": "ba849680-efcb-4c08-b5b6-379c7cd5d14c",
   "metadata": {},
   "source": [
    "## Count total Nodes in a COMPLETE Binary Tree"
   ]
  },
  {
   "cell_type": "code",
   "execution_count": 284,
   "id": "4ffd97d9-0a39-416a-bbcf-7d298baecc0b",
   "metadata": {},
   "outputs": [
    {
     "name": "stdout",
     "output_type": "stream",
     "text": [
      "7\n"
     ]
    },
    {
     "data": {
      "text/plain": [
       "7"
      ]
     },
     "execution_count": 284,
     "metadata": {},
     "output_type": "execute_result"
    }
   ],
   "source": [
    "def countNodes(root) -> int:\n",
    "    if not root:\n",
    "        return 0\n",
    "    return 1 + countNodes(root.left) + countNodes(root.right)\n",
    "print(countNodes(root))\n",
    "\n",
    "def findLeftHeight(node):\n",
    "    height = 0\n",
    "    while node:\n",
    "        height += 1\n",
    "        node = node.left\n",
    "    return height\n",
    "def findRightHeight(node):\n",
    "    height = 0\n",
    "    while node:\n",
    "        height += 1\n",
    "        node = node.right\n",
    "    return height\n",
    "def countNodes2(root):\n",
    "    if not root:\n",
    "        return 0\n",
    "    lh = findLeftHeight(root)\n",
    "    rh = findRightHeight(root)\n",
    "    if lh == rh:\n",
    "        return 2**lh - 1\n",
    "    return 1 + countNodes2(root.left) + countNodes2(root.right)\n",
    "countNodes2(root)"
   ]
  },
  {
   "cell_type": "markdown",
   "id": "03e2b7eb-4a9f-4bc0-acb3-4a56d2a0548c",
   "metadata": {},
   "source": [
    "## Traversal Required to make a unique binary tree"
   ]
  },
  {
   "cell_type": "code",
   "execution_count": null,
   "id": "674435a1-972a-49e5-b832-ae2b5d55bf0b",
   "metadata": {},
   "outputs": [],
   "source": [
    "# preoder and postorder -> no\n",
    "# Inorder is given with preorder or postorder\n"
   ]
  },
  {
   "cell_type": "markdown",
   "id": "6ad139bf-6aff-4180-93a2-27ec9bda28f5",
   "metadata": {},
   "source": [
    "## Construct a Binary Tree using Inorder and Preorder"
   ]
  },
  {
   "cell_type": "code",
   "execution_count": 288,
   "id": "6b427817-4633-487f-b9e4-acd93ebe3ccb",
   "metadata": {},
   "outputs": [],
   "source": [
    "# Definition for a binary tree node.\n",
    "class TreeNode:\n",
    "    def __init__(self, val=0, left=None, right=None):\n",
    "        self.val = val\n",
    "        self.left = left\n",
    "        self.right = right\n",
    "class Solution:\n",
    "    def buildTree(self, preorder: list[int], inorder: list[int]):\n",
    "        if not preorder or not inorder:\n",
    "            return None\n",
    "\n",
    "        # The first element of preorder is the root\n",
    "        root_val = preorder[0]\n",
    "        root = TreeNode(root_val)\n",
    "\n",
    "        # Find the index of the root in inorder list\n",
    "        mid = inorder.index(root_val)\n",
    "\n",
    "        # Recursively construct the left and right subtrees\n",
    "        root.left = self.buildTree(preorder[1:mid+1], inorder[:mid])\n",
    "        root.right = self.buildTree(preorder[mid+1:], inorder[mid+1:])\n",
    "        return root"
   ]
  },
  {
   "cell_type": "markdown",
   "id": "4ec4b873-b631-47fd-b664-2160fe166b15",
   "metadata": {},
   "source": [
    "## Construct a Binary Tree using Inorder and Postorder"
   ]
  },
  {
   "cell_type": "code",
   "execution_count": null,
   "id": "b11276f2-5706-401a-b6fa-422b4f876e49",
   "metadata": {},
   "outputs": [],
   "source": [
    "# Definition for a binary tree node.\n",
    "class TreeNode:\n",
    "    def __init__(self, val=0, left=None, right=None):\n",
    "        self.val = val\n",
    "        self.left = left\n",
    "        self.right = right\n",
    "\n",
    "class Solution:\n",
    "    def buildTree(self, inorder, postorder):\n",
    "        if not inorder or not postorder:\n",
    "            return None\n",
    "\n",
    "        # The last element of postorder is the root\n",
    "        root_val = postorder.pop()\n",
    "        root = TreeNode(root_val)\n",
    "\n",
    "        # Find the index of the root in inorder list\n",
    "        mid = inorder.index(root_val)\n",
    "\n",
    "        # Recursively build the right subtree first (since we're popping from the end of postorder)\n",
    "        root.right = self.buildTree(inorder[mid+1:], postorder)\n",
    "        # Recursively build the left subtree\n",
    "        root.left = self.buildTree(inorder[:mid], postorder)\n",
    "        \n",
    "        return root\n"
   ]
  },
  {
   "cell_type": "markdown",
   "id": "cb7caaf6-cf5e-4c71-a30c-29d976d6f912",
   "metadata": {},
   "source": [
    "## Serialize and Deserialize BST"
   ]
  },
  {
   "cell_type": "code",
   "execution_count": 292,
   "id": "3e991406-68e3-4286-9bb6-14629feff043",
   "metadata": {},
   "outputs": [],
   "source": [
    "# Definition for a binary tree node.\n",
    "# class TreeNode(object):\n",
    "#     def __init__(self, x):\n",
    "#         self.val = x\n",
    "#         self.left = None\n",
    "#         self.right = None\n",
    "from collections import deque\n",
    "class Codec:\n",
    "\n",
    "    def serialize(self, root):\n",
    "        \"\"\"Encodes a tree to a single string.\n",
    "        \n",
    "        :type root: TreeNode\n",
    "        :rtype: str\n",
    "        \"\"\"\n",
    "        if not root:\n",
    "            return \"\"\n",
    "        queue = deque([root])\n",
    "        result = \"\"\n",
    "        while queue:\n",
    "            node = queue.popleft()\n",
    "            if node is None:\n",
    "                result += \"#,\"\n",
    "            else:\n",
    "                result += str(node.val)\n",
    "                result += \",\"\n",
    "            if node is not None:\n",
    "                queue.append(node.left)\n",
    "                queue.append(node.right)\n",
    "        return result\n",
    "        \n",
    "\n",
    "    def deserialize(self, data):\n",
    "        \"\"\"Decodes your encoded data to tree.\n",
    "        \n",
    "        :type data: str\n",
    "        :rtype: TreeNode\n",
    "        \"\"\"\n",
    "        if data == \"\":\n",
    "            return None\n",
    "\n",
    "        nodes = data.split(',')\n",
    "        i = 0\n",
    "        root = TreeNode(nodes[i])\n",
    "        queue = deque([root])\n",
    "        while queue:\n",
    "            node = queue.popleft()\n",
    "\n",
    "            i+=1\n",
    "            if nodes[i] == '#':\n",
    "                node.left = None\n",
    "            else:\n",
    "                node.left = TreeNode(int(nodes[i]))\n",
    "                queue.append(node.left)\n",
    "\n",
    "            i+=1\n",
    "            if nodes[i] == '#':\n",
    "                node.right = None\n",
    "            else:\n",
    "                node.right = TreeNode(int(nodes[i]))\n",
    "                queue.append(node.right)\n",
    "        return root\n"
   ]
  },
  {
   "cell_type": "markdown",
   "id": "d17e684c-f140-4508-8ce7-de42058efac5",
   "metadata": {},
   "source": [
    "## Morris Traversal [Hard for me to understand]"
   ]
  },
  {
   "cell_type": "code",
   "execution_count": 295,
   "id": "8639a10c-00f6-4951-80fe-73336ffd6c3a",
   "metadata": {},
   "outputs": [],
   "source": [
    "# concept of threaded binary tree\n",
    "class TreeNode:\n",
    "    def __init__(self, val=0, left=None, right=None):\n",
    "        self.val = val\n",
    "        self.left = left\n",
    "        self.right = right\n",
    "\n",
    "def morrisInorderTraversal(root):\n",
    "    current = root\n",
    "    result = []\n",
    "\n",
    "    while current:\n",
    "        if current.left is None:\n",
    "            # No left child, visit the node and move to the right child\n",
    "            result.append(current.val)\n",
    "            current = current.right\n",
    "        else:\n",
    "            # Find the inorder predecessor (rightmost node in the left subtree)\n",
    "            predecessor = current.left\n",
    "            while predecessor.right and predecessor.right != current:\n",
    "                predecessor = predecessor.right\n",
    "\n",
    "            # Establish a temporary link between predecessor and current node\n",
    "            if predecessor.right is None:\n",
    "                predecessor.right = current\n",
    "                current = current.left\n",
    "            else:\n",
    "                # Temporary link already exists, meaning we've processed the left subtree\n",
    "                predecessor.right = None\n",
    "                result.append(current.val)\n",
    "                current = current.right\n",
    "\n",
    "    return result\n"
   ]
  },
  {
   "cell_type": "markdown",
   "id": "70238daf-5af9-4a0e-a95a-463c6101eb15",
   "metadata": {},
   "source": [
    "## Flatten a Binary Tree to Linked List"
   ]
  },
  {
   "cell_type": "code",
   "execution_count": null,
   "id": "b8cd506b-a3e4-4f4b-9b8a-c29b56b92149",
   "metadata": {},
   "outputs": [],
   "source": []
  }
 ],
 "metadata": {
  "kernelspec": {
   "display_name": "Python 3 (ipykernel)",
   "language": "python",
   "name": "python3"
  },
  "language_info": {
   "codemirror_mode": {
    "name": "ipython",
    "version": 3
   },
   "file_extension": ".py",
   "mimetype": "text/x-python",
   "name": "python",
   "nbconvert_exporter": "python",
   "pygments_lexer": "ipython3",
   "version": "3.12.4"
  }
 },
 "nbformat": 4,
 "nbformat_minor": 5
}
