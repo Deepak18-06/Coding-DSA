{
 "cells": [
  {
   "cell_type": "code",
   "execution_count": 3,
   "metadata": {},
   "outputs": [
    {
     "data": {
      "text/plain": [
       "4"
      ]
     },
     "execution_count": 3,
     "metadata": {},
     "output_type": "execute_result"
    }
   ],
   "source": [
    "def fun(string):\n",
    "\toccurances = 0\n",
    "\tfor i in range(len(string)):\n",
    "\t\tif string[i].lower() == 'i':\n",
    "\t\t\toccurances+=1\n",
    "\treturn occurances\n",
    "string = 'India is a country of Asia'\n",
    "fun(string)"
   ]
  },
  {
   "cell_type": "code",
   "execution_count": 30,
   "metadata": {},
   "outputs": [
    {
     "data": {
      "text/plain": [
       "[0, 0, 0, 0, 0, 0, 0, 0, 0, 0, 0, 0, 0, 0, 0, 0, 0, 0, 0, 0, 0, 0, 58, 1, 1, 1]"
      ]
     },
     "execution_count": 30,
     "metadata": {},
     "output_type": "execute_result"
    }
   ],
   "source": [
    "def solve(string):\n",
    "    res = [0 for i in range(26)]\n",
    "    i = 0\n",
    "    while i<len(string):\n",
    "        #print(i)\n",
    "        if string[i:i+2] == '#(':\n",
    "            res[int(string[i-1])-1]-=1\n",
    "            res[int(string[i-2])-1]-=1\n",
    "            k = i+2\n",
    "            while string[k] != ')':\n",
    "                k+=1\n",
    "            res[int(string[i-2:i])-1]+=int(string[i+2:k])\n",
    "            i = k+1\n",
    "        elif string[i] == '(':\n",
    "            k = i+1\n",
    "            while string[k] != ')':\n",
    "                k+=1\n",
    "            res[int(string[i-1])-1]+=int(string[i+1:k]) -1 \n",
    "            i = k+1\n",
    "        elif string[i] == '#':\n",
    "            res[int(string[i-1])-1]-=1\n",
    "            res[int(string[i-2])-1]-=1\n",
    "            res[int(string[i-2:i])-1]+=1\n",
    "            i+=1\n",
    "        else:\n",
    "            res[int(string[i])-1]+=1\n",
    "            i+=1\n",
    "    return res\n",
    "string = '23#(27)24#25#26#23#(31)'\n",
    "solve(string)"
   ]
  },
  {
   "cell_type": "code",
   "execution_count": 15,
   "metadata": {},
   "outputs": [
    {
     "data": {
      "text/plain": [
       "6"
      ]
     },
     "execution_count": 15,
     "metadata": {},
     "output_type": "execute_result"
    }
   ],
   "source": [
    "def solve(cars,k):\n",
    "    n = len(cars)\n",
    "    res = float(\"inf\")\n",
    "    cars.sort()\n",
    "    i = 0\n",
    "    while i<n-k+1:\n",
    "        temp = cars[i+k-1] - cars[i] + 1\n",
    "        res = min(temp,res)\n",
    "        i+=1\n",
    "    return res\n",
    "cars =[6,2,12,7]\n",
    "k = 3\n",
    "solve(cars,k)"
   ]
  },
  {
   "cell_type": "code",
   "execution_count": 1,
   "metadata": {},
   "outputs": [
    {
     "data": {
      "text/plain": [
       "2"
      ]
     },
     "execution_count": 1,
     "metadata": {},
     "output_type": "execute_result"
    }
   ],
   "source": [
    "1^3"
   ]
  },
  {
   "cell_type": "code",
   "execution_count": 11,
   "metadata": {},
   "outputs": [
    {
     "data": {
      "text/plain": [
       "14"
      ]
     },
     "execution_count": 11,
     "metadata": {},
     "output_type": "execute_result"
    }
   ],
   "source": [
    "1^3^4^8"
   ]
  },
  {
   "cell_type": "code",
   "execution_count": 13,
   "metadata": {},
   "outputs": [
    {
     "data": {
      "text/plain": [
       "7"
      ]
     },
     "execution_count": 13,
     "metadata": {},
     "output_type": "execute_result"
    }
   ],
   "source": [
    "6^1"
   ]
  },
  {
   "cell_type": "code",
   "execution_count": 14,
   "metadata": {},
   "outputs": [
    {
     "data": {
      "text/plain": [
       "8"
      ]
     },
     "execution_count": 14,
     "metadata": {},
     "output_type": "execute_result"
    }
   ],
   "source": [
    "14^6"
   ]
  },
  {
   "cell_type": "code",
   "execution_count": null,
   "metadata": {},
   "outputs": [],
   "source": [
    "def nextPrumute(number):\n",
    "    "
   ]
  },
  {
   "cell_type": "code",
   "execution_count": 7,
   "metadata": {},
   "outputs": [
    {
     "name": "stdout",
     "output_type": "stream",
     "text": [
      "4\n",
      "101\n",
      "2\n",
      "2\n",
      "2\n",
      "200\n",
      "102\n",
      "3\n",
      "3\n",
      "3\n",
      "120\n",
      "103\n",
      "1\n",
      "2\n",
      "1\n",
      "50\n",
      "104\n",
      "2\n",
      "5\n",
      "1\n",
      "100\n",
      "200\n",
      "No container found\n",
      "102 27\n"
     ]
    }
   ],
   "source": [
    "class Container:\n",
    "    \n",
    "    def __init__(self,id,length,breadth,height,pricePerSqrFt):\n",
    "        self.id = id\n",
    "        self.length = length\n",
    "        self.breadth = breadth\n",
    "        self.height = height\n",
    "        self.pricePerSqrFt = pricePerSqrFt\n",
    "    def findVolume(self):\n",
    "        return self.length*self.breadth*self.height\n",
    "class PackagingCompany:\n",
    "    def __init__(self,containerList):\n",
    "        self.containerList = containerList\n",
    "    def findContainerCost(self,id):\n",
    "        for container in self.containerList:\n",
    "            if container.id == id:\n",
    "                return container.findVolume*container.pricePerSqrFt\n",
    "        return None\n",
    "    def findLargestContainer(self):\n",
    "        vol = float(\"-inf\")\n",
    "        for container in self.containerList:\n",
    "            if container.findVolume()>vol:\n",
    "                largest = container\n",
    "                vol = container.findVolume()\n",
    "        return largest\n",
    "# main \n",
    "n = int(input())\n",
    "containers=[]\n",
    "for _ in range(n):\n",
    "    id=int(input())\n",
    "    length=int(input())\n",
    "    breadth=int(input())\n",
    "    height=int(input())\n",
    "    pricePerSqrFt=int(input())\n",
    "    cont=Container(id,length,breadth,height,pricePerSqrFt)\n",
    "    containers.append(cont)\n",
    "ID = int(input())\n",
    "results = PackagingCompany(containers)\n",
    "ans= results.findContainerCost(ID)\n",
    "if ans is not None:\n",
    "    print(ans)\n",
    "else:\n",
    "    print('No container found')\n",
    "    \n",
    "ans = results.findLargestContainer()\n",
    "print(str(ans.id)+' '+str(ans.findVolume()))\n",
    "    "
   ]
  },
  {
   "cell_type": "markdown",
   "metadata": {},
   "source": [
    "#### n = int(input())\n",
    "containers=[]\n",
    "for _ in range(n):\n",
    "    id=int(input())\n",
    "    length=int(input())\n",
    "    breadth=int(input())\n",
    "    height=int(input())\n",
    "    pricePerSqrFt=int(input())\n",
    "    cont=container(id,length,breadth,height,pricePerSqrFt)\n",
    "    containers.append(cont)\n",
    "results = packagingcompany(containers)\n",
    "ID = int(input())\n",
    "ans= results.findcontainercost(containerid)\n",
    "if ans is not None:\n",
    "    print(ans)\n",
    "else:\n",
    "    print('No container found')\n",
    "    \n",
    "ans = results.findlargestcontainer()\n",
    "print(str(ans.id)+' '+str(ans.findvolume()))"
   ]
  },
  {
   "cell_type": "code",
   "execution_count": null,
   "metadata": {},
   "outputs": [],
   "source": [
    "class container:\n",
    "    def _init_(self,id,length,breadth,height,pricepersqrft):\n",
    "        self.id=id\n",
    "        self.length=length\n",
    "        self.breadth=breadth\n",
    "        self.height=height\n",
    "        self.pricepersqrft=pricepersqrft\n",
    "        \n",
    "    def findvolume(self):\n",
    "        return self.breadth*self.length*self.height\n",
    "\n",
    "class packagingcompany:\n",
    "    def _init_(self,list):\n",
    "        self.list=list\n",
    "    def findcontainercost(self,id):\n",
    "        for i in range(len(self.list)):\n",
    "            if list[i].id==id:\n",
    "                return list[i].findvolume()*list[i].pricepersqrft\n",
    "    def findlargestcontainer(self):\n",
    "        max=list[0].findvolume()\n",
    "        index=0\n",
    "        for i in range(len(self.list)):\n",
    "            if list[i].findvolume()>max:\n",
    "                max=list[i].findvolume()\n",
    "                index=i\n",
    "        return list[index]\n",
    "    \n",
    "n=int(input())\n",
    "list=[]\n",
    "for i in range(n):\n",
    "    id=int(input())\n",
    "    length=int(input())\n",
    "    breadth=int(input())\n",
    "    height=int(input())\n",
    "    price=int(input())\n",
    "    x=container(id,length,breadth,height,price)\n",
    "    list.append(x)\n",
    "package=packagingcompany(list)\n",
    "containerid=int(input())\n",
    "x=package.findcontainercost(containerid)\n",
    "if x:\n",
    "    print(x)\n",
    "else:\n",
    "    print('No container found')\n",
    "    \n",
    "x=package.findlargestcontainer()\n",
    "print(str(x.id)+' '+str(x.findvolume()))"
   ]
  },
  {
   "cell_type": "code",
   "execution_count": null,
   "metadata": {},
   "outputs": [],
   "source": []
  },
  {
   "cell_type": "code",
   "execution_count": 1,
   "metadata": {},
   "outputs": [
    {
     "ename": "IndexError",
     "evalue": "range object index out of range",
     "output_type": "error",
     "traceback": [
      "\u001b[0;31m---------------------------------------------------------------------------\u001b[0m",
      "\u001b[0;31mIndexError\u001b[0m                                Traceback (most recent call last)",
      "\u001b[0;32m<ipython-input-1-a9d13539c8cd>\u001b[0m in \u001b[0;36m<module>\u001b[0;34m\u001b[0m\n\u001b[1;32m      1\u001b[0m \u001b[0mx\u001b[0m \u001b[0;34m=\u001b[0m \u001b[0mrange\u001b[0m\u001b[0;34m(\u001b[0m\u001b[0;36m6\u001b[0m\u001b[0;34m)\u001b[0m\u001b[0;34m\u001b[0m\u001b[0;34m\u001b[0m\u001b[0m\n\u001b[0;32m----> 2\u001b[0;31m \u001b[0mx\u001b[0m\u001b[0;34m[\u001b[0m\u001b[0;36m6\u001b[0m\u001b[0;34m]\u001b[0m\u001b[0;34m\u001b[0m\u001b[0;34m\u001b[0m\u001b[0m\n\u001b[0m",
      "\u001b[0;31mIndexError\u001b[0m: range object index out of range"
     ]
    }
   ],
   "source": [
    "x = range(6)\n",
    "x[6]"
   ]
  },
  {
   "cell_type": "code",
   "execution_count": 2,
   "metadata": {},
   "outputs": [
    {
     "data": {
      "text/plain": [
       "50"
      ]
     },
     "execution_count": 2,
     "metadata": {},
     "output_type": "execute_result"
    }
   ],
   "source": [
    "len([None]*50)"
   ]
  },
  {
   "cell_type": "markdown",
   "metadata": {},
   "source": [
    "[ques](https://codeforces.com/blog/entry/70917)"
   ]
  },
  {
   "cell_type": "code",
   "execution_count": 10,
   "metadata": {},
   "outputs": [
    {
     "name": "stdout",
     "output_type": "stream",
     "text": [
      "3 5\n",
      "3 7 4\n",
      "0\n"
     ]
    }
   ],
   "source": [
    "n,p = map(int,input().split())\n",
    "arr = list(map(int,input().split()))\n",
    "dp = [0]*(p+1)\n",
    "s = sum(arr)\n",
    "dp[0] = 1\n",
    "for i in range(n):\n",
    "    for j in range(p,arr[i]-1,-1):\n",
    "        dp[i]+=dp[j-arr[i]]\n",
    "print(2**n - 2*sum(dp))"
   ]
  },
  {
   "cell_type": "code",
   "execution_count": 11,
   "metadata": {},
   "outputs": [
    {
     "data": {
      "text/plain": [
       "2"
      ]
     },
     "execution_count": 11,
     "metadata": {},
     "output_type": "execute_result"
    }
   ],
   "source": [
    "def solve(l,k):\n",
    "\tn = len(l)\n",
    "\tdp = [0]*(k+1)\n",
    "\ts = sum(l)\n",
    "\tdp[0] = 1\n",
    "\tfor i in range(n):\n",
    "\t\tfor j in range(k,l[i]-1,-1):\n",
    "\t\t\tdp[j] += dp[j-l[i]]\n",
    "\treturn 2**n - 2*sum(dp)\n",
    "solve([3,7,4],5)"
   ]
  },
  {
   "cell_type": "code",
   "execution_count": null,
   "metadata": {},
   "outputs": [
    {
     "name": "stdout",
     "output_type": "stream",
     "text": [
      "2\n",
      "2\n"
     ]
    }
   ],
   "source": [
    "def solve(n):\n",
    "    n = str(n)\n",
    "    res = []\n",
    "    i = 0\n",
    "    while i<len(n):\n",
    "        num = n[i]\n",
    "        count = 1\n",
    "        while n[i] != num:\n",
    "            count+=1\n",
    "            i+=1\n",
    "        res.append(str(count)+str(num))\n",
    "    print(res)\n",
    "        \n",
    "n = int(input())\n",
    "t = int(input())\n",
    "solve(222423322)"
   ]
  },
  {
   "cell_type": "code",
   "execution_count": 20,
   "metadata": {},
   "outputs": [
    {
     "name": "stdout",
     "output_type": "stream",
     "text": [
      "5\n",
      "90\n"
     ]
    }
   ],
   "source": [
    "from queue import Queue \n",
    "class Main:\n",
    "    def __init__(self):\n",
    "        self.MAX_COUNT = 10000\n",
    "        self.vec = []\n",
    "        self.generateNumbersUtil()\n",
    "        self.n = int(input())\n",
    "        print(self.findSmallestMultiple(self.n)) \n",
    "    def generateNumbersUtil(self): \n",
    "        q = Queue() \n",
    "        q.put(\"9\")  \n",
    "        for count in range(MAX_COUNT, -1, -1): \n",
    "            s1 = q.queue[0]  \n",
    "            q.get() \n",
    "            self.vec.append(s1)  \n",
    "            s2 = s1  \n",
    "            s1 += \"0\"\n",
    "            q.put(s1)  \n",
    "            s2 += \"9\"\n",
    "            q.put(s2) \n",
    "    def findSmallestMultiple(self,n): \n",
    "        for i in range(len(self.vec)): \n",
    "            if (int(self.vec[i]) % n == 0):  \n",
    "                return self.vec[i] \n",
    "c = Main()"
   ]
  },
  {
   "cell_type": "code",
   "execution_count": 21,
   "metadata": {},
   "outputs": [
    {
     "name": "stdout",
     "output_type": "stream",
     "text": [
      "1\n",
      "3\n",
      "21\n"
     ]
    }
   ],
   "source": [
    "class Main:\n",
    "    def __init__(self):\n",
    "        self.number = input()\n",
    "        self.n = int(input())\n",
    "        for i in range(self.n - 1):\n",
    "            self.number = self.countAndSay(self.number)\n",
    "        print(self.number)\n",
    "    def countAndSay(self,curr):\n",
    "        result = ''\n",
    "        i = 0\n",
    "        while i<len(curr):\n",
    "            count = 1\n",
    "            while i+1<len(curr) and curr[i] == curr[i+1]:\n",
    "                i+=1\n",
    "                count+=1\n",
    "            result+=(str(count)+curr[i])\n",
    "            i+=1\n",
    "        return result"
   ]
  },
  {
   "cell_type": "code",
   "execution_count": 40,
   "metadata": {},
   "outputs": [
    {
     "name": "stdout",
     "output_type": "stream",
     "text": [
      "12\n",
      "35\n",
      "41\n",
      "25\n",
      "8\n",
      "12\n",
      "40\n",
      "39\n",
      "45\n",
      "48\n",
      "16\n",
      "49\n",
      "2\n",
      "16\n",
      "7\n",
      "10\n",
      "46\n",
      "36\n",
      "0\n",
      "19\n",
      "44\n",
      "41\n",
      "14\n",
      "27\n",
      "19\n",
      "44\n",
      "17\n",
      "36\n",
      "10\n",
      "38\n",
      "44\n",
      "18\n",
      "17\n",
      "28\n",
      "9\n",
      "15\n",
      "14\n",
      "8\n",
      "10\n",
      "1\n",
      "44\n",
      "15\n",
      "21\n",
      "45\n",
      "17\n",
      "5\n",
      "7\n",
      "39\n",
      "6\n",
      "3\n"
     ]
    },
    {
     "data": {
      "text/plain": [
       "'11101101111111111110000000000000000000000000000000'"
      ]
     },
     "execution_count": 40,
     "metadata": {},
     "output_type": "execute_result"
    }
   ],
   "source": [
    "import heapq\n",
    "def booleanDeque(n, operations):\n",
    "    res = ['0' for i in range(n)]\n",
    "    ls = 0\n",
    "    heap = [0]\n",
    "    for i in range(len(operations)):\n",
    "        if operations[i] == 'L' and ls < n:\n",
    "            if res[ls] == '0':\n",
    "                res[ls] = '1'\n",
    "                ls+=1\n",
    "            else:\n",
    "                k = heapq.heappop(heap)\n",
    "                res[k] = '1'\n",
    "                ls = k+1\n",
    "        elif operations[i][0] == 'C':\n",
    "            ind = int(operations[i][1:])\n",
    "            res[ind] = '0'\n",
    "            print(ind)\n",
    "            ls = min(ls,ind)\n",
    "            heapq.heappush(heap,ind)\n",
    "    return ''.join(map(str,res))\n",
    "arr = [\"L\", \n",
    " \"L\", \n",
    " \"L\", \n",
    " \"L\", \n",
    " \"L\", \n",
    " \"C12\", \n",
    " \"L\", \n",
    " \"C35\", \n",
    " \"L\", \n",
    " \"L\", \n",
    " \"C41\", \n",
    " \"L\", \n",
    " \"C25\", \n",
    " \"C8\", \n",
    " \"C12\", \n",
    " \"L\", \n",
    " \"L\", \n",
    " \"L\", \n",
    " \"C40\", \n",
    " \"C39\", \n",
    " \"C45\", \n",
    " \"C48\", \n",
    " \"L\", \n",
    " \"C16\", \n",
    " \"L\", \n",
    " \"C49\", \n",
    " \"L\", \n",
    " \"L\", \n",
    " \"L\", \n",
    " \"C2\", \n",
    " \"C16\", \n",
    " \"L\", \n",
    " \"C7\", \n",
    " \"C10\", \n",
    " \"C46\", \n",
    " \"L\", \n",
    " \"L\", \n",
    " \"L\", \n",
    " \"C36\", \n",
    " \"C0\", \n",
    " \"C19\", \n",
    " \"C44\", \n",
    " \"C41\", \n",
    " \"C14\", \n",
    " \"L\", \n",
    " \"C27\", \n",
    " \"C19\", \n",
    " \"L\", \n",
    " \"L\", \n",
    " \"C44\", \n",
    " \"L\", \n",
    " \"L\", \n",
    " \"L\", \n",
    " \"L\", \n",
    " \"C17\", \n",
    " \"C36\", \n",
    " \"C10\", \n",
    " \"C38\", \n",
    " \"C44\", \n",
    " \"C18\", \n",
    " \"C17\", \n",
    " \"C28\", \n",
    " \"L\", \n",
    " \"L\", \n",
    " \"L\", \n",
    " \"L\", \n",
    " \"C9\", \n",
    " \"L\", \n",
    " \"C15\", \n",
    " \"L\", \n",
    " \"L\", \n",
    " \"L\", \n",
    " \"L\", \n",
    " \"L\", \n",
    " \"C14\", \n",
    " \"C8\", \n",
    " \"L\", \n",
    " \"L\", \n",
    " \"C10\", \n",
    " \"C1\", \n",
    " \"C44\", \n",
    " \"C15\", \n",
    " \"L\", \n",
    " \"C21\", \n",
    " \"L\", \n",
    " \"L\", \n",
    " \"C45\", \n",
    " \"L\", \n",
    " \"C17\", \n",
    " \"L\", \n",
    " \"C5\", \n",
    " \"L\", \n",
    " \"C7\", \n",
    " \"L\", \n",
    " \"C39\", \n",
    " \"L\", \n",
    " \"L\", \n",
    " \"L\", \n",
    " \"C6\", \n",
    " \"C3\"]\n",
    "booleanDeque(50,arr)"
   ]
  },
  {
   "cell_type": "code",
   "execution_count": 10,
   "metadata": {},
   "outputs": [],
   "source": [
    "arr = [0 for i in range(50)]"
   ]
  },
  {
   "cell_type": "code",
   "execution_count": 11,
   "metadata": {},
   "outputs": [],
   "source": [
    "expected = \"11101101111111111111111111111100000000000000000000\"\n",
    "           '11101101111111111110000000000000000000000000000000'"
   ]
  },
  {
   "cell_type": "code",
   "execution_count": null,
   "metadata": {},
   "outputs": [],
   "source": [
    "arr = [\"L\", \n",
    " \"L\", \n",
    " \"L\", \n",
    " \"L\", \n",
    " \"L\", \n",
    " \"C12\", \n",
    " \"L\", \n",
    " \"C35\", \n",
    " \"L\", \n",
    " \"L\", \n",
    " \"C41\", \n",
    " \"L\", \n",
    " \"C25\", \n",
    " \"C8\", \n",
    " \"C12\", \n",
    " \"L\", \n",
    " \"L\", \n",
    " \"L\", \n",
    " \"C40\", \n",
    " \"C39\", \n",
    " \"C45\", \n",
    " \"C48\", \n",
    " \"L\", \n",
    " \"C16\", \n",
    " \"L\", \n",
    " \"C49\", \n",
    " \"L\", \n",
    " \"L\", \n",
    " \"L\", \n",
    " \"C2\", \n",
    " \"C16\", \n",
    " \"L\", \n",
    " \"C7\", \n",
    " \"C10\", \n",
    " \"C46\", \n",
    " \"L\", \n",
    " \"L\", \n",
    " \"L\", \n",
    " \"C36\", \n",
    " \"C0\", \n",
    " \"C19\", \n",
    " \"C44\", \n",
    " \"C41\", \n",
    " \"C14\", \n",
    " \"L\", \n",
    " \"C27\", \n",
    " \"C19\", \n",
    " \"L\", \n",
    " \"L\", \n",
    " \"C44\", \n",
    " \"L\", \n",
    " \"L\", \n",
    " \"L\", \n",
    " \"L\", \n",
    " \"C17\", \n",
    " \"C36\", \n",
    " \"C10\", \n",
    " \"C38\", \n",
    " \"C44\", \n",
    " \"C18\", \n",
    " \"C17\", \n",
    " \"C28\", \n",
    " \"L\", \n",
    " \"L\", \n",
    " \"L\", \n",
    " \"L\", \n",
    " \"C9\", \n",
    " \"L\", \n",
    " \"C15\", \n",
    " \"L\", \n",
    " \"L\", \n",
    " \"L\", \n",
    " \"L\", \n",
    " \"L\", \n",
    " \"C14\", \n",
    " \"C8\", \n",
    " \"L\", \n",
    " \"L\", \n",
    " \"C10\", \n",
    " \"C1\", \n",
    " \"C44\", \n",
    " \"C15\", \n",
    " \"L\", \n",
    " \"C21\", \n",
    " \"L\", \n",
    " \"L\", \n",
    " \"C45\", \n",
    " \"L\", \n",
    " \"C17\", \n",
    " \"L\", \n",
    " \"C5\", \n",
    " \"L\", \n",
    " \"C7\", \n",
    " \"L\", \n",
    " \"C39\", \n",
    " \"L\", \n",
    " \"L\", \n",
    " \"L\", \n",
    " \"C6\", \n",
    " \"C3\"]"
   ]
  },
  {
   "cell_type": "code",
   "execution_count": 34,
   "metadata": {},
   "outputs": [],
   "source": [
    "a = [0,6,-1,5]\n",
    "heapq.heapify(a)\n",
    "\n",
    "heapq.heappush(a,9)"
   ]
  },
  {
   "cell_type": "code",
   "execution_count": 35,
   "metadata": {},
   "outputs": [
    {
     "name": "stdout",
     "output_type": "stream",
     "text": [
      "-1\n"
     ]
    }
   ],
   "source": [
    "print(heapq.heappop(a))"
   ]
  },
  {
   "cell_type": "code",
   "execution_count": 41,
   "metadata": {},
   "outputs": [
    {
     "data": {
      "text/plain": [
       "False"
      ]
     },
     "execution_count": 41,
     "metadata": {},
     "output_type": "execute_result"
    }
   ],
   "source": [
    "expected == '11101101111111111110000000000000000000000000000000'"
   ]
  },
  {
   "cell_type": "code",
   "execution_count": 44,
   "metadata": {},
   "outputs": [
    {
     "data": {
      "text/plain": [
       "-5"
      ]
     },
     "execution_count": 44,
     "metadata": {},
     "output_type": "execute_result"
    }
   ],
   "source": [
    "def solve(n):\n",
    "    res = 0\n",
    "    n = str(n)\n",
    "    for i in range(len(n)):\n",
    "        if i%2 == 0:\n",
    "            res+=int(n[i])\n",
    "        else:\n",
    "            res-=int(n[i])\n",
    "    return res\n",
    "solve(104956)"
   ]
  },
  {
   "cell_type": "code",
   "execution_count": 46,
   "metadata": {},
   "outputs": [
    {
     "data": {
      "text/plain": [
       "True"
      ]
     },
     "execution_count": 46,
     "metadata": {},
     "output_type": "execute_result"
    }
   ],
   "source": [
    "def solve(a,b):\n",
    "    dictionary = set()\n",
    "    for i in range(len(a)):\n",
    "        temp = a[i]\n",
    "        dictionary.add(temp)\n",
    "        for j in range(i+1,len(a)):\n",
    "            temp+=a[j]\n",
    "            dictionary.add(temp)\n",
    "    for word in b:\n",
    "        if word not in dictionary:\n",
    "            return False\n",
    "    return True\n",
    "a = ['one','two','three']\n",
    "b = ['onetwo','one']\n",
    "solve(a,b)"
   ]
  },
  {
   "cell_type": "code",
   "execution_count": 6,
   "metadata": {},
   "outputs": [
    {
     "data": {
      "text/plain": [
       "True"
      ]
     },
     "execution_count": 6,
     "metadata": {},
     "output_type": "execute_result"
    }
   ],
   "source": [
    "def dfs(i,j,obstackles,teleports,m,n):\n",
    "    if i == n-1 and j == m-1:\n",
    "        return True\n",
    "    if i<0 or i>=n or j<0 or j>=m or [i,j] in obstackles:\n",
    "        return False\n",
    "    for teleport in teleports:\n",
    "        if i == teleport[0] and j == teleport[1]:\n",
    "            return dfs(teleport[2],teleport[3],obstackles,teleports,m,n)\n",
    "    return dfs(i,j+1,obstackles,teleports,m,n)\n",
    "def solve(n,m,obstackles,teleports):\n",
    "    return dfs(0,0,obstackles,teleports,m,n)\n",
    "    \n",
    "n = 3\n",
    "m = 4\n",
    "obstackles = [[2,0],[1,0]]\n",
    "teleports = [[0,1,1,1],[1,2,0,2],[0,3,2,1]]\n",
    "solve(n,m,obstackles,teleports)"
   ]
  },
  {
   "cell_type": "code",
   "execution_count": 7,
   "metadata": {},
   "outputs": [
    {
     "ename": "ModuleNotFoundError",
     "evalue": "No module named 'googleapiclient'",
     "output_type": "error",
     "traceback": [
      "\u001b[0;31m---------------------------------------------------------------------------\u001b[0m",
      "\u001b[0;31mModuleNotFoundError\u001b[0m                       Traceback (most recent call last)",
      "\u001b[0;32m<ipython-input-7-9169713c0abc>\u001b[0m in \u001b[0;36m<module>\u001b[0;34m\u001b[0m\n\u001b[1;32m      2\u001b[0m \u001b[0;32mimport\u001b[0m \u001b[0mre\u001b[0m\u001b[0;34m\u001b[0m\u001b[0;34m\u001b[0m\u001b[0m\n\u001b[1;32m      3\u001b[0m \u001b[0;32mfrom\u001b[0m \u001b[0mdatetime\u001b[0m \u001b[0;32mimport\u001b[0m \u001b[0mtimedelta\u001b[0m\u001b[0;34m\u001b[0m\u001b[0;34m\u001b[0m\u001b[0m\n\u001b[0;32m----> 4\u001b[0;31m \u001b[0;32mfrom\u001b[0m \u001b[0mgoogleapiclient\u001b[0m\u001b[0;34m.\u001b[0m\u001b[0mdiscovery\u001b[0m \u001b[0;32mimport\u001b[0m \u001b[0mbuild\u001b[0m\u001b[0;34m\u001b[0m\u001b[0;34m\u001b[0m\u001b[0m\n\u001b[0m\u001b[1;32m      5\u001b[0m \u001b[0;34m\u001b[0m\u001b[0m\n\u001b[1;32m      6\u001b[0m \u001b[0mapi_key\u001b[0m \u001b[0;34m=\u001b[0m \u001b[0mos\u001b[0m\u001b[0;34m.\u001b[0m\u001b[0menviron\u001b[0m\u001b[0;34m.\u001b[0m\u001b[0mget\u001b[0m\u001b[0;34m(\u001b[0m\u001b[0;34m'YT_API_KEY'\u001b[0m\u001b[0;34m)\u001b[0m\u001b[0;34m\u001b[0m\u001b[0;34m\u001b[0m\u001b[0m\n",
      "\u001b[0;31mModuleNotFoundError\u001b[0m: No module named 'googleapiclient'"
     ]
    }
   ],
   "source": [
    "import os\n",
    "import re\n",
    "from datetime import timedelta\n",
    "from googleapiclient.discovery import build\n",
    "\n",
    "api_key = os.environ.get('YT_API_KEY')\n",
    "\n",
    "youtube = build('utube', 'v3', developerKey=api_key)\n",
    "\n",
    "hours_pattern = re.compile(r'(\\d+)H')\n",
    "minutes_pattern = re.compile(r'(\\d+)M')\n",
    "seconds_pattern = re.compile(r'(\\d+)S')\n",
    "\n",
    "total_seconds = 0\n",
    "\n",
    "\n",
    "nextPageToken = None\n",
    "while True:\n",
    "    pl_request = utube.playlistItems().list(\n",
    "        part='contentDetails',\n",
    "        playlistId=\"PL-osiE80TeTt2d9bfVyTiXJA-UTHn6WwU\",\n",
    "        maxResults=50,\n",
    "        pageToken=nextPageToken\n",
    "    )\n",
    "\n",
    "    pl_response = pl_request.execute()\n",
    "\n",
    "    vid_ids = []\n",
    "    for item in pl_response['items']:\n",
    "        vid_ids.append(item['contentDetails']['videoId'])\n",
    "\n",
    "    vid_request = youtube.videos().list(\n",
    "        part=\"contentDetails\",\n",
    "        id=','.join(vid_ids)\n",
    "    )\n",
    "\n",
    "    vid_response = vid_request.execute()\n",
    "\n",
    "    for item in vid_response['items']:\n",
    "        duration = item['contentDetails']['duration']\n",
    "\n",
    "        hours = hours_pattern.search(duration)\n",
    "        minutes = minutes_pattern.search(duration)\n",
    "        seconds = seconds_pattern.search(duration)\n",
    "\n",
    "        hours = int(hours.group(1)) if hours else 0\n",
    "        minutes = int(minutes.group(1)) if minutes else 0\n",
    "        seconds = int(seconds.group(1)) if seconds else 0\n",
    "\n",
    "        video_seconds = timedelta(\n",
    "            hours=hours,\n",
    "            minutes=minutes,\n",
    "            seconds=seconds\n",
    "        ).total_seconds()\n",
    "\n",
    "        total_seconds += video_seconds\n",
    "\n",
    "    nextPageToken = pl_response.get('nextPageToken')\n",
    "\n",
    "    if not nextPageToken:\n",
    "        break\n",
    "\n",
    "total_seconds = int(total_seconds)\n",
    "\n",
    "minutes, seconds = divmod(total_seconds, 60)\n",
    "hours, minutes = divmod(minutes, 60)\n",
    "\n",
    "print(f'{hours}:{minutes}:{seconds}')"
   ]
  },
  {
   "cell_type": "code",
   "execution_count": 3,
   "metadata": {},
   "outputs": [
    {
     "name": "stdout",
     "output_type": "stream",
     "text": [
      "[0, 0, 0, 0, 0, 0, 0, 0]\n"
     ]
    }
   ],
   "source": [
    "def merge(numbers,i,j,k):\n",
    "    mergedSize = k-i+1\n",
    "    mergePos = 0\n",
    "    leftPos = 0\n",
    "    rightPos = 0\n",
    "    mergedNumbers = [0 for i in range(mergedSize)]\n",
    "    leftPos = i\n",
    "    rightPos = j+1\n",
    "    while leftPos<j and rightPos<k:\n",
    "        if numbers[leftPos]<=numbers[rightPos]:\n",
    "            mergedNumbers[mergePos] = numbers[leftPos]\n",
    "            leftPos+=1\n",
    "        else:\n",
    "            mergedNumbers[mergePos] = numbers[rightPos]\n",
    "            rightPos+=1\n",
    "        mergePos+=1\n",
    "    while leftPos<j:\n",
    "        mergedNumbers[mergePos] = numbers[leftPos]\n",
    "        leftPos+=1\n",
    "        mergePos+=1\n",
    "    while rightPos<i:\n",
    "        mergedNumbers[mergePos] = numbers[rightPos]\n",
    "        rightPos += 1\n",
    "        mergePos+=1\n",
    "    for mergePos in range(mergedSize):\n",
    "        numbers[i+mergePos] = mergedNumbers[mergePos]\n",
    "def mergeSort(numbers,i,k):\n",
    "    j = 0\n",
    "    if (i<k):\n",
    "        j = (i+k)//2\n",
    "        mergeSort(numbers,i,j)\n",
    "        mergeSort(numbers,j+1,k)\n",
    "        merge(numbers,i,j,k)\n",
    "arr = [10,2,78,4,45,32,7,11]\n",
    "mergeSort(arr,0,7)\n",
    "print(arr)"
   ]
  },
  {
   "cell_type": "code",
   "execution_count": 31,
   "metadata": {},
   "outputs": [
    {
     "data": {
      "text/plain": [
       "12"
      ]
     },
     "execution_count": 31,
     "metadata": {},
     "output_type": "execute_result"
    }
   ],
   "source": [
    "def gcd(a,b):\n",
    "    if b == 0:\n",
    "        return a\n",
    "    return gcd(b,a%b)\n",
    "def solve(expression):\n",
    "    a1,b1 = expression.split('/')\n",
    "    a1 = a1[1:-1]\n",
    "    b1 = b1[1:-1]\n",
    "    a1 = list(map(int,a1.split('+')))\n",
    "    b1 = list(map(int,b1.split('+')))\n",
    "    a1 = sum(a1)\n",
    "    b1 = sum(b1)\n",
    "    d = gdd(a1,b1)\n",
    "    print(a1,b1,d)\n",
    "gcd(60,48)"
   ]
  },
  {
   "cell_type": "code",
   "execution_count": 29,
   "metadata": {},
   "outputs": [
    {
     "data": {
      "text/plain": [
       "'8/1'"
      ]
     },
     "execution_count": 29,
     "metadata": {},
     "output_type": "execute_result"
    }
   ],
   "source": [
    "def gcd(a,b):\n",
    "    if b == 0:\n",
    "        return a\n",
    "    return gcd(b,a%b)\n",
    "\n",
    "from fractions import Fraction\n",
    "def solve(expression):\n",
    "    a1,b1 = expression.split('/')\n",
    "    a1 = a1[1:-1]\n",
    "    b1 = b1[1:-1]\n",
    "    a1 = list(map(int,a1.split('+')))\n",
    "    b1 = list(map(int,b1.split('+')))\n",
    "    a1 = sum(a1)\n",
    "    b1 = sum(b1)\n",
    "    s = str(Fraction(a1,b1))\n",
    "    if '/' not in s:\n",
    "        return s+'/'+'1'\n",
    "    return s\n",
    "expres = '(1+3+4)/(1)'\n",
    "solve(expres)"
   ]
  },
  {
   "cell_type": "code",
   "execution_count": 47,
   "metadata": {},
   "outputs": [
    {
     "name": "stdout",
     "output_type": "stream",
     "text": [
      "1\n",
      "1\n",
      "1\n",
      "[16, 20]\n",
      "[inf, 1]\n",
      "[inf, 0]\n"
     ]
    }
   ],
   "source": [
    "from copy import deepcopy\n",
    "def maximamize_cheese(grid,n,m):\n",
    "    temp = deepcopy(grid[-1][-1])\n",
    "    print(temp)\n",
    "    if n == 1 and m == 1:\n",
    "        return grid[0][0]\n",
    "    dp = [[ 0 for i in range(m)] for j in range(n)]\n",
    "    dp[0][0] = grid[0][0]\n",
    "    for i in range(n):\n",
    "        for j in range(1,m):\n",
    "            if i == 0:\n",
    "                dp[i][j] = dp[i][j-1] + grid[i][j]\n",
    "    for i in range(1,n):\n",
    "        for j in range(m):\n",
    "            if j == 0:\n",
    "                dp[i][j] = dp[i-1][j] + grid[i][j]\n",
    "    print(temp)\n",
    "    for i in range(n):\n",
    "        for j in range(m):\n",
    "            if i+1<n and j+1<m:\n",
    "                if grid[i+1][j]>grid[i][j+1]:\n",
    "                    dp[i][j] += grid[i+1][j]\n",
    "                    grid[i+1][j] = float(\"inf\")\n",
    "                else:\n",
    "                    dp[i][j]+=grid[i][j+1]\n",
    "                    grid[i][j+1] = float(\"inf\")\n",
    "            elif i+1<n and j+1>=m:\n",
    "                dp[i][j] +=grid[i+1][j]\n",
    "                grid[i+1][j] = float(\"inf\")\n",
    "            elif  i+1>=n and j+1<m:\n",
    "                dp[i][j] += grid[i][j+1]\n",
    "                grid[i][j+1] = float(\"inf\")\n",
    "    print(temp)\n",
    "    grid[-1][-1] = temp            \n",
    "    for row in dp:\n",
    "        print(row)            \n",
    "            \n",
    "grid = [\n",
    "    [6,10],\n",
    "    [10,4],\n",
    "    [9,1]\n",
    "]\n",
    "maximamize_cheese(grid,3,2)"
   ]
  },
  {
   "cell_type": "code",
   "execution_count": 37,
   "metadata": {},
   "outputs": [
    {
     "name": "stdout",
     "output_type": "stream",
     "text": [
      "5\n",
      "2\n",
      "1\n",
      "4\n",
      "2\n",
      "4\n",
      "[4]\n"
     ]
    }
   ],
   "source": [
    "def solve():\n",
    "    x = int(input())\n",
    "    n = int(input())\n",
    "    students = []\n",
    "    for i in range(n):\n",
    "        k = int(input())\n",
    "        s = list(map(int,input().split()))\n",
    "        students.append(s)\n",
    "    print(s)\n",
    "solve()\n",
    "        \n",
    "    \n",
    "    "
   ]
  },
  {
   "cell_type": "code",
   "execution_count": 41,
   "metadata": {},
   "outputs": [
    {
     "name": "stdout",
     "output_type": "stream",
     "text": [
      "40\n"
     ]
    }
   ],
   "source": [
    "def cheesePickup(grid):\n",
    "        m = len(grid)\n",
    "        n = len(grid[0])\n",
    "        dp = [[[0]*n for _ in range(n)] for __ in range(m)]\n",
    "\n",
    "        for row in reversed(range(m)):\n",
    "            for col1 in range(n):\n",
    "                for col2 in range(n):\n",
    "                    result = 0\n",
    "                    result += grid[row][col1]\n",
    "                    if col1 != col2:\n",
    "                        result += grid[row][col2]\n",
    "                    if row != m-1:\n",
    "                        result += max(dp[row+1][new_col1][new_col2]\n",
    "                                      for new_col1 in [col1, col1+1, col1-1]\n",
    "                                      for new_col2 in [col2, col2+1, col2-1]\n",
    "                                      if 0 <= new_col1 < n and 0 <= new_col2 < n)\n",
    "                    dp[row][col1][col2] = result\n",
    "        return dp[0][0][n-1]\n",
    "        \n",
    "grid = [[6,10],[10,4],[9,1]]\n",
    "print(cheesePickup(grid))"
   ]
  },
  {
   "cell_type": "code",
   "execution_count": 1,
   "metadata": {},
   "outputs": [
    {
     "name": "stdout",
     "output_type": "stream",
     "text": [
      "[-1, -2, -2, 3]\n"
     ]
    },
    {
     "data": {
      "text/plain": [
       "[2, 3]"
      ]
     },
     "execution_count": 1,
     "metadata": {},
     "output_type": "execute_result"
    }
   ],
   "source": [
    "def findErrorNums(nums):\n",
    "    res = []\n",
    "    for i in range(len(nums)):\n",
    "        if nums[abs(nums[i])-1]>0:\n",
    "            nums[abs(nums[i])-1] = -nums[abs(nums[i])-1]\n",
    "        else:\n",
    "            res.append(abs(nums[i]))\n",
    "    print(nums)\n",
    "    for i in range(len(nums)):\n",
    "        if nums[i]>0:\n",
    "            res.append(i+1)\n",
    "    return res\n",
    "nums = [1,2,2,3]\n",
    "findErrorNums(nums)"
   ]
  },
  {
   "cell_type": "code",
   "execution_count": null,
   "metadata": {},
   "outputs": [],
   "source": [
    "import heapq\n",
    "def solve(capacity,foreground,background):\n",
    "    foreground.sort(key = lambda x:x[1])\n",
    "    background.sort(key = lambda x:x[1])\n",
    "    background = background[::-1]\n",
    "    res = [[]]\n",
    "    i = 0\n",
    "    j = 0\n",
    "    while i<len(foreground) and j<len(background):\n",
    "        foregound[i][0]\n",
    "    \n",
    "        \n",
    "        "
   ]
  },
  {
   "cell_type": "code",
   "execution_count": 2,
   "metadata": {},
   "outputs": [],
   "source": [
    "a,b = [2,3]"
   ]
  },
  {
   "cell_type": "code",
   "execution_count": 4,
   "metadata": {},
   "outputs": [
    {
     "data": {
      "text/plain": [
       "[]"
      ]
     },
     "execution_count": 4,
     "metadata": {},
     "output_type": "execute_result"
    }
   ],
   "source": [
    "a\n",
    "\n",
    "[[]][0]"
   ]
  },
  {
   "cell_type": "code",
   "execution_count": 1,
   "metadata": {},
   "outputs": [
    {
     "data": {
      "text/plain": [
       "11"
      ]
     },
     "execution_count": 1,
     "metadata": {},
     "output_type": "execute_result"
    }
   ],
   "source": [
    "def solve(arr):\n",
    "    sum_here = 0\n",
    "    max_so_far = float(\"-inf\")\n",
    "    for i in range(len(arr)):\n",
    "        sum_here+=arr[i]\n",
    "        if sum_here <=arr[i]:\n",
    "            sum_here = arr[i]\n",
    "        elif sum_here>max_so_far:\n",
    "            max_so_far = sum_here\n",
    "    return max_so_far\n",
    "arr = [0,2,3,-2,8]\n",
    "solve(arr)"
   ]
  },
  {
   "cell_type": "code",
   "execution_count": 1,
   "metadata": {},
   "outputs": [],
   "source": [
    "add = lambda a,b:a+b"
   ]
  },
  {
   "cell_type": "code",
   "execution_count": 2,
   "metadata": {},
   "outputs": [
    {
     "data": {
      "text/plain": [
       "5"
      ]
     },
     "execution_count": 2,
     "metadata": {},
     "output_type": "execute_result"
    }
   ],
   "source": [
    "add(2,3)"
   ]
  },
  {
   "cell_type": "code",
   "execution_count": 5,
   "metadata": {},
   "outputs": [],
   "source": [
    "eo = lambda n:n%2==0\n"
   ]
  },
  {
   "cell_type": "code",
   "execution_count": 6,
   "metadata": {},
   "outputs": [
    {
     "data": {
      "text/plain": [
       "True"
      ]
     },
     "execution_count": 6,
     "metadata": {},
     "output_type": "execute_result"
    }
   ],
   "source": [
    "eo(14)"
   ]
  },
  {
   "cell_type": "code",
   "execution_count": 9,
   "metadata": {},
   "outputs": [
    {
     "name": "stdout",
     "output_type": "stream",
     "text": [
      "1,2;2,3\n",
      "1 2\n",
      "2 3\n"
     ]
    }
   ],
   "source": [
    "def solve(arr,curr):\n",
    "        pp,ch = int(arr[0]),int(arr[1])\n",
    "        if pp == ch:\n",
    "            return \"ZERO\"\n",
    "        elif int(ch)<int(pp):\n",
    "            result.append(\"ERROR\")\n",
    "        else:\n",
    "            temp = {}\n",
    "            rem = int(pp)-int(ch)\n",
    "            \n",
    "    return ','.join(map(str,result))\n",
    "arr = list(map(str,input().split(\";\")))\n",
    "curr = {'.01':'PENNY','.05':'NICKEL','.10':'DIME'}\n",
    "solve(arr,curr)\n"
   ]
  },
  {
   "cell_type": "code",
   "execution_count": 1,
   "metadata": {},
   "outputs": [
    {
     "name": "stdout",
     "output_type": "stream",
     "text": [
      "height :  3\n"
     ]
    }
   ],
   "source": [
    "class Node:\n",
    "    def __init__(self, key):\n",
    "        self.data = key\n",
    "        self.left = None\n",
    "        self.right = None\n",
    "class UserMainMethod:\n",
    "    def buildTree(self,level, ino):\n",
    "        if ino:\n",
    "            for i in range(0, len(level)):\n",
    "                if level[i] in ino: \n",
    "                    node = Node(level[i]) \n",
    "                    io_index = ino.index(level[i])\n",
    "                    break\n",
    "            if not ino:\n",
    "                return node\n",
    "            node.left = self.buildTree(level, ino[0:io_index])\n",
    "            node.right = self.buildTree(level, ino[io_index + 1:len(ino)])\n",
    "            return node\n",
    "    def height(self,root):\n",
    "        if root is None:\n",
    "            return 0 \n",
    "        else:\n",
    "            return max(self.height(root.left),self.height(root.right))+1\n",
    "    @classmethod\n",
    "    def minHeight(cls,input1,input2,input3):\n",
    "        global root\n",
    "        root = self.buildTree(input1, input2)\n",
    "        return self.height(root)\n",
    "\n",
    "\n",
    "inorder = [4,2,5,1,6,3,7]\n",
    "levelorder = [1,2,3,4,5,6,7]\n",
    "print(\"height : \",minHeight(levelorder,inorder,len(inorder)))"
   ]
  },
  {
   "cell_type": "code",
   "execution_count": 6,
   "metadata": {},
   "outputs": [
    {
     "data": {
      "text/plain": [
       "3"
      ]
     },
     "execution_count": 6,
     "metadata": {},
     "output_type": "execute_result"
    }
   ],
   "source": [
    "import math\n",
    "int(math.log2(5))+1"
   ]
  },
  {
   "cell_type": "code",
   "execution_count": 8,
   "metadata": {},
   "outputs": [
    {
     "name": "stdout",
     "output_type": "stream",
     "text": [
      "2\n",
      "3\n",
      "2\n",
      "10\n",
      "91\n"
     ]
    }
   ],
   "source": [
    "import math\n",
    "for i in range(int(input())):\n",
    "    c = int(input())\n",
    "    i = 1\n",
    "    x = 0\n",
    "    while x<=c:\n",
    "        x = 2**i\n",
    "        i+=1\n",
    "    i-=2\n",
    "    num_of_bits = int(math.log2(c))+1\n",
    "    temp = ((1<<num_of_bits)-1)^c\n",
    "    temp+=2**i\n",
    "    temp2 = 2**i -1\n",
    "    print(temp*temp2)"
   ]
  },
  {
   "cell_type": "code",
   "execution_count": 4,
   "metadata": {},
   "outputs": [
    {
     "name": "stdout",
     "output_type": "stream",
     "text": [
      "1\n",
      "3\n",
      "2 2 3\n",
      "Second\n"
     ]
    }
   ],
   "source": [
    "def check(arr):\n",
    "    arr.sort()\n",
    "    for i in range(1,len(arr)+1):\n",
    "        if arr[i-1]>i:\n",
    "            return True\n",
    "    return False\n",
    "for i in range(int(input())):\n",
    "    n = int(input())\n",
    "    s = list(map(int,input().strip().split()))\n",
    "    if check(s):\n",
    "        print(\"Second\")\n",
    "    else:\n",
    "        s.sort()\n",
    "        result = []\n",
    "        for i in range(len(s)):\n",
    "            result.append(abs(s[i]-i-1))\n",
    "        result = sum(result)\n",
    "        if result%2 == 0:\n",
    "            print(\"Second\")\n",
    "        elif result%2 != 0:\n",
    "            print(\"First\")"
   ]
  },
  {
   "cell_type": "code",
   "execution_count": null,
   "metadata": {},
   "outputs": [],
   "source": [
    "for _ in range(int(input())):\n",
    "    n,e,h,a,b,c = map(int,input().split())\n",
    "    result = -1\n",
    "    # only omelettes\n",
    "    if 2*n<=e:\n",
    "        pass\n",
    "    # only milkshakes\n",
    "    if 3*n<=h:\n",
    "        pass\n",
    "    #only cakes\n",
    "    if n<=e and n<=h:\n",
    "        pass\n",
    "    # omelette and shakes\n",
    "    if e//2>=1 and e//2>= int((3*n - h)//3) +1:\n",
    "        pass\n",
    "    #omelette and cakes\n",
    "    if e-n>=1 and e+h>=2*n:\n",
    "        pass\n",
    "    #milk shakes and cakes\n",
    "    if (h-n)//2 >=1 and (h-n)//2 >= n-e:\n",
    "        pass\n",
    "    # all\n",
    "    if e>=3 and h>=4 and n>=3:\n",
    "        pass\n",
    "    else:\n",
    "        print(-1)"
   ]
  },
  {
   "cell_type": "code",
   "execution_count": 10,
   "metadata": {},
   "outputs": [
    {
     "data": {
      "text/plain": [
       "97"
      ]
     },
     "execution_count": 10,
     "metadata": {},
     "output_type": "execute_result"
    }
   ],
   "source": [
    "ord('a')"
   ]
  },
  {
   "cell_type": "code",
   "execution_count": 14,
   "metadata": {},
   "outputs": [
    {
     "data": {
      "text/plain": [
       "'a'"
      ]
     },
     "execution_count": 14,
     "metadata": {},
     "output_type": "execute_result"
    }
   ],
   "source": [
    "chr(0+97)"
   ]
  },
  {
   "cell_type": "code",
   "execution_count": 21,
   "metadata": {},
   "outputs": [
    {
     "name": "stdout",
     "output_type": "stream",
     "text": [
      "0 2\n"
     ]
    }
   ],
   "source": [
    "def solve(desire,n,arr):\n",
    "    arr.sort()\n",
    "    diff = float(\"inf\")\n",
    "    l = 0\n",
    "    r = n-1\n",
    "    resl = 0\n",
    "    resr = 0\n",
    "    while r>l:\n",
    "        if abs(desire - abs(arr[r]-arr[l]))<diff:\n",
    "            resl = l\n",
    "            resr = r\n",
    "            diff = abs(desire - abs(arr[r]-arr[l]))\n",
    "        if arr[r]-arr[l]>desire:\n",
    "            r-=1\n",
    "        else:\n",
    "            l+=1\n",
    "    print(arr[resl],arr[resr])\n",
    "desire = 4\n",
    "arr = [2,1,0,7,2]\n",
    "solve(desire,len(arr),arr)"
   ]
  },
  {
   "cell_type": "code",
   "execution_count": 5,
   "metadata": {},
   "outputs": [
    {
     "name": "stdout",
     "output_type": "stream",
     "text": [
      "140480951737024\n",
      "94389059358112\n"
     ]
    },
    {
     "data": {
      "text/plain": [
       "140480951737024"
      ]
     },
     "execution_count": 5,
     "metadata": {},
     "output_type": "execute_result"
    }
   ],
   "source": [
    "def func(x):\n",
    "    print(id(x))\n",
    "    x = 4\n",
    "    print(id(x))\n",
    "x = [3]\n",
    "func(x)\n",
    "id(x)"
   ]
  },
  {
   "cell_type": "code",
   "execution_count": null,
   "metadata": {},
   "outputs": [],
   "source": [
    "call by object\n"
   ]
  },
  {
   "cell_type": "code",
   "execution_count": 1,
   "metadata": {},
   "outputs": [
    {
     "name": "stdout",
     "output_type": "stream",
     "text": [
      "1 7\n",
      "2 8\n",
      "4 9\n"
     ]
    }
   ],
   "source": [
    "for i ,j in zip([1,2,4],[7,8,9]):\n",
    "    print(i,j)"
   ]
  },
  {
   "cell_type": "code",
   "execution_count": 5,
   "metadata": {},
   "outputs": [
    {
     "name": "stdout",
     "output_type": "stream",
     "text": [
      "5 13\n",
      "5 4 3 2 1\n",
      "[5, 4, 3, 2, 1]\n",
      "YES 12\n",
      "YES 12\n"
     ]
    }
   ],
   "source": [
    "def solve(n,x,arr):\n",
    "    arr.sort()\n",
    "    p = arr[::-1]\n",
    "    diff = []\n",
    "    for i,j in zip(arr,p):\n",
    "        diff.append(abs(j-i))\n",
    "    res = sum(diff)\n",
    "    if res<=x:\n",
    "        print(\"YES\",res)\n",
    "    else:\n",
    "        print(\"NO\")\n",
    "\n",
    "n,x = map(int,input().split())\n",
    "arr = list(map(int,input().split()))\n",
    "print(arr)\n",
    "solve(n,x,arr)"
   ]
  },
  {
   "cell_type": "code",
   "execution_count": null,
   "metadata": {},
   "outputs": [],
   "source": [
    "('o','n','e') in {'o':1}"
   ]
  },
  {
   "cell_type": "code",
   "execution_count": 3,
   "metadata": {},
   "outputs": [
    {
     "data": {
      "text/plain": [
       "1.0833333333333333"
      ]
     },
     "execution_count": 3,
     "metadata": {},
     "output_type": "execute_result"
    }
   ],
   "source": [
    "# the sequence s = 5/10 + 5/15 + 5/20 . . . 5/n   can be written as\n",
    "             # s = summation of 5/(5*i)  for i starting from 2 till i less than or equal to n/5\n",
    "# function for the given question which takes n as an argument and returns sum of series\n",
    "def solve(n):\n",
    "    res = 0             # initialize res to 0\n",
    "    i = 2               # intialize counter i to 2 as series is starting from 5/10 which is 5/(5*2)\n",
    "    while i*5<=n:       # loop\n",
    "        res+= 5/(5*i)\n",
    "        i+=1\n",
    "    return res          # returning the desire result \n",
    "solve(20)"
   ]
  },
  {
   "cell_type": "code",
   "execution_count": 2,
   "metadata": {},
   "outputs": [
    {
     "data": {
      "text/plain": [
       "1.0833333333333333"
      ]
     },
     "execution_count": 2,
     "metadata": {},
     "output_type": "execute_result"
    }
   ],
   "source": [
    "5/10 + 5/15 + 5/20"
   ]
  },
  {
   "cell_type": "code",
   "execution_count": 2,
   "metadata": {},
   "outputs": [
    {
     "name": "stdout",
     "output_type": "stream",
     "text": [
      "1->3->5->7->8->"
     ]
    }
   ],
   "source": [
    "def solve(arr):\n",
    "    for i in range(len(arr)):\n",
    "        print(arr[i],end = \"->\")\n",
    "solve([1,3,5,7,8])"
   ]
  },
  {
   "cell_type": "code",
   "execution_count": 3,
   "metadata": {},
   "outputs": [
    {
     "data": {
      "text/plain": [
       "False"
      ]
     },
     "execution_count": 3,
     "metadata": {},
     "output_type": "execute_result"
    }
   ],
   "source": [
    "def isValid(password):\n",
    "  \n",
    "    # for checking if password length\n",
    "    # is between 8 and 15\n",
    "    if len(password)>32 or len(password)<10:\n",
    "        return False\n",
    "  \n",
    "    # to check space\n",
    "    #if (\" \" in password):\n",
    "    #    return False\n",
    "  \n",
    "    if (True):\n",
    "        count = 0\n",
    "        # check digits from 0 to 9\n",
    "        arr = ['0', '1', '2', '3', \n",
    "        '4', '5', '6', '7', '8', '9']\n",
    "  \n",
    "        for i in password:\n",
    "            if i in arr:\n",
    "                count = 1\n",
    "                break\n",
    "  \n",
    "        if count == 0:\n",
    "            return False\n",
    "  \n",
    "    # for special characters\n",
    "    if True:\n",
    "        count = 0\n",
    "  \n",
    "        arr = ['@', '#','!','~','$','%','^',\n",
    "                '&','*','(',',','-','+','/',\n",
    "                ':','.',',','<','>','?','|']\n",
    "  \n",
    "        for i in password:\n",
    "            if i in arr:\n",
    "                count = 1\n",
    "                break\n",
    "        if count == 0:\n",
    "            return False\n",
    "  \n",
    "    if True:\n",
    "        count = 0\n",
    "  \n",
    "        # checking capital letters\n",
    "        for i in range(65, 91):\n",
    "  \n",
    "            if chr(i) in password:\n",
    "                count = 1\n",
    "  \n",
    "        if (count == 0):\n",
    "            return False\n",
    "  \n",
    "    if (True):\n",
    "        count = 0\n",
    "  \n",
    "        # checking small letters\n",
    "        for i in range(90, 123):\n",
    "  \n",
    "            if chr(i) in password:\n",
    "                count = 1\n",
    "  \n",
    "        if (count == 0):\n",
    "            return False\n",
    "    if True:\n",
    "        for i in range(0,len(password)-2,3):\n",
    "            if password[i:i+3] == password[0]*3:\n",
    "                return False\n",
    "        \n",
    "  \n",
    "    # if all conditions fails\n",
    "    return True"
   ]
  },
  {
   "cell_type": "code",
   "execution_count": 6,
   "metadata": {},
   "outputs": [
    {
     "name": "stdout",
     "output_type": "stream",
     "text": [
      "Dee DDD\n",
      "epa eee\n",
      "kku kkk\n",
      "mar mmm\n"
     ]
    }
   ],
   "source": [
    "password = 'Deeepakkumar'\n",
    "for i in range(0,len(password)-2,3):\n",
    "    print(password[i:i+3],password[i]*3)"
   ]
  },
  {
   "cell_type": "code",
   "execution_count": null,
   "metadata": {},
   "outputs": [],
   "source": [
    "def isValid(password):\n",
    "  \n",
    "    # for checking if password length\n",
    "    # is between 8 and 15\n",
    "    if (len(password) < 8 or len(password) > 15):\n",
    "        return False\n",
    "  \n",
    "    # to check space\n",
    "    if (\" \" in password):\n",
    "        return False\n",
    "  \n",
    "    if (True):\n",
    "        count = 0\n",
    "  \n",
    "        # check digits from 0 to 9\n",
    "        arr = ['0', '1', '2', '3', \n",
    "        '4', '5', '6', '7', '8', '9']\n",
    "  \n",
    "        for i in password:\n",
    "            if i in arr:\n",
    "                count = 1\n",
    "                break\n",
    "  \n",
    "        if count == 0:\n",
    "            return False\n",
    "  \n",
    "    # for special characters\n",
    "    if True:\n",
    "        count = 0\n",
    "  \n",
    "        arr = ['@', '#','!','~','$','%','^',\n",
    "                '&','*','(',',','-','+','/',\n",
    "                ':','.',',','<','>','?','|']\n",
    "  \n",
    "        for i in password:\n",
    "            if i in arr:\n",
    "                count = 1\n",
    "                break\n",
    "        if count == 0:\n",
    "            return False\n",
    "  \n",
    "    if True:\n",
    "        count = 0\n",
    "  \n",
    "        # checking capital letters\n",
    "        for i in range(65, 91):\n",
    "  \n",
    "            if chr(i) in password:\n",
    "                count = 1\n",
    "  \n",
    "        if (count == 0):\n",
    "            return False\n",
    "  \n",
    "    if (True):\n",
    "        count = 0\n",
    "  \n",
    "        # checking small letters\n",
    "        for i in range(90, 123):\n",
    "  \n",
    "            if chr(i) in password:\n",
    "                count = 1\n",
    "  \n",
    "        if (count == 0):\n",
    "            return False\n",
    "  \n",
    "    # if all conditions fails\n",
    "    return True"
   ]
  },
  {
   "cell_type": "code",
   "execution_count": 10,
   "metadata": {},
   "outputs": [
    {
     "data": {
      "text/plain": [
       "'c'"
      ]
     },
     "execution_count": 10,
     "metadata": {},
     "output_type": "execute_result"
    }
   ],
   "source": [
    "chr(99)"
   ]
  },
  {
   "cell_type": "code",
   "execution_count": 26,
   "metadata": {},
   "outputs": [],
   "source": [
    "def rev(arr,start,end):\n",
    "    while start<end:\n",
    "        arr[start],arr[end] = arr[end],arr[start]\n",
    "        start+=1\n",
    "        end-=1\n",
    "    return arr\n",
    "def reverseWord(arr):\n",
    "    n = len(arr)\n",
    "    rev(arr,0,n-1)\n",
    "    wordStart = None\n",
    "    for i in range(n):\n",
    "        if arr[i] == ' ':\n",
    "            if wordStart != None:\n",
    "                rev(arr,wordStart,i-1)\n",
    "                wordStart = None\n",
    "        elif i == n-1:\n",
    "            if wordStart != None:\n",
    "                rev(arr,wordStart,i)\n",
    "        else:\n",
    "            if wordStart == None:\n",
    "                wordStart = i\n",
    "    return arr"
   ]
  },
  {
   "cell_type": "code",
   "execution_count": null,
   "metadata": {},
   "outputs": [],
   "source": []
  },
  {
   "cell_type": "code",
   "execution_count": 27,
   "metadata": {},
   "outputs": [],
   "source": [
    "arr = [ 'p', 'e', 'r', 'f', 'e', 'c', 't', '  ',\n",
    "        'm', 'a', 'k', 'e', 's', '  ',\n",
    "        'p', 'r', 'a', 'c', 't', 'i', 'c', 'e' ]"
   ]
  },
  {
   "cell_type": "code",
   "execution_count": 28,
   "metadata": {},
   "outputs": [
    {
     "data": {
      "text/plain": [
       "['p',\n",
       " 'e',\n",
       " 'r',\n",
       " 'f',\n",
       " 'e',\n",
       " 'c',\n",
       " 't',\n",
       " '  ',\n",
       " 'm',\n",
       " 'a',\n",
       " 'k',\n",
       " 'e',\n",
       " 's',\n",
       " '  ',\n",
       " 'p',\n",
       " 'r',\n",
       " 'a',\n",
       " 'c',\n",
       " 't',\n",
       " 'i',\n",
       " 'c',\n",
       " 'e']"
      ]
     },
     "execution_count": 28,
     "metadata": {},
     "output_type": "execute_result"
    }
   ],
   "source": [
    "reverseWord(arr)"
   ]
  },
  {
   "cell_type": "code",
   "execution_count": null,
   "metadata": {},
   "outputs": [],
   "source": [
    "def subsets(A):\n",
    "    res = [[]]\n",
    "    for i in A:\n",
    "        res+=[curr+[i] for curr in res]\n",
    "    return res"
   ]
  },
  {
   "cell_type": "code",
   "execution_count": 12,
   "metadata": {},
   "outputs": [
    {
     "name": "stdout",
     "output_type": "stream",
     "text": [
      "*****\n",
      "-***-\n",
      "--*--\n"
     ]
    },
    {
     "data": {
      "text/plain": [
       "''"
      ]
     },
     "execution_count": 12,
     "metadata": {},
     "output_type": "execute_result"
    }
   ],
   "source": [
    "def solve(input_from_question):\n",
    "    result = ''\n",
    "    for i in range(int(input_from_question)):\n",
    "        res = '-'*i+'*'*(5-2*i)+'-'*i\n",
    "        print(res)\n",
    "    return ''\n",
    "solve(3)"
   ]
  },
  {
   "cell_type": "code",
   "execution_count": 13,
   "metadata": {},
   "outputs": [
    {
     "ename": "SyntaxError",
     "evalue": "unexpected EOF while parsing (<ipython-input-13-60eb3900dbe9>, line 8)",
     "output_type": "error",
     "traceback": [
      "\u001b[0;36m  File \u001b[0;32m\"<ipython-input-13-60eb3900dbe9>\"\u001b[0;36m, line \u001b[0;32m8\u001b[0m\n\u001b[0;31m    \u001b[0m\n\u001b[0m    ^\u001b[0m\n\u001b[0;31mSyntaxError\u001b[0m\u001b[0;31m:\u001b[0m unexpected EOF while parsing\n"
     ]
    }
   ],
   "source": [
    "def solve(input_from_question):\n",
    "    input_from_question = list(map(int,input().split(',')))\n",
    "    es = [[]]\n",
    "    for i in A:\n",
    "        res+=[curr+[i] for curr in res]\n",
    "    r\n",
    "    for row in res:\n",
    "        "
   ]
  },
  {
   "cell_type": "code",
   "execution_count": 14,
   "metadata": {},
   "outputs": [
    {
     "data": {
      "text/plain": [
       "[10, 1, 0, 8, 0, 3, 2, 0, 4, 6, 0, 7, 5, 0]"
      ]
     },
     "execution_count": 14,
     "metadata": {},
     "output_type": "execute_result"
    }
   ],
   "source": [
    "def solve(arr):\n",
    "    ptr1 = 0\n",
    "    ptr2 = 0\n",
    "    n = len(arr)\n",
    "    while ptr2 <n and ptr1<n:\n",
    "        if arr[ptr1] != 0:\n",
    "            ptr1+=1\n",
    "            ptt2 = ptr1\n",
    "        elif arr[ptr1] == 0:\n",
    "        #ptr2 = ptr1+1\n",
    "            while arr[ptr2] != 0:\n",
    "                ptr2+=1\n",
    "        arr[ptr1],arr[ptr2] = arr[ptr2],arr[ptr1]\n",
    "        ptr1+=1\n",
    "        ptr2+=1\n",
    "    return arr\n",
    "arr = [1, 10, 0, 2, 8, 3, 0, 0, 6, 4, 0, 5, 7, 0]\n",
    "solve(arr)"
   ]
  },
  {
   "cell_type": "code",
   "execution_count": null,
   "metadata": {},
   "outputs": [],
   "source": [
    "def deletion_distance(str1, str2):\n",
    "    '''\n",
    "    dog \n",
    "    i  \n",
    "    frog\n",
    "    j \n",
    "    dooo\n",
    "    fooo\n",
    "    dp[0][0] = 2 \n",
    "    dp[0][1] = 3 , dp[0][0] + 1 \n",
    "    dp[0][2] = dp[0][1] + 1\n",
    "\n",
    "    dp[0][0] = 2 \n",
    "    dp[0][1] = 2 \n",
    "    '''\n",
    "    l1 , l2 = len(str1), len(str2)\n",
    "    if l1 == 0 : \n",
    "        return l2\n",
    "    if l2 == 0 :\n",
    "        return l1 \n",
    "    dp = [[float('inf') for j in range(l2)] for i in range(l1)] \n",
    "    dp[0][0] = 2 if str1[0] != str2[0] else 0 \n",
    "    for i in range(l1):\n",
    "        for j in range(l2):\n",
    "    #print(i, j)\n",
    "          if i == 0 and j != 0 : \n",
    "            dp[i][j] = dp[i][j-1] + 1 if str1[0] == str2[j] else dp[i][j-1]\n",
    "          elif j == 0 and i != 0 : \n",
    "            dp[i][j] = dp[i-1][j] + 1 if str1[0] == str1[i] else dp[i-1][j]\n",
    "          elif str1[i]  == str2[j] and i > 0 and j > 0 :\n",
    "            dp[i][j] = min(dp[i-1][j]  + 1 ,dp[i-1][j-1], dp[i][j-1] + 1 )\n",
    "          elif i > 0 and j > 0 : \n",
    "            dp[i][j] = min(dp[i-1][j]  + 1 ,dp[i-1][j-1]+2, dp[i][j-1] + 1 )\n",
    "    return dp[-1][-1]"
   ]
  },
  {
   "cell_type": "code",
   "execution_count": 5,
   "metadata": {},
   "outputs": [
    {
     "name": "stdout",
     "output_type": "stream",
     "text": [
      "888\n"
     ]
    }
   ],
   "source": [
    "x = 4_4_4\n",
    "y=2\n",
    "print(x*y)"
   ]
  },
  {
   "cell_type": "code",
   "execution_count": 2,
   "metadata": {},
   "outputs": [
    {
     "name": "stdout",
     "output_type": "stream",
     "text": [
      "444\n"
     ]
    }
   ],
   "source": [
    "print(x)"
   ]
  },
  {
   "cell_type": "code",
   "execution_count": 5,
   "metadata": {},
   "outputs": [
    {
     "data": {
      "text/plain": [
       "6"
      ]
     },
     "execution_count": 5,
     "metadata": {},
     "output_type": "execute_result"
    }
   ],
   "source": [
    "def knapsack(weights,maxCapacity):\n",
    "    wt = weights\n",
    "    W = maxCapacity\n",
    "    val = weights\n",
    "    n =  len(wt)\n",
    "    dp = [[0 for x  in range(W+1)] for x in range(n+1)]\n",
    "    for i in range(1,n+1):\n",
    "        for w in range(1,W+1):\n",
    "            if i == 0 or w == 0:\n",
    "                dp[i][w] =0\n",
    "            elif wt[i-1] <= w:\n",
    "                dp[i][w] = max(val[i-1] + dp[i-1][w-wt[i-1]],dp[i-1][w])\n",
    "            else:\n",
    "                dp[i][w] = dp[i-1][w]\n",
    "    return dp[n][W]\n",
    "weights = [1,3,5]\n",
    "cap = 7\n",
    "val = [1,3,5]\n",
    "knapsack(weights,cap)"
   ]
  },
  {
   "cell_type": "code",
   "execution_count": 6,
   "metadata": {},
   "outputs": [
    {
     "data": {
      "text/plain": [
       "6"
      ]
     },
     "execution_count": 6,
     "metadata": {},
     "output_type": "execute_result"
    }
   ],
   "source": [
    "def weightCapacity(weights, maxCapacity):\n",
    "    dp = [False] * (maxCapacity + 1)\n",
    "\n",
    "    dp[0] = True\n",
    "    answer = 0\n",
    "    for weight in weights:\n",
    "        for i in range(maxCapacity, weight - 1, -1):\n",
    "            if dp[i - weight]:\n",
    "                dp[i] = True\n",
    "                answer = max(answer, i)\n",
    "\n",
    "    return answer"
   ]
  },
  {
   "cell_type": "code",
   "execution_count": null,
   "metadata": {},
   "outputs": [],
   "source": [
    "wt = [1,3,5]\n"
   ]
  },
  {
   "cell_type": "code",
   "execution_count": 1,
   "metadata": {},
   "outputs": [
    {
     "ename": "IndexError",
     "evalue": "list index out of range",
     "output_type": "error",
     "traceback": [
      "\u001b[0;31m---------------------------------------------------------------------------\u001b[0m",
      "\u001b[0;31mIndexError\u001b[0m                                Traceback (most recent call last)",
      "\u001b[0;32m<ipython-input-1-4dd8c96b8853>\u001b[0m in \u001b[0;36m<module>\u001b[0;34m\u001b[0m\n\u001b[1;32m     12\u001b[0m \u001b[0mweights\u001b[0m \u001b[0;34m=\u001b[0m \u001b[0;34m[\u001b[0m\u001b[0;36m1\u001b[0m\u001b[0;34m,\u001b[0m\u001b[0;36m3\u001b[0m\u001b[0;34m,\u001b[0m\u001b[0;36m5\u001b[0m\u001b[0;34m]\u001b[0m\u001b[0;34m\u001b[0m\u001b[0;34m\u001b[0m\u001b[0m\n\u001b[1;32m     13\u001b[0m \u001b[0mcap\u001b[0m \u001b[0;34m=\u001b[0m \u001b[0;36m7\u001b[0m\u001b[0;34m\u001b[0m\u001b[0;34m\u001b[0m\u001b[0m\n\u001b[0;32m---> 14\u001b[0;31m \u001b[0mknapsack\u001b[0m\u001b[0;34m(\u001b[0m\u001b[0mweights\u001b[0m\u001b[0;34m,\u001b[0m\u001b[0mcap\u001b[0m\u001b[0;34m)\u001b[0m\u001b[0;34m\u001b[0m\u001b[0;34m\u001b[0m\u001b[0m\n\u001b[0m",
      "\u001b[0;32m<ipython-input-1-4dd8c96b8853>\u001b[0m in \u001b[0;36mknapsack\u001b[0;34m(weights, maxCapacity)\u001b[0m\n\u001b[1;32m      8\u001b[0m                 \u001b[0mdp\u001b[0m\u001b[0;34m[\u001b[0m\u001b[0mi\u001b[0m\u001b[0;34m]\u001b[0m\u001b[0;34m[\u001b[0m\u001b[0mj\u001b[0m\u001b[0;34m]\u001b[0m \u001b[0;34m=\u001b[0m \u001b[0mmax\u001b[0m\u001b[0;34m(\u001b[0m\u001b[0mweights\u001b[0m\u001b[0;34m[\u001b[0m\u001b[0mi\u001b[0m\u001b[0;34m-\u001b[0m\u001b[0;36m1\u001b[0m\u001b[0;34m]\u001b[0m\u001b[0;34m+\u001b[0m\u001b[0mdp\u001b[0m\u001b[0;34m[\u001b[0m\u001b[0mi\u001b[0m\u001b[0;34m-\u001b[0m\u001b[0;36m1\u001b[0m\u001b[0;34m]\u001b[0m\u001b[0;34m[\u001b[0m\u001b[0mj\u001b[0m\u001b[0;34m-\u001b[0m\u001b[0mweights\u001b[0m\u001b[0;34m[\u001b[0m\u001b[0mi\u001b[0m\u001b[0;34m-\u001b[0m\u001b[0;36m1\u001b[0m\u001b[0;34m]\u001b[0m\u001b[0;34m]\u001b[0m\u001b[0;34m,\u001b[0m\u001b[0mdp\u001b[0m\u001b[0;34m[\u001b[0m\u001b[0mi\u001b[0m\u001b[0;34m-\u001b[0m\u001b[0;36m1\u001b[0m\u001b[0;34m]\u001b[0m\u001b[0;34m[\u001b[0m\u001b[0mj\u001b[0m\u001b[0;34m]\u001b[0m\u001b[0;34m)\u001b[0m\u001b[0;34m\u001b[0m\u001b[0;34m\u001b[0m\u001b[0m\n\u001b[1;32m      9\u001b[0m             \u001b[0;32melse\u001b[0m\u001b[0;34m:\u001b[0m\u001b[0;34m\u001b[0m\u001b[0;34m\u001b[0m\u001b[0m\n\u001b[0;32m---> 10\u001b[0;31m                 \u001b[0mdp\u001b[0m\u001b[0;34m[\u001b[0m\u001b[0mi\u001b[0m\u001b[0;34m]\u001b[0m\u001b[0;34m[\u001b[0m\u001b[0mj\u001b[0m\u001b[0;34m]\u001b[0m \u001b[0;34m=\u001b[0m \u001b[0mdp\u001b[0m\u001b[0;34m[\u001b[0m\u001b[0mi\u001b[0m\u001b[0;34m-\u001b[0m\u001b[0;36m1\u001b[0m\u001b[0;34m]\u001b[0m\u001b[0;34m[\u001b[0m\u001b[0mj\u001b[0m\u001b[0;34m]\u001b[0m\u001b[0;34m\u001b[0m\u001b[0;34m\u001b[0m\u001b[0m\n\u001b[0m\u001b[1;32m     11\u001b[0m     \u001b[0;32mreturn\u001b[0m \u001b[0mdp\u001b[0m\u001b[0;34m[\u001b[0m\u001b[0;34m-\u001b[0m\u001b[0;36m1\u001b[0m\u001b[0;34m]\u001b[0m\u001b[0;34m[\u001b[0m\u001b[0;34m-\u001b[0m\u001b[0;36m1\u001b[0m\u001b[0;34m]\u001b[0m\u001b[0;34m\u001b[0m\u001b[0;34m\u001b[0m\u001b[0m\n\u001b[1;32m     12\u001b[0m \u001b[0mweights\u001b[0m \u001b[0;34m=\u001b[0m \u001b[0;34m[\u001b[0m\u001b[0;36m1\u001b[0m\u001b[0;34m,\u001b[0m\u001b[0;36m3\u001b[0m\u001b[0;34m,\u001b[0m\u001b[0;36m5\u001b[0m\u001b[0;34m]\u001b[0m\u001b[0;34m\u001b[0m\u001b[0;34m\u001b[0m\u001b[0m\n",
      "\u001b[0;31mIndexError\u001b[0m: list index out of range"
     ]
    }
   ],
   "source": [
    "def knapsack(weights,maxCapacity):\n",
    "    dp = [[0 for i in range(maxCapacity+1)] for i in range(len(weights))]\n",
    "    for i in range(1,len(weights)+1):\n",
    "        for j in range(1,maxCapacity+1):\n",
    "            if i == 0 or j == 0:\n",
    "                dp[i][j] = 0\n",
    "            elif maxCapacity<=j:\n",
    "                dp[i][j] = max(weights[i-1]+dp[i-1][j-weights[i-1]],dp[i-1][j])\n",
    "            else:\n",
    "                dp[i][j] = dp[i-1][j]\n",
    "    return dp[-1][-1]\n",
    "weights = [1,3,5]\n",
    "cap = 7\n",
    "knapsack(weights,cap)"
   ]
  },
  {
   "cell_type": "code",
   "execution_count": null,
   "metadata": {},
   "outputs": [],
   "source": [
    "def solve(s,n,x,y):\n",
    "    "
   ]
  },
  {
   "cell_type": "code",
   "execution_count": null,
   "metadata": {},
   "outputs": [],
   "source": [
    "def countSubarrays(a, n, m):\n",
    "    count = 0\n",
    "    prefix = [0] * (n+1)\n",
    "    odd = 0\n",
    "    for i in range(n):\n",
    "        prefix[odd] += 1\n",
    "        if (a[i] & 1):\n",
    "            odd += 1\n",
    "        if (odd >= m):\n",
    "            count += prefix[odd - m]\n",
    "    return count"
   ]
  },
  {
   "cell_type": "code",
   "execution_count": 3,
   "metadata": {},
   "outputs": [
    {
     "name": "stdout",
     "output_type": "stream",
     "text": [
      "5\n",
      "A B C D E \n",
      " A B C D \n",
      "  A B C \n",
      "   A B \n",
      "    A \n"
     ]
    }
   ],
   "source": [
    "n = int(input())\n",
    "for i in range(n):\n",
    "    print(' '*i,end='')\n",
    "    for j in range(n-i):\n",
    "        print(chr(65+j),end=' ')\n",
    "    print()"
   ]
  },
  {
   "cell_type": "code",
   "execution_count": 5,
   "metadata": {},
   "outputs": [
    {
     "name": "stdout",
     "output_type": "stream",
     "text": [
      "6 0 8 2 3 0 4 0 1\n",
      "[0, 0, 0, 6, 8, 2, 3, 4, 1]\n"
     ]
    }
   ],
   "source": [
    "a = list(map(int,input().split()))\n",
    "n = len(a)\n",
    "j = n-1\n",
    "for i in range(n-1, -1, -1):\n",
    "    if a[i] == 0:\n",
    "        continue\n",
    "    a[j] = a[i]\n",
    "    j -= 1\n",
    "while j >= 0:\n",
    "    a[j] = 0\n",
    "    j -= 1\n",
    "print(a)"
   ]
  },
  {
   "cell_type": "code",
   "execution_count": 10,
   "metadata": {},
   "outputs": [
    {
     "name": "stdout",
     "output_type": "stream",
     "text": [
      "5\n",
      "ABCDEDCBA\n",
      " ABCDCBA\n",
      "  ABCBA\n",
      "   ABA\n",
      "    A\n"
     ]
    }
   ],
   "source": [
    "n = int(input())\n",
    "space = 0\n",
    "for i in range(n,0,-1):\n",
    "    for j in range(1,space+1,1):\n",
    "        print(' ',end='')\n",
    "    for j in range(1,i+1):\n",
    "        print(chr(64+j),end='')\n",
    "    for j in range(i-1,0,-1):\n",
    "        print(chr(64+j),end='')\n",
    "    print()\n",
    "    space+=1\n"
   ]
  },
  {
   "cell_type": "code",
   "execution_count": 24,
   "metadata": {},
   "outputs": [
    {
     "name": "stdout",
     "output_type": "stream",
     "text": [
      "18 16 21 14 14 13 13 13 13\n"
     ]
    }
   ],
   "source": [
    "from collections import defaultdict\n",
    "def sortByFreq(arr, n):\n",
    "\td = defaultdict(lambda: 0)\n",
    "\tfor i in range(n):\n",
    "\t\td[arr[i]] += 1\n",
    "\tarr.sort(key=lambda x: (d[x]))\n",
    "\treturn (arr)\n",
    "\n",
    "arr = [13,18,13,14,13,16,14,21,13]\n",
    "n = len(arr)\n",
    "solution = sortByFreq(arr, n)\n",
    "print(*solution)"
   ]
  },
  {
   "cell_type": "code",
   "execution_count": 6,
   "metadata": {},
   "outputs": [
    {
     "name": "stdout",
     "output_type": "stream",
     "text": [
      "1000001\n",
      "Wrong Input\n"
     ]
    }
   ],
   "source": [
    "def solve():\n",
    "    n = int(input())\n",
    "    n = str(n)\n",
    "    if int(n)>1000000 or int(n)<0:\n",
    "        print(\"Wrong Input\")\n",
    "        return\n",
    "    result = ''\n",
    "    for i in n:\n",
    "        result+=str(abs(int(i)-9))\n",
    "    return result\n",
    "solve()"
   ]
  },
  {
   "cell_type": "code",
   "execution_count": null,
   "metadata": {},
   "outputs": [],
   "source": [
    "def solve():\n",
    "    arr = []\n",
    "    for _ in range(int(input())):\n",
    "        arr.append(int(input()))\n",
    "    zero = 0\n",
    "    one = 0\n",
    "    two = len(arr)-1\n",
    "    while two"
   ]
  },
  {
   "cell_type": "code",
   "execution_count": null,
   "metadata": {},
   "outputs": [],
   "source": [
    "def solve():\n",
    "    n = int(input())\n",
    "    d = int(input())\n",
    "    arr = list(map(int,input().split()))\n",
    "    stack = []\n",
    "    result = 0\n",
    "    stack.append([arr[0],d-1])\n",
    "    i = 1\n",
    "    while stack or i<n:\n",
    "        if stack[-1][0] == 0 and arr[i] == 0:\n",
    "            stack[-1][1]+=1\n",
    "            if stack[-1][1] == d-1:\n",
    "                stack.pop()\n",
    "                stack"
   ]
  },
  {
   "cell_type": "code",
   "execution_count": 1,
   "metadata": {},
   "outputs": [
    {
     "data": {
      "text/plain": [
       "17576"
      ]
     },
     "execution_count": 1,
     "metadata": {},
     "output_type": "execute_result"
    }
   ],
   "source": [
    "26*26*26"
   ]
  },
  {
   "cell_type": "code",
   "execution_count": 1,
   "metadata": {},
   "outputs": [
    {
     "name": "stdout",
     "output_type": "stream",
     "text": [
      "a\n"
     ]
    },
    {
     "ename": "ValueError",
     "evalue": "invalid literal for int() with base 10: 'a'",
     "output_type": "error",
     "traceback": [
      "\u001b[0;31m---------------------------------------------------------------------------\u001b[0m",
      "\u001b[0;31mValueError\u001b[0m                                Traceback (most recent call last)",
      "\u001b[0;32m<ipython-input-1-8c0903cd8859>\u001b[0m in \u001b[0;36m<module>\u001b[0;34m\u001b[0m\n\u001b[1;32m     15\u001b[0m             \u001b[0;32mpass\u001b[0m\u001b[0;34m\u001b[0m\u001b[0;34m\u001b[0m\u001b[0m\n\u001b[1;32m     16\u001b[0m \u001b[0mpropT\u001b[0m \u001b[0;34m=\u001b[0m \u001b[0;34m[\u001b[0m\u001b[0;34m]\u001b[0m\u001b[0;34m\u001b[0m\u001b[0;34m\u001b[0m\u001b[0m\n\u001b[0;32m---> 17\u001b[0;31m \u001b[0;32mfor\u001b[0m \u001b[0m_\u001b[0m \u001b[0;32min\u001b[0m \u001b[0mrange\u001b[0m\u001b[0;34m(\u001b[0m\u001b[0mint\u001b[0m\u001b[0;34m(\u001b[0m\u001b[0minput\u001b[0m\u001b[0;34m(\u001b[0m\u001b[0;34m)\u001b[0m\u001b[0;34m)\u001b[0m\u001b[0;34m)\u001b[0m\u001b[0;34m:\u001b[0m\u001b[0;34m\u001b[0m\u001b[0;34m\u001b[0m\u001b[0m\n\u001b[0m\u001b[1;32m     18\u001b[0m     \u001b[0mptype\u001b[0m \u001b[0;34m=\u001b[0m \u001b[0minput\u001b[0m\u001b[0;34m(\u001b[0m\u001b[0;34m)\u001b[0m\u001b[0;34m\u001b[0m\u001b[0;34m\u001b[0m\u001b[0m\n\u001b[1;32m     19\u001b[0m     \u001b[0mpval\u001b[0m \u001b[0;34m=\u001b[0m \u001b[0mfloat\u001b[0m\u001b[0;34m(\u001b[0m\u001b[0minput\u001b[0m\u001b[0;34m(\u001b[0m\u001b[0;34m)\u001b[0m\u001b[0;34m)\u001b[0m\u001b[0;34m\u001b[0m\u001b[0;34m\u001b[0m\u001b[0m\n",
      "\u001b[0;31mValueError\u001b[0m: invalid literal for int() with base 10: 'a'"
     ]
    }
   ],
   "source": [
    "class Property:\n",
    "    def __init__(self,ptype,pval,bid):\n",
    "        self.property_type = ptype\n",
    "        self.property_value = pval\n",
    "        self.max_bid_price = bid\n",
    "class Tender:\n",
    "    def __init__(self,name,prop,bid):\n",
    "        self.buyerName = name\n",
    "        self.propertyType = prop\n",
    "        self.bidPrice = bid\n",
    "def bidProperty(prop,tender):\n",
    "    valid = {}\n",
    "    delete =[]\n",
    "    validtype = {}\n",
    "    for p in prop:\n",
    "        validtype[p.property_type] = p\n",
    "    for tend in tender:\n",
    "        k = None\n",
    "        for p in prop:\n",
    "            if tend.propertyType == p.property_type:\n",
    "                if tend.bidPrice >= p.property_value and tend.bidPrice<=p.max_bid_price:\n",
    "                    delete.append(p)\n",
    "                    valid[p.property_type] = tend \n",
    "    if len(valid) != 0:\n",
    "        return valid\n",
    "    return              \n",
    "propT = []\n",
    "for _ in range(int(input())):\n",
    "    ptype = input()\n",
    "    pval = float(input())\n",
    "    bid = float(input())\n",
    "    obj = Property(ptype,pval,bid)\n",
    "    propT.append(obj)\n",
    "tender = []\n",
    "for _ in range(int(input())):\n",
    "    name = input()\n",
    "    prop = input()\n",
    "    bid = float(input())\n",
    "    obj = Tender(name,prop,bid)\n",
    "    tender.append(obj)\n",
    "res1 = bidProperty(propT,tender)"
   ]
  },
  {
   "cell_type": "code",
   "execution_count": 3,
   "metadata": {},
   "outputs": [
    {
     "data": {
      "text/plain": [
       "[1, 2, 3, 2]"
      ]
     },
     "execution_count": 3,
     "metadata": {},
     "output_type": "execute_result"
    }
   ],
   "source": [
    "[1,2,3]+[2]"
   ]
  },
  {
   "cell_type": "code",
   "execution_count": 4,
   "metadata": {},
   "outputs": [],
   "source": [
    "t = {lambda:0}"
   ]
  },
  {
   "cell_type": "code",
   "execution_count": 5,
   "metadata": {},
   "outputs": [
    {
     "data": {
      "text/plain": [
       "{<function __main__.<lambda>()>}"
      ]
     },
     "execution_count": 5,
     "metadata": {},
     "output_type": "execute_result"
    }
   ],
   "source": [
    "t"
   ]
  },
  {
   "cell_type": "code",
   "execution_count": 6,
   "metadata": {},
   "outputs": [
    {
     "ename": "TypeError",
     "evalue": "'set' object is not subscriptable",
     "output_type": "error",
     "traceback": [
      "\u001b[0;31m---------------------------------------------------------------------------\u001b[0m",
      "\u001b[0;31mTypeError\u001b[0m                                 Traceback (most recent call last)",
      "\u001b[0;32m<ipython-input-6-476ffea63421>\u001b[0m in \u001b[0;36m<module>\u001b[0;34m\u001b[0m\n\u001b[0;32m----> 1\u001b[0;31m \u001b[0mt\u001b[0m\u001b[0;34m[\u001b[0m\u001b[0;34m'1'\u001b[0m\u001b[0;34m]\u001b[0m\u001b[0;34m\u001b[0m\u001b[0;34m\u001b[0m\u001b[0m\n\u001b[0m",
      "\u001b[0;31mTypeError\u001b[0m: 'set' object is not subscriptable"
     ]
    }
   ],
   "source": [
    "t['1']"
   ]
  },
  {
   "cell_type": "code",
   "execution_count": null,
   "metadata": {},
   "outputs": [],
   "source": [
    "def solve(arr,limit):\n",
    "    arr.sort()\n",
    "    i = 0\n",
    "    j = len(arr)-1\n",
    "    count = 0\n",
    "    while i<=j:\n",
    "        if arr[i]+arr[j]<=limit:\n",
    "            count+=1\n",
    "            i+=1\n",
    "            j-=1\n",
    "        else:\n",
    "            count+=1\n",
    "            j-=1\n",
    "    return count"
   ]
  },
  {
   "cell_type": "code",
   "execution_count": null,
   "metadata": {},
   "outputs": [],
   "source": [
    "def solve():\n",
    "    n,y,z = map(int,input().split())\n",
    "    cont = []\n",
    "    for i in range(y):\n",
    "        l,r,x = map(int,input().split())\n",
    "        cont.append([l,r,x])\n",
    "    \n",
    "    print(cont)"
   ]
  },
  {
   "cell_type": "code",
   "execution_count": 3,
   "metadata": {},
   "outputs": [
    {
     "name": "stdout",
     "output_type": "stream",
     "text": [
      "The quick Brown Fox\n",
      "The quick Brown Fox\n",
      "Upper case characters : 3\n",
      "Lower case characters : 13\n"
     ]
    }
   ],
   "source": [
    "string = input()\n",
    "uper = 0\n",
    "lower = 0\n",
    "for i in string:\n",
    "    if i.isupper():\n",
    "        uper+=1\n",
    "    elif i.islower():\n",
    "        lower+=1\n",
    "print(string)\n",
    "print(\"Upper case characters :\",uper)\n",
    "print(\"Lower case characters :\",lower)"
   ]
  },
  {
   "cell_type": "code",
   "execution_count": 4,
   "metadata": {},
   "outputs": [
    {
     "name": "stdout",
     "output_type": "stream",
     "text": [
      "6\n",
      "1 2 5 3 4 6\n",
      "01010\n"
     ]
    },
    {
     "ename": "NameError",
     "evalue": "name 'prinnt' is not defined",
     "output_type": "error",
     "traceback": [
      "\u001b[0;31m---------------------------------------------------------------------------\u001b[0m",
      "\u001b[0;31mNameError\u001b[0m                                 Traceback (most recent call last)",
      "\u001b[0;32m<ipython-input-4-3f3916248865>\u001b[0m in \u001b[0;36m<module>\u001b[0;34m\u001b[0m\n\u001b[1;32m     19\u001b[0m             \u001b[0mx\u001b[0m \u001b[0;34m=\u001b[0m \u001b[0mi\u001b[0m\u001b[0;34m\u001b[0m\u001b[0;34m\u001b[0m\u001b[0m\n\u001b[1;32m     20\u001b[0m     \u001b[0mprint\u001b[0m\u001b[0;34m(\u001b[0m\u001b[0;34m\"Yes\"\u001b[0m\u001b[0;34m)\u001b[0m\u001b[0;34m\u001b[0m\u001b[0;34m\u001b[0m\u001b[0m\n\u001b[0;32m---> 21\u001b[0;31m \u001b[0msolve\u001b[0m\u001b[0;34m(\u001b[0m\u001b[0;34m)\u001b[0m\u001b[0;34m\u001b[0m\u001b[0;34m\u001b[0m\u001b[0m\n\u001b[0m",
      "\u001b[0;32m<ipython-input-4-3f3916248865>\u001b[0m in \u001b[0;36msolve\u001b[0;34m()\u001b[0m\n\u001b[1;32m     15\u001b[0m                     \u001b[0;32mcontinue\u001b[0m\u001b[0;34m\u001b[0m\u001b[0;34m\u001b[0m\u001b[0m\n\u001b[1;32m     16\u001b[0m                 \u001b[0;32melse\u001b[0m\u001b[0;34m:\u001b[0m\u001b[0;34m\u001b[0m\u001b[0;34m\u001b[0m\u001b[0m\n\u001b[0;32m---> 17\u001b[0;31m                     \u001b[0mprinnt\u001b[0m\u001b[0;34m(\u001b[0m\u001b[0;34m\"No\"\u001b[0m\u001b[0;34m)\u001b[0m\u001b[0;34m\u001b[0m\u001b[0;34m\u001b[0m\u001b[0m\n\u001b[0m\u001b[1;32m     18\u001b[0m                     \u001b[0;32mreturn\u001b[0m\u001b[0;34m\u001b[0m\u001b[0;34m\u001b[0m\u001b[0m\n\u001b[1;32m     19\u001b[0m             \u001b[0mx\u001b[0m \u001b[0;34m=\u001b[0m \u001b[0mi\u001b[0m\u001b[0;34m\u001b[0m\u001b[0;34m\u001b[0m\u001b[0m\n",
      "\u001b[0;31mNameError\u001b[0m: name 'prinnt' is not defined"
     ]
    }
   ],
   "source": [
    "def solve():\n",
    "    n = int(input())\n",
    "    a = list(map(int,input().split()))\n",
    "    s = input()\n",
    "    x = -1\n",
    "    for i in range(0,n-1):\n",
    "        if s[i] == '0':\n",
    "            if(x == -1):\n",
    "                l = 0\n",
    "            else:\n",
    "                l=x+1\n",
    "            r = i\n",
    "            for j in range(l,r+1):\n",
    "                if a[j]>=l+1 and a[j]<=r+1:\n",
    "                    continue\n",
    "                else:\n",
    "                    print(\"No\")\n",
    "                    return\n",
    "            x = i\n",
    "    print(\"Yes\")\n",
    "solve()"
   ]
  },
  {
   "cell_type": "code",
   "execution_count": 5,
   "metadata": {},
   "outputs": [
    {
     "name": "stdout",
     "output_type": "stream",
     "text": [
      "Man bites dog\n"
     ]
    },
    {
     "data": {
      "text/plain": [
       "'dog bites Man'"
      ]
     },
     "execution_count": 5,
     "metadata": {},
     "output_type": "execute_result"
    }
   ],
   "source": [
    "def solve():\n",
    "    string = input().split()\n",
    "    string = string[::-1]\n",
    "    return \" \".join(map(str,string))\n",
    "solve()"
   ]
  },
  {
   "cell_type": "code",
   "execution_count": 11,
   "metadata": {},
   "outputs": [
    {
     "data": {
      "text/plain": [
       "[[0, 4], [1], [2, 3]]"
      ]
     },
     "execution_count": 11,
     "metadata": {},
     "output_type": "execute_result"
    }
   ],
   "source": [
    "import collections\n",
    "def solve(arr):\n",
    "    m = collections.defaultdict(list)\n",
    "    for i,row in enumerate(arr):\n",
    "        m[sum(row)/len(row)].append(i)\n",
    "    res = []\n",
    "    for val in m.values():\n",
    "        res.append(val)\n",
    "    return res\n",
    "arr = [[3,3,4,2],\n",
    "       [4,4],\n",
    "       [4,0,3,3],\n",
    "       [2,3],\n",
    "       [3,3,3]]\n",
    "solve(arr)"
   ]
  },
  {
   "cell_type": "code",
   "execution_count": 16,
   "metadata": {},
   "outputs": [],
   "source": [
    "import collections\n",
    "def solve(arr):\n",
    "    m = collections.defaultdict(list)\n",
    "    for i,row in enumerate(arr):\n",
    "        m[sum(row)/len(row)].append(i)\n",
    "    res = []\n",
    "    for key,val in sorted(m.items()):\n",
    "        res.append(val)\n",
    "    return res"
   ]
  },
  {
   "cell_type": "code",
   "execution_count": 17,
   "metadata": {},
   "outputs": [
    {
     "data": {
      "text/plain": [
       "[[2, 3], [0, 4], [1]]"
      ]
     },
     "execution_count": 17,
     "metadata": {},
     "output_type": "execute_result"
    }
   ],
   "source": [
    "arr = [[3,3,4,2],\n",
    "       [4,4],\n",
    "       [4,0,3,3],\n",
    "       [2,3],\n",
    "       [3,3,3]]\n",
    "solve(arr)"
   ]
  },
  {
   "cell_type": "code",
   "execution_count": 21,
   "metadata": {},
   "outputs": [
    {
     "name": "stdout",
     "output_type": "stream",
     "text": [
      "4\n",
      "Hello Hi welcome invite\n",
      "Hi Hello invite welcome\n"
     ]
    }
   ],
   "source": [
    "def solve():\n",
    "    n = int(input())\n",
    "    string = input().split()\n",
    "    string.sort(key = lambda x:len(x))\n",
    "    print(' '.join(map(str,string)))\n",
    "solve()"
   ]
  },
  {
   "cell_type": "code",
   "execution_count": 22,
   "metadata": {},
   "outputs": [],
   "source": [
    "i = 4\n",
    "if str(i) == str(i)[::-1] and str(i**(1/2)) == str(i**(1/2))[::-1]:\n",
    "    print(i,i**2)"
   ]
  },
  {
   "cell_type": "code",
   "execution_count": 26,
   "metadata": {},
   "outputs": [
    {
     "data": {
      "text/plain": [
       "False"
      ]
     },
     "execution_count": 26,
     "metadata": {},
     "output_type": "execute_result"
    }
   ],
   "source": [
    "\n",
    "str(4**(1/2)) == str(4**(1/2))[::-1]"
   ]
  },
  {
   "cell_type": "code",
   "execution_count": 28,
   "metadata": {},
   "outputs": [],
   "source": [
    "a = str(4**(1/2))"
   ]
  },
  {
   "cell_type": "code",
   "execution_count": 29,
   "metadata": {},
   "outputs": [],
   "source": [
    "b = str(4**(1/2))[::-1]"
   ]
  },
  {
   "cell_type": "code",
   "execution_count": 30,
   "metadata": {},
   "outputs": [
    {
     "name": "stdout",
     "output_type": "stream",
     "text": [
      "2.0 0.2\n"
     ]
    }
   ],
   "source": [
    "print(a,b)"
   ]
  },
  {
   "cell_type": "code",
   "execution_count": 34,
   "metadata": {},
   "outputs": [],
   "source": [
    "a = 4**(1/2)"
   ]
  },
  {
   "cell_type": "code",
   "execution_count": 35,
   "metadata": {},
   "outputs": [
    {
     "data": {
      "text/plain": [
       "2.0"
      ]
     },
     "execution_count": 35,
     "metadata": {},
     "output_type": "execute_result"
    }
   ],
   "source": [
    "a"
   ]
  },
  {
   "cell_type": "code",
   "execution_count": 36,
   "metadata": {},
   "outputs": [
    {
     "data": {
      "text/plain": [
       "True"
      ]
     },
     "execution_count": 36,
     "metadata": {},
     "output_type": "execute_result"
    }
   ],
   "source": [
    "a.is_integer()"
   ]
  },
  {
   "cell_type": "code",
   "execution_count": 2,
   "metadata": {},
   "outputs": [
    {
     "data": {
      "text/plain": [
       "False"
      ]
     },
     "execution_count": 2,
     "metadata": {},
     "output_type": "execute_result"
    }
   ],
   "source": [
    "(.1 + .2) == (.3)"
   ]
  },
  {
   "cell_type": "code",
   "execution_count": 3,
   "metadata": {},
   "outputs": [
    {
     "data": {
      "text/plain": [
       "0.30000000000000004"
      ]
     },
     "execution_count": 3,
     "metadata": {},
     "output_type": "execute_result"
    }
   ],
   "source": [
    ".1+.2"
   ]
  },
  {
   "cell_type": "code",
   "execution_count": 35,
   "metadata": {},
   "outputs": [
    {
     "data": {
      "text/plain": [
       "5"
      ]
     },
     "execution_count": 35,
     "metadata": {},
     "output_type": "execute_result"
    }
   ],
   "source": [
    "\n",
    "def solve(mat):\n",
    "    m = len(mat)\n",
    "    n = len(mat[0])\n",
    "    flag = False\n",
    "    \n",
    "    def dfs1(mat,i,j):\n",
    "        if i<0 or i>= m or j<0 or j>=n or mat[i][j] == -1 or vis[i][j] == 1:\n",
    "            return float(\"-inf\")\n",
    "        if i == m-1 and j == n-1:\n",
    "            return mat[i][j]\n",
    "        k = mat[i][j]\n",
    "        vis[i][j] = 1\n",
    "        p = mat[i][j]+max(dfs1(mat,i+1,j),dfs1(mat,i,j+1))\n",
    "        if p != float(\"-inf\"):\n",
    "            mat[i][j] = 0\n",
    "        return p\n",
    "    vis = [[0 for i in range(n+1)] for j in range(m+1)]\n",
    "    res1 = dfs1(mat,0,0)\n",
    "    newmat = []\n",
    "    for i in range(len(mat)-1,-1,-1):\n",
    "        newmat.append(mat[i][::-1])\n",
    "    vis = [[0 for i in range(n+1)] for j in range(m+1)]\n",
    "    res2 = dfs1(newmat,0,0)   \n",
    "    result = res1+res2 - mat[-1][-1]\n",
    "    if result != float(\"-inf\"):\n",
    "        return result\n",
    "    return -1\n",
    "    \n",
    "mat = [[0,1,-1],[1,0,-1],[1,1,1]]\n",
    "solve(mat)\n",
    "    \n",
    "    "
   ]
  },
  {
   "cell_type": "code",
   "execution_count": 27,
   "metadata": {},
   "outputs": [
    {
     "name": "stdout",
     "output_type": "stream",
     "text": [
      "0\n",
      "0\n",
      "0\n",
      "0\n",
      "0\n",
      "0\n",
      "0\n",
      "0\n",
      "0\n",
      "0\n",
      "0\n",
      "0\n",
      "0\n",
      "0\n",
      "0\n",
      "0\n",
      "0\n",
      "0\n",
      "0\n",
      "0\n",
      "0\n",
      "0\n",
      "0\n",
      "0\n",
      "0\n",
      "0\n",
      "0\n",
      "0\n",
      "0\n",
      "0\n",
      "0\n",
      "0\n",
      "0\n",
      "0\n",
      "0\n",
      "0\n",
      "0\n",
      "0\n",
      "0\n",
      "0\n",
      "0\n",
      "0\n",
      "0\n",
      "0\n",
      "0\n",
      "0\n",
      "0\n",
      "0\n",
      "0\n",
      "0\n",
      "0\n",
      "0\n",
      "0\n",
      "0\n",
      "0\n",
      "0\n",
      "0\n",
      "0\n",
      "0\n",
      "0\n",
      "0\n",
      "0\n",
      "0\n"
     ]
    },
    {
     "data": {
      "text/plain": [
       "156"
      ]
     },
     "execution_count": 27,
     "metadata": {},
     "output_type": "execute_result"
    }
   ],
   "source": [
    "initial = 0\n",
    "start = [10,5,15,18,30]\n",
    "duration = [30,12,20,35,35]\n",
    "vol = [50,51,20,25,10]\n",
    "def solve(intial,start,duration,vol,i):\n",
    "    if i == len(start):\n",
    "        return 0\n",
    "    if initial>=start[i]:\n",
    "        return solve(initial,start,duration,vol,i+1)\n",
    "    else:\n",
    "        return max(vol[i]+solve(initial+duration[i]+start[i],start,duration,vol,i+1),\n",
    "                         solve(initial,start,duration,vol,i+1))\n",
    "\n",
    "solve(0,start,duration,vol,0)\n"
   ]
  },
  {
   "cell_type": "code",
   "execution_count": 11,
   "metadata": {},
   "outputs": [
    {
     "data": {
      "text/plain": [
       "156"
      ]
     },
     "execution_count": 11,
     "metadata": {},
     "output_type": "execute_result"
    }
   ],
   "source": []
  },
  {
   "cell_type": "code",
   "execution_count": 1,
   "metadata": {},
   "outputs": [
    {
     "name": "stdout",
     "output_type": "stream",
     "text": [
      "4\n",
      "17\n"
     ]
    },
    {
     "data": {
      "text/plain": [
       "13"
      ]
     },
     "execution_count": 1,
     "metadata": {},
     "output_type": "execute_result"
    }
   ],
   "source": [
    "def solve(x,m):\n",
    "    for i in range(1,m):\n",
    "        if (((x%m) * (i%m)) % m == 1):\n",
    "            return i\n",
    "    return -1\n",
    "x = int(input())\n",
    "m = int(input())\n",
    "print(solve(x,m))"
   ]
  },
  {
   "cell_type": "code",
   "execution_count": 3,
   "metadata": {},
   "outputs": [
    {
     "name": "stdout",
     "output_type": "stream",
     "text": [
      "100\n",
      "150\n",
      "200\n",
      "250\n",
      "300\n"
     ]
    }
   ],
   "source": [
    "large = '1020'\n",
    "small = 102\n",
    "result = int(large)/small + 40\n",
    "for i in range(2,7):\n",
    "    print(i*50)"
   ]
  },
  {
   "cell_type": "code",
   "execution_count": 7,
   "metadata": {},
   "outputs": [
    {
     "ename": "AttributeError",
     "evalue": "'str' object has no attribute 'search_all'",
     "output_type": "error",
     "traceback": [
      "\u001b[0;31m---------------------------------------------------------------------------\u001b[0m",
      "\u001b[0;31mAttributeError\u001b[0m                            Traceback (most recent call last)",
      "\u001b[0;32m<ipython-input-7-4d9234875649>\u001b[0m in \u001b[0;36m<module>\u001b[0;34m\u001b[0m\n\u001b[0;32m----> 1\u001b[0;31m \u001b[0;34m'abcabdvab'\u001b[0m\u001b[0;34m.\u001b[0m\u001b[0msearch_all\u001b[0m\u001b[0;34m(\u001b[0m\u001b[0;34m'ab'\u001b[0m\u001b[0;34m)\u001b[0m\u001b[0;34m\u001b[0m\u001b[0;34m\u001b[0m\u001b[0m\n\u001b[0m",
      "\u001b[0;31mAttributeError\u001b[0m: 'str' object has no attribute 'search_all'"
     ]
    }
   ],
   "source": [
    "'abcabdvab'.search_all('ab')"
   ]
  },
  {
   "cell_type": "code",
   "execution_count": 9,
   "metadata": {},
   "outputs": [
    {
     "name": "stdout",
     "output_type": "stream",
     "text": [
      "2\n"
     ]
    }
   ],
   "source": [
    "count = 1\n",
    "if count != 0:\n",
    "    count+=1\n",
    "elif count != 1:\n",
    "    count+=1\n",
    "print(count)\n",
    "count = 0"
   ]
  },
  {
   "cell_type": "code",
   "execution_count": 11,
   "metadata": {},
   "outputs": [
    {
     "name": "stdout",
     "output_type": "stream",
     "text": [
      "11\n",
      "14\n",
      "19\n",
      "26\n",
      "35\n",
      "46\n",
      "59\n",
      "74\n",
      "91\n"
     ]
    }
   ],
   "source": [
    "for num in range(1,10):\n",
    "    print(10+num**2)"
   ]
  },
  {
   "cell_type": "code",
   "execution_count": 13,
   "metadata": {},
   "outputs": [
    {
     "name": "stdout",
     "output_type": "stream",
     "text": [
      "The quick Brown Fox\n",
      "The quick Brown Fox\n",
      "Upper case characters : 3\n",
      "Lower case characters : 13\n"
     ]
    }
   ],
   "source": [
    "s = input()\n",
    "up = 0\n",
    "low = 0\n",
    "for char in s:\n",
    "    if char.isupper():\n",
    "        up+=1\n",
    "    elif char.islower():\n",
    "        low+=1\n",
    "print(s)\n",
    "print(\"Upper case characters :\",up)\n",
    "print(\"Lower case characters :\",low)\n",
    "        "
   ]
  },
  {
   "cell_type": "markdown",
   "metadata": {},
   "source": [
    "<h1 align=\"center\">Hi 👋, I'm Deepak Kumar</h1>\n",
    "<h3 align=\"center\">A passionate web developer and machine learning enthusiast from India</h3>\n",
    "\n",
    "<p align=\"left\"> <img src=\"https://komarev.com/ghpvc/?username=deepak18-06&label=Profile%20views&color=0e75b6&style=flat\" alt=\"deepak18-06\" /> </p>\n",
    "\n",
    "- 🔭 I’m currently working on **Djackets**\n",
    "\n",
    "- 🌱 I’m currently learning **Vue.js and ReactJS**\n",
    "\n",
    "- 👯 I’m looking to collaborate on **Financial Advisor**\n",
    "\n",
    "- 🤝 I’m looking for help with **NFT Marketplace Exchange**\n",
    "\n",
    "- 👨‍💻 My Leetcode Profile [https://leetcode.com/dkprajapat1212/](https://leetcode.com/dkprajapat1212/)\n",
    "\n",
    "- 💬 Ask me about **Django,React,Vue**\n",
    "\n",
    "- 📫 How to reach me **kumar.deepak.iiit@gmail.com**\n",
    "\n",
    "<h3 align=\"left\">Connect with me:</h3>\n",
    "<p align=\"left\">\n",
    "<a href=\"https://linkedin.com/in/https://www.linkedin.com/in/deepak-kumar-86a831184/\" target=\"blank\"><img align=\"center\" src=\"https://raw.githubusercontent.com/rahuldkjain/github-profile-readme-generator/neutral-icons/src/images/icons/Social/linked-in-alt.svg\" alt=\"https://www.linkedin.com/in/deepak-kumar-86a831184/\" height=\"30\" width=\"40\" /></a>\n",
    "<a href=\"https://www.leetcode.com/https://leetcode.com/dkprajapat1212/\" target=\"blank\"><img align=\"center\" src=\"https://raw.githubusercontent.com/rahuldkjain/github-profile-readme-generator/neutral-icons/src/images/icons/Social/leet-code.svg\" alt=\"https://leetcode.com/dkprajapat1212/\" height=\"30\" width=\"40\" /></a>\n",
    "</p>\n",
    "\n",
    "<h3 align=\"left\">Languages and Tools:</h3>\n",
    "<p align=\"left\"> <a href=\"https://www.cprogramming.com/\" target=\"_blank\"> <img src=\"https://raw.githubusercontent.com/devicons/devicon/master/icons/c/c-original.svg\" alt=\"c\" width=\"40\" height=\"40\"/> </a> <a href=\"https://www.w3schools.com/cpp/\" target=\"_blank\"> <img src=\"https://raw.githubusercontent.com/devicons/devicon/master/icons/cplusplus/cplusplus-original.svg\" alt=\"cplusplus\" width=\"40\" height=\"40\"/> </a> <a href=\"https://www.w3schools.com/css/\" target=\"_blank\"> <img src=\"https://raw.githubusercontent.com/devicons/devicon/master/icons/css3/css3-original-wordmark.svg\" alt=\"css3\" width=\"40\" height=\"40\"/> </a> <a href=\"https://flask.palletsprojects.com/\" target=\"_blank\"> <img src=\"https://www.vectorlogo.zone/logos/pocoo_flask/pocoo_flask-icon.svg\" alt=\"flask\" width=\"40\" height=\"40\"/> </a> <a href=\"https://git-scm.com/\" target=\"_blank\"> <img src=\"https://www.vectorlogo.zone/logos/git-scm/git-scm-icon.svg\" alt=\"git\" width=\"40\" height=\"40\"/> </a> <a href=\"https://heroku.com\" target=\"_blank\"> <img src=\"https://www.vectorlogo.zone/logos/heroku/heroku-icon.svg\" alt=\"heroku\" width=\"40\" height=\"40\"/> </a> <a href=\"https://www.w3.org/html/\" target=\"_blank\"> <img src=\"https://raw.githubusercontent.com/devicons/devicon/master/icons/html5/html5-original-wordmark.svg\" alt=\"html5\" width=\"40\" height=\"40\"/> </a> <a href=\"https://www.java.com\" target=\"_blank\"> <img src=\"https://raw.githubusercontent.com/devicons/devicon/master/icons/java/java-original.svg\" alt=\"java\" width=\"40\" height=\"40\"/> </a> <a href=\"https://developer.mozilla.org/en-US/docs/Web/JavaScript\" target=\"_blank\"> <img src=\"https://raw.githubusercontent.com/devicons/devicon/master/icons/javascript/javascript-original.svg\" alt=\"javascript\" width=\"40\" height=\"40\"/> </a> <a href=\"https://www.linux.org/\" target=\"_blank\"> <img src=\"https://raw.githubusercontent.com/devicons/devicon/master/icons/linux/linux-original.svg\" alt=\"linux\" width=\"40\" height=\"40\"/> </a> <a href=\"https://www.mysql.com/\" target=\"_blank\"> <img src=\"https://raw.githubusercontent.com/devicons/devicon/master/icons/mysql/mysql-original-wordmark.svg\" alt=\"mysql\" width=\"40\" height=\"40\"/> </a> <a href=\"https://www.python.org\" target=\"_blank\"> <img src=\"https://raw.githubusercontent.com/devicons/devicon/master/icons/python/python-original.svg\" alt=\"python\" width=\"40\" height=\"40\"/> </a> <a href=\"https://reactjs.org/\" target=\"_blank\"> <img src=\"https://raw.githubusercontent.com/devicons/devicon/master/icons/react/react-original-wordmark.svg\" alt=\"react\" width=\"40\" height=\"40\"/> </a> <a href=\"https://scikit-learn.org/\" target=\"_blank\"> <img src=\"https://upload.wikimedia.org/wikipedia/commons/0/05/Scikit_learn_logo_small.svg\" alt=\"scikit_learn\" width=\"40\" height=\"40\"/> </a> <a href=\"https://vuejs.org/\" target=\"_blank\"> <img src=\"https://raw.githubusercontent.com/devicons/devicon/master/icons/vuejs/vuejs-original-wordmark.svg\" alt=\"vuejs\" width=\"40\" height=\"40\"/> </a> </p>\n",
    "\n",
    "<p><img align=\"left\" src=\"https://github-readme-stats.vercel.app/api/top-langs?username=deepak18-06&show_icons=true&locale=en&layout=compact\" alt=\"deepak18-06\" /></p>\n",
    "\n",
    "<p>&nbsp;<img align=\"center\" src=\"https://github-readme-stats.vercel.app/api?username=deepak18-06&show_icons=true&locale=en\" alt=\"deepak18-06\" /></p>\n",
    "\n",
    "<p><img align=\"center\" src=\"https://github-readme-streak-stats.herokuapp.com/?user=deepak18-06&\" alt=\"deepak18-06\" /></p>\n"
   ]
  },
  {
   "cell_type": "code",
   "execution_count": 1,
   "metadata": {},
   "outputs": [
    {
     "data": {
      "text/plain": [
       "'deepakdeepak'"
      ]
     },
     "execution_count": 1,
     "metadata": {},
     "output_type": "execute_result"
    }
   ],
   "source": [
    "\"deepak\"*2"
   ]
  },
  {
   "cell_type": "code",
   "execution_count": null,
   "metadata": {},
   "outputs": [],
   "source": [
    "s = 'sakket'\n",
    "count = 0\n"
   ]
  },
  {
   "cell_type": "code",
   "execution_count": 3,
   "metadata": {},
   "outputs": [
    {
     "name": "stdout",
     "output_type": "stream",
     "text": [
      "17\n"
     ]
    }
   ],
   "source": [
    "a = 511709\n",
    "s = 0\n",
    "while a != 0:\n",
    "    x = a%10\n",
    "    s+=x\n",
    "    a = a//100\n",
    "print(s)"
   ]
  },
  {
   "cell_type": "code",
   "execution_count": 8,
   "metadata": {},
   "outputs": [
    {
     "data": {
      "text/plain": [
       "'c3ccca2a'"
      ]
     },
     "execution_count": 8,
     "metadata": {},
     "output_type": "execute_result"
    }
   ],
   "source": [
    "def compress(string):\n",
    "    if len(string)<2:\n",
    "        return string\n",
    "    res = ''\n",
    "    i =2\n",
    "    while i<len(string):\n",
    "        count = 1\n",
    "        while string[i] != string[i-1]:\n",
    "            count+=1\n",
    "            i+=1\n",
    "        if count == 1:\n",
    "            res+=string[i-1]\n",
    "        else:\n",
    "            res+=(string[i-1]+str(count))\n",
    "        i+=1\n",
    "    return res\n",
    "compress('aabcccccaaa')\n",
    "        \n"
   ]
  },
  {
   "cell_type": "code",
   "execution_count": 9,
   "metadata": {},
   "outputs": [
    {
     "name": "stdout",
     "output_type": "stream",
     "text": [
      "1\n",
      "6 5\n",
      "_3\n",
      "?3\n",
      "_1\n",
      "?2\n",
      "?1\n",
      "5\n",
      "5\n",
      "2\n"
     ]
    }
   ],
   "source": [
    "import collections\n",
    "def solve(n,query):\n",
    "    pages = [1 for i in range(n+1)]\n",
    "    pages[0] = 0\n",
    "    for q in query:\n",
    "        if q[0] == '_':\n",
    "            if int(q[1:])<=n//2:\n",
    "                pages[int(q[1:])] = 0\n",
    "                pages[n-int(q[1:])+1] = 0\n",
    "#             else:\n",
    "#                 pages[int(q[1:])]\n",
    "        else:\n",
    "            num = int(q[1:])\n",
    "            i = 0\n",
    "            pageno = 0\n",
    "            while pageno!= num:\n",
    "                pageno+=pages[i]\n",
    "                i+=1\n",
    "            print(i-1)\n",
    "for i in range(int(input())):\n",
    "    n,q = map(int,input().split())\n",
    "    Q = []\n",
    "    for k in range(q):\n",
    "        q1 = input()\n",
    "        Q.append(q1)\n",
    "    solve(n,Q)"
   ]
  },
  {
   "cell_type": "code",
   "execution_count": 7,
   "metadata": {},
   "outputs": [],
   "source": [
    "import collections\n",
    "pages = collections.defaultdict()"
   ]
  },
  {
   "cell_type": "code",
   "execution_count": 10,
   "metadata": {},
   "outputs": [
    {
     "data": {
      "text/plain": [
       "1"
      ]
     },
     "execution_count": 10,
     "metadata": {},
     "output_type": "execute_result"
    }
   ],
   "source": [
    "15 & 1"
   ]
  },
  {
   "cell_type": "code",
   "execution_count": 13,
   "metadata": {},
   "outputs": [],
   "source": [
    "a = collections.defaultdict(list)\n",
    "a['d'].append(3)"
   ]
  },
  {
   "cell_type": "code",
   "execution_count": 28,
   "metadata": {},
   "outputs": [
    {
     "name": "stdout",
     "output_type": "stream",
     "text": [
      "5 3\n",
      "5 6 7 1 2\n",
      "1 2\n",
      "2 3\n",
      "2 4\n",
      "1 5\n"
     ]
    },
    {
     "ename": "IndexError",
     "evalue": "list index out of range",
     "output_type": "error",
     "traceback": [
      "\u001b[0;31m---------------------------------------------------------------------------\u001b[0m",
      "\u001b[0;31mIndexError\u001b[0m                                Traceback (most recent call last)",
      "\u001b[0;32m<ipython-input-28-6cf538b5c90a>\u001b[0m in \u001b[0;36m<module>\u001b[0;34m\u001b[0m\n\u001b[1;32m     17\u001b[0m \u001b[0;32mdef\u001b[0m \u001b[0mquery\u001b[0m\u001b[0;34m(\u001b[0m\u001b[0mu\u001b[0m\u001b[0;34m)\u001b[0m\u001b[0;34m:\u001b[0m\u001b[0;34m\u001b[0m\u001b[0;34m\u001b[0m\u001b[0m\n\u001b[1;32m     18\u001b[0m     \u001b[0;32mreturn\u001b[0m \u001b[0mxor_values\u001b[0m\u001b[0;34m[\u001b[0m\u001b[0mu\u001b[0m\u001b[0;34m]\u001b[0m\u001b[0;34m\u001b[0m\u001b[0;34m\u001b[0m\u001b[0m\n\u001b[0;32m---> 19\u001b[0;31m \u001b[0mpre_compute_xor\u001b[0m\u001b[0;34m(\u001b[0m\u001b[0;36m1\u001b[0m\u001b[0;34m,\u001b[0m\u001b[0;34m-\u001b[0m\u001b[0;36m0\u001b[0m\u001b[0;34m)\u001b[0m\u001b[0;34m\u001b[0m\u001b[0;34m\u001b[0m\u001b[0m\n\u001b[0m\u001b[1;32m     20\u001b[0m \u001b[0;32mfor\u001b[0m \u001b[0mi\u001b[0m \u001b[0;32min\u001b[0m \u001b[0mrange\u001b[0m\u001b[0;34m(\u001b[0m\u001b[0;36m1\u001b[0m\u001b[0;34m,\u001b[0m\u001b[0mn\u001b[0m\u001b[0;34m+\u001b[0m\u001b[0;36m1\u001b[0m\u001b[0;34m)\u001b[0m\u001b[0;34m:\u001b[0m\u001b[0;34m\u001b[0m\u001b[0;34m\u001b[0m\u001b[0m\n\u001b[1;32m     21\u001b[0m     \u001b[0mquery\u001b[0m\u001b[0;34m(\u001b[0m\u001b[0mi\u001b[0m\u001b[0;34m)\u001b[0m\u001b[0;34m\u001b[0m\u001b[0;34m\u001b[0m\u001b[0m\n",
      "\u001b[0;32m<ipython-input-28-6cf538b5c90a>\u001b[0m in \u001b[0;36mpre_compute_xor\u001b[0;34m(i, prev)\u001b[0m\n\u001b[1;32m     12\u001b[0m     \u001b[0;32mfor\u001b[0m \u001b[0mj\u001b[0m \u001b[0;32min\u001b[0m \u001b[0mrange\u001b[0m\u001b[0;34m(\u001b[0m\u001b[0mlen\u001b[0m\u001b[0;34m(\u001b[0m\u001b[0mgraph\u001b[0m\u001b[0;34m[\u001b[0m\u001b[0mi\u001b[0m\u001b[0;34m]\u001b[0m\u001b[0;34m)\u001b[0m\u001b[0;34m)\u001b[0m\u001b[0;34m:\u001b[0m\u001b[0;34m\u001b[0m\u001b[0;34m\u001b[0m\u001b[0m\n\u001b[1;32m     13\u001b[0m         \u001b[0;32mif\u001b[0m \u001b[0mgraph\u001b[0m\u001b[0;34m[\u001b[0m\u001b[0mi\u001b[0m\u001b[0;34m]\u001b[0m\u001b[0;34m[\u001b[0m\u001b[0mj\u001b[0m\u001b[0;34m]\u001b[0m \u001b[0;34m!=\u001b[0m \u001b[0mprev\u001b[0m\u001b[0;34m:\u001b[0m\u001b[0;34m\u001b[0m\u001b[0;34m\u001b[0m\u001b[0m\n\u001b[0;32m---> 14\u001b[0;31m             \u001b[0mx\u001b[0m \u001b[0;34m^=\u001b[0m \u001b[0mpre_compute_xor\u001b[0m\u001b[0;34m(\u001b[0m\u001b[0mgraph\u001b[0m\u001b[0;34m[\u001b[0m\u001b[0mi\u001b[0m\u001b[0;34m]\u001b[0m\u001b[0;34m[\u001b[0m\u001b[0mj\u001b[0m\u001b[0;34m]\u001b[0m\u001b[0;34m,\u001b[0m \u001b[0mi\u001b[0m\u001b[0;34m)\u001b[0m\u001b[0;34m\u001b[0m\u001b[0;34m\u001b[0m\u001b[0m\n\u001b[0m\u001b[1;32m     15\u001b[0m     \u001b[0mxor_values\u001b[0m\u001b[0;34m[\u001b[0m\u001b[0mi\u001b[0m\u001b[0;34m]\u001b[0m \u001b[0;34m=\u001b[0m \u001b[0mx\u001b[0m\u001b[0;34m\u001b[0m\u001b[0;34m\u001b[0m\u001b[0m\n\u001b[1;32m     16\u001b[0m     \u001b[0;32mreturn\u001b[0m \u001b[0mx\u001b[0m\u001b[0;34m\u001b[0m\u001b[0;34m\u001b[0m\u001b[0m\n",
      "\u001b[0;32m<ipython-input-28-6cf538b5c90a>\u001b[0m in \u001b[0;36mpre_compute_xor\u001b[0;34m(i, prev)\u001b[0m\n\u001b[1;32m      9\u001b[0m \u001b[0mxor_values\u001b[0m \u001b[0;34m=\u001b[0m \u001b[0;34m[\u001b[0m\u001b[0;36m0\u001b[0m \u001b[0;32mfor\u001b[0m \u001b[0mi\u001b[0m \u001b[0;32min\u001b[0m \u001b[0mrange\u001b[0m\u001b[0;34m(\u001b[0m\u001b[0mn\u001b[0m\u001b[0;34m)\u001b[0m\u001b[0;34m]\u001b[0m\u001b[0;34m\u001b[0m\u001b[0;34m\u001b[0m\u001b[0m\n\u001b[1;32m     10\u001b[0m \u001b[0;32mdef\u001b[0m \u001b[0mpre_compute_xor\u001b[0m\u001b[0;34m(\u001b[0m\u001b[0mi\u001b[0m\u001b[0;34m,\u001b[0m \u001b[0mprev\u001b[0m\u001b[0;34m)\u001b[0m\u001b[0;34m:\u001b[0m\u001b[0;34m\u001b[0m\u001b[0;34m\u001b[0m\u001b[0m\n\u001b[0;32m---> 11\u001b[0;31m     \u001b[0mx\u001b[0m \u001b[0;34m=\u001b[0m \u001b[0mvalues\u001b[0m\u001b[0;34m[\u001b[0m\u001b[0mi\u001b[0m\u001b[0;34m]\u001b[0m\u001b[0;34m\u001b[0m\u001b[0;34m\u001b[0m\u001b[0m\n\u001b[0m\u001b[1;32m     12\u001b[0m     \u001b[0;32mfor\u001b[0m \u001b[0mj\u001b[0m \u001b[0;32min\u001b[0m \u001b[0mrange\u001b[0m\u001b[0;34m(\u001b[0m\u001b[0mlen\u001b[0m\u001b[0;34m(\u001b[0m\u001b[0mgraph\u001b[0m\u001b[0;34m[\u001b[0m\u001b[0mi\u001b[0m\u001b[0;34m]\u001b[0m\u001b[0;34m)\u001b[0m\u001b[0;34m)\u001b[0m\u001b[0;34m:\u001b[0m\u001b[0;34m\u001b[0m\u001b[0;34m\u001b[0m\u001b[0m\n\u001b[1;32m     13\u001b[0m         \u001b[0;32mif\u001b[0m \u001b[0mgraph\u001b[0m\u001b[0;34m[\u001b[0m\u001b[0mi\u001b[0m\u001b[0;34m]\u001b[0m\u001b[0;34m[\u001b[0m\u001b[0mj\u001b[0m\u001b[0;34m]\u001b[0m \u001b[0;34m!=\u001b[0m \u001b[0mprev\u001b[0m\u001b[0;34m:\u001b[0m\u001b[0;34m\u001b[0m\u001b[0;34m\u001b[0m\u001b[0m\n",
      "\u001b[0;31mIndexError\u001b[0m: list index out of range"
     ]
    }
   ],
   "source": [
    "# def solve(graph):\n",
    "    \n",
    "n,q = map(int,input().split())\n",
    "values = list(map(int,input().split()))\n",
    "graph  = collections.defaultdict(list)\n",
    "for i in range(n-1):\n",
    "    u,v = map(int,input().split())\n",
    "    graph[u].append(v)\n",
    "xor_values = [0 for i in range(n)]\n",
    "def pre_compute_xor(i, prev): \n",
    "    x = values[i] \n",
    "    for j in range(len(graph[i])): \n",
    "        if graph[i][j] != prev: \n",
    "            x ^= pre_compute_xor(graph[i][j], i) \n",
    "    xor_values[i] = x \n",
    "    return x \n",
    "def query(u): \n",
    "    return xor_values[u] \n",
    "pre_compute_xor(1,-0)\n",
    "for i in range(1,n+1):\n",
    "    query(i)\n",
    "\n",
    "    "
   ]
  },
  {
   "cell_type": "code",
   "execution_count": 16,
   "metadata": {},
   "outputs": [
    {
     "name": "stdout",
     "output_type": "stream",
     "text": [
      "1 2\n",
      "2 3\n",
      "2 4\n",
      "1 5\n"
     ]
    }
   ],
   "source": [
    "graph  = collections.defaultdict(list)\n",
    "for i in range(n-1):\n",
    "    u,v = map(int,input().split())\n",
    "    graph[u].append(v)\n",
    "xor_values = [0 for i in range(n)]\n",
    "def pre_compute_xor(i, prev): \n",
    "    x = values[i] \n",
    "    for j in range(len(graph[i])): \n",
    "        if graph[i][j] != prev: \n",
    "            x ^= pre_compute_xor(graph[i][j], i) \n",
    "    xor_values[i] = x \n",
    "    return x \n",
    "def query(u): \n",
    "    return xor_values[u] \n",
    "pre_compute_xor(0,-1)\n",
    "for i in range(1,n+1):\n",
    "    query(i)"
   ]
  },
  {
   "cell_type": "code",
   "execution_count": 31,
   "metadata": {},
   "outputs": [
    {
     "ename": "IndexError",
     "evalue": "list index out of range",
     "output_type": "error",
     "traceback": [
      "\u001b[0;31m---------------------------------------------------------------------------\u001b[0m",
      "\u001b[0;31mIndexError\u001b[0m                                Traceback (most recent call last)",
      "\u001b[0;32m<ipython-input-31-fb8fefd2eb2c>\u001b[0m in \u001b[0;36m<module>\u001b[0;34m\u001b[0m\n\u001b[1;32m     11\u001b[0m \u001b[0mpre_compute_xor\u001b[0m\u001b[0;34m(\u001b[0m\u001b[0;36m0\u001b[0m\u001b[0;34m,\u001b[0m\u001b[0;34m-\u001b[0m\u001b[0;36m1\u001b[0m\u001b[0;34m)\u001b[0m\u001b[0;34m\u001b[0m\u001b[0;34m\u001b[0m\u001b[0m\n\u001b[1;32m     12\u001b[0m \u001b[0;32mfor\u001b[0m \u001b[0mi\u001b[0m \u001b[0;32min\u001b[0m \u001b[0mrange\u001b[0m\u001b[0;34m(\u001b[0m\u001b[0;36m1\u001b[0m\u001b[0;34m,\u001b[0m\u001b[0mn\u001b[0m\u001b[0;34m+\u001b[0m\u001b[0;36m1\u001b[0m\u001b[0;34m)\u001b[0m\u001b[0;34m:\u001b[0m\u001b[0;34m\u001b[0m\u001b[0;34m\u001b[0m\u001b[0m\n\u001b[0;32m---> 13\u001b[0;31m     \u001b[0mquery\u001b[0m\u001b[0;34m(\u001b[0m\u001b[0mi\u001b[0m\u001b[0;34m)\u001b[0m\u001b[0;34m\u001b[0m\u001b[0;34m\u001b[0m\u001b[0m\n\u001b[0m",
      "\u001b[0;32m<ipython-input-31-fb8fefd2eb2c>\u001b[0m in \u001b[0;36mquery\u001b[0;34m(u)\u001b[0m\n\u001b[1;32m      8\u001b[0m     \u001b[0;32mreturn\u001b[0m \u001b[0mx\u001b[0m\u001b[0;34m\u001b[0m\u001b[0;34m\u001b[0m\u001b[0m\n\u001b[1;32m      9\u001b[0m \u001b[0;32mdef\u001b[0m \u001b[0mquery\u001b[0m\u001b[0;34m(\u001b[0m\u001b[0mu\u001b[0m\u001b[0;34m)\u001b[0m\u001b[0;34m:\u001b[0m\u001b[0;34m\u001b[0m\u001b[0;34m\u001b[0m\u001b[0m\n\u001b[0;32m---> 10\u001b[0;31m     \u001b[0;32mreturn\u001b[0m \u001b[0mxor_values\u001b[0m\u001b[0;34m[\u001b[0m\u001b[0mu\u001b[0m\u001b[0;34m]\u001b[0m\u001b[0;34m\u001b[0m\u001b[0;34m\u001b[0m\u001b[0m\n\u001b[0m\u001b[1;32m     11\u001b[0m \u001b[0mpre_compute_xor\u001b[0m\u001b[0;34m(\u001b[0m\u001b[0;36m0\u001b[0m\u001b[0;34m,\u001b[0m\u001b[0;34m-\u001b[0m\u001b[0;36m1\u001b[0m\u001b[0;34m)\u001b[0m\u001b[0;34m\u001b[0m\u001b[0;34m\u001b[0m\u001b[0m\n\u001b[1;32m     12\u001b[0m \u001b[0;32mfor\u001b[0m \u001b[0mi\u001b[0m \u001b[0;32min\u001b[0m \u001b[0mrange\u001b[0m\u001b[0;34m(\u001b[0m\u001b[0;36m1\u001b[0m\u001b[0;34m,\u001b[0m\u001b[0mn\u001b[0m\u001b[0;34m+\u001b[0m\u001b[0;36m1\u001b[0m\u001b[0;34m)\u001b[0m\u001b[0;34m:\u001b[0m\u001b[0;34m\u001b[0m\u001b[0;34m\u001b[0m\u001b[0m\n",
      "\u001b[0;31mIndexError\u001b[0m: list index out of range"
     ]
    }
   ],
   "source": [
    "xor_values = [0 for i in range(n)]\n",
    "def pre_compute_xor(i, prev): \n",
    "    x = values[i] \n",
    "    for j in range(len(graph[i])): \n",
    "        if graph[i][j] != prev: \n",
    "            x ^= pre_compute_xor(graph[i][j], i) \n",
    "    xor_values[i] = x \n",
    "    return x \n",
    "def query(u): \n",
    "    return xor_values[u] \n",
    "pre_compute_xor(0,-1)\n",
    "for i in range(1,n+1):\n",
    "    query(i)"
   ]
  },
  {
   "cell_type": "code",
   "execution_count": 32,
   "metadata": {},
   "outputs": [
    {
     "name": "stdout",
     "output_type": "stream",
     "text": [
      "defaultdict(<class 'list'>, {1: [2, 5], 2: [3, 4], 3: [], 4: [], 0: []})\n"
     ]
    }
   ],
   "source": [
    "print(graph)"
   ]
  },
  {
   "cell_type": "code",
   "execution_count": 29,
   "metadata": {},
   "outputs": [
    {
     "data": {
      "text/plain": [
       "7"
      ]
     },
     "execution_count": 29,
     "metadata": {},
     "output_type": "execute_result"
    }
   ],
   "source": [
    "5 | 6 |2"
   ]
  },
  {
   "cell_type": "code",
   "execution_count": 30,
   "metadata": {},
   "outputs": [
    {
     "data": {
      "text/plain": [
       "7"
      ]
     },
     "execution_count": 30,
     "metadata": {},
     "output_type": "execute_result"
    }
   ],
   "source": [
    "6 | 1 | 7"
   ]
  },
  {
   "cell_type": "code",
   "execution_count": 33,
   "metadata": {},
   "outputs": [
    {
     "name": "stdout",
     "output_type": "stream",
     "text": [
      "[5, 0, 0, 0, 0]\n"
     ]
    }
   ],
   "source": [
    "print(xor_values)"
   ]
  },
  {
   "cell_type": "code",
   "execution_count": 35,
   "metadata": {},
   "outputs": [
    {
     "name": "stdout",
     "output_type": "stream",
     "text": [
      "7\n",
      "0\n",
      "7\n",
      "1\n",
      "2\n"
     ]
    }
   ],
   "source": [
    "graph = [] \n",
    "  \n",
    "# Value of the node \n",
    "values = [5,6,7,1,2] \n",
    "xor_values = [] \n",
    "  \n",
    "# Function to pre-compute the xor values \n",
    "def pre_compute_xor(i, prev): \n",
    "  \n",
    "    # xor of the sub-tree \n",
    "    x = values[i] \n",
    "  \n",
    "    for j in range(len(graph[i])): \n",
    "        if graph[i][j] != prev: \n",
    "  \n",
    "            # xor x with xor of the sub-tree \n",
    "            # of it child nodes \n",
    "            x ^= pre_compute_xor(graph[i][j], i) \n",
    "  \n",
    "    xor_values[i] = x \n",
    "  \n",
    "    # Return the xor \n",
    "    return x \n",
    "  \n",
    "# Function to return the xor of \n",
    "# the nodes of the sub-tree \n",
    "# rooted at node u \n",
    "def query(u): \n",
    "  \n",
    "    return xor_values[u]  \n",
    "n = 7\n",
    "for i in range(n):\n",
    "    graph.append([])\n",
    "    xor_values.append(0) \n",
    "graph[0].append(1) \n",
    "graph[1].append(2) \n",
    "graph[1].append(3) \n",
    "graph[0].append(4)  \n",
    "\n",
    "pre_compute_xor(0, -1) \n",
    "  \n",
    "# Perform queries \n",
    "queries = [ 0, 1,2,3,4 ] \n",
    "q = len(queries) \n",
    "for i in range(q): \n",
    "    print(query(queries[i])) "
   ]
  },
  {
   "cell_type": "code",
   "execution_count": 1,
   "metadata": {},
   "outputs": [
    {
     "name": "stdout",
     "output_type": "stream",
     "text": [
      "4\n",
      "2\n",
      "5\n",
      "7\n",
      "9\n",
      "4\n",
      "2 9\n",
      "7 2\n",
      "7 9\n",
      "sss\n"
     ]
    },
    {
     "ename": "ValueError",
     "evalue": "invalid literal for int() with base 10: 'sss'",
     "output_type": "error",
     "traceback": [
      "\u001b[0;31m---------------------------------------------------------------------------\u001b[0m",
      "\u001b[0;31mValueError\u001b[0m                                Traceback (most recent call last)",
      "\u001b[0;32m<ipython-input-1-e67f6d389f5a>\u001b[0m in \u001b[0;36m<module>\u001b[0;34m\u001b[0m\n\u001b[1;32m      8\u001b[0m \u001b[0mgraph\u001b[0m \u001b[0;34m=\u001b[0m \u001b[0mcollections\u001b[0m\u001b[0;34m.\u001b[0m\u001b[0mdefaultdict\u001b[0m\u001b[0;34m(\u001b[0m\u001b[0mlist\u001b[0m\u001b[0;34m)\u001b[0m\u001b[0;34m\u001b[0m\u001b[0;34m\u001b[0m\u001b[0m\n\u001b[1;32m      9\u001b[0m \u001b[0;32mfor\u001b[0m \u001b[0m_\u001b[0m \u001b[0;32min\u001b[0m \u001b[0mrange\u001b[0m\u001b[0;34m(\u001b[0m\u001b[0medges\u001b[0m\u001b[0;34m)\u001b[0m\u001b[0;34m:\u001b[0m\u001b[0;34m\u001b[0m\u001b[0;34m\u001b[0m\u001b[0m\n\u001b[0;32m---> 10\u001b[0;31m     \u001b[0mu\u001b[0m\u001b[0;34m,\u001b[0m\u001b[0mv\u001b[0m \u001b[0;34m=\u001b[0m \u001b[0mmap\u001b[0m\u001b[0;34m(\u001b[0m\u001b[0mint\u001b[0m\u001b[0;34m,\u001b[0m\u001b[0minput\u001b[0m\u001b[0;34m(\u001b[0m\u001b[0;34m)\u001b[0m\u001b[0;34m.\u001b[0m\u001b[0msplit\u001b[0m\u001b[0;34m(\u001b[0m\u001b[0;34m)\u001b[0m\u001b[0;34m)\u001b[0m\u001b[0;34m\u001b[0m\u001b[0;34m\u001b[0m\u001b[0m\n\u001b[0m\u001b[1;32m     11\u001b[0m     \u001b[0mgraph\u001b[0m\u001b[0;34m[\u001b[0m\u001b[0mu\u001b[0m\u001b[0;34m]\u001b[0m\u001b[0;34m.\u001b[0m\u001b[0mappend\u001b[0m\u001b[0;34m(\u001b[0m\u001b[0mv\u001b[0m\u001b[0;34m)\u001b[0m\u001b[0;34m\u001b[0m\u001b[0;34m\u001b[0m\u001b[0m\n\u001b[1;32m     12\u001b[0m \u001b[0;31m# print(graph,memId)\u001b[0m\u001b[0;34m\u001b[0m\u001b[0;34m\u001b[0m\u001b[0;34m\u001b[0m\u001b[0m\n",
      "\u001b[0;31mValueError\u001b[0m: invalid literal for int() with base 10: 'sss'"
     ]
    }
   ],
   "source": [
    "import collections\n",
    "# Write your code here\n",
    "n = int(input())\n",
    "memId = []\n",
    "for _ in range(n):\n",
    "    memId.append(int(input()))\n",
    "edges = int(input())\n",
    "graph = collections.defaultdict(list)\n",
    "for _ in range(edges):\n",
    "    u,v = map(int,input().split())\n",
    "    graph[u].append(v)\n",
    "# print(graph,memId)\n",
    "a = int(input())\n",
    "b = int(input()) \n",
    "def isReachable(s,d):\n",
    "    visited = dict()\n",
    "    queue = []\n",
    "    queue.append(s)\n",
    "    visited.add(s)\n",
    "    while queue:\n",
    "        n = queue.pop(0)\n",
    "        if n == d:\n",
    "            return True\n",
    "        for i in graph[n]:\n",
    "            if i not in visited:\n",
    "                queue.append(i)\n",
    "                visited.add(i)\n",
    "    return False\n",
    "print(isReachable(a,b))"
   ]
  },
  {
   "cell_type": "code",
   "execution_count": 2,
   "metadata": {},
   "outputs": [
    {
     "name": "stdout",
     "output_type": "stream",
     "text": [
      "{0} and {1} are not connected\n",
      "{0} and {1} are not connected\n",
      "Distance of 2th vertex from source vertex 7 is: 3\n",
      "{0} and {1} are not connected\n",
      "{0} and {1} are not connected\n",
      "Distance of 5th vertex from source vertex 7 is: 6\n",
      "{0} and {1} are not connected\n",
      "Distance of 7th vertex from source vertex 7 is: 0\n",
      "{0} and {1} are not connected\n",
      "Distance of 9th vertex from source vertex 7 is: 5\n"
     ]
    }
   ],
   "source": [
    "# Python3 implementation to find the\n",
    "# shortest path in a directed\n",
    "# graph from source vertex to\n",
    "# the destination vertex\n",
    "class Pair:\n",
    "\tdef __init__(self, first, second):\n",
    "\t\tself.first = first\n",
    "\t\tself.second = second\n",
    "infi = 1000000000;\n",
    "\n",
    "# Class of the node\n",
    "class Node:\n",
    "\n",
    "\t# Adjacency list that shows the\n",
    "\t# vertexNumber of child vertex\n",
    "\t# and the weight of the edge\n",
    "\tdef __init__(self, vertexNumber):\t\n",
    "\t\tself.vertexNumber = vertexNumber\n",
    "\t\tself.children = []\n",
    "\n",
    "\t# Function to add the child for\n",
    "\t# the given node\n",
    "\tdef Add_child(self, vNumber, length):\n",
    "\t\tp = Pair(vNumber, length);\n",
    "\t\tself.children.append(p);\n",
    "\t\n",
    "# Function to find the distance of\n",
    "# the node from the given source\n",
    "# vertex to the destination vertex\n",
    "def dijkstraDist(g, s, path):\n",
    "\t\n",
    "\t# Stores distance of each\n",
    "\t# vertex from source vertex\n",
    "\tdist = [infi for i in range(len(g))]\n",
    "\n",
    "\t# bool array that shows\n",
    "\t# whether the vertex 'i'\n",
    "\t# is visited or not\n",
    "\tvisited = [False for i in range(len(g))]\n",
    "\t\n",
    "\tfor i in range(len(g)):\t\n",
    "\t\tpath[i] = -1\n",
    "\tdist[s] = 0;\n",
    "\tpath[s] = -1;\n",
    "\tcurrent = s;\n",
    "\n",
    "\t# Set of vertices that has\n",
    "\t# a parent (one or more)\n",
    "\t# marked as visited\n",
    "\tsett = set()\t\n",
    "\twhile (True):\n",
    "\t\t\n",
    "\t\t# Mark current as visited\n",
    "\t\tvisited[current] = True;\n",
    "\t\tfor i in range(len(g[current].children)):\n",
    "\t\t\tv = g[current].children[i].first;\t\t\n",
    "\t\t\tif (visited[v]):\n",
    "\t\t\t\tcontinue;\n",
    "\n",
    "\t\t\t# Inserting into the\n",
    "\t\t\t# visited vertex\n",
    "\t\t\tsett.add(v);\n",
    "\t\t\talt = dist[current] + g[current].children[i].second;\n",
    "\n",
    "\t\t\t# Condition to check the distance\n",
    "\t\t\t# is correct and update it\n",
    "\t\t\t# if it is minimum from the previous\n",
    "\t\t\t# computed distance\n",
    "\t\t\tif (alt < dist[v]):\t\n",
    "\t\t\t\tdist[v] = alt;\n",
    "\t\t\t\tpath[v] = current;\t\n",
    "\t\tif current in sett:\t\t\n",
    "\t\t\tsett.remove(current);\t\n",
    "\t\tif (len(sett) == 0):\n",
    "\t\t\tbreak;\n",
    "\n",
    "\t\t# The new current\n",
    "\t\tminDist = infi;\n",
    "\t\tindex = 0;\n",
    "\n",
    "\t\t# Loop to update the distance\n",
    "\t\t# of the vertices of the graph\n",
    "\t\tfor a in sett:\t\n",
    "\t\t\tif (dist[a] < minDist):\t\t\n",
    "\t\t\t\tminDist = dist[a];\n",
    "\t\t\t\tindex = a;\t\t\n",
    "\t\tcurrent = index;\n",
    "\treturn dist;\n",
    "\n",
    "# Function to print the path\n",
    "# from the source vertex to\n",
    "# the destination vertex\n",
    "def printPath(path, i, s):\n",
    "\tif (i != s):\n",
    "\t\t\n",
    "\t\t# Condition to check if\n",
    "\t\t# there is no path between\n",
    "\t\t# the vertices\n",
    "\t\tif (path[i] == -1):\t\n",
    "\t\t\tprint(\"Path not found!!\");\n",
    "\t\t\treturn;\t\n",
    "\t\tprintPath(path, path[i], s);\n",
    "\t\tprint(path[i] + \" \");\n",
    "\t\n",
    "# Driver Code\n",
    "if __name__=='__main__':\n",
    "\t\n",
    "\tv = []\n",
    "\tn = 10\n",
    "\ts = 7;\n",
    "\n",
    "\t# Loop to create the nodes\n",
    "\tfor i in range(n):\n",
    "\t\ta = Node(i);\n",
    "\t\tv.append(a);\n",
    "\n",
    "\t# Creating directed\n",
    "\t# weighted edges\n",
    "\tv[2].Add_child(9, 2);\n",
    "\tv[7].Add_child(2, 3);\n",
    "\tv[7].Add_child(9, 7);\n",
    "\tv[9].Add_child(5, 1);\n",
    "\tpath = [0 for i in range(len(v))];\n",
    "\tdist = dijkstraDist(v, s, path);\n",
    "\n",
    "\t# Loop to print the distance of\n",
    "\t# every node from source vertex\n",
    "\tfor i in range(len(dist)):\n",
    "\t\tif (dist[i] == infi):\n",
    "\t\t\n",
    "\t\t\tprint(\"{0} and {1} are not \" +\n",
    "\t\t\t\t\t\t\t\"connected\".format(i, s));\n",
    "\t\t\tcontinue;\t\n",
    "\t\tprint(\"Distance of {}th vertex from source vertex {} is: {}\".format(\n",
    "\t\t\t\t\t\ti, s, dist[i]));\n",
    "\t\n",
    "\t# This code is contributed by pratham76\n"
   ]
  },
  {
   "cell_type": "code",
   "execution_count": 3,
   "metadata": {},
   "outputs": [
    {
     "name": "stdout",
     "output_type": "stream",
     "text": [
      "0 1000000000\n",
      "1 1000000000\n",
      "2 3\n",
      "3 1000000000\n",
      "4 1000000000\n",
      "5 6\n",
      "6 1000000000\n",
      "7 0\n",
      "8 1000000000\n",
      "9 5\n"
     ]
    }
   ],
   "source": [
    "for i in range(len(dist)):\n",
    "    print(i,dist[i])"
   ]
  },
  {
   "cell_type": "code",
   "execution_count": 4,
   "metadata": {},
   "outputs": [
    {
     "data": {
      "text/plain": [
       "[-1, -1, 7, -1, -1, 9, -1, -1, -1, 2]"
      ]
     },
     "execution_count": 4,
     "metadata": {},
     "output_type": "execute_result"
    }
   ],
   "source": [
    "path"
   ]
  },
  {
   "cell_type": "code",
   "execution_count": 17,
   "metadata": {},
   "outputs": [
    {
     "ename": "IndentationError",
     "evalue": "unindent does not match any outer indentation level (<tokenize>, line 34)",
     "output_type": "error",
     "traceback": [
      "\u001b[0;36m  File \u001b[0;32m\"<tokenize>\"\u001b[0;36m, line \u001b[0;32m34\u001b[0m\n\u001b[0;31m    result.append(path.copy.deepcopy())\u001b[0m\n\u001b[0m    ^\u001b[0m\n\u001b[0;31mIndentationError\u001b[0m\u001b[0;31m:\u001b[0m unindent does not match any outer indentation level\n"
     ]
    }
   ],
   "source": [
    "# Python program to print all paths from a source to destination.\n",
    "import copy\n",
    "result = []\n",
    "from collections import defaultdict\n",
    "\n",
    "# This class represents a directed graph\n",
    "# using adjacency list representation\n",
    "class Graph:\n",
    "\n",
    "\tdef __init__(self, vertices):\n",
    "\t\t# No. of vertices\n",
    "\t\tself.V = vertices\n",
    "\t\t\n",
    "\t\t# default dictionary to store graph\n",
    "\t\tself.graph = defaultdict(list)\n",
    "\n",
    "\t# function to add an edge to graph\n",
    "\tdef addEdge(self, u, v):\n",
    "\t\tself.graph[u].append(v)\n",
    "\n",
    "\t'''A recursive function to print all paths from 'u' to 'd'.\n",
    "\tvisited[] keeps track of vertices in current path.\n",
    "\tpath[] stores actual vertices and path_index is current\n",
    "\tindex in path[]'''\n",
    "\tdef printAllPathsUtil(self, u, d, visited, path):\n",
    "\n",
    "\t\t# Mark the current node as visited and store in path\n",
    "\t\tvisited[u]= True\n",
    "\t\tpath.append(u)\n",
    "\n",
    "\t\t# If current vertex is same as destination, then print\n",
    "\t\t# current path[]\n",
    "\t\tif u == d:\n",
    "            result.append(path.copy.deepcopy())\n",
    "\t\t\tprint(path)\n",
    "\t\telse:\n",
    "\t\t\t# If current vertex is not destination\n",
    "\t\t\t# Recur for all the vertices adjacent to this vertex\n",
    "\t\t\tfor i in self.graph[u]:\n",
    "\t\t\t\tif visited[i]== False:\n",
    "\t\t\t\t\tself.printAllPathsUtil(i, d, visited, path)\n",
    "\t\t\t\t\t\n",
    "\t\t# Remove current vertex from path[] and mark it as unvisited\n",
    "\t\tpath.pop()\n",
    "\t\tvisited[u]= False\n",
    "\n",
    "\n",
    "\t# Prints all paths from 's' to 'd'\n",
    "\tdef printAllPaths(self, s, d):\n",
    "\n",
    "\t\t# Mark all the vertices as not visited\n",
    "\t\tvisited =[False]*(self.V)\n",
    "\n",
    "\t\t# Create an array to store paths\n",
    "\t\tpath = []\n",
    "\n",
    "\t\t# Call the recursive helper function to print all paths\n",
    "\t\tself.printAllPathsUtil(s, d, visited, path)\n",
    "\n",
    "\n",
    "\n",
    "# Create a graph given in the above diagram\n",
    "g = Graph(10)\n",
    "g.addEdge(2, 9)\n",
    "g.addEdge(7, 2)\n",
    "g.addEdge(7, 9)\n",
    "g.addEdge(9, 5)\n",
    "\n",
    "s = 7 ; d = 9\n",
    "print (\"Following are all different paths from % d to % d :\" %(s, d))\n",
    "g.printAllPaths(s, d)\n",
    "# This code is contributed by Neelam Yadav\n"
   ]
  },
  {
   "cell_type": "code",
   "execution_count": 8,
   "metadata": {},
   "outputs": [
    {
     "ename": "NameError",
     "evalue": "name 'p' is not defined",
     "output_type": "error",
     "traceback": [
      "\u001b[0;31m---------------------------------------------------------------------------\u001b[0m",
      "\u001b[0;31mNameError\u001b[0m                                 Traceback (most recent call last)",
      "\u001b[0;32m<ipython-input-8-c7efc66e9b10>\u001b[0m in \u001b[0;36m<module>\u001b[0;34m\u001b[0m\n\u001b[0;32m----> 1\u001b[0;31m \u001b[0mprint\u001b[0m\u001b[0;34m(\u001b[0m\u001b[0mp\u001b[0m\u001b[0;34m)\u001b[0m\u001b[0;34m\u001b[0m\u001b[0;34m\u001b[0m\u001b[0m\n\u001b[0m",
      "\u001b[0;31mNameError\u001b[0m: name 'p' is not defined"
     ]
    }
   ],
   "source": [
    "print(p)"
   ]
  },
  {
   "cell_type": "code",
   "execution_count": null,
   "metadata": {},
   "outputs": [],
   "source": [
    "for _ in range(int(input())):\n",
    "    D,d,A,B,C = map(int,input().split())\n",
    "    distance = D*d\n",
    "    a = 0\n",
    "    b = 0\n",
    "    c = 0\n",
    "    if distance<10:\n",
    "        pass\n",
    "    if 10 <= distance <21:\n",
    "        a = A\n",
    "    elif 21<=distance<42:\n",
    "        b = B\n",
    "    elif distance>=42:\n",
    "        c = C\n",
    "    print(max(a,b,c))\n",
    "        "
   ]
  },
  {
   "cell_type": "code",
   "execution_count": 18,
   "metadata": {},
   "outputs": [
    {
     "name": "stdout",
     "output_type": "stream",
     "text": [
      "3\n",
      "5 2 2 2 2 2 2 2 2 2 2 2\n",
      "6 6\n",
      "5 2 2 2 2 2 2 3 2 2 2 2\n",
      "6 7\n",
      "9 4 2 2 2 2 3 2 2 2 2 2\n",
      "1 1\n"
     ]
    }
   ],
   "source": [
    "for _ in range(int(input())):\n",
    "    x = list(map(int,input().split()))\n",
    "    g,p = x[0],x[1]\n",
    "    x = x[2:]\n",
    "    leftSum = sum(x[g:])\n",
    "    mini = leftSum//p + 1\n",
    "    left2 = sum(x[g-1:])\n",
    "    if left2%p == 0:\n",
    "        maxi = left2//p\n",
    "    else:\n",
    "        maxi = left2//p + 1\n",
    "    print(mini,maxi)"
   ]
  },
  {
   "cell_type": "code",
   "execution_count": null,
   "metadata": {},
   "outputs": [],
   "source": [
    "for _ in range(int(input())):\n",
    "    x1,y1,x2,y2 = map(int,input().split())\n",
    "    "
   ]
  },
  {
   "cell_type": "code",
   "execution_count": null,
   "metadata": {},
   "outputs": [],
   "source": [
    "for _ in range(int(input())):\n",
    "    n,k = map(int,input().split())\n",
    "    arr = list(map(int,input().split()))\n",
    "    res = []\n",
    "    for i in range(0,n-k+1):\n",
    "        res.append(sum(arr[i:i+k]))\n",
    "    print(res)\n",
    "        "
   ]
  },
  {
   "cell_type": "code",
   "execution_count": 21,
   "metadata": {},
   "outputs": [
    {
     "name": "stdout",
     "output_type": "stream",
     "text": [
      "1 2 3 4 5\n",
      "[3, 5, 7, 9]\n"
     ]
    }
   ],
   "source": [
    "arr = list(map(int,input().split()))\n",
    "res = []\n",
    "k = 2\n",
    "n = 5\n",
    "for i in range(0,n-k+1):\n",
    "    res.append(sum(arr[i:i+k]))\n",
    "print(res)"
   ]
  },
  {
   "cell_type": "code",
   "execution_count": null,
   "metadata": {},
   "outputs": [],
   "source": []
  }
 ],
 "metadata": {
  "kernelspec": {
   "display_name": "Python 3",
   "language": "python",
   "name": "python3"
  },
  "language_info": {
   "codemirror_mode": {
    "name": "ipython",
    "version": 3
   },
   "file_extension": ".py",
   "mimetype": "text/x-python",
   "name": "python",
   "nbconvert_exporter": "python",
   "pygments_lexer": "ipython3",
   "version": "3.8.8"
  }
 },
 "nbformat": 4,
 "nbformat_minor": 4
}
