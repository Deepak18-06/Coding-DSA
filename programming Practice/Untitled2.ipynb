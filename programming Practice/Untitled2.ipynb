{
 "cells": [
  {
   "cell_type": "code",
   "execution_count": 3,
   "metadata": {},
   "outputs": [
    {
     "data": {
      "text/plain": [
       "4"
      ]
     },
     "execution_count": 3,
     "metadata": {},
     "output_type": "execute_result"
    }
   ],
   "source": [
    "def fun(string):\n",
    "\toccurances = 0\n",
    "\tfor i in range(len(string)):\n",
    "\t\tif string[i].lower() == 'i':\n",
    "\t\t\toccurances+=1\n",
    "\treturn occurances\n",
    "string = 'India is a country of Asia'\n",
    "fun(string)"
   ]
  },
  {
   "cell_type": "code",
   "execution_count": 30,
   "metadata": {},
   "outputs": [
    {
     "data": {
      "text/plain": [
       "[0, 0, 0, 0, 0, 0, 0, 0, 0, 0, 0, 0, 0, 0, 0, 0, 0, 0, 0, 0, 0, 0, 58, 1, 1, 1]"
      ]
     },
     "execution_count": 30,
     "metadata": {},
     "output_type": "execute_result"
    }
   ],
   "source": [
    "def solve(string):\n",
    "    res = [0 for i in range(26)]\n",
    "    i = 0\n",
    "    while i<len(string):\n",
    "        #print(i)\n",
    "        if string[i:i+2] == '#(':\n",
    "            res[int(string[i-1])-1]-=1\n",
    "            res[int(string[i-2])-1]-=1\n",
    "            k = i+2\n",
    "            while string[k] != ')':\n",
    "                k+=1\n",
    "            res[int(string[i-2:i])-1]+=int(string[i+2:k])\n",
    "            i = k+1\n",
    "        elif string[i] == '(':\n",
    "            k = i+1\n",
    "            while string[k] != ')':\n",
    "                k+=1\n",
    "            res[int(string[i-1])-1]+=int(string[i+1:k]) -1 \n",
    "            i = k+1\n",
    "        elif string[i] == '#':\n",
    "            res[int(string[i-1])-1]-=1\n",
    "            res[int(string[i-2])-1]-=1\n",
    "            res[int(string[i-2:i])-1]+=1\n",
    "            i+=1\n",
    "        else:\n",
    "            res[int(string[i])-1]+=1\n",
    "            i+=1\n",
    "    return res\n",
    "string = '23#(27)24#25#26#23#(31)'\n",
    "solve(string)"
   ]
  },
  {
   "cell_type": "code",
   "execution_count": 15,
   "metadata": {},
   "outputs": [
    {
     "data": {
      "text/plain": [
       "6"
      ]
     },
     "execution_count": 15,
     "metadata": {},
     "output_type": "execute_result"
    }
   ],
   "source": [
    "def solve(cars,k):\n",
    "    n = len(cars)\n",
    "    res = float(\"inf\")\n",
    "    cars.sort()\n",
    "    i = 0\n",
    "    while i<n-k+1:\n",
    "        temp = cars[i+k-1] - cars[i] + 1\n",
    "        res = min(temp,res)\n",
    "        i+=1\n",
    "    return res\n",
    "cars =[6,2,12,7]\n",
    "k = 3\n",
    "solve(cars,k)"
   ]
  },
  {
   "cell_type": "code",
   "execution_count": 1,
   "metadata": {},
   "outputs": [
    {
     "data": {
      "text/plain": [
       "2"
      ]
     },
     "execution_count": 1,
     "metadata": {},
     "output_type": "execute_result"
    }
   ],
   "source": [
    "1^3"
   ]
  },
  {
   "cell_type": "code",
   "execution_count": 11,
   "metadata": {},
   "outputs": [
    {
     "data": {
      "text/plain": [
       "14"
      ]
     },
     "execution_count": 11,
     "metadata": {},
     "output_type": "execute_result"
    }
   ],
   "source": [
    "1^3^4^8"
   ]
  },
  {
   "cell_type": "code",
   "execution_count": 13,
   "metadata": {},
   "outputs": [
    {
     "data": {
      "text/plain": [
       "7"
      ]
     },
     "execution_count": 13,
     "metadata": {},
     "output_type": "execute_result"
    }
   ],
   "source": [
    "6^1"
   ]
  },
  {
   "cell_type": "code",
   "execution_count": 14,
   "metadata": {},
   "outputs": [
    {
     "data": {
      "text/plain": [
       "8"
      ]
     },
     "execution_count": 14,
     "metadata": {},
     "output_type": "execute_result"
    }
   ],
   "source": [
    "14^6"
   ]
  },
  {
   "cell_type": "code",
   "execution_count": null,
   "metadata": {},
   "outputs": [],
   "source": []
  }
 ],
 "metadata": {
  "kernelspec": {
   "display_name": "Python 3",
   "language": "python",
   "name": "python3"
  },
  "language_info": {
   "codemirror_mode": {
    "name": "ipython",
    "version": 3
   },
   "file_extension": ".py",
   "mimetype": "text/x-python",
   "name": "python",
   "nbconvert_exporter": "python",
   "pygments_lexer": "ipython3",
   "version": "3.8.3"
  }
 },
 "nbformat": 4,
 "nbformat_minor": 4
}
