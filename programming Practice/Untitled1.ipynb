{
 "cells": [
  {
   "cell_type": "code",
   "execution_count": 1,
   "metadata": {},
   "outputs": [
    {
     "name": "stdout",
     "output_type": "stream",
     "text": [
      "[[0, 1, 2, 3, 4, 5, 6, 7, 8, 9, 10], [1, 0, 1, 2, 3, 4, 5, 6, 7, 8, 9], [2, 1, 1, 2, 3, 4, 5, 6, 6, 7, 8], [3, 2, 2, 2, 3, 4, 5, 6, 7, 7, 7], [4, 3, 3, 3, 3, 4, 5, 5, 6, 7, 8], [5, 4, 3, 4, 3, 4, 5, 6, 6, 7, 8], [6, 5, 4, 4, 4, 4, 5, 6, 7, 7, 7], [7, 6, 5, 5, 5, 5, 5, 6, 7, 8, 8], [8, 7, 6, 6, 6, 6, 6, 6, 6, 7, 8], [9, 8, 7, 7, 7, 7, 7, 7, 7, 6, 7], [10, 9, 8, 8, 8, 8, 8, 8, 8, 7, 6]]\n",
      "6\n"
     ]
    }
   ],
   "source": [
    "# A Dynamic Programming based Python program for edit \n",
    "# distance problem \n",
    "def editDistDP(str1, str2, m, n): \n",
    "    # Create a table to store results of subproblems \n",
    "    dp = [[0 for x in range(n + 1)] for x in range(m + 1)] \n",
    "  \n",
    "    # Fill d[][] in bottom up manner \n",
    "    for i in range(m + 1): \n",
    "        for j in range(n + 1): \n",
    "  \n",
    "            # If first string is empty, only option is to \n",
    "            # insert all characters of second string \n",
    "            if i == 0: \n",
    "                dp[i][j] = j    # Min. operations = j \n",
    "  \n",
    "            # If second string is empty, only option is to \n",
    "            # remove all characters of second string \n",
    "            elif j == 0: \n",
    "                dp[i][j] = i    # Min. operations = i \n",
    "  \n",
    "            # If last characters are same, ignore last char \n",
    "            # and recur for remaining string \n",
    "            elif str1[i-1] == str2[j-1]: \n",
    "                dp[i][j] = dp[i-1][j-1] \n",
    "  \n",
    "            # If last character are different, consider all \n",
    "            # possibilities and find minimum \n",
    "            else: \n",
    "                dp[i][j] = 1 + min(dp[i][j-1],        # Insert \n",
    "                                   dp[i-1][j],        # Remove \n",
    "                                   dp[i-1][j-1])    # Replace \n",
    "    print(dp)\n",
    "  \n",
    "    return dp[m][n] \n",
    "  \n",
    "# Driver program \n",
    "str1 = \"#INTENSION\"\n",
    "str2 = \"#EXECUTION\"\n",
    "  \n",
    "print(editDistDP(str1, str2, len(str1), len(str2))) \n",
    "# This code is contributed by Bhavya Jain "
   ]
  },
  {
   "cell_type": "code",
   "execution_count": 3,
   "metadata": {},
   "outputs": [
    {
     "ename": "NameError",
     "evalue": "name 'dp' is not defined",
     "output_type": "error",
     "traceback": [
      "\u001b[0;31m---------------------------------------------------------------------------\u001b[0m",
      "\u001b[0;31mNameError\u001b[0m                                 Traceback (most recent call last)",
      "\u001b[0;32m<ipython-input-3-720ab9d466f3>\u001b[0m in \u001b[0;36m<module>\u001b[0;34m\u001b[0m\n\u001b[0;32m----> 1\u001b[0;31m \u001b[0mdp\u001b[0m\u001b[0;34m\u001b[0m\u001b[0;34m\u001b[0m\u001b[0m\n\u001b[0m",
      "\u001b[0;31mNameError\u001b[0m: name 'dp' is not defined"
     ]
    }
   ],
   "source": [
    "dp"
   ]
  },
  {
   "cell_type": "code",
   "execution_count": 3,
   "metadata": {},
   "outputs": [
    {
     "name": "stdout",
     "output_type": "stream",
     "text": [
      "[0, 1, 2, 3, 4, 5]\n",
      "[1, 2, 3, 4, 5, 6]\n",
      "[2, 3, 2, 3, 4, 5]\n",
      "[3, 4, 3, 2, 3, 4]\n",
      "[4, 5, 4, 3, 4, 5]\n",
      "[5, 6, 5, 4, 3, 4]\n",
      "4\n"
     ]
    }
   ],
   "source": [
    "def iterative_levenshtein(s, t):\n",
    "    \"\"\" \n",
    "        iterative_levenshtein(s, t) -> ldist\n",
    "        ldist is the Levenshtein distance between the strings \n",
    "        s and t.\n",
    "        For all i and j, dist[i,j] will contain the Levenshtein \n",
    "        distance between the first i characters of s and the \n",
    "        first j characters of t\n",
    "    \"\"\"\n",
    "\n",
    "    rows = len(s)+1\n",
    "    cols = len(t)+1\n",
    "    dist = [[0 for x in range(cols)] for x in range(rows)]\n",
    "\n",
    "    # source prefixes can be transformed into empty strings \n",
    "    # by deletions:\n",
    "    for i in range(1, rows):\n",
    "        dist[i][0] = i\n",
    "\n",
    "    # target prefixes can be created from an empty source string\n",
    "    # by inserting the characters\n",
    "    for i in range(1, cols):\n",
    "        dist[0][i] = i\n",
    "        \n",
    "    for col in range(1, cols):\n",
    "        for row in range(1, rows):\n",
    "            if s[row-1] == t[col-1]:\n",
    "                cost = 0\n",
    "            else:\n",
    "                cost = 2\n",
    "            dist[row][col] = min(dist[row-1][col] + 1,      # deletion\n",
    "                                 dist[row][col-1] + 1,      # insertion\n",
    "                                 dist[row-1][col-1] + cost) # substitution\n",
    "\n",
    "    for r in range(rows):\n",
    "        print(dist[r])\n",
    "    \n",
    " \n",
    "    return dist[row][col]\n",
    "\n",
    "print(iterative_levenshtein(\"drive\", \"brief\"))"
   ]
  },
  {
   "cell_type": "code",
   "execution_count": 1,
   "metadata": {},
   "outputs": [],
   "source": [
    "import numpy as np \n",
    "import math \n",
    "\n"
   ]
  },
  {
   "cell_type": "code",
   "execution_count": 2,
   "metadata": {},
   "outputs": [],
   "source": [
    "a = not 1"
   ]
  },
  {
   "cell_type": "code",
   "execution_count": 3,
   "metadata": {},
   "outputs": [
    {
     "data": {
      "text/plain": [
       "False"
      ]
     },
     "execution_count": 3,
     "metadata": {},
     "output_type": "execute_result"
    }
   ],
   "source": [
    "a\n"
   ]
  },
  {
   "cell_type": "code",
   "execution_count": 4,
   "metadata": {},
   "outputs": [
    {
     "name": "stdout",
     "output_type": "stream",
     "text": [
      "/bin/bash: 1: command not found\r\n"
     ]
    }
   ],
   "source": [
    "!1"
   ]
  },
  {
   "cell_type": "code",
   "execution_count": 7,
   "metadata": {},
   "outputs": [],
   "source": [
    "a = !(1)"
   ]
  },
  {
   "cell_type": "code",
   "execution_count": 8,
   "metadata": {},
   "outputs": [
    {
     "data": {
      "text/plain": [
       "['/bin/bash: 1: command not found']"
      ]
     },
     "execution_count": 8,
     "metadata": {},
     "output_type": "execute_result"
    }
   ],
   "source": [
    "a"
   ]
  },
  {
   "cell_type": "code",
   "execution_count": 7,
   "metadata": {},
   "outputs": [
    {
     "name": "stdout",
     "output_type": "stream",
     "text": [
      "c\n",
      "9\n",
      "INVALID INPUT\n"
     ]
    }
   ],
   "source": [
    "def solve():\n",
    "    menu = {'b':['Hot Chocolate Drink','Badam Drink','Badam-Pista Drink'],\n",
    "            'c':['Espresso Cofee','Cappuccino Cofee','Latte Coffee'],\n",
    "             't':['Plain Tea','Assam Tea','Ginger Tea','Cardammom Tea','Masala Tea','Leamon Tea','Green Tea','Organic Darjeeling Tea'],\n",
    "             's':['Hot and Sour soup','Veg Corn Soup','Tomato Soup','Spicy Tomato Soup']}\n",
    "    d = input()\n",
    "    a = int(input())\n",
    "    if len(menu[d])<a:\n",
    "        print(\"INVALID INPUT\")\n",
    "        return\n",
    "    print(\"Welcome to CCD!\")\n",
    "    print(\"Enjoy your\",menu[d][a])\n",
    "solve()"
   ]
  },
  {
   "cell_type": "code",
   "execution_count": 1,
   "metadata": {},
   "outputs": [],
   "source": [
    "def ans():\n",
    "    n =int(input())\n",
    "    m = int(input())\n",
    "    students = []\n",
    "    for i in range(m):\n",
    "        students.appned(input())\n",
    "    ty = []"
   ]
  },
  {
   "cell_type": "code",
   "execution_count": 10,
   "metadata": {},
   "outputs": [
    {
     "name": "stdout",
     "output_type": "stream",
     "text": [
      "Doremon\n",
      "1.Giant-Teddy Bear Giraffe\n",
      "2.Cat\n",
      "3.Mega Bear \n",
      "4.Dog\n",
      "5.Lion\n",
      "6.Billy Bear\n",
      "7.Besty-Bear\n",
      "8.Monkey\n",
      "9.Bobby-Bear\n",
      "10.Bunny-Rabbit\n",
      "11.Benjamin Bear\n",
      "12.Kung-Fu-Panda\n",
      "13.Brown-Bear\n",
      "14.Pink-Bear\n",
      "15.Baby Elephant\n",
      "16.Blue Fish\n",
      "17.Hippo Cute Pin\n",
      "18.Pikachu\n",
      "19.Doremon\n",
      "20.Cater-Pillar\n",
      "21.Candy Doll\n"
     ]
    }
   ],
   "source": [
    "def solve():\n",
    "    toys = [\"Giant-Teddy Bear Giraffe\", \"Cat\", \"Mega Bear \", \"Dog\",\n",
    "            \"Lion\",\"Billy Bear\", \"Besty-Bear\", \"Monkey\",\"Bobby-Bear\",\n",
    "            \"Bunny-Rabbit\", \"Benjamin Bear\", \"Kung-Fu-Panda\", \"Brown-Bear\", \n",
    "            \"Pink-Bear\", \"Baby Elephant\",\"Blue Fish\", \"Hippo Cute Pin\",\"Pikachu\", \n",
    "            \"Doremon\", \"Tortoise\", \"Cater-Pillar\",\"Candy Doll\"]\n",
    "    toys_dict = {}\n",
    "    for i in range(len(toys)):\n",
    "        toys_dict[toys[i]] = i+1 \n",
    "    a = input().upper()\n",
    "    if a in toys:\n",
    "        for i in toys:\n",
    "            if i == n:\n",
    "                toys.remove\n",
    "solve()"
   ]
  },
  {
   "cell_type": "code",
   "execution_count": 11,
   "metadata": {},
   "outputs": [],
   "source": [
    "def solve():\n",
    "    price = 0\n",
    "    a = int(input())\n",
    "    b = int(input())\n",
    "    c = int(input())\n",
    "    if a == 1:\n",
    "        price = 10000\n",
    "    if a == 2:\n",
    "        price = 7000\n",
    "    if a ==3:\n",
    "        price = 6000\n",
    "    if b == 1:\n",
    "        if c == 1:\n",
    "            price = price-(price*20)/100\n",
    "        else:\n",
    "            price = price-(price*2)/100\n",
    "    print(price)"
   ]
  },
  {
   "cell_type": "code",
   "execution_count": 18,
   "metadata": {},
   "outputs": [
    {
     "name": "stdout",
     "output_type": "stream",
     "text": [
      "L0190013\n",
      "q\n",
      "BLANK KEYS:0\n",
      "TOTAL KEYS:1\n",
      "NUMBER OF LOCKS:1\n"
     ]
    }
   ],
   "source": [
    "x=[-1 for k in range(10000)]\n",
    "i = 0\n",
    "while True:\n",
    "    x[i] = input()\n",
    "    if x[i]=='q':\n",
    "        break\n",
    "    i+=1\n",
    "x.remove('q')\n",
    "p=x.count('-')\n",
    "print(\"BLANK KEYS:\"+str(p))\n",
    "print(\"TOTAL KEYS:\"+str(len(x[:i])))\n",
    "print(\"NUMBER OF LOCKS:\"+str(len(x[:i])-p))"
   ]
  },
  {
   "cell_type": "code",
   "execution_count": 13,
   "metadata": {},
   "outputs": [
    {
     "name": "stdout",
     "output_type": "stream",
     "text": [
      "1\n",
      "2\n",
      "3\n",
      "1\n",
      "2\n",
      "3\n",
      "5\n",
      "2\n",
      "1\n",
      "3\n",
      "1\n",
      "2\n",
      "3\n",
      "1\n",
      "1\n",
      "1\n",
      "1\n",
      "1\n",
      "1\n",
      "1\n",
      "1\n",
      "2\n",
      "2\n",
      "2\n",
      "2\n",
      "Australia\n",
      "Germany\n"
     ]
    }
   ],
   "source": [
    "ranks=[0,0,0,0,0]\n",
    "names=['Malaysia','Australia','Germany','Dubai','France']\n",
    "flag=0\n",
    "\n",
    "for i in range(0,5):\n",
    "    if flag==1:\n",
    "        break\n",
    "    for j in range(0,5):\n",
    "        r=input()\n",
    "        if r.isnumeric():\n",
    "            r=int(r)\n",
    "            if r>0 and r<=5:\n",
    "                if r==1:\n",
    "                    ranks[j]+=1\n",
    "            else:\n",
    "                flag=1\n",
    "                break\n",
    "        else:\n",
    "            flag=1\n",
    "            break\n",
    "if flag==1:\n",
    "    print(\"INVALID INPUT\")\n",
    "else:\n",
    "    comb=list(zip(ranks,names))\n",
    "    comb.sort(key = lambda x:x[0])\n",
    "    top = comb[0][0]\n",
    "    for i in range(0,5):\n",
    "        if top==comb[i][0]:\n",
    "            print(comb[i][1])"
   ]
  },
  {
   "cell_type": "code",
   "execution_count": 1,
   "metadata": {},
   "outputs": [
    {
     "name": "stdout",
     "output_type": "stream",
     "text": [
      "8\n",
      "1 9 2 3 0 6 7 8\n"
     ]
    },
    {
     "data": {
      "text/plain": [
       "104"
      ]
     },
     "execution_count": 1,
     "metadata": {},
     "output_type": "execute_result"
    }
   ],
   "source": [
    "def solve():\n",
    "    n = int(input())\n",
    "    boxes = list(map(int,input().split()))\n",
    "    left = 0\n",
    "    right = n-1\n",
    "    ans = 0\n",
    "    while left<right:\n",
    "        temp = 0\n",
    "        il =left\n",
    "        ir = right\n",
    "        while il<ir:\n",
    "            temp += boxes[il]*boxes[ir]\n",
    "            il+=1\n",
    "            ir-=1\n",
    "        ans = max(temp,ans)\n",
    "        if (boxes[left+1] - boxes[left])>(boxes[right-1] - boxes[right]):\n",
    "            left+=1\n",
    "        else:\n",
    "            right-=1\n",
    "    return ans\n",
    "solve()\n",
    "        "
   ]
  },
  {
   "cell_type": "code",
   "execution_count": 4,
   "metadata": {},
   "outputs": [
    {
     "data": {
      "text/plain": [
       "[3, 4]"
      ]
     },
     "execution_count": 4,
     "metadata": {},
     "output_type": "execute_result"
    }
   ],
   "source": [
    "def nodes(arr,n):\n",
    "    res = []\n",
    "    if n == 0:\n",
    "        return res\n",
    "    if n == 1:\n",
    "        return [0]\n",
    "    nei = [set() for i in range(n)]\n",
    "    degree = [0 for k in range(n)]\n",
    "    for a,b in arr:\n",
    "        degree[a]+=1\n",
    "        degree[b]+=1\n",
    "        nei[a].add(b)\n",
    "        nei[b].add(a)\n",
    "    queue = []\n",
    "    for i in range(len(degree)):\n",
    "        if degree[i] == 1:\n",
    "            queue.append(i)\n",
    "    while queue:\n",
    "        for i in range(len(queue)):\n",
    "            node = queue.pop(0)\n",
    "            for j in nei[node]:\n",
    "                degree[j]-=1\n",
    "                if degree[j] == 1:\n",
    "                    queue.append(j)\n",
    "        res = queue[::] if len(queue)>0 else res\n",
    "    return res\n",
    "arr = [[3,0],[3,1],[3,2],[3,4],[5,4]]\n",
    "nodes(arr,6)"
   ]
  },
  {
   "cell_type": "code",
   "execution_count": 9,
   "metadata": {},
   "outputs": [
    {
     "data": {
      "text/plain": [
       "'E2'"
      ]
     },
     "execution_count": 9,
     "metadata": {},
     "output_type": "execute_result"
    }
   ],
   "source": [
    "def sExpression(nodes):\n",
    "    nodes = nodes.split(' ')\n",
    "    graph = dict()\n",
    "    for node in nodes:\n",
    "        if node[1] in graph:\n",
    "            if node[3] in graph[node[1]]:\n",
    "                return 'E2'\n",
    "            graph[node[1]].append(node[3])\n",
    "        else:\n",
    "            graph[node[1]] = [node[3]]\n",
    "        if len(graph[node[1]])>2:\n",
    "            return 'E1'\n",
    "    print(graph)\n",
    "s = '(A,B) (A,B) (B,G) (C,H) (E,F) (B,D) (C,E)'\n",
    "#nodes = input()\n",
    "sExpression(s)"
   ]
  },
  {
   "cell_type": "code",
   "execution_count": null,
   "metadata": {},
   "outputs": [],
   "source": []
  }
 ],
 "metadata": {
  "kernelspec": {
   "display_name": "Python 3",
   "language": "python",
   "name": "python3"
  },
  "language_info": {
   "codemirror_mode": {
    "name": "ipython",
    "version": 3
   },
   "file_extension": ".py",
   "mimetype": "text/x-python",
   "name": "python",
   "nbconvert_exporter": "python",
   "pygments_lexer": "ipython3",
   "version": "3.8.3"
  }
 },
 "nbformat": 4,
 "nbformat_minor": 4
}
