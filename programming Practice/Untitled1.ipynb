{
 "cells": [
  {
   "cell_type": "code",
   "execution_count": 1,
   "metadata": {},
   "outputs": [
    {
     "name": "stdout",
     "output_type": "stream",
     "text": [
      "[[0, 1, 2, 3, 4, 5, 6, 7, 8, 9, 10], [1, 0, 1, 2, 3, 4, 5, 6, 7, 8, 9], [2, 1, 1, 2, 3, 4, 5, 6, 6, 7, 8], [3, 2, 2, 2, 3, 4, 5, 6, 7, 7, 7], [4, 3, 3, 3, 3, 4, 5, 5, 6, 7, 8], [5, 4, 3, 4, 3, 4, 5, 6, 6, 7, 8], [6, 5, 4, 4, 4, 4, 5, 6, 7, 7, 7], [7, 6, 5, 5, 5, 5, 5, 6, 7, 8, 8], [8, 7, 6, 6, 6, 6, 6, 6, 6, 7, 8], [9, 8, 7, 7, 7, 7, 7, 7, 7, 6, 7], [10, 9, 8, 8, 8, 8, 8, 8, 8, 7, 6]]\n",
      "6\n"
     ]
    }
   ],
   "source": [
    "# A Dynamic Programming based Python program for edit \n",
    "# distance problem \n",
    "def editDistDP(str1, str2, m, n): \n",
    "    # Create a table to store results of subproblems \n",
    "    dp = [[0 for x in range(n + 1)] for x in range(m + 1)] \n",
    "  \n",
    "    # Fill d[][] in bottom up manner \n",
    "    for i in range(m + 1): \n",
    "        for j in range(n + 1): \n",
    "  \n",
    "            # If first string is empty, only option is to \n",
    "            # insert all characters of second string \n",
    "            if i == 0: \n",
    "                dp[i][j] = j    # Min. operations = j \n",
    "  \n",
    "            # If second string is empty, only option is to \n",
    "            # remove all characters of second string \n",
    "            elif j == 0: \n",
    "                dp[i][j] = i    # Min. operations = i \n",
    "  \n",
    "            # If last characters are same, ignore last char \n",
    "            # and recur for remaining string \n",
    "            elif str1[i-1] == str2[j-1]: \n",
    "                dp[i][j] = dp[i-1][j-1] \n",
    "  \n",
    "            # If last character are different, consider all \n",
    "            # possibilities and find minimum \n",
    "            else: \n",
    "                dp[i][j] = 1 + min(dp[i][j-1],        # Insert \n",
    "                                   dp[i-1][j],        # Remove \n",
    "                                   dp[i-1][j-1])    # Replace \n",
    "    print(dp)\n",
    "  \n",
    "    return dp[m][n] \n",
    "  \n",
    "# Driver program \n",
    "str1 = \"#INTENSION\"\n",
    "str2 = \"#EXECUTION\"\n",
    "  \n",
    "print(editDistDP(str1, str2, len(str1), len(str2))) \n",
    "# This code is contributed by Bhavya Jain "
   ]
  },
  {
   "cell_type": "code",
   "execution_count": 3,
   "metadata": {},
   "outputs": [
    {
     "ename": "NameError",
     "evalue": "name 'dp' is not defined",
     "output_type": "error",
     "traceback": [
      "\u001b[0;31m---------------------------------------------------------------------------\u001b[0m",
      "\u001b[0;31mNameError\u001b[0m                                 Traceback (most recent call last)",
      "\u001b[0;32m<ipython-input-3-720ab9d466f3>\u001b[0m in \u001b[0;36m<module>\u001b[0;34m\u001b[0m\n\u001b[0;32m----> 1\u001b[0;31m \u001b[0mdp\u001b[0m\u001b[0;34m\u001b[0m\u001b[0;34m\u001b[0m\u001b[0m\n\u001b[0m",
      "\u001b[0;31mNameError\u001b[0m: name 'dp' is not defined"
     ]
    }
   ],
   "source": [
    "dp"
   ]
  },
  {
   "cell_type": "code",
   "execution_count": 3,
   "metadata": {},
   "outputs": [
    {
     "name": "stdout",
     "output_type": "stream",
     "text": [
      "[0, 1, 2, 3, 4, 5]\n",
      "[1, 2, 3, 4, 5, 6]\n",
      "[2, 3, 2, 3, 4, 5]\n",
      "[3, 4, 3, 2, 3, 4]\n",
      "[4, 5, 4, 3, 4, 5]\n",
      "[5, 6, 5, 4, 3, 4]\n",
      "4\n"
     ]
    }
   ],
   "source": [
    "def iterative_levenshtein(s, t):\n",
    "    \"\"\" \n",
    "        iterative_levenshtein(s, t) -> ldist\n",
    "        ldist is the Levenshtein distance between the strings \n",
    "        s and t.\n",
    "        For all i and j, dist[i,j] will contain the Levenshtein \n",
    "        distance between the first i characters of s and the \n",
    "        first j characters of t\n",
    "    \"\"\"\n",
    "\n",
    "    rows = len(s)+1\n",
    "    cols = len(t)+1\n",
    "    dist = [[0 for x in range(cols)] for x in range(rows)]\n",
    "\n",
    "    # source prefixes can be transformed into empty strings \n",
    "    # by deletions:\n",
    "    for i in range(1, rows):\n",
    "        dist[i][0] = i\n",
    "\n",
    "    # target prefixes can be created from an empty source string\n",
    "    # by inserting the characters\n",
    "    for i in range(1, cols):\n",
    "        dist[0][i] = i\n",
    "        \n",
    "    for col in range(1, cols):\n",
    "        for row in range(1, rows):\n",
    "            if s[row-1] == t[col-1]:\n",
    "                cost = 0\n",
    "            else:\n",
    "                cost = 2\n",
    "            dist[row][col] = min(dist[row-1][col] + 1,      # deletion\n",
    "                                 dist[row][col-1] + 1,      # insertion\n",
    "                                 dist[row-1][col-1] + cost) # substitution\n",
    "\n",
    "    for r in range(rows):\n",
    "        print(dist[r])\n",
    "    \n",
    " \n",
    "    return dist[row][col]\n",
    "\n",
    "print(iterative_levenshtein(\"drive\", \"brief\"))"
   ]
  },
  {
   "cell_type": "code",
   "execution_count": 1,
   "metadata": {},
   "outputs": [],
   "source": [
    "import numpy as np \n",
    "import math \n",
    "\n"
   ]
  },
  {
   "cell_type": "code",
   "execution_count": 2,
   "metadata": {},
   "outputs": [],
   "source": [
    "a = not 1"
   ]
  },
  {
   "cell_type": "code",
   "execution_count": 3,
   "metadata": {},
   "outputs": [
    {
     "data": {
      "text/plain": [
       "False"
      ]
     },
     "execution_count": 3,
     "metadata": {},
     "output_type": "execute_result"
    }
   ],
   "source": [
    "a\n"
   ]
  },
  {
   "cell_type": "code",
   "execution_count": 4,
   "metadata": {},
   "outputs": [
    {
     "name": "stdout",
     "output_type": "stream",
     "text": [
      "/bin/bash: 1: command not found\r\n"
     ]
    }
   ],
   "source": [
    "!1"
   ]
  },
  {
   "cell_type": "code",
   "execution_count": 7,
   "metadata": {},
   "outputs": [],
   "source": [
    "a = !(1)"
   ]
  },
  {
   "cell_type": "code",
   "execution_count": 8,
   "metadata": {},
   "outputs": [
    {
     "data": {
      "text/plain": [
       "['/bin/bash: 1: command not found']"
      ]
     },
     "execution_count": 8,
     "metadata": {},
     "output_type": "execute_result"
    }
   ],
   "source": [
    "a"
   ]
  },
  {
   "cell_type": "code",
   "execution_count": 7,
   "metadata": {},
   "outputs": [
    {
     "name": "stdout",
     "output_type": "stream",
     "text": [
      "c\n",
      "9\n",
      "INVALID INPUT\n"
     ]
    }
   ],
   "source": [
    "def solve():\n",
    "    menu = {'b':['Hot Chocolate Drink','Badam Drink','Badam-Pista Drink'],\n",
    "            'c':['Espresso Cofee','Cappuccino Cofee','Latte Coffee'],\n",
    "             't':['Plain Tea','Assam Tea','Ginger Tea','Cardammom Tea','Masala Tea','Leamon Tea','Green Tea','Organic Darjeeling Tea'],\n",
    "             's':['Hot and Sour soup','Veg Corn Soup','Tomato Soup','Spicy Tomato Soup']}\n",
    "    d = input()\n",
    "    a = int(input())\n",
    "    if len(menu[d])<a:\n",
    "        print(\"INVALID INPUT\")\n",
    "        return\n",
    "    print(\"Welcome to CCD!\")\n",
    "    print(\"Enjoy your\",menu[d][a])\n",
    "solve()"
   ]
  },
  {
   "cell_type": "code",
   "execution_count": 1,
   "metadata": {},
   "outputs": [],
   "source": [
    "def ans():\n",
    "    n =int(input())\n",
    "    m = int(input())\n",
    "    students = []\n",
    "    for i in range(m):\n",
    "        students.appned(input())\n",
    "    ty = []"
   ]
  },
  {
   "cell_type": "code",
   "execution_count": 10,
   "metadata": {},
   "outputs": [
    {
     "name": "stdout",
     "output_type": "stream",
     "text": [
      "Doremon\n",
      "1.Giant-Teddy Bear Giraffe\n",
      "2.Cat\n",
      "3.Mega Bear \n",
      "4.Dog\n",
      "5.Lion\n",
      "6.Billy Bear\n",
      "7.Besty-Bear\n",
      "8.Monkey\n",
      "9.Bobby-Bear\n",
      "10.Bunny-Rabbit\n",
      "11.Benjamin Bear\n",
      "12.Kung-Fu-Panda\n",
      "13.Brown-Bear\n",
      "14.Pink-Bear\n",
      "15.Baby Elephant\n",
      "16.Blue Fish\n",
      "17.Hippo Cute Pin\n",
      "18.Pikachu\n",
      "19.Doremon\n",
      "20.Cater-Pillar\n",
      "21.Candy Doll\n"
     ]
    }
   ],
   "source": [
    "def solve():\n",
    "    toys = [\"Giant-Teddy Bear Giraffe\", \"Cat\", \"Mega Bear \", \"Dog\",\n",
    "            \"Lion\",\"Billy Bear\", \"Besty-Bear\", \"Monkey\",\"Bobby-Bear\",\n",
    "            \"Bunny-Rabbit\", \"Benjamin Bear\", \"Kung-Fu-Panda\", \"Brown-Bear\", \n",
    "            \"Pink-Bear\", \"Baby Elephant\",\"Blue Fish\", \"Hippo Cute Pin\",\"Pikachu\", \n",
    "            \"Doremon\", \"Tortoise\", \"Cater-Pillar\",\"Candy Doll\"]\n",
    "    toys_dict = {}\n",
    "    for i in range(len(toys)):\n",
    "        toys_dict[toys[i]] = i+1 \n",
    "    a = input().upper()\n",
    "    if a in toys:\n",
    "        for i in toys:\n",
    "            if i == n:\n",
    "                toys.remove\n",
    "solve()"
   ]
  },
  {
   "cell_type": "code",
   "execution_count": 11,
   "metadata": {},
   "outputs": [],
   "source": [
    "def solve():\n",
    "    price = 0\n",
    "    a = int(input())\n",
    "    b = int(input())\n",
    "    c = int(input())\n",
    "    if a == 1:\n",
    "        price = 10000\n",
    "    if a == 2:\n",
    "        price = 7000\n",
    "    if a ==3:\n",
    "        price = 6000\n",
    "    if b == 1:\n",
    "        if c == 1:\n",
    "            price = price-(price*20)/100\n",
    "        else:\n",
    "            price = price-(price*2)/100\n",
    "    print(price)"
   ]
  },
  {
   "cell_type": "code",
   "execution_count": 18,
   "metadata": {},
   "outputs": [
    {
     "name": "stdout",
     "output_type": "stream",
     "text": [
      "L0190013\n",
      "q\n",
      "BLANK KEYS:0\n",
      "TOTAL KEYS:1\n",
      "NUMBER OF LOCKS:1\n"
     ]
    }
   ],
   "source": [
    "x=[-1 for k in range(10000)]\n",
    "i = 0\n",
    "while True:\n",
    "    x[i] = input()\n",
    "    if x[i]=='q':\n",
    "        break\n",
    "    i+=1\n",
    "x.remove('q')\n",
    "p=x.count('-')\n",
    "print(\"BLANK KEYS:\"+str(p))\n",
    "print(\"TOTAL KEYS:\"+str(len(x[:i])))\n",
    "print(\"NUMBER OF LOCKS:\"+str(len(x[:i])-p))"
   ]
  },
  {
   "cell_type": "code",
   "execution_count": 13,
   "metadata": {},
   "outputs": [
    {
     "name": "stdout",
     "output_type": "stream",
     "text": [
      "1\n",
      "2\n",
      "3\n",
      "1\n",
      "2\n",
      "3\n",
      "5\n",
      "2\n",
      "1\n",
      "3\n",
      "1\n",
      "2\n",
      "3\n",
      "1\n",
      "1\n",
      "1\n",
      "1\n",
      "1\n",
      "1\n",
      "1\n",
      "1\n",
      "2\n",
      "2\n",
      "2\n",
      "2\n",
      "Australia\n",
      "Germany\n"
     ]
    }
   ],
   "source": [
    "ranks=[0,0,0,0,0]\n",
    "names=['Malaysia','Australia','Germany','Dubai','France']\n",
    "flag=0\n",
    "\n",
    "for i in range(0,5):\n",
    "    if flag==1:\n",
    "        break\n",
    "    for j in range(0,5):\n",
    "        r=input()\n",
    "        if r.isnumeric():\n",
    "            r=int(r)\n",
    "            if r>0 and r<=5:\n",
    "                if r==1:\n",
    "                    ranks[j]+=1\n",
    "            else:\n",
    "                flag=1\n",
    "                break\n",
    "        else:\n",
    "            flag=1\n",
    "            break\n",
    "if flag==1:\n",
    "    print(\"INVALID INPUT\")\n",
    "else:\n",
    "    comb=list(zip(ranks,names))\n",
    "    comb.sort(key = lambda x:x[0])\n",
    "    top = comb[0][0]\n",
    "    for i in range(0,5):\n",
    "        if top==comb[i][0]:\n",
    "            print(comb[i][1])"
   ]
  },
  {
   "cell_type": "code",
   "execution_count": 1,
   "metadata": {},
   "outputs": [
    {
     "name": "stdout",
     "output_type": "stream",
     "text": [
      "8\n",
      "1 9 2 3 0 6 7 8\n"
     ]
    },
    {
     "data": {
      "text/plain": [
       "104"
      ]
     },
     "execution_count": 1,
     "metadata": {},
     "output_type": "execute_result"
    }
   ],
   "source": [
    "def solve():\n",
    "    n = int(input())\n",
    "    boxes = list(map(int,input().split()))\n",
    "    left = 0\n",
    "    right = n-1\n",
    "    ans = 0\n",
    "    while left<right:\n",
    "        temp = 0\n",
    "        il =left\n",
    "        ir = right\n",
    "        while il<ir:\n",
    "            temp += boxes[il]*boxes[ir]\n",
    "            il+=1\n",
    "            ir-=1\n",
    "        ans = max(temp,ans)\n",
    "        if (boxes[left+1] - boxes[left])>(boxes[right-1] - boxes[right]):\n",
    "            left+=1\n",
    "        else:\n",
    "            right-=1\n",
    "    return ans\n",
    "solve()\n",
    "        "
   ]
  },
  {
   "cell_type": "code",
   "execution_count": 4,
   "metadata": {},
   "outputs": [
    {
     "data": {
      "text/plain": [
       "[3, 4]"
      ]
     },
     "execution_count": 4,
     "metadata": {},
     "output_type": "execute_result"
    }
   ],
   "source": [
    "def nodes(arr,n):\n",
    "    res = []\n",
    "    if n == 0:\n",
    "        return res\n",
    "    if n == 1:\n",
    "        return [0]\n",
    "    nei = [set() for i in range(n)]\n",
    "    degree = [0 for k in range(n)]\n",
    "    for a,b in arr:\n",
    "        degree[a]+=1\n",
    "        degree[b]+=1\n",
    "        nei[a].add(b)\n",
    "        nei[b].add(a)\n",
    "    queue = []\n",
    "    for i in range(len(degree)):\n",
    "        if degree[i] == 1:\n",
    "            queue.append(i)\n",
    "    while queue:\n",
    "        for i in range(len(queue)):\n",
    "            node = queue.pop(0)\n",
    "            for j in nei[node]:\n",
    "                degree[j]-=1\n",
    "                if degree[j] == 1:\n",
    "                    queue.append(j)\n",
    "        res = queue[::] if len(queue)>0 else res\n",
    "    return res\n",
    "arr = [[3,0],[3,1],[3,2],[3,4],[5,4]]\n",
    "nodes(arr,6)"
   ]
  },
  {
   "cell_type": "code",
   "execution_count": 9,
   "metadata": {},
   "outputs": [
    {
     "data": {
      "text/plain": [
       "'E2'"
      ]
     },
     "execution_count": 9,
     "metadata": {},
     "output_type": "execute_result"
    }
   ],
   "source": [
    "def sExpression(nodes):\n",
    "    nodes = nodes.split(' ')\n",
    "    graph = dict()\n",
    "    for node in nodes:\n",
    "        if node[1] in graph:\n",
    "            if node[3] in graph[node[1]]:\n",
    "                return 'E2'\n",
    "            graph[node[1]].append(node[3])\n",
    "        else:\n",
    "            graph[node[1]] = [node[3]]\n",
    "        if len(graph[node[1]])>2:\n",
    "            return 'E1'\n",
    "    print(graph)\n",
    "s = '(A,B) (A,B) (B,G) (C,H) (E,F) (B,D) (C,E)'\n",
    "#nodes = input()\n",
    "sExpression(s)"
   ]
  },
  {
   "cell_type": "code",
   "execution_count": null,
   "metadata": {},
   "outputs": [],
   "source": [
    "def canBeEqual(target, arr) -> bool:\n",
    "    arr = arr.sort()\n",
    "    if target == arr :\n",
    "        return True\n",
    "    return False\n",
    "[809,107,274]\n",
    "[809,274,107]"
   ]
  },
  {
   "cell_type": "code",
   "execution_count": 4,
   "metadata": {},
   "outputs": [
    {
     "data": {
      "text/plain": [
       "False"
      ]
     },
     "execution_count": 4,
     "metadata": {},
     "output_type": "execute_result"
    }
   ],
   "source": [
    "a = sorted([3,7,9]) \n",
    "b = sorted([3,7,11])\n",
    "a == b"
   ]
  },
  {
   "cell_type": "code",
   "execution_count": 1,
   "metadata": {},
   "outputs": [
    {
     "name": "stdout",
     "output_type": "stream",
     "text": [
      "24\n",
      "8\n"
     ]
    }
   ],
   "source": [
    "n = int(input())\n",
    "for i in range(10,0,-1):\n",
    "    if n%i == 0:\n",
    "        print(i)\n",
    "        break"
   ]
  },
  {
   "cell_type": "code",
   "execution_count": 48,
   "metadata": {},
   "outputs": [
    {
     "data": {
      "text/plain": [
       "'1159'"
      ]
     },
     "execution_count": 48,
     "metadata": {},
     "output_type": "execute_result"
    }
   ],
   "source": [
    "0 - 2359\n",
    "def convert(string):\n",
    "    string = string.split()\n",
    "    converted = ''\n",
    "    if string[1] == 'AM':\n",
    "        if string[0][0] == '1' and string[0][1] == '2':\n",
    "            converted +='00'+string[0][3:]\n",
    "        else:\n",
    "            converted+=string[0][:2]+string[0][3:]\n",
    "    else:\n",
    "        if string[0][0] == '1' and string[0][1] == '2':\n",
    "            converted +='12'+string[0][3:]\n",
    "        else:\n",
    "            converted+=str(int(string[0][:2])+12)+string[0][3:]\n",
    "    return converted\n",
    "\n",
    "#convert('11:59 AM')\n",
    "    "
   ]
  },
  {
   "cell_type": "code",
   "execution_count": 51,
   "metadata": {},
   "outputs": [
    {
     "name": "stdout",
     "output_type": "stream",
     "text": [
      "12:01 AM\n",
      "4\n",
      "12:00 AM 11:42 PM\n",
      "1\n",
      "12:01 AM 11:59 AM\n",
      "1\n",
      "12:30 AM 12:00 PM\n",
      "0\n",
      "11:59 AM 11:59 PM\n",
      "0\n"
     ]
    }
   ],
   "source": [
    "s = input()\n",
    "s = convert(s)\n",
    "for _ in range(int(input())):\n",
    "    string = input()\n",
    "    s1 = convert(string[:8])\n",
    "    s2 = convert(string[9:])\n",
    "    if s1<=s<=s2:\n",
    "        print('1',end='')\n",
    "    else:\n",
    "        print('0',end='')\n",
    "    print(end='\\n')"
   ]
  },
  {
   "cell_type": "code",
   "execution_count": 21,
   "metadata": {},
   "outputs": [
    {
     "name": "stdout",
     "output_type": "stream",
     "text": [
      "[0, 1, 2, 3, 4, 5, 6]\n",
      "[1, 1, 0, 1, 1, 1, 1]\n",
      "[1, 1, 0, 1, 1, 2, 2]\n",
      "[1, 1, 0, 1, 2, 1, 3]\n",
      "[1, 1, 0, 1, 3, 2, 1]\n",
      "[1, 1, 0, 1, 3, 3, 2]\n",
      "[1, 1, 0, 1, 3, 3, 3]\n",
      "3\n"
     ]
    }
   ],
   "source": [
    "print([0,1, 2, 3,4,5,6] )\n",
    "def count(S, m, n,ladder):\n",
    "    l = ladder[0]\n",
    "    r = ladder[1]\n",
    "    table = [0 for k in range(n+1)] \n",
    "    table[0] = 1\n",
    "    for i in range(0,m): \n",
    "        for j in range(S[i],n+1):\n",
    "            if l<j<r:\n",
    "                continue\n",
    "            if j == r:\n",
    "                table[r] = table[l]\n",
    "                continue\n",
    "            if l<(j-S[i])<r:\n",
    "                table[j]=table[r]\n",
    "            else:\n",
    "                table[j] += table[j-S[i]] \n",
    "        print(table)\n",
    "    return table[n]\n",
    "arr = [1, 2, 3,4,5,6] \n",
    "m = len(arr) \n",
    "n = 6\n",
    "x = count(arr, m, n,[1,3]) \n",
    "print (x) \n"
   ]
  },
  {
   "cell_type": "code",
   "execution_count": null,
   "metadata": {},
   "outputs": [],
   "source": [
    "def solve():\n",
    "    n,l =  map(int,input().split())\n",
    "    ladders = []\n",
    "    for _ in range(l):\n",
    "        lad = list(map(int,input().split()))\n",
    "        ladders.append(lad)\n",
    "        \n",
    "solve()\n",
    "    "
   ]
  },
  {
   "cell_type": "code",
   "execution_count": 27,
   "metadata": {},
   "outputs": [
    {
     "name": "stdout",
     "output_type": "stream",
     "text": [
      "[1, 1, 1, 1, 1, 1]\n",
      "[0, 0, 0, 0, 0, 0]\n",
      "[0, 1, 1, 1, 1, 1]\n",
      "[0, 0, 0, 0, 0, 0]\n",
      "[0, 0, 0, 0, 0, 0]\n",
      "[0, 1, 1, 1, 1, 1]\n",
      "[0, 0, 0, 1, 1, 2]\n",
      "2\n"
     ]
    }
   ],
   "source": [
    "def count(S, m, n,l,r,k): \n",
    "    # We need n+1 rows as the table is constructed  \n",
    "    # in bottom up manner using the base case 0 value \n",
    "    # case (n = 0) \n",
    "    table = [[0 for x in range(m)] for x in range(n+1)] \n",
    "    # Fill the entries for 0 value case (n = 0) \n",
    "    for i in range(m): \n",
    "        table[0][i] = 1\n",
    "  \n",
    "    # Fill rest of the table entries in bottom up manner \n",
    "    for i in range(1, n+1): \n",
    "        for j in range(m): \n",
    "            if l<i<r:\n",
    "                continue\n",
    "            # Count of solutions including S[j]\n",
    "            if i == r:\n",
    "                table[i][j] = table[l][j]\n",
    "                continue\n",
    "            if i == k:\n",
    "                table[i][j] =  0\n",
    "                continue\n",
    "            if l<i-S[j]<r:\n",
    "                x = 0\n",
    "            else:\n",
    "                x = table[i - S[j]][j] if i-S[j] >= 0 else 0\n",
    "  \n",
    "            # Count of solutions excluding S[j] \n",
    "            y = table[i][j-1] if j >= 1 else 0\n",
    "  \n",
    "            # total count \n",
    "            table[i][j] = x + y \n",
    "    for row in table:\n",
    "        print(row)\n",
    "    return table[n][m-1] \n",
    "  \n",
    "# Driver program to test above function \n",
    "arr = [1, 2, 3,4,5,6] \n",
    "m = len(arr) \n",
    "n = 6\n",
    "print(count(arr, m, n,2,5,1)) "
   ]
  },
  {
   "cell_type": "code",
   "execution_count": 12,
   "metadata": {},
   "outputs": [
    {
     "name": "stdout",
     "output_type": "stream",
     "text": [
      "[1, 1, 1, 1, 1]\n",
      "[1, 1, 2, 2, 3]\n",
      "[1, 1, 2, 3, 4]\n",
      "4\n"
     ]
    }
   ],
   "source": [
    "def count(S, m, n): \n",
    "  \n",
    "    # table[i] will be storing the number of solutions for \n",
    "    # value i. We need n+1 rows as the table is constructed \n",
    "    # in bottom up manner using the base case (n = 0) \n",
    "    # Initialize all table values as 0 \n",
    "    table = [0 for k in range(n+1)] \n",
    "  \n",
    "    # Base case (If given value is 0) \n",
    "    table[0] = 1\n",
    "  \n",
    "    # Pick all coins one by one and update the table[] values \n",
    "    # after the index greater than or equal to the value of the \n",
    "    # picked coin \n",
    "    for i in range(0,m): \n",
    "        for j in range(S[i],n+1): \n",
    "            table[j] += table[j-S[i]] \n",
    "        print(table)\n",
    "    return table[n] \n",
    "  \n",
    "# Driver program to test above function \n",
    "arr = [1, 2, 3] \n",
    "m = len(arr) \n",
    "n = 4\n",
    "x = count(arr, m, n) \n",
    "print (x) "
   ]
  },
  {
   "cell_type": "code",
   "execution_count": null,
   "metadata": {},
   "outputs": [],
   "source": [
    "    def pathSum(self, root: TreeNode, sum: int) -> int:\n",
    "        \n",
    "        global result\n",
    "        result = 0\n",
    "        \n",
    "        def dfs(node, target):\n",
    "            if node is None: return\n",
    "            find_path_from_node(node, target)\n",
    "            dfs(node.left, target)\n",
    "            dfs(node.right, target)\n",
    "                \n",
    "        def find_path_from_node(node, target):\n",
    "            global result\n",
    "            if node is None: return\n",
    "            if node.val == target: result += 1\n",
    "            find_path_from_node(node.left, target-node.val)\n",
    "            find_path_from_node(node.right, target-node.val)\n",
    "            \n",
    "        dfs(root, sum)\n",
    "        \n",
    "        return result"
   ]
  },
  {
   "cell_type": "code",
   "execution_count": 7,
   "metadata": {},
   "outputs": [
    {
     "name": "stdout",
     "output_type": "stream",
     "text": [
      "7\n",
      "1 2 3 - 4 5 - 6 - - 7\n"
     ]
    },
    {
     "data": {
      "text/plain": [
       "'1'"
      ]
     },
     "execution_count": 7,
     "metadata": {},
     "output_type": "execute_result"
    }
   ],
   "source": [
    "def solve(string):\n",
    "    string = string.split()\n",
    "    n =len(string)\n",
    "    res = []\n",
    "    for i in range(len(string)):\n",
    "        if 2*i + 1<n and 2*i + 2< n:\n",
    "            if string[2*i + 1] != '-' and string[2*i +2] != '-':\n",
    "                res.append(string[i])\n",
    "    return ' '.join(map(str,res))\n",
    "n = int(input())\n",
    "string = input()\n",
    "solve(string)\n",
    "                "
   ]
  },
  {
   "cell_type": "code",
   "execution_count": 8,
   "metadata": {},
   "outputs": [
    {
     "data": {
      "text/plain": [
       "0.5"
      ]
     },
     "execution_count": 8,
     "metadata": {},
     "output_type": "execute_result"
    }
   ],
   "source": [
    "2/4\n"
   ]
  },
  {
   "cell_type": "code",
   "execution_count": 10,
   "metadata": {},
   "outputs": [
    {
     "data": {
      "text/plain": [
       "4.0"
      ]
     },
     "execution_count": 10,
     "metadata": {},
     "output_type": "execute_result"
    }
   ],
   "source": [
    "2/.5"
   ]
  },
  {
   "cell_type": "code",
   "execution_count": 11,
   "metadata": {},
   "outputs": [
    {
     "data": {
      "text/plain": [
       "0.75"
      ]
     },
     "execution_count": 11,
     "metadata": {},
     "output_type": "execute_result"
    }
   ],
   "source": [
    "3/4"
   ]
  },
  {
   "cell_type": "code",
   "execution_count": 12,
   "metadata": {},
   "outputs": [
    {
     "data": {
      "text/plain": [
       "4.0"
      ]
     },
     "execution_count": 12,
     "metadata": {},
     "output_type": "execute_result"
    }
   ],
   "source": [
    "3/.75"
   ]
  },
  {
   "cell_type": "code",
   "execution_count": 3,
   "metadata": {},
   "outputs": [
    {
     "data": {
      "text/plain": [
       "6.0"
      ]
     },
     "execution_count": 3,
     "metadata": {},
     "output_type": "execute_result"
    }
   ],
   "source": [
    "def solve(n,m):\n",
    "    res = 0\n",
    "    temp = n/m\n",
    "    res+=n/temp\n",
    "    return res\n",
    "solve(2,6)"
   ]
  },
  {
   "cell_type": "code",
   "execution_count": 1,
   "metadata": {},
   "outputs": [
    {
     "data": {
      "text/plain": [
       "115"
      ]
     },
     "execution_count": 1,
     "metadata": {},
     "output_type": "execute_result"
    }
   ],
   "source": [
    "ord(\"s\")"
   ]
  },
  {
   "cell_type": "code",
   "execution_count": 5,
   "metadata": {},
   "outputs": [
    {
     "data": {
      "text/plain": [
       "0"
      ]
     },
     "execution_count": 5,
     "metadata": {},
     "output_type": "execute_result"
    }
   ],
   "source": [
    "'deepak'.index('dee')"
   ]
  },
  {
   "cell_type": "code",
   "execution_count": 7,
   "metadata": {},
   "outputs": [
    {
     "data": {
      "text/plain": [
       "0"
      ]
     },
     "execution_count": 7,
     "metadata": {},
     "output_type": "execute_result"
    }
   ],
   "source": [
    "'kapeed'.index('kap')"
   ]
  },
  {
   "cell_type": "code",
   "execution_count": 8,
   "metadata": {},
   "outputs": [],
   "source": [
    "import collections\n",
    "class Painting:\n",
    "    def __init__(self,id,name,price,type):\n",
    "        self.paintingID = id\n",
    "        self.paintingName = name\n",
    "        self.paintingPrice = price\n",
    "        self.paintingType = type\n",
    "class ShowRoom:\n",
    "    def __init__(self,paintings):\n",
    "        self.painting = paintings\n",
    "    def getTotalPaintingPrice(self,PaintType):\n",
    "        price = 0\n",
    "        for paint in self.painting:\n",
    "            if paint.paintingType == PaintType:\n",
    "                price+=paint.paintingPrice\n",
    "        if price != 0:\n",
    "            return price\n",
    "    def getPainterWithMaxCountOfPaintings(self):\n",
    "        maxCount = collections.defaultdict(lambda:0)\n",
    "        for paint in self.painting:\n",
    "            maxCount[paint.paintingName]+=1\n",
    "        m = max(maxCount.values())\n",
    "        res = min(maxCount.keys())\n",
    "        return res\n",
    "paintingList = []\n",
    "for i in range(int(input())):\n",
    "    id = input()\n",
    "    name = input()\n",
    "    price = int(input())\n",
    "    type = input()\n",
    "    obj = Painting(id,name,price,type)\n",
    "    paintingList.append(obj)\n",
    "showObject = ShowRoom(paintingList)\n",
    "paintType = input()\n",
    "res1 = showObject.getTotalPaintingPrice(paintType)\n",
    "res2 = showObject.getPainterWithMaxCountOfPaintings()\n",
    "if not res1:\n",
    "    print(\"Painting not found\")\n",
    "else:\n",
    "    print(res1)\n",
    "print(res2)"
   ]
  },
  {
   "cell_type": "code",
   "execution_count": 10,
   "metadata": {},
   "outputs": [
    {
     "name": "stdout",
     "output_type": "stream",
     "text": [
      "2\n",
      "101\n",
      "raman\n",
      "50000\n",
      "modern\n",
      "102\n",
      "raju\n",
      "20000\n",
      "modern\n",
      "modern\n",
      "70000\n",
      "raju\n"
     ]
    }
   ],
   "source": [
    "paintingList = []\n",
    "for i in range(int(input())):\n",
    "    id = input()\n",
    "    name = input()\n",
    "    price = int(input())\n",
    "    type = input()\n",
    "    obj = Painting(id,name,price,type)\n",
    "    paintingList.append(obj)\n",
    "showObject = ShowRoom(paintingList)\n",
    "paintType = input()\n",
    "res1 = showObject.getTotalPaintingPrice(paintType)\n",
    "res2 = showObject.getPainterWithMaxCountOfPaintings()\n",
    "if not res1:\n",
    "    print(\"Painting not found\")\n",
    "else:\n",
    "    print(res1)\n",
    "print(res2)"
   ]
  },
  {
   "cell_type": "code",
   "execution_count": 13,
   "metadata": {},
   "outputs": [
    {
     "data": {
      "image/png": "[encoded data removed]",
      "text/plain": [
       "<Figure size 432x288 with 6 Axes>"
      ]
     },
     "metadata": {
      "needs_background": "light"
     },
     "output_type": "display_data"
    }
   ],
   "source": [
    "import numpy as np\n",
    "\n",
    "import matplotlib.pyplot as plt\n",
    "\n",
    "theta1 = np.arange(0,2*np.pi+np.pi/180,np.pi/180)\n",
    "\n",
    "theta2 = 2*theta1 - np.pi/4\n",
    "\n",
    "theta3 = theta1*180/np.pi\n",
    "\n",
    "Bx = 40\n",
    "\n",
    "By = 0\n",
    "\n",
    "Cx = 40\n",
    "\n",
    "Cy = 10\n",
    "\n",
    "L1 = 5\n",
    "\n",
    "L2 = 5\n",
    "\n",
    "a = 20 #AD\n",
    "\n",
    "b = 5 #DE\n",
    "\n",
    "c = 10 #PE\n",
    "\n",
    "x2 = ((Bx + L2*np.cos(theta2))**2 + (L2*np.sin(theta2))**2)**0.5 - a\n",
    "\n",
    "cosphi2 = (Bx + L2*np.cos(theta2))/(x2 + a)\n",
    "\n",
    "sinphi2 = L2*np.sin(theta2)/(x2 + a)\n",
    "\n",
    "phi2 = np.arctan2(sinphi2,cosphi2)\n",
    "\n",
    "A = Cx + L1*np.cos(theta1) - a*np.cos(phi2)\n",
    "\n",
    "B = Cy + L1*np.sin(theta1) - a*np.sin(phi2)\n",
    "\n",
    "x1 = (A**2 + B**2 - b**2)**0.5\n",
    "\n",
    "cosphi1 = (x1*A + b*B)/(x1**2 + b**2)\n",
    "\n",
    "sinphi1 = (x1*B - b*A)/(x1**2 + b**2)\n",
    "\n",
    "phi1 = np.arctan2(sinphi1,cosphi1)\n",
    "\n",
    "Px = a*np.cos(phi2) - b*np.sin(phi1) - c*np.cos(phi1)\n",
    "\n",
    "Py = a*np.sin(phi2) + b*np.cos(phi1) - c*np.sin(phi1)\n",
    "\n",
    "Vx = np.zeros(len(theta1))\n",
    "\n",
    "for i in np.arange(1,len(theta1)):\n",
    "\n",
    "    Vx[i] = (Px[i]-Px[i-1])/(np.pi/180)\n",
    "\n",
    "    Vy = np.zeros(len(theta1))\n",
    "\n",
    "for i in np.arange(1,len(theta1)):\n",
    "\n",
    "    Vy[i] = (Py[i]-Py[i-1])/(np.pi/180)\n",
    "\n",
    "    V = (Vx**2 + Vy**2)**0.5\n",
    "\n",
    "f = open('project.txt','w')\n",
    "\n",
    "for i in np.arange(0,len(theta1)):\n",
    "\n",
    "    f.write('theta1:{:.4f}\\t\\t Px:{:.4f}\\t\\t Py:{:.4f}\\t\\t Vx:{:.5f}\\t\\t Vy:{:.4f}\\t\\t V:{:.4f}\\n'.format(theta3[i],Px[i],Py[i],Vx[i],Vy[i],V[i]))\n",
    "\n",
    "f.close()\n",
    "\n",
    "plt.subplot(321)\n",
    "\n",
    "plt.plot(theta1*180/np.pi, Px)\n",
    "\n",
    "plt.xlabel('theta1')\n",
    "\n",
    "plt.ylabel('Px')\n",
    "\n",
    "plt.title('theta1 vs Px')\n",
    "\n",
    "plt.grid(True)\n",
    "\n",
    "plt.subplot(322)\n",
    "\n",
    "plt.plot(theta1*180/np.pi, Py)\n",
    "\n",
    "plt.xlabel('theta1')\n",
    "\n",
    "plt.ylabel('Py')\n",
    "\n",
    "plt.title('theta1 vs Py')\n",
    "\n",
    "plt.grid(True)\n",
    "\n",
    "plt.subplot(323)\n",
    "\n",
    "plt.plot(Px, Py)\n",
    "\n",
    "plt.xlabel('Px')\n",
    "\n",
    "plt.ylabel('Py')\n",
    "\n",
    "plt.title('Px vs Py')\n",
    "\n",
    "plt.grid(True)\n",
    "\n",
    "plt.subplot(324)\n",
    "\n",
    "plt.plot(theta1*180/np.pi,Vx)\n",
    "\n",
    "plt.xlabel('theta1')\n",
    "\n",
    "plt.ylabel('Vx')\n",
    "\n",
    "plt.title('theta1 vs Vx')\n",
    "\n",
    "plt.grid(True)\n",
    "\n",
    "plt.subplot(325)\n",
    "\n",
    "plt.plot(theta1*180/np.pi,Vy)\n",
    "\n",
    "plt.xlabel('theta1')\n",
    "\n",
    "plt.ylabel('Vy')\n",
    "\n",
    "plt.title('theta1 vs Vy')\n",
    "\n",
    "plt.grid(True)\n",
    "\n",
    "plt.subplot(326)\n",
    "\n",
    "plt.plot(theta1*180/np.pi,V)\n",
    "\n",
    "plt.xlabel('theta1')\n",
    "\n",
    "plt.ylabel('V')\n",
    "\n",
    "plt.title('theta1 vs V')\n",
    "\n",
    "plt.grid(True)"
   ]
  },
  {
   "cell_type": "code",
   "execution_count": 1,
   "metadata": {},
   "outputs": [
    {
     "name": "stdout",
     "output_type": "stream",
     "text": [
      "3\n",
      "4\n",
      "12\n",
      "7\n",
      "3\n",
      "s\n"
     ]
    },
    {
     "ename": "ValueError",
     "evalue": "invalid literal for int() with base 10: 's'",
     "output_type": "error",
     "traceback": [
      "\u001b[0;31m---------------------------------------------------------------------------\u001b[0m",
      "\u001b[0;31mValueError\u001b[0m                                Traceback (most recent call last)",
      "\u001b[0;32m<ipython-input-1-beb10de51f58>\u001b[0m in \u001b[0;36m<module>\u001b[0;34m\u001b[0m\n\u001b[1;32m      7\u001b[0m \u001b[0mm\u001b[0m \u001b[0;34m=\u001b[0m \u001b[0mint\u001b[0m\u001b[0;34m(\u001b[0m\u001b[0minput\u001b[0m\u001b[0;34m(\u001b[0m\u001b[0;34m)\u001b[0m\u001b[0;34m)\u001b[0m\u001b[0;34m\u001b[0m\u001b[0;34m\u001b[0m\u001b[0m\n\u001b[1;32m      8\u001b[0m \u001b[0mn\u001b[0m \u001b[0;34m=\u001b[0m \u001b[0mint\u001b[0m\u001b[0;34m(\u001b[0m\u001b[0minput\u001b[0m\u001b[0;34m(\u001b[0m\u001b[0;34m)\u001b[0m\u001b[0;34m)\u001b[0m\u001b[0;34m\u001b[0m\u001b[0;34m\u001b[0m\u001b[0m\n\u001b[0;32m----> 9\u001b[0;31m \u001b[0mA\u001b[0m \u001b[0;34m=\u001b[0m \u001b[0;34m[\u001b[0m\u001b[0;34m[\u001b[0m\u001b[0mint\u001b[0m\u001b[0;34m(\u001b[0m\u001b[0minput\u001b[0m\u001b[0;34m(\u001b[0m\u001b[0;34m)\u001b[0m\u001b[0;34m)\u001b[0m \u001b[0;32mfor\u001b[0m \u001b[0mi\u001b[0m \u001b[0;32min\u001b[0m \u001b[0mrange\u001b[0m\u001b[0;34m(\u001b[0m\u001b[0mm\u001b[0m\u001b[0;34m)\u001b[0m\u001b[0;34m]\u001b[0m \u001b[0;32mfor\u001b[0m \u001b[0mj\u001b[0m \u001b[0;32min\u001b[0m \u001b[0mrange\u001b[0m\u001b[0;34m(\u001b[0m\u001b[0mm\u001b[0m\u001b[0;34m)\u001b[0m\u001b[0;34m]\u001b[0m\u001b[0;34m\u001b[0m\u001b[0;34m\u001b[0m\u001b[0m\n\u001b[0m\u001b[1;32m     10\u001b[0m \u001b[0mB\u001b[0m \u001b[0;34m=\u001b[0m \u001b[0;34m[\u001b[0m\u001b[0;34m[\u001b[0m\u001b[0mint\u001b[0m\u001b[0;34m(\u001b[0m\u001b[0minput\u001b[0m\u001b[0;34m(\u001b[0m\u001b[0;34m)\u001b[0m\u001b[0;34m)\u001b[0m \u001b[0;32mfor\u001b[0m \u001b[0mi\u001b[0m \u001b[0;32min\u001b[0m \u001b[0mrange\u001b[0m\u001b[0;34m(\u001b[0m\u001b[0mm\u001b[0m\u001b[0;34m)\u001b[0m\u001b[0;34m]\u001b[0m \u001b[0;32mfor\u001b[0m \u001b[0mj\u001b[0m \u001b[0;32min\u001b[0m \u001b[0mrange\u001b[0m\u001b[0;34m(\u001b[0m\u001b[0mm\u001b[0m\u001b[0;34m)\u001b[0m\u001b[0;34m]\u001b[0m\u001b[0;34m\u001b[0m\u001b[0;34m\u001b[0m\u001b[0m\n\u001b[1;32m     11\u001b[0m result = [[0, 0, 0, 0],\n",
      "\u001b[0;32m<ipython-input-1-beb10de51f58>\u001b[0m in \u001b[0;36m<listcomp>\u001b[0;34m(.0)\u001b[0m\n\u001b[1;32m      7\u001b[0m \u001b[0mm\u001b[0m \u001b[0;34m=\u001b[0m \u001b[0mint\u001b[0m\u001b[0;34m(\u001b[0m\u001b[0minput\u001b[0m\u001b[0;34m(\u001b[0m\u001b[0;34m)\u001b[0m\u001b[0;34m)\u001b[0m\u001b[0;34m\u001b[0m\u001b[0;34m\u001b[0m\u001b[0m\n\u001b[1;32m      8\u001b[0m \u001b[0mn\u001b[0m \u001b[0;34m=\u001b[0m \u001b[0mint\u001b[0m\u001b[0;34m(\u001b[0m\u001b[0minput\u001b[0m\u001b[0;34m(\u001b[0m\u001b[0;34m)\u001b[0m\u001b[0;34m)\u001b[0m\u001b[0;34m\u001b[0m\u001b[0;34m\u001b[0m\u001b[0m\n\u001b[0;32m----> 9\u001b[0;31m \u001b[0mA\u001b[0m \u001b[0;34m=\u001b[0m \u001b[0;34m[\u001b[0m\u001b[0;34m[\u001b[0m\u001b[0mint\u001b[0m\u001b[0;34m(\u001b[0m\u001b[0minput\u001b[0m\u001b[0;34m(\u001b[0m\u001b[0;34m)\u001b[0m\u001b[0;34m)\u001b[0m \u001b[0;32mfor\u001b[0m \u001b[0mi\u001b[0m \u001b[0;32min\u001b[0m \u001b[0mrange\u001b[0m\u001b[0;34m(\u001b[0m\u001b[0mm\u001b[0m\u001b[0;34m)\u001b[0m\u001b[0;34m]\u001b[0m \u001b[0;32mfor\u001b[0m \u001b[0mj\u001b[0m \u001b[0;32min\u001b[0m \u001b[0mrange\u001b[0m\u001b[0;34m(\u001b[0m\u001b[0mm\u001b[0m\u001b[0;34m)\u001b[0m\u001b[0;34m]\u001b[0m\u001b[0;34m\u001b[0m\u001b[0;34m\u001b[0m\u001b[0m\n\u001b[0m\u001b[1;32m     10\u001b[0m \u001b[0mB\u001b[0m \u001b[0;34m=\u001b[0m \u001b[0;34m[\u001b[0m\u001b[0;34m[\u001b[0m\u001b[0mint\u001b[0m\u001b[0;34m(\u001b[0m\u001b[0minput\u001b[0m\u001b[0;34m(\u001b[0m\u001b[0;34m)\u001b[0m\u001b[0;34m)\u001b[0m \u001b[0;32mfor\u001b[0m \u001b[0mi\u001b[0m \u001b[0;32min\u001b[0m \u001b[0mrange\u001b[0m\u001b[0;34m(\u001b[0m\u001b[0mm\u001b[0m\u001b[0;34m)\u001b[0m\u001b[0;34m]\u001b[0m \u001b[0;32mfor\u001b[0m \u001b[0mj\u001b[0m \u001b[0;32min\u001b[0m \u001b[0mrange\u001b[0m\u001b[0;34m(\u001b[0m\u001b[0mm\u001b[0m\u001b[0;34m)\u001b[0m\u001b[0;34m]\u001b[0m\u001b[0;34m\u001b[0m\u001b[0;34m\u001b[0m\u001b[0m\n\u001b[1;32m     11\u001b[0m result = [[0, 0, 0, 0],\n",
      "\u001b[0;32m<ipython-input-1-beb10de51f58>\u001b[0m in \u001b[0;36m<listcomp>\u001b[0;34m(.0)\u001b[0m\n\u001b[1;32m      7\u001b[0m \u001b[0mm\u001b[0m \u001b[0;34m=\u001b[0m \u001b[0mint\u001b[0m\u001b[0;34m(\u001b[0m\u001b[0minput\u001b[0m\u001b[0;34m(\u001b[0m\u001b[0;34m)\u001b[0m\u001b[0;34m)\u001b[0m\u001b[0;34m\u001b[0m\u001b[0;34m\u001b[0m\u001b[0m\n\u001b[1;32m      8\u001b[0m \u001b[0mn\u001b[0m \u001b[0;34m=\u001b[0m \u001b[0mint\u001b[0m\u001b[0;34m(\u001b[0m\u001b[0minput\u001b[0m\u001b[0;34m(\u001b[0m\u001b[0;34m)\u001b[0m\u001b[0;34m)\u001b[0m\u001b[0;34m\u001b[0m\u001b[0;34m\u001b[0m\u001b[0m\n\u001b[0;32m----> 9\u001b[0;31m \u001b[0mA\u001b[0m \u001b[0;34m=\u001b[0m \u001b[0;34m[\u001b[0m\u001b[0;34m[\u001b[0m\u001b[0mint\u001b[0m\u001b[0;34m(\u001b[0m\u001b[0minput\u001b[0m\u001b[0;34m(\u001b[0m\u001b[0;34m)\u001b[0m\u001b[0;34m)\u001b[0m \u001b[0;32mfor\u001b[0m \u001b[0mi\u001b[0m \u001b[0;32min\u001b[0m \u001b[0mrange\u001b[0m\u001b[0;34m(\u001b[0m\u001b[0mm\u001b[0m\u001b[0;34m)\u001b[0m\u001b[0;34m]\u001b[0m \u001b[0;32mfor\u001b[0m \u001b[0mj\u001b[0m \u001b[0;32min\u001b[0m \u001b[0mrange\u001b[0m\u001b[0;34m(\u001b[0m\u001b[0mm\u001b[0m\u001b[0;34m)\u001b[0m\u001b[0;34m]\u001b[0m\u001b[0;34m\u001b[0m\u001b[0;34m\u001b[0m\u001b[0m\n\u001b[0m\u001b[1;32m     10\u001b[0m \u001b[0mB\u001b[0m \u001b[0;34m=\u001b[0m \u001b[0;34m[\u001b[0m\u001b[0;34m[\u001b[0m\u001b[0mint\u001b[0m\u001b[0;34m(\u001b[0m\u001b[0minput\u001b[0m\u001b[0;34m(\u001b[0m\u001b[0;34m)\u001b[0m\u001b[0;34m)\u001b[0m \u001b[0;32mfor\u001b[0m \u001b[0mi\u001b[0m \u001b[0;32min\u001b[0m \u001b[0mrange\u001b[0m\u001b[0;34m(\u001b[0m\u001b[0mm\u001b[0m\u001b[0;34m)\u001b[0m\u001b[0;34m]\u001b[0m \u001b[0;32mfor\u001b[0m \u001b[0mj\u001b[0m \u001b[0;32min\u001b[0m \u001b[0mrange\u001b[0m\u001b[0;34m(\u001b[0m\u001b[0mm\u001b[0m\u001b[0;34m)\u001b[0m\u001b[0;34m]\u001b[0m\u001b[0;34m\u001b[0m\u001b[0;34m\u001b[0m\u001b[0m\n\u001b[1;32m     11\u001b[0m result = [[0, 0, 0, 0],\n",
      "\u001b[0;31mValueError\u001b[0m: invalid literal for int() with base 10: 's'"
     ]
    }
   ],
   "source": [
    "A = [[12, 7, 3],\n",
    "    [4, 5, 6],\n",
    "    [7, 8, 9]]   \n",
    "B = [[5, 8, 1, 2],\n",
    "    [6, 7, 3, 0],\n",
    "    [4, 5, 9, 1]]\n",
    "m = int(input())\n",
    "n = int(input())\n",
    "A = [[int(input()) for i in range(m)] for j in range(m)]\n",
    "B = [[int(input()) for i in range(m)] for j in range(m)]\n",
    "\n",
    "result = [[0, 0, 0, 0],\n",
    "          [0, 0, 0, 0],\n",
    "          [0, 0, 0, 0]]\n",
    "for i in range(len(A)):\n",
    "    for j in range(len(B[0])):\n",
    "        for k in range(len(B)):\n",
    "            result[i][j] += A[i][k] * B[k][j]\n",
    "for r in result:\n",
    "    print(r)"
   ]
  },
  {
   "cell_type": "code",
   "execution_count": null,
   "metadata": {},
   "outputs": [],
   "source": []
  }
 ],
 "metadata": {
  "kernelspec": {
   "display_name": "Python 3",
   "language": "python",
   "name": "python3"
  },
  "language_info": {
   "codemirror_mode": {
    "name": "ipython",
    "version": 3
   },
   "file_extension": ".py",
   "mimetype": "text/x-python",
   "name": "python",
   "nbconvert_exporter": "python",
   "pygments_lexer": "ipython3",
   "version": "3.8.3"
  }
 },
 "nbformat": 4,
 "nbformat_minor": 4
}
