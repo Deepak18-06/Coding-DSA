{
 "cells": [
  {
   "cell_type": "code",
   "execution_count": 1,
   "metadata": {},
   "outputs": [
    {
     "name": "stdout",
     "output_type": "stream",
     "text": [
      "1\n",
      "2\n",
      "3\n"
     ]
    }
   ],
   "source": [
    "num = [1,2,3]\n",
    "for n in num:\n",
    "    print(n)"
   ]
  },
  {
   "cell_type": "code",
   "execution_count": 19,
   "metadata": {},
   "outputs": [
    {
     "name": "stdout",
     "output_type": "stream",
     "text": [
      "1\n"
     ]
    }
   ],
   "source": [
    "iterator = num.__iter__() # iterator = iter(num)\n",
    "print(iterator.__next__())"
   ]
  },
  {
   "cell_type": "code",
   "execution_count": 3,
   "metadata": {},
   "outputs": [
    {
     "name": "stdout",
     "output_type": "stream",
     "text": [
      "['__add__', '__class__', '__contains__', '__delattr__', '__delitem__', '__dir__', '__doc__', '__eq__', '__format__', '__ge__', '__getattribute__', '__getitem__', '__gt__', '__hash__', '__iadd__', '__imul__', '__init__', '__init_subclass__', '__iter__', '__le__', '__len__', '__lt__', '__mul__', '__ne__', '__new__', '__reduce__', '__reduce_ex__', '__repr__', '__reversed__', '__rmul__', '__setattr__', '__setitem__', '__sizeof__', '__str__', '__subclasshook__', 'append', 'clear', 'copy', 'count', 'extend', 'index', 'insert', 'pop', 'remove', 'reverse', 'sort']\n"
     ]
    }
   ],
   "source": [
    "print(dir(num))"
   ]
  },
  {
   "cell_type": "code",
   "execution_count": 18,
   "metadata": {},
   "outputs": [
    {
     "name": "stdout",
     "output_type": "stream",
     "text": [
      "2\n"
     ]
    }
   ],
   "source": [
    "print(next(iterator))"
   ]
  },
  {
   "cell_type": "code",
   "execution_count": 13,
   "metadata": {},
   "outputs": [
    {
     "name": "stdout",
     "output_type": "stream",
     "text": [
      "2\n"
     ]
    }
   ],
   "source": [
    "print(iterator.__next__())"
   ]
  },
  {
   "cell_type": "code",
   "execution_count": 14,
   "metadata": {},
   "outputs": [
    {
     "name": "stdout",
     "output_type": "stream",
     "text": [
      "3\n"
     ]
    }
   ],
   "source": [
    "print(iterator.__next__())"
   ]
  },
  {
   "cell_type": "code",
   "execution_count": 15,
   "metadata": {},
   "outputs": [
    {
     "ename": "StopIteration",
     "evalue": "",
     "output_type": "error",
     "traceback": [
      "\u001b[0;31m---------------------------------------------------------------------------\u001b[0m",
      "\u001b[0;31mStopIteration\u001b[0m                             Traceback (most recent call last)",
      "\u001b[0;32m<ipython-input-15-3997e98d8a3d>\u001b[0m in \u001b[0;36m<module>\u001b[0;34m\u001b[0m\n\u001b[0;32m----> 1\u001b[0;31m \u001b[0mprint\u001b[0m\u001b[0;34m(\u001b[0m\u001b[0miterator\u001b[0m\u001b[0;34m.\u001b[0m\u001b[0m__next__\u001b[0m\u001b[0;34m(\u001b[0m\u001b[0;34m)\u001b[0m\u001b[0;34m)\u001b[0m\u001b[0;34m\u001b[0m\u001b[0;34m\u001b[0m\u001b[0m\n\u001b[0m",
      "\u001b[0;31mStopIteration\u001b[0m: "
     ]
    }
   ],
   "source": [
    "print(iterator.__next__())"
   ]
  },
  {
   "cell_type": "code",
   "execution_count": 20,
   "metadata": {},
   "outputs": [
    {
     "name": "stdout",
     "output_type": "stream",
     "text": [
      "3\n",
      "5\n",
      "2\n",
      "6\n"
     ]
    }
   ],
   "source": [
    "nums = [3,5,2,6]\n",
    "i_nums = iter(nums)\n",
    "while True:\n",
    "    try:\n",
    "        item = next(i_nums)\n",
    "        print(item)\n",
    "    except StopIteration:\n",
    "        break"
   ]
  },
  {
   "cell_type": "code",
   "execution_count": 27,
   "metadata": {},
   "outputs": [],
   "source": [
    "class MyRange:\n",
    "    def __init__(self,start,end):\n",
    "        self.val = start\n",
    "        self.end = end\n",
    "    def __iter__(self):\n",
    "        return self\n",
    "    def __next__(self):\n",
    "        if self.val >= self.end:\n",
    "            raise StopIteration\n",
    "        current = self.val\n",
    "        self.val+=1\n",
    "        return current"
   ]
  },
  {
   "cell_type": "code",
   "execution_count": 28,
   "metadata": {},
   "outputs": [
    {
     "name": "stdout",
     "output_type": "stream",
     "text": [
      "1\n",
      "2\n",
      "3\n",
      "4\n",
      "5\n",
      "6\n",
      "7\n",
      "8\n",
      "9\n"
     ]
    }
   ],
   "source": [
    "nums = MyRange(1,10)\n",
    "for num in nums:\n",
    "    print(num)"
   ]
  },
  {
   "cell_type": "markdown",
   "metadata": {},
   "source": [
    "# Itertools"
   ]
  },
  {
   "cell_type": "code",
   "execution_count": 29,
   "metadata": {},
   "outputs": [],
   "source": [
    "import itertools"
   ]
  },
  {
   "cell_type": "code",
   "execution_count": 30,
   "metadata": {},
   "outputs": [],
   "source": [
    "counter = itertools.count()"
   ]
  },
  {
   "cell_type": "code",
   "execution_count": 32,
   "metadata": {},
   "outputs": [
    {
     "data": {
      "text/plain": [
       "0"
      ]
     },
     "execution_count": 32,
     "metadata": {},
     "output_type": "execute_result"
    }
   ],
   "source": [
    "next(counter)"
   ]
  },
  {
   "cell_type": "code",
   "execution_count": 33,
   "metadata": {},
   "outputs": [
    {
     "data": {
      "text/plain": [
       "1"
      ]
     },
     "execution_count": 33,
     "metadata": {},
     "output_type": "execute_result"
    }
   ],
   "source": [
    "next(counter)"
   ]
  },
  {
   "cell_type": "code",
   "execution_count": 35,
   "metadata": {},
   "outputs": [
    {
     "name": "stdout",
     "output_type": "stream",
     "text": [
      "[(0, 100), (1, 299), (2, 300)]\n"
     ]
    }
   ],
   "source": [
    "data = [100,299,300]\n",
    "daily_data = zip(itertools.count(),data)\n",
    "print(list(daily_data))"
   ]
  },
  {
   "cell_type": "markdown",
   "metadata": {},
   "source": [
    "# combination and permutations"
   ]
  },
  {
   "cell_type": "code",
   "execution_count": 42,
   "metadata": {},
   "outputs": [
    {
     "name": "stdout",
     "output_type": "stream",
     "text": [
      "('a', 'b')\n",
      "('a', 'c')\n",
      "('a', 'd')\n",
      "('b', 'c')\n",
      "('b', 'd')\n",
      "('c', 'd')\n"
     ]
    }
   ],
   "source": [
    "letters = ['a','b','c','d']\n",
    "result = itertools.combinations(letters,2)\n",
    "for items in result:\n",
    "    print(items)\n",
    "# In combinations the order does not matter"
   ]
  },
  {
   "cell_type": "code",
   "execution_count": 46,
   "metadata": {},
   "outputs": [
    {
     "name": "stdout",
     "output_type": "stream",
     "text": [
      "('a', 'b')\n",
      "('a', 'c')\n",
      "('a', 'd')\n",
      "('b', 'a')\n",
      "('b', 'c')\n",
      "('b', 'd')\n",
      "('c', 'a')\n",
      "('c', 'b')\n",
      "('c', 'd')\n",
      "('d', 'a')\n",
      "('d', 'b')\n",
      "('d', 'c')\n"
     ]
    }
   ],
   "source": [
    "per = itertools.permutations(letters,2)\n",
    "for items in per:\n",
    "    print(items)\n",
    "# In permutation order  matter"
   ]
  },
  {
   "cell_type": "code",
   "execution_count": 53,
   "metadata": {},
   "outputs": [
    {
     "name": "stdout",
     "output_type": "stream",
     "text": [
      "(0, 0, 0, 0)\n",
      "(0, 0, 0, 1)\n",
      "(0, 0, 0, 2)\n",
      "(0, 0, 0, 3)\n",
      "(0, 0, 1, 0)\n",
      "(0, 0, 1, 1)\n",
      "(0, 0, 1, 2)\n",
      "(0, 0, 1, 3)\n",
      "(0, 0, 2, 0)\n",
      "(0, 0, 2, 1)\n",
      "(0, 0, 2, 2)\n",
      "(0, 0, 2, 3)\n",
      "(0, 0, 3, 0)\n",
      "(0, 0, 3, 1)\n",
      "(0, 0, 3, 2)\n",
      "(0, 0, 3, 3)\n",
      "(0, 1, 0, 0)\n",
      "(0, 1, 0, 1)\n",
      "(0, 1, 0, 2)\n",
      "(0, 1, 0, 3)\n",
      "(0, 1, 1, 0)\n",
      "(0, 1, 1, 1)\n",
      "(0, 1, 1, 2)\n",
      "(0, 1, 1, 3)\n",
      "(0, 1, 2, 0)\n",
      "(0, 1, 2, 1)\n",
      "(0, 1, 2, 2)\n",
      "(0, 1, 2, 3)\n",
      "(0, 1, 3, 0)\n",
      "(0, 1, 3, 1)\n",
      "(0, 1, 3, 2)\n",
      "(0, 1, 3, 3)\n",
      "(0, 2, 0, 0)\n",
      "(0, 2, 0, 1)\n",
      "(0, 2, 0, 2)\n",
      "(0, 2, 0, 3)\n",
      "(0, 2, 1, 0)\n",
      "(0, 2, 1, 1)\n",
      "(0, 2, 1, 2)\n",
      "(0, 2, 1, 3)\n",
      "(0, 2, 2, 0)\n",
      "(0, 2, 2, 1)\n",
      "(0, 2, 2, 2)\n",
      "(0, 2, 2, 3)\n",
      "(0, 2, 3, 0)\n",
      "(0, 2, 3, 1)\n",
      "(0, 2, 3, 2)\n",
      "(0, 2, 3, 3)\n",
      "(0, 3, 0, 0)\n",
      "(0, 3, 0, 1)\n",
      "(0, 3, 0, 2)\n",
      "(0, 3, 0, 3)\n",
      "(0, 3, 1, 0)\n",
      "(0, 3, 1, 1)\n",
      "(0, 3, 1, 2)\n",
      "(0, 3, 1, 3)\n",
      "(0, 3, 2, 0)\n",
      "(0, 3, 2, 1)\n",
      "(0, 3, 2, 2)\n",
      "(0, 3, 2, 3)\n",
      "(0, 3, 3, 0)\n",
      "(0, 3, 3, 1)\n",
      "(0, 3, 3, 2)\n",
      "(0, 3, 3, 3)\n",
      "(1, 0, 0, 0)\n",
      "(1, 0, 0, 1)\n",
      "(1, 0, 0, 2)\n",
      "(1, 0, 0, 3)\n",
      "(1, 0, 1, 0)\n",
      "(1, 0, 1, 1)\n",
      "(1, 0, 1, 2)\n",
      "(1, 0, 1, 3)\n",
      "(1, 0, 2, 0)\n",
      "(1, 0, 2, 1)\n",
      "(1, 0, 2, 2)\n",
      "(1, 0, 2, 3)\n",
      "(1, 0, 3, 0)\n",
      "(1, 0, 3, 1)\n",
      "(1, 0, 3, 2)\n",
      "(1, 0, 3, 3)\n",
      "(1, 1, 0, 0)\n",
      "(1, 1, 0, 1)\n",
      "(1, 1, 0, 2)\n",
      "(1, 1, 0, 3)\n",
      "(1, 1, 1, 0)\n",
      "(1, 1, 1, 1)\n",
      "(1, 1, 1, 2)\n",
      "(1, 1, 1, 3)\n",
      "(1, 1, 2, 0)\n",
      "(1, 1, 2, 1)\n",
      "(1, 1, 2, 2)\n",
      "(1, 1, 2, 3)\n",
      "(1, 1, 3, 0)\n",
      "(1, 1, 3, 1)\n",
      "(1, 1, 3, 2)\n",
      "(1, 1, 3, 3)\n",
      "(1, 2, 0, 0)\n",
      "(1, 2, 0, 1)\n",
      "(1, 2, 0, 2)\n",
      "(1, 2, 0, 3)\n",
      "(1, 2, 1, 0)\n",
      "(1, 2, 1, 1)\n",
      "(1, 2, 1, 2)\n",
      "(1, 2, 1, 3)\n",
      "(1, 2, 2, 0)\n",
      "(1, 2, 2, 1)\n",
      "(1, 2, 2, 2)\n",
      "(1, 2, 2, 3)\n",
      "(1, 2, 3, 0)\n",
      "(1, 2, 3, 1)\n",
      "(1, 2, 3, 2)\n",
      "(1, 2, 3, 3)\n",
      "(1, 3, 0, 0)\n",
      "(1, 3, 0, 1)\n",
      "(1, 3, 0, 2)\n",
      "(1, 3, 0, 3)\n",
      "(1, 3, 1, 0)\n",
      "(1, 3, 1, 1)\n",
      "(1, 3, 1, 2)\n",
      "(1, 3, 1, 3)\n",
      "(1, 3, 2, 0)\n",
      "(1, 3, 2, 1)\n",
      "(1, 3, 2, 2)\n",
      "(1, 3, 2, 3)\n",
      "(1, 3, 3, 0)\n",
      "(1, 3, 3, 1)\n",
      "(1, 3, 3, 2)\n",
      "(1, 3, 3, 3)\n",
      "(2, 0, 0, 0)\n",
      "(2, 0, 0, 1)\n",
      "(2, 0, 0, 2)\n",
      "(2, 0, 0, 3)\n",
      "(2, 0, 1, 0)\n",
      "(2, 0, 1, 1)\n",
      "(2, 0, 1, 2)\n",
      "(2, 0, 1, 3)\n",
      "(2, 0, 2, 0)\n",
      "(2, 0, 2, 1)\n",
      "(2, 0, 2, 2)\n",
      "(2, 0, 2, 3)\n",
      "(2, 0, 3, 0)\n",
      "(2, 0, 3, 1)\n",
      "(2, 0, 3, 2)\n",
      "(2, 0, 3, 3)\n",
      "(2, 1, 0, 0)\n",
      "(2, 1, 0, 1)\n",
      "(2, 1, 0, 2)\n",
      "(2, 1, 0, 3)\n",
      "(2, 1, 1, 0)\n",
      "(2, 1, 1, 1)\n",
      "(2, 1, 1, 2)\n",
      "(2, 1, 1, 3)\n",
      "(2, 1, 2, 0)\n",
      "(2, 1, 2, 1)\n",
      "(2, 1, 2, 2)\n",
      "(2, 1, 2, 3)\n",
      "(2, 1, 3, 0)\n",
      "(2, 1, 3, 1)\n",
      "(2, 1, 3, 2)\n",
      "(2, 1, 3, 3)\n",
      "(2, 2, 0, 0)\n",
      "(2, 2, 0, 1)\n",
      "(2, 2, 0, 2)\n",
      "(2, 2, 0, 3)\n",
      "(2, 2, 1, 0)\n",
      "(2, 2, 1, 1)\n",
      "(2, 2, 1, 2)\n",
      "(2, 2, 1, 3)\n",
      "(2, 2, 2, 0)\n",
      "(2, 2, 2, 1)\n",
      "(2, 2, 2, 2)\n",
      "(2, 2, 2, 3)\n",
      "(2, 2, 3, 0)\n",
      "(2, 2, 3, 1)\n",
      "(2, 2, 3, 2)\n",
      "(2, 2, 3, 3)\n",
      "(2, 3, 0, 0)\n",
      "(2, 3, 0, 1)\n",
      "(2, 3, 0, 2)\n",
      "(2, 3, 0, 3)\n",
      "(2, 3, 1, 0)\n",
      "(2, 3, 1, 1)\n",
      "(2, 3, 1, 2)\n",
      "(2, 3, 1, 3)\n",
      "(2, 3, 2, 0)\n",
      "(2, 3, 2, 1)\n",
      "(2, 3, 2, 2)\n",
      "(2, 3, 2, 3)\n",
      "(2, 3, 3, 0)\n",
      "(2, 3, 3, 1)\n",
      "(2, 3, 3, 2)\n",
      "(2, 3, 3, 3)\n",
      "(3, 0, 0, 0)\n",
      "(3, 0, 0, 1)\n",
      "(3, 0, 0, 2)\n",
      "(3, 0, 0, 3)\n",
      "(3, 0, 1, 0)\n",
      "(3, 0, 1, 1)\n",
      "(3, 0, 1, 2)\n",
      "(3, 0, 1, 3)\n",
      "(3, 0, 2, 0)\n",
      "(3, 0, 2, 1)\n",
      "(3, 0, 2, 2)\n",
      "(3, 0, 2, 3)\n",
      "(3, 0, 3, 0)\n",
      "(3, 0, 3, 1)\n",
      "(3, 0, 3, 2)\n",
      "(3, 0, 3, 3)\n",
      "(3, 1, 0, 0)\n",
      "(3, 1, 0, 1)\n",
      "(3, 1, 0, 2)\n",
      "(3, 1, 0, 3)\n",
      "(3, 1, 1, 0)\n",
      "(3, 1, 1, 1)\n",
      "(3, 1, 1, 2)\n",
      "(3, 1, 1, 3)\n",
      "(3, 1, 2, 0)\n",
      "(3, 1, 2, 1)\n",
      "(3, 1, 2, 2)\n",
      "(3, 1, 2, 3)\n",
      "(3, 1, 3, 0)\n",
      "(3, 1, 3, 1)\n",
      "(3, 1, 3, 2)\n",
      "(3, 1, 3, 3)\n",
      "(3, 2, 0, 0)\n",
      "(3, 2, 0, 1)\n",
      "(3, 2, 0, 2)\n",
      "(3, 2, 0, 3)\n",
      "(3, 2, 1, 0)\n",
      "(3, 2, 1, 1)\n",
      "(3, 2, 1, 2)\n",
      "(3, 2, 1, 3)\n",
      "(3, 2, 2, 0)\n",
      "(3, 2, 2, 1)\n",
      "(3, 2, 2, 2)\n",
      "(3, 2, 2, 3)\n",
      "(3, 2, 3, 0)\n",
      "(3, 2, 3, 1)\n",
      "(3, 2, 3, 2)\n",
      "(3, 2, 3, 3)\n",
      "(3, 3, 0, 0)\n",
      "(3, 3, 0, 1)\n",
      "(3, 3, 0, 2)\n",
      "(3, 3, 0, 3)\n",
      "(3, 3, 1, 0)\n",
      "(3, 3, 1, 1)\n",
      "(3, 3, 1, 2)\n",
      "(3, 3, 1, 3)\n",
      "(3, 3, 2, 0)\n",
      "(3, 3, 2, 1)\n",
      "(3, 3, 2, 2)\n",
      "(3, 3, 2, 3)\n",
      "(3, 3, 3, 0)\n",
      "(3, 3, 3, 1)\n",
      "(3, 3, 3, 2)\n",
      "(3, 3, 3, 3)\n"
     ]
    }
   ],
   "source": [
    "numbers = [0,1,2,3]\n",
    "result1 = itertools.product(numbers,repeat = 4)\n",
    "for item in result1:\n",
    "    print(item)"
   ]
  },
  {
   "cell_type": "code",
   "execution_count": null,
   "metadata": {},
   "outputs": [],
   "source": []
  }
 ],
 "metadata": {
  "kernelspec": {
   "display_name": "Python 3",
   "language": "python",
   "name": "python3"
  },
  "language_info": {
   "codemirror_mode": {
    "name": "ipython",
    "version": 3
   },
   "file_extension": ".py",
   "mimetype": "text/x-python",
   "name": "python",
   "nbconvert_exporter": "python",
   "pygments_lexer": "ipython3",
   "version": "3.8.3"
  }
 },
 "nbformat": 4,
 "nbformat_minor": 4
}
