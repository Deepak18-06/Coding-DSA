{
 "cells": [
  {
   "cell_type": "markdown",
   "metadata": {},
   "source": [
    "# Longest Increasing Subsequence"
   ]
  },
  {
   "cell_type": "code",
   "execution_count": null,
   "metadata": {},
   "outputs": [],
   "source": [
    "def lengthOfLISs(self, nums: List[int]) -> int:\n",
    "    dp = [1 for i in range(len(nums))]\n",
    "    for i in range(1,len(nums)):\n",
    "        for j in range(i):\n",
    "            if nums[j] < nums[i]:\n",
    "                dp[i] = max(1+dp[j],dp[i])\n",
    "    return max(dp)"
   ]
  },
  {
   "cell_type": "code",
   "execution_count": null,
   "metadata": {},
   "outputs": [],
   "source": [
    "# this approach takes O(n^2) time and O(2*n) space complexity\n",
    "def actual(res,arr):\n",
    "    idx = res.index(max(res))\n",
    "    ans = [arr[idx]]\n",
    "    for i in range(idx-1,-1,-1):\n",
    "        if res[i] + 1 == res[idx] and arr[i]<arr[idx]:\n",
    "            idx = i\n",
    "            ans.append(arr[idx])\n",
    "    return ans[::-1]\n",
    "    \n",
    "def lis(arr,n):\n",
    "    res = [0 for i in range(n)]\n",
    "    res[0] = 1\n",
    "    for i in range(1,n):\n",
    "        res[i] = 1\n",
    "        for j in range(i):\n",
    "            if arr[i]>arr[j] and res[i]<res[j]+1:\n",
    "                res[i] = res[j]+1\n",
    "    return actual(res,arr)\n",
    "arr = [50,3,10,7,40,80]\n",
    "n = len(arr)\n",
    "print(lis(arr,n))"
   ]
  },
  {
   "cell_type": "code",
   "execution_count": null,
   "metadata": {},
   "outputs": [],
   "source": [
    "def lowerBoundIndex(num,res):\n",
    "    low = 0\n",
    "    high = len(res)-1\n",
    "    ans = -1\n",
    "    while low<=high:            # this is binary search which gives us the index of element\n",
    "        mid = (low+high)//2     # which is just greater than the given element\n",
    "        if res[mid]<num:        \n",
    "            low = mid+1\n",
    "        elif res[mid]>=num:\n",
    "            ans = mid\n",
    "            high = mid-1\n",
    "    return ans\n",
    "def longestIncresing(arr,n):\n",
    "    res = [arr[0]]\n",
    "    for i in range(1,n):\n",
    "        if arr[i]>res[-1]:\n",
    "            res.append(arr[i])\n",
    "        else:\n",
    "            idx = lowerBoundIndex(arr[i],res)\n",
    "            res[idx] = arr[i]\n",
    "    return res\n",
    "arr = [2,5,3,7,11,8,10,13,6]\n",
    "#lowerBoundIndex(3,[2,5])\n",
    "longestIncresing(arr,len(arr))"
   ]
  },
  {
   "cell_type": "markdown",
   "metadata": {},
   "source": [
    "# Russian doll envelopes\n",
    "[Question](https://leetcode.com/explore/challenge/card/march-leetcoding-challenge-2021/592/week-5-march-29th-march-31st/3690/)"
   ]
  },
  {
   "cell_type": "code",
   "execution_count": null,
   "metadata": {},
   "outputs": [],
   "source": [
    "class Solution:\n",
    "    def maxEnvelopes(self, envelopes: List[List[int]]) -> int:\n",
    "        envelopes = sorted(envelopes, key = lambda x: [x[0], -x[1]]) \n",
    "        dp = [envelopes[0][1]]\n",
    "        for i in range(1,len(envelopes)):\n",
    "            if envelopes[i][1]>dp[-1]:\n",
    "                dp.append(envelopes[i][1])\n",
    "            else:\n",
    "                idx = bisect_left(dp,envelopes[i][1])\n",
    "                dp[idx] = envelopes[i][1]\n",
    "        return len(dp)"
   ]
  },
  {
   "cell_type": "markdown",
   "metadata": {},
   "source": [
    "# Increasing Triplets\n",
    "[Question](https://leetcode.com/problems/increasing-triplet-subsequence/)"
   ]
  },
  {
   "cell_type": "code",
   "execution_count": null,
   "metadata": {},
   "outputs": [],
   "source": [
    "class Solution:\n",
    "    def increasingTriplet(self, nums: List[int]) -> bool:\n",
    "        res = [nums[0]]\n",
    "        for i in range(1,len(nums)):\n",
    "            if nums[i]>res[-1]:\n",
    "                res.append(nums[i])\n",
    "            else:\n",
    "                idx = bisect_left(res,nums[i])\n",
    "                res[idx] = nums[i]\n",
    "            if len(res)>=3:\n",
    "                return True\n",
    "        return False\n",
    "        "
   ]
  },
  {
   "cell_type": "code",
   "execution_count": null,
   "metadata": {},
   "outputs": [],
   "source": []
  }
 ],
 "metadata": {
  "kernelspec": {
   "display_name": "Python 3",
   "language": "python",
   "name": "python3"
  },
  "language_info": {
   "codemirror_mode": {
    "name": "ipython",
    "version": 3
   },
   "file_extension": ".py",
   "mimetype": "text/x-python",
   "name": "python",
   "nbconvert_exporter": "python",
   "pygments_lexer": "ipython3",
   "version": "3.8.3"
  }
 },
 "nbformat": 4,
 "nbformat_minor": 4
}
