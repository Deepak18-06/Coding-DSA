{
 "cells": [
  {
   "cell_type": "markdown",
   "metadata": {},
   "source": [
    "# Insert and Search"
   ]
  },
  {
   "cell_type": "code",
   "execution_count": 1,
   "metadata": {},
   "outputs": [
    {
     "name": "stdout",
     "output_type": "stream",
     "text": [
      "the ---- Not present in trie\n",
      "these ---- Not present in trie\n",
      "their ---- Not present in trie\n",
      "thaw ---- Not present in trie\n"
     ]
    }
   ],
   "source": [
    "class TrieNode:\n",
    "    def __init__(self):\n",
    "        self.children = [None]*26\n",
    "        self.isEnd = False\n",
    "class Trie:\n",
    "    def __init__(self):\n",
    "        self.root = self.getNode()\n",
    "    def getNode(self):\n",
    "        return TrieNode()\n",
    "    def _charToIndex(self,ch):\n",
    "        return ord(ch) - ord('a')\n",
    "    \n",
    "    # insertion of key \n",
    "    def insert(self,key):\n",
    "        pCrawl = self.root\n",
    "        length = len(key)\n",
    "        for level in range(length):\n",
    "            index = self._charToIndex(key[level])\n",
    "            \n",
    "            # if the current character is not present\n",
    "            if not pCrawl.children[index]:\n",
    "                pCrawl.children[index] = self.getNode()\n",
    "            pCrawl = pCrawl.children[index]\n",
    "        pCrawl.isEnd = True\n",
    "    \n",
    "    # searching of the key\n",
    "    def search(self,key):\n",
    "        pCrawl = self.root\n",
    "        length = len(key)\n",
    "        for level in range(length):\n",
    "            index = self._charToIndex(key[level])\n",
    "            if not pCrawl.children[index]:\n",
    "                return False\n",
    "        return pCrawl != None and pCrawl.isEnd\n",
    "def main(): \n",
    "  \n",
    "    # Input keys (use only 'a' through 'z' and lower case) \n",
    "    keys = [\"the\",\"a\",\"there\",\"anaswe\",\"any\", \n",
    "            \"by\",\"their\"] \n",
    "    output = [\"Not present in trie\", \n",
    "              \"Present in trie\"] \n",
    "  \n",
    "    # Trie object \n",
    "    t = Trie() \n",
    "  \n",
    "    # Construct trie \n",
    "    for key in keys: \n",
    "        t.insert(key) \n",
    "  \n",
    "    # Search for different keys \n",
    "    print(\"{} ---- {}\".format(\"the\",output[t.search(\"the\")])) \n",
    "    print(\"{} ---- {}\".format(\"these\",output[t.search(\"these\")])) \n",
    "    print(\"{} ---- {}\".format(\"their\",output[t.search(\"their\")])) \n",
    "    print(\"{} ---- {}\".format(\"thaw\",output[t.search(\"thaw\")])) \n",
    "if __name__ == '__main__': \n",
    "    main() "
   ]
  },
  {
   "cell_type": "code",
   "execution_count": 1,
   "metadata": {},
   "outputs": [
    {
     "name": "stdout",
     "output_type": "stream",
     "text": [
      "the ---- Present in trie\n",
      "these ---- Not present in trie\n",
      "their ---- Present in trie\n",
      "thaw ---- Not present in trie\n"
     ]
    }
   ],
   "source": [
    "# Python program for insert and search \n",
    "# operation in a Trie \n",
    "\n",
    "class TrieNode: \n",
    "\t\n",
    "\t# Trie node class \n",
    "\tdef __init__(self): \n",
    "\t\tself.children = [None]*26\n",
    "\n",
    "\t\t# isEndOfWord is True if node represent the end of the word \n",
    "\t\tself.isEndOfWord = False\n",
    "\n",
    "class Trie: \n",
    "\t\n",
    "\t# Trie data structure class \n",
    "\tdef __init__(self): \n",
    "\t\tself.root = self.getNode() \n",
    "\n",
    "\tdef getNode(self): \n",
    "\t\n",
    "\t\t# Returns new trie node (initialized to NULLs) \n",
    "\t\treturn TrieNode() \n",
    "\n",
    "\tdef _charToIndex(self,ch): \n",
    "\t\t\n",
    "\t\t# private helper function \n",
    "\t\t# Converts key current character into index \n",
    "\t\t# use only 'a' through 'z' and lower case \n",
    "\t\t\n",
    "\t\treturn ord(ch)-ord('a') \n",
    "\n",
    "\n",
    "\tdef insert(self,key): \n",
    "\t\t\n",
    "\t\t# If not present, inserts key into trie \n",
    "\t\t# If the key is prefix of trie node, \n",
    "\t\t# just marks leaf node \n",
    "\t\tpCrawl = self.root \n",
    "\t\tlength = len(key) \n",
    "\t\tfor level in range(length): \n",
    "\t\t\tindex = self._charToIndex(key[level]) \n",
    "\n",
    "\t\t\t# if current character is not present \n",
    "\t\t\tif not pCrawl.children[index]: \n",
    "\t\t\t\tpCrawl.children[index] = self.getNode() \n",
    "\t\t\tpCrawl = pCrawl.children[index] \n",
    "\n",
    "\t\t# mark last node as leaf \n",
    "\t\tpCrawl.isEndOfWord = True\n",
    "\n",
    "\tdef search(self, key): \n",
    "\t\t\n",
    "\t\t# Search key in the trie \n",
    "\t\t# Returns true if key presents \n",
    "\t\t# in trie, else false \n",
    "\t\tpCrawl = self.root \n",
    "\t\tlength = len(key) \n",
    "\t\tfor level in range(length): \n",
    "\t\t\tindex = self._charToIndex(key[level]) \n",
    "\t\t\tif not pCrawl.children[index]: \n",
    "\t\t\t\treturn False\n",
    "\t\t\tpCrawl = pCrawl.children[index] \n",
    "\n",
    "\t\treturn pCrawl != None and pCrawl.isEndOfWord \n",
    "\n",
    "# driver function \n",
    "def main(): \n",
    "\n",
    "\t# Input keys (use only 'a' through 'z' and lower case) \n",
    "\tkeys = [\"the\",\"a\",\"there\",\"anaswe\",\"any\", \n",
    "\t\t\t\"by\",\"their\"] \n",
    "\toutput = [\"Not present in trie\", \n",
    "\t\t\t\"Present in trie\"] \n",
    "\n",
    "\t# Trie object \n",
    "\tt = Trie() \n",
    "\n",
    "\t# Construct trie \n",
    "\tfor key in keys: \n",
    "\t\tt.insert(key) \n",
    "\n",
    "\t# Search for different keys \n",
    "\tprint(\"{} ---- {}\".format(\"the\",output[t.search(\"the\")])) \n",
    "\tprint(\"{} ---- {}\".format(\"these\",output[t.search(\"these\")])) \n",
    "\tprint(\"{} ---- {}\".format(\"their\",output[t.search(\"their\")])) \n",
    "\tprint(\"{} ---- {}\".format(\"thaw\",output[t.search(\"thaw\")])) \n",
    "\n",
    "if __name__ == '__main__': \n",
    "\tmain() \n"
   ]
  },
  {
   "cell_type": "markdown",
   "metadata": {},
   "source": [
    "# Auto complete using trie"
   ]
  },
  {
   "cell_type": "code",
   "execution_count": 6,
   "metadata": {},
   "outputs": [
    {
     "name": "stdout",
     "output_type": "stream",
     "text": [
      "2\n"
     ]
    }
   ],
   "source": [
    "if True and 3:\n",
    "    print(2)"
   ]
  },
  {
   "cell_type": "markdown",
   "metadata": {},
   "source": [
    "# Replace words\n",
    "[Question](https://leetcode.com/problems/replace-words/)"
   ]
  },
  {
   "cell_type": "code",
   "execution_count": null,
   "metadata": {},
   "outputs": [],
   "source": [
    "class Trie:\n",
    "    def __init__(self):\n",
    "        self.children = [None]*26\n",
    "        self.isEnd = False\n",
    "class Solution:\n",
    "    \n",
    "    def __init__(self):\n",
    "        self.root = Trie()\n",
    "    def insert(self,word):\n",
    "        length = len(word)\n",
    "        counter = self.root\n",
    "        for i in range(length):\n",
    "            index = ord(word[i]) - ord('a')\n",
    "            if not counter.children[index]:\n",
    "                counter.children[index] = Trie()\n",
    "            counter = counter.children[index]\n",
    "        counter.isEnd = True\n",
    "    def search(self,word):\n",
    "        length = len(word)\n",
    "        counter = self.root\n",
    "        ans = ''\n",
    "        for i in range(length):\n",
    "            index = ord(word[i]) - ord('a')\n",
    "            if not counter.children[index]:\n",
    "                return word\n",
    "            ans+=word[i]\n",
    "            counter = counter.children[index]\n",
    "            if counter.isEnd:\n",
    "                return ans\n",
    "        return word\n",
    "        \n",
    "    def replaceWords(self, dictionary: List[str], sentence: str) -> str:\n",
    "        for word in dictionary:\n",
    "            self.insert(word)\n",
    "        sentence = sentence.split()\n",
    "        res = []\n",
    "        for word in sentence:\n",
    "            if self.search(word) == '':\n",
    "                res.append(word)\n",
    "            res.append(self.search(word))\n",
    "        return ' '.join(map(str,res))"
   ]
  }
 ],
 "metadata": {
  "kernelspec": {
   "display_name": "Python 3",
   "language": "python",
   "name": "python3"
  },
  "language_info": {
   "codemirror_mode": {
    "name": "ipython",
    "version": 3
   },
   "file_extension": ".py",
   "mimetype": "text/x-python",
   "name": "python",
   "nbconvert_exporter": "python",
   "pygments_lexer": "ipython3",
   "version": "3.8.3"
  }
 },
 "nbformat": 4,
 "nbformat_minor": 4
}
