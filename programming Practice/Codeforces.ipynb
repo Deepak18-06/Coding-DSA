{
 "cells": [
  {
   "cell_type": "code",
   "execution_count": 12,
   "metadata": {},
   "outputs": [
    {
     "name": "stdout",
     "output_type": "stream",
     "text": [
      "2 \n",
      "2\n",
      "1 100\n",
      "-100 1\n",
      "4\n",
      "1 2 3 6\n",
      "-2 1 -6 3\n"
     ]
    }
   ],
   "source": [
    "def solve():\n",
    "    for i in range(int(input())):\n",
    "        n = int(input())\n",
    "        arr = list(map(int,input().split()))\n",
    "        for j in range(0,len(arr),2):\n",
    "            arr[j],arr[j+1] = -arr[j+1],arr[j]\n",
    "        print(*arr)\n",
    "solve()                   "
   ]
  },
  {
   "cell_type": "code",
   "execution_count": 17,
   "metadata": {},
   "outputs": [
    {
     "name": "stdout",
     "output_type": "stream",
     "text": [
      "2\n",
      "3 4\n",
      "1 2 3\n",
      "1 1 2\n",
      "Yes\n",
      "2 6\n",
      "2 6\n",
      "1 4\n",
      "2 5\n",
      "Yes\n"
     ]
    }
   ],
   "source": [
    "def solve(A,B,x,n):\n",
    "    for (a,b) in zip(A,B[::-1]):\n",
    "        if a+b > x:\n",
    "            return \"No\"\n",
    "    return \"Yes\"     \n",
    "for i in range(int(input())):\n",
    "    if i>0:\n",
    "        input()\n",
    "    n , x  = map(int,input().split())\n",
    "    A = list(map(int,input().split()))\n",
    "    B = list(map(int,input().split()))\n",
    "    print(solve(A,B,x,n))"
   ]
  },
  {
   "cell_type": "markdown",
   "metadata": {},
   "source": [
    "## "
   ]
  }
 ],
 "metadata": {
  "kernelspec": {
   "display_name": "Python 3",
   "language": "python",
   "name": "python3"
  },
  "language_info": {
   "codemirror_mode": {
    "name": "ipython",
    "version": 3
   },
   "file_extension": ".py",
   "mimetype": "text/x-python",
   "name": "python",
   "nbconvert_exporter": "python",
   "pygments_lexer": "ipython3",
   "version": "3.8.3"
  }
 },
 "nbformat": 4,
 "nbformat_minor": 4
}
