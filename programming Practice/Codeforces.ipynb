{
 "cells": [
  {
   "cell_type": "code",
   "execution_count": 12,
   "metadata": {},
   "outputs": [
    {
     "name": "stdout",
     "output_type": "stream",
     "text": [
      "2 \n",
      "2\n",
      "1 100\n",
      "-100 1\n",
      "4\n",
      "1 2 3 6\n",
      "-2 1 -6 3\n"
     ]
    }
   ],
   "source": [
    "def solve():\n",
    "    for i in range(int(input())):\n",
    "        n = int(input())\n",
    "        arr = list(map(int,input().split()))\n",
    "        for j in range(0,len(arr),2):\n",
    "            arr[j],arr[j+1] = -arr[j+1],arr[j]\n",
    "        print(*arr)\n",
    "solve()                   "
   ]
  },
  {
   "cell_type": "code",
   "execution_count": null,
   "metadata": {},
   "outputs": [],
   "source": []
  },
  {
   "cell_type": "code",
   "execution_count": 17,
   "metadata": {},
   "outputs": [
    {
     "name": "stdout",
     "output_type": "stream",
     "text": [
      "2\n",
      "3 4\n",
      "1 2 3\n",
      "1 1 2\n",
      "Yes\n",
      "2 6\n",
      "2 6\n",
      "1 4\n",
      "2 5\n",
      "Yes\n"
     ]
    }
   ],
   "source": [
    "def solve(A,B,x,n):\n",
    "    for (a,b) in zip(A,B[::-1]):\n",
    "        if a+b > x:\n",
    "            return \"No\"\n",
    "    return \"Yes\"     \n",
    "for i in range(int(input())):\n",
    "    if i>0:\n",
    "        input()\n",
    "    n , x  = map(int,input().split())\n",
    "    A = list(map(int,input().split()))\n",
    "    B = list(map(int,input().split()))\n",
    "    print(solve(A,B,x,n))"
   ]
  },
  {
   "cell_type": "code",
   "execution_count": 4,
   "metadata": {},
   "outputs": [
    {
     "name": "stdout",
     "output_type": "stream",
     "text": [
      "3\n",
      "5\n",
      "4\n",
      "24\n",
      "240\n",
      "3360\n",
      "4 6 10 14 18\n",
      "10\n",
      "4\n",
      "24\n",
      "240\n",
      "3360\n",
      "60480\n",
      "1330560\n",
      "34594560\n",
      "1176215040\n",
      "4 6 10 14 18 22 26 34 38\n",
      "2\n",
      "4\n",
      "4 6\n"
     ]
    }
   ],
   "source": [
    "for i in range(int(input())):\n",
    "    n = int(input())\n",
    "    res = [4]\n",
    "    num = 4\n",
    "    for j in range(6,4*n,2):\n",
    "        if len(res) == n:\n",
    "            break\n",
    "        if num%j != 0:\n",
    "            print(num)\n",
    "            res.append(j)\n",
    "            num*=j\n",
    "    print(*res)"
   ]
  },
  {
   "cell_type": "code",
   "execution_count": 5,
   "metadata": {},
   "outputs": [],
   "source": [
    "s = '1176215040'"
   ]
  },
  {
   "cell_type": "markdown",
   "metadata": {},
   "source": [
    "## "
   ]
  },
  {
   "cell_type": "code",
   "execution_count": 6,
   "metadata": {},
   "outputs": [
    {
     "ename": "TypeError",
     "evalue": "'str' object doesn't support item deletion",
     "output_type": "error",
     "traceback": [
      "\u001b[0;31m---------------------------------------------------------------------------\u001b[0m",
      "\u001b[0;31mTypeError\u001b[0m                                 Traceback (most recent call last)",
      "\u001b[0;32m<ipython-input-6-55f57cf8ea9a>\u001b[0m in \u001b[0;36m<module>\u001b[0;34m\u001b[0m\n\u001b[0;32m----> 1\u001b[0;31m \u001b[0;32mdel\u001b[0m \u001b[0ms\u001b[0m\u001b[0;34m[\u001b[0m\u001b[0;36m0\u001b[0m\u001b[0;34m]\u001b[0m\u001b[0;34m\u001b[0m\u001b[0;34m\u001b[0m\u001b[0m\n\u001b[0m",
      "\u001b[0;31mTypeError\u001b[0m: 'str' object doesn't support item deletion"
     ]
    }
   ],
   "source": [
    "del s[0]"
   ]
  },
  {
   "cell_type": "code",
   "execution_count": 9,
   "metadata": {},
   "outputs": [],
   "source": [
    "s = '00000'\n"
   ]
  },
  {
   "cell_type": "code",
   "execution_count": 8,
   "metadata": {},
   "outputs": [
    {
     "data": {
      "text/plain": [
       "''"
      ]
     },
     "execution_count": 8,
     "metadata": {},
     "output_type": "execute_result"
    }
   ],
   "source": [
    "s.rstrip('0')"
   ]
  },
  {
   "cell_type": "code",
   "execution_count": 10,
   "metadata": {},
   "outputs": [],
   "source": [
    "for i in range(10,len(s)):\n",
    "    print(2)"
   ]
  },
  {
   "cell_type": "code",
   "execution_count": null,
   "metadata": {},
   "outputs": [],
   "source": []
  }
 ],
 "metadata": {
  "kernelspec": {
   "display_name": "Python 3",
   "language": "python",
   "name": "python3"
  },
  "language_info": {
   "codemirror_mode": {
    "name": "ipython",
    "version": 3
   },
   "file_extension": ".py",
   "mimetype": "text/x-python",
   "name": "python",
   "nbconvert_exporter": "python",
   "pygments_lexer": "ipython3",
   "version": "3.8.3"
  }
 },
 "nbformat": 4,
 "nbformat_minor": 4
}
