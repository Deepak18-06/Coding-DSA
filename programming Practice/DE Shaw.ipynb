{
 "cells": [
  {
   "cell_type": "markdown",
   "metadata": {},
   "source": [
    "# Maximum possible stolen value from houses"
   ]
  },
  {
   "cell_type": "code",
   "execution_count": null,
   "metadata": {},
   "outputs": [],
   "source": [
    "def rob(self, nums: List[int]) -> int:\n",
    "    if len(nums) == 0:\n",
    "        return 0\n",
    "    if len(nums) == 1:\n",
    "        return nums[0]\n",
    "    dp = [0 for i in range(len(nums))]\n",
    "    dp[0] = nums[0]\n",
    "    dp[1] = max(nums[1],nums[0])\n",
    "    for i in range(2,len(nums)):\n",
    "        dp[i] = max(nums[i]+dp[i-2],dp[i-1])\n",
    "    return max(dp[-1],dp[-2])"
   ]
  },
  {
   "cell_type": "markdown",
   "metadata": {},
   "source": [
    "# Minimum Cost Path+ Dungen Game(impt)"
   ]
  },
  {
   "cell_type": "code",
   "execution_count": null,
   "metadata": {},
   "outputs": [],
   "source": []
  },
  {
   "cell_type": "markdown",
   "metadata": {},
   "source": [
    "# "
   ]
  },
  {
   "cell_type": "markdown",
   "metadata": {},
   "source": [
    "# Largest Area Island\n",
    "[Question](https://leetcode.com/problems/max-area-of-island/)"
   ]
  },
  {
   "cell_type": "code",
   "execution_count": null,
   "metadata": {},
   "outputs": [],
   "source": [
    "def maxAreaOfIsland(self, grid: List[List[int]]) -> int:\n",
    "    m = len(grid)\n",
    "    n = len(grid[0])\n",
    "\n",
    "    def dfs(i,j):\n",
    "        a,b,c,d = 0,0,0,0\n",
    "        if grid[i][j]==1:\n",
    "            grid[i][j]=2\n",
    "\n",
    "            if i+1<m:\n",
    "                a = dfs(i+1,j)\n",
    "            if j+1<n:\n",
    "                b = dfs(i,j+1)\n",
    "            if i-1>=0:    \n",
    "                c = dfs(i-1,j)\n",
    "            if j-1>=0:\n",
    "                d = dfs(i,j-1)\n",
    "            return a+b+c+d+1\n",
    "        return 0\n",
    "    ans = 0\n",
    "    for i in range(m):\n",
    "        for j in range(n):\n",
    "            if grid[i][j]==1:\n",
    "                # print(i,j)\n",
    "                ans = max(ans,dfs(i,j))\n",
    "    return ans        "
   ]
  },
  {
   "cell_type": "code",
   "execution_count": null,
   "metadata": {},
   "outputs": [],
   "source": [
    "def dfs1(self,grid,i,j):\n",
    "    if i<0 or i>=len(grid) or j<0 or j>=len(grid[0]) or grid[i][j] == 0:\n",
    "        return 0\n",
    "    grid[i][j] =  0\n",
    "    return self.dfs1(grid,i+1,j)+self.dfs1(grid,i,j-1)+self.dfs1(grid,i,j+1)+self.dfs1(grid,i-1,j) +1\n",
    "def solve(grid,m,n):\n",
    "    ans = 0\n",
    "    for i in range(m):\n",
    "        for j in range(n):\n",
    "            if grid[i][j]==1:\n",
    "                # print(i,j)\n",
    "                ans = max(ans,self.dfs1(grid,i,j))\n",
    "    return ans      "
   ]
  },
  {
   "cell_type": "markdown",
   "metadata": {},
   "source": [
    "# Number of Islands\n",
    "[Question]()"
   ]
  },
  {
   "cell_type": "code",
   "execution_count": null,
   "metadata": {},
   "outputs": [],
   "source": [
    "class Solution(object):\n",
    "    def dfs(self,grid,i,j):\n",
    "        if i<0 or i>=len(grid) or j<0 or j>=len(grid[0]) or grid[i][j] == '0':\n",
    "            return 0\n",
    "        grid[i][j] = '0'\n",
    "        self.dfs(grid,i-1,j)\n",
    "        self.dfs(grid,i,j-1)\n",
    "        self.dfs(grid,i,j+1)\n",
    "        self.dfs(grid,i+1,j)\n",
    "        return 1\n",
    "    def numIslands(self, grid):\n",
    "        \"\"\"\n",
    "        :type grid: List[List[str]]\n",
    "        :rtype: int\n",
    "        \"\"\"\n",
    "        if len(grid) == 0 or len(grid[0]) == 0:\n",
    "            return 0\n",
    "        islands = 0\n",
    "        for i in range(len(grid)):\n",
    "            for j in range(len(grid[0])):\n",
    "                if grid[i][j] == '1':\n",
    "                    islands+=self.dfs(grid,i,j)\n",
    "        return islands"
   ]
  },
  {
   "cell_type": "markdown",
   "metadata": {},
   "source": [
    "# convert a BST into a maxheap\n",
    "do it in O(n)"
   ]
  },
  {
   "cell_type": "code",
   "execution_count": null,
   "metadata": {},
   "outputs": [],
   "source": []
  },
  {
   "cell_type": "markdown",
   "metadata": {},
   "source": [
    "# topological sort"
   ]
  },
  {
   "cell_type": "code",
   "execution_count": null,
   "metadata": {},
   "outputs": [],
   "source": []
  },
  {
   "cell_type": "markdown",
   "metadata": {},
   "source": [
    "# prime Sieve of Eratosthenes\n",
    "\n",
    "\n",
    "Time Complexity O(n*log(log(n)))\n",
    "\n",
    "for every prime number it will iterate for n/p where p in prime\n",
    "so n/2 + n/3 + n/5 + n/7 + .....n/p where p is largest prime less than n\n",
    "n*(1/2 +1/3 +1/5 .......)\n",
    "n*(log(log(n)))"
   ]
  },
  {
   "cell_type": "code",
   "execution_count": 5,
   "metadata": {},
   "outputs": [
    {
     "name": "stdout",
     "output_type": "stream",
     "text": [
      "2 3 5 7 11 "
     ]
    }
   ],
   "source": [
    "def solve(n):\n",
    "    primes = [True]*(n+1)\n",
    "    primes[0] = False\n",
    "    primes[1] = False\n",
    "    for i in range(2,int(n**.5) + 1):\n",
    "        if primes[i] == True:\n",
    "            for j in range(i*i,n+1,i):\n",
    "                primes[j] = False\n",
    "    for i in range(len(primes)):\n",
    "        if primes[i]:\n",
    "            print(i,end = ' ')\n",
    "solve(11)"
   ]
  },
  {
   "cell_type": "markdown",
   "metadata": {},
   "source": [
    "# Sum after Swapping elements\n",
    "[Question](https://leetcode.com/discuss/interview-question/780698/got-this-in-an-interview-how-to-solve)"
   ]
  },
  {
   "cell_type": "code",
   "execution_count": null,
   "metadata": {},
   "outputs": [],
   "source": [
    "given function sum\n",
    "\n",
    "long long Sum(int arr1[], int arr2[],int n)\n",
    "{\n",
    "    int value_of_sum = 0;\n",
    "    for(int i=0;i<n;i++)\n",
    "    {\n",
    "        value_of_sum = value_of_sum + abs(arr1[i]-arr2[i]); //Java & Python Coders remember abs() means absolute positive value.\n",
    "\n",
    "        if(i < n-1)\n",
    "        {\n",
    "            value_of_sum = value_of_sum + abs(arr1[i+1] - arr2[i]);\n",
    "        } \n",
    "\n",
    "    }\n",
    "    return value_of_sum;\n",
    "}\n",
    "Explanation :\n",
    "\n",
    "input\n",
    "n = 4\n",
    "arr1[] = {2,3,4,1}\n",
    "arr2[] = {2,4,1,1}\n",
    "\n",
    "Ouput\n",
    "11\n",
    "\n",
    "Here we will swap arr1[2] and arr2[2]. (Swap)\n",
    "\n",
    "arr1[] = {2,3,1,1}\n",
    "arr2[] = {2,4,4,1}\n",
    "\n",
    "for this type of arrangement we have our maximum Define Sum.\n",
    "\n",
    "Sum = abs(arr1[0]-arr2[0]) + abs(arr1[1]-arr2[0]) + abs(arr1[1]-arr2[1]) + abs(arr1[2]-arr2[1]) ....\n",
    "Sum = abs(2-2) + abs(3-2) + abs(3-4) + abs(1-4) + abs(1-4) + abs(1-4) + abs(1-1) = 11"
   ]
  },
  {
   "cell_type": "markdown",
   "metadata": {},
   "source": [
    "# Water Equalizer\n",
    "[Question](https://leetcode.com/discuss/interview-question/424751/DE-Shaw-or-Coding-Round-Question-1)"
   ]
  },
  {
   "cell_type": "code",
   "execution_count": 4,
   "metadata": {},
   "outputs": [
    {
     "data": {
      "text/plain": [
       "2"
      ]
     },
     "execution_count": 4,
     "metadata": {},
     "output_type": "execute_result"
    }
   ],
   "source": [
    "def waterEqualizer(arr):\n",
    "    total = sum(arr)\n",
    "    arr.sort(reverse = True )\n",
    "    ans = float(\"inf\")\n",
    "    for i in range(len(arr)):\n",
    "        ans = min(ans,total-arr[i]*(i+1))\n",
    "    return ans\n",
    "arr = [1,2,3]\n",
    "waterEqualizer(arr)"
   ]
  },
  {
   "cell_type": "markdown",
   "metadata": {},
   "source": [
    "# kth Permutation of string\n",
    "[Question](https://leetcode.com/problems/permutation-sequence/)"
   ]
  },
  {
   "cell_type": "code",
   "execution_count": 9,
   "metadata": {},
   "outputs": [
    {
     "data": {
      "text/plain": [
       "'2431'"
      ]
     },
     "execution_count": 9,
     "metadata": {},
     "output_type": "execute_result"
    }
   ],
   "source": [
    "def getPermutation(n: int, k: int) -> str:\n",
    "    res = \"\"\n",
    "    # 0 index:\n",
    "    k = k-1\n",
    "    take = [str(i) for i in range(1,n+1)]\n",
    "    # store the factorial of n:\n",
    "    fact = [1 for _ in range(n+1)]\n",
    "    for i in range(1,n):\n",
    "        fact[i] = fact[i-1] * i\n",
    "    for i in range(1,n+1):\n",
    "        target = k // fact[n-i]\n",
    "        k = k % fact[n-i]\n",
    "        # target is an index of the new \"take\" \n",
    "        res += take.pop(target)\n",
    "    return res\n",
    "getPermutation(4,12)"
   ]
  },
  {
   "cell_type": "code",
   "execution_count": 7,
   "metadata": {},
   "outputs": [
    {
     "data": {
      "text/plain": [
       "''"
      ]
     },
     "execution_count": 7,
     "metadata": {},
     "output_type": "execute_result"
    }
   ],
   "source": [
    "n = 4\n",
    "fact = [1]\n",
    "f =1\n",
    "for i in range(1,n):\n",
    "    f*=i\n",
    "    fact.append(f)\n",
    "digits = [str(i) for i in range(1,n+1)]\n",
    "def solve(ans,n,k):\n",
    "    if n == 1:\n",
    "        ans+=digits[-1]\n",
    "        return\n",
    "    idx = k//fact[n-1]\n",
    "    if k%fact[n-1] == 0:\n",
    "        idx-=1\n",
    "    ans+=digits[idx]\n",
    "    del digits[idx]\n",
    "    k-=fact[n-1]*idx\n",
    "    solve(ans,n-1,k)\n",
    "    \n",
    "def getpermute(n,k):\n",
    "    fact = [1]\n",
    "    f =1\n",
    "    for i in range(1,n):\n",
    "        f*=i\n",
    "        fact.append(f)\n",
    "    digits = [str(i) for i in range(1,n+1)]\n",
    "    ans = \"\"\n",
    "    solve(ans,n,k)\n",
    "    return ans\n",
    "getpermute(4,12)"
   ]
  },
  {
   "cell_type": "markdown",
   "metadata": {},
   "source": [
    "# Dungen Game\n",
    "[Question](https://leetcode.com/problems/dungeon-game/)"
   ]
  },
  {
   "cell_type": "code",
   "execution_count": null,
   "metadata": {},
   "outputs": [],
   "source": [
    "def calculateMinimumHP(self, grid: List[List[int]]) -> int:\n",
    "    m = len(grid)\n",
    "    n = len(grid[0])\n",
    "    dp =[[0 for i in range(n)] for j in range(m)]\n",
    "    for i in range(m-1,-1,-1):\n",
    "        for j in range(n-1,-1,-1):\n",
    "            if i == m-1 and j == n-1:\n",
    "                dp[i][j] = min(0,grid[i][j])\n",
    "            elif i == m-1:\n",
    "                dp[i][j] = min(0,grid[i][j]+dp[i][j+1])\n",
    "            elif j == n-1:\n",
    "                dp[i][j] = min(0,grid[i][j]+dp[i+1][j])\n",
    "            else:\n",
    "                dp[i][j] = min(0,grid[i][j]+max(dp[i+1][j],dp[i][j+1]))\n",
    "    return abs(dp[0][0]) + 1"
   ]
  },
  {
   "cell_type": "markdown",
   "metadata": {},
   "source": [
    "# convert BST to a Complete BST"
   ]
  },
  {
   "cell_type": "code",
   "execution_count": null,
   "metadata": {},
   "outputs": [],
   "source": []
  },
  {
   "cell_type": "markdown",
   "metadata": {},
   "source": [
    "#  Given a string, find the count of all substrings of a string having atmost 3 unique characters."
   ]
  },
  {
   "cell_type": "code",
   "execution_count": null,
   "metadata": {},
   "outputs": [],
   "source": []
  },
  {
   "cell_type": "markdown",
   "metadata": {},
   "source": [
    "# Product array Puzzle"
   ]
  },
  {
   "cell_type": "code",
   "execution_count": null,
   "metadata": {},
   "outputs": [],
   "source": []
  },
  {
   "cell_type": "markdown",
   "metadata": {},
   "source": [
    "# Kadene's Algorithm"
   ]
  },
  {
   "cell_type": "code",
   "execution_count": null,
   "metadata": {},
   "outputs": [],
   "source": []
  },
  {
   "cell_type": "markdown",
   "metadata": {},
   "source": [
    "# Mobile numeric keypad"
   ]
  },
  {
   "cell_type": "code",
   "execution_count": null,
   "metadata": {},
   "outputs": [],
   "source": []
  },
  {
   "cell_type": "markdown",
   "metadata": {},
   "source": [
    "# nearest pallindrome"
   ]
  },
  {
   "cell_type": "code",
   "execution_count": null,
   "metadata": {},
   "outputs": [],
   "source": []
  },
  {
   "cell_type": "markdown",
   "metadata": {},
   "source": [
    "# design instagram databases"
   ]
  },
  {
   "cell_type": "code",
   "execution_count": null,
   "metadata": {},
   "outputs": [],
   "source": []
  },
  {
   "cell_type": "markdown",
   "metadata": {},
   "source": [
    "# ACID"
   ]
  }
 ],
 "metadata": {
  "kernelspec": {
   "display_name": "Python 3",
   "language": "python",
   "name": "python3"
  },
  "language_info": {
   "codemirror_mode": {
    "name": "ipython",
    "version": 3
   },
   "file_extension": ".py",
   "mimetype": "text/x-python",
   "name": "python",
   "nbconvert_exporter": "python",
   "pygments_lexer": "ipython3",
   "version": "3.8.3"
  }
 },
 "nbformat": 4,
 "nbformat_minor": 4
}
