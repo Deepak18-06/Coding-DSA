{
 "cells": [
  {
   "cell_type": "markdown",
   "metadata": {},
   "source": [
    "# Largest Area Island\n",
    "[Question](https://leetcode.com/problems/max-area-of-island/)"
   ]
  },
  {
   "cell_type": "code",
   "execution_count": null,
   "metadata": {},
   "outputs": [],
   "source": [
    "def maxAreaOfIsland(self, grid: List[List[int]]) -> int:\n",
    "    m = len(grid)\n",
    "    n = len(grid[0])\n",
    "\n",
    "    def dfs(i,j):\n",
    "        a,b,c,d = 0,0,0,0\n",
    "        if grid[i][j]==1:\n",
    "            grid[i][j]=2\n",
    "\n",
    "            if i+1<m:\n",
    "                a = dfs(i+1,j)\n",
    "            if j+1<n:\n",
    "                b = dfs(i,j+1)\n",
    "            if i-1>=0:    \n",
    "                c = dfs(i-1,j)\n",
    "            if j-1>=0:\n",
    "                d = dfs(i,j-1)\n",
    "            return a+b+c+d+1\n",
    "        return 0\n",
    "    ans = 0\n",
    "    for i in range(m):\n",
    "        for j in range(n):\n",
    "            if grid[i][j]==1:\n",
    "                # print(i,j)\n",
    "                ans = max(ans,dfs(i,j))\n",
    "    return ans        "
   ]
  },
  {
   "cell_type": "code",
   "execution_count": null,
   "metadata": {},
   "outputs": [],
   "source": [
    "def dfs1(self,grid,i,j):\n",
    "    if i<0 or i>=len(grid) or j<0 or j>=len(grid[0]) or grid[i][j] == 0:\n",
    "        return 0\n",
    "    grid[i][j] =  0\n",
    "    return self.dfs1(grid,i+1,j)+self.dfs1(grid,i,j-1)+self.dfs1(grid,i,j+1)+self.dfs1(grid,i-1,j) +1\n",
    "def solve(grid,m,n):\n",
    "    ans = 0\n",
    "    for i in range(m):\n",
    "        for j in range(n):\n",
    "            if grid[i][j]==1:\n",
    "                # print(i,j)\n",
    "                ans = max(ans,self.dfs1(grid,i,j))\n",
    "    return ans      "
   ]
  },
  {
   "cell_type": "markdown",
   "metadata": {},
   "source": [
    "# Number of Islands\n",
    "[Question]()"
   ]
  },
  {
   "cell_type": "code",
   "execution_count": null,
   "metadata": {},
   "outputs": [],
   "source": [
    "class Solution(object):\n",
    "    def dfs(self,grid,i,j):\n",
    "        if i<0 or i>=len(grid) or j<0 or j>=len(grid[0]) or grid[i][j] == '0':\n",
    "            return 0\n",
    "        grid[i][j] = '0'\n",
    "        self.dfs(grid,i-1,j)\n",
    "        self.dfs(grid,i,j-1)\n",
    "        self.dfs(grid,i,j+1)\n",
    "        self.dfs(grid,i+1,j)\n",
    "        return 1\n",
    "    def numIslands(self, grid):\n",
    "        \"\"\"\n",
    "        :type grid: List[List[str]]\n",
    "        :rtype: int\n",
    "        \"\"\"\n",
    "        if len(grid) == 0 or len(grid[0]) == 0:\n",
    "            return 0\n",
    "        islands = 0\n",
    "        for i in range(len(grid)):\n",
    "            for j in range(len(grid[0])):\n",
    "                if grid[i][j] == '1':\n",
    "                    islands+=self.dfs(grid,i,j)\n",
    "        return islands"
   ]
  },
  {
   "cell_type": "markdown",
   "metadata": {},
   "source": [
    "# convert a BST into a maxheap\n",
    "do it in O(n)"
   ]
  },
  {
   "cell_type": "code",
   "execution_count": null,
   "metadata": {},
   "outputs": [],
   "source": []
  },
  {
   "cell_type": "markdown",
   "metadata": {},
   "source": [
    "# topological sort"
   ]
  },
  {
   "cell_type": "code",
   "execution_count": null,
   "metadata": {},
   "outputs": [],
   "source": []
  },
  {
   "cell_type": "markdown",
   "metadata": {},
   "source": [
    "# prime Sieve of Eratosthenes\n",
    "\n",
    "\n",
    "Time Complexity O(n*log(log(n)))\n",
    "\n",
    "for every prime number it will iterate for n/p where p in prime\n",
    "so n/2 + n/3 + n/5 + n/7 + .....n/p where p is largest prime less than n\n",
    "n*(1/2 +1/3 +1/5 .......)\n",
    "n*(log(log(n)))"
   ]
  },
  {
   "cell_type": "code",
   "execution_count": 5,
   "metadata": {},
   "outputs": [
    {
     "name": "stdout",
     "output_type": "stream",
     "text": [
      "2 3 5 7 11 "
     ]
    }
   ],
   "source": [
    "def solve(n):\n",
    "    primes = [True]*(n+1)\n",
    "    primes[0] = False\n",
    "    primes[1] = False\n",
    "    for i in range(2,int(n**.5) + 1):\n",
    "        if primes[i] == True:\n",
    "            for j in range(i*i,n+1,i):\n",
    "                primes[j] = False\n",
    "    for i in range(len(primes)):\n",
    "        if primes[i]:\n",
    "            print(i,end = ' ')\n",
    "solve(11)"
   ]
  },
  {
   "cell_type": "code",
   "execution_count": null,
   "metadata": {},
   "outputs": [],
   "source": []
  },
  {
   "cell_type": "markdown",
   "metadata": {},
   "source": [
    "# convert BST to a Complete BST"
   ]
  },
  {
   "cell_type": "code",
   "execution_count": null,
   "metadata": {},
   "outputs": [],
   "source": []
  },
  {
   "cell_type": "markdown",
   "metadata": {},
   "source": [
    "#  Given a string, find the count of all substrings of a string having atmost 3 unique characters."
   ]
  },
  {
   "cell_type": "code",
   "execution_count": null,
   "metadata": {},
   "outputs": [],
   "source": []
  },
  {
   "cell_type": "markdown",
   "metadata": {},
   "source": [
    "# Product array Puzzle"
   ]
  },
  {
   "cell_type": "code",
   "execution_count": null,
   "metadata": {},
   "outputs": [],
   "source": []
  },
  {
   "cell_type": "markdown",
   "metadata": {},
   "source": [
    "# Kadene's Algorithm"
   ]
  },
  {
   "cell_type": "code",
   "execution_count": null,
   "metadata": {},
   "outputs": [],
   "source": []
  },
  {
   "cell_type": "markdown",
   "metadata": {},
   "source": [
    "# Mobile numeric keypad"
   ]
  },
  {
   "cell_type": "code",
   "execution_count": null,
   "metadata": {},
   "outputs": [],
   "source": []
  },
  {
   "cell_type": "markdown",
   "metadata": {},
   "source": [
    "# nearest pallindrome"
   ]
  },
  {
   "cell_type": "code",
   "execution_count": null,
   "metadata": {},
   "outputs": [],
   "source": []
  },
  {
   "cell_type": "markdown",
   "metadata": {},
   "source": [
    "# design instagram databases"
   ]
  },
  {
   "cell_type": "code",
   "execution_count": null,
   "metadata": {},
   "outputs": [],
   "source": []
  },
  {
   "cell_type": "markdown",
   "metadata": {},
   "source": [
    "# ACID"
   ]
  }
 ],
 "metadata": {
  "kernelspec": {
   "display_name": "Python 3",
   "language": "python",
   "name": "python3"
  },
  "language_info": {
   "codemirror_mode": {
    "name": "ipython",
    "version": 3
   },
   "file_extension": ".py",
   "mimetype": "text/x-python",
   "name": "python",
   "nbconvert_exporter": "python",
   "pygments_lexer": "ipython3",
   "version": "3.8.3"
  }
 },
 "nbformat": 4,
 "nbformat_minor": 4
}
