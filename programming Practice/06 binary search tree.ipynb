{
 "cells": [
  {
   "cell_type": "markdown",
   "id": "5776a7de-10f6-4428-843e-e337784350ef",
   "metadata": {},
   "source": [
    "# Binary Search Tree"
   ]
  },
  {
   "cell_type": "code",
   "execution_count": 10,
   "id": "16f288f3-6b5f-425e-9e50-fdfb93980019",
   "metadata": {},
   "outputs": [
    {
     "name": "stdout",
     "output_type": "stream",
     "text": [
      "20 30 35 40 45 50 60 "
     ]
    }
   ],
   "source": [
    "class TreeNode:\n",
    "    def __init__(self, val=0, left=None, right=None):\n",
    "        self.val = val\n",
    "        self.left = left\n",
    "        self.right = right\n",
    "\n",
    "from collections import deque\n",
    "def insertIntoBinaryTree(root, val):\n",
    "    new_node = TreeNode(val)\n",
    "    if not root:\n",
    "        return new_node\n",
    "    \n",
    "    queue = deque([root])\n",
    "    while queue:\n",
    "        node = queue.popleft()\n",
    "        # Check if the left child is empty\n",
    "        if not node.left:\n",
    "            node.left = new_node\n",
    "            return root\n",
    "        else:\n",
    "            queue.append(node.left)\n",
    "        # Check if the right child is empty\n",
    "        if not node.right:\n",
    "            node.right = new_node\n",
    "            return root\n",
    "        else:\n",
    "            queue.append(node.right)\n",
    "    return root\n",
    "\n",
    "\n",
    "def searchBinaryTree(root, val):\n",
    "    if not root:\n",
    "        return None\n",
    "    \n",
    "    queue = deque([root])\n",
    "    while queue:\n",
    "        node = queue.popleft()\n",
    "        if node.val == val:\n",
    "            return node\n",
    "        if node.left:\n",
    "            queue.append(node.left)\n",
    "        if node.right:\n",
    "            queue.append(node.right)\n",
    "    return None\n",
    "\n",
    "def searchBST(root, val):\n",
    "    if not root or root.val == val:\n",
    "        return root\n",
    "    if val < root.val:\n",
    "        return searchBST(root.left, val)\n",
    "    else:\n",
    "        return searchBST(root.right, val)\n",
    "\n",
    "\n",
    "def deleteDeepestNode(root, d_node):\n",
    "    queue = deque([root])\n",
    "    while queue:\n",
    "        node = queue.popleft()\n",
    "        if node is d_node:\n",
    "            node = None\n",
    "            return\n",
    "        if node.right:\n",
    "            if node.right is d_node:\n",
    "                node.right = None\n",
    "                return\n",
    "            else:\n",
    "                queue.append(node.right)\n",
    "        if node.left:\n",
    "            if node.left is d_node:\n",
    "                node.left = None\n",
    "                return\n",
    "            else:\n",
    "                queue.append(node.left)\n",
    "\n",
    "def deleteNode(root, val):\n",
    "    if not root:\n",
    "        return None\n",
    "    if not root.left and not root.right:\n",
    "        if root.val == val:\n",
    "            return None\n",
    "        else:\n",
    "            return root\n",
    "    \n",
    "    queue = deque([root])\n",
    "    to_delete = None\n",
    "    last_node = None\n",
    "    while queue:\n",
    "        last_node = queue.popleft()\n",
    "        if last_node.val == val:\n",
    "            to_delete = last_node\n",
    "        if last_node.left:\n",
    "            queue.append(last_node.left)\n",
    "        if last_node.right:\n",
    "            queue.append(last_node.right)\n",
    "    \n",
    "    if to_delete:\n",
    "        to_delete.val = last_node.val\n",
    "        deleteDeepestNode(root, last_node)\n",
    "    \n",
    "    return root\n",
    "\n",
    "\n",
    "root = TreeNode(40)\n",
    "root.left = TreeNode(30)\n",
    "root.right = TreeNode(50)\n",
    "root.left.left = TreeNode(20)\n",
    "root.left.right = TreeNode(35)\n",
    "root.right.left = TreeNode(45)\n",
    "root.right.right = TreeNode(60)\n",
    "\n",
    "def inorder(root):\n",
    "    if root:\n",
    "        inorder(root.left)\n",
    "        print(root.val, end=\" \")\n",
    "        inorder(root.right)\n",
    "inorder(root)"
   ]
  },
  {
   "cell_type": "markdown",
   "id": "b0a4c7a9-0297-4e02-998d-d8fcc69099df",
   "metadata": {},
   "source": [
    "## Insert Into BST"
   ]
  },
  {
   "cell_type": "code",
   "execution_count": null,
   "id": "406daacf-8591-4b01-89f2-bc848b8c7bd8",
   "metadata": {},
   "outputs": [],
   "source": [
    "def insertIntoBST(root, val):\n",
    "    if not root:\n",
    "        return TreeNode(val)\n",
    "    if val < root.val:\n",
    "        root.left = insertIntoBST(root.left, val)\n",
    "    else:\n",
    "        root.right = insertIntoBST(root.right, val)\n",
    "    return root"
   ]
  },
  {
   "cell_type": "markdown",
   "id": "57f50381-303d-47bc-88b8-c49c490f4b48",
   "metadata": {},
   "source": [
    "## Ceil in Binary Tree"
   ]
  },
  {
   "cell_type": "code",
   "execution_count": null,
   "id": "b4866941-d93b-4391-bfbf-cd5d21329290",
   "metadata": {},
   "outputs": [],
   "source": [
    "def findCeil(root, key):\n",
    "    ceil = -1\n",
    "    while True:\n",
    "        if root.val == key:\n",
    "            ceil = root.val\n",
    "            return ceil\n",
    "        if key > root.val:\n",
    "            root = root.left\n",
    "        else:\n",
    "            root = root.right"
   ]
  }
 ],
 "metadata": {
  "kernelspec": {
   "display_name": "Python 3 (ipykernel)",
   "language": "python",
   "name": "python3"
  },
  "language_info": {
   "codemirror_mode": {
    "name": "ipython",
    "version": 3
   },
   "file_extension": ".py",
   "mimetype": "text/x-python",
   "name": "python",
   "nbconvert_exporter": "python",
   "pygments_lexer": "ipython3",
   "version": "3.12.4"
  }
 },
 "nbformat": 4,
 "nbformat_minor": 5
}
