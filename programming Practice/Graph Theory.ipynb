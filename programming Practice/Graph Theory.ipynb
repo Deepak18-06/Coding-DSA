{
 "cells": [
  {
   "cell_type": "markdown",
   "metadata": {},
   "source": [
    "# Depth First Search"
   ]
  },
  {
   "cell_type": "code",
   "execution_count": null,
   "metadata": {},
   "outputs": [],
   "source": [
    "def dfs(node):\n",
    "    "
   ]
  },
  {
   "cell_type": "markdown",
   "metadata": {},
   "source": [
    "# Dijkstra's Algorithm"
   ]
  },
  {
   "cell_type": "code",
   "execution_count": null,
   "metadata": {},
   "outputs": [],
   "source": [
    "def minimumEffortPath(self, heights: List[List[int]]) -> int:\n",
    "    heap = [(0,0,0)]\n",
    "    m = len(heights)\n",
    "    n = len(heights[0])\n",
    "    cost = [[math.inf]*n for _ in range(m)]\n",
    "    visited = set()\n",
    "    cost[0][0] = 0\n",
    "\n",
    "    while heap:\n",
    "        val,x,y = heapq.heappop(heap)\n",
    "        visited.add((x,y))\n",
    "        for i,j in [(-1,0),(0,1),(1,0),(0,-1)]:\n",
    "            nr = i+x\n",
    "            nc = j+y\n",
    "            if 0 <= nr < m and 0 <= nc<n and (nr,nc) not in visited:\n",
    "                #dist = abs(heights[x][y]-heights[nr][nc])\n",
    "                #dist = max(val,dist)\n",
    "                dist = val+heights[nr][nc]\n",
    "                if dist<cost[nr][nc]:\n",
    "                    cost[nr][nc] = dist\n",
    "                    heapq.heappush(heap,(dist,nr,nc))\n",
    "    return cost"
   ]
  }
 ],
 "metadata": {
  "kernelspec": {
   "display_name": "Python 3",
   "language": "python",
   "name": "python3"
  },
  "language_info": {
   "codemirror_mode": {
    "name": "ipython",
    "version": 3
   },
   "file_extension": ".py",
   "mimetype": "text/x-python",
   "name": "python",
   "nbconvert_exporter": "python",
   "pygments_lexer": "ipython3",
   "version": "3.8.8"
  }
 },
 "nbformat": 4,
 "nbformat_minor": 4
}
