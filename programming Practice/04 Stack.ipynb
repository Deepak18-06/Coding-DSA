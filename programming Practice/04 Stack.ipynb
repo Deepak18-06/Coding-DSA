{
 "cells": [
  {
   "cell_type": "markdown",
   "metadata": {},
   "source": [
    "# Stack\n",
    "whenver there are two loops in a brute force solution of a problem and the inner loop depends on outer loop then we need to see if we can optimize the code using stack\n",
    "\n",
    "## Implement stack using array"
   ]
  },
  {
   "cell_type": "code",
   "execution_count": 2,
   "metadata": {},
   "outputs": [
    {
     "name": "stdout",
     "output_type": "stream",
     "text": [
      "Top element is: 30\n",
      "Stack size is: 3\n",
      "Top element after pop: 20\n",
      "Stack size after pop: 2\n",
      "Is stack empty? False\n",
      "Is stack empty now? True\n"
     ]
    }
   ],
   "source": [
    "class Stack:\n",
    "    def __init__(self):\n",
    "        # Initialize an empty list to use as the stack\n",
    "        self.stack = []\n",
    "    \n",
    "    # Push element x onto the stack\n",
    "    def push(self, x):\n",
    "        self.stack.append(x)\n",
    "    \n",
    "    # Pop the top element off the stack and return it\n",
    "    def pop(self):\n",
    "        if not self.isEmpty():\n",
    "            return self.stack.pop()\n",
    "        else:\n",
    "            return \"Stack is empty\"\n",
    "    \n",
    "    # Return the top element without removing it\n",
    "    def peek(self):\n",
    "        if not self.isEmpty():\n",
    "            return self.stack[-1]\n",
    "        else:\n",
    "            return \"Stack is empty\"\n",
    "    \n",
    "    # Check if the stack is empty\n",
    "    def isEmpty(self):\n",
    "        return len(self.stack) == 0\n",
    "    \n",
    "    # Return the number of elements in the stack\n",
    "    def size(self):\n",
    "        return len(self.stack)\n",
    "\n",
    "# Example usage:\n",
    "stack = Stack()\n",
    "stack.push(10)\n",
    "stack.push(20)\n",
    "stack.push(30)\n",
    "\n",
    "print(\"Top element is:\", stack.peek())  # Output: 30\n",
    "print(\"Stack size is:\", stack.size())   # Output: 3\n",
    "\n",
    "stack.pop()  # Removes 30\n",
    "print(\"Top element after pop:\", stack.peek())  # Output: 20\n",
    "print(\"Stack size after pop:\", stack.size())   # Output: 2\n",
    "\n",
    "# Check if the stack is empty\n",
    "print(\"Is stack empty?\", stack.isEmpty())  # Output: False\n",
    "\n",
    "stack.pop()  # Removes 20\n",
    "stack.pop()  # Removes 10\n",
    "print(\"Is stack empty now?\", stack.isEmpty())  # Output: True\n"
   ]
  },
  {
   "cell_type": "markdown",
   "metadata": {},
   "source": [
    "## Implement Queue using array"
   ]
  },
  {
   "cell_type": "code",
   "execution_count": 6,
   "metadata": {},
   "outputs": [
    {
     "name": "stdout",
     "output_type": "stream",
     "text": [
      "Front element is: 10\n",
      "Queue size is: 3\n",
      "Front element after dequeue: 20\n",
      "Queue size after dequeue: 2\n",
      "Is queue empty? False\n",
      "Is queue empty now? True\n"
     ]
    }
   ],
   "source": [
    "class Queue:\n",
    "    def __init__(self):\n",
    "        # Initialize an empty list to use as the queue\n",
    "        self.queue = []\n",
    "    \n",
    "    # Enqueue (add) an element x to the back of the queue\n",
    "    def enqueue(self, x):\n",
    "        self.queue.append(x)\n",
    "    \n",
    "    # Dequeue (remove) the front element from the queue and return it\n",
    "    def dequeue(self):\n",
    "        if not self.isEmpty():\n",
    "            return self.queue.pop(0)\n",
    "        else:\n",
    "            return \"Queue is empty\"\n",
    "    \n",
    "    # Peek at the front element without removing it\n",
    "    def peek(self):\n",
    "        if not self.isEmpty():\n",
    "            return self.queue[0]\n",
    "        else:\n",
    "            return \"Queue is empty\"\n",
    "    \n",
    "    # Check if the queue is empty\n",
    "    def isEmpty(self):\n",
    "        return len(self.queue) == 0\n",
    "    \n",
    "    # Return the number of elements in the queue\n",
    "    def size(self):\n",
    "        return len(self.queue)\n",
    "\n",
    "# Example usage:\n",
    "queue = Queue()\n",
    "queue.enqueue(10)\n",
    "queue.enqueue(20)\n",
    "queue.enqueue(30)\n",
    "\n",
    "print(\"Front element is:\", queue.peek())  # Output: 10\n",
    "print(\"Queue size is:\", queue.size())     # Output: 3\n",
    "\n",
    "queue.dequeue()  # Removes 10\n",
    "print(\"Front element after dequeue:\", queue.peek())  # Output: 20\n",
    "print(\"Queue size after dequeue:\", queue.size())     # Output: 2\n",
    "\n",
    "# Check if the queue is empty\n",
    "print(\"Is queue empty?\", queue.isEmpty())  # Output: False\n",
    "\n",
    "queue.dequeue()  # Removes 20\n",
    "queue.dequeue()  # Removes 30\n",
    "print(\"Is queue empty now?\", queue.isEmpty())  # Output: True\n"
   ]
  },
  {
   "cell_type": "markdown",
   "metadata": {},
   "source": [
    "## Stack Implementation using a queue"
   ]
  },
  {
   "cell_type": "code",
   "execution_count": 9,
   "metadata": {},
   "outputs": [
    {
     "name": "stdout",
     "output_type": "stream",
     "text": [
      "Top element is: 30\n",
      "Popped element: 30\n",
      "Top element after pop: 20\n",
      "Is stack empty? False\n",
      "Is stack empty now? True\n"
     ]
    }
   ],
   "source": [
    "from collections import deque\n",
    "\n",
    "class StackUsingQueue:\n",
    "    def __init__(self):\n",
    "        # Initialize a single queue (deque is used because it's more efficient)\n",
    "        self.queue = deque()\n",
    "    \n",
    "    # Push an element x onto the stack\n",
    "    def push(self, x):\n",
    "        # Add the element to the queue\n",
    "        self.queue.append(x)\n",
    "        \n",
    "        # Rotate the queue so the last added element is at the front\n",
    "        for _ in range(len(self.queue) - 1):\n",
    "            self.queue.append(self.queue.popleft())\n",
    "    \n",
    "    # Pop the top element from the stack\n",
    "    def pop(self):\n",
    "        if not self.isEmpty():\n",
    "            return self.queue.popleft()\n",
    "        else:\n",
    "            return \"Stack is empty\"\n",
    "    \n",
    "    # Get the top element of the stack without removing it\n",
    "    def top(self):\n",
    "        if not self.isEmpty():\n",
    "            return self.queue[0]\n",
    "        else:\n",
    "            return \"Stack is empty\"\n",
    "    \n",
    "    # Check if the stack is empty\n",
    "    def isEmpty(self):\n",
    "        return len(self.queue) == 0\n",
    "\n",
    "# Example usage:\n",
    "stack = StackUsingQueue()\n",
    "stack.push(10)\n",
    "stack.push(20)\n",
    "stack.push(30)\n",
    "\n",
    "print(\"Top element is:\", stack.top())  # Output: 30\n",
    "print(\"Popped element:\", stack.pop())  # Output: 30\n",
    "print(\"Top element after pop:\", stack.top())  # Output: 20\n",
    "print(\"Is stack empty?\", stack.isEmpty())  # Output: False\n",
    "stack.pop()\n",
    "stack.pop()\n",
    "print(\"Is stack empty now?\", stack.isEmpty())  # Output: True\n"
   ]
  },
  {
   "cell_type": "markdown",
   "metadata": {},
   "source": [
    "## Queue implementation using stack"
   ]
  },
  {
   "cell_type": "code",
   "execution_count": 12,
   "metadata": {},
   "outputs": [
    {
     "name": "stdout",
     "output_type": "stream",
     "text": [
      "Front element is: 10\n",
      "Dequeued element: 10\n",
      "Front element after dequeue: 20\n",
      "Is queue empty? False\n",
      "Is queue empty now? True\n"
     ]
    }
   ],
   "source": [
    "class QueueUsingStacks:\n",
    "    def __init__(self):\n",
    "        # Stack for enqueue operations\n",
    "        self.stack_in = []\n",
    "        # Stack for dequeue operations\n",
    "        self.stack_out = []\n",
    "    \n",
    "    # Enqueue (add) an element x to the queue\n",
    "    def enqueue(self, x):\n",
    "        self.stack_in.append(x)\n",
    "    \n",
    "    # Dequeue (remove) the front element from the queue and return it\n",
    "    def dequeue(self):\n",
    "        if not self.stack_out:\n",
    "            # Move all elements from stack_in to stack_out if stack_out is empty\n",
    "            while self.stack_in:\n",
    "                self.stack_out.append(self.stack_in.pop())\n",
    "        if not self.stack_out:\n",
    "            return \"Queue is empty\"\n",
    "        return self.stack_out.pop()\n",
    "    \n",
    "    # Peek at the front element without removing it\n",
    "    def peek(self):\n",
    "        if not self.stack_out:\n",
    "            while self.stack_in:\n",
    "                self.stack_out.append(self.stack_in.pop())\n",
    "        if not self.stack_out:\n",
    "            return \"Queue is empty\"\n",
    "        return self.stack_out[-1]\n",
    "    \n",
    "    # Check if the queue is empty\n",
    "    def isEmpty(self):\n",
    "        return len(self.stack_in) == 0 and len(self.stack_out) == 0\n",
    "\n",
    "# Example usage:\n",
    "queue = QueueUsingStacks()\n",
    "queue.enqueue(10)\n",
    "queue.enqueue(20)\n",
    "queue.enqueue(30)\n",
    "\n",
    "print(\"Front element is:\", queue.peek())  # Output: 10\n",
    "print(\"Dequeued element:\", queue.dequeue())  # Output: 10\n",
    "print(\"Front element after dequeue:\", queue.peek())  # Output: 20\n",
    "print(\"Is queue empty?\", queue.isEmpty())  # Output: False\n",
    "\n",
    "queue.dequeue()  # Removes 20\n",
    "queue.dequeue()  # Removes 30\n",
    "print(\"Is queue empty now?\", queue.isEmpty())  # Output: True\n"
   ]
  },
  {
   "cell_type": "markdown",
   "metadata": {},
   "source": [
    "### 1. Nearest greater right"
   ]
  },
  {
   "cell_type": "code",
   "execution_count": 14,
   "metadata": {},
   "outputs": [
    {
     "name": "stdout",
     "output_type": "stream",
     "text": [
      "[3, 4, 4, -1]\n"
     ]
    }
   ],
   "source": [
    "def NGR(arr):\n",
    "    stack =[]\n",
    "    res = []\n",
    "    for i in range(len(arr)-1,-1,-1):\n",
    "        if len(stack) == 0:\n",
    "            res.append(-1)\n",
    "        elif len(stack)>0 and stack[-1]>arr[i]:\n",
    "            res.append(stack[-1])\n",
    "        elif len(stack)>0 and stack[-1]<arr[i]:\n",
    "            while len(stack)>0 and stack[-1] < arr[i]:\n",
    "                stack.pop()\n",
    "            if len(stack)==0:\n",
    "                res.append(-1)\n",
    "            else:\n",
    "                res.append(stack[-1])\n",
    "        stack.append(arr[i])\n",
    "    return res\n",
    "            \n",
    "arr = [1,3,2,4]\n",
    "result = NGR(arr)\n",
    "print(result[::-1])"
   ]
  },
  {
   "cell_type": "markdown",
   "metadata": {},
   "source": [
    "### 2. Nearest greater to left"
   ]
  },
  {
   "cell_type": "code",
   "execution_count": 14,
   "metadata": {},
   "outputs": [
    {
     "name": "stdout",
     "output_type": "stream",
     "text": [
      "[-1, -1, 3, -1]\n"
     ]
    }
   ],
   "source": [
    "def NGL(arr):\n",
    "    stack =[]\n",
    "    res = []\n",
    "    for i in range(len(arr)): # here is the change\n",
    "        if len(stack) == 0:\n",
    "            res.append(-1)\n",
    "        elif len(stack)>0 and stack[-1]>arr[i]:\n",
    "            res.append(stack[-1])\n",
    "        elif len(stack)>0 and stack[-1]<arr[i]:\n",
    "            while len(stack)>0 and stack[-1] < arr[i]:\n",
    "                stack.pop()\n",
    "            if len(stack)==0:\n",
    "                res.append(-1)\n",
    "            else:\n",
    "                res.append(stack[-1])\n",
    "        stack.append(arr[i])\n",
    "    return res\n",
    "            \n",
    "arr = [1,3,2,4]\n",
    "result = NGL(arr)\n",
    "print(result)"
   ]
  },
  {
   "cell_type": "markdown",
   "metadata": {},
   "source": [
    "### 3. Nearest smaller to left"
   ]
  },
  {
   "cell_type": "code",
   "execution_count": 25,
   "metadata": {},
   "outputs": [
    {
     "data": {
      "text/plain": [
       "[-1, -1, 1, 5, 1, 2]"
      ]
     },
     "execution_count": 25,
     "metadata": {},
     "output_type": "execute_result"
    }
   ],
   "source": [
    "def NSL(arr):\n",
    "    stack = []\n",
    "    res = []\n",
    "    for i in range(len(arr)):\n",
    "        if len(stack) == 0:\n",
    "            res.append(-1)\n",
    "        elif len(stack) >0 and arr[i]>stack[-1]:\n",
    "            res.append(stack[-1])\n",
    "        elif len(stack) >0 and arr[i]<=stack[-1]:\n",
    "            while len(stack)>0 and arr[i]<=stack[-1]:\n",
    "                stack.pop()\n",
    "            if len(stack) == 0:\n",
    "                res.append(-1)\n",
    "            else:\n",
    "                res.append(stack[-1])\n",
    "        stack.append(arr[i])\n",
    "    return res\n",
    "arr = [2,1,5,6,2,3]\n",
    "NSL(arr)"
   ]
  },
  {
   "cell_type": "markdown",
   "metadata": {},
   "source": [
    "### 4. Nearest smaller to right"
   ]
  },
  {
   "cell_type": "code",
   "execution_count": 12,
   "metadata": {},
   "outputs": [
    {
     "name": "stdout",
     "output_type": "stream",
     "text": [
      "[2, 2, -1, 8, -1]\n"
     ]
    }
   ],
   "source": [
    "def NSR(arr):\n",
    "    stack = []\n",
    "    res = []\n",
    "    for i in range(len(arr)-1,-1,-1):\n",
    "        if len(stack) == 0:\n",
    "            res.append(-1)\n",
    "        elif len(stack) >0 and arr[i]>stack[-1]:\n",
    "            res.append(stack[-1])\n",
    "        elif len(stack) >0 and arr[i]<=stack[-1]:\n",
    "            while len(stack)>0 and arr[i]<=stack[-1]:\n",
    "                stack.pop()\n",
    "            if len(stack) == 0:\n",
    "                res.append(-1)\n",
    "            else:\n",
    "                res.append(stack[-1])\n",
    "        stack.append(arr[i])\n",
    "    return res\n",
    "arr = [4,5,2,10,8]\n",
    "result = NSR(arr)\n",
    "print(result[::-1])"
   ]
  },
  {
   "cell_type": "markdown",
   "metadata": {},
   "source": [
    "### 5. Stock Span Problem"
   ]
  },
  {
   "cell_type": "code",
   "execution_count": 16,
   "metadata": {},
   "outputs": [
    {
     "name": "stdout",
     "output_type": "stream",
     "text": [
      "[-1, 0, 1, 1, 3, 1, 0]\n",
      "1 1 1 2 1 4 6 "
     ]
    }
   ],
   "source": [
    "# using ngr\n",
    "def Stock(arr):\n",
    "    stack =[]\n",
    "    res = []\n",
    "    for i in range(len(arr)): # here is the change\n",
    "        if len(stack) == 0:\n",
    "            res.append(-1)\n",
    "        elif len(stack)>0 and stack[-1][0]>arr[i]:\n",
    "            res.append(stack[-1][1])\n",
    "        elif len(stack)>0 and stack[-1][0]<arr[i]:\n",
    "            while len(stack)>0 and stack[-1][0] < arr[i]:\n",
    "                stack.pop()\n",
    "            if len(stack)==0:\n",
    "                res.append(-1)\n",
    "            else:\n",
    "                res.append(stack[-1][1])\n",
    "        stack.append([arr[i],i])\n",
    "    return res\n",
    "            \n",
    "arr = [100,80,60,70,60,75,85]\n",
    "result = Stock(arr)\n",
    "print(result)\n",
    "for i in range(len(result)):\n",
    "    print(i - result[i],end = \" \")"
   ]
  },
  {
   "cell_type": "code",
   "execution_count": 37,
   "metadata": {},
   "outputs": [
    {
     "name": "stdout",
     "output_type": "stream",
     "text": [
      "[1, 1, 1, 2, 1, 4, 6]\n"
     ]
    }
   ],
   "source": [
    "def stockSpanProblem(arr):\n",
    "    stack = []\n",
    "    res = []\n",
    "    for i in range(len(arr)):\n",
    "        while stack and stack[-1][0] <= arr[i]:\n",
    "            stack.pop()\n",
    "        if stack:\n",
    "            res.append(i - stack[-1][1])\n",
    "        else:\n",
    "            res.append(1)\n",
    "        stack.append((arr[i],i))\n",
    "    return res\n",
    "arr = [100,80,60,70,60,75,85]\n",
    "result = stockSpanProblem(arr)\n",
    "print(result)  "
   ]
  },
  {
   "cell_type": "markdown",
   "metadata": {},
   "source": [
    "### 6. Maximum Area Histogram (MAH)"
   ]
  },
  {
   "cell_type": "code",
   "execution_count": 45,
   "metadata": {},
   "outputs": [
    {
     "name": "stdout",
     "output_type": "stream",
     "text": [
      "[-1, -1, 1, 1, 3, -1, 5]\n",
      "[-1, -1, 1, 1, 3, -1, 5]\n"
     ]
    },
    {
     "data": {
      "text/plain": [
       "12"
      ]
     },
     "execution_count": 45,
     "metadata": {},
     "output_type": "execute_result"
    }
   ],
   "source": [
    " def MAH(arr1):\n",
    "    def NSLIndex(arr):\n",
    "        pseudoindex = -1\n",
    "        stack = []\n",
    "        res = []\n",
    "        for i in range(len(arr)):\n",
    "            if len(stack) == 0:\n",
    "                res.append(pseudoindex)\n",
    "            elif len(stack) >0 and arr[i]>stack[-1][0]:\n",
    "                res.append(stack[-1][1])\n",
    "            elif len(stack) >0 and arr[i]<=stack[-1][0]:\n",
    "                while len(stack)>0 and arr[i]<=stack[-1][0]:\n",
    "                    stack.pop()\n",
    "                if len(stack) == 0:\n",
    "                    res.append(pseudoindex)\n",
    "                else:\n",
    "                    res.append(stack[-1][1])\n",
    "            stack.append([arr[i],i])\n",
    "        return res\n",
    "    def nslIndex(arr):\n",
    "        stack = []\n",
    "        result = []\n",
    "        psuedoIndex = -1\n",
    "        for i in range(len(arr)):\n",
    "            while stack and stack[-1][0] >= arr[i]:\n",
    "                stack.pop()\n",
    "            if stack:\n",
    "                result.append((stack[-1][1]))\n",
    "            else:\n",
    "                result.append(psuedoIndex)\n",
    "            stack.append((arr[i], i))\n",
    "        return result\n",
    "    def NSRIndex(arr):\n",
    "        stack = []\n",
    "        res = []\n",
    "        pseudoindex = len(arr)\n",
    "        for i in range(len(arr)-1,-1,-1):\n",
    "            if len(stack) == 0:\n",
    "                res.append(pseudoindex)\n",
    "            elif len(stack) >0 and arr[i]>stack[-1][0]:\n",
    "                res.append(stack[-1][1])\n",
    "            elif len(stack) >0 and arr[i]<=stack[-1][0]:\n",
    "                while len(stack)>0 and arr[i]<=stack[-1][0]:\n",
    "                    stack.pop()\n",
    "                if len(stack) == 0:\n",
    "                    res.append(pseudoindex)\n",
    "                else:\n",
    "                    res.append(stack[-1][1])\n",
    "            stack.append([arr[i],i])\n",
    "        return res[::-1]\n",
    "    arr = arr1\n",
    "    left = NSLIndex(arr)\n",
    "    print(left)\n",
    "    l1 = nslIndex(arr)\n",
    "    print(l1)\n",
    "    right = NSRIndex(arr)\n",
    "    res = []\n",
    "    for i in range(len(arr)):\n",
    "        res.append((right[i]-left[i]-1)*arr[i])\n",
    "    return(max(res))\n",
    "arr = [6,2,5,4,5,1,6]\n",
    "MAH(arr)"
   ]
  },
  {
   "cell_type": "markdown",
   "metadata": {},
   "source": [
    "### 7. Max area rectangle in Binary matrix"
   ]
  },
  {
   "cell_type": "code",
   "execution_count": 35,
   "metadata": {},
   "outputs": [
    {
     "data": {
      "text/plain": [
       "8"
      ]
     },
     "execution_count": 35,
     "metadata": {},
     "output_type": "execute_result"
    }
   ],
   "source": [
    "def MAR(matrix):\n",
    "    v1 = matrix[0]\n",
    "    r1  = MAH(v1)\n",
    "    n = len(matrix)\n",
    "    m = len(matrix[0])\n",
    "    for i in range(1,n):\n",
    "        for j in range(m):\n",
    "            if matrix[i][j] == 0:\n",
    "                v1[j] = 0\n",
    "            else:\n",
    "                v1[j] = v1[j]+matrix[i][j]\n",
    "        r1 = max(r1,MAH(v1))\n",
    "    return r1\n",
    "matrix = [[0,1,1,0],\n",
    "          [1,1,1,1],\n",
    "          [1,1,1,1],\n",
    "          [1,1,0,0]]\n",
    "MAR(matrix)\n",
    "    \n",
    "    "
   ]
  },
  {
   "cell_type": "code",
   "execution_count": 33,
   "metadata": {},
   "outputs": [
    {
     "data": {
      "text/plain": [
       "24"
      ]
     },
     "execution_count": 33,
     "metadata": {},
     "output_type": "execute_result"
    }
   ],
   "source": [
    "def maxAreaRectangleBinary(matrix):\n",
    "    heights = matrix[0]\n",
    "    area = MAH(heights)  # maximum area histogram using NSR and NSL\n",
    "    for i in range(1, len(matrix)):\n",
    "        for j in range(len(matrix[0])):\n",
    "            if matrix[i][j] == 0:  # dropping the height to zero\n",
    "                heights[j] = 0\n",
    "            else:  # increasing the height of the buildings\n",
    "                heights[j] += matrix[i][j]\n",
    "        # Update area if the area formed by the current row is greater\n",
    "        area = max(area, MAH(heights))\n",
    "    return area\n",
    "maxAreaRectangleBinary(matrix)\n",
    "            "
   ]
  },
  {
   "cell_type": "markdown",
   "metadata": {},
   "source": [
    "### 8. Rain Water Trapping"
   ]
  },
  {
   "cell_type": "code",
   "execution_count": 27,
   "metadata": {},
   "outputs": [],
   "source": [
    "def trap(A):\n",
    "    left = [None]*len(A)\n",
    "    right = [None]*len(A)\n",
    "    right[0] = A[0]\n",
    "    left[len(A)-1] = A[len(A)-1]\n",
    "    for i in range(1,len(A)):\n",
    "        right[i] = (max(right[i-1],A[i]))\n",
    "    for j in range(len(A)-2,-1,-1):\n",
    "        left[j] = (max(left[j+1],A[j]))\n",
    "    res = []\n",
    "    for k in range(len(A)):\n",
    "        res.append(min(left[k],right[k])-A[k])\n",
    "    return sum(res)"
   ]
  },
  {
   "cell_type": "markdown",
   "metadata": {},
   "source": [
    "### 9. minimum element in stack"
   ]
  },
  {
   "cell_type": "code",
   "execution_count": 47,
   "metadata": {},
   "outputs": [
    {
     "name": "stdout",
     "output_type": "stream",
     "text": [
      "Current minimum is: 5\n",
      "Popped element is: 8\n",
      "Current minimum after pop is: 5\n",
      "Current minimum after popping 5 is: 10\n"
     ]
    }
   ],
   "source": [
    "class MinStack:\n",
    "    def __init__(self):\n",
    "        # Stack to store all elements\n",
    "        self.stack = []\n",
    "        # Stack to store minimum elements\n",
    "        self.min_stack = []\n",
    "    \n",
    "    # Push an element onto the stack\n",
    "    def push(self, x):\n",
    "        self.stack.append(x)\n",
    "        # If the min_stack is empty or x is the new minimum, push it onto min_stack\n",
    "        if not self.min_stack or x <= self.min_stack[-1]:\n",
    "            self.min_stack.append(x)\n",
    "    \n",
    "    # Pop the top element from the stack\n",
    "    def pop(self):\n",
    "        if not self.stack:\n",
    "            return \"Stack is empty\"\n",
    "        \n",
    "        popped_element = self.stack.pop()\n",
    "        # If the popped element is equal to the top of the min_stack, pop it from min_stack\n",
    "        if popped_element == self.min_stack[-1]:\n",
    "            self.min_stack.pop()\n",
    "        return popped_element\n",
    "    \n",
    "    # Get the top element of the stack\n",
    "    def top(self):\n",
    "        if not self.stack:\n",
    "            return \"Stack is empty\"\n",
    "        return self.stack[-1]\n",
    "    \n",
    "    # Get the minimum element in the stack\n",
    "    def getMin(self):\n",
    "        if not self.min_stack:\n",
    "            return \"Stack is empty\"\n",
    "        return self.min_stack[-1]\n",
    "\n",
    "# Example usage:\n",
    "min_stack = MinStack()\n",
    "min_stack.push(10)\n",
    "min_stack.push(20)\n",
    "min_stack.push(5)\n",
    "min_stack.push(8)\n",
    "\n",
    "print(\"Current minimum is:\", min_stack.getMin())  # Output: 5\n",
    "print(\"Popped element is:\", min_stack.pop())  # Output: 8\n",
    "print(\"Current minimum after pop is:\", min_stack.getMin())  # Output: 5\n",
    "min_stack.pop()  # Removes 5\n",
    "print(\"Current minimum after popping 5 is:\", min_stack.getMin())  # Output: 10\n"
   ]
  },
  {
   "cell_type": "markdown",
   "metadata": {},
   "source": [
    "### 10 Implement Undo  Redo in a text editor"
   ]
  },
  {
   "cell_type": "code",
   "execution_count": 17,
   "metadata": {},
   "outputs": [
    {
     "name": "stdout",
     "output_type": "stream",
     "text": [
      "A B\n",
      "A B C\n"
     ]
    }
   ],
   "source": [
    "def querry(Q):\n",
    "    redo = []\n",
    "    undo = []\n",
    "    for i in range(len(Q)):\n",
    "        q = Q[i].split(' ')\n",
    "       \n",
    "        if q[0] == \"WRITE\":\n",
    "            undo.append(q[1])\n",
    "            #rint(undo)\n",
    "        \n",
    "        elif q[0] == \"UNDO\":\n",
    "            element = undo.pop()\n",
    "            redo.append(element)\n",
    "        elif q[0] == \"REDO\":\n",
    "            element1= redo.pop()\n",
    "            undo.append(element1)\n",
    "        else:\n",
    "            print(*undo)\n",
    "        \n",
    "Q = [ \"WRITE A\", \"WRITE B\", \"WRITE C\", \"UNDO\", \"READ\", \"REDO\", \"READ\" ]\n",
    "querry(Q)"
   ]
  },
  {
   "cell_type": "code",
   "execution_count": 1,
   "metadata": {},
   "outputs": [],
   "source": [
    "def validateStackSequences(pushed, popped) -> bool:\n",
    "    stack = [pushed[0]]\n",
    "    n = len(pushed)\n",
    "    m = len(popped)\n",
    "    i = 1\n",
    "    j = 0\n",
    "\n",
    "    while i<n and j<m:\n",
    "        while stack and stack[-1] != popped[j] and (i<n):\n",
    "            stack.append(pushed[i])\n",
    "            i+=1\n",
    "        print(stack)\n",
    "        while stack and j<m and stack[-1] == popped[j]:\n",
    "            print(stack[-1],j)\n",
    "            stack.pop()\n",
    "            j+=1\n",
    "        print(stack)\n",
    "    if len(stack) == 0:\n",
    "        return True\n",
    "    return False\n",
    "pushed = [0,1]\n",
    "popped = [0,1]\n",
    "#validateStackSequences(pushed,popped)"
   ]
  },
  {
   "cell_type": "code",
   "execution_count": null,
   "metadata": {},
   "outputs": [],
   "source": []
  }
 ],
 "metadata": {
  "kernelspec": {
   "display_name": "Python 3 (ipykernel)",
   "language": "python",
   "name": "python3"
  },
  "language_info": {
   "codemirror_mode": {
    "name": "ipython",
    "version": 3
   },
   "file_extension": ".py",
   "mimetype": "text/x-python",
   "name": "python",
   "nbconvert_exporter": "python",
   "pygments_lexer": "ipython3",
   "version": "3.12.4"
  }
 },
 "nbformat": 4,
 "nbformat_minor": 4
}
