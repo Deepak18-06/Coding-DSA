{
 "cells": [
  {
   "cell_type": "markdown",
   "metadata": {},
   "source": [
    "# Linkedlist"
   ]
  },
  {
   "cell_type": "code",
   "execution_count": 1,
   "metadata": {},
   "outputs": [],
   "source": [
    "class Node:\n",
    "    def __init__(self,val):\n",
    "        self.val = val\n",
    "        self.next = None\n"
   ]
  },
  {
   "cell_type": "markdown",
   "metadata": {},
   "source": [
    "# Reverse a Linked List"
   ]
  },
  {
   "cell_type": "code",
   "execution_count": 2,
   "metadata": {},
   "outputs": [],
   "source": [
    "def reverse(head):\n",
    "    prev = None\n",
    "    while head:\n",
    "        temp = head.next\n",
    "        head.next = prev\n",
    "        prev = head\n",
    "        head = temp\n",
    "    return prev\n",
    "    "
   ]
  },
  {
   "cell_type": "markdown",
   "metadata": {},
   "source": [
    "# Middle of a Linked List"
   ]
  },
  {
   "cell_type": "code",
   "execution_count": 3,
   "metadata": {},
   "outputs": [],
   "source": [
    "def middleLinkedList(head):\n",
    "    slow = head\n",
    "    while slow and slow.next:\n",
    "        head = head.next\n",
    "        slow = slow.next.next\n",
    "    return head\n",
    "    \n",
    "    "
   ]
  },
  {
   "cell_type": "markdown",
   "metadata": {},
   "source": [
    "# Merge two sorted Linked Lists"
   ]
  },
  {
   "cell_type": "code",
   "execution_count": 5,
   "metadata": {},
   "outputs": [],
   "source": [
    "def mergeTwo(head1,head2):\n",
    "    newHead = Node(0)\n",
    "    newHead = head\n",
    "    while head1 and head2:\n",
    "        if head1.val > head2.val:\n",
    "            newHead.next = head2\n",
    "            head2 = head2.next\n",
    "            newHead = newHead.next\n",
    "        else:\n",
    "            newHead.next = head1\n",
    "            head1 =  head1.next\n",
    "            newHead = newHead.next\n",
    "    newHead.next = head1 or head2\n",
    "    return head.next"
   ]
  },
  {
   "cell_type": "markdown",
   "metadata": {},
   "source": [
    "# Remove Nth Node of a Linked List from Back"
   ]
  },
  {
   "cell_type": "code",
   "execution_count": 6,
   "metadata": {},
   "outputs": [],
   "source": [
    "def removeNth(head,n):\n",
    "    first = head\n",
    "    second = head\n",
    "    for i in range(n):\n",
    "        if second.next is None:\n",
    "            head = head.next\n",
    "            return head\n",
    "        second = second.next\n",
    "    while second.next:\n",
    "        second = second.next\n",
    "        first = first.next\n",
    "    first.next = first.next.next\n",
    "    return head\n",
    "    "
   ]
  },
  {
   "cell_type": "markdown",
   "metadata": {},
   "source": [
    "# Remove a given node when a pointer to a given node is given"
   ]
  },
  {
   "cell_type": "code",
   "execution_count": 7,
   "metadata": {},
   "outputs": [],
   "source": [
    "def removeNode(head,node):\n",
    "    node.val = node.next.val\n",
    "    node.next = node.next.next"
   ]
  },
  {
   "cell_type": "markdown",
   "metadata": {},
   "source": [
    "# Add two numbers as Linked Lists"
   ]
  },
  {
   "cell_type": "code",
   "execution_count": 8,
   "metadata": {},
   "outputs": [],
   "source": [
    "def addTwoLists(head1,head2):\n",
    "    pass"
   ]
  },
  {
   "cell_type": "markdown",
   "metadata": {},
   "source": [
    "# Find the Intersection of Y linked list"
   ]
  },
  {
   "cell_type": "code",
   "execution_count": 9,
   "metadata": {},
   "outputs": [],
   "source": [
    "def findIntersection(headA,headB):\n",
    "    if headA is None or headB is None:\n",
    "        return\n",
    "    l1 = headA\n",
    "    l2 = headB\n",
    "    while l1 != l2:\n",
    "        if l1.next is None:\n",
    "            l1.next = headB\n",
    "        if l1.next:\n",
    "            l1 = l1.next\n",
    "        if l2.next is None:\n",
    "            l2.next = headA\n",
    "        if l2.next:\n",
    "            l2 = l2.next\n",
    "    return l1\n",
    "        "
   ]
  },
  {
   "cell_type": "markdown",
   "metadata": {},
   "source": [
    "# Check if Linked List is Pallindrome or not"
   ]
  },
  {
   "cell_type": "code",
   "execution_count": 10,
   "metadata": {},
   "outputs": [],
   "source": [
    "def isPalindrome(head):\n",
    "    slow = head\n",
    "    fast = head\n",
    "    while fast and fast.next:\n",
    "        slow = slow.next\n",
    "        fast = fast.next.next\n",
    "    prev = None\n",
    "    while slow:\n",
    "        new_node = slow.next\n",
    "        slow.next = prev\n",
    "        prev = slow\n",
    "        slow = new_node\n",
    "    while prev:\n",
    "        if prev.val != head.val:\n",
    "            return False\n",
    "        prev = prev.next\n",
    "        head = head.next\n",
    "    return True"
   ]
  },
  {
   "cell_type": "markdown",
   "metadata": {},
   "source": [
    "# Reverse a Linked List in groups"
   ]
  },
  {
   "cell_type": "code",
   "execution_count": 11,
   "metadata": {},
   "outputs": [],
   "source": [
    "def reverseKGroup(head,k):\n",
    "    dummy = head\n",
    "    l = 0\n",
    "    while dummy:\n",
    "        l+=1\n",
    "        dummy = dummy.next\n",
    "    if k<=1 or k>l:\n",
    "        return head\n",
    "    curr = head\n",
    "    prev = None\n",
    "    count= 0\n",
    "\n",
    "    while count<k:\n",
    "        next_node = curr.next\n",
    "        curr.next = prev\n",
    "        prev = curr\n",
    "        curr = next_node\n",
    "        count+=1\n",
    "\n",
    "    if next_node is not None:\n",
    "        head.next = reverseKGroup(next_node,k)\n",
    "    return prev"
   ]
  },
  {
   "cell_type": "markdown",
   "metadata": {},
   "source": [
    "# Detect a Cycle in a Linked List"
   ]
  },
  {
   "cell_type": "code",
   "execution_count": 12,
   "metadata": {},
   "outputs": [],
   "source": [
    "def detectcycle(head):\n",
    "    if head is None or head.next is None:\n",
    "        return False\n",
    "    slow = head\n",
    "    fast = head\n",
    "    while slow and fast and fast.next:\n",
    "        slow = slow.next\n",
    "        fast = fast.next.next\n",
    "        if slow == fast:\n",
    "            return True\n",
    "    return False   "
   ]
  },
  {
   "cell_type": "markdown",
   "metadata": {},
   "source": [
    "# Remove a cycle from a Linked List\n",
    "(hare and tortoise)"
   ]
  },
  {
   "cell_type": "code",
   "execution_count": 13,
   "metadata": {},
   "outputs": [],
   "source": [
    "def removeCycle(head):\n",
    "    slow = head\n",
    "    fast = head\n",
    "    while slow and fast and fast.next:\n",
    "        slow = slow.next\n",
    "        fast = fast.next.next\n",
    "        if slow == fast:\n",
    "            break\n",
    "    slow = head\n",
    "    while slow.next != fast.next:\n",
    "        slow = slow.next\n",
    "        fast = fast.next\n",
    "    fast.next = None\n",
    "    "
   ]
  },
  {
   "cell_type": "markdown",
   "metadata": {},
   "source": [
    "# Flatten a doubly LinkedList\n",
    "       5 -> 10 -> 19 -> 28\n",
    "       |    |     |     |\n",
    "       V    V     V     V\n",
    "       7    20    22    35\n",
    "       |          |     |\n",
    "       V          V     V\n",
    "       8          50    40\n",
    "       |                |\n",
    "       V                V\n",
    "       30               45\n",
    "5->7->8->10->19->20->22->28->30->35->40->45->50.\n",
    "\n"
   ]
  },
  {
   "cell_type": "code",
   "execution_count": 14,
   "metadata": {},
   "outputs": [],
   "source": [
    "class DoubleNode:\n",
    "    def __init__(self,val = 0):\n",
    "        self.val = val\n",
    "        self.right = None\n",
    "        self.down = None\n",
    "def merge(headA,headB):\n",
    "    if headA is None:\n",
    "        return headB\n",
    "    if headB is None:\n",
    "        return headA\n",
    "    result = DoubleNode()\n",
    "    if headA.val < headB.val:\n",
    "        result = headA\n",
    "        result.down = merge(headA.down,headB)\n",
    "    else:\n",
    "        result = headB\n",
    "        result.down = merge(head,headB.down)\n",
    "    result.right = None\n",
    "    return result\n",
    "    \n",
    "def flatten(head):\n",
    "    if head is None or head.right is None:\n",
    "        return head\n",
    "    return merge(head,flatten(head.right))\n"
   ]
  },
  {
   "cell_type": "markdown",
   "metadata": {},
   "source": [
    "# Rotate a linked List"
   ]
  },
  {
   "cell_type": "code",
   "execution_count": 15,
   "metadata": {},
   "outputs": [],
   "source": [
    "def rotateLinked(head,k):\n",
    "    if head is None:\n",
    "        return None\n",
    "    dummy = head\n",
    "    l = 0\n",
    "    while dummy:\n",
    "        l+=1\n",
    "        dummy = dummy.next\n",
    "    rotation = k%l\n",
    "    if rotation == 0 or k == 0:\n",
    "        return head\n",
    "    slow = head\n",
    "    fast = head\n",
    "    for i in range(rotation):\n",
    "        fast = fast.next\n",
    "    while fast.next:\n",
    "        fast = fast.next\n",
    "        slow = slow.next\n",
    "    new_head = slow.next\n",
    "    fast.next = head\n",
    "    slow.next = None\n",
    "    return new_head\n",
    "    "
   ]
  },
  {
   "cell_type": "markdown",
   "metadata": {},
   "source": [
    "# Clone a linked list using a random and next pointer"
   ]
  },
  {
   "cell_type": "code",
   "execution_count": 16,
   "metadata": {},
   "outputs": [],
   "source": [
    "class Node:\n",
    "    def __init__(self, x: int, next: 'Node' = None, random: 'Node' = None):\n",
    "        self.val = int(x)\n",
    "        self.next = next\n",
    "        self.random = random\n",
    "def clone(head):\n",
    "    dic = dict()\n",
    "    m = n = head\n",
    "    while m:\n",
    "        dic[m] = Node(m.val)\n",
    "    while n:\n",
    "        dic[n].next = dic.get(n.next)     \n",
    "        dic[n].random = dic.get(n.random)\n",
    "        n = n.next\n",
    "    return dic.get(head)"
   ]
  },
  {
   "cell_type": "code",
   "execution_count": null,
   "metadata": {},
   "outputs": [],
   "source": []
  }
 ],
 "metadata": {
  "kernelspec": {
   "display_name": "Python 3",
   "language": "python",
   "name": "python3"
  },
  "language_info": {
   "codemirror_mode": {
    "name": "ipython",
    "version": 3
   },
   "file_extension": ".py",
   "mimetype": "text/x-python",
   "name": "python",
   "nbconvert_exporter": "python",
   "pygments_lexer": "ipython3",
   "version": "3.8.3"
  }
 },
 "nbformat": 4,
 "nbformat_minor": 4
}
