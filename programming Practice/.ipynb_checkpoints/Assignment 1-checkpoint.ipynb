{
 "cells": [
  {
   "cell_type": "markdown",
   "metadata": {},
   "source": [
    "# Question 1 :\n",
    "Your friend has a hypothesis – “All those people who have names ending with the sound of “y” (Eg: Hollie) are intelligent people.” Please note: The name should end with the sound of ‘y’ but not end with alphabet ‘y’. \n",
    "\n",
    "Now you being a data freak, challenge the hypothesis by scraping data from your college’s website. Here’s data you have collected. \n"
   ]
  },
  {
   "cell_type": "code",
   "execution_count": 21,
   "metadata": {},
   "outputs": [
    {
     "name": "stdout",
     "output_type": "stream",
     "text": [
      "All those people who have names ending with the sound of “y” are : Mandi Sandi Hollie Dollie\n",
      "\n"
     ]
    }
   ],
   "source": [
    "# Answer 1\n",
    "import re\n",
    "str2 = 'Andy,Mandi,Sandi,Hollie,Molly,Dollie,'\n",
    "temp = []\n",
    "for i in re.finditer('([a-zA-Z]+i|[a-zA-Z]+ie)(,)', str2):\n",
    "    temp.append(i.group(1))\n",
    "print(\"All those people who have names ending with the sound of “y” are :\",*temp )\n",
    "print()"
   ]
  },
  {
   "cell_type": "markdown",
   "metadata": {},
   "source": [
    "# Question 2 :\n",
    "While reading a csv file with numpy, you want to automatically fill missing values of column “Date_Of_Joining” with date “01/01/2010”. "
   ]
  },
  {
   "cell_type": "code",
   "execution_count": null,
   "metadata": {},
   "outputs": [],
   "source": [
    "# Answer 2\n",
    "import numpy as np\n",
    "fill_this = (\"-\",0,\"01/01,2010\",0)\n",
    "ressult = np.genfromtxt(file_name,filling_values = fill_this)\n"
   ]
  },
  {
   "cell_type": "markdown",
   "metadata": {},
   "source": [
    "# Question 3:\n",
    "Suppose you are given the below string \n",
    "str = “””Email_Address,Nickname,Group_Status,Join_Year <br>\n",
    "aa@aaa.com,aa,Owner,2014 <br>\n",
    "bb@bbb.com,bb,Member,2015 <br>\n",
    "cc@ccc.com,cc,Member,2017 <br>\n",
    "dd@ddd.com,dd,Member,2016 <br>\n",
    "ee@eee.com,ee,Member,2020 <br>\n",
    "“”” \n",
    "<br>\n",
    "In order to extract only the domain names from the email addresses from the above string (for eg. “aaa”, “bbb”..) "
   ]
  },
  {
   "cell_type": "code",
   "execution_count": 16,
   "metadata": {},
   "outputs": [
    {
     "name": "stdout",
     "output_type": "stream",
     "text": [
      "iiitbhopal\n"
     ]
    }
   ],
   "source": [
    "# Answer 3\n",
    "import re\n",
    "str1 = \"Dk@iiitbhopal.com,Dk,Deepak,2017\"\n",
    "for i in re.finditer('([a-zA-Z]+)@([a-zA-Z]+).(com)', str1):\n",
    "    print(i.group(2))"
   ]
  },
  {
   "cell_type": "markdown",
   "metadata": {},
   "source": []
  },
  {
   "cell_type": "code",
   "execution_count": null,
   "metadata": {},
   "outputs": [],
   "source": []
  }
 ],
 "metadata": {
  "kernelspec": {
   "display_name": "Python 3",
   "language": "python",
   "name": "python3"
  },
  "language_info": {
   "codemirror_mode": {
    "name": "ipython",
    "version": 3
   },
   "file_extension": ".py",
   "mimetype": "text/x-python",
   "name": "python",
   "nbconvert_exporter": "python",
   "pygments_lexer": "ipython3",
   "version": "3.8.3"
  }
 },
 "nbformat": 4,
 "nbformat_minor": 4
}
