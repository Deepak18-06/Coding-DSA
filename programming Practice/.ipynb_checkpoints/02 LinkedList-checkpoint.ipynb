{
 "cells": [
  {
   "cell_type": "markdown",
   "metadata": {},
   "source": [
    "# Linkedlist"
   ]
  },
  {
   "cell_type": "code",
   "execution_count": 1,
   "metadata": {},
   "outputs": [],
   "source": [
    "class Node:\n",
    "    def __init__(self,val):\n",
    "        self.val = val\n",
    "        self.next = None\n"
   ]
  },
  {
   "cell_type": "markdown",
   "metadata": {},
   "source": [
    "# Reverse a Linked List"
   ]
  },
  {
   "cell_type": "code",
   "execution_count": 2,
   "metadata": {},
   "outputs": [],
   "source": [
    "def reverse(head):\n",
    "    prev = None\n",
    "    while head:\n",
    "        temp = head.next\n",
    "        head.next = prev\n",
    "        prev = head\n",
    "        head = temp\n",
    "    return prev\n",
    "    "
   ]
  },
  {
   "cell_type": "code",
   "execution_count": null,
   "metadata": {},
   "outputs": [],
   "source": [
    "curr = head\n",
    "prev = None\n",
    "while curr != None:\n",
    "    next_node = curr.next\n",
    "    curr.next = prev\n",
    "    prev = curr\n",
    "    curr = next_node\n",
    "# the time complexity of this code is O(n) and the space complexity of this code is O(1)\n"
   ]
  },
  {
   "cell_type": "code",
   "execution_count": null,
   "metadata": {},
   "outputs": [],
   "source": [
    "# using recursion can i do it\n",
    "def recursion_reverse(head):\n",
    "    if head == None:\n",
    "        return "
   ]
  },
  {
   "cell_type": "markdown",
   "metadata": {},
   "source": [
    "# Middle of a Linked List"
   ]
  },
  {
   "cell_type": "code",
   "execution_count": 3,
   "metadata": {},
   "outputs": [],
   "source": [
    "def middleLinkedList(head):\n",
    "    slow = head\n",
    "    while slow and slow.next:\n",
    "        head = head.next\n",
    "        slow = slow.next.next\n",
    "    return head\n",
    "    \n",
    "    "
   ]
  },
  {
   "cell_type": "markdown",
   "metadata": {},
   "source": [
    "# Merge two sorted Linked Lists"
   ]
  },
  {
   "cell_type": "code",
   "execution_count": 5,
   "metadata": {},
   "outputs": [],
   "source": [
    "def mergeTwo(head1,head2):\n",
    "    newHead = Node(0)\n",
    "    newHead = head\n",
    "    while head1 and head2:\n",
    "        if head1.val > head2.val:\n",
    "            newHead.next = head2\n",
    "            head2 = head2.next\n",
    "            newHead = newHead.next\n",
    "        else:\n",
    "            newHead.next = head1\n",
    "            head1 =  head1.next\n",
    "            newHead = newHead.next\n",
    "    newHead.next = head1 or head2\n",
    "    return head.next"
   ]
  },
  {
   "cell_type": "markdown",
   "metadata": {},
   "source": [
    "# Remove Nth Node of a Linked List from Back"
   ]
  },
  {
   "cell_type": "code",
   "execution_count": 6,
   "metadata": {},
   "outputs": [],
   "source": [
    "def removeNth(head,n):\n",
    "    first = head\n",
    "    second = head\n",
    "    for i in range(n):\n",
    "        if second.next is None:\n",
    "            head = head.next\n",
    "            return head\n",
    "        second = second.next\n",
    "    while second.next:\n",
    "        second = second.next\n",
    "        first = first.next\n",
    "    first.next = first.next.next\n",
    "    return head\n",
    "    "
   ]
  },
  {
   "cell_type": "markdown",
   "metadata": {},
   "source": [
    "# Remove a given node when a pointer to a given node is given"
   ]
  },
  {
   "cell_type": "code",
   "execution_count": 7,
   "metadata": {},
   "outputs": [],
   "source": [
    "def removeNode(head,node):\n",
    "    node.val = node.next.val\n",
    "    node.next = node.next.next"
   ]
  },
  {
   "cell_type": "markdown",
   "metadata": {},
   "source": [
    "# Add two numbers as Linked Lists"
   ]
  },
  {
   "cell_type": "code",
   "execution_count": 8,
   "metadata": {},
   "outputs": [],
   "source": [
    "def addTwoLists(head1,head2):\n",
    "    pass"
   ]
  },
  {
   "cell_type": "markdown",
   "metadata": {},
   "source": [
    "# Find the Intersection of Y linked list"
   ]
  },
  {
   "cell_type": "code",
   "execution_count": 9,
   "metadata": {},
   "outputs": [],
   "source": [
    "def findIntersection(headA,headB):\n",
    "    if headA is None or headB is None:\n",
    "        return\n",
    "    l1 = headA\n",
    "    l2 = headB\n",
    "    while l1 != l2:\n",
    "        if l1.next is None:\n",
    "            l1.next = headB\n",
    "        if l1.next:\n",
    "            l1 = l1.next\n",
    "        if l2.next is None:\n",
    "            l2.next = headA\n",
    "        if l2.next:\n",
    "            l2 = l2.next\n",
    "    return l1\n",
    "        "
   ]
  },
  {
   "cell_type": "markdown",
   "metadata": {},
   "source": [
    "# Check if Linked List is Pallindrome or not"
   ]
  },
  {
   "cell_type": "code",
   "execution_count": 10,
   "metadata": {},
   "outputs": [],
   "source": [
    "def isPalindrome(head):\n",
    "    slow = head\n",
    "    fast = head\n",
    "    while fast and fast.next:\n",
    "        slow = slow.next\n",
    "        fast = fast.next.next\n",
    "    prev = None\n",
    "    while slow:\n",
    "        new_node = slow.next\n",
    "        slow.next = prev\n",
    "        prev = slow\n",
    "        slow = new_node\n",
    "    while prev:\n",
    "        if prev.val != head.val:\n",
    "            return False\n",
    "        prev = prev.next\n",
    "        head = head.next\n",
    "    return True"
   ]
  },
  {
   "cell_type": "markdown",
   "metadata": {},
   "source": [
    "# Reverse a Linked List in groups"
   ]
  },
  {
   "cell_type": "code",
   "execution_count": 11,
   "metadata": {},
   "outputs": [],
   "source": [
    "def reverseKGroup(head,k):\n",
    "    dummy = head\n",
    "    l = 0\n",
    "    while dummy:\n",
    "        l+=1\n",
    "        dummy = dummy.next\n",
    "    if k<=1 or k>l:\n",
    "        return head\n",
    "    curr = head\n",
    "    prev = None\n",
    "    count= 0\n",
    "\n",
    "    while count<k:\n",
    "        next_node = curr.next\n",
    "        curr.next = prev\n",
    "        prev = curr\n",
    "        curr = next_node\n",
    "        count+=1\n",
    "\n",
    "    if next_node is not None:\n",
    "        head.next = reverseKGroup(next_node,k)\n",
    "    return prev"
   ]
  },
  {
   "cell_type": "markdown",
   "metadata": {},
   "source": [
    "# Detect a Cycle in a Linked List"
   ]
  },
  {
   "cell_type": "code",
   "execution_count": 12,
   "metadata": {},
   "outputs": [],
   "source": [
    "def detectcycle(head):\n",
    "    if head is None or head.next is None:\n",
    "        return False\n",
    "    slow = head\n",
    "    fast = head\n",
    "    while slow and fast and fast.next:\n",
    "        slow = slow.next\n",
    "        fast = fast.next.next\n",
    "        if slow == fast:\n",
    "            return True\n",
    "    return False   "
   ]
  },
  {
   "cell_type": "markdown",
   "metadata": {},
   "source": [
    "# Remove a cycle from a Linked List\n",
    "(hare and tortoise)"
   ]
  },
  {
   "cell_type": "code",
   "execution_count": 13,
   "metadata": {},
   "outputs": [],
   "source": [
    "def removeCycle(head):\n",
    "    slow = head\n",
    "    fast = head\n",
    "    while slow and fast and fast.next:\n",
    "        slow = slow.next\n",
    "        fast = fast.next.next\n",
    "        if slow == fast:\n",
    "            break\n",
    "    slow = head\n",
    "    while slow.next != fast.next:\n",
    "        slow = slow.next\n",
    "        fast = fast.next\n",
    "    fast.next = None\n",
    "    "
   ]
  },
  {
   "cell_type": "markdown",
   "metadata": {},
   "source": [
    "# Flatten a doubly LinkedList\n",
    "       5 -> 10 -> 19 -> 28\n",
    "       |    |     |     |\n",
    "       V    V     V     V\n",
    "       7    20    22    35\n",
    "       |          |     |\n",
    "       V          V     V\n",
    "       8          50    40\n",
    "       |                |\n",
    "       V                V\n",
    "       30               45\n",
    "5->7->8->10->19->20->22->28->30->35->40->45->50.\n",
    "\n"
   ]
  },
  {
   "cell_type": "code",
   "execution_count": 14,
   "metadata": {},
   "outputs": [],
   "source": [
    "class DoubleNode:\n",
    "    def __init__(self,val = 0):\n",
    "        self.val = val\n",
    "        self.right = None\n",
    "        self.down = None\n",
    "def merge(headA,headB):\n",
    "    if headA is None:\n",
    "        return headB\n",
    "    if headB is None:\n",
    "        return headA\n",
    "    result = DoubleNode()\n",
    "    if headA.val < headB.val:\n",
    "        result = headA\n",
    "        result.down = merge(headA.down,headB)\n",
    "    else:\n",
    "        result = headB\n",
    "        result.down = merge(head,headB.down)\n",
    "    result.right = None\n",
    "    return result\n",
    "    \n",
    "def flatten(head):\n",
    "    if head is None or head.right is None:\n",
    "        return head\n",
    "    return merge(head,flatten(head.right))\n"
   ]
  },
  {
   "cell_type": "markdown",
   "metadata": {},
   "source": [
    "# Rotate a linked List"
   ]
  },
  {
   "cell_type": "code",
   "execution_count": 15,
   "metadata": {},
   "outputs": [],
   "source": [
    "def rotateLinked(head,k):\n",
    "    if head is None:\n",
    "        return None\n",
    "    dummy = head\n",
    "    l = 0\n",
    "    while dummy:\n",
    "        l+=1\n",
    "        dummy = dummy.next\n",
    "    rotation = k%l\n",
    "    if rotation == 0 or k == 0:\n",
    "        return head\n",
    "    slow = head\n",
    "    fast = head\n",
    "    for i in range(rotation):\n",
    "        fast = fast.next\n",
    "    while fast.next:\n",
    "        fast = fast.next\n",
    "        slow = slow.next\n",
    "    new_head = slow.next\n",
    "    fast.next = head\n",
    "    slow.next = None\n",
    "    return new_head\n",
    "    "
   ]
  },
  {
   "cell_type": "markdown",
   "metadata": {},
   "source": [
    "# Clone a linked list using a random and next pointer"
   ]
  },
  {
   "cell_type": "code",
   "execution_count": 16,
   "metadata": {},
   "outputs": [],
   "source": [
    "class Node:\n",
    "    def __init__(self, x: int, next: 'Node' = None, random: 'Node' = None):\n",
    "        self.val = int(x)\n",
    "        self.next = next\n",
    "        self.random = random\n",
    "def clone(head):\n",
    "    dic = dict()\n",
    "    m = n = head\n",
    "    while m:\n",
    "        dic[m] = Node(m.val)\n",
    "        m = m.next\n",
    "    while n:\n",
    "        dic[n].next = dic.get(n.next)     \n",
    "        dic[n].random = dic.get(n.random)\n",
    "        n = n.next\n",
    "    return dic.get(head)"
   ]
  },
  {
   "cell_type": "markdown",
   "metadata": {},
   "source": [
    "# Sort Binary Linked List"
   ]
  },
  {
   "cell_type": "code",
   "execution_count": 17,
   "metadata": {},
   "outputs": [],
   "source": [
    "def solve(A):\n",
    "    if A is None:\n",
    "        return\n",
    "    last = A\n",
    "    one = 0\n",
    "    zeros = 0\n",
    "    while last:\n",
    "        if last.val == 0:\n",
    "            zeros+=1\n",
    "        if last.val == 1:\n",
    "            one+=1\n",
    "        last = last.next\n",
    "    first = A\n",
    "    while first:\n",
    "        if zeros != 0:\n",
    "            first.val = 0\n",
    "            zeros-=1\n",
    "        else:\n",
    "            first.val = 1\n",
    "        first = first.next\n",
    "    return A"
   ]
  },
  {
   "cell_type": "markdown",
   "metadata": {},
   "source": [
    "# Insertion Sort List"
   ]
  },
  {
   "cell_type": "code",
   "execution_count": 18,
   "metadata": {},
   "outputs": [],
   "source": [
    "def insertionSortList(head):\n",
    "    if not head or not head.next: return head\n",
    "    temp = head.next\n",
    "    sort = head\n",
    "    while temp:\n",
    "        while sort != temp:\n",
    "            if sort.val > temp.val:\n",
    "                sort.val, temp.val = temp.val,sort.val\n",
    "            sort = sort.next\n",
    "        sort = head\n",
    "        temp = temp.next\n",
    "    return head"
   ]
  },
  {
   "cell_type": "markdown",
   "metadata": {},
   "source": [
    "Partition List\n",
    "Given a linked list and a value x, partition it such that all nodes less than x come before nodes greater than or equal to x.\n",
    "\n",
    "You should preserve the original relative order of the nodes in each of the two partitions.\n",
    "\n",
    "For example,\n",
    "Given 1->4->3->2->5->2 and x = 3,\n",
    "return 1->2->2->4->3->5."
   ]
  },
  {
   "cell_type": "markdown",
   "metadata": {},
   "source": [
    "# Remove Duplicates from sorted List"
   ]
  },
  {
   "cell_type": "code",
   "execution_count": 19,
   "metadata": {},
   "outputs": [],
   "source": [
    "def deleteDuplicates(A):\n",
    "    prev = A\n",
    "    curr = A.next\n",
    "    while curr:\n",
    "        if prev.val == curr.val:\n",
    "            prev.next = curr.next\n",
    "            curr = curr.next\n",
    "        else:\n",
    "            prev = prev.next\n",
    "            curr = curr.next\n",
    "    return A"
   ]
  },
  {
   "cell_type": "code",
   "execution_count": 27,
   "metadata": {},
   "outputs": [
    {
     "name": "stdout",
     "output_type": "stream",
     "text": [
      "0->0->2->0->4->0->6->0->8->0->10->0->12->0->14->0->16->0->"
     ]
    }
   ],
   "source": [
    "class Node:\n",
    "    def __init__(self,val):\n",
    "        self.val = val\n",
    "        self.next = None\n",
    "class L:\n",
    "    def __init__(self,val):\n",
    "        self.root = Node(val)\n",
    "    def add(self,data):\n",
    "        newNode = Node(data)\n",
    "        newNode.next = self.root\n",
    "        self.root = newNode\n",
    "    def printl(self):\n",
    "        node = self.root\n",
    "        while node:\n",
    "            print(node.val,end=\"->\")\n",
    "            node = node.next\n",
    "obj = L(0)\n",
    "arr = [0,0, 2, 0, 4, 0, 6, 0, 8, 0, 10, 0, 12, 0, 14, 0, 16]\n",
    "for data in arr[::-1]:\n",
    "    obj.add(data)\n",
    "obj.printl()"
   ]
  },
  {
   "cell_type": "code",
   "execution_count": 28,
   "metadata": {},
   "outputs": [],
   "source": [
    "def printl(node):\n",
    "    while node:\n",
    "        print(node.val,end=\"->\")\n",
    "        node = node.next"
   ]
  },
  {
   "cell_type": "code",
   "execution_count": 32,
   "metadata": {},
   "outputs": [
    {
     "ename": "KeyboardInterrupt",
     "evalue": "",
     "output_type": "error",
     "traceback": [
      "\u001b[0;31m---------------------------------------------------------------------------\u001b[0m",
      "\u001b[0;31mKeyboardInterrupt\u001b[0m                         Traceback (most recent call last)",
      "\u001b[0;32m<ipython-input-32-7c38b6cc82d9>\u001b[0m in \u001b[0;36m<module>\u001b[0;34m\u001b[0m\n\u001b[1;32m     17\u001b[0m         \u001b[0mindex\u001b[0m \u001b[0;34m=\u001b[0m \u001b[0mindex\u001b[0m\u001b[0;34m+\u001b[0m\u001b[0;36m1\u001b[0m\u001b[0;34m\u001b[0m\u001b[0;34m\u001b[0m\u001b[0m\n\u001b[1;32m     18\u001b[0m     \u001b[0;32mreturn\u001b[0m \u001b[0mLinkedList\u001b[0m\u001b[0;34m\u001b[0m\u001b[0;34m\u001b[0m\u001b[0m\n\u001b[0;32m---> 19\u001b[0;31m \u001b[0mprintl\u001b[0m\u001b[0;34m(\u001b[0m\u001b[0mremoveInRange\u001b[0m\u001b[0;34m(\u001b[0m\u001b[0mobj\u001b[0m\u001b[0;34m.\u001b[0m\u001b[0mroot\u001b[0m\u001b[0;34m,\u001b[0m\u001b[0;36m0\u001b[0m\u001b[0;34m,\u001b[0m\u001b[0;36m5\u001b[0m\u001b[0;34m,\u001b[0m\u001b[0;36m13\u001b[0m\u001b[0;34m)\u001b[0m\u001b[0;34m)\u001b[0m\u001b[0;34m\u001b[0m\u001b[0;34m\u001b[0m\u001b[0m\n\u001b[0m",
      "\u001b[0;32m<ipython-input-32-7c38b6cc82d9>\u001b[0m in \u001b[0;36mremoveInRange\u001b[0;34m(LinkedList, element, start, end)\u001b[0m\n\u001b[1;32m     11\u001b[0m                 \u001b[0;32mif\u001b[0m \u001b[0mindex\u001b[0m \u001b[0;34m==\u001b[0m \u001b[0mend\u001b[0m\u001b[0;34m:\u001b[0m\u001b[0;34m\u001b[0m\u001b[0;34m\u001b[0m\u001b[0m\n\u001b[1;32m     12\u001b[0m                     \u001b[0;32mbreak\u001b[0m\u001b[0;34m\u001b[0m\u001b[0;34m\u001b[0m\u001b[0m\n\u001b[0;32m---> 13\u001b[0;31m                 \u001b[0;32mif\u001b[0m \u001b[0mcurrent\u001b[0m \u001b[0;34m!=\u001b[0m \u001b[0;32mNone\u001b[0m \u001b[0;32mand\u001b[0m \u001b[0mcurrent\u001b[0m\u001b[0;34m.\u001b[0m\u001b[0mnext\u001b[0m\u001b[0;34m.\u001b[0m\u001b[0mval\u001b[0m \u001b[0;34m==\u001b[0m \u001b[0melement\u001b[0m \u001b[0;32mand\u001b[0m \u001b[0mstart\u001b[0m\u001b[0;34m<=\u001b[0m\u001b[0mindex\u001b[0m\u001b[0;34m+\u001b[0m\u001b[0;36m1\u001b[0m\u001b[0;34m<\u001b[0m\u001b[0mend\u001b[0m \u001b[0;34m:\u001b[0m\u001b[0;34m\u001b[0m\u001b[0;34m\u001b[0m\u001b[0m\n\u001b[0m\u001b[1;32m     14\u001b[0m                     \u001b[0mcurrent\u001b[0m\u001b[0;34m.\u001b[0m\u001b[0mnext\u001b[0m \u001b[0;34m=\u001b[0m \u001b[0mcurrent\u001b[0m\u001b[0;34m.\u001b[0m\u001b[0mnext\u001b[0m\u001b[0;34m.\u001b[0m\u001b[0mnext\u001b[0m\u001b[0;34m\u001b[0m\u001b[0;34m\u001b[0m\u001b[0m\n\u001b[1;32m     15\u001b[0m                     \u001b[0mindex\u001b[0m\u001b[0;34m+=\u001b[0m\u001b[0;36m2\u001b[0m\u001b[0;34m\u001b[0m\u001b[0;34m\u001b[0m\u001b[0m\n",
      "\u001b[0;31mKeyboardInterrupt\u001b[0m: "
     ]
    }
   ],
   "source": [
    "def removeInRange(LinkedList,element,start,end):\n",
    "    index = 0\n",
    "    if start == 0:\n",
    "        while LinkedList != None and LinkedList.val == element and end<index:\n",
    "            LinkedList = LinkedList.next\n",
    "            index+=1\n",
    "    current = LinkedList\n",
    "    while current and index<end:\n",
    "        if start<=index<end:\n",
    "            while True:\n",
    "                if index == end:\n",
    "                    break\n",
    "                if current != None and current.next.val == element and start<=index+1<end :\n",
    "                    current.next = current.next.next\n",
    "                    index+=2\n",
    "        current = current.next\n",
    "        index = index+1\n",
    "    return LinkedList\n",
    "printl(removeInRange(obj.root,0,5,13))"
   ]
  },
  {
   "cell_type": "code",
   "execution_count": null,
   "metadata": {},
   "outputs": [],
   "source": [
    "a = [0, 0, 2, 0, 4, 6, 8, 10, 12, 0, 14, 0, 16]"
   ]
  },
  {
   "cell_type": "code",
   "execution_count": 8,
   "metadata": {},
   "outputs": [],
   "source": []
  },
  {
   "cell_type": "code",
   "execution_count": null,
   "metadata": {},
   "outputs": [],
   "source": []
  }
 ],
 "metadata": {
  "kernelspec": {
   "display_name": "Python 3",
   "language": "python",
   "name": "python3"
  },
  "language_info": {
   "codemirror_mode": {
    "name": "ipython",
    "version": 3
   },
   "file_extension": ".py",
   "mimetype": "text/x-python",
   "name": "python",
   "nbconvert_exporter": "python",
   "pygments_lexer": "ipython3",
   "version": "3.8.8"
  }
 },
 "nbformat": 4,
 "nbformat_minor": 4
}
