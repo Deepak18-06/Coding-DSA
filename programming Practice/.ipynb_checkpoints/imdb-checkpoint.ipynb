{
 "cells": [
  {
   "cell_type": "code",
   "execution_count": 25,
   "id": "7c3acb26",
   "metadata": {},
   "outputs": [],
   "source": [
    "# imports \n",
    "\n",
    "import pandas as pd\n",
    "import requests\n",
    "from bs4 import BeautifulSoup"
   ]
  },
  {
   "cell_type": "code",
   "execution_count": 61,
   "id": "b8d9cd70",
   "metadata": {},
   "outputs": [],
   "source": [
    "#importing required Libraries\n",
    "import pandas as pd   #to create dataframe\n",
    "import requests       #to send the request to the URL\n",
    "from bs4 import BeautifulSoup #to get the content in the form of HTML\n",
    "import numpy as np  # to count the values (in our case)\n",
    "from collections import defaultdict\n",
    "\n",
    "def get_url(start):\n",
    "    url = 'https://www.imdb.com/search/title/?groups=top_1000&sort=user_rating,desc&count=100&start='+str(start)+'&ref_=adv_nxt'\n",
    "    return url\n",
    "#creating an empty list, so that we can append the values\n",
    "movie_name = []\n",
    "year = []\n",
    "time = []\n",
    "rating = []\n",
    "metascore = []\n",
    "votes = []\n",
    "gross = []\n",
    "#Note: These three list are added recently, Not explained in the video\n",
    "description = []\n",
    "Director = []\n",
    "Stars = []\n",
    "\n",
    "Actor_movies = defaultdict(list)\n",
    "\n",
    "#assigning the URL with variable name url\n",
    "url = 'https://www.imdb.com/search/title/?groups=top_1000&sort=user_rating,desc&count=100&ref_=adv_prv'\n",
    "start = 1\n",
    "while True:\n",
    "    response = requests.get(url)\n",
    "    soup = BeautifulSoup(response.content, 'html.parser')\n",
    "    \n",
    "    #storing the meaningfull required data in the variable\n",
    "    movie_data = soup.findAll('div', attrs= {'class': 'lister-item mode-advanced'})\n",
    "    if movie_data == []:\n",
    "        break\n",
    "    populate_movie_data(movie_data)\n",
    "    start = start+100\n",
    "    url = get_url(start)\n",
    "#calling one by one using for loop\n",
    "def populate_movie_data(movie_data):\n",
    "    for store in movie_data:\n",
    "        name = store.h3.a.text\n",
    "        movie_name.append(name)\n",
    "\n",
    "        year_of_release = store.h3.find('span', class_ = 'lister-item-year text-muted unbold').text.replace('(', '').replace(')', '')\n",
    "        year.append(year_of_release)\n",
    "\n",
    "        runtime = store.p.find('span', class_ = 'runtime').text.replace(' min', '')\n",
    "        time.append(runtime)\n",
    "\n",
    "        rate = store.find('div', class_ = 'inline-block ratings-imdb-rating').text.replace('\\n', '')\n",
    "        rating.append(rate)\n",
    "\n",
    "        meta  = store.find('span', class_ = 'metascore').text.replace(' ', '') if store.find('span', class_ = 'metascore') else '^^^^^^'\n",
    "        metascore.append(meta)\n",
    "        #since, gross and votes have same attributes, that's why we had created a common variable and then used indexing\n",
    "        value = store.find_all('span', attrs = {'name': 'nv'})\n",
    "\n",
    "        vote = value[0].text\n",
    "        votes.append(vote)\n",
    "\n",
    "        grosses = value[1].text if len(value) >1 else '*****'\n",
    "        gross.append(grosses)\n",
    "\n",
    "        # Description of the Movies -- Not explained in the Video, But you will figure it out. \n",
    "        describe = store.find_all('p', class_ = 'text-muted')\n",
    "        description_ = describe[1].text.replace('\\n', '') if len(describe) >1 else '*****'\n",
    "        description.append(description_)\n",
    "\n",
    "        #Cast Details -- Scraping Director name and Stars -- Not explained in Video\n",
    "        cast = store.find(\"p\", class_ = '')\n",
    "        cast = cast.text.replace('\\n', '').split('|')\n",
    "        cast = [x.strip() for x in cast]\n",
    "        cast = [cast[i].replace(j, \"\") for i,j in enumerate([\"Director:\", \"Stars:\"])]\n",
    "        Director.append(cast[0])\n",
    "        Stars.append([x.strip() for x in cast[1].split(\",\")])\n",
    "        for s in Stars[-1]:\n",
    "            Actor_movies[s.strip()].append(name)\n",
    "populate_movie_data(movie_data)    \n",
    "#creating a dataframe using pandas library\n",
    "movie_DF = pd.DataFrame({'Name of movie': movie_name, 'Year of relase': year, 'Watchtime': time, 'Movie Rating': rating, 'Metascore': metascore, 'Votes': votes, 'Gross collection': gross, 'Description': description, \"Director\": Director, 'Star': Stars})"
   ]
  },
  {
   "cell_type": "code",
   "execution_count": null,
   "id": "7b7af0af",
   "metadata": {},
   "outputs": [],
   "source": [
    "movie_DF.head(7)"
   ]
  },
  {
   "cell_type": "code",
   "execution_count": 57,
   "id": "7d17c43d",
   "metadata": {},
   "outputs": [
    {
     "data": {
      "text/plain": [
       "1000"
      ]
     },
     "execution_count": 57,
     "metadata": {},
     "output_type": "execute_result"
    }
   ],
   "source": [
    "len(movie_name)"
   ]
  },
  {
   "cell_type": "code",
   "execution_count": 64,
   "id": "465baff0",
   "metadata": {},
   "outputs": [
    {
     "data": {
      "text/plain": [
       "['The Shawshank Redemption', 'Se7en', 'Unforgiven']"
      ]
     },
     "execution_count": 64,
     "metadata": {},
     "output_type": "execute_result"
    }
   ],
   "source": [
    "Actor_movies['Morgan Freeman'][:3]"
   ]
  },
  {
   "cell_type": "code",
   "execution_count": 67,
   "id": "84f632a5",
   "metadata": {},
   "outputs": [],
   "source": [
    "from bs4 import BeautifulSoup\n",
    "import requests\n",
    "url = 'https://www.imdb.com/search/title/?groups=top_1000&sort=user_rating,desc&count=100&ref_=adv_prv'\n",
    "response = requests.get(url)\n"
   ]
  },
  {
   "cell_type": "code",
   "execution_count": 91,
   "id": "7eb268d4",
   "metadata": {},
   "outputs": [],
   "source": [
    "soup = BeautifulSoup(response.text,'html.parser')"
   ]
  },
  {
   "cell_type": "code",
   "execution_count": 92,
   "id": "bcd58e76",
   "metadata": {},
   "outputs": [],
   "source": [
    "a = soup.find_all('p',class_='imdb-footer__copyright')"
   ]
  },
  {
   "cell_type": "code",
   "execution_count": 96,
   "id": "dd4a3c56",
   "metadata": {},
   "outputs": [
    {
     "data": {
      "text/plain": [
       "'© 1990-2021 by IMDb.com, Inc.'"
      ]
     },
     "execution_count": 96,
     "metadata": {},
     "output_type": "execute_result"
    }
   ],
   "source": [
    "a[0].text"
   ]
  },
  {
   "cell_type": "code",
   "execution_count": 98,
   "id": "67713c68",
   "metadata": {},
   "outputs": [
    {
     "name": "stdout",
     "output_type": "stream",
     "text": [
      "10\n"
     ]
    }
   ],
   "source": [
    "k = 0\n",
    "def change(p):\n",
    "    global k\n",
    "    for i in range(p):\n",
    "        k+=1\n",
    "def another(s):\n",
    "    global k\n",
    "    for i in range(s):\n",
    "        k+=1\n",
    "change(10)\n",
    "print(k)\n",
    "another(3)\n",
    "print(k)"
   ]
  },
  {
   "cell_type": "code",
   "execution_count": null,
   "id": "731d3224",
   "metadata": {},
   "outputs": [],
   "source": []
  }
 ],
 "metadata": {
  "kernelspec": {
   "display_name": "Python 3",
   "language": "python",
   "name": "python3"
  },
  "language_info": {
   "codemirror_mode": {
    "name": "ipython",
    "version": 3
   },
   "file_extension": ".py",
   "mimetype": "text/x-python",
   "name": "python",
   "nbconvert_exporter": "python",
   "pygments_lexer": "ipython3",
   "version": "3.8.8"
  }
 },
 "nbformat": 4,
 "nbformat_minor": 5
}
