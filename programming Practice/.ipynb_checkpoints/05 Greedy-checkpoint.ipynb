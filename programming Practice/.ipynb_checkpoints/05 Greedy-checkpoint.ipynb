{
 "cells": [
  {
   "cell_type": "markdown",
   "metadata": {},
   "source": [
    "# Activity Selection Problem"
   ]
  },
  {
   "cell_type": "code",
   "execution_count": 3,
   "metadata": {},
   "outputs": [
    {
     "name": "stdout",
     "output_type": "stream",
     "text": [
      "[1, 5]\n",
      "[5, 9]\n",
      "[10, 11]\n"
     ]
    }
   ],
   "source": [
    "def activitySelection(activities):\n",
    "    activities.sort(key = lambda x:x[0])\n",
    "    print(activities[0])\n",
    "    limit = activities[0][1]\n",
    "    for i in range(1,len(activities)):\n",
    "        if limit <= activities[i][0]:\n",
    "            print(activities[i])\n",
    "            limit = activities[i][1]\n",
    "activities = [[1,5],[3,7],[5,9],[7,12],[10,11]]\n",
    "activitySelection(activities)"
   ]
  },
  {
   "cell_type": "code",
   "execution_count": null,
   "metadata": {},
   "outputs": [],
   "source": []
  },
  {
   "cell_type": "markdown",
   "metadata": {},
   "source": [
    "# N meeting in one Room"
   ]
  },
  {
   "cell_type": "code",
   "execution_count": 3,
   "metadata": {},
   "outputs": [
    {
     "name": "stdout",
     "output_type": "stream",
     "text": [
      "[(1, 2, 1), (3, 4, 3), (0, 6, 2), (5, 7, 5), (8, 9, 7), (8, 9, 4), (8, 9, 6)]\n"
     ]
    }
   ],
   "source": [
    "# Same as minimum numbers of platform required\n",
    "\n",
    "arr = [(8,9,7),(1,2,1),(0,6,2),(3,4,3),(8,9,4),(5,7,5),(8,9,6)]\n",
    "arr.sort(key = lambda x:(x[1],x[2]))\n",
    "print(arr)"
   ]
  },
  {
   "cell_type": "markdown",
   "metadata": {},
   "source": [
    "# Highest Product of 3 numbers in an array"
   ]
  },
  {
   "cell_type": "code",
   "execution_count": 1,
   "metadata": {},
   "outputs": [],
   "source": [
    "def maxp3(A):\n",
    "    A.sort()\n",
    "    return max(A[-1]*A[-2]*A[-3],A[0]*A[1]*A[2],A[-1]*A[0]*A[1])\n"
   ]
  },
  {
   "cell_type": "markdown",
   "metadata": {},
   "source": [
    "# Fractional Knapsack"
   ]
  },
  {
   "cell_type": "code",
   "execution_count": 7,
   "metadata": {},
   "outputs": [
    {
     "data": {
      "text/plain": [
       "(240.0, [1, 0, 1, 0.6666666666666666])"
      ]
     },
     "execution_count": 7,
     "metadata": {},
     "output_type": "execute_result"
    }
   ],
   "source": [
    "def fractionalKnapsack(val,wt,W):\n",
    "    index = list(range(len(val)))\n",
    "    ratio = [v/w for v,w in zip(val,wt)]\n",
    "    index.sort(key = lambda k:ratio[k],reverse = True)\n",
    "    max_val = 0\n",
    "    fractions = [ 0 for i in range(len(val))]\n",
    "    for i in index:\n",
    "        if wt[i]<=W:\n",
    "            fractions[i] = 1\n",
    "            max_val+=val[i]\n",
    "            W-=wt[i]\n",
    "        else:\n",
    "            fractions[i] = W/wt[i]\n",
    "            max_val+=val[i]*W/wt[i]\n",
    "            break\n",
    "    return max_val,fractions\n",
    "wt = [10, 40, 20, 30] \n",
    "val = [60, 40, 100, 120] \n",
    "W = 50\n",
    "fractionalKnapsack(val,wt,W)"
   ]
  },
  {
   "cell_type": "markdown",
   "metadata": {},
   "source": [
    "# Minimum number of platorms Required"
   ]
  },
  {
   "cell_type": "code",
   "execution_count": 8,
   "metadata": {},
   "outputs": [
    {
     "data": {
      "text/plain": [
       "3"
      ]
     },
     "execution_count": 8,
     "metadata": {},
     "output_type": "execute_result"
    }
   ],
   "source": [
    "def findPlatform(arr,dep,n):\n",
    "    arr.sort()\n",
    "    dep.sort()\n",
    "    platforms = 1\n",
    "    i = 1\n",
    "    j = 0\n",
    "    res = 1\n",
    "    while i<n and j<n:\n",
    "        if arr[i]<=dep[j]:\n",
    "            platforms+=1\n",
    "            i+=1\n",
    "        \n",
    "        elif arr[i]>dep[j]:\n",
    "            platforms-=1\n",
    "            j+=1\n",
    "        res = max(res,platforms)\n",
    "    return res\n",
    "arr = [900, 940, 950, 1100, 1500, 1800]\n",
    "dep = [910, 1200, 1120, 1130, 1900, 2000]\n",
    "n = len(arr)\n",
    "findPlatform(arr,dep,n)"
   ]
  },
  {
   "cell_type": "markdown",
   "metadata": {},
   "source": [
    "# Find the minimum numbers of coins"
   ]
  },
  {
   "cell_type": "code",
   "execution_count": 11,
   "metadata": {},
   "outputs": [
    {
     "data": {
      "text/plain": [
       "5"
      ]
     },
     "execution_count": 11,
     "metadata": {},
     "output_type": "execute_result"
    }
   ],
   "source": [
    "def minimumCoins(V):\n",
    "    currency = [500,100,50,20,10,5,2,1]\n",
    "    count = 0\n",
    "    i = 0\n",
    "    while i <len(currency):\n",
    "        while V>=currency[i]:\n",
    "            V-=currency[i]\n",
    "            count+=1\n",
    "        i+=1\n",
    "    return count\n",
    "minimumCoins(93)"
   ]
  },
  {
   "cell_type": "markdown",
   "metadata": {},
   "source": [
    "# Job Sequencing Problem with deadline"
   ]
  },
  {
   "cell_type": "code",
   "execution_count": null,
   "metadata": {},
   "outputs": [],
   "source": [
    "def jobSequencing(val,deadline):\n",
    "    \n",
    "val = [20,15,10,5,1]\n",
    "deadline = [2,2,1,3,3]"
   ]
  },
  {
   "cell_type": "markdown",
   "metadata": {},
   "source": [
    "# Huffman coding"
   ]
  },
  {
   "cell_type": "code",
   "execution_count": null,
   "metadata": {},
   "outputs": [],
   "source": []
  }
 ],
 "metadata": {
  "kernelspec": {
   "display_name": "Python 3",
   "language": "python",
   "name": "python3"
  },
  "language_info": {
   "codemirror_mode": {
    "name": "ipython",
    "version": 3
   },
   "file_extension": ".py",
   "mimetype": "text/x-python",
   "name": "python",
   "nbconvert_exporter": "python",
   "pygments_lexer": "ipython3",
   "version": "3.8.8"
  }
 },
 "nbformat": 4,
 "nbformat_minor": 4
}
