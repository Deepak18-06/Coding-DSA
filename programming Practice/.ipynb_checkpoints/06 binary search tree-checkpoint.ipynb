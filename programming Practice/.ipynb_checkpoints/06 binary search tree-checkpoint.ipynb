{
 "cells": [
  {
   "cell_type": "markdown",
   "id": "5776a7de-10f6-4428-843e-e337784350ef",
   "metadata": {},
   "source": [
    "# Binary Search Tree"
   ]
  },
  {
   "cell_type": "code",
   "execution_count": 10,
   "id": "16f288f3-6b5f-425e-9e50-fdfb93980019",
   "metadata": {},
   "outputs": [
    {
     "name": "stdout",
     "output_type": "stream",
     "text": [
      "20 30 35 40 45 50 60 "
     ]
    }
   ],
   "source": [
    "class TreeNode:\n",
    "    def __init__(self, val=0, left=None, right=None):\n",
    "        self.val = val\n",
    "        self.left = left\n",
    "        self.right = right\n",
    "\n",
    "from collections import deque\n",
    "def insertIntoBinaryTree(root, val):\n",
    "    new_node = TreeNode(val)\n",
    "    if not root:\n",
    "        return new_node\n",
    "    \n",
    "    queue = deque([root])\n",
    "    while queue:\n",
    "        node = queue.popleft()\n",
    "        # Check if the left child is empty\n",
    "        if not node.left:\n",
    "            node.left = new_node\n",
    "            return root\n",
    "        else:\n",
    "            queue.append(node.left)\n",
    "        # Check if the right child is empty\n",
    "        if not node.right:\n",
    "            node.right = new_node\n",
    "            return root\n",
    "        else:\n",
    "            queue.append(node.right)\n",
    "    return root\n",
    "\n",
    "\n",
    "def searchBinaryTree(root, val):\n",
    "    if not root:\n",
    "        return None\n",
    "    \n",
    "    queue = deque([root])\n",
    "    while queue:\n",
    "        node = queue.popleft()\n",
    "        if node.val == val:\n",
    "            return node\n",
    "        if node.left:\n",
    "            queue.append(node.left)\n",
    "        if node.right:\n",
    "            queue.append(node.right)\n",
    "    return None\n",
    "\n",
    "def searchBST(root, val):\n",
    "    if not root or root.val == val:\n",
    "        return root\n",
    "    if val < root.val:\n",
    "        return searchBST(root.left, val)\n",
    "    else:\n",
    "        return searchBST(root.right, val)\n",
    "\n",
    "\n",
    "def deleteDeepestNode(root, d_node):\n",
    "    queue = deque([root])\n",
    "    while queue:\n",
    "        node = queue.popleft()\n",
    "        if node is d_node:\n",
    "            node = None\n",
    "            return\n",
    "        if node.right:\n",
    "            if node.right is d_node:\n",
    "                node.right = None\n",
    "                return\n",
    "            else:\n",
    "                queue.append(node.right)\n",
    "        if node.left:\n",
    "            if node.left is d_node:\n",
    "                node.left = None\n",
    "                return\n",
    "            else:\n",
    "                queue.append(node.left)\n",
    "\n",
    "def deleteNode(root, val):\n",
    "    if not root:\n",
    "        return None\n",
    "    if not root.left and not root.right:\n",
    "        if root.val == val:\n",
    "            return None\n",
    "        else:\n",
    "            return root\n",
    "    \n",
    "    queue = deque([root])\n",
    "    to_delete = None\n",
    "    last_node = None\n",
    "    while queue:\n",
    "        last_node = queue.popleft()\n",
    "        if last_node.val == val:\n",
    "            to_delete = last_node\n",
    "        if last_node.left:\n",
    "            queue.append(last_node.left)\n",
    "        if last_node.right:\n",
    "            queue.append(last_node.right)\n",
    "    \n",
    "    if to_delete:\n",
    "        to_delete.val = last_node.val\n",
    "        deleteDeepestNode(root, last_node)\n",
    "    \n",
    "    return root\n",
    "\n",
    "\n",
    "root = TreeNode(40)\n",
    "root.left = TreeNode(30)\n",
    "root.right = TreeNode(50)\n",
    "root.left.left = TreeNode(20)\n",
    "root.left.right = TreeNode(35)\n",
    "root.right.left = TreeNode(45)\n",
    "root.right.right = TreeNode(60)\n",
    "\n",
    "def inorder(root):\n",
    "    if root:\n",
    "        inorder(root.left)\n",
    "        print(root.val, end=\" \")\n",
    "        inorder(root.right)\n",
    "inorder(root)"
   ]
  },
  {
   "cell_type": "markdown",
   "id": "b0a4c7a9-0297-4e02-998d-d8fcc69099df",
   "metadata": {},
   "source": [
    "## Insert Into BST"
   ]
  },
  {
   "cell_type": "code",
   "execution_count": null,
   "id": "406daacf-8591-4b01-89f2-bc848b8c7bd8",
   "metadata": {},
   "outputs": [],
   "source": [
    "def insertIntoBST(root, val):\n",
    "    if not root:\n",
    "        return TreeNode(val)\n",
    "    if val < root.val:\n",
    "        root.left = insertIntoBST(root.left, val)\n",
    "    else:\n",
    "        root.right = insertIntoBST(root.right, val)\n",
    "    return root"
   ]
  },
  {
   "cell_type": "markdown",
   "id": "57f50381-303d-47bc-88b8-c49c490f4b48",
   "metadata": {},
   "source": [
    "## Ceil in Binary Tree"
   ]
  },
  {
   "cell_type": "code",
   "execution_count": 17,
   "id": "b4866941-d93b-4391-bfbf-cd5d21329290",
   "metadata": {},
   "outputs": [
    {
     "data": {
      "text/plain": [
       "35"
      ]
     },
     "execution_count": 17,
     "metadata": {},
     "output_type": "execute_result"
    }
   ],
   "source": [
    "def findCeil(root, key):\n",
    "    ceil = -1\n",
    "    while root:\n",
    "        if root.val == key:\n",
    "            ceil = root.val\n",
    "            return ceil\n",
    "        elif root.val > key:\n",
    "            ceil = root.val\n",
    "            root = root.left\n",
    "        else:\n",
    "            root = root.right\n",
    "    return ceil\n",
    "findCeil(root, 33)"
   ]
  },
  {
   "cell_type": "markdown",
   "id": "07d18f19-6dad-467c-b66d-66f132317e5f",
   "metadata": {},
   "source": [
    "## Find Floor of binary Tree"
   ]
  },
  {
   "cell_type": "code",
   "execution_count": 28,
   "id": "96c2da53-aecd-4058-87aa-eb97ea58539a",
   "metadata": {},
   "outputs": [
    {
     "data": {
      "text/plain": [
       "35"
      ]
     },
     "execution_count": 28,
     "metadata": {},
     "output_type": "execute_result"
    }
   ],
   "source": [
    "def findFloor(root, key):\n",
    "    floor = -1\n",
    "    while root:\n",
    "        if root.val == key:\n",
    "            floor = root.val\n",
    "            return floor\n",
    "        elif root.val > key:\n",
    "            root = root.left\n",
    "        else:\n",
    "            floor = root.val\n",
    "            root = root.right\n",
    "    return floor\n",
    "findFloor(root, 36)"
   ]
  },
  {
   "cell_type": "markdown",
   "id": "e643432e-1a9f-488a-8c0f-99b065370f14",
   "metadata": {},
   "source": [
    "## Insert Node in a BST"
   ]
  },
  {
   "cell_type": "code",
   "execution_count": 33,
   "id": "1e25e781-a2ff-460c-83c7-7edb02f41085",
   "metadata": {},
   "outputs": [],
   "source": [
    "def insertNode(root, node):\n",
    "    if not root:\n",
    "        return TreeNode(node)\n",
    "    if node < root.val:\n",
    "        root.left = insertNode(root.left, node)\n",
    "    else:\n",
    "        root.right = insertNode(root.right,node)\n",
    "    return root\n",
    "\n",
    "def insertNode(root, node):\n",
    "    if not root:\n",
    "        return TreeNode(node)\n",
    "    curr = root\n",
    "    while True:\n",
    "        if curr.val <= node:\n",
    "            if curr.right is not None:\n",
    "                curr = curr.right\n",
    "            else:\n",
    "                curr.right = TreeNode(node)\n",
    "        else:\n",
    "            if curr.left is not None:\n",
    "                curr = curr.left\n",
    "            else:\n",
    "                curr.left = TreeNode(node)\n",
    "    return root\n"
   ]
  },
  {
   "cell_type": "markdown",
   "id": "10cb085b-6558-4e41-8ee2-a1212808fc93",
   "metadata": {},
   "source": [
    "## Delete a node in BST"
   ]
  },
  {
   "cell_type": "code",
   "execution_count": 42,
   "id": "f331dbc5-e655-4f1f-8553-3865582a1f7a",
   "metadata": {},
   "outputs": [],
   "source": [
    "# Definition for a binary tree node.\n",
    "# class TreeNode:\n",
    "#     def __init__(self, val=0, left=None, right=None):\n",
    "#         self.val = val\n",
    "#         self.left = left\n",
    "#         self.right = right\n",
    "class Solution:\n",
    "    def findLastRight(self, root):\n",
    "        if root.right is None:\n",
    "            return root\n",
    "        return self.findLastRight(root.right)\n",
    "    def helper(self, root):\n",
    "        if root.left is None:\n",
    "            return root.right\n",
    "        if root.right is None:\n",
    "            return root.left\n",
    "        right = root.right\n",
    "        #finding last right of root's left\n",
    "        lastRightofLeft = self.findLastRight(root.left)\n",
    "        lastRightofLeft.right = right\n",
    "        return root.left\n",
    "    def deleteNode(self, root, key: int):\n",
    "        if root is None:\n",
    "            return root\n",
    "        if root.val == key:\n",
    "            return self.helper(root)\n",
    "        curr = root\n",
    "        while curr:\n",
    "            if curr.val > key:\n",
    "                if curr.left and curr.left.val == key:\n",
    "                    curr.left = self.helper(curr.left)\n",
    "                    break\n",
    "                else:\n",
    "                    curr = curr.left\n",
    "            else:\n",
    "                if curr.right and curr.right.val == key:\n",
    "                    curr.right = self.helper(curr.right)\n",
    "                    break\n",
    "                else:\n",
    "                    curr = curr.right\n",
    "        return root"
   ]
  },
  {
   "cell_type": "markdown",
   "id": "18a3acc1-8f58-4fb5-a963-7f489321f971",
   "metadata": {},
   "source": [
    "## Kth smallest Number in BST"
   ]
  },
  {
   "cell_type": "code",
   "execution_count": 53,
   "id": "b81f30ac-3de7-49cc-82f0-c581450d8524",
   "metadata": {},
   "outputs": [
    {
     "name": "stdout",
     "output_type": "stream",
     "text": [
      "20 30 35 40 45 50 60 None\n",
      "None\n"
     ]
    }
   ],
   "source": [
    "print(inorder(root))\n",
    "#using inorder traversal\n",
    "class Solution:\n",
    "    def kthSmallest(self, root: Optional[TreeNode], k: int) -> int:\n",
    "        self.count = 0\n",
    "        self.result = 0\n",
    "        def inorder(root):\n",
    "            if root:\n",
    "                inorder(root.left)\n",
    "                self.count += 1\n",
    "                if self.count == k:\n",
    "                    self.result = root.val\n",
    "                    return \n",
    "                inorder(root.right)\n",
    "        inorder(root)\n",
    "        return self.result"
   ]
  },
  {
   "cell_type": "markdown",
   "id": "22f82949-3e4e-4754-bc0d-cfef26b1ff81",
   "metadata": {},
   "source": [
    "## Kths Largest Number in BST"
   ]
  },
  {
   "cell_type": "code",
   "execution_count": null,
   "id": "af470c8c-5717-4a87-afcb-a18100baed4b",
   "metadata": {},
   "outputs": [],
   "source": [
    "# using reverse inorder traversal\n",
    "class Solution:\n",
    "    def kthSmallest(self, root: Optional[TreeNode], k: int) -> int:\n",
    "        self.count = 0\n",
    "        self.result = 0\n",
    "        def inorder(root):\n",
    "            if root:\n",
    "                inorder(root.right)\n",
    "                self.count += 1\n",
    "                if self.count == k:\n",
    "                    self.result = root.val\n",
    "                    return \n",
    "                inorder(root.left)\n",
    "\n",
    "        inorder(root)\n",
    "        return self.result"
   ]
  },
  {
   "cell_type": "markdown",
   "id": "cc0ea6e6-f835-472e-a066-480484b3eee7",
   "metadata": {},
   "source": [
    "## Check for valid BT and BST || Validate BST"
   ]
  },
  {
   "cell_type": "code",
   "execution_count": 57,
   "id": "29462671-1f13-4be3-9dc9-35438da7a871",
   "metadata": {},
   "outputs": [],
   "source": [
    "class Solution:\n",
    "    def isValidBST(self, root) -> bool:\n",
    "        self.prev = None\n",
    "        def inorder(root):\n",
    "            if root:\n",
    "                if not inorder(root.left):\n",
    "                    return False\n",
    "                if self.prev and self.prev.val >= root.val:\n",
    "                    return False\n",
    "                self.prev = root\n",
    "                return inorder(root.right)\n",
    "            return True\n",
    "        return inorder(root)"
   ]
  },
  {
   "cell_type": "markdown",
   "id": "925ea6bf-227a-4383-87c2-1742497c417e",
   "metadata": {},
   "source": [
    "## LCA in BST"
   ]
  },
  {
   "cell_type": "code",
   "execution_count": 60,
   "id": "be0f250f-c1a8-4e8e-a6a3-2db9625060f8",
   "metadata": {},
   "outputs": [],
   "source": [
    "class Solution:\n",
    "    def lowestCommonAncestor(self, root: 'TreeNode', p: 'TreeNode', q: 'TreeNode') -> 'TreeNode':\n",
    "        # both on same side left or right\n",
    "        # both on different side -> here is our answer\n",
    "        # if any of them is root then -> here is our answer\n",
    "        if not root:\n",
    "            return None\n",
    "        curr = root.val\n",
    "        if curr < p.val  and curr < q.val:\n",
    "            return self.lowestCommonAncestor(root.right, p, q)\n",
    "        \n",
    "        if p.val < curr and q.val < curr:\n",
    "            return self.lowestCommonAncestor(root.left, p, q)\n",
    "        return root"
   ]
  },
  {
   "cell_type": "markdown",
   "id": "4e2fbfee-a8e5-4448-9a0a-45ef893e65d0",
   "metadata": {},
   "source": [
    "## Construct a BST from Preorder"
   ]
  },
  {
   "cell_type": "code",
   "execution_count": 67,
   "id": "7fb2a4e9-4b76-43a7-8518-bf1620575c5c",
   "metadata": {},
   "outputs": [],
   "source": [
    "# get inorder traversal then with preorder and inorder construct that binary tree O(nlog) + O(N)\n",
    "# insert node one by one O(N^2)\n",
    "# using upper bound O(3N)\n",
    "def build(preorder,i, bound):\n",
    "    if (i[0] == len(preorder)) or (preorder[i[0]] > bound):\n",
    "        return None\n",
    "    root = TreeNode(preorder[i[0]])\n",
    "    i[0] += 1\n",
    "    root.left = build(preorder, i, root.val)\n",
    "    root.right = build(preorder, i, bound)\n",
    "    return root\n",
    "def builBST(preorder):\n",
    "    i = [0]\n",
    "    return build(preorder, i, float(\"inf\"))"
   ]
  },
  {
   "cell_type": "markdown",
   "id": "95776774-b3de-4ecf-a87a-8f0991eca2c2",
   "metadata": {},
   "source": [
    "## Inorder successor/predecessor in BST"
   ]
  },
  {
   "cell_type": "code",
   "execution_count": null,
   "id": "aa377b86-2b2d-4319-891e-d95ae2aaeb6c",
   "metadata": {},
   "outputs": [],
   "source": [
    "def findPreSuc(root, key):\n",
    "    pre = None\n",
    "    suc = None\n",
    "    \n",
    "    # Find predecessor\n",
    "    curr = root\n",
    "    while curr:\n",
    "        if curr.val < key:\n",
    "            pre = curr\n",
    "            curr = curr.right\n",
    "        else:\n",
    "            curr = curr.left\n",
    "    \n",
    "    # Find successor\n",
    "    curr = root\n",
    "    while curr:\n",
    "        if curr.val > key:\n",
    "            suc = curr\n",
    "            curr = curr.left  # move to the left to find the smallest larger value\n",
    "        else:\n",
    "            curr = curr.right\n",
    "    \n",
    "    return pre, suc\n"
   ]
  },
  {
   "cell_type": "markdown",
   "id": "47deda30-2c0e-4fe6-933c-a3ad2d4e5518",
   "metadata": {},
   "source": [
    "## Binary Search Iterator"
   ]
  },
  {
   "cell_type": "code",
   "execution_count": 71,
   "id": "0d38a6b8-4414-4e30-b2d8-4dcfbde5010c",
   "metadata": {},
   "outputs": [],
   "source": [
    "class BSTIterator:\n",
    "    def __init__(self, root: TreeNode):\n",
    "        self.stack = []\n",
    "        self._pushAllLeft(root)\n",
    "\n",
    "    def next(self) -> int:\n",
    "        top = self.stack.pop()\n",
    "        self._pushAllLeft(top.right)\n",
    "        return top.val\n",
    "\n",
    "    def hasNext(self) -> bool:\n",
    "        if len(self.stack) == 0:\n",
    "            return False\n",
    "        return True\n",
    "\n",
    "    def _pushAllLeft(self, node):\n",
    "        while node:\n",
    "            self.stack.append(node)\n",
    "            node = node.left\n",
    "        "
   ]
  },
  {
   "cell_type": "markdown",
   "id": "0bba458f-f567-4379-9ac6-cceff936b8e1",
   "metadata": {},
   "source": [
    "## Two sum in BST"
   ]
  },
  {
   "cell_type": "code",
   "execution_count": 74,
   "id": "883b69dc-ee54-496d-b6d1-69dcdbff667b",
   "metadata": {},
   "outputs": [],
   "source": [
    "#implement bst iterator using before\n",
    "# and then use i = next() and j = before() then use two pointer approach for 2 sum"
   ]
  },
  {
   "cell_type": "markdown",
   "id": "929986a6-cbeb-45aa-a409-fea4d3652694",
   "metadata": {},
   "source": [
    "## Recover BST"
   ]
  },
  {
   "cell_type": "code",
   "execution_count": 77,
   "id": "29c227f0-3e0d-4447-b99a-76170d38eab9",
   "metadata": {},
   "outputs": [],
   "source": [
    "class Solution:\n",
    "    def recoverTree(self, root) -> None:\n",
    "        \"\"\"\n",
    "        Do not return anything, modify root in-place instead.\n",
    "        \"\"\"\n",
    "        self.prev = None\n",
    "        self.first = None\n",
    "        self.middle = None\n",
    "        self.last = None\n",
    "        def inorder(root):\n",
    "            if root:\n",
    "                inorder(root.left)\n",
    "                if self.prev and self.prev.val > root.val:\n",
    "                    #first violation\n",
    "                    if not self.first:\n",
    "                        self.first = self.prev\n",
    "                        self.middle = root\n",
    "                    else: # second violation\n",
    "                        self.last = root\n",
    "                self.prev = root\n",
    "                inorder(root.right)\n",
    "        inorder(root)\n",
    "        if self.first and self.last:\n",
    "            self.first.val, self.last.val = self.last.val, self.first.val\n",
    "        elif self.first and self.middle:\n",
    "            self.first.val, self.middle.val = self.middle.val , self.first.val"
   ]
  },
  {
   "cell_type": "markdown",
   "id": "d0461d1e-70b3-4b28-9144-685f583cb15d",
   "metadata": {},
   "source": [
    "## Largest BST in Binary Tree"
   ]
  },
  {
   "cell_type": "code",
   "execution_count": 80,
   "id": "7fe00821-0506-42b8-be3b-5d4d4ddf4f6f",
   "metadata": {},
   "outputs": [],
   "source": [
    "#todo"
   ]
  },
  {
   "cell_type": "code",
   "execution_count": null,
   "id": "0ad9182d-e1e2-4609-a259-130211f020ca",
   "metadata": {},
   "outputs": [],
   "source": []
  }
 ],
 "metadata": {
  "kernelspec": {
   "display_name": "Python 3 (ipykernel)",
   "language": "python",
   "name": "python3"
  },
  "language_info": {
   "codemirror_mode": {
    "name": "ipython",
    "version": 3
   },
   "file_extension": ".py",
   "mimetype": "text/x-python",
   "name": "python",
   "nbconvert_exporter": "python",
   "pygments_lexer": "ipython3",
   "version": "3.12.4"
  }
 },
 "nbformat": 4,
 "nbformat_minor": 5
}
