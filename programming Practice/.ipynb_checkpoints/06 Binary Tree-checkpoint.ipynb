{
 "cells": [
  {
   "cell_type": "markdown",
   "id": "f73add48-e632-4d25-8d2f-0d430c2df9e5",
   "metadata": {},
   "source": [
    "# Binary Tree and Bineary Search Tree\n",
    "\n",
    "        1\n",
    "      /  \\\n",
    "     2    3\n",
    "    / \\  / \\\n",
    "   4   5 6  7 "
   ]
  },
  {
   "cell_type": "code",
   "execution_count": 28,
   "id": "f59ceed9-c520-4e53-8f10-cfb865cef457",
   "metadata": {},
   "outputs": [],
   "source": [
    "class Node:\n",
    "    def __init__(self, val, left=None, right=None):\n",
    "        self.val = val\n",
    "        self.left = left\n",
    "        self.right = right\n",
    "\n",
    "root = Node(1)\n",
    "root.left = Node(2)\n",
    "root.right = Node(3)\n",
    "root.left.left = Node(4)\n",
    "root.left.right = Node(5)\n",
    "root.right.left = Node(6)\n",
    "root.right.right = Node(7)"
   ]
  },
  {
   "cell_type": "markdown",
   "id": "5bd8a235-15ae-43bf-bcd2-7861c931f609",
   "metadata": {},
   "source": [
    "## DFS Traversals"
   ]
  },
  {
   "cell_type": "code",
   "execution_count": 72,
   "id": "1b5518ed-bffc-47c7-9e59-fca63a7e4125",
   "metadata": {},
   "outputs": [
    {
     "name": "stdout",
     "output_type": "stream",
     "text": [
      "Using Recursion\n",
      "Preorder\n",
      "1->2->4->5->3->6->7->\n",
      "\n",
      "1->2->4->5->3->6->7->\n",
      "Inorder\n",
      "4->2->5->1->6->3->7->\n",
      "\n",
      "4->2->5->1->6->3->7->\n",
      "Postorder\n",
      "4->5->2->6->7->3->1->\n",
      "\n",
      "4->5->2->6->7->3->1->"
     ]
    },
    {
     "name": "stderr",
     "output_type": "stream",
     "text": [
      "<>:5: SyntaxWarning: invalid escape sequence '\\ '\n",
      "<>:5: SyntaxWarning: invalid escape sequence '\\ '\n",
      "/var/folders/jr/5pzqrnpx1qlgvmh80j_sz24h0000gn/T/ipykernel_59328/2383405696.py:5: SyntaxWarning: invalid escape sequence '\\ '\n",
      "  \"\"\"\n"
     ]
    }
   ],
   "source": [
    "#dfs Traverals\n",
    "# Pre-order -> Root Left Right\n",
    "# Inorder -> Left Root Right\n",
    "# Post order -> Left Rigth Root\n",
    "\"\"\"  \n",
    "        1\n",
    "      /  \\\n",
    "     2    3\n",
    "    / \\  / \\\n",
    "   4   5 6  7 \n",
    "\"\"\"\n",
    "def preOrderTraversal(root: Node):\n",
    "    if root:\n",
    "        print(root.val, end=\"->\")\n",
    "        preOrderTraversal(root.left)\n",
    "        preOrderTraversal(root.right)\n",
    "def preOrderTraversalStack(root: Node):\n",
    "    print(\"\\n\")\n",
    "    stack = []\n",
    "    stack = [root]\n",
    "    while stack:\n",
    "        root =  stack.pop()\n",
    "        print(root.val, end=\"->\")\n",
    "        if root.right:\n",
    "            stack.append(root.right)\n",
    "        if root.left:\n",
    "            stack.append(root.left)\n",
    "            \n",
    "def inOrderTraversal(root: Node):\n",
    "    if root:\n",
    "        inOrderTraversal(root.left)\n",
    "        print(root.val, end=\"->\")\n",
    "        inOrderTraversal(root.right)\n",
    "\n",
    "def inOrderTraversalStack(root: Node):\n",
    "    print(\"\\n\")\n",
    "    stack = []\n",
    "    current = root\n",
    "    while True:\n",
    "        if current:\n",
    "            stack.append(current)\n",
    "            current = current.left\n",
    "        elif stack:\n",
    "            current = stack.pop()\n",
    "            print(current.val, end=\"->\")\n",
    "            current = current.right\n",
    "        else:\n",
    "            break\n",
    "def postOrderTraversal(root: Node):\n",
    "    if root:\n",
    "        postOrderTraversal(root.left)\n",
    "        postOrderTraversal(root.right)\n",
    "        print(root.val, end=\"->\")\n",
    "\n",
    "def postOrderTraversalStack(root: Node):\n",
    "    print(\"\\n\")\n",
    "    if not root:\n",
    "        return\n",
    "    stack = []\n",
    "    last_visited = None\n",
    "    current = root\n",
    "    while stack or current:\n",
    "        if current:\n",
    "            stack.append(current)\n",
    "            current = current.left\n",
    "        else:\n",
    "            peek_element = stack[-1]\n",
    "            if peek_element.right and peek_element.right != last_visited:\n",
    "                current = peek_element.right\n",
    "            else:\n",
    "                print(peek_element.val, end=\"->\")\n",
    "                last_visited = stack.pop()\n",
    "print(\"Using Recursion\")\n",
    "print(\"Preorder\")\n",
    "preOrderTraversal(root)\n",
    "preOrderTraversalStack(root)\n",
    "print(\"\\nInorder\")\n",
    "inOrderTraversal(root)\n",
    "inOrderTraversalStack(root)\n",
    "print(\"\\nPostorder\")\n",
    "postOrderTraversal(root)\n",
    "postOrderTraversalStack(root)\n",
    "\n"
   ]
  },
  {
   "cell_type": "markdown",
   "id": "17b148a2-f028-491d-abfb-bddbaae28648",
   "metadata": {},
   "source": [
    "## BFS Traversal"
   ]
  },
  {
   "cell_type": "code",
   "execution_count": 90,
   "id": "5e35e7a7-bbdb-467c-bc98-03371bc73cff",
   "metadata": {},
   "outputs": [
    {
     "name": "stdout",
     "output_type": "stream",
     "text": [
      "1->2->3->4->5->6->7->"
     ]
    }
   ],
   "source": [
    "## Level order traversal\n",
    "from collections import deque\n",
    "def levelOrderTraversal(root: Node):\n",
    "    queue = deque()\n",
    "    queue.append(root)\n",
    "    while queue:\n",
    "        n = len(queue)\n",
    "        for i in range(n):\n",
    "            element = queue.popleft()\n",
    "            print(element.val, end=\"->\")\n",
    "            if element.left:\n",
    "                queue.append(element.left)\n",
    "            if element.right:\n",
    "                queue.append(element.right)\n",
    "levelOrderTraversal(root)"
   ]
  },
  {
   "cell_type": "markdown",
   "id": "189004e1-2691-47ee-91b9-52399e967909",
   "metadata": {},
   "source": [
    "## Max Depth of Binary Tree"
   ]
  },
  {
   "cell_type": "code",
   "execution_count": 95,
   "id": "4d96640a-fe44-4eb3-ae65-24ca7fa3b7bd",
   "metadata": {},
   "outputs": [
    {
     "data": {
      "text/plain": [
       "3"
      ]
     },
     "execution_count": 95,
     "metadata": {},
     "output_type": "execute_result"
    }
   ],
   "source": [
    "def maxDepth(root: Node):\n",
    "    if not root:\n",
    "        return 0\n",
    "    return 1 + max(maxDepth(root.left), maxDepth(root.right))\n",
    "maxDepth(root)\n",
    "# For iterative do level order traversal and count the iteration in while loop"
   ]
  },
  {
   "cell_type": "markdown",
   "id": "99d20c2a-2b7a-45ea-b691-3740db5ac7c9",
   "metadata": {},
   "source": [
    "## Check Balanced Binary Tree"
   ]
  },
  {
   "cell_type": "code",
   "execution_count": 108,
   "id": "96e19e35-b270-428f-9030-2b3b75de3555",
   "metadata": {},
   "outputs": [
    {
     "data": {
      "text/plain": [
       "True"
      ]
     },
     "execution_count": 108,
     "metadata": {},
     "output_type": "execute_result"
    }
   ],
   "source": [
    "def isBalanced(root: Node):\n",
    "    if not root:\n",
    "        return [True, 0]\n",
    "    left = isBalanced(root.left)\n",
    "    right = isBalanced(root.right)\n",
    "    balanced = False\n",
    "    if left[0] and right[0] and abs(left[1] - right[1]) <= 1:\n",
    "        balanced = True\n",
    "    return [balanced, 1+max(isBalanced(root.left)[1], isBalanced(root.right)[1])]\n",
    "isBalanced(root)[0]"
   ]
  },
  {
   "cell_type": "markdown",
   "id": "ca065631-418d-467a-a877-b90f5b4c2daf",
   "metadata": {},
   "source": [
    "## Diameter of Binary Tree"
   ]
  },
  {
   "cell_type": "code",
   "execution_count": 137,
   "id": "ea01f0f0-4380-4393-919e-638bb99ed164",
   "metadata": {},
   "outputs": [
    {
     "name": "stdout",
     "output_type": "stream",
     "text": [
      "4\n",
      "4\n"
     ]
    }
   ],
   "source": [
    "# Brute Force O(n)\n",
    "def diameter(root: Node, result):\n",
    "    if not root:\n",
    "        return\n",
    "    leftHeight = maxDepth(root.left)\n",
    "    rightHeight = maxDepth(root.right)\n",
    "    result[0] = max(result[0], leftHeight + rightHeight)\n",
    "    diameter(root.left, result)\n",
    "    diameter(root.right, result)\n",
    "result = [0]\n",
    "diameter(root, result)\n",
    "print(result[0])\n",
    "\n",
    "#using heigh code only\n",
    "def diameterOfTree(root: Node, result):\n",
    "    if not root:\n",
    "        return 0\n",
    "    left = diameterOfTree(root.left, result)\n",
    "    right = diameterOfTree(root.right, result)\n",
    "    result[0] = max(result[0], left+right)\n",
    "    return 1 + max(left, right)\n",
    "dia = [0]\n",
    "diameterOfTree(root, dia)\n",
    "print(dia[0])"
   ]
  },
  {
   "cell_type": "markdown",
   "id": "b3a9ed50-0142-464f-ba47-2cdf3ac343d0",
   "metadata": {},
   "source": [
    "## Max Path Sum"
   ]
  },
  {
   "cell_type": "code",
   "execution_count": 140,
   "id": "5513752a-bb47-40ef-b4a4-c85ddaf278da",
   "metadata": {},
   "outputs": [
    {
     "data": {
      "text/plain": [
       "18"
      ]
     },
     "execution_count": 140,
     "metadata": {},
     "output_type": "execute_result"
    }
   ],
   "source": [
    "class Solution:\n",
    "    def maxPathSum(self, root: Node) -> int:\n",
    "        if not root:\n",
    "            return 0\n",
    "        def dfs(root,result):\n",
    "            if not root:\n",
    "                return 0\n",
    "            #ignoring the negative path\n",
    "            left = max(dfs(root.left, result),0)\n",
    "            right = max(dfs(root.right, result),0)\n",
    "            result[0] = max(result[0], left+right + root.val)\n",
    "            return root.val + max(left, right)\n",
    "        result = [float(\"-inf\")]\n",
    "        dfs(root, result)\n",
    "        return result[0]\n",
    "obj = Solution()\n",
    "obj.maxPathSum(root)"
   ]
  },
  {
   "cell_type": "markdown",
   "id": "7435e56f-eb32-44f1-b483-a208060644c2",
   "metadata": {},
   "source": [
    "## Check if two tree are identical"
   ]
  },
  {
   "cell_type": "code",
   "execution_count": 145,
   "id": "e7fe4681-3611-44b4-9008-9736ddc7d05b",
   "metadata": {},
   "outputs": [
    {
     "data": {
      "text/plain": [
       "True"
      ]
     },
     "execution_count": 145,
     "metadata": {},
     "output_type": "execute_result"
    }
   ],
   "source": [
    "def checkIdentical(root1, root2):\n",
    "    if not root1 and not root2:\n",
    "        return True\n",
    "    if root1 and root2 and root1.val == root2.val:\n",
    "        return checkIdentical(root1.left, root2.left) and checkIdentical(root1.right, root2.right)\n",
    "    return False\n",
    "checkIdentical(root, root)"
   ]
  },
  {
   "cell_type": "markdown",
   "id": "0d1ac330-491f-4ed6-93f8-3fd235f10471",
   "metadata": {},
   "source": [
    "## Zig-Zag Traversal"
   ]
  },
  {
   "cell_type": "code",
   "execution_count": 162,
   "id": "f088b12d-541a-4266-a632-df81f8bbd84d",
   "metadata": {},
   "outputs": [
    {
     "data": {
      "text/plain": [
       "[1, 3, 2, 4, 5, 6, 7]"
      ]
     },
     "execution_count": 162,
     "metadata": {},
     "output_type": "execute_result"
    }
   ],
   "source": [
    "from collections import deque\n",
    "def zigZag(root: Node):\n",
    "    queue = deque([root])\n",
    "    result = []\n",
    "    flag = 1\n",
    "    while queue:\n",
    "        n = len(queue)\n",
    "        level_elements = []\n",
    "        for i in range(n):\n",
    "            element = queue.popleft()\n",
    "            level_elements.append(element.val)\n",
    "            if element.left:\n",
    "                queue.append(element.left)\n",
    "            if element.right:\n",
    "                queue.append(element.right)\n",
    "        if flag:\n",
    "            result.extend(level_elements)\n",
    "            flag = 0\n",
    "        else:\n",
    "            result.extend(level_elements[::-1])\n",
    "            flag = 1\n",
    "    return result\n",
    "zigZag(root)\n",
    "                "
   ]
  },
  {
   "cell_type": "markdown",
   "id": "c30e8146-183b-4eb8-a321-1856d49fb0b3",
   "metadata": {},
   "source": [
    "## Boundary Traversal\n",
    "[Question](https://www.geeksforgeeks.org/problems/boundary-traversal-of-binary-tree/1)"
   ]
  },
  {
   "cell_type": "code",
   "execution_count": null,
   "id": "10b2454d-bb3d-47eb-ab02-4d691d6db1a5",
   "metadata": {},
   "outputs": [],
   "source": [
    "'''\n",
    "class Node:\n",
    "    def __init__(self, val):\n",
    "        self.right = None\n",
    "        self.data = val\n",
    "        self.left = None\n",
    "'''\n",
    "class Solution:\n",
    "    def isLeaf(self, root):\n",
    "        if root.left is None and root.right is None:\n",
    "            return True\n",
    "        return False\n",
    "    def leftSideWithoutLeaf(self, root, result):\n",
    "        current = root.left\n",
    "        while current:\n",
    "            if not self.isLeaf(current):\n",
    "                result.append(current.data)\n",
    "            if current.left:\n",
    "                current = current.left\n",
    "            else:\n",
    "                current = current.right\n",
    "    \n",
    "    def rightSideWithoutLeaf(self, root, result):\n",
    "        current = root.right\n",
    "        temp = []\n",
    "        while current:\n",
    "            if not self.isLeaf(current):\n",
    "                temp.append(current.data)\n",
    "            if current.right:\n",
    "                current = current.right\n",
    "            else:\n",
    "                current = current.left\n",
    "        result.extend(temp[::-1])\n",
    "    \n",
    "    def addLeaves(self, root,result):\n",
    "        if self.isLeaf(root):\n",
    "            result.append(root.data)\n",
    "            return\n",
    "        if root.left:\n",
    "            self.addLeaves(root.left, result)\n",
    "        if root.right:\n",
    "            self.addLeaves(root.right, result)\n",
    "        \n",
    "    def printBoundaryView(self, root):\n",
    "        if not root:\n",
    "            return []\n",
    "        result = []\n",
    "        if not self.isLeaf(root):\n",
    "            result.append(root.data)\n",
    "        self.leftSideWithoutLeaf(root, result)\n",
    "        self.addLeaves(root, result)\n",
    "        self.rightSideWithoutLeaf(root,result)\n",
    "        return result"
   ]
  }
 ],
 "metadata": {
  "kernelspec": {
   "display_name": "Python 3 (ipykernel)",
   "language": "python",
   "name": "python3"
  },
  "language_info": {
   "codemirror_mode": {
    "name": "ipython",
    "version": 3
   },
   "file_extension": ".py",
   "mimetype": "text/x-python",
   "name": "python",
   "nbconvert_exporter": "python",
   "pygments_lexer": "ipython3",
   "version": "3.12.4"
  }
 },
 "nbformat": 4,
 "nbformat_minor": 5
}
