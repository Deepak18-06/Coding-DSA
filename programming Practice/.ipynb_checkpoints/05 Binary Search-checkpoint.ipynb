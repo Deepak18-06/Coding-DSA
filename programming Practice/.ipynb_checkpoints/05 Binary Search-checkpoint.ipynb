{
 "cells": [
  {
   "cell_type": "markdown",
   "metadata": {},
   "source": [
    "# Binary Search\n",
    "https://www.youtube.com/watch?v=W3-KgsCVH1U&list=PL_z_8CaSLPWeYfhtuKHj-9MpYb6XQJ_f2&index=9"
   ]
  },
  {
   "cell_type": "code",
   "execution_count": 4,
   "metadata": {},
   "outputs": [
    {
     "data": {
      "text/plain": [
       "5"
      ]
     },
     "execution_count": 4,
     "metadata": {},
     "output_type": "execute_result"
    }
   ],
   "source": [
    "def binarySearch(arr,num):\n",
    "    left = 0\n",
    "    right = len(arr)-1\n",
    "    while left<=right:\n",
    "        mid = (left+right)//2\n",
    "        if arr[mid] == num:\n",
    "            return mid\n",
    "        elif arr[mid]>num:\n",
    "            right = mid-1\n",
    "        else:\n",
    "            left = mid+1\n",
    "    return -1\n",
    "arr = [1,2,3,4,5,6,7,8,9]\n",
    "binarySearch(arr,6)"
   ]
  },
  {
   "cell_type": "markdown",
   "metadata": {},
   "source": [
    "## Binary Search on descending sorted array"
   ]
  },
  {
   "cell_type": "code",
   "execution_count": 9,
   "metadata": {},
   "outputs": [
    {
     "data": {
      "text/plain": [
       "6"
      ]
     },
     "execution_count": 9,
     "metadata": {},
     "output_type": "execute_result"
    }
   ],
   "source": [
    "def binarySearchReverse(arr,num):\n",
    "    left = 0\n",
    "    right = len(arr) - 1\n",
    "    while left <= right:\n",
    "        mid = (left+right)//2\n",
    "        if arr[mid] == num:\n",
    "            return mid\n",
    "        elif arr[mid] > num:\n",
    "            left = mid + 1\n",
    "        else:\n",
    "            right = mid - 1\n",
    "    return -1\n",
    "\n",
    "arr = [9,8,7,6,5,4,3,2,1]\n",
    "binarySearchReverse(arr,3)"
   ]
  },
  {
   "cell_type": "markdown",
   "metadata": {},
   "source": [
    "## when order is not known"
   ]
  },
  {
   "cell_type": "code",
   "execution_count": 12,
   "metadata": {},
   "outputs": [],
   "source": [
    "#compare first and last element"
   ]
  },
  {
   "cell_type": "markdown",
   "metadata": {},
   "source": [
    "# first and last occurance of an element"
   ]
  },
  {
   "cell_type": "code",
   "execution_count": 6,
   "metadata": {},
   "outputs": [
    {
     "name": "stdout",
     "output_type": "stream",
     "text": [
      "1 3\n"
     ]
    }
   ],
   "source": [
    "def firstOccurance(arr,num):\n",
    "    left = 0\n",
    "    right = len(arr)-1\n",
    "    left_idx = -1\n",
    "    while left<=right:\n",
    "        mid = (left+right)//2\n",
    "        if arr[mid] == num:\n",
    "            left_idx = mid\n",
    "            right = mid-1 # going back when element if found\n",
    "        elif arr[mid]>num:\n",
    "            right = mid-1\n",
    "        else:\n",
    "            left = mid+1\n",
    "    return left_idx\n",
    "def lastOccurance(arr, num):\n",
    "    left = 0\n",
    "    right = len(arr) - 1\n",
    "    right_idx = -1\n",
    "    while left <= right:\n",
    "        mid = (left+right)//2\n",
    "        if arr[mid] == num:\n",
    "            right_idx = mid\n",
    "            left = mid+1\n",
    "        elif arr[mid] > num:\n",
    "            right = mid - 1\n",
    "        else:\n",
    "            left = mid + 1\n",
    "    return right_idx\n",
    "            \n",
    "arr = [1,2,2,2,4,5,6]\n",
    "print(firstOccurance(arr,2), lastOccurance(arr,2))"
   ]
  },
  {
   "cell_type": "markdown",
   "metadata": {},
   "source": [
    "## Count the occurance of nums in sorted array"
   ]
  },
  {
   "cell_type": "code",
   "execution_count": 17,
   "metadata": {},
   "outputs": [
    {
     "name": "stdout",
     "output_type": "stream",
     "text": [
      "9\n"
     ]
    }
   ],
   "source": [
    "# last occurance and first occurance + 1\n",
    "arr = [1,2,3,3,3,3,3,3,3,3,3,8,19,20]\n",
    "print(lastOccurance(arr,3) - firstOccurance(arr,3) + 1)"
   ]
  },
  {
   "cell_type": "markdown",
   "metadata": {},
   "source": [
    "# find the number of times sorted array is rotated"
   ]
  },
  {
   "cell_type": "code",
   "execution_count": 21,
   "metadata": {},
   "outputs": [
    {
     "name": "stdout",
     "output_type": "stream",
     "text": [
      "The array is rotated 2 times.\n"
     ]
    }
   ],
   "source": [
    "#also index of min element\n",
    "def findRotationCount(arr):\n",
    "    n = len(arr)\n",
    "    low, high = 0, n - 1\n",
    "    \n",
    "    while low <= high:\n",
    "        # If the array is already sorted (no rotation)\n",
    "        if arr[low] <= arr[high]:\n",
    "            return low  # The number of rotations is low\n",
    "        \n",
    "        mid = (low + high) // 2\n",
    "        next_element = (mid + 1) % n\n",
    "        prev_element = (mid - 1 + n) % n\n",
    "        \n",
    "        # Check if mid is the minimum element (pivot)\n",
    "        if arr[mid] <= arr[next_element] and arr[mid] <= arr[prev_element]:\n",
    "            return mid\n",
    "        \n",
    "        # If the left half is sorted, pivot must be in the right half\n",
    "        if arr[low] <= arr[mid]:\n",
    "            low = mid + 1\n",
    "        else:\n",
    "            high = mid - 1\n",
    "    \n",
    "    return -1  # Fallback case (shouldn't occur in a valid rotated sorted array)\n",
    "\n",
    "# Example usage:\n",
    "arr = [15, 18, 2, 3, 6, 12]\n",
    "rotations = findRotationCount(arr)\n",
    "print(f\"The array is rotated {rotations} times.\")\n"
   ]
  },
  {
   "cell_type": "markdown",
   "metadata": {},
   "source": [
    "## Find element in rotated sorted array"
   ]
  },
  {
   "cell_type": "code",
   "execution_count": 34,
   "metadata": {},
   "outputs": [
    {
     "name": "stdout",
     "output_type": "stream",
     "text": [
      "4\n"
     ]
    }
   ],
   "source": [
    "\"\"\"\n",
    "Input: nums = [4,5,6,7,0,1,2], target = 0\n",
    "Output: 4\n",
    "\"\"\"\n",
    "def findElement(nums, target):\n",
    "    min_index = findRotationCount(nums)\n",
    "    a = binarySearch(nums[:min_index], target)\n",
    "    b = binarySearch(nums[min_index:], target)\n",
    "    if a != -1:\n",
    "        return a\n",
    "    elif b != -1:\n",
    "        return min_index + b\n",
    "    else:\n",
    "        return -1\n",
    "\n",
    "nums = [4,5,6,7,0,1,2]\n",
    "target = 0\n",
    "print(findElement(nums, target))"
   ]
  },
  {
   "cell_type": "markdown",
   "metadata": {},
   "source": [
    "## Searching in nearly sorted array\n",
    "Given an array which is sorted, but after sorting some elements are moved to either of the adjacent positions, i.e., arr[i] may be present at arr[i+1] or arr[i-1]. Write an efficient function to search an element in this array. Basically the element arr[i] can only be swapped with either arr[i+1] or arr[i-1].\n",
    "\n",
    "For example consider the array {2, 3, 10, 4, 40}, 4 is moved to next position and 10 is moved to previous position.\n",
    "\n",
    "Example :\n",
    "Input: arr[] =  {10, 3, 40, 20, 50, 80, 70}, key = 40\n",
    "Output: 2 \n",
    "Output is index of 40 in given array"
   ]
  },
  {
   "cell_type": "code",
   "execution_count": 39,
   "metadata": {},
   "outputs": [
    {
     "data": {
      "text/plain": [
       "2"
      ]
     },
     "execution_count": 39,
     "metadata": {},
     "output_type": "execute_result"
    }
   ],
   "source": [
    "def searchNearlySorted(arr,num):\n",
    "    left = 0\n",
    "    right = len(arr) -1\n",
    "    while left <= right:\n",
    "        mid = (left + right) // 2\n",
    "        if arr[mid] == num:\n",
    "            return mid\n",
    "        elif mid - 1 >= left and arr[mid-1] == num:\n",
    "            return mid - 1\n",
    "        elif mid + 1 <= right and arr[mid+1] == num:\n",
    "            return mid + 1\n",
    "        elif arr[mid] > num:\n",
    "            right = mid - 2\n",
    "        else:\n",
    "            left = mid + 2\n",
    "    return -1\n",
    "\n",
    "arr = [10, 3, 40, 20, 50, 80, 70]\n",
    "target = 40\n",
    "searchNearlySorted(arr,target)"
   ]
  },
  {
   "cell_type": "markdown",
   "metadata": {},
   "source": [
    "## Get Floor of element in sorted array"
   ]
  },
  {
   "cell_type": "code",
   "execution_count": 42,
   "metadata": {},
   "outputs": [
    {
     "data": {
      "text/plain": [
       "2"
      ]
     },
     "execution_count": 42,
     "metadata": {},
     "output_type": "execute_result"
    }
   ],
   "source": [
    "def getFloor(arr, num):\n",
    "    left = 0\n",
    "    right = len(arr) - 1\n",
    "    result = -1\n",
    "    while left <= right:\n",
    "        mid = (left + right)//2\n",
    "        if arr[mid] == num:\n",
    "            return arr[mid], mid\n",
    "        elif arr[mid] < num:\n",
    "            result = arr[mid]\n",
    "            left = mid + 1\n",
    "        elif arr[mid] > num:\n",
    "            right = mid - 1\n",
    "    return result\n",
    "\n",
    "\"\"\"\n",
    "input : arr[] = {1, 2, 8, 10, 10, 12, 19}, x = 5\n",
    "Output : 2\n",
    "\"\"\"\n",
    "arr = [1, 2, 8, 10, 10, 12, 19]\n",
    "x = 5\n",
    "getFloor(arr,x)"
   ]
  },
  {
   "cell_type": "markdown",
   "metadata": {},
   "source": [
    "## Find Ceil of element in a sorted array"
   ]
  },
  {
   "cell_type": "code",
   "execution_count": 49,
   "metadata": {},
   "outputs": [
    {
     "data": {
      "text/plain": [
       "8"
      ]
     },
     "execution_count": 49,
     "metadata": {},
     "output_type": "execute_result"
    }
   ],
   "source": [
    "def getCeil(arr, num):\n",
    "    left = 0\n",
    "    right = len(arr) - 1\n",
    "    result = -1\n",
    "    while left <= right:\n",
    "        mid = (left + right)//2\n",
    "        if arr[mid] == num:\n",
    "            return arr[mid]\n",
    "        elif arr[mid]> num:\n",
    "            right = mid - 1\n",
    "            result = arr[mid]\n",
    "        elif arr[mid] < num:\n",
    "            left = mid + 1\n",
    "    return result\n",
    "arr = [1, 2, 8, 10, 10, 12, 19]\n",
    "getCeil(arr,5)"
   ]
  },
  {
   "cell_type": "markdown",
   "metadata": {},
   "source": [
    "## Next Alphabetical Element"
   ]
  },
  {
   "cell_type": "code",
   "execution_count": 62,
   "metadata": {},
   "outputs": [
    {
     "name": "stdout",
     "output_type": "stream",
     "text": [
      "g\n"
     ]
    }
   ],
   "source": [
    "def nextAlpha(arr, key):\n",
    "    left = 0\n",
    "    right = len(arr) - 1\n",
    "    result = arr[0]  # Default to first character in case no valid result is found\n",
    "    \n",
    "    while left <= right:\n",
    "        mid = (left + right) // 2\n",
    "        \n",
    "        # If the middle element is greater than the key, it might be the next alphabet\n",
    "        if arr[mid] > key:\n",
    "            result = arr[mid]  # Keep track of the potential next alphabet\n",
    "            right = mid - 1  # Move left to find a smaller valid character\n",
    "        else:\n",
    "            left = mid + 1  # Move right to find a greater character\n",
    "    \n",
    "    return result\n",
    "\n",
    "arr = ['a', 'b', 'c', 'e', 'f', 'g']\n",
    "key = 'f'\n",
    "output = nextAlpha(arr, key)\n",
    "print(output)  # Expected output: 'g'\n"
   ]
  },
  {
   "cell_type": "markdown",
   "metadata": {},
   "source": [
    "## Find position of an element in an Infinite Sorted Array"
   ]
  },
  {
   "cell_type": "code",
   "execution_count": 69,
   "metadata": {},
   "outputs": [],
   "source": [
    "def binarySearchInfinite(arr, num):\n",
    "    left = 0\n",
    "    right = 1\n",
    "    while num > arr[right]:\n",
    "        left = right\n",
    "        right = right * 2\n",
    "    return binarySearch2(arr,num, left, right)\n",
    "\n",
    "def binarySearch2(arr, num, left, right):\n",
    "    while left <= right:\n",
    "        mid = (left + right) // 2\n",
    "        try:\n",
    "            if arr[mid] == num:\n",
    "                return mid\n",
    "            elif arr[mid] > num:\n",
    "                right = mid - 1\n",
    "            else:\n",
    "                left = mid + 1\n",
    "        except IndexError:\n",
    "            # Handle case when `right` exceeds the bounds of the array\n",
    "            right = mid - 1\n",
    "\n",
    "    return -1  # If the element is not found"
   ]
  },
  {
   "cell_type": "markdown",
   "metadata": {},
   "source": [
    "## Index of First 1 in a Binary Sorted Infinite Array"
   ]
  },
  {
   "cell_type": "code",
   "execution_count": 80,
   "metadata": {},
   "outputs": [
    {
     "name": "stdout",
     "output_type": "stream",
     "text": [
      "0 4\n"
     ]
    },
    {
     "data": {
      "text/plain": [
       "4"
      ]
     },
     "execution_count": 80,
     "metadata": {},
     "output_type": "execute_result"
    }
   ],
   "source": [
    "def binarySearchInfinite(arr, num):\n",
    "    left = 0\n",
    "    right = 1\n",
    "    while num > arr[right]:\n",
    "        right = right * 2\n",
    "    return left, right\n",
    "\n",
    "def findIdxof1(arr):\n",
    "    left, right = binarySearchInfinite(arr, 1)\n",
    "    print(left, right)\n",
    "    return firstOccurance(arr[:right+1], 1)\n",
    "arr = [0,0,0,0, 1, 1, 1, 1, 1 , 1]\n",
    "findIdxof1(arr)"
   ]
  },
  {
   "cell_type": "markdown",
   "metadata": {},
   "source": [
    "## Minimum Difference Element in a Sorted Array"
   ]
  },
  {
   "cell_type": "code",
   "execution_count": 91,
   "metadata": {},
   "outputs": [
    {
     "name": "stdout",
     "output_type": "stream",
     "text": [
      "4 3\n",
      "The element with the minimum difference to 12 is: 10\n"
     ]
    }
   ],
   "source": [
    "\"\"\"\n",
    "def minDiff(arr,key):\n",
    "    floor = getFloor(arr,key)\n",
    "    ceil = getCeil(arr,key)\n",
    "    return min(abs(floor - key), abs(ceil-key))\n",
    "\"\"\"\n",
    "def findMinDiffElement(arr, target):\n",
    "    left = 0\n",
    "    right = len(arr) - 1\n",
    "    \n",
    "    # If target is less than the first element\n",
    "    if target < arr[0]:\n",
    "        return arr[0]\n",
    "    \n",
    "    # If target is greater than the last element\n",
    "    if target > arr[-1]:\n",
    "        return arr[-1]\n",
    "    \n",
    "    # Perform binary search to find the closest elements\n",
    "    while left <= right:\n",
    "        mid = (left + right) // 2\n",
    "        \n",
    "        # If we found the target, return it as the closest element\n",
    "        if arr[mid] == target:\n",
    "            return arr[mid]\n",
    "        \n",
    "        # Move the binary search window\n",
    "        if arr[mid] < target:\n",
    "            left = mid + 1\n",
    "        else:\n",
    "            right = mid - 1\n",
    "    \n",
    "    # At the end of binary search, `left` will be the index just after the target (if target were in the array),\n",
    "    # and `right` will be just before the target. We compare these two elements.\n",
    "    print(left, right)\n",
    "    if abs(arr[left] - target) < abs(arr[right] - target):\n",
    "        return arr[left]\n",
    "    else:\n",
    "        return arr[right]\n",
    "\n",
    "# Example usage:\n",
    "arr = [1, 3, 8, 10, 15]\n",
    "target = 12\n",
    "result = findMinDiffElement(arr, target)\n",
    "print(f\"The element with the minimum difference to {target} is: {result}\")\n",
    "\n",
    "    "
   ]
  },
  {
   "cell_type": "markdown",
   "metadata": {},
   "source": [
    "#  Binary Search on Answer Concept\n",
    "\n",
    "## Peak Element\n",
    "A peak element is an element that is greater than its neighbors.\n",
    "\n",
    "Given an input array nums, where nums[i] ≠ nums[i+1], find a peak element and return its index.\n",
    "\n",
    "The array may contain multiple peaks, in that case return the index to any one of the peaks is fine.\n",
    "\n",
    "You may imagine that nums[-1] = nums[n] = -∞.\n",
    "\n",
    "Example :\n",
    "\n",
    "Input: nums = [1,2,3,1]\n",
    "Output: 2\n",
    "Explanation: 3 is a peak element and your function should return the index number 2"
   ]
  },
  {
   "cell_type": "code",
   "execution_count": 95,
   "metadata": {},
   "outputs": [
    {
     "name": "stdout",
     "output_type": "stream",
     "text": [
      "Peak element is at index 2, value: 20\n"
     ]
    }
   ],
   "source": [
    "def findPeakElement(arr):\n",
    "    left = 0\n",
    "    right = len(arr) - 1\n",
    "\n",
    "    while left < right:\n",
    "        mid = (left + right) // 2\n",
    "        \n",
    "        # Check if the middle element is a peak\n",
    "        if (mid == 0 or arr[mid - 1] <= arr[mid]) and (mid == len(arr) - 1 or arr[mid] >= arr[mid + 1]):\n",
    "            return mid\n",
    "        \n",
    "        # If mid element is smaller than the next element, the peak lies on the right half\n",
    "        if arr[mid] < arr[mid + 1]:\n",
    "            left = mid + 1\n",
    "        else:\n",
    "            # If mid element is greater than or equal to the next element, search on the left half\n",
    "            right = mid\n",
    "    \n",
    "    # At the end of the loop, left will point to the peak element\n",
    "    return left\n",
    "\n",
    "# Example usage:\n",
    "arr = [1, 3, 20, 4, 1, 0]\n",
    "peak_index = findPeakElement(arr)\n",
    "print(f\"Peak element is at index {peak_index}, value: {arr[peak_index]}\")\n"
   ]
  },
  {
   "cell_type": "markdown",
   "metadata": {},
   "source": [
    "## Find maximum element in Bitonic Array"
   ]
  },
  {
   "cell_type": "code",
   "execution_count": 98,
   "metadata": {},
   "outputs": [],
   "source": [
    "# same as find peak element"
   ]
  },
  {
   "cell_type": "markdown",
   "metadata": {},
   "source": [
    "## Search in Bitonic array"
   ]
  },
  {
   "cell_type": "code",
   "execution_count": 101,
   "metadata": {},
   "outputs": [],
   "source": [
    "# find the peak element index and then\n",
    "# search binary in increasing and decreasing array"
   ]
  },
  {
   "cell_type": "markdown",
   "metadata": {},
   "source": [
    "## Search in row-wise and coloum-wise sorted array"
   ]
  },
  {
   "cell_type": "code",
   "execution_count": 112,
   "metadata": {},
   "outputs": [
    {
     "data": {
      "text/plain": [
       "(2, 1)"
      ]
     },
     "execution_count": 112,
     "metadata": {},
     "output_type": "execute_result"
    }
   ],
   "source": [
    "def searchInMatrix(mat, num):\n",
    "    #initially starting from top right\n",
    "    n = len(mat)\n",
    "    m = len(mat[0])\n",
    "    i = 0\n",
    "    j = m - 1\n",
    "    while i < n and j >= 0:\n",
    "        if mat[i][j] == num:\n",
    "            return i,j\n",
    "        elif num > mat[i][j]:\n",
    "            i += 1\n",
    "        else:\n",
    "            j -= 1\n",
    "    return -1\n",
    "    \n",
    "mat = [[10, 20, 30, 40],\n",
    "       [15, 25, 35, 45],\n",
    "       [27, 29, 37, 48],\n",
    "       [32, 33, 39, 50]]\n",
    "\n",
    "searchInMatrix(mat,29)"
   ]
  },
  {
   "cell_type": "code",
   "execution_count": null,
   "metadata": {},
   "outputs": [],
   "source": []
  }
 ],
 "metadata": {
  "kernelspec": {
   "display_name": "Python 3 (ipykernel)",
   "language": "python",
   "name": "python3"
  },
  "language_info": {
   "codemirror_mode": {
    "name": "ipython",
    "version": 3
   },
   "file_extension": ".py",
   "mimetype": "text/x-python",
   "name": "python",
   "nbconvert_exporter": "python",
   "pygments_lexer": "ipython3",
   "version": "3.12.4"
  }
 },
 "nbformat": 4,
 "nbformat_minor": 4
}
