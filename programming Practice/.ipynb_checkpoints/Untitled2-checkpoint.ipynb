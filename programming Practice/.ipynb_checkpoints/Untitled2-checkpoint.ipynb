{
 "cells": [
  {
   "cell_type": "code",
   "execution_count": 3,
   "metadata": {},
   "outputs": [
    {
     "data": {
      "text/plain": [
       "4"
      ]
     },
     "execution_count": 3,
     "metadata": {},
     "output_type": "execute_result"
    }
   ],
   "source": [
    "def fun(string):\n",
    "\toccurances = 0\n",
    "\tfor i in range(len(string)):\n",
    "\t\tif string[i].lower() == 'i':\n",
    "\t\t\toccurances+=1\n",
    "\treturn occurances\n",
    "string = 'India is a country of Asia'\n",
    "fun(string)"
   ]
  },
  {
   "cell_type": "code",
   "execution_count": 30,
   "metadata": {},
   "outputs": [
    {
     "data": {
      "text/plain": [
       "[0, 0, 0, 0, 0, 0, 0, 0, 0, 0, 0, 0, 0, 0, 0, 0, 0, 0, 0, 0, 0, 0, 58, 1, 1, 1]"
      ]
     },
     "execution_count": 30,
     "metadata": {},
     "output_type": "execute_result"
    }
   ],
   "source": [
    "def solve(string):\n",
    "    res = [0 for i in range(26)]\n",
    "    i = 0\n",
    "    while i<len(string):\n",
    "        #print(i)\n",
    "        if string[i:i+2] == '#(':\n",
    "            res[int(string[i-1])-1]-=1\n",
    "            res[int(string[i-2])-1]-=1\n",
    "            k = i+2\n",
    "            while string[k] != ')':\n",
    "                k+=1\n",
    "            res[int(string[i-2:i])-1]+=int(string[i+2:k])\n",
    "            i = k+1\n",
    "        elif string[i] == '(':\n",
    "            k = i+1\n",
    "            while string[k] != ')':\n",
    "                k+=1\n",
    "            res[int(string[i-1])-1]+=int(string[i+1:k]) -1 \n",
    "            i = k+1\n",
    "        elif string[i] == '#':\n",
    "            res[int(string[i-1])-1]-=1\n",
    "            res[int(string[i-2])-1]-=1\n",
    "            res[int(string[i-2:i])-1]+=1\n",
    "            i+=1\n",
    "        else:\n",
    "            res[int(string[i])-1]+=1\n",
    "            i+=1\n",
    "    return res\n",
    "string = '23#(27)24#25#26#23#(31)'\n",
    "solve(string)"
   ]
  },
  {
   "cell_type": "code",
   "execution_count": 15,
   "metadata": {},
   "outputs": [
    {
     "data": {
      "text/plain": [
       "6"
      ]
     },
     "execution_count": 15,
     "metadata": {},
     "output_type": "execute_result"
    }
   ],
   "source": [
    "def solve(cars,k):\n",
    "    n = len(cars)\n",
    "    res = float(\"inf\")\n",
    "    cars.sort()\n",
    "    i = 0\n",
    "    while i<n-k+1:\n",
    "        temp = cars[i+k-1] - cars[i] + 1\n",
    "        res = min(temp,res)\n",
    "        i+=1\n",
    "    return res\n",
    "cars =[6,2,12,7]\n",
    "k = 3\n",
    "solve(cars,k)"
   ]
  },
  {
   "cell_type": "code",
   "execution_count": 1,
   "metadata": {},
   "outputs": [
    {
     "data": {
      "text/plain": [
       "2"
      ]
     },
     "execution_count": 1,
     "metadata": {},
     "output_type": "execute_result"
    }
   ],
   "source": [
    "1^3"
   ]
  },
  {
   "cell_type": "code",
   "execution_count": 11,
   "metadata": {},
   "outputs": [
    {
     "data": {
      "text/plain": [
       "14"
      ]
     },
     "execution_count": 11,
     "metadata": {},
     "output_type": "execute_result"
    }
   ],
   "source": [
    "1^3^4^8"
   ]
  },
  {
   "cell_type": "code",
   "execution_count": 13,
   "metadata": {},
   "outputs": [
    {
     "data": {
      "text/plain": [
       "7"
      ]
     },
     "execution_count": 13,
     "metadata": {},
     "output_type": "execute_result"
    }
   ],
   "source": [
    "6^1"
   ]
  },
  {
   "cell_type": "code",
   "execution_count": 14,
   "metadata": {},
   "outputs": [
    {
     "data": {
      "text/plain": [
       "8"
      ]
     },
     "execution_count": 14,
     "metadata": {},
     "output_type": "execute_result"
    }
   ],
   "source": [
    "14^6"
   ]
  },
  {
   "cell_type": "code",
   "execution_count": null,
   "metadata": {},
   "outputs": [],
   "source": [
    "def nextPrumute(number):\n",
    "    "
   ]
  },
  {
   "cell_type": "code",
   "execution_count": 7,
   "metadata": {},
   "outputs": [
    {
     "name": "stdout",
     "output_type": "stream",
     "text": [
      "4\n",
      "101\n",
      "2\n",
      "2\n",
      "2\n",
      "200\n",
      "102\n",
      "3\n",
      "3\n",
      "3\n",
      "120\n",
      "103\n",
      "1\n",
      "2\n",
      "1\n",
      "50\n",
      "104\n",
      "2\n",
      "5\n",
      "1\n",
      "100\n",
      "200\n",
      "No container found\n",
      "102 27\n"
     ]
    }
   ],
   "source": [
    "class Container:\n",
    "    \n",
    "    def __init__(self,id,length,breadth,height,pricePerSqrFt):\n",
    "        self.id = id\n",
    "        self.length = length\n",
    "        self.breadth = breadth\n",
    "        self.height = height\n",
    "        self.pricePerSqrFt = pricePerSqrFt\n",
    "    def findVolume(self):\n",
    "        return self.length*self.breadth*self.height\n",
    "class PackagingCompany:\n",
    "    def __init__(self,containerList):\n",
    "        self.containerList = containerList\n",
    "    def findContainerCost(self,id):\n",
    "        for container in self.containerList:\n",
    "            if container.id == id:\n",
    "                return container.findVolume*container.pricePerSqrFt\n",
    "        return None\n",
    "    def findLargestContainer(self):\n",
    "        vol = float(\"-inf\")\n",
    "        for container in self.containerList:\n",
    "            if container.findVolume()>vol:\n",
    "                largest = container\n",
    "                vol = container.findVolume()\n",
    "        return largest\n",
    "# main \n",
    "n = int(input())\n",
    "containers=[]\n",
    "for _ in range(n):\n",
    "    id=int(input())\n",
    "    length=int(input())\n",
    "    breadth=int(input())\n",
    "    height=int(input())\n",
    "    pricePerSqrFt=int(input())\n",
    "    cont=Container(id,length,breadth,height,pricePerSqrFt)\n",
    "    containers.append(cont)\n",
    "ID = int(input())\n",
    "results = PackagingCompany(containers)\n",
    "ans= results.findContainerCost(ID)\n",
    "if ans is not None:\n",
    "    print(ans)\n",
    "else:\n",
    "    print('No container found')\n",
    "    \n",
    "ans = results.findLargestContainer()\n",
    "print(str(ans.id)+' '+str(ans.findVolume()))\n",
    "    "
   ]
  },
  {
   "cell_type": "markdown",
   "metadata": {},
   "source": [
    "#### n = int(input())\n",
    "containers=[]\n",
    "for _ in range(n):\n",
    "    id=int(input())\n",
    "    length=int(input())\n",
    "    breadth=int(input())\n",
    "    height=int(input())\n",
    "    pricePerSqrFt=int(input())\n",
    "    cont=container(id,length,breadth,height,pricePerSqrFt)\n",
    "    containers.append(cont)\n",
    "results = packagingcompany(containers)\n",
    "ID = int(input())\n",
    "ans= results.findcontainercost(containerid)\n",
    "if ans is not None:\n",
    "    print(ans)\n",
    "else:\n",
    "    print('No container found')\n",
    "    \n",
    "ans = results.findlargestcontainer()\n",
    "print(str(ans.id)+' '+str(ans.findvolume()))"
   ]
  },
  {
   "cell_type": "code",
   "execution_count": null,
   "metadata": {},
   "outputs": [],
   "source": [
    "class container:\n",
    "    def _init_(self,id,length,breadth,height,pricepersqrft):\n",
    "        self.id=id\n",
    "        self.length=length\n",
    "        self.breadth=breadth\n",
    "        self.height=height\n",
    "        self.pricepersqrft=pricepersqrft\n",
    "        \n",
    "    def findvolume(self):\n",
    "        return self.breadth*self.length*self.height\n",
    "\n",
    "class packagingcompany:\n",
    "    def _init_(self,list):\n",
    "        self.list=list\n",
    "    def findcontainercost(self,id):\n",
    "        for i in range(len(self.list)):\n",
    "            if list[i].id==id:\n",
    "                return list[i].findvolume()*list[i].pricepersqrft\n",
    "    def findlargestcontainer(self):\n",
    "        max=list[0].findvolume()\n",
    "        index=0\n",
    "        for i in range(len(self.list)):\n",
    "            if list[i].findvolume()>max:\n",
    "                max=list[i].findvolume()\n",
    "                index=i\n",
    "        return list[index]\n",
    "    \n",
    "n=int(input())\n",
    "list=[]\n",
    "for i in range(n):\n",
    "    id=int(input())\n",
    "    length=int(input())\n",
    "    breadth=int(input())\n",
    "    height=int(input())\n",
    "    price=int(input())\n",
    "    x=container(id,length,breadth,height,price)\n",
    "    list.append(x)\n",
    "package=packagingcompany(list)\n",
    "containerid=int(input())\n",
    "x=package.findcontainercost(containerid)\n",
    "if x:\n",
    "    print(x)\n",
    "else:\n",
    "    print('No container found')\n",
    "    \n",
    "x=package.findlargestcontainer()\n",
    "print(str(x.id)+' '+str(x.findvolume()))"
   ]
  },
  {
   "cell_type": "code",
   "execution_count": null,
   "metadata": {},
   "outputs": [],
   "source": []
  },
  {
   "cell_type": "code",
   "execution_count": 1,
   "metadata": {},
   "outputs": [
    {
     "ename": "IndexError",
     "evalue": "range object index out of range",
     "output_type": "error",
     "traceback": [
      "\u001b[0;31m---------------------------------------------------------------------------\u001b[0m",
      "\u001b[0;31mIndexError\u001b[0m                                Traceback (most recent call last)",
      "\u001b[0;32m<ipython-input-1-a9d13539c8cd>\u001b[0m in \u001b[0;36m<module>\u001b[0;34m\u001b[0m\n\u001b[1;32m      1\u001b[0m \u001b[0mx\u001b[0m \u001b[0;34m=\u001b[0m \u001b[0mrange\u001b[0m\u001b[0;34m(\u001b[0m\u001b[0;36m6\u001b[0m\u001b[0;34m)\u001b[0m\u001b[0;34m\u001b[0m\u001b[0;34m\u001b[0m\u001b[0m\n\u001b[0;32m----> 2\u001b[0;31m \u001b[0mx\u001b[0m\u001b[0;34m[\u001b[0m\u001b[0;36m6\u001b[0m\u001b[0;34m]\u001b[0m\u001b[0;34m\u001b[0m\u001b[0;34m\u001b[0m\u001b[0m\n\u001b[0m",
      "\u001b[0;31mIndexError\u001b[0m: range object index out of range"
     ]
    }
   ],
   "source": [
    "x = range(6)\n",
    "x[6]"
   ]
  },
  {
   "cell_type": "code",
   "execution_count": 2,
   "metadata": {},
   "outputs": [
    {
     "data": {
      "text/plain": [
       "50"
      ]
     },
     "execution_count": 2,
     "metadata": {},
     "output_type": "execute_result"
    }
   ],
   "source": [
    "len([None]*50)"
   ]
  },
  {
   "cell_type": "markdown",
   "metadata": {},
   "source": [
    "[ques](https://codeforces.com/blog/entry/70917)"
   ]
  },
  {
   "cell_type": "code",
   "execution_count": 10,
   "metadata": {},
   "outputs": [
    {
     "name": "stdout",
     "output_type": "stream",
     "text": [
      "3 5\n",
      "3 7 4\n",
      "0\n"
     ]
    }
   ],
   "source": [
    "n,p = map(int,input().split())\n",
    "arr = list(map(int,input().split()))\n",
    "dp = [0]*(p+1)\n",
    "s = sum(arr)\n",
    "dp[0] = 1\n",
    "for i in range(n):\n",
    "    for j in range(p,arr[i]-1,-1):\n",
    "        dp[i]+=dp[j-arr[i]]\n",
    "print(2**n - 2*sum(dp))"
   ]
  },
  {
   "cell_type": "code",
   "execution_count": 11,
   "metadata": {},
   "outputs": [
    {
     "data": {
      "text/plain": [
       "2"
      ]
     },
     "execution_count": 11,
     "metadata": {},
     "output_type": "execute_result"
    }
   ],
   "source": [
    "def solve(l,k):\n",
    "\tn = len(l)\n",
    "\tdp = [0]*(k+1)\n",
    "\ts = sum(l)\n",
    "\tdp[0] = 1\n",
    "\tfor i in range(n):\n",
    "\t\tfor j in range(k,l[i]-1,-1):\n",
    "\t\t\tdp[j] += dp[j-l[i]]\n",
    "\treturn 2**n - 2*sum(dp)\n",
    "solve([3,7,4],5)"
   ]
  },
  {
   "cell_type": "code",
   "execution_count": null,
   "metadata": {},
   "outputs": [
    {
     "name": "stdout",
     "output_type": "stream",
     "text": [
      "2\n",
      "2\n"
     ]
    }
   ],
   "source": [
    "def solve(n):\n",
    "    n = str(n)\n",
    "    res = []\n",
    "    i = 0\n",
    "    while i<len(n):\n",
    "        num = n[i]\n",
    "        count = 1\n",
    "        while n[i] != num:\n",
    "            count+=1\n",
    "            i+=1\n",
    "        res.append(str(count)+str(num))\n",
    "    print(res)\n",
    "        \n",
    "n = int(input())\n",
    "t = int(input())\n",
    "solve(222423322)"
   ]
  },
  {
   "cell_type": "code",
   "execution_count": 20,
   "metadata": {},
   "outputs": [
    {
     "name": "stdout",
     "output_type": "stream",
     "text": [
      "5\n",
      "90\n"
     ]
    }
   ],
   "source": [
    "from queue import Queue \n",
    "class Main:\n",
    "    def __init__(self):\n",
    "        self.MAX_COUNT = 10000\n",
    "        self.vec = []\n",
    "        self.generateNumbersUtil()\n",
    "        self.n = int(input())\n",
    "        print(self.findSmallestMultiple(self.n)) \n",
    "    def generateNumbersUtil(self): \n",
    "        q = Queue() \n",
    "        q.put(\"9\")  \n",
    "        for count in range(MAX_COUNT, -1, -1): \n",
    "            s1 = q.queue[0]  \n",
    "            q.get() \n",
    "            self.vec.append(s1)  \n",
    "            s2 = s1  \n",
    "            s1 += \"0\"\n",
    "            q.put(s1)  \n",
    "            s2 += \"9\"\n",
    "            q.put(s2) \n",
    "    def findSmallestMultiple(self,n): \n",
    "        for i in range(len(self.vec)): \n",
    "            if (int(self.vec[i]) % n == 0):  \n",
    "                return self.vec[i] \n",
    "c = Main()"
   ]
  },
  {
   "cell_type": "code",
   "execution_count": 21,
   "metadata": {},
   "outputs": [
    {
     "name": "stdout",
     "output_type": "stream",
     "text": [
      "1\n",
      "3\n",
      "21\n"
     ]
    }
   ],
   "source": [
    "class Main:\n",
    "    def __init__(self):\n",
    "        self.number = input()\n",
    "        self.n = int(input())\n",
    "        for i in range(self.n - 1):\n",
    "            self.number = self.countAndSay(self.number)\n",
    "        print(self.number)\n",
    "    def countAndSay(self,curr):\n",
    "        result = ''\n",
    "        i = 0\n",
    "        while i<len(curr):\n",
    "            count = 1\n",
    "            while i+1<len(curr) and curr[i] == curr[i+1]:\n",
    "                i+=1\n",
    "                count+=1\n",
    "            result+=(str(count)+curr[i])\n",
    "            i+=1\n",
    "        return result"
   ]
  },
  {
   "cell_type": "code",
   "execution_count": 40,
   "metadata": {},
   "outputs": [
    {
     "name": "stdout",
     "output_type": "stream",
     "text": [
      "12\n",
      "35\n",
      "41\n",
      "25\n",
      "8\n",
      "12\n",
      "40\n",
      "39\n",
      "45\n",
      "48\n",
      "16\n",
      "49\n",
      "2\n",
      "16\n",
      "7\n",
      "10\n",
      "46\n",
      "36\n",
      "0\n",
      "19\n",
      "44\n",
      "41\n",
      "14\n",
      "27\n",
      "19\n",
      "44\n",
      "17\n",
      "36\n",
      "10\n",
      "38\n",
      "44\n",
      "18\n",
      "17\n",
      "28\n",
      "9\n",
      "15\n",
      "14\n",
      "8\n",
      "10\n",
      "1\n",
      "44\n",
      "15\n",
      "21\n",
      "45\n",
      "17\n",
      "5\n",
      "7\n",
      "39\n",
      "6\n",
      "3\n"
     ]
    },
    {
     "data": {
      "text/plain": [
       "'11101101111111111110000000000000000000000000000000'"
      ]
     },
     "execution_count": 40,
     "metadata": {},
     "output_type": "execute_result"
    }
   ],
   "source": [
    "import heapq\n",
    "def booleanDeque(n, operations):\n",
    "    res = ['0' for i in range(n)]\n",
    "    ls = 0\n",
    "    heap = [0]\n",
    "    for i in range(len(operations)):\n",
    "        if operations[i] == 'L' and ls < n:\n",
    "            if res[ls] == '0':\n",
    "                res[ls] = '1'\n",
    "                ls+=1\n",
    "            else:\n",
    "                k = heapq.heappop(heap)\n",
    "                res[k] = '1'\n",
    "                ls = k+1\n",
    "        elif operations[i][0] == 'C':\n",
    "            ind = int(operations[i][1:])\n",
    "            res[ind] = '0'\n",
    "            print(ind)\n",
    "            ls = min(ls,ind)\n",
    "            heapq.heappush(heap,ind)\n",
    "    return ''.join(map(str,res))\n",
    "arr = [\"L\", \n",
    " \"L\", \n",
    " \"L\", \n",
    " \"L\", \n",
    " \"L\", \n",
    " \"C12\", \n",
    " \"L\", \n",
    " \"C35\", \n",
    " \"L\", \n",
    " \"L\", \n",
    " \"C41\", \n",
    " \"L\", \n",
    " \"C25\", \n",
    " \"C8\", \n",
    " \"C12\", \n",
    " \"L\", \n",
    " \"L\", \n",
    " \"L\", \n",
    " \"C40\", \n",
    " \"C39\", \n",
    " \"C45\", \n",
    " \"C48\", \n",
    " \"L\", \n",
    " \"C16\", \n",
    " \"L\", \n",
    " \"C49\", \n",
    " \"L\", \n",
    " \"L\", \n",
    " \"L\", \n",
    " \"C2\", \n",
    " \"C16\", \n",
    " \"L\", \n",
    " \"C7\", \n",
    " \"C10\", \n",
    " \"C46\", \n",
    " \"L\", \n",
    " \"L\", \n",
    " \"L\", \n",
    " \"C36\", \n",
    " \"C0\", \n",
    " \"C19\", \n",
    " \"C44\", \n",
    " \"C41\", \n",
    " \"C14\", \n",
    " \"L\", \n",
    " \"C27\", \n",
    " \"C19\", \n",
    " \"L\", \n",
    " \"L\", \n",
    " \"C44\", \n",
    " \"L\", \n",
    " \"L\", \n",
    " \"L\", \n",
    " \"L\", \n",
    " \"C17\", \n",
    " \"C36\", \n",
    " \"C10\", \n",
    " \"C38\", \n",
    " \"C44\", \n",
    " \"C18\", \n",
    " \"C17\", \n",
    " \"C28\", \n",
    " \"L\", \n",
    " \"L\", \n",
    " \"L\", \n",
    " \"L\", \n",
    " \"C9\", \n",
    " \"L\", \n",
    " \"C15\", \n",
    " \"L\", \n",
    " \"L\", \n",
    " \"L\", \n",
    " \"L\", \n",
    " \"L\", \n",
    " \"C14\", \n",
    " \"C8\", \n",
    " \"L\", \n",
    " \"L\", \n",
    " \"C10\", \n",
    " \"C1\", \n",
    " \"C44\", \n",
    " \"C15\", \n",
    " \"L\", \n",
    " \"C21\", \n",
    " \"L\", \n",
    " \"L\", \n",
    " \"C45\", \n",
    " \"L\", \n",
    " \"C17\", \n",
    " \"L\", \n",
    " \"C5\", \n",
    " \"L\", \n",
    " \"C7\", \n",
    " \"L\", \n",
    " \"C39\", \n",
    " \"L\", \n",
    " \"L\", \n",
    " \"L\", \n",
    " \"C6\", \n",
    " \"C3\"]\n",
    "booleanDeque(50,arr)"
   ]
  },
  {
   "cell_type": "code",
   "execution_count": 10,
   "metadata": {},
   "outputs": [],
   "source": [
    "arr = [0 for i in range(50)]"
   ]
  },
  {
   "cell_type": "code",
   "execution_count": 11,
   "metadata": {},
   "outputs": [],
   "source": [
    "expected = \"11101101111111111111111111111100000000000000000000\"\n",
    "           '11101101111111111110000000000000000000000000000000'"
   ]
  },
  {
   "cell_type": "code",
   "execution_count": null,
   "metadata": {},
   "outputs": [],
   "source": [
    "arr = [\"L\", \n",
    " \"L\", \n",
    " \"L\", \n",
    " \"L\", \n",
    " \"L\", \n",
    " \"C12\", \n",
    " \"L\", \n",
    " \"C35\", \n",
    " \"L\", \n",
    " \"L\", \n",
    " \"C41\", \n",
    " \"L\", \n",
    " \"C25\", \n",
    " \"C8\", \n",
    " \"C12\", \n",
    " \"L\", \n",
    " \"L\", \n",
    " \"L\", \n",
    " \"C40\", \n",
    " \"C39\", \n",
    " \"C45\", \n",
    " \"C48\", \n",
    " \"L\", \n",
    " \"C16\", \n",
    " \"L\", \n",
    " \"C49\", \n",
    " \"L\", \n",
    " \"L\", \n",
    " \"L\", \n",
    " \"C2\", \n",
    " \"C16\", \n",
    " \"L\", \n",
    " \"C7\", \n",
    " \"C10\", \n",
    " \"C46\", \n",
    " \"L\", \n",
    " \"L\", \n",
    " \"L\", \n",
    " \"C36\", \n",
    " \"C0\", \n",
    " \"C19\", \n",
    " \"C44\", \n",
    " \"C41\", \n",
    " \"C14\", \n",
    " \"L\", \n",
    " \"C27\", \n",
    " \"C19\", \n",
    " \"L\", \n",
    " \"L\", \n",
    " \"C44\", \n",
    " \"L\", \n",
    " \"L\", \n",
    " \"L\", \n",
    " \"L\", \n",
    " \"C17\", \n",
    " \"C36\", \n",
    " \"C10\", \n",
    " \"C38\", \n",
    " \"C44\", \n",
    " \"C18\", \n",
    " \"C17\", \n",
    " \"C28\", \n",
    " \"L\", \n",
    " \"L\", \n",
    " \"L\", \n",
    " \"L\", \n",
    " \"C9\", \n",
    " \"L\", \n",
    " \"C15\", \n",
    " \"L\", \n",
    " \"L\", \n",
    " \"L\", \n",
    " \"L\", \n",
    " \"L\", \n",
    " \"C14\", \n",
    " \"C8\", \n",
    " \"L\", \n",
    " \"L\", \n",
    " \"C10\", \n",
    " \"C1\", \n",
    " \"C44\", \n",
    " \"C15\", \n",
    " \"L\", \n",
    " \"C21\", \n",
    " \"L\", \n",
    " \"L\", \n",
    " \"C45\", \n",
    " \"L\", \n",
    " \"C17\", \n",
    " \"L\", \n",
    " \"C5\", \n",
    " \"L\", \n",
    " \"C7\", \n",
    " \"L\", \n",
    " \"C39\", \n",
    " \"L\", \n",
    " \"L\", \n",
    " \"L\", \n",
    " \"C6\", \n",
    " \"C3\"]"
   ]
  },
  {
   "cell_type": "code",
   "execution_count": 34,
   "metadata": {},
   "outputs": [],
   "source": [
    "a = [0,6,-1,5]\n",
    "heapq.heapify(a)\n",
    "\n",
    "heapq.heappush(a,9)"
   ]
  },
  {
   "cell_type": "code",
   "execution_count": 35,
   "metadata": {},
   "outputs": [
    {
     "name": "stdout",
     "output_type": "stream",
     "text": [
      "-1\n"
     ]
    }
   ],
   "source": [
    "print(heapq.heappop(a))"
   ]
  },
  {
   "cell_type": "code",
   "execution_count": 41,
   "metadata": {},
   "outputs": [
    {
     "data": {
      "text/plain": [
       "False"
      ]
     },
     "execution_count": 41,
     "metadata": {},
     "output_type": "execute_result"
    }
   ],
   "source": [
    "expected == '11101101111111111110000000000000000000000000000000'"
   ]
  },
  {
   "cell_type": "code",
   "execution_count": 44,
   "metadata": {},
   "outputs": [
    {
     "data": {
      "text/plain": [
       "-5"
      ]
     },
     "execution_count": 44,
     "metadata": {},
     "output_type": "execute_result"
    }
   ],
   "source": [
    "def solve(n):\n",
    "    res = 0\n",
    "    n = str(n)\n",
    "    for i in range(len(n)):\n",
    "        if i%2 == 0:\n",
    "            res+=int(n[i])\n",
    "        else:\n",
    "            res-=int(n[i])\n",
    "    return res\n",
    "solve(104956)"
   ]
  },
  {
   "cell_type": "code",
   "execution_count": 46,
   "metadata": {},
   "outputs": [
    {
     "data": {
      "text/plain": [
       "True"
      ]
     },
     "execution_count": 46,
     "metadata": {},
     "output_type": "execute_result"
    }
   ],
   "source": [
    "def solve(a,b):\n",
    "    dictionary = set()\n",
    "    for i in range(len(a)):\n",
    "        temp = a[i]\n",
    "        dictionary.add(temp)\n",
    "        for j in range(i+1,len(a)):\n",
    "            temp+=a[j]\n",
    "            dictionary.add(temp)\n",
    "    for word in b:\n",
    "        if word not in dictionary:\n",
    "            return False\n",
    "    return True\n",
    "a = ['one','two','three']\n",
    "b = ['onetwo','one']\n",
    "solve(a,b)"
   ]
  },
  {
   "cell_type": "code",
   "execution_count": 6,
   "metadata": {},
   "outputs": [
    {
     "data": {
      "text/plain": [
       "True"
      ]
     },
     "execution_count": 6,
     "metadata": {},
     "output_type": "execute_result"
    }
   ],
   "source": [
    "def dfs(i,j,obstackles,teleports,m,n):\n",
    "    if i == n-1 and j == m-1:\n",
    "        return True\n",
    "    if i<0 or i>=n or j<0 or j>=m or [i,j] in obstackles:\n",
    "        return False\n",
    "    for teleport in teleports:\n",
    "        if i == teleport[0] and j == teleport[1]:\n",
    "            return dfs(teleport[2],teleport[3],obstackles,teleports,m,n)\n",
    "    return dfs(i,j+1,obstackles,teleports,m,n)\n",
    "def solve(n,m,obstackles,teleports):\n",
    "    return dfs(0,0,obstackles,teleports,m,n)\n",
    "    \n",
    "n = 3\n",
    "m = 4\n",
    "obstackles = [[2,0],[1,0]]\n",
    "teleports = [[0,1,1,1],[1,2,0,2],[0,3,2,1]]\n",
    "solve(n,m,obstackles,teleports)"
   ]
  },
  {
   "cell_type": "code",
   "execution_count": 7,
   "metadata": {},
   "outputs": [
    {
     "ename": "ModuleNotFoundError",
     "evalue": "No module named 'googleapiclient'",
     "output_type": "error",
     "traceback": [
      "\u001b[0;31m---------------------------------------------------------------------------\u001b[0m",
      "\u001b[0;31mModuleNotFoundError\u001b[0m                       Traceback (most recent call last)",
      "\u001b[0;32m<ipython-input-7-9169713c0abc>\u001b[0m in \u001b[0;36m<module>\u001b[0;34m\u001b[0m\n\u001b[1;32m      2\u001b[0m \u001b[0;32mimport\u001b[0m \u001b[0mre\u001b[0m\u001b[0;34m\u001b[0m\u001b[0;34m\u001b[0m\u001b[0m\n\u001b[1;32m      3\u001b[0m \u001b[0;32mfrom\u001b[0m \u001b[0mdatetime\u001b[0m \u001b[0;32mimport\u001b[0m \u001b[0mtimedelta\u001b[0m\u001b[0;34m\u001b[0m\u001b[0;34m\u001b[0m\u001b[0m\n\u001b[0;32m----> 4\u001b[0;31m \u001b[0;32mfrom\u001b[0m \u001b[0mgoogleapiclient\u001b[0m\u001b[0;34m.\u001b[0m\u001b[0mdiscovery\u001b[0m \u001b[0;32mimport\u001b[0m \u001b[0mbuild\u001b[0m\u001b[0;34m\u001b[0m\u001b[0;34m\u001b[0m\u001b[0m\n\u001b[0m\u001b[1;32m      5\u001b[0m \u001b[0;34m\u001b[0m\u001b[0m\n\u001b[1;32m      6\u001b[0m \u001b[0mapi_key\u001b[0m \u001b[0;34m=\u001b[0m \u001b[0mos\u001b[0m\u001b[0;34m.\u001b[0m\u001b[0menviron\u001b[0m\u001b[0;34m.\u001b[0m\u001b[0mget\u001b[0m\u001b[0;34m(\u001b[0m\u001b[0;34m'YT_API_KEY'\u001b[0m\u001b[0;34m)\u001b[0m\u001b[0;34m\u001b[0m\u001b[0;34m\u001b[0m\u001b[0m\n",
      "\u001b[0;31mModuleNotFoundError\u001b[0m: No module named 'googleapiclient'"
     ]
    }
   ],
   "source": [
    "import os\n",
    "import re\n",
    "from datetime import timedelta\n",
    "from googleapiclient.discovery import build\n",
    "\n",
    "api_key = os.environ.get('YT_API_KEY')\n",
    "\n",
    "youtube = build('utube', 'v3', developerKey=api_key)\n",
    "\n",
    "hours_pattern = re.compile(r'(\\d+)H')\n",
    "minutes_pattern = re.compile(r'(\\d+)M')\n",
    "seconds_pattern = re.compile(r'(\\d+)S')\n",
    "\n",
    "total_seconds = 0\n",
    "\n",
    "\n",
    "nextPageToken = None\n",
    "while True:\n",
    "    pl_request = utube.playlistItems().list(\n",
    "        part='contentDetails',\n",
    "        playlistId=\"PL-osiE80TeTt2d9bfVyTiXJA-UTHn6WwU\",\n",
    "        maxResults=50,\n",
    "        pageToken=nextPageToken\n",
    "    )\n",
    "\n",
    "    pl_response = pl_request.execute()\n",
    "\n",
    "    vid_ids = []\n",
    "    for item in pl_response['items']:\n",
    "        vid_ids.append(item['contentDetails']['videoId'])\n",
    "\n",
    "    vid_request = youtube.videos().list(\n",
    "        part=\"contentDetails\",\n",
    "        id=','.join(vid_ids)\n",
    "    )\n",
    "\n",
    "    vid_response = vid_request.execute()\n",
    "\n",
    "    for item in vid_response['items']:\n",
    "        duration = item['contentDetails']['duration']\n",
    "\n",
    "        hours = hours_pattern.search(duration)\n",
    "        minutes = minutes_pattern.search(duration)\n",
    "        seconds = seconds_pattern.search(duration)\n",
    "\n",
    "        hours = int(hours.group(1)) if hours else 0\n",
    "        minutes = int(minutes.group(1)) if minutes else 0\n",
    "        seconds = int(seconds.group(1)) if seconds else 0\n",
    "\n",
    "        video_seconds = timedelta(\n",
    "            hours=hours,\n",
    "            minutes=minutes,\n",
    "            seconds=seconds\n",
    "        ).total_seconds()\n",
    "\n",
    "        total_seconds += video_seconds\n",
    "\n",
    "    nextPageToken = pl_response.get('nextPageToken')\n",
    "\n",
    "    if not nextPageToken:\n",
    "        break\n",
    "\n",
    "total_seconds = int(total_seconds)\n",
    "\n",
    "minutes, seconds = divmod(total_seconds, 60)\n",
    "hours, minutes = divmod(minutes, 60)\n",
    "\n",
    "print(f'{hours}:{minutes}:{seconds}')"
   ]
  },
  {
   "cell_type": "code",
   "execution_count": 3,
   "metadata": {},
   "outputs": [
    {
     "name": "stdout",
     "output_type": "stream",
     "text": [
      "[0, 0, 0, 0, 0, 0, 0, 0]\n"
     ]
    }
   ],
   "source": [
    "def merge(numbers,i,j,k):\n",
    "    mergedSize = k-i+1\n",
    "    mergePos = 0\n",
    "    leftPos = 0\n",
    "    rightPos = 0\n",
    "    mergedNumbers = [0 for i in range(mergedSize)]\n",
    "    leftPos = i\n",
    "    rightPos = j+1\n",
    "    while leftPos<j and rightPos<k:\n",
    "        if numbers[leftPos]<=numbers[rightPos]:\n",
    "            mergedNumbers[mergePos] = numbers[leftPos]\n",
    "            leftPos+=1\n",
    "        else:\n",
    "            mergedNumbers[mergePos] = numbers[rightPos]\n",
    "            rightPos+=1\n",
    "        mergePos+=1\n",
    "    while leftPos<j:\n",
    "        mergedNumbers[mergePos] = numbers[leftPos]\n",
    "        leftPos+=1\n",
    "        mergePos+=1\n",
    "    while rightPos<i:\n",
    "        mergedNumbers[mergePos] = numbers[rightPos]\n",
    "        rightPos += 1\n",
    "        mergePos+=1\n",
    "    for mergePos in range(mergedSize):\n",
    "        numbers[i+mergePos] = mergedNumbers[mergePos]\n",
    "def mergeSort(numbers,i,k):\n",
    "    j = 0\n",
    "    if (i<k):\n",
    "        j = (i+k)//2\n",
    "        mergeSort(numbers,i,j)\n",
    "        mergeSort(numbers,j+1,k)\n",
    "        merge(numbers,i,j,k)\n",
    "arr = [10,2,78,4,45,32,7,11]\n",
    "mergeSort(arr,0,7)\n",
    "print(arr)"
   ]
  },
  {
   "cell_type": "code",
   "execution_count": 31,
   "metadata": {},
   "outputs": [
    {
     "data": {
      "text/plain": [
       "12"
      ]
     },
     "execution_count": 31,
     "metadata": {},
     "output_type": "execute_result"
    }
   ],
   "source": [
    "def gcd(a,b):\n",
    "    if b == 0:\n",
    "        return a\n",
    "    return gcd(b,a%b)\n",
    "def solve(expression):\n",
    "    a1,b1 = expression.split('/')\n",
    "    a1 = a1[1:-1]\n",
    "    b1 = b1[1:-1]\n",
    "    a1 = list(map(int,a1.split('+')))\n",
    "    b1 = list(map(int,b1.split('+')))\n",
    "    a1 = sum(a1)\n",
    "    b1 = sum(b1)\n",
    "    d = gdd(a1,b1)\n",
    "    print(a1,b1,d)\n",
    "gcd(60,48)"
   ]
  },
  {
   "cell_type": "code",
   "execution_count": 29,
   "metadata": {},
   "outputs": [
    {
     "data": {
      "text/plain": [
       "'8/1'"
      ]
     },
     "execution_count": 29,
     "metadata": {},
     "output_type": "execute_result"
    }
   ],
   "source": [
    "def gcd(a,b):\n",
    "    if b == 0:\n",
    "        return a\n",
    "    return gcd(b,a%b)\n",
    "\n",
    "from fractions import Fraction\n",
    "def solve(expression):\n",
    "    a1,b1 = expression.split('/')\n",
    "    a1 = a1[1:-1]\n",
    "    b1 = b1[1:-1]\n",
    "    a1 = list(map(int,a1.split('+')))\n",
    "    b1 = list(map(int,b1.split('+')))\n",
    "    a1 = sum(a1)\n",
    "    b1 = sum(b1)\n",
    "    s = str(Fraction(a1,b1))\n",
    "    if '/' not in s:\n",
    "        return s+'/'+'1'\n",
    "    return s\n",
    "expres = '(1+3+4)/(1)'\n",
    "solve(expres)"
   ]
  },
  {
   "cell_type": "code",
   "execution_count": 47,
   "metadata": {},
   "outputs": [
    {
     "name": "stdout",
     "output_type": "stream",
     "text": [
      "1\n",
      "1\n",
      "1\n",
      "[16, 20]\n",
      "[inf, 1]\n",
      "[inf, 0]\n"
     ]
    }
   ],
   "source": [
    "from copy import deepcopy\n",
    "def maximamize_cheese(grid,n,m):\n",
    "    temp = deepcopy(grid[-1][-1])\n",
    "    print(temp)\n",
    "    if n == 1 and m == 1:\n",
    "        return grid[0][0]\n",
    "    dp = [[ 0 for i in range(m)] for j in range(n)]\n",
    "    dp[0][0] = grid[0][0]\n",
    "    for i in range(n):\n",
    "        for j in range(1,m):\n",
    "            if i == 0:\n",
    "                dp[i][j] = dp[i][j-1] + grid[i][j]\n",
    "    for i in range(1,n):\n",
    "        for j in range(m):\n",
    "            if j == 0:\n",
    "                dp[i][j] = dp[i-1][j] + grid[i][j]\n",
    "    print(temp)\n",
    "    for i in range(n):\n",
    "        for j in range(m):\n",
    "            if i+1<n and j+1<m:\n",
    "                if grid[i+1][j]>grid[i][j+1]:\n",
    "                    dp[i][j] += grid[i+1][j]\n",
    "                    grid[i+1][j] = float(\"inf\")\n",
    "                else:\n",
    "                    dp[i][j]+=grid[i][j+1]\n",
    "                    grid[i][j+1] = float(\"inf\")\n",
    "            elif i+1<n and j+1>=m:\n",
    "                dp[i][j] +=grid[i+1][j]\n",
    "                grid[i+1][j] = float(\"inf\")\n",
    "            elif  i+1>=n and j+1<m:\n",
    "                dp[i][j] += grid[i][j+1]\n",
    "                grid[i][j+1] = float(\"inf\")\n",
    "    print(temp)\n",
    "    grid[-1][-1] = temp            \n",
    "    for row in dp:\n",
    "        print(row)            \n",
    "            \n",
    "grid = [\n",
    "    [6,10],\n",
    "    [10,4],\n",
    "    [9,1]\n",
    "]\n",
    "maximamize_cheese(grid,3,2)"
   ]
  },
  {
   "cell_type": "code",
   "execution_count": 37,
   "metadata": {},
   "outputs": [
    {
     "name": "stdout",
     "output_type": "stream",
     "text": [
      "5\n",
      "2\n",
      "1\n",
      "4\n",
      "2\n",
      "4\n",
      "[4]\n"
     ]
    }
   ],
   "source": [
    "def solve():\n",
    "    x = int(input())\n",
    "    n = int(input())\n",
    "    students = []\n",
    "    for i in range(n):\n",
    "        k = int(input())\n",
    "        s = list(map(int,input().split()))\n",
    "        students.append(s)\n",
    "    print(s)\n",
    "solve()\n",
    "        \n",
    "    \n",
    "    "
   ]
  },
  {
   "cell_type": "code",
   "execution_count": 41,
   "metadata": {},
   "outputs": [
    {
     "name": "stdout",
     "output_type": "stream",
     "text": [
      "40\n"
     ]
    }
   ],
   "source": [
    "def cheesePickup(grid):\n",
    "        m = len(grid)\n",
    "        n = len(grid[0])\n",
    "        dp = [[[0]*n for _ in range(n)] for __ in range(m)]\n",
    "\n",
    "        for row in reversed(range(m)):\n",
    "            for col1 in range(n):\n",
    "                for col2 in range(n):\n",
    "                    result = 0\n",
    "                    result += grid[row][col1]\n",
    "                    if col1 != col2:\n",
    "                        result += grid[row][col2]\n",
    "                    if row != m-1:\n",
    "                        result += max(dp[row+1][new_col1][new_col2]\n",
    "                                      for new_col1 in [col1, col1+1, col1-1]\n",
    "                                      for new_col2 in [col2, col2+1, col2-1]\n",
    "                                      if 0 <= new_col1 < n and 0 <= new_col2 < n)\n",
    "                    dp[row][col1][col2] = result\n",
    "        return dp[0][0][n-1]\n",
    "        \n",
    "grid = [[6,10],[10,4],[9,1]]\n",
    "print(cheesePickup(grid))"
   ]
  },
  {
   "cell_type": "code",
   "execution_count": 1,
   "metadata": {},
   "outputs": [
    {
     "name": "stdout",
     "output_type": "stream",
     "text": [
      "[-1, -2, -2, 3]\n"
     ]
    },
    {
     "data": {
      "text/plain": [
       "[2, 3]"
      ]
     },
     "execution_count": 1,
     "metadata": {},
     "output_type": "execute_result"
    }
   ],
   "source": [
    "def findErrorNums(nums):\n",
    "    res = []\n",
    "    for i in range(len(nums)):\n",
    "        if nums[abs(nums[i])-1]>0:\n",
    "            nums[abs(nums[i])-1] = -nums[abs(nums[i])-1]\n",
    "        else:\n",
    "            res.append(abs(nums[i]))\n",
    "    print(nums)\n",
    "    for i in range(len(nums)):\n",
    "        if nums[i]>0:\n",
    "            res.append(i+1)\n",
    "    return res\n",
    "nums = [1,2,2,3]\n",
    "findErrorNums(nums)"
   ]
  },
  {
   "cell_type": "code",
   "execution_count": null,
   "metadata": {},
   "outputs": [],
   "source": [
    "import heapq\n",
    "def solve(capacity,foreground,background):\n",
    "    foreground.sort(key = lambda x:x[1])\n",
    "    background.sort(key = lambda x:x[1])\n",
    "    background = background[::-1]\n",
    "    res = [[]]\n",
    "    i = 0\n",
    "    j = 0\n",
    "    while i<len(foreground) and j<len(background):\n",
    "        foregound[i][0]\n",
    "    \n",
    "        \n",
    "        "
   ]
  },
  {
   "cell_type": "code",
   "execution_count": 2,
   "metadata": {},
   "outputs": [],
   "source": [
    "a,b = [2,3]"
   ]
  },
  {
   "cell_type": "code",
   "execution_count": 4,
   "metadata": {},
   "outputs": [
    {
     "data": {
      "text/plain": [
       "[]"
      ]
     },
     "execution_count": 4,
     "metadata": {},
     "output_type": "execute_result"
    }
   ],
   "source": [
    "a\n",
    "\n",
    "[[]][0]"
   ]
  },
  {
   "cell_type": "code",
   "execution_count": 1,
   "metadata": {},
   "outputs": [
    {
     "data": {
      "text/plain": [
       "11"
      ]
     },
     "execution_count": 1,
     "metadata": {},
     "output_type": "execute_result"
    }
   ],
   "source": [
    "def solve(arr):\n",
    "    sum_here = 0\n",
    "    max_so_far = float(\"-inf\")\n",
    "    for i in range(len(arr)):\n",
    "        sum_here+=arr[i]\n",
    "        if sum_here <=arr[i]:\n",
    "            sum_here = arr[i]\n",
    "        elif sum_here>max_so_far:\n",
    "            max_so_far = sum_here\n",
    "    return max_so_far\n",
    "arr = [0,2,3,-2,8]\n",
    "solve(arr)"
   ]
  },
  {
   "cell_type": "code",
   "execution_count": 1,
   "metadata": {},
   "outputs": [],
   "source": [
    "add = lambda a,b:a+b"
   ]
  },
  {
   "cell_type": "code",
   "execution_count": 2,
   "metadata": {},
   "outputs": [
    {
     "data": {
      "text/plain": [
       "5"
      ]
     },
     "execution_count": 2,
     "metadata": {},
     "output_type": "execute_result"
    }
   ],
   "source": [
    "add(2,3)"
   ]
  },
  {
   "cell_type": "code",
   "execution_count": 5,
   "metadata": {},
   "outputs": [],
   "source": [
    "eo = lambda n:n%2==0\n"
   ]
  },
  {
   "cell_type": "code",
   "execution_count": 6,
   "metadata": {},
   "outputs": [
    {
     "data": {
      "text/plain": [
       "True"
      ]
     },
     "execution_count": 6,
     "metadata": {},
     "output_type": "execute_result"
    }
   ],
   "source": [
    "eo(14)"
   ]
  },
  {
   "cell_type": "code",
   "execution_count": 9,
   "metadata": {},
   "outputs": [
    {
     "name": "stdout",
     "output_type": "stream",
     "text": [
      "1,2;2,3\n",
      "1 2\n",
      "2 3\n"
     ]
    }
   ],
   "source": [
    "def solve(arr,curr):\n",
    "        pp,ch = int(arr[0]),int(arr[1])\n",
    "        if pp == ch:\n",
    "            return \"ZERO\"\n",
    "        elif int(ch)<int(pp):\n",
    "            result.append(\"ERROR\")\n",
    "        else:\n",
    "            temp = {}\n",
    "            rem = int(pp)-int(ch)\n",
    "            \n",
    "    return ','.join(map(str,result))\n",
    "arr = list(map(str,input().split(\";\")))\n",
    "curr = {'.01':'PENNY','.05':'NICKEL','.10':'DIME'}\n",
    "solve(arr,curr)\n"
   ]
  },
  {
   "cell_type": "code",
   "execution_count": 1,
   "metadata": {},
   "outputs": [
    {
     "name": "stdout",
     "output_type": "stream",
     "text": [
      "height :  3\n"
     ]
    }
   ],
   "source": [
    "class Node:\n",
    "    def __init__(self, key):\n",
    "        self.data = key\n",
    "        self.left = None\n",
    "        self.right = None\n",
    "class UserMainMethod:\n",
    "    def buildTree(self,level, ino):\n",
    "        if ino:\n",
    "            for i in range(0, len(level)):\n",
    "                if level[i] in ino: \n",
    "                    node = Node(level[i]) \n",
    "                    io_index = ino.index(level[i])\n",
    "                    break\n",
    "            if not ino:\n",
    "                return node\n",
    "            node.left = self.buildTree(level, ino[0:io_index])\n",
    "            node.right = self.buildTree(level, ino[io_index + 1:len(ino)])\n",
    "            return node\n",
    "    def height(self,root):\n",
    "        if root is None:\n",
    "            return 0 \n",
    "        else:\n",
    "            return max(self.height(root.left),self.height(root.right))+1\n",
    "    @classmethod\n",
    "    def minHeight(cls,input1,input2,input3):\n",
    "        global root\n",
    "        root = self.buildTree(input1, input2)\n",
    "        return self.height(root)\n",
    "\n",
    "\n",
    "inorder = [4,2,5,1,6,3,7]\n",
    "levelorder = [1,2,3,4,5,6,7]\n",
    "print(\"height : \",minHeight(levelorder,inorder,len(inorder)))"
   ]
  },
  {
   "cell_type": "code",
   "execution_count": 6,
   "metadata": {},
   "outputs": [
    {
     "data": {
      "text/plain": [
       "3"
      ]
     },
     "execution_count": 6,
     "metadata": {},
     "output_type": "execute_result"
    }
   ],
   "source": [
    "import math\n",
    "int(math.log2(5))+1"
   ]
  },
  {
   "cell_type": "code",
   "execution_count": 8,
   "metadata": {},
   "outputs": [
    {
     "name": "stdout",
     "output_type": "stream",
     "text": [
      "2\n",
      "3\n",
      "2\n",
      "10\n",
      "91\n"
     ]
    }
   ],
   "source": [
    "import math\n",
    "for i in range(int(input())):\n",
    "    c = int(input())\n",
    "    i = 1\n",
    "    x = 0\n",
    "    while x<=c:\n",
    "        x = 2**i\n",
    "        i+=1\n",
    "    i-=2\n",
    "    num_of_bits = int(math.log2(c))+1\n",
    "    temp = ((1<<num_of_bits)-1)^c\n",
    "    temp+=2**i\n",
    "    temp2 = 2**i -1\n",
    "    print(temp*temp2)"
   ]
  },
  {
   "cell_type": "code",
   "execution_count": 4,
   "metadata": {},
   "outputs": [
    {
     "name": "stdout",
     "output_type": "stream",
     "text": [
      "1\n",
      "3\n",
      "2 2 3\n",
      "Second\n"
     ]
    }
   ],
   "source": [
    "def check(arr):\n",
    "    arr.sort()\n",
    "    for i in range(1,len(arr)+1):\n",
    "        if arr[i-1]>i:\n",
    "            return True\n",
    "    return False\n",
    "for i in range(int(input())):\n",
    "    n = int(input())\n",
    "    s = list(map(int,input().strip().split()))\n",
    "    if check(s):\n",
    "        print(\"Second\")\n",
    "    else:\n",
    "        s.sort()\n",
    "        result = []\n",
    "        for i in range(len(s)):\n",
    "            result.append(abs(s[i]-i-1))\n",
    "        result = sum(result)\n",
    "        if result%2 == 0:\n",
    "            print(\"Second\")\n",
    "        elif result%2 != 0:\n",
    "            print(\"First\")"
   ]
  },
  {
   "cell_type": "code",
   "execution_count": null,
   "metadata": {},
   "outputs": [],
   "source": [
    "for _ in range(int(input())):\n",
    "    n,e,h,a,b,c = map(int,input().split())\n",
    "    result = -1\n",
    "    # only omelettes\n",
    "    if 2*n<=e:\n",
    "        pass\n",
    "    # only milkshakes\n",
    "    if 3*n<=h:\n",
    "        pass\n",
    "    #only cakes\n",
    "    if n<=e and n<=h:\n",
    "        pass\n",
    "    # omelette and shakes\n",
    "    if e//2>=1 and e//2>= int((3*n - h)//3) +1:\n",
    "        pass\n",
    "    #omelette and cakes\n",
    "    if e-n>=1 and e+h>=2*n:\n",
    "        pass\n",
    "    #milk shakes and cakes\n",
    "    if (h-n)//2 >=1 and (h-n)//2 >= n-e:\n",
    "        pass\n",
    "    # all\n",
    "    if e>=3 and h>=4 and n>=3:\n",
    "        pass\n",
    "    else:\n",
    "        print(-1)"
   ]
  }
 ],
 "metadata": {
  "kernelspec": {
   "display_name": "Python 3",
   "language": "python",
   "name": "python3"
  },
  "language_info": {
   "codemirror_mode": {
    "name": "ipython",
    "version": 3
   },
   "file_extension": ".py",
   "mimetype": "text/x-python",
   "name": "python",
   "nbconvert_exporter": "python",
   "pygments_lexer": "ipython3",
   "version": "3.8.3"
  }
 },
 "nbformat": 4,
 "nbformat_minor": 4
}
