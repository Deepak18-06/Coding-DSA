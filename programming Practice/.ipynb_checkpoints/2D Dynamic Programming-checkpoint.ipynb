{
 "cells": [
  {
   "cell_type": "markdown",
   "metadata": {},
   "source": [
    "# Knapsack 0-1"
   ]
  },
  {
   "cell_type": "code",
   "execution_count": 4,
   "metadata": {},
   "outputs": [
    {
     "data": {
      "text/plain": [
       "220"
      ]
     },
     "execution_count": 4,
     "metadata": {},
     "output_type": "execute_result"
    }
   ],
   "source": [
    "def knapsack(W,wt,val,n,dp):\n",
    "    if n == 0 or W == 0:\n",
    "        return 0\n",
    "    if dp[n][W] != -1:\n",
    "        return dp[n][W]\n",
    "    if wt[n-1]<=W:\n",
    "        dp[n][W] = max(val[n-1]+knapsack(W-wt[n-1],wt,val,n-1,dp),knapsack(W,wt,val,n-1,dp))\n",
    "        return dp[n][W]\n",
    "    else:\n",
    "        dp[n][W] = knapsack(W,wt,val,n-1,dp)\n",
    "        return dp[n][W]\n",
    "    \n",
    "val = [60,100,120]\n",
    "wt =  [10,20,30]\n",
    "W = 50\n",
    "n = len(val)\n",
    "dp = [[-1 for i in range(W+1)] for j in range(n+1)]\n",
    "knapsack(W,wt,val,n,dp)\n",
    "# recursive\n",
    "# Time: O(2^n)\n",
    "\n",
    "# memoization\n",
    "# Time: O(n*W)\n",
    "# Space : O(n*W)"
   ]
  },
  {
   "cell_type": "code",
   "execution_count": 7,
   "metadata": {},
   "outputs": [
    {
     "data": {
      "text/plain": [
       "220"
      ]
     },
     "execution_count": 7,
     "metadata": {},
     "output_type": "execute_result"
    }
   ],
   "source": [
    "def knapsackTabulation(W,wt,val,n):\n",
    "    dp = [[ 0 for i in range(W+1)] for j in range(n+1)]\n",
    "    for i in range(1,n+1):\n",
    "        for w in range(1,W+1):\n",
    "            if wt[i-1] <= w:\n",
    "                dp[i][w] = max(val[i-1]+dp[i-1][w-wt[i-1]],dp[i-1][w])\n",
    "            else:\n",
    "                dp[i][w] = dp[i-1][w]\n",
    "    return dp[n][W]\n",
    "val = [60,100,120]\n",
    "wt =  [10,20,30]\n",
    "W = 50\n",
    "n = len(val)\n",
    "knapsackTabulation(W,wt,val,n)"
   ]
  },
  {
   "cell_type": "markdown",
   "metadata": {},
   "source": [
    "# Subset Sum\n",
    "[subset](https://www.geeksforgeeks.org/subset-sum-problem-dp-25/)"
   ]
  },
  {
   "cell_type": "code",
   "execution_count": 18,
   "metadata": {},
   "outputs": [
    {
     "data": {
      "text/plain": [
       "False"
      ]
     },
     "execution_count": 18,
     "metadata": {},
     "output_type": "execute_result"
    }
   ],
   "source": [
    "def subsetSum(arr,target,n):\n",
    "    if n == 0 and target != 0:\n",
    "        return False\n",
    "    if target == 0:\n",
    "        return True\n",
    "    if arr[n-1]<=target:\n",
    "        return subsetSum(arr,target-arr[n-1],n-1) or subsetSum(arr,target,n-1)\n",
    "    else:\n",
    "        return subsetSum(arr,target,n-1)\n",
    "arr = [3, 34, 4, 12, 5, 2]\n",
    "target = 30\n",
    "n = len(arr)\n",
    "subsetSum(arr,target,n)"
   ]
  },
  {
   "cell_type": "code",
   "execution_count": 19,
   "metadata": {},
   "outputs": [
    {
     "data": {
      "text/plain": [
       "0"
      ]
     },
     "execution_count": 19,
     "metadata": {},
     "output_type": "execute_result"
    }
   ],
   "source": [
    "def subSetSumIterative(arr,target,n):\n",
    "    dp = [[0 for i in range(target+1)] for j in range(len(arr)+1)]\n",
    "    for i in range(len(arr)+1):\n",
    "        for j in range(target+1):\n",
    "            if j == 0:\n",
    "                dp[i][j] = 1\n",
    "    for i in range(1,len(arr)+1):\n",
    "        for j in range(1,target+1):\n",
    "            if arr[i-1]<=j:\n",
    "                dp[i][j] = dp[i-1][j-arr[i-1]] or dp[i-1][j]\n",
    "            else:\n",
    "                dp[i][j] = dp[i-1][j]\n",
    "    return dp[n][target]\n",
    "arr = [3, 34, 4, 12, 5, 2]\n",
    "target = 30\n",
    "n = len(arr)\n",
    "subSetSumIterative(arr,target,n)"
   ]
  },
  {
   "cell_type": "markdown",
   "metadata": {},
   "source": [
    "# Coin Change\n",
    "[Question](https://leetcode.com/problems/coin-change/)"
   ]
  },
  {
   "cell_type": "code",
   "execution_count": 15,
   "metadata": {},
   "outputs": [
    {
     "name": "stdout",
     "output_type": "stream",
     "text": [
      "[0, 1, 2, 3, 4, 5, 6, 7, 8, 9, 10, 11]\n",
      "[0, 1, 1, 2, 2, 3, 3, 4, 4, 5, 5, 6]\n",
      "[0, 1, 1, 2, 2, 1, 2, 2, 3, 3, 2, 3]\n"
     ]
    },
    {
     "data": {
      "text/plain": [
       "3"
      ]
     },
     "execution_count": 15,
     "metadata": {},
     "output_type": "execute_result"
    }
   ],
   "source": [
    "def coinChange(coins, amount: int) -> int:\n",
    "    dp = [float('inf')] * (amount + 1)\n",
    "    dp[0] = 0\n",
    "\n",
    "    for coin in coins:\n",
    "        for x in range(coin, amount + 1):\n",
    "            dp[x] = min(dp[x], dp[x - coin] + 1)\n",
    "        print(dp)\n",
    "    return dp[amount] if dp[amount] != float('inf') else -1 \n",
    "coinChange([1,2,5],11)"
   ]
  },
  {
   "cell_type": "markdown",
   "metadata": {},
   "source": [
    "# Triangle\n",
    "[Question](https://leetcode.com/problems/triangle/)"
   ]
  },
  {
   "cell_type": "code",
   "execution_count": 1,
   "metadata": {},
   "outputs": [],
   "source": [
    "def triangleDp(triangle):\n",
    "    dp = copy.deepcopy(triangle[-1])\n",
    "    for i in range(len(triangle)-2,-1,-1):\n",
    "        for j in range(i+1):\n",
    "            dp[j] = triangle[i][j] + min(dp[j],dp[j+1])\n",
    "    return dp[0]\n",
    "               "
   ]
  },
  {
   "cell_type": "code",
   "execution_count": 5,
   "metadata": {},
   "outputs": [
    {
     "name": "stdout",
     "output_type": "stream",
     "text": [
      "0\n"
     ]
    },
    {
     "data": {
      "text/plain": [
       "1"
      ]
     },
     "execution_count": 5,
     "metadata": {},
     "output_type": "execute_result"
    }
   ],
   "source": [
    "# not from dynamic Programming\n",
    "def song(time):\n",
    "    R = [0 for i in range(60)]\n",
    "    for i in range(len(time)):\n",
    "        r = time[i]%60\n",
    "        R[r]+=1\n",
    "    res = R[0]\n",
    "    for i in range(1,30):\n",
    "        res+=R[i]*R[60-i]\n",
    "    res+=R[30]//2\n",
    "    print(R[59-20])\n",
    "    return res\n",
    "time = [30,20,150,100,40]\n",
    "song(time)"
   ]
  },
  {
   "cell_type": "code",
   "execution_count": null,
   "metadata": {},
   "outputs": [],
   "source": []
  }
 ],
 "metadata": {
  "kernelspec": {
   "display_name": "Python 3",
   "language": "python",
   "name": "python3"
  },
  "language_info": {
   "codemirror_mode": {
    "name": "ipython",
    "version": 3
   },
   "file_extension": ".py",
   "mimetype": "text/x-python",
   "name": "python",
   "nbconvert_exporter": "python",
   "pygments_lexer": "ipython3",
   "version": "3.8.3"
  }
 },
 "nbformat": 4,
 "nbformat_minor": 4
}
