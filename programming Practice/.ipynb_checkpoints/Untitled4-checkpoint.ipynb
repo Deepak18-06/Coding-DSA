{
 "cells": [
  {
   "cell_type": "code",
   "execution_count": 8,
   "metadata": {},
   "outputs": [
    {
     "name": "stdout",
     "output_type": "stream",
     "text": [
      "29 23\n"
     ]
    }
   ],
   "source": [
    "import copy\n",
    "def prime(n):\n",
    "    if n<=1:\n",
    "        return False\n",
    "    for i in range(2,n):\n",
    "        if n%i == 0:\n",
    "            return False\n",
    "    return True\n",
    "def solve(num):\n",
    "    num1 = copy.deepcopy(num) # 25\n",
    "    num2 = copy.deepcopy(num)\n",
    "    \n",
    "    while True:\n",
    "        if prime(num1):\n",
    "            first = num1\n",
    "            break\n",
    "        num1+=1\n",
    "    while True:\n",
    "        if prime(num2):\n",
    "            second = num2\n",
    "            break\n",
    "        num2-=1\n",
    "    distFromFirst = abs(num-first)\n",
    "    distFromSecond = abs(num-second)\n",
    "    if distFromFirst == distFromSecond:\n",
    "        print(first,second)\n",
    "    elif distFromFirst<distFromSecond:\n",
    "        print(first)\n",
    "    else:\n",
    "        print(second)\n",
    "solve(26)"
   ]
  },
  {
   "cell_type": "code",
   "execution_count": 9,
   "metadata": {},
   "outputs": [],
   "source": [
    "array = [1, 4, 7, 3, 1, 9, 8, 5, 4, 1]"
   ]
  },
  {
   "cell_type": "code",
   "execution_count": 11,
   "metadata": {},
   "outputs": [
    {
     "data": {
      "text/plain": [
       "8"
      ]
     },
     "execution_count": 11,
     "metadata": {},
     "output_type": "execute_result"
    }
   ],
   "source": [
    "def solve(arr):\n",
    "    # 0 1 2 3 4 5 6\n",
    "    # 1 4 7 3 1\n",
    "    dictionary = {}\n",
    "    result = 0\n",
    "    for i in range(0,len(arr)):\n",
    "        if arr[i] not in dictionary:\n",
    "            dictionary[arr[i]] = i\n",
    "        else:\n",
    "            length = i-dictionary[arr[i]]-1\n",
    "            result = max(result,length)\n",
    "    return result\n",
    "solve(array)"
   ]
  },
  {
   "cell_type": "code",
   "execution_count": 1,
   "metadata": {},
   "outputs": [
    {
     "name": "stdout",
     "output_type": "stream",
     "text": [
      "[]\n"
     ]
    }
   ],
   "source": [
    "arr = [1,2,3,4,5]\n",
    "print(arr[-3:])"
   ]
  },
  {
   "cell_type": "code",
   "execution_count": 16,
   "metadata": {},
   "outputs": [
    {
     "name": "stdout",
     "output_type": "stream",
     "text": [
      "3\n"
     ]
    }
   ],
   "source": [
    "arr = [3,  5,  0, 1,  8, 2,-2]\n",
    "#      [3,3+5,3+5+0]\n",
    "#     [3   8   8  9   17 19 17]\n",
    "#     [17  14  9  9   8   0  -2 ]   \n",
    "def solve1(arr):\n",
    "    for i in range(len(arr)):\n",
    "        if sum(arr[:i+1]) == sum(arr[i:]):\n",
    "            print(i)\n",
    "            break\n",
    "            \n",
    "def solve(arr):\n",
    "    presum1 =[arr[0]]\n",
    "    presum2 = [arr[-1]]\n",
    "    # forward runnig sum\n",
    "    for i in range(1,len(arr)):\n",
    "        presum1.append(presum1[-1]+arr[i])\n",
    "    # backward running sum\n",
    "    for i in range(len(arr)-2,-1,-1):\n",
    "        presum2.append(presum2[-1]+arr[i])\n",
    "    presum2 = presum2[::-1]\n",
    "    for i in range(len(arr)):\n",
    "        if presum1[i] == presum2[i]:\n",
    "            print(i)\n",
    "            break\n",
    "solve1(arr)\n",
    "    "
   ]
  },
  {
   "cell_type": "code",
   "execution_count": 20,
   "metadata": {},
   "outputs": [
    {
     "name": "stdout",
     "output_type": "stream",
     "text": [
      "asc\n"
     ]
    }
   ],
   "source": [
    "# 1378 - asc order\n",
    "# 753 - desc order\n",
    "# 2563 - no order\n",
    "# 1 3 7 8\n",
    "#  1 3 7 8 \n",
    "# prev 3\n",
    "# current 1\n",
    "# num = 1\n",
    "def solve(num):\n",
    "    prev =num%10\n",
    "    num = num//10\n",
    "    while num:\n",
    "        current = num%10\n",
    "        num = num//10\n",
    "        if num == 0:\n",
    "            return 1\n",
    "        if current<prev:\n",
    "            prev = current\n",
    "            continue\n",
    "        else:\n",
    "            break\n",
    "    while num1:\n",
    "        current = num%10\n",
    "        num = num//10\n",
    "        if num == 0:\n",
    "            return 2\n",
    "        if current>prev:\n",
    "            prev = current\n",
    "            continue\n",
    "        else:\n",
    "            break\n",
    "    return 0\n",
    "k = solve(1378)\n",
    "if k == 1:\n",
    "    print(\"asc\")\n",
    "elif k == 2:\n",
    "    print(\"desc\")\n",
    "else:\n",
    "    print(\"no order\")\n",
    "        "
   ]
  },
  {
   "cell_type": "code",
   "execution_count": 26,
   "metadata": {},
   "outputs": [
    {
     "name": "stdout",
     "output_type": "stream",
     "text": [
      "yes\n"
     ]
    }
   ],
   "source": [
    "[\"spot\",\"pots\", \"tops\",\"stop\"]\n",
    "s1 = \"spot\"\n",
    "s2 = \"pots\" \n",
    "# {s:0,p:0,o:0,t:0}\n",
    "def solve(s1,s2):\n",
    "    if len(s1) != len(s2):\n",
    "        print(\"no\")\n",
    "        return\n",
    "    dictionary = {}\n",
    "    for char in s1:\n",
    "        if char not in dictionary:\n",
    "            dictionary[char] = 1\n",
    "        else:\n",
    "            dictionary[char]+=1\n",
    "    for char in s2:\n",
    "        if char in dictionary:\n",
    "            dictionary[char]-=1\n",
    "        else:\n",
    "            print(\"no\")\n",
    "            return\n",
    "    for key,val in dictionary.items():\n",
    "        if val != 0:\n",
    "            print(\"no\")\n",
    "            return\n",
    "    print(\"yes\")\n",
    "solve(s1,s2)"
   ]
  },
  {
   "cell_type": "code",
   "execution_count": 7,
   "metadata": {},
   "outputs": [],
   "source": [
    "# I am assuming the a Node class like this also exist in the question\n",
    "class Node:\n",
    "    def __init__(self,item,next_node):\n",
    "        self.item = item\n",
    "        self.next_node = next_node\n",
    "    def get_next(self):\n",
    "        return self.next_node\n",
    "    def get_data(self):\n",
    "        return self.item\n",
    "\n",
    "# Your question starts from here\n",
    "class LinkedList:\n",
    "    def __init__(self):\n",
    "        self.__head = None\n",
    "    def add(self,item):\n",
    "        new_node = Node(item,self.__head)\n",
    "        self.__head = new_node\n",
    "    def size(self):\n",
    "        current = self.__head\n",
    "        count = 0\n",
    "        while current != None:\n",
    "            count = count + 1\n",
    "            current = current.get_next()\n",
    "        return count\n",
    "    def is_empty(self):\n",
    "        return self.__head == None\n",
    "    def __str__(self):\n",
    "        result = \"\"\n",
    "        if self.__head != None:\n",
    "            current = self.__head\n",
    "            while current != None:\n",
    "                result  = result + str(current.get_data()) + \", \"\n",
    "                current = current.get_next()\n",
    "        return '[' + result[:-2] + ']'\n",
    "\n",
    "#The  following function you were asked to make \n",
    "    def add_sorted_descending(self,value):\n",
    "        # add the current value to existing linked list\n",
    "        self.add(value)\n",
    "        \n",
    "        # Now here we will sort the existing Linked List\n",
    "        \n",
    "        #Node current will point to head  \n",
    "        current = self.__head;  \n",
    "        index = None;  \n",
    "          \n",
    "        if(self.__head == None):  \n",
    "            return;  \n",
    "        else:  \n",
    "            while(current != None):  \n",
    "                #Node index will point to node next to current  \n",
    "                index = current.get_next();  \n",
    "                  \n",
    "                while(index != None):  \n",
    "                    #If current node's data is smaller than index's node data, swap the data between them  \n",
    "                    if(current.get_data() < index.get_data()):  \n",
    "                        temp = current.get_data();  \n",
    "                        current.item = index.get_data();  \n",
    "                        index.item = temp;  \n",
    "                    index = index.get_next();  \n",
    "                current = current.get_next();"
   ]
  },
  {
   "cell_type": "code",
   "execution_count": 8,
   "metadata": {},
   "outputs": [
    {
     "name": "stdout",
     "output_type": "stream",
     "text": [
      "[cherry, banana, apple]\n"
     ]
    }
   ],
   "source": [
    "fruit = LinkedList()\n",
    "fruit.add_sorted_descending('banana')\n",
    "fruit.add_sorted_descending('cherry')\n",
    "fruit.add_sorted_descending('apple')\n",
    "print(fruit)"
   ]
  },
  {
   "cell_type": "code",
   "execution_count": 5,
   "metadata": {},
   "outputs": [
    {
     "name": "stdout",
     "output_type": "stream",
     "text": [
      "3\n",
      "1 aN\n",
      "no\n",
      "2 ab NO\n",
      "Yes\n",
      "3 A N D\n",
      "no\n"
     ]
    }
   ],
   "source": [
    "for _ in range(int(input())):\n",
    "    arr = input().split()\n",
    "    string = arr[1:]\n",
    "    k = int(arr[0])\n",
    "    def first(word):\n",
    "        for char in word:\n",
    "            if not 'a'<=char<='m':\n",
    "                return False\n",
    "        return True\n",
    "    def second(word):\n",
    "        for char in word:\n",
    "            if not 'N'<= char <= 'Z':\n",
    "                return False\n",
    "        return True\n",
    "    def check(string):\n",
    "        for word in string:\n",
    "            if not (first(word) or second(word)):\n",
    "                return False\n",
    "        return True\n",
    "    k = check(string)\n",
    "    if k:\n",
    "        print(\"Yes\")\n",
    "    else:\n",
    "        print(\"No\")\n",
    "        "
   ]
  },
  {
   "cell_type": "code",
   "execution_count": 4,
   "metadata": {},
   "outputs": [
    {
     "name": "stdout",
     "output_type": "stream",
     "text": [
      "yes\n"
     ]
    }
   ],
   "source": [
    "if 'a' < 'k' < 'n':\n",
    "    print(\"yes\")"
   ]
  },
  {
   "cell_type": "code",
   "execution_count": 9,
   "metadata": {},
   "outputs": [
    {
     "name": "stdout",
     "output_type": "stream",
     "text": [
      "3\n",
      "1 1 1\n",
      "1\n",
      "0 \n",
      "1 1 2\n",
      "1 1\n",
      "1 1\n",
      "5 5 10\n",
      "2 5 2 5 2 4 10 10 10 10\n",
      "2 2 5\n"
     ]
    }
   ],
   "source": [
    "for _ in range(int(input())):\n",
    "    n,m,k = map(int,input().split())\n",
    "    l = list(map(int,input().split()))\n",
    "    counter = {}\n",
    "    res = []\n",
    "    count = 0\n",
    "    for num in l:\n",
    "        if num not in counter:\n",
    "            counter[num] = 1\n",
    "        else:\n",
    "            counter[num]+=1\n",
    "    for key,value in counter.items():\n",
    "        if key<=n and value>1:\n",
    "            res.append(key)\n",
    "    res.sort()\n",
    "    print(len(res),' '.join(map(str,res)))\n",
    "            \n",
    "    "
   ]
  },
  {
   "cell_type": "code",
   "execution_count": 7,
   "metadata": {},
   "outputs": [
    {
     "ename": "ModuleNotFoundError",
     "evalue": "No module named 'Collections'",
     "output_type": "error",
     "traceback": [
      "\u001b[0;31m---------------------------------------------------------------------------\u001b[0m",
      "\u001b[0;31mModuleNotFoundError\u001b[0m                       Traceback (most recent call last)",
      "\u001b[0;32m<ipython-input-7-54c7c2664f03>\u001b[0m in \u001b[0;36m<module>\u001b[0;34m\u001b[0m\n\u001b[0;32m----> 1\u001b[0;31m \u001b[0;32mfrom\u001b[0m \u001b[0mCollections\u001b[0m \u001b[0;32mimport\u001b[0m \u001b[0mCounter\u001b[0m\u001b[0;34m\u001b[0m\u001b[0;34m\u001b[0m\u001b[0m\n\u001b[0m",
      "\u001b[0;31mModuleNotFoundError\u001b[0m: No module named 'Collections'"
     ]
    }
   ],
   "source": [
    "from Collections import Counter"
   ]
  },
  {
   "cell_type": "code",
   "execution_count": 11,
   "metadata": {},
   "outputs": [
    {
     "name": "stdout",
     "output_type": "stream",
     "text": [
      "3\n",
      "1 10 10\n",
      "0 10\n",
      "NO\n",
      "2 2 10\n",
      "0 5\n",
      "7 10\n",
      "YES\n",
      "2 2 100\n",
      "0 5\n",
      "5 10\n",
      "YES\n"
     ]
    }
   ],
   "source": [
    "for _ in range(int(input())):\n",
    "    n,k,f = map(int,input().split())\n",
    "    intervals = []\n",
    "    for i in range(n):\n",
    "        s,e = map(int,input().split())\n",
    "        intervals.append([s,e])\n",
    "    def merge(intervals):\n",
    "        intervals.sort(key = lambda x:x[0])\n",
    "        i=1\n",
    "        while i<len(intervals):\n",
    "            if intervals[i][0] <= intervals[i-1][1]:\n",
    "                intervals[i-1][0] = min(intervals[i][0],intervals[i-1][0])\n",
    "                intervals[i-1][1] = max(intervals[i][1],intervals[i-1][1])\n",
    "                del intervals[i]\n",
    "            else:\n",
    "                i+=1\n",
    "        return intervals\n",
    "    intervals = merge(intervals)\n",
    "    for i in range(len(intervals)):\n",
    "        f = f - (intervals[i][1]-intervals[i][0])\n",
    "    if f>=k:\n",
    "        print(\"YES\")\n",
    "    else:\n",
    "        print(\"NO\")\n",
    "\n",
    "    \n",
    "    "
   ]
  },
  {
   "cell_type": "code",
   "execution_count": 17,
   "metadata": {},
   "outputs": [
    {
     "name": "stdout",
     "output_type": "stream",
     "text": [
      "3\n",
      "2 2\n",
      "1 2\n",
      "2\n",
      "2 3\n",
      "1 2 1\n",
      "2\n",
      "3 6\n",
      "1 1 1 3 2 2\n",
      "4\n"
     ]
    }
   ],
   "source": [
    "from copy import deepcopy\n",
    "for _ in range(int(input())):\n",
    "    n,m = map(int,input().split())\n",
    "    arr = list(map(int,input().split()))\n",
    "    mySet = {i for i in range(1,n+1)}\n",
    "    def solve(arr,Set,popped):\n",
    "        if Set == mySet:\n",
    "            return popped\n",
    "        element1 = arr[0]\n",
    "        element2 = arr[-1]\n",
    "        Set1 = Set.union({element1})\n",
    "        Set2 = Set.union({element2})\n",
    "        return min(solve(arr[1:],Set1,popped+1),\n",
    "                   solve(arr[:-1],Set2,popped+1))\n",
    "    S = set()\n",
    "    result = solve(arr,S,0)\n",
    "    print(result)\n",
    "    "
   ]
  },
  {
   "cell_type": "code",
   "execution_count": 13,
   "metadata": {},
   "outputs": [],
   "source": [
    "k = set()\n",
    "k.add(1)"
   ]
  },
  {
   "cell_type": "code",
   "execution_count": 15,
   "metadata": {},
   "outputs": [],
   "source": [
    "def solve(s):\n",
    "    return s.add(1)\n",
    "k = set()\n",
    "solve(k)"
   ]
  },
  {
   "cell_type": "code",
   "execution_count": 18,
   "metadata": {},
   "outputs": [
    {
     "data": {
      "text/plain": [
       "{1}"
      ]
     },
     "execution_count": 18,
     "metadata": {},
     "output_type": "execute_result"
    }
   ],
   "source": [
    "k"
   ]
  },
  {
   "cell_type": "code",
   "execution_count": 19,
   "metadata": {},
   "outputs": [],
   "source": [
    "k = k.union({1,2})"
   ]
  },
  {
   "cell_type": "code",
   "execution_count": 20,
   "metadata": {},
   "outputs": [
    {
     "data": {
      "text/plain": [
       "{1, 2}"
      ]
     },
     "execution_count": 20,
     "metadata": {},
     "output_type": "execute_result"
    }
   ],
   "source": [
    "k"
   ]
  },
  {
   "cell_type": "code",
   "execution_count": null,
   "metadata": {},
   "outputs": [],
   "source": [
    "for _ in range(int(input())):\n",
    "    n,q = map(int,input().split())\n",
    "    "
   ]
  },
  {
   "cell_type": "code",
   "execution_count": 16,
   "metadata": {},
   "outputs": [
    {
     "data": {
      "text/plain": [
       "['a1 alps cow bar', 'mi2 jog mid pet', 'wz3 34 54 398', 'x4 45 21 7']"
      ]
     },
     "execution_count": 16,
     "metadata": {},
     "output_type": "execute_result"
    }
   ],
   "source": [
    "def isPrime(orderID2):\n",
    "    for word in orderID2:\n",
    "        if not word.isalpha():\n",
    "            return False\n",
    "    return True\n",
    "def solve(orders):\n",
    "    prime = []\n",
    "    nonPrime = []\n",
    "    for order in orders:\n",
    "        order = order.split()\n",
    "        orderID1 = order[0]\n",
    "        orderID2 = order[1:]\n",
    "        if isPrime(orderID2):\n",
    "            prime.append([orderID2,orderID1,order])\n",
    "        else:\n",
    "            nonPrime.append(order)\n",
    "    prime.sort(key = lambda x:(x[0],x[1]))\n",
    "    result = [x[2] for x in prime]\n",
    "    result = result+nonPrime\n",
    "    result1 = []\n",
    "    for row in result:\n",
    "        result1.append(\" \".join(map(str,row)))\n",
    "    return result1\n",
    "orderList1 = [\"zid 93 12\",\"fp kindle book\",\"10a echo show\",\"17g 12 25 6\",\"ab1 kindle book\",\"125 echo second generation\"]\n",
    "orderList2 = [\"mi2 jog mid pet\",\n",
    "              \"wz3 34 54 398\",\n",
    "              \"a1 alps cow bar\",\n",
    "              \"x4 45 21 7\"]\n",
    "solve(orderList2)\n",
    "    "
   ]
  },
  {
   "cell_type": "code",
   "execution_count": 5,
   "metadata": {},
   "outputs": [
    {
     "data": {
      "text/plain": [
       "True"
      ]
     },
     "execution_count": 5,
     "metadata": {},
     "output_type": "execute_result"
    }
   ],
   "source": [
    "isPrime(\"ab1 kidle book\")"
   ]
  },
  {
   "cell_type": "code",
   "execution_count": 15,
   "metadata": {},
   "outputs": [
    {
     "data": {
      "text/plain": [
       "4"
      ]
     },
     "execution_count": 15,
     "metadata": {},
     "output_type": "execute_result"
    }
   ],
   "source": [
    "def minimumDistance(area):\n",
    "    m = len(area)\n",
    "    n = len(area[0])\n",
    "    def dfs(i,j):\n",
    "        if i<0 or i>=m or j<0 or j>=n or area[i][j] == 0:\n",
    "            return float(\"inf\")\n",
    "        if area[i][j] == 9:\n",
    "            return 0\n",
    "        area[i][j] = 0\n",
    "        return 1 + min(dfs(i+1,j),\n",
    "                   dfs(i,j+1),\n",
    "                   dfs(i-1,j),\n",
    "                   dfs(i,j-1))\n",
    "    result = dfs(0,0)\n",
    "    if result == float(\"inf\"):\n",
    "        return -1\n",
    "    return result\n",
    "area = [[1,0,0],\n",
    "        [1,1,1],\n",
    "        [1,1,9]]\n",
    "minimumDistance(area)"
   ]
  },
  {
   "cell_type": "code",
   "execution_count": 29,
   "metadata": {},
   "outputs": [
    {
     "data": {
      "text/plain": [
       "2"
      ]
     },
     "execution_count": 29,
     "metadata": {},
     "output_type": "execute_result"
    }
   ],
   "source": [
    "area = [[1,0,0],\n",
    "        [1,1,1],\n",
    "        [1,1,9]]\n",
    "def solve(area):\n",
    "    queue = [(0,0,0)]\n",
    "    while queue:\n",
    "        #print(queue)\n",
    "        i,j,r = queue.pop(0)\n",
    "        if area[i][j] == 9:\n",
    "            return r\n",
    "        if area[i][j] == 1:\n",
    "            queue.append((i+1,j,r+1))\n",
    "            queue.append((i,j+1,r+1))\n",
    "            queue.append((i-1,j,r+1))\n",
    "            queue.append((i,j-1,r+1))\n",
    "    return -1\n",
    "solve(area)\n",
    "        "
   ]
  },
  {
   "cell_type": "code",
   "execution_count": 19,
   "metadata": {},
   "outputs": [
    {
     "name": "stdout",
     "output_type": "stream",
     "text": [
      "[[0, 0, 0], [0, 0, 0], [0, 0, 9]]\n"
     ]
    }
   ],
   "source": [
    "print(area)"
   ]
  },
  {
   "cell_type": "code",
   "execution_count": 39,
   "metadata": {},
   "outputs": [
    {
     "name": "stdout",
     "output_type": "stream",
     "text": [
      "0 0\n",
      "1 0\n",
      "2 0\n",
      "0 0\n",
      "1 1\n",
      "2 1\n",
      "1 2\n"
     ]
    },
    {
     "data": {
      "text/plain": [
       "-1"
      ]
     },
     "execution_count": 39,
     "metadata": {},
     "output_type": "execute_result"
    }
   ],
   "source": [
    "from collections import deque \n",
    "def shortestPathBinaryMatrix(grid):\n",
    "    row, col, queue = len(grid), len(grid[0]), deque([(0,0,1)])\n",
    "    while queue:\n",
    "        x, y, steps = queue.popleft()\n",
    "        print(x,y)\n",
    "        if x == row-1 and y == col-1:\n",
    "            return steps\n",
    "        for nx,ny in [[x+1,y], [x-1,y], [x,y-1], [x,y+1]]:\n",
    "            if 0<=nx<row and 0<=ny<col and grid[nx][ny] == 1:\n",
    "                grid[nx][ny] = 'x'\n",
    "                queue.append((nx, ny, steps+1))\n",
    "\n",
    "    return -1\n",
    "area = [[1,0,0],\n",
    "        [1,1,1],\n",
    "        [1,1,9]]\n",
    "shortestPathBinaryMatrix(area)"
   ]
  },
  {
   "cell_type": "code",
   "execution_count": 42,
   "metadata": {},
   "outputs": [
    {
     "data": {
      "text/plain": [
       "4"
      ]
     },
     "execution_count": 42,
     "metadata": {},
     "output_type": "execute_result"
    }
   ],
   "source": [
    "def solve(grid):\n",
    "    ans, m, n = 0, len(grid), len(grid[0])\n",
    "    q = [(0, 0)]\n",
    "    while q:\n",
    "        tmp_q = []\n",
    "        ans += 1\n",
    "        while q:\n",
    "            x, y = q.pop()\n",
    "            if (x, y) == (m-1, n-1):\n",
    "                return ans-1\n",
    "            for dx, dy in (-1, 0), (1, 0), (0, -1), (0, 1):\n",
    "                xx, yy = x+dx, y+dy\n",
    "                if 0 <= xx < m and 0 <= yy < n and  grid[xx][yy]:\n",
    "                    grid[xx][yy] = 0\n",
    "                    tmp_q.append((xx, yy))\n",
    "        q = tmp_q\n",
    "    return -1\n",
    "area = [[1,0,0],\n",
    "        [1,1,1],\n",
    "        [1,1,9]]\n",
    "solve(area)"
   ]
  },
  {
   "cell_type": "code",
   "execution_count": 43,
   "metadata": {},
   "outputs": [],
   "source": [
    "import collections\n",
    "class Citizen:\n",
    "    def __init__(self,cid,name,age,isWar,city):\n",
    "        self.citizenId = cid\n",
    "        self.citizenName = name\n",
    "        self.citizenAge = age\n",
    "        self.isWarrior = isWar\n",
    "        self.city = city\n",
    "        \n",
    "class HealthCenter:\n",
    "    def getHighestCity(citizens):\n",
    "        self.maxCity = collections.defaultdict(lambda :0)\n",
    "        self.maxPerson = collections.defaultdict(lambda:0)\n",
    "        for citizen in citizens:\n",
    "            if citizen.isWarrior:\n",
    "                self.maxCity[citizen.city]+=1\n",
    "            if citizen.age>=60\n",
    "                self.maxPerson[citizen.city]+=1\n",
    "        max1 = max(self.maxCity.values())\n",
    "        max2 = max(self.maxPerson.values())\n",
    "        result = [(self.maxCity[max1],max1),(self.maxPerson[max2],max2)]\n",
    "        return result\n",
    "    def cityWiseRequirement(citizens):\n",
    "        return\n",
    "        \n",
    "        \n",
    "            \n",
    "        "
   ]
  },
  {
   "cell_type": "code",
   "execution_count": 44,
   "metadata": {},
   "outputs": [],
   "source": [
    "a = collections.defaultdict(lambda:0)"
   ]
  },
  {
   "cell_type": "code",
   "execution_count": 46,
   "metadata": {},
   "outputs": [],
   "source": [
    "a[1]+=1"
   ]
  },
  {
   "cell_type": "code",
   "execution_count": 47,
   "metadata": {},
   "outputs": [
    {
     "data": {
      "text/plain": [
       "defaultdict(<function __main__.<lambda>()>, {1: 1})"
      ]
     },
     "execution_count": 47,
     "metadata": {},
     "output_type": "execute_result"
    }
   ],
   "source": [
    "a"
   ]
  },
  {
   "cell_type": "code",
   "execution_count": 52,
   "metadata": {},
   "outputs": [
    {
     "name": "stdout",
     "output_type": "stream",
     "text": [
      "3\n",
      "1 1 2 2 2\n",
      "Yes\n",
      "1 1 2 3 4\n",
      "NO\n",
      "1 1 1 0 3\n",
      "Yes\n"
     ]
    }
   ],
   "source": [
    "for _ in range(int(input())):\n",
    "    a,b,c,d,k = map(int,input().split())\n",
    "    dist = abs(a-c)+abs(b-d)\n",
    "    if  dist<=k and (k-dist)%2 == 0:\n",
    "        print(\"Yes\")\n",
    "    else:\n",
    "        print(\"NO\")"
   ]
  },
  {
   "cell_type": "code",
   "execution_count": 59,
   "metadata": {},
   "outputs": [
    {
     "name": "stdout",
     "output_type": "stream",
     "text": [
      "1\n",
      "3 3\n",
      "010\n",
      "2 1 3\n",
      "[0, 0, 0]\n",
      "4\n",
      "[1, 0, 0]\n",
      "3\n",
      "[1, 0, 1]\n",
      "2\n"
     ]
    }
   ],
   "source": [
    "for _ in range(int(input())):\n",
    "    n,k = map(int,input().split())\n",
    "    s = input()\n",
    "    charge = []\n",
    "    for ch in s:\n",
    "        charge.append(int(ch))\n",
    "    q = list(map(int,input().split()))\n",
    "    dist = 0\n",
    "    for i in range(1,n):\n",
    "        if charge[i-1] == charge[i]:\n",
    "            dist+=2\n",
    "        else:\n",
    "            dist+=1\n",
    "    for i in q:\n",
    "        i = i-1\n",
    "        charge[i] = int(not charge[i])\n",
    "        if i == 0:\n",
    "            if charge[i] != charge[i+1]:\n",
    "                dist-=1\n",
    "            else:\n",
    "                dist+=1\n",
    "        elif i == n-1:\n",
    "            if charge[i] != charge[i-1]:\n",
    "                dist-=1\n",
    "            else:\n",
    "                dist+=1\n",
    "        else:\n",
    "            if charge[i-1] != charge[i]:\n",
    "                dist-=1\n",
    "            else:\n",
    "                dist+=1\n",
    "            if charge[i+1] != charge[i]:\n",
    "                dist-=1\n",
    "            else:\n",
    "                dist+=1\n",
    "        print(dist)\n",
    "    \n",
    "    "
   ]
  },
  {
   "cell_type": "code",
   "execution_count": 23,
   "metadata": {},
   "outputs": [
    {
     "data": {
      "text/plain": [
       "1"
      ]
     },
     "execution_count": 23,
     "metadata": {},
     "output_type": "execute_result"
    }
   ],
   "source": [
    "def ascendingOrder(arr,n):\n",
    "    result = 0\n",
    "    i = 1\n",
    "    length = 1\n",
    "    while i<n:\n",
    "        if arr[i-1]<arr[i]:\n",
    "            length+=1\n",
    "            result = max(length,result)\n",
    "        else:\n",
    "            length = 1\n",
    "        i+=1\n",
    "    return n-result\n",
    "arr = [2,3,4,5,6,1]\n",
    "ascendingOrder(arr,len(arr))"
   ]
  },
  {
   "cell_type": "code",
   "execution_count": 26,
   "metadata": {},
   "outputs": [
    {
     "ename": "IndexError",
     "evalue": "list index out of range",
     "output_type": "error",
     "traceback": [
      "\u001b[0;31m---------------------------------------------------------------------------\u001b[0m",
      "\u001b[0;31mIndexError\u001b[0m                                Traceback (most recent call last)",
      "\u001b[0;32m<ipython-input-26-1583c2a4986c>\u001b[0m in \u001b[0;36m<module>\u001b[0;34m\u001b[0m\n\u001b[1;32m     46\u001b[0m     \u001b[0;32mreturn\u001b[0m \u001b[0;34m\" \"\u001b[0m\u001b[0;34m.\u001b[0m\u001b[0mjoin\u001b[0m\u001b[0;34m(\u001b[0m\u001b[0mmap\u001b[0m\u001b[0;34m(\u001b[0m\u001b[0mstr\u001b[0m\u001b[0;34m,\u001b[0m\u001b[0mresult\u001b[0m\u001b[0;34m)\u001b[0m\u001b[0;34m)\u001b[0m\u001b[0;34m\u001b[0m\u001b[0;34m\u001b[0m\u001b[0m\n\u001b[1;32m     47\u001b[0m \u001b[0marr\u001b[0m \u001b[0;34m=\u001b[0m \u001b[0;34m[\u001b[0m\u001b[0;36m33\u001b[0m\u001b[0;34m,\u001b[0m\u001b[0;36m67\u001b[0m\u001b[0;34m,\u001b[0m\u001b[0;36m23\u001b[0m\u001b[0;34m,\u001b[0m\u001b[0;36m64\u001b[0m\u001b[0;34m,\u001b[0m\u001b[0;36m18\u001b[0m\u001b[0;34m,\u001b[0m\u001b[0;36m68\u001b[0m\u001b[0;34m,\u001b[0m\u001b[0;36m96\u001b[0m\u001b[0;34m,\u001b[0m\u001b[0;36m40\u001b[0m\u001b[0;34m,\u001b[0m\u001b[0;36m40\u001b[0m\u001b[0;34m,\u001b[0m\u001b[0;36m53\u001b[0m\u001b[0;34m]\u001b[0m\u001b[0;34m\u001b[0m\u001b[0;34m\u001b[0m\u001b[0m\n\u001b[0;32m---> 48\u001b[0;31m \u001b[0msumNum\u001b[0m\u001b[0;34m(\u001b[0m\u001b[0marr\u001b[0m\u001b[0;34m)\u001b[0m\u001b[0;34m\u001b[0m\u001b[0;34m\u001b[0m\u001b[0m\n\u001b[0m\u001b[1;32m     49\u001b[0m \u001b[0;34m\u001b[0m\u001b[0m\n\u001b[1;32m     50\u001b[0m \u001b[0;34m\u001b[0m\u001b[0m\n",
      "\u001b[0;32m<ipython-input-26-1583c2a4986c>\u001b[0m in \u001b[0;36msumNum\u001b[0;34m(arr)\u001b[0m\n\u001b[1;32m     40\u001b[0m             \u001b[0mk\u001b[0m\u001b[0;34m+=\u001b[0m\u001b[0marr\u001b[0m\u001b[0;34m[\u001b[0m\u001b[0mbl\u001b[0m\u001b[0;34m]\u001b[0m\u001b[0;34m\u001b[0m\u001b[0;34m\u001b[0m\u001b[0m\n\u001b[1;32m     41\u001b[0m         \u001b[0;32melse\u001b[0m\u001b[0;34m:\u001b[0m\u001b[0;34m\u001b[0m\u001b[0;34m\u001b[0m\u001b[0m\n\u001b[0;32m---> 42\u001b[0;31m             \u001b[0mk\u001b[0m\u001b[0;34m+=\u001b[0m\u001b[0marr\u001b[0m\u001b[0;34m[\u001b[0m\u001b[0mfl\u001b[0m\u001b[0;34m]\u001b[0m\u001b[0;34m\u001b[0m\u001b[0;34m\u001b[0m\u001b[0m\n\u001b[0m\u001b[1;32m     43\u001b[0m         \u001b[0mresult\u001b[0m\u001b[0;34m.\u001b[0m\u001b[0mappend\u001b[0m\u001b[0;34m(\u001b[0m\u001b[0mk\u001b[0m\u001b[0;34m)\u001b[0m\u001b[0;34m\u001b[0m\u001b[0;34m\u001b[0m\u001b[0m\n\u001b[1;32m     44\u001b[0m \u001b[0;34m\u001b[0m\u001b[0m\n",
      "\u001b[0;31mIndexError\u001b[0m: list index out of range"
     ]
    }
   ],
   "source": [
    "def sumNum(arr):\n",
    "    n = len(arr)\n",
    "    k = sorted(arr)\n",
    "    result = []\n",
    "    for i in range(n):\n",
    "        frontSmall = 0\n",
    "        frontLarge = 0\n",
    "        backLarge = 0\n",
    "        backSmall = 0\n",
    "        fs = i+1\n",
    "        while fs<n:\n",
    "            if arr[i]>arr[fs]:\n",
    "                frontSmall = arr[fs]\n",
    "                break\n",
    "            fs+=1\n",
    "        fl = i+1\n",
    "        while fl<n:\n",
    "            if arr[i]<arr[fl]:\n",
    "                frontLarge = arr[fl]\n",
    "                break\n",
    "            fl+=1\n",
    "        bs = i-1\n",
    "        while bs>=0:\n",
    "            if arr[i]>arr[bs]:\n",
    "                backSmall = arr[bs]\n",
    "                break\n",
    "            bs-=1\n",
    "        bl = i-1\n",
    "        while bl>=0:\n",
    "            if arr[i]<arr[bl]:\n",
    "                backLarge = arr[bl]\n",
    "                break\n",
    "            bl-=1\n",
    "        k = 0\n",
    "        if i-bs < fs-i:\n",
    "            k = arr[bs]\n",
    "        else:\n",
    "            k = arr[fs]\n",
    "        \n",
    "        if i - bl < fl-i:\n",
    "            k+=arr[bl]\n",
    "        else:\n",
    "            k+=arr[fl]\n",
    "        result.append(k)\n",
    "            \n",
    "        \n",
    "    return \" \".join(map(str,result))\n",
    "arr = [33,67,23,64,18,68,96,40,40,53]\n",
    "sumNum(arr)\n",
    "\n",
    "        "
   ]
  },
  {
   "cell_type": "code",
   "execution_count": 11,
   "metadata": {},
   "outputs": [],
   "source": [
    "class Patient:\n",
    "    def __init__(self,Id,name,age,doctorName,billAmount):\n",
    "        self.Id = Id\n",
    "        self.name = name\n",
    "        self.age = age\n",
    "        self.doctorName = doctorName\n",
    "        self.billAmount = billAmount\n",
    "class Doctor:\n",
    "    def __init__(self,hospitalName,PatientList):\n",
    "        self.hospitalName = hospitalName\n",
    "        self.PatientList = PatientList\n",
    "    def findPatientWithMaximumAge(self):\n",
    "        if self.PatientList == []:\n",
    "            return None\n",
    "        maxAge = 0\n",
    "        for patient in self.PatientList:\n",
    "            if maxAge<patient.age:\n",
    "                maxAge = patient.age\n",
    "                result = patient\n",
    "        if maxAge == 0:\n",
    "            return None\n",
    "        return result\n",
    "    def sortPatientByBillAmount(self):\n",
    "        if self.PatientList == []:\n",
    "            return None\n",
    "        bills = []\n",
    "        for patient in self.PatientList:\n",
    "            b = patient.billAmount\n",
    "            bills.append(b)\n",
    "        bills.sort()\n",
    "        return bills\n",
    "doc = Doctor(\"hey\",patients)\n",
    "res1 = doc.findPatientWithMaximumAge()\n",
    "res2 = doc.sortPatientByBillAmount()\n",
    "if not res1:\n",
    "    print(\"No Data Found\")\n",
    "else:\n",
    "    print(res1.Id)\n",
    "    print(res1.name)\n",
    "    print(res1.age)\n",
    "    print(res1.doctorName)\n",
    "    print(res1.billAmount)\n",
    "if not res2:\n",
    "    print(\"No Data Found\")\n",
    "else:\n",
    "    for i in res2:\n",
    "        print(i)"
   ]
  },
  {
   "cell_type": "code",
   "execution_count": 13,
   "metadata": {},
   "outputs": [
    {
     "name": "stdout",
     "output_type": "stream",
     "text": [
      "2\n",
      "p1\n",
      "john\n",
      "66\n",
      "dr anu\n",
      "951\n",
      "p4\n",
      "neha\n",
      "94\n",
      "dr manish\n",
      "633\n",
      "p4\n",
      "neha\n",
      "94\n"
     ]
    },
    {
     "ename": "AttributeError",
     "evalue": "'Patient' object has no attribute 'docName'",
     "output_type": "error",
     "traceback": [
      "\u001b[0;31m---------------------------------------------------------------------------\u001b[0m",
      "\u001b[0;31mAttributeError\u001b[0m                            Traceback (most recent call last)",
      "\u001b[0;32m<ipython-input-13-d5a1468592d8>\u001b[0m in \u001b[0;36m<module>\u001b[0;34m\u001b[0m\n\u001b[1;32m     17\u001b[0m     \u001b[0mprint\u001b[0m\u001b[0;34m(\u001b[0m\u001b[0mres1\u001b[0m\u001b[0;34m.\u001b[0m\u001b[0mname\u001b[0m\u001b[0;34m)\u001b[0m\u001b[0;34m\u001b[0m\u001b[0;34m\u001b[0m\u001b[0m\n\u001b[1;32m     18\u001b[0m     \u001b[0mprint\u001b[0m\u001b[0;34m(\u001b[0m\u001b[0mres1\u001b[0m\u001b[0;34m.\u001b[0m\u001b[0mage\u001b[0m\u001b[0;34m)\u001b[0m\u001b[0;34m\u001b[0m\u001b[0;34m\u001b[0m\u001b[0m\n\u001b[0;32m---> 19\u001b[0;31m     \u001b[0mprint\u001b[0m\u001b[0;34m(\u001b[0m\u001b[0mres1\u001b[0m\u001b[0;34m.\u001b[0m\u001b[0mdocName\u001b[0m\u001b[0;34m)\u001b[0m\u001b[0;34m\u001b[0m\u001b[0;34m\u001b[0m\u001b[0m\n\u001b[0m\u001b[1;32m     20\u001b[0m     \u001b[0mprint\u001b[0m\u001b[0;34m(\u001b[0m\u001b[0mres1\u001b[0m\u001b[0;34m.\u001b[0m\u001b[0mbillAmount\u001b[0m\u001b[0;34m)\u001b[0m\u001b[0;34m\u001b[0m\u001b[0;34m\u001b[0m\u001b[0m\n\u001b[1;32m     21\u001b[0m \u001b[0;32mif\u001b[0m \u001b[0;32mnot\u001b[0m \u001b[0mres2\u001b[0m\u001b[0;34m:\u001b[0m\u001b[0;34m\u001b[0m\u001b[0;34m\u001b[0m\u001b[0m\n",
      "\u001b[0;31mAttributeError\u001b[0m: 'Patient' object has no attribute 'docName'"
     ]
    }
   ],
   "source": [
    "patients = []\n",
    "for i in range(int(input())):\n",
    "    Id = input()\n",
    "    name = input()\n",
    "    age = int(input())\n",
    "    docName = input()\n",
    "    bill = float(input())\n",
    "    pat = Patient(Id,name,age,docName,bill)\n",
    "    patients.append(pat)\n",
    "doc = Doctor(\"hey\",patients)\n",
    "res1 = doc.findPatientWithMaximumAge()\n",
    "res2 = doc.sortPatientByBillAmount()\n",
    "if not res1:\n",
    "    print(\"No Data Found\")\n",
    "else:\n",
    "    print(res1.Id)\n",
    "    print(res1.name)\n",
    "    print(res1.age)\n",
    "    print(res1.doctorName)\n",
    "    print(res1.billAmount)\n",
    "if not res2:\n",
    "    print(\"No Data Found\")\n",
    "else:\n",
    "    for i in res2:\n",
    "        print(res2[i])"
   ]
  },
  {
   "cell_type": "code",
   "execution_count": 15,
   "metadata": {},
   "outputs": [
    {
     "name": "stdout",
     "output_type": "stream",
     "text": [
      "p4\n",
      "neha\n",
      "94\n",
      "dr manish\n",
      "633.0\n",
      "633.0\n",
      "951.0\n"
     ]
    }
   ],
   "source": [
    "doc = Doctor(\"hey\",patients)\n",
    "res1 = doc.findPatientWithMaximumAge()\n",
    "res2 = doc.sortPatientByBillAmount()\n",
    "if not res1:\n",
    "    print(\"No Data Found\")\n",
    "else:\n",
    "    print(res1.Id)\n",
    "    print(res1.name)\n",
    "    print(res1.age)\n",
    "    print(res1.doctorName)\n",
    "    print(res1.billAmount)\n",
    "if not res2:\n",
    "    print(\"No Data Found\")\n",
    "else:\n",
    "    for i in res2:\n",
    "        print(i)"
   ]
  },
  {
   "cell_type": "code",
   "execution_count": 5,
   "metadata": {},
   "outputs": [
    {
     "ename": "AttributeError",
     "evalue": "'str' object has no attribute 'age'",
     "output_type": "error",
     "traceback": [
      "\u001b[0;31m---------------------------------------------------------------------------\u001b[0m",
      "\u001b[0;31mAttributeError\u001b[0m                            Traceback (most recent call last)",
      "\u001b[0;32m<ipython-input-5-fdc71207c6c8>\u001b[0m in \u001b[0;36m<module>\u001b[0;34m\u001b[0m\n\u001b[1;32m      1\u001b[0m \u001b[0mdoc\u001b[0m \u001b[0;34m=\u001b[0m \u001b[0mDoctor\u001b[0m\u001b[0;34m(\u001b[0m\u001b[0mpat\u001b[0m\u001b[0;34m,\u001b[0m\u001b[0;34m\"hey\"\u001b[0m\u001b[0;34m)\u001b[0m\u001b[0;34m\u001b[0m\u001b[0;34m\u001b[0m\u001b[0m\n\u001b[0;32m----> 2\u001b[0;31m \u001b[0mres1\u001b[0m \u001b[0;34m=\u001b[0m \u001b[0mdoc\u001b[0m\u001b[0;34m.\u001b[0m\u001b[0mfindPatientWithMaximumAge\u001b[0m\u001b[0;34m(\u001b[0m\u001b[0;34m)\u001b[0m\u001b[0;34m\u001b[0m\u001b[0;34m\u001b[0m\u001b[0m\n\u001b[0m\u001b[1;32m      3\u001b[0m \u001b[0mres2\u001b[0m \u001b[0;34m=\u001b[0m \u001b[0mdoc\u001b[0m\u001b[0;34m.\u001b[0m\u001b[0msortPatientByBillAmount\u001b[0m\u001b[0;34m(\u001b[0m\u001b[0;34m)\u001b[0m\u001b[0;34m\u001b[0m\u001b[0;34m\u001b[0m\u001b[0m\n\u001b[1;32m      4\u001b[0m \u001b[0;32mif\u001b[0m \u001b[0;32mnot\u001b[0m \u001b[0mres1\u001b[0m\u001b[0;34m:\u001b[0m\u001b[0;34m\u001b[0m\u001b[0;34m\u001b[0m\u001b[0m\n\u001b[1;32m      5\u001b[0m     \u001b[0mprint\u001b[0m\u001b[0;34m(\u001b[0m\u001b[0;34m\"No Data Found\"\u001b[0m\u001b[0;34m)\u001b[0m\u001b[0;34m\u001b[0m\u001b[0;34m\u001b[0m\u001b[0m\n",
      "\u001b[0;32m<ipython-input-2-bf508bb93978>\u001b[0m in \u001b[0;36mfindPatientWithMaximumAge\u001b[0;34m(self)\u001b[0m\n\u001b[1;32m     15\u001b[0m         \u001b[0mmaxAge\u001b[0m \u001b[0;34m=\u001b[0m \u001b[0;36m0\u001b[0m\u001b[0;34m\u001b[0m\u001b[0;34m\u001b[0m\u001b[0m\n\u001b[1;32m     16\u001b[0m         \u001b[0;32mfor\u001b[0m \u001b[0mpatient\u001b[0m \u001b[0;32min\u001b[0m \u001b[0mself\u001b[0m\u001b[0;34m.\u001b[0m\u001b[0mPatientList\u001b[0m\u001b[0;34m:\u001b[0m\u001b[0;34m\u001b[0m\u001b[0;34m\u001b[0m\u001b[0m\n\u001b[0;32m---> 17\u001b[0;31m             \u001b[0;32mif\u001b[0m \u001b[0mmaxAge\u001b[0m\u001b[0;34m<\u001b[0m\u001b[0mpatient\u001b[0m\u001b[0;34m.\u001b[0m\u001b[0mage\u001b[0m\u001b[0;34m:\u001b[0m\u001b[0;34m\u001b[0m\u001b[0;34m\u001b[0m\u001b[0m\n\u001b[0m\u001b[1;32m     18\u001b[0m                 \u001b[0mmaxAge\u001b[0m \u001b[0;34m=\u001b[0m \u001b[0mpatient\u001b[0m\u001b[0;34m.\u001b[0m\u001b[0mage\u001b[0m\u001b[0;34m\u001b[0m\u001b[0;34m\u001b[0m\u001b[0m\n\u001b[1;32m     19\u001b[0m                 \u001b[0mresult\u001b[0m \u001b[0;34m=\u001b[0m \u001b[0mpatient\u001b[0m\u001b[0;34m.\u001b[0m\u001b[0mname\u001b[0m\u001b[0;34m\u001b[0m\u001b[0;34m\u001b[0m\u001b[0m\n",
      "\u001b[0;31mAttributeError\u001b[0m: 'str' object has no attribute 'age'"
     ]
    }
   ],
   "source": [
    "doc = Doctor(pat,\"hey\")\n",
    "res1 = doc.findPatientWithMaximumAge()\n",
    "res2 = doc.sortPatientByBillAmount()\n",
    "if not res1:\n",
    "    print(\"No Data Found\")\n",
    "else:\n",
    "    print(res1)\n",
    "if not res2:\n",
    "    print(\"No Data Found\")\n",
    "else:\n",
    "    print(res2)"
   ]
  },
  {
   "cell_type": "code",
   "execution_count": null,
   "metadata": {},
   "outputs": [],
   "source": [
    "def solve(arr,result):\n",
    "    for i in range(len(arr)):\n",
    "        mul = arr[i]\n",
    "        result = max(result,solve())"
   ]
  },
  {
   "cell_type": "code",
   "execution_count": 5,
   "metadata": {},
   "outputs": [
    {
     "data": {
      "text/plain": [
       "'{\"people\": [{\"name\": \"Scott\", \"website\": \"stackabuse.com\", \"from\": \"Nebraska\"}]}'"
      ]
     },
     "execution_count": 5,
     "metadata": {},
     "output_type": "execute_result"
    }
   ],
   "source": []
  },
  {
   "cell_type": "code",
   "execution_count": 6,
   "metadata": {},
   "outputs": [],
   "source": [
    "import json\n",
    "data = {'people':[{'name': 'Scott', 'website': 'stackabuse.com', 'from': 'Nebraska'}]}\n",
    "out_file = open(\"test2.json\", \"w\")\n",
    "json.dump(data, out_file, indent = 4)\n",
    "out_file.close()"
   ]
  },
  {
   "cell_type": "code",
   "execution_count": 7,
   "metadata": {},
   "outputs": [],
   "source": [
    "a = dict()"
   ]
  },
  {
   "cell_type": "code",
   "execution_count": 8,
   "metadata": {},
   "outputs": [],
   "source": [
    "b = {'a':1}"
   ]
  },
  {
   "cell_type": "code",
   "execution_count": 9,
   "metadata": {},
   "outputs": [
    {
     "ename": "AttributeError",
     "evalue": "'dict' object has no attribute 'add'",
     "output_type": "error",
     "traceback": [
      "\u001b[0;31m---------------------------------------------------------------------------\u001b[0m",
      "\u001b[0;31mAttributeError\u001b[0m                            Traceback (most recent call last)",
      "\u001b[0;32m<ipython-input-9-73f363cda532>\u001b[0m in \u001b[0;36m<module>\u001b[0;34m\u001b[0m\n\u001b[0;32m----> 1\u001b[0;31m \u001b[0ma\u001b[0m\u001b[0;34m.\u001b[0m\u001b[0madd\u001b[0m\u001b[0;34m(\u001b[0m\u001b[0mb\u001b[0m\u001b[0;34m)\u001b[0m\u001b[0;34m\u001b[0m\u001b[0;34m\u001b[0m\u001b[0m\n\u001b[0m",
      "\u001b[0;31mAttributeError\u001b[0m: 'dict' object has no attribute 'add'"
     ]
    }
   ],
   "source": [
    "a.add(b)"
   ]
  },
  {
   "cell_type": "code",
   "execution_count": 1,
   "metadata": {},
   "outputs": [
    {
     "name": "stdout",
     "output_type": "stream",
     "text": [
      "8989.0\n"
     ]
    }
   ],
   "source": [
    "a = 8989\n",
    "print(float(a))"
   ]
  },
  {
   "cell_type": "code",
   "execution_count": 2,
   "metadata": {},
   "outputs": [
    {
     "data": {
      "text/plain": [
       "'bhar'"
      ]
     },
     "execution_count": 2,
     "metadata": {},
     "output_type": "execute_result"
    }
   ],
   "source": [
    "'BHAR'.lower()"
   ]
  },
  {
   "cell_type": "code",
   "execution_count": 5,
   "metadata": {},
   "outputs": [],
   "source": [
    "def doc():\n",
    "    '''hey'''\n",
    "    return None"
   ]
  },
  {
   "cell_type": "code",
   "execution_count": 6,
   "metadata": {},
   "outputs": [
    {
     "name": "stdout",
     "output_type": "stream",
     "text": [
      "hey\n"
     ]
    }
   ],
   "source": [
    "print(doc.__doc__)"
   ]
  },
  {
   "cell_type": "code",
   "execution_count": null,
   "metadata": {},
   "outputs": [],
   "source": [
    "class Patient:\n",
    "    def __init__(self,Id,name,age,docName,billAmt):\n",
    "        self.id = Id\n",
    "        self.name = name\n",
    "        self.age = age\n",
    "        self.doctorName = docName\n",
    "        self.billAmount = billAmt\n",
    "\n",
    "class Doctor:\n",
    "    def __init__(self, hospitalName,PatientList):\n",
    "        self.hospitalName = hospitalName\n",
    "        self.PatientList = PatientList\n",
    "    def findPatientWithMaximumAge(self):\n",
    "        if self.PatientList == []:\n",
    "            return None\n",
    "        maxi = 0\n",
    "        res = None\n",
    "        for patient in self.PatientList:\n",
    "            if patient.age > maxi:\n",
    "                maxi = patient.age\n",
    "                res = patient\n",
    "        return patient\n",
    "    \n",
    "    def sortPatientByBillAmount(self):\n",
    "        if self.PatientList == []:\n",
    "            return None\n",
    "        return self.PatientList.sort(key = lambda x:x.age)\n",
    "patients = []\n",
    "for _ in range(int(input())):\n",
    "    Id = input()\n",
    "    name = input()\n",
    "    age = int(input())\n",
    "    doctorName = input()\n",
    "    billAmount = float(input())\n",
    "    patients.append(Patient(Id,name,age,doctorName,billAmount))\n",
    "    \n",
    "doctor = Doctor('aiims',patients)\n",
    "maxAge = doctor.findPatientWithMaximumAge()\n",
    "sortP = doc.sortPatientByBillAmount()\n",
    "if maxAge == None:\n",
    "    print(\"No Data Found\")\n",
    "else:\n",
    "    print(maxAge.Id)\n",
    "    print(maxAge.name)\n",
    "    print(maxAge.age)\n",
    "    print(maxAge.doctorName)\n",
    "if sortP == None:\n",
    "    print(\"No Data Found\")\n",
    "else:\n",
    "    for i in range(sortP):\n",
    "        print(i.billAmount)\n",
    "    "
   ]
  },
  {
   "cell_type": "code",
   "execution_count": 3,
   "metadata": {},
   "outputs": [
    {
     "name": "stdout",
     "output_type": "stream",
     "text": [
      "0 4\n",
      "1 3\n",
      "2 2\n"
     ]
    }
   ],
   "source": [
    "def sortSpiralArray(a):\n",
    "    n = len(a)\n",
    "    for i in range(len(a)//2 + 1):\n",
    "        print(i,n-1-i)\n",
    "a = [1,2,3,4,5]\n",
    "sortSpiralArray(a)\n",
    "\n"
   ]
  },
  {
   "cell_type": "code",
   "execution_count": null,
   "metadata": {},
   "outputs": [],
   "source": []
  }
 ],
 "metadata": {
  "kernelspec": {
   "display_name": "Python 3",
   "language": "python",
   "name": "python3"
  },
  "language_info": {
   "codemirror_mode": {
    "name": "ipython",
    "version": 3
   },
   "file_extension": ".py",
   "mimetype": "text/x-python",
   "name": "python",
   "nbconvert_exporter": "python",
   "pygments_lexer": "ipython3",
   "version": "3.8.8"
  }
 },
 "nbformat": 4,
 "nbformat_minor": 4
}
