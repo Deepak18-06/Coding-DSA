{
 "cells": [
  {
   "cell_type": "markdown",
   "id": "fdb99927",
   "metadata": {},
   "source": [
    "# Sliding Window\n",
    "\n",
    "- fixed window size\n",
    "- variable window size increasing and decreasing\n",
    "    - brute force\n",
    "    - better -> increase window size and when condition is matched shrink the window\n",
    "    - best/ optimal"
   ]
  },
  {
   "cell_type": "code",
   "execution_count": 13,
   "id": "9c5d4ff5",
   "metadata": {},
   "outputs": [
    {
     "name": "stdout",
     "output_type": "stream",
     "text": [
      "3\n"
     ]
    }
   ],
   "source": [
    "def longestSubarrayWithSumLessThanEqualToK(arr, k):\n",
    "    maxLength = 0\n",
    "    for i in range(len(arr)):\n",
    "        subArraySum = 0 \n",
    "        for j in range(i, len(arr)):\n",
    "            subArraySum += arr[j] \n",
    "            if subArraySum <= k and j - i + 1 > maxLength:\n",
    "                maxLength = j - i + 1\n",
    "            if subArraySum > k:\n",
    "                break\n",
    "    return maxLength\n",
    "\n",
    "arr = [1, 2, 3, 4, 5]\n",
    "k = 7\n",
    "print(longestSubarrayWithSumLessThanEqualToK(arr, k))\n"
   ]
  },
  {
   "cell_type": "code",
   "execution_count": 14,
   "id": "8b328d3d",
   "metadata": {},
   "outputs": [
    {
     "name": "stdout",
     "output_type": "stream",
     "text": [
      "3\n"
     ]
    }
   ],
   "source": [
    "def longestSubarrayWithSumLessThanEqualToK(arr, k):\n",
    "    left = 0\n",
    "    right = 0\n",
    "    subArraySum = 0\n",
    "    length = 0\n",
    "    while right < len(arr):\n",
    "        subArraySum += arr[right]\n",
    "        while subArraySum > k:\n",
    "            subArraySum -= arr[left]\n",
    "            left += 1\n",
    "        length = max(length, right - left + 1)\n",
    "        right += 1\n",
    "    return length\n",
    "arr = [1, 2, 3, 4, 5]\n",
    "k = 7\n",
    "print(longestSubarrayWithSumLessThanEqualToK(arr, k))\n",
    "# Time complexity -> O(N+N)"
   ]
  },
  {
   "cell_type": "code",
   "execution_count": 15,
   "id": "b44ad924",
   "metadata": {},
   "outputs": [
    {
     "name": "stdout",
     "output_type": "stream",
     "text": [
      "3\n"
     ]
    }
   ],
   "source": [
    "def longestSubarrayWithSumLessThanEqualToK(arr, k):\n",
    "    left = 0\n",
    "    right = 0\n",
    "    subArraySum = 0\n",
    "    maxLength = 0\n",
    "    \n",
    "    while right < len(arr):\n",
    "        subArraySum += arr[right]\n",
    "        \n",
    "        if subArraySum > k:\n",
    "            subArraySum -= arr[left]\n",
    "            left += 1\n",
    "            \n",
    "        maxLength = max(maxLength, right - left + 1)\n",
    "        \n",
    "        right += 1\n",
    "        \n",
    "    return maxLength\n",
    "\n",
    "arr = [1, 2, 3, 4, 5]\n",
    "k = 7\n",
    "print(longestSubarrayWithSumLessThanEqualToK(arr, k))\n",
    "# Time complexity -> O(N)"
   ]
  },
  {
   "cell_type": "markdown",
   "id": "22993a21",
   "metadata": {},
   "source": [
    "## Maxiumum Point you can obtain from n card \n",
    "[!https://leetcode.com/problems/maximum-points-you-can-obtain-from-cards/description/]"
   ]
  },
  {
   "cell_type": "code",
   "execution_count": 46,
   "id": "bc797f23",
   "metadata": {},
   "outputs": [
    {
     "data": {
      "text/plain": [
       "16"
      ]
     },
     "execution_count": 46,
     "metadata": {},
     "output_type": "execute_result"
    }
   ],
   "source": [
    "def maxScore(cardPoints: list[int], k: int) -> int:\n",
    "    leftSum = 0\n",
    "    rightSum = 0\n",
    "    result = 0\n",
    "    for i in range(k):\n",
    "        leftSum+=cardPoints[i]\n",
    "    result = leftSum\n",
    "    rightIndex = len(cardPoints) - 1\n",
    "    for i in range(k-1, -1, -1):\n",
    "        leftSum = leftSum - cardPoints[i]\n",
    "        rightSum = rightSum + cardPoints[rightIndex]\n",
    "        rightIndex -=1\n",
    "        result = max(leftSum + rightSum, result)\n",
    "    return result \n",
    "cards = [6,2,3,4,7,2,1,7,1]\n",
    "k = 4\n",
    "maxScore(cards, k)"
   ]
  },
  {
   "cell_type": "code",
   "execution_count": 43,
   "id": "226c4ada",
   "metadata": {},
   "outputs": [
    {
     "data": {
      "text/plain": [
       "[]"
      ]
     },
     "execution_count": 43,
     "metadata": {},
     "output_type": "execute_result"
    }
   ],
   "source": [
    "cards[:0]"
   ]
  },
  {
   "cell_type": "code",
   "execution_count": 45,
   "id": "30b6f97d",
   "metadata": {},
   "outputs": [
    {
     "data": {
      "text/plain": [
       "[2, 1, 7, 1]"
      ]
     },
     "execution_count": 45,
     "metadata": {},
     "output_type": "execute_result"
    }
   ],
   "source": [
    "cards[-(k-0):]"
   ]
  },
  {
   "cell_type": "code",
   "execution_count": null,
   "id": "60968434",
   "metadata": {},
   "outputs": [],
   "source": []
  }
 ],
 "metadata": {
  "kernelspec": {
   "display_name": "Python 3 (ipykernel)",
   "language": "python",
   "name": "python3"
  },
  "language_info": {
   "codemirror_mode": {
    "name": "ipython",
    "version": 3
   },
   "file_extension": ".py",
   "mimetype": "text/x-python",
   "name": "python",
   "nbconvert_exporter": "python",
   "pygments_lexer": "ipython3",
   "version": "3.11.5"
  }
 },
 "nbformat": 4,
 "nbformat_minor": 5
}
