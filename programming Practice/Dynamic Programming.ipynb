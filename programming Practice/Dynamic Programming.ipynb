{
 "cells": [
  {
   "cell_type": "markdown",
   "metadata": {},
   "source": [
    "                                             Dyanamic Programming\n",
    "#                                                              1.\n",
    "# 0 - 1 knapsack"
   ]
  },
  {
   "cell_type": "code",
   "execution_count": 5,
   "metadata": {},
   "outputs": [],
   "source": [
    "# \n",
    "def knapsack(wt,val,W,n):\n",
    "    dp = [[0 for x  in range(W+1)] for x in range(n+1)]\n",
    "    for i in range(1,n+1):\n",
    "        for w in range(1,W+1):\n",
    "            if i == 0 or w == 0:\n",
    "                dp[i][w] =0\n",
    "            elif wt[i-1] <= w:\n",
    "                dp[i][w] = max(val[i-1] + dp[i-1][w-wt[i-1]],dp[i-1][w])\n",
    "            else:\n",
    "                dp[i][w] = dp[i-1][w]\n",
    "    return dp[n][W]"
   ]
  },
  {
   "cell_type": "code",
   "execution_count": 6,
   "metadata": {},
   "outputs": [
    {
     "ename": "SyntaxError",
     "evalue": "invalid syntax (<ipython-input-6-d2a1f53a754f>, line 9)",
     "output_type": "error",
     "traceback": [
      "\u001b[0;36m  File \u001b[0;32m\"<ipython-input-6-d2a1f53a754f>\"\u001b[0;36m, line \u001b[0;32m9\u001b[0m\n\u001b[0;31m    return dp[n][W] = max(val[n-1]+knapsack(wt,val,W-wt[n-1],n-1),knapsack(wt,val,W,n-1))\u001b[0m\n\u001b[0m                    ^\u001b[0m\n\u001b[0;31mSyntaxError\u001b[0m\u001b[0;31m:\u001b[0m invalid syntax\n"
     ]
    }
   ],
   "source": [
    "global dp \n",
    "dp = [[-1 for x in range(100)] for x in range(100)]\n",
    "def knapsack(wt,val,W,n):\n",
    "    if W==0 or n == 0:\n",
    "        return 0\n",
    "    if dp[n][W] != -1:\n",
    "        return dp[n][W]\n",
    "    if wt[n-1] <= W:\n",
    "        return dp[n][W] = max(val[n-1]+knapsack(wt,val,W-wt[n-1],n-1),knapsack(wt,val,W,n-1))\n",
    "    if wt[n-1]>W:\n",
    "        return dp[n][W] = knapsack(wt,val,W,n-1)"
   ]
  },
  {
   "cell_type": "markdown",
   "metadata": {},
   "source": [
    "### subset sum problem"
   ]
  },
  {
   "cell_type": "code",
   "execution_count": null,
   "metadata": {},
   "outputs": [],
   "source": [
    "# recursive solution\n",
    "def helper(A,B,n):\n",
    "    if B == 0 and n == 0:\n",
    "        return 1\n",
    "    if n == 0 and B>0:\n",
    "        return 0\n",
    "    if B >= A[n-1]:\n",
    "        return helper(A,B-A[n-1],n-1) or helper(A,B,n-1)\n",
    "    else:\n",
    "        return helper(A,B,n-1)\n",
    "n = len(A)\n",
    "return helper(A,B,n)"
   ]
  },
  {
   "cell_type": "code",
   "execution_count": 2,
   "metadata": {},
   "outputs": [],
   "source": [
    "def solve(A, B):\n",
    "    n = len(A)\n",
    "    dp = [[0 for i in range(B+1)] for j in range(n+1)]\n",
    "    for i in range(n+1):\n",
    "        for j in range(B+1):\n",
    "            if j == 0:\n",
    "                dp[i][j] = 1\n",
    "    for i in range(1,n+1):\n",
    "        for j in range(1,B+1):\n",
    "            if j >= A[i-1]:\n",
    "                dp[i][j] = dp[i-1][j-A[i-1]] or dp[i-1][j] # to count all the subsets with given sum  the \n",
    "            elif A[i-1]>j:                                 # we need to replace or with '+'   \n",
    "                dp[i][j] = dp[i-1][j]\n",
    "    return dp[n][B]"
   ]
  },
  {
   "cell_type": "markdown",
   "metadata": {},
   "source": [
    "#### equal sum partition"
   ]
  },
  {
   "cell_type": "code",
   "execution_count": 3,
   "metadata": {},
   "outputs": [],
   "source": [
    "def equalPart(arr):\n",
    "    if sum(arr)%2 != 0:\n",
    "        return 0\n",
    "    W =sum(arr)//2\n",
    "    return solve(arr,W)"
   ]
  },
  {
   "cell_type": "markdown",
   "metadata": {},
   "source": [
    "####  minimum subset sum"
   ]
  },
  {
   "cell_type": "code",
   "execution_count": 4,
   "metadata": {},
   "outputs": [],
   "source": [
    "def solve(arr):\n",
    "    def helper(arr,r,n):\n",
    "        dp = [[0 for y in range(r+1)] for x in range(n+1)]\n",
    "        for i in range(n+1):\n",
    "            for j in range(r+1):\n",
    "                if i == 0:\n",
    "                    dp[i][j] = 0\n",
    "                if j == 0:\n",
    "                    dp[i][j] = 1\n",
    "        for i in range(1,n+1):\n",
    "            for j in range(1,r+1):\n",
    "                if arr[i-1] <= j:\n",
    "                    dp[i][j] = dp[i-1][j-arr[i-1]] or dp[i-1][j]\n",
    "                elif arr[i-1] > j:\n",
    "                    dp[i][j] = dp[i-1][j]\n",
    "        res = []\n",
    "        for k in range((r//2) +1):\n",
    "            if dp[n][k]:\n",
    "                res.append(k)\n",
    "\n",
    "        return res\n",
    "\n",
    "    n = len(arr)\n",
    "    r = sum(arr)\n",
    "    s = helper(arr,r,n)\n",
    "    mini = float('inf')\n",
    "    for l in range(len(s)):\n",
    "        mini = min(mini,r - 2*s[l])\n",
    "    return mini"
   ]
  },
  {
   "cell_type": "markdown",
   "metadata": {},
   "source": [
    "#### count the number with given differnce and target sum"
   ]
  },
  {
   "cell_type": "code",
   "execution_count": null,
   "metadata": {},
   "outputs": [],
   "source": [
    "def CountSub(A, B):\n",
    "    n = len(A)\n",
    "    dp = [[0 for i in range(B+1)] for j in range(n+1)]\n",
    "    for i in range(n+1):\n",
    "        for j in range(B+1):\n",
    "            if j == 0:\n",
    "                dp[i][j] = 1\n",
    "    for i in range(1,n+1):\n",
    "        for j in range(1,B+1):\n",
    "            if j >= A[i-1]:\n",
    "                dp[i][j] = dp[i-1][j-A[i-1]] + dp[i-1][j] # to count all the subsets with given sum  the \n",
    "            elif A[i-1]>j:                                 # we need to replace or with '+'   \n",
    "                dp[i][j] = dp[i-1][j]\n",
    "    return dp[n][B]\n",
    "A = []\n",
    "d = 5 # given differnce\n",
    "B = (sum(A)+d)/2\n",
    "CountSub(A,B)"
   ]
  },
  {
   "cell_type": "code",
   "execution_count": null,
   "metadata": {},
   "outputs": [],
   "source": [
    "# leetcode wdge cases read again\n",
    "def findTargetSumWays(self, nums: List[int], S: int) -> int:\n",
    "    if S > sum(nums):\n",
    "        return 0\n",
    "    if (S+sum(nums))%2 != 0:\n",
    "        return 0\n",
    "    else :\n",
    "        target = (S+sum(nums))//2\n",
    "\n",
    "    nums.sort()\n",
    "\n",
    "    dp = [[0]*(target+1) for _ in range(len(nums)+1)]\n",
    "\n",
    "\n",
    "    for X in range(len(dp)):\n",
    "        dp[X][0] = 2**(nums.count(0))\n",
    "\n",
    "\n",
    "    for i in range(1,len(dp)):\n",
    "        for j in range(1,len(dp[0])):\n",
    "            if nums[i-1] <= j :\n",
    "                dp[i][j] = dp[i-1][j] + dp[i-1][j-nums[i-1]]\n",
    "\n",
    "            else :\n",
    "                dp[i][j] = dp[i-1][j]\n",
    "\n",
    "    return dp[-1][-1]"
   ]
  },
  {
   "cell_type": "markdown",
   "metadata": {},
   "source": [
    "# 2.\n",
    "# Unbounded knapsack"
   ]
  },
  {
   "cell_type": "code",
   "execution_count": null,
   "metadata": {},
   "outputs": [],
   "source": [
    "def knapsack(wt,val,W,n):\n",
    "    dp = [[0 for x  in range(W+1)] for x in range(n+1)]\n",
    "    for i in range(1,n+1):\n",
    "        for w in range(1,W+1):\n",
    "            if i == 0 or w == 0:\n",
    "                dp[i][w] =0\n",
    "            elif wt[i-1] <= w:\n",
    "                # change is we are calling again the same item to be include and leaving item same as\n",
    "                #before which is not included\n",
    "                dp[i][w] = max(val[i-1] + dp[i][w-wt[i-1]],dp[i-1][w])\n",
    "            else:\n",
    "                dp[i][w] = dp[i-1][w]\n",
    "    return dp[n][W]"
   ]
  },
  {
   "cell_type": "code",
   "execution_count": null,
   "metadata": {},
   "outputs": [],
   "source": [
    "global dp \n",
    "dp = [[-1 for x in range(100)] for x in range(100)]\n",
    "def knapsack(wt,val,W,n):\n",
    "    if W==0 or n == 0:\n",
    "        return 0\n",
    "    if dp[n][W] != -1:\n",
    "        return dp[n][W]\n",
    "    if wt[n-1] <= W:                                    \n",
    "        return dp[n][W] = max(val[n-1]+knapsack(wt,val,W-wt[n-1],n),knapsack(wt,val,W,n-1))\n",
    "                                                        #change--^ n in place of n-1\n",
    "    if wt[n-1]>W:\n",
    "        return dp[n][W] = knapsack(wt,val,W,n-1)"
   ]
  },
  {
   "cell_type": "code",
   "execution_count": null,
   "metadata": {},
   "outputs": [],
   "source": [
    "def unboundedKnapsack(W, n, val, wt): \n",
    "  \n",
    "    # dp[i] is going to store maximum  \n",
    "    # value with knapsack capacity i. \n",
    "    dp = [0 for i in range(W + 1)] \n",
    "  \n",
    "    ans = 0\n",
    "  \n",
    "    # Fill dp[] using above recursive formula \n",
    "    for i in range(W + 1): \n",
    "        for j in range(n): \n",
    "            if (wt[j] <= i): \n",
    "                dp[i] = max(dp[i], dp[i - wt[j]] + val[j]) \n",
    "  \n",
    "    return dp[W] "
   ]
  },
  {
   "cell_type": "code",
   "execution_count": 2,
   "metadata": {},
   "outputs": [],
   "source": [
    "global dp\n",
    "n = 10\n",
    "W = 50\n",
    "dp = [[-1 for i in range(W+1)] for j in range(n+1)]\n",
    "def unbounded(val,wt,W,n):\n",
    "\n",
    "    if n == 0 or W == 0:\n",
    "        return 0\n",
    "    if dp[n][W] != -1:\n",
    "        return dp[n][W]\n",
    "    if val[n-1] <= W:\n",
    "        dp[n][W] = max(val[n-1]+unbounded(val,wt,W-val[n-1],n),unbounded(val,wt,W,n-1))\n",
    "        return dp[n][W]\n",
    "    elif val[n-1] > W:\n",
    "        dp[n][W] = unbounded(val,wt,W,n-1)"
   ]
  },
  {
   "cell_type": "markdown",
   "metadata": {},
   "source": [
    "#### Cutting a Rod \n",
    "Given a rod of length n inches and an array of prices that contains prices of all pieces of size smaller than n. Determine the maximum value obtainable by cutting up the rod and selling the pieces. "
   ]
  },
  {
   "cell_type": "code",
   "execution_count": null,
   "metadata": {},
   "outputs": [],
   "source": []
  },
  {
   "cell_type": "markdown",
   "metadata": {},
   "source": [
    "# 3.\n",
    "# Longest Comman Subsequence(LCS)"
   ]
  },
  {
   "cell_type": "markdown",
   "metadata": {},
   "source": [
    "# Kadane's Algorithm\n",
    "### maximum product subarray"
   ]
  },
  {
   "cell_type": "code",
   "execution_count": 10,
   "metadata": {},
   "outputs": [
    {
     "data": {
      "text/plain": [
       "0"
      ]
     },
     "execution_count": 10,
     "metadata": {},
     "output_type": "execute_result"
    }
   ],
   "source": [
    "# negative answer also covered here \n",
    "def maxProduct(arr):\n",
    "    max_so_far = arr[0]\n",
    "    max_here = arr[0]\n",
    "    min_here = arr[0]\n",
    "    for i in range(1,len(arr)):\n",
    "        if arr[i] == 0:\n",
    "            max_here = 0\n",
    "            min_here = 1\n",
    "        elif arr[i]>0:\n",
    "            min_here = min_here*arr[i]\n",
    "            max_here = max_here*arr[i]\n",
    "        elif arr[i]<0:\n",
    "            prevmax = max_here\n",
    "            max_here = min_here*arr[i]\n",
    "            min_here = prevmax*arr[i]\n",
    "        max_so_far = max(max_so_far,max_here)\n",
    "        if max_here <=0:\n",
    "            max_here = 1\n",
    "    return max_so_far\n",
    "arr = [0, -4, 0, -2]\n",
    "maxProduct(arr)"
   ]
  },
  {
   "cell_type": "markdown",
   "metadata": {},
   "source": [
    "### Longest Increasing subsequence"
   ]
  },
  {
   "cell_type": "code",
   "execution_count": 20,
   "metadata": {},
   "outputs": [
    {
     "name": "stdout",
     "output_type": "stream",
     "text": [
      "10\n",
      "9\n",
      "21\n",
      "41\n",
      "60\n",
      "60\n",
      "41\n",
      "60\n",
      "60\n",
      "21\n",
      "41\n",
      "60\n",
      "60\n",
      "41\n",
      "60\n",
      "60\n",
      "9\n",
      "21\n",
      "41\n",
      "60\n",
      "60\n",
      "41\n",
      "60\n",
      "60\n",
      "21\n",
      "41\n",
      "60\n",
      "60\n",
      "41\n",
      "60\n",
      "60\n"
     ]
    },
    {
     "data": {
      "text/plain": [
       "5"
      ]
     },
     "execution_count": 20,
     "metadata": {},
     "output_type": "execute_result"
    }
   ],
   "source": [
    "def Longest(arr,ans,i):\n",
    "    if i == len(arr)-1 and arr[i]>=a:\n",
    "        return 0\n",
    "    if arr[i+1]>=arr[i]:\n",
    "        return max(1+Longest(arr,ans,i+1),Longest(arr,ans,i+1))\n",
    "    else:\n",
    "        return Longest(arr,ans,i+1)\n",
    "arr = [10, 22, 9, 33, 21, 50, 41, 60, 80]\n",
    "ans = 10\n",
    "Longest(arr,ans,0)"
   ]
  },
  {
   "cell_type": "code",
   "execution_count": null,
   "metadata": {},
   "outputs": [],
   "source": []
  }
 ],
 "metadata": {
  "kernelspec": {
   "display_name": "Python 3",
   "language": "python",
   "name": "python3"
  },
  "language_info": {
   "codemirror_mode": {
    "name": "ipython",
    "version": 3
   },
   "file_extension": ".py",
   "mimetype": "text/x-python",
   "name": "python",
   "nbconvert_exporter": "python",
   "pygments_lexer": "ipython3",
   "version": "3.8.3"
  }
 },
 "nbformat": 4,
 "nbformat_minor": 4
}
