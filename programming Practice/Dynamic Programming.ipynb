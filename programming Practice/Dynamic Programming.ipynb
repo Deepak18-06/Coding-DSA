{
 "cells": [
  {
   "cell_type": "markdown",
   "metadata": {},
   "source": [
    "# Must do dp Question \n",
    "[Must Do](https://leetcode.com/discuss/general-discussion/1050391/Must-do-Dynamic-programming-Problems-Category-wise)"
   ]
  },
  {
   "cell_type": "markdown",
   "metadata": {},
   "source": [
    "# fibonacci Sequence"
   ]
  },
  {
   "cell_type": "code",
   "execution_count": 4,
   "metadata": {},
   "outputs": [
    {
     "data": {
      "text/plain": [
       "2584"
      ]
     },
     "execution_count": 4,
     "metadata": {},
     "output_type": "execute_result"
    }
   ],
   "source": [
    "def fib(n,memo = {}):\n",
    "    if n in memo:\n",
    "        return memo[n]\n",
    "    if n<=2:\n",
    "        return 1\n",
    "    memo[n] =  fib(n-1)+fib(n-2)\n",
    "    return memo[n]\n",
    "fib(18)\n",
    "    "
   ]
  },
  {
   "cell_type": "code",
   "execution_count": 56,
   "metadata": {},
   "outputs": [
    {
     "data": {
      "text/plain": [
       "3"
      ]
     },
     "execution_count": 56,
     "metadata": {},
     "output_type": "execute_result"
    }
   ],
   "source": [
    "#Tabulation\n",
    "def fibItration(n):\n",
    "    dp = [0 for  i in range(n+1)]\n",
    "    dp[1] = 1\n",
    "    for i in range(2,n+1):\n",
    "        dp[i] = dp[i-1]+dp[i-2]\n",
    "    return dp[n]\n",
    "fibItration(4)"
   ]
  },
  {
   "cell_type": "markdown",
   "metadata": {},
   "source": [
    "# Grid Paths"
   ]
  },
  {
   "cell_type": "code",
   "execution_count": 13,
   "metadata": {},
   "outputs": [
    {
     "data": {
      "text/plain": [
       "2333606220"
      ]
     },
     "execution_count": 13,
     "metadata": {},
     "output_type": "execute_result"
    }
   ],
   "source": [
    "def gridPaths(n,m,memo = {}):\n",
    "    key = str(n)+'_'+str(m)\n",
    "    if key in memo:\n",
    "        return memo[key]\n",
    "    if n == 1 and m == 1:\n",
    "        return 1\n",
    "    if n == 0 or m == 0:\n",
    "        return 0\n",
    "    memo[key] = (gridPaths(n-1,m) + gridPaths(n,m-1))\n",
    "    return memo[key]\n",
    "gridPaths(18,18)"
   ]
  },
  {
   "cell_type": "code",
   "execution_count": 77,
   "metadata": {},
   "outputs": [
    {
     "name": "stdout",
     "output_type": "stream",
     "text": [
      "[[0, 0, 0, 0, 0], [0, 1, 1, 1, 1], [0, 1, 2, 3, 4], [0, 1, 3, 6, 10], [0, 1, 4, 10, 20]]\n"
     ]
    },
    {
     "data": {
      "text/plain": [
       "20"
      ]
     },
     "execution_count": 77,
     "metadata": {},
     "output_type": "execute_result"
    }
   ],
   "source": [
    "def gridPathsItration(m,n):\n",
    "    dp = [[0 for i in range(n+1)] for j in range(m+1)]\n",
    "    dp[1][1] = 1\n",
    "    for i in range(0,m+1):\n",
    "        for j in range(0,n+1):\n",
    "            if j+1 <=n:\n",
    "                dp[i][j+1] += dp[i][j] \n",
    "            if i+1 <=m:\n",
    "                dp[i+1][j] += dp[i][j]\n",
    "    print(dp)\n",
    "    return dp[m][n]\n",
    "gridPathsItration(4,4)"
   ]
  },
  {
   "cell_type": "code",
   "execution_count": 90,
   "metadata": {},
   "outputs": [
    {
     "name": "stdout",
     "output_type": "stream",
     "text": [
      "[[0, 1, 0], [1, 2, 2], [0, 2, 4], [0, 2, 6], [0, 2, 8]]\n"
     ]
    },
    {
     "data": {
      "text/plain": [
       "8"
      ]
     },
     "execution_count": 90,
     "metadata": {},
     "output_type": "execute_result"
    }
   ],
   "source": [
    "def gridPathsItration(m,n):\n",
    "    dp = [[0 for i in range(n+1)] for j in range(m+1)]\n",
    "    for i in range(m+1):\n",
    "        for j in range(n+1):\n",
    "            if i == 1 or j == 1:\n",
    "                dp[i][j] = 1\n",
    "    for i in range(1,m+1):\n",
    "        for j in range(1,n+1):\n",
    "            dp[i][j] = dp[i][j-1]+dp[i-1][j]\n",
    "    print(dp)\n",
    "    return dp[m][n]\n",
    "gridPathsItration(4,2)"
   ]
  },
  {
   "cell_type": "code",
   "execution_count": null,
   "metadata": {},
   "outputs": [],
   "source": []
  },
  {
   "cell_type": "markdown",
   "metadata": {},
   "source": [
    "# canSum"
   ]
  },
  {
   "cell_type": "code",
   "execution_count": 16,
   "metadata": {},
   "outputs": [
    {
     "data": {
      "text/plain": [
       "0"
      ]
     },
     "execution_count": 16,
     "metadata": {},
     "output_type": "execute_result"
    }
   ],
   "source": [
    "def canSum(num,arr,memo = {}):\n",
    "    if num in memo:\n",
    "        return memo[num]\n",
    "    if num == 0:\n",
    "        return 1\n",
    "    if num < 0:\n",
    "        return 0\n",
    "    for i in arr:\n",
    "        rem = num - i\n",
    "        if canSum(rem,arr):\n",
    "            memo[num] = 1\n",
    "            return 1\n",
    "    memo[num] = 0\n",
    "    return 0\n",
    "canSum(7,[2,3,4,5,7])\n",
    "canSum(300,[7,14])\n",
    "# n^m time complexty for recursion only and n space\n",
    "# m*n time complexty for memoized and O(m) space complexity"
   ]
  },
  {
   "cell_type": "code",
   "execution_count": 100,
   "metadata": {},
   "outputs": [
    {
     "data": {
      "text/plain": [
       "0"
      ]
     },
     "execution_count": 100,
     "metadata": {},
     "output_type": "execute_result"
    }
   ],
   "source": [
    "def canSumItrative(target,arr):\n",
    "    dp = [0 for i in range(target+1)]\n",
    "    dp[0] = 1\n",
    "    for i in range(len(dp)):\n",
    "        if dp[i] == 1:\n",
    "            for j in arr:\n",
    "                if i+j<len(dp):\n",
    "                    dp[i+j] = 1\n",
    "                    #print(dp)\n",
    "    return dp[target]\n",
    "canSumItrative(7,[2,6,8,9])"
   ]
  },
  {
   "cell_type": "markdown",
   "metadata": {},
   "source": [
    "# How Sum"
   ]
  },
  {
   "cell_type": "code",
   "execution_count": 6,
   "metadata": {},
   "outputs": [
    {
     "data": {
      "text/plain": [
       "[30, 20, 250]"
      ]
     },
     "execution_count": 6,
     "metadata": {},
     "output_type": "execute_result"
    }
   ],
   "source": [
    "def howSum(num,arr,memo = {}):\n",
    "    if num in memo:\n",
    "        return memo[num]\n",
    "    if num == 0:\n",
    "        return []\n",
    "    if num<0:\n",
    "        return -1\n",
    "    for i in arr:\n",
    "        rem = num-i\n",
    "        res = howSum(rem,arr,memo)\n",
    "        if res != -1:\n",
    "            l = res\n",
    "            l.append(i)\n",
    "            memo[num] = l\n",
    "            return l \n",
    "    memo[num] = -1\n",
    "    return -1\n",
    "howSum(300,[250,20,40,30])\n",
    "# Brute force\n",
    "# m = num,n = arr.lenght\n",
    "#time = O((n*m)*m)\n",
    "#space = O(m)\n",
    "\n",
    "# memoized\n",
    "# time: O(n*m*m) #copying also included\n",
    "# space: O(m^2)"
   ]
  },
  {
   "cell_type": "code",
   "execution_count": 111,
   "metadata": {},
   "outputs": [
    {
     "name": "stdout",
     "output_type": "stream",
     "text": [
      "[[], -1, [2], -1, -1, -1, -1, -1, -1]\n",
      "[[], -1, [2], [3], -1, -1, -1, -1, -1]\n",
      "[[], -1, [2], [3], -1, [5], -1, -1, -1]\n",
      "[[], -1, [2], [3], [2, 2], [5], -1, -1, -1]\n",
      "[[], -1, [2], [3], [2, 2], [2, 3], -1, -1, -1]\n",
      "[[], -1, [2], [3], [2, 2], [2, 3], -1, [2, 5], -1]\n",
      "[[], -1, [2], [3], [2, 2], [3, 2], -1, [2, 5], -1]\n",
      "[[], -1, [2], [3], [2, 2], [3, 2], [3, 3], [2, 5], -1]\n",
      "[[], -1, [2], [3], [2, 2], [3, 2], [3, 3], [2, 5], [3, 5]]\n",
      "[[], -1, [2], [3], [2, 2], [3, 2], [2, 2, 2], [2, 5], [3, 5]]\n",
      "[[], -1, [2], [3], [2, 2], [3, 2], [2, 2, 2], [2, 2, 3], [3, 5]]\n",
      "[[], -1, [2], [3], [2, 2], [3, 2], [2, 2, 2], [3, 2, 2], [3, 5]]\n",
      "[[], -1, [2], [3], [2, 2], [3, 2], [2, 2, 2], [3, 2, 2], [3, 2, 3]]\n",
      "[[], -1, [2], [3], [2, 2], [3, 2], [2, 2, 2], [3, 2, 2], [2, 2, 2, 2]]\n"
     ]
    },
    {
     "data": {
      "text/plain": [
       "[2, 2, 2, 2]"
      ]
     },
     "execution_count": 111,
     "metadata": {},
     "output_type": "execute_result"
    }
   ],
   "source": [
    "from copy import deepcopy\n",
    "def howSumItrattive(target,arr):\n",
    "    dp = [-1 for i in range(target+1)]\n",
    "    dp[0] = []\n",
    "    for i in range(target+1):\n",
    "        if dp[i] != -1:\n",
    "            for num in arr:\n",
    "                if i+num<=target:\n",
    "                    l = deepcopy(dp[i])\n",
    "                    dp[i+num] = l\n",
    "                    dp[i+num].append(num)\n",
    "                    print(dp)\n",
    "    return dp[-1]\n",
    "howSumItrattive(8,[2,3,5])"
   ]
  },
  {
   "cell_type": "markdown",
   "metadata": {},
   "source": [
    "# Best Sum"
   ]
  },
  {
   "cell_type": "code",
   "execution_count": 31,
   "metadata": {
    "scrolled": false
   },
   "outputs": [
    {
     "data": {
      "text/plain": [
       "[25, 25, 25, 25]"
      ]
     },
     "execution_count": 31,
     "metadata": {},
     "output_type": "execute_result"
    }
   ],
   "source": [
    "def bestSum(num,arr):\n",
    "    if num == 0:\n",
    "        return []\n",
    "    if num<0:\n",
    "        return -1\n",
    "    shortest = -1\n",
    "    for i in arr:\n",
    "        rem = num-i\n",
    "        result = bestSum(rem,arr)\n",
    "        if result != -1:\n",
    "            l = result\n",
    "            l.append(i)\n",
    "            if shortest == -1 or len(shortest)>len(l):\n",
    "                shortest = l\n",
    "    return shortest\n",
    "bestSum(100,[5,20,10,25])\n",
    "# Brute force\n",
    "# Time: O((n*m)*m)\n",
    "# Space: O(m*m) max stack depth plus every stack have shortest array of possible size m"
   ]
  },
  {
   "cell_type": "code",
   "execution_count": 114,
   "metadata": {},
   "outputs": [
    {
     "data": {
      "text/plain": [
       "[3, 5]"
      ]
     },
     "execution_count": 114,
     "metadata": {},
     "output_type": "execute_result"
    }
   ],
   "source": [
    "from copy import deepcopy\n",
    "def howBestItrattive(target,arr):\n",
    "    dp = [-1 for i in range(target+1)]\n",
    "    dp[0] = []\n",
    "    for i in range(target+1):\n",
    "        if dp[i] != -1:\n",
    "            for num in arr:\n",
    "                if i+num<=target:\n",
    "                    l = deepcopy(dp[i])\n",
    "                    l.append(num)\n",
    "                    if dp[i+num] == -1 or len(l) <len(dp[i+num]) :\n",
    "                        dp[i+num] = l\n",
    "    return dp[-1]\n",
    "howBestItrattive(8,[2,3,5])"
   ]
  },
  {
   "cell_type": "markdown",
   "metadata": {},
   "source": [
    "# Can construct"
   ]
  },
  {
   "cell_type": "code",
   "execution_count": 143,
   "metadata": {
    "scrolled": true
   },
   "outputs": [
    {
     "data": {
      "text/plain": [
       "True"
      ]
     },
     "execution_count": 143,
     "metadata": {},
     "output_type": "execute_result"
    }
   ],
   "source": [
    "def canConstruct(string,wordbank,memo = {}):\n",
    "    if string in memo:\n",
    "        return memo[string]\n",
    "    if len(string) == 0:\n",
    "        return True\n",
    "    for word in wordbank:\n",
    "        if string[:len(word)] == word:\n",
    "            if canConstruct(string[len(word):],wordbank):\n",
    "                memo[string] = True\n",
    "                return True\n",
    "    memo[string] = False\n",
    "    return False\n",
    "#canConstruct('eeeeeeeeeeeeeeeeeeeeeeeef',['e','ee','eee','eeee','eeeee','eeeeee'])\n",
    "#canConstruct('abcdef',['ab','abc','cd','def','abcd'])\n",
    "canConstruct(\"a\",[\"a\"])\n",
    "# Memoization\n",
    "# m = string length\n",
    "# n = wordbank length\n",
    "# Time: O(n*m^2)\n",
    "# Space: O(m*m)"
   ]
  },
  {
   "cell_type": "code",
   "execution_count": 120,
   "metadata": {},
   "outputs": [
    {
     "data": {
      "text/plain": [
       "1"
      ]
     },
     "execution_count": 120,
     "metadata": {},
     "output_type": "execute_result"
    }
   ],
   "source": [
    "def canConstructItrative(string,wordbank):\n",
    "    dp = [0 for i in range(len(string)+1)]\n",
    "    dp[0] = 1 # canConstructItrative(\"\",wordbank) == 1\n",
    "    for i in range(len(string)+1):\n",
    "        if dp[i] == 1:\n",
    "            for word in wordbank:\n",
    "                if string[i:i+len(word)] == word:\n",
    "                    dp[i+len(word)] = 1\n",
    "    return dp[-1]\n",
    "canConstructItrative('abcdef',['ab','abc','cd','def','abcd'])"
   ]
  },
  {
   "cell_type": "code",
   "execution_count": null,
   "metadata": {},
   "outputs": [],
   "source": [
    "def canConstruct(string,wordbank):\n",
    "    if len(string) == 0:\n",
    "        return True\n",
    "    for word in wordbank:\n",
    "        if string[:len(word)] == word:\n",
    "            if canConstruct(string[len(word):],wordbank):\n",
    "                return True\n",
    "    return False\n",
    "canConstruct('eeeeeeeeeeeeeeeeeeeeeeeef',['e','ee','eee','eeee','eeeee','eeeeee'])\n",
    "#canConstruct('abcdef',['ab','abc','cd','def','abcd'])\n",
    "# memoize\n",
    "# m = string length\n",
    "# n = wordbank length\n",
    "# Time: O(n^m)*m braching factor * height of tree\n",
    "# Space: O(m)"
   ]
  },
  {
   "cell_type": "code",
   "execution_count": 45,
   "metadata": {},
   "outputs": [
    {
     "data": {
      "text/plain": [
       "0"
      ]
     },
     "execution_count": 45,
     "metadata": {},
     "output_type": "execute_result"
    }
   ],
   "source": [
    "#countcanConstruct\n",
    "def canConstruct(string,wordbank,memo = {}):\n",
    "    if string in memo:\n",
    "        return memo[string]\n",
    "    if len(string) == 0:\n",
    "        return 1\n",
    "    total = 0\n",
    "    for word in wordbank:\n",
    "        if string[:len(word)] == word:\n",
    "            ways = canConstruct(string[len(word):],wordbank,memo)\n",
    "            total+=ways\n",
    "    memo[string] = total\n",
    "    return total\n",
    "canConstruct('eeeeeeeeeeeeeeeeeeeeeeeef',['e','ee','eee','eeee','eeeee','eeeeee'])\n",
    "#canConstruct('abcdef',['ab','abc','cd','def','abcd'])"
   ]
  },
  {
   "cell_type": "code",
   "execution_count": 129,
   "metadata": {},
   "outputs": [
    {
     "name": "stdout",
     "output_type": "stream",
     "text": [
      "[1, 0, 0, 0, 1, 0, 0]\n",
      "[1, 1, 0, 0, 1, 0, 0]\n",
      "[1, 1, 0, 0, 1, 1, 0]\n",
      "[1, 1, 0, 1, 1, 1, 0]\n",
      "[1, 1, 0, 1, 2, 1, 0]\n",
      "[1, 1, 0, 1, 2, 1, 2]\n"
     ]
    },
    {
     "data": {
      "text/plain": [
       "2"
      ]
     },
     "execution_count": 129,
     "metadata": {},
     "output_type": "execute_result"
    }
   ],
   "source": [
    "def countConstructIterative(string,wordbank):\n",
    "    dp = [0 for i in range(len(string)+1)]\n",
    "    dp[0] = 1 # canConstructItrative(\"\",wordbank) == 1\n",
    "    for i in range(len(string)+1):\n",
    "        if dp[i] != 0:\n",
    "            for word in wordbank:\n",
    "                if string[i:i+len(word)] == word:\n",
    "                    dp[i+len(word)] +=dp[i]\n",
    "                    print(dp)\n",
    "    return dp[-1]\n",
    "#countConstructIterative('abcdef',['ab','abc','cd','def','abcd'])\n",
    "countConstructIterative('purple',['purp','p','ur','le','purpl'])"
   ]
  },
  {
   "cell_type": "markdown",
   "metadata": {},
   "source": [
    "# all Construct"
   ]
  },
  {
   "cell_type": "code",
   "execution_count": 157,
   "metadata": {},
   "outputs": [
    {
     "data": {
      "text/plain": [
       "[['purp', 'le'], ['p', 'ur', 'p', 'le']]"
      ]
     },
     "execution_count": 157,
     "metadata": {},
     "output_type": "execute_result"
    }
   ],
   "source": [
    "def allConstruct(string,wordbank,memo = {}):\n",
    "    #if string in memo:\n",
    "    #    return memo[string]\n",
    "    if string == '':\n",
    "        return [[]]\n",
    "    result = []\n",
    "    for word in wordbank:\n",
    "        if word == string[:len(word)]:\n",
    "            suffix = string[len(word):]\n",
    "            suffixWays = allConstruct(suffix,wordbank,memo)\n",
    "            targetWays = suffixWays\n",
    "            for row in targetWays:\n",
    "                #row.append(word)\n",
    "                row.insert(0,word)\n",
    "            for i in targetWays:\n",
    "                result.append(i)\n",
    "    #memo[string] = result\n",
    "    return result\n",
    "allConstruct('purple',['purp','p','ur','le','purpl'])\n",
    "#allConstruct('skateboard',['bo','rd','ate','t','ska'])\n",
    "# Time : O(n^m)\n",
    "\n",
    "\n",
    "\n",
    "#allConstruct('',['cat','dog']) => [[]]\n",
    "#allConstruct('birds',['cat','dog']) => []"
   ]
  },
  {
   "cell_type": "code",
   "execution_count": 158,
   "metadata": {},
   "outputs": [
    {
     "data": {
      "text/plain": [
       "['purp le', 'p ur p le']"
      ]
     },
     "execution_count": 158,
     "metadata": {},
     "output_type": "execute_result"
    }
   ],
   "source": [
    "def allConstruct(string,wordbank,memo = {}):\n",
    "    #if string in memo:\n",
    "    #    return memo[string]\n",
    "    if string == '':\n",
    "        return [\"\"]\n",
    "    result = []\n",
    "    for word in wordbank:\n",
    "        if word == string[:len(word)]:\n",
    "            suffix = string[len(word):]\n",
    "            suffixWays = allConstruct(suffix,wordbank,memo)\n",
    "            targetWays = suffixWays\n",
    "            for row in targetWays:\n",
    "                #row.append(word)\n",
    "                if row != \"\":\n",
    "                    row = word+\" \"+row\n",
    "                    result.append(row)\n",
    "                else:\n",
    "                    row = word+row\n",
    "                    result.append(row)\n",
    "            #for i in targetWays:\n",
    "            #    result.append(i)\n",
    "    #memo[string] = result\n",
    "    return result\n",
    "allConstruct('purple',['purp','p','ur','le','purpl'])\n"
   ]
  },
  {
   "cell_type": "code",
   "execution_count": null,
   "metadata": {},
   "outputs": [],
   "source": [
    "def wordBreak(self, s: str, wordDict: List[str],memo = {}) -> List[str]:\n",
    "    wl, ws = len(s), set(wordDict)\n",
    "\n",
    "    @lru_cache\n",
    "    def helper(i):\n",
    "        if i == wl:\n",
    "            return ['']\n",
    "        result = []\n",
    "        for j in range(i + 1, wl + 1):\n",
    "            if s[i:j] in ws:\n",
    "                for tail in helper(j):\n",
    "                    result.append(s[i:j] + (' ' + tail if tail != '' else ''))\n",
    "        return result\n",
    "\n",
    "    return helper(0)"
   ]
  },
  {
   "cell_type": "code",
   "execution_count": 155,
   "metadata": {},
   "outputs": [
    {
     "data": {
      "text/plain": [
       "[['abc', 'def'], ['ab', 'c', 'def'], ['abcd', 'ef'], ['ab', 'cd', 'ef']]"
      ]
     },
     "execution_count": 155,
     "metadata": {},
     "output_type": "execute_result"
    }
   ],
   "source": [
    "from copy import deepcopy\n",
    "def allConstructIterative(string,wordbank):\n",
    "    dp = [[] for i in range(len(string)+1)]\n",
    "    dp[0] = [[]]\n",
    "    for i in range(len(string)+1):\n",
    "        if dp[i] != []:\n",
    "            for word in wordbank:\n",
    "                if string[i:i+len(word)] == word:\n",
    "                    for row in dp[i]:\n",
    "                        d = deepcopy(row)\n",
    "                        d.append(word)\n",
    "                        dp[i+len(word)].append(d)\n",
    "                    #print(dp)\n",
    "    return dp[-1]\n",
    "#allConstructIterative('purple',['purp','p','ur','le','purpl'])  \n",
    "allConstructIterative('abcdef',['ab','abc','cd','def','abcd','ef','c'])"
   ]
  },
  {
   "cell_type": "code",
   "execution_count": null,
   "metadata": {},
   "outputs": [],
   "source": []
  },
  {
   "cell_type": "code",
   "execution_count": 142,
   "metadata": {},
   "outputs": [
    {
     "name": "stdout",
     "output_type": "stream",
     "text": [
      "[['c']]\n"
     ]
    },
    {
     "ename": "TypeError",
     "evalue": "'NoneType' object is not iterable",
     "output_type": "error",
     "traceback": [
      "\u001b[0;31m---------------------------------------------------------------------------\u001b[0m",
      "\u001b[0;31mTypeError\u001b[0m                                 Traceback (most recent call last)",
      "\u001b[0;32m<ipython-input-142-539ca4e4bcf7>\u001b[0m in \u001b[0;36m<module>\u001b[0;34m\u001b[0m\n\u001b[1;32m     12\u001b[0m         \u001b[0mprint\u001b[0m\u001b[0;34m(\u001b[0m\u001b[0mcombinationWithout\u001b[0m\u001b[0;34m)\u001b[0m\u001b[0;34m\u001b[0m\u001b[0;34m\u001b[0m\u001b[0m\n\u001b[1;32m     13\u001b[0m     \u001b[0;32mreturn\u001b[0m \u001b[0mcombinationWith\u001b[0m\u001b[0;34m.\u001b[0m\u001b[0mextend\u001b[0m\u001b[0;34m(\u001b[0m\u001b[0mcombinationWithout\u001b[0m\u001b[0;34m)\u001b[0m\u001b[0;34m\u001b[0m\u001b[0;34m\u001b[0m\u001b[0m\n\u001b[0;32m---> 14\u001b[0;31m \u001b[0mcombination\u001b[0m\u001b[0;34m(\u001b[0m\u001b[0;34m[\u001b[0m\u001b[0;34m'a'\u001b[0m\u001b[0;34m,\u001b[0m\u001b[0;34m'b'\u001b[0m\u001b[0;34m,\u001b[0m\u001b[0;34m'c'\u001b[0m\u001b[0;34m]\u001b[0m\u001b[0;34m)\u001b[0m\u001b[0;34m\u001b[0m\u001b[0;34m\u001b[0m\u001b[0m\n\u001b[0m",
      "\u001b[0;32m<ipython-input-142-539ca4e4bcf7>\u001b[0m in \u001b[0;36mcombination\u001b[0;34m(arr)\u001b[0m\n\u001b[1;32m      4\u001b[0m     \u001b[0mfirst\u001b[0m \u001b[0;34m=\u001b[0m \u001b[0marr\u001b[0m\u001b[0;34m[\u001b[0m\u001b[0;36m0\u001b[0m\u001b[0;34m]\u001b[0m\u001b[0;34m\u001b[0m\u001b[0;34m\u001b[0m\u001b[0m\n\u001b[1;32m      5\u001b[0m     \u001b[0mrest\u001b[0m \u001b[0;34m=\u001b[0m \u001b[0marr\u001b[0m\u001b[0;34m[\u001b[0m\u001b[0;36m1\u001b[0m\u001b[0;34m:\u001b[0m\u001b[0;34m]\u001b[0m\u001b[0;34m\u001b[0m\u001b[0;34m\u001b[0m\u001b[0m\n\u001b[0;32m----> 6\u001b[0;31m     \u001b[0mcombinationWithout\u001b[0m \u001b[0;34m=\u001b[0m \u001b[0mcombination\u001b[0m\u001b[0;34m(\u001b[0m\u001b[0mrest\u001b[0m\u001b[0;34m)\u001b[0m\u001b[0;34m\u001b[0m\u001b[0;34m\u001b[0m\u001b[0m\n\u001b[0m\u001b[1;32m      7\u001b[0m     \u001b[0mcombinationWith\u001b[0m \u001b[0;34m=\u001b[0m \u001b[0;34m[\u001b[0m\u001b[0;34m]\u001b[0m\u001b[0;34m\u001b[0m\u001b[0;34m\u001b[0m\u001b[0m\n\u001b[1;32m      8\u001b[0m     \u001b[0;32mfor\u001b[0m \u001b[0mrow\u001b[0m \u001b[0;32min\u001b[0m \u001b[0mcombinationWithout\u001b[0m\u001b[0;34m:\u001b[0m\u001b[0;34m\u001b[0m\u001b[0;34m\u001b[0m\u001b[0m\n",
      "\u001b[0;32m<ipython-input-142-539ca4e4bcf7>\u001b[0m in \u001b[0;36mcombination\u001b[0;34m(arr)\u001b[0m\n\u001b[1;32m      6\u001b[0m     \u001b[0mcombinationWithout\u001b[0m \u001b[0;34m=\u001b[0m \u001b[0mcombination\u001b[0m\u001b[0;34m(\u001b[0m\u001b[0mrest\u001b[0m\u001b[0;34m)\u001b[0m\u001b[0;34m\u001b[0m\u001b[0;34m\u001b[0m\u001b[0m\n\u001b[1;32m      7\u001b[0m     \u001b[0mcombinationWith\u001b[0m \u001b[0;34m=\u001b[0m \u001b[0;34m[\u001b[0m\u001b[0;34m]\u001b[0m\u001b[0;34m\u001b[0m\u001b[0;34m\u001b[0m\u001b[0m\n\u001b[0;32m----> 8\u001b[0;31m     \u001b[0;32mfor\u001b[0m \u001b[0mrow\u001b[0m \u001b[0;32min\u001b[0m \u001b[0mcombinationWithout\u001b[0m\u001b[0;34m:\u001b[0m\u001b[0;34m\u001b[0m\u001b[0;34m\u001b[0m\u001b[0m\n\u001b[0m\u001b[1;32m      9\u001b[0m         \u001b[0md\u001b[0m \u001b[0;34m=\u001b[0m \u001b[0mrow\u001b[0m\u001b[0;34m\u001b[0m\u001b[0;34m\u001b[0m\u001b[0m\n\u001b[1;32m     10\u001b[0m         \u001b[0md\u001b[0m\u001b[0;34m.\u001b[0m\u001b[0mappend\u001b[0m\u001b[0;34m(\u001b[0m\u001b[0mfirst\u001b[0m\u001b[0;34m)\u001b[0m\u001b[0;34m\u001b[0m\u001b[0;34m\u001b[0m\u001b[0m\n",
      "\u001b[0;31mTypeError\u001b[0m: 'NoneType' object is not iterable"
     ]
    }
   ],
   "source": [
    "def combination(arr):\n",
    "    if len(arr) == 0:\n",
    "        return [[]]\n",
    "    first = arr[0]\n",
    "    rest = arr[1:]\n",
    "    combinationWithout = combination(rest)\n",
    "    combinationWith = []\n",
    "    for row in combinationWithout:\n",
    "        d = row\n",
    "        d.append(first)\n",
    "        combinationWith.append(d)\n",
    "        print(combinationWithout)\n",
    "    return combinationWith.extend(combinationWithout)\n",
    "combination(['a','b','c'])"
   ]
  },
  {
   "cell_type": "code",
   "execution_count": 141,
   "metadata": {},
   "outputs": [
    {
     "name": "stdout",
     "output_type": "stream",
     "text": [
      "[]\n"
     ]
    }
   ],
   "source": [
    "s = [[]]\n",
    "for row in s:\n",
    "    print(row)"
   ]
  },
  {
   "cell_type": "markdown",
   "metadata": {},
   "source": [
    "                                             Dyanamic Programming\n",
    "#                                                              1.\n",
    "# 0 - 1 knapsack"
   ]
  },
  {
   "cell_type": "code",
   "execution_count": 5,
   "metadata": {},
   "outputs": [],
   "source": [
    "# \n",
    "def knapsack(wt,val,W,n):\n",
    "    dp = [[0 for x  in range(W+1)] for x in range(n+1)]\n",
    "    for i in range(1,n+1):\n",
    "        for w in range(1,W+1):\n",
    "            if i == 0 or w == 0:\n",
    "                dp[i][w] =0\n",
    "            elif wt[i-1] <= w:\n",
    "                dp[i][w] = max(val[i-1] + dp[i-1][w-wt[i-1]],dp[i-1][w])\n",
    "            else:\n",
    "                dp[i][w] = dp[i-1][w]\n",
    "    return dp[n][W]"
   ]
  },
  {
   "cell_type": "code",
   "execution_count": 6,
   "metadata": {},
   "outputs": [
    {
     "ename": "SyntaxError",
     "evalue": "invalid syntax (<ipython-input-6-d2a1f53a754f>, line 9)",
     "output_type": "error",
     "traceback": [
      "\u001b[0;36m  File \u001b[0;32m\"<ipython-input-6-d2a1f53a754f>\"\u001b[0;36m, line \u001b[0;32m9\u001b[0m\n\u001b[0;31m    return dp[n][W] = max(val[n-1]+knapsack(wt,val,W-wt[n-1],n-1),knapsack(wt,val,W,n-1))\u001b[0m\n\u001b[0m                    ^\u001b[0m\n\u001b[0;31mSyntaxError\u001b[0m\u001b[0;31m:\u001b[0m invalid syntax\n"
     ]
    }
   ],
   "source": [
    "global dp \n",
    "dp = [[-1 for x in range(100)] for x in range(100)]\n",
    "def knapsack(wt,val,W,n):\n",
    "    if W==0 or n == 0:\n",
    "        return 0\n",
    "    if dp[n][W] != -1:\n",
    "        return dp[n][W]\n",
    "    if wt[n-1] <= W:\n",
    "        return dp[n][W] = max(val[n-1]+knapsack(wt,val,W-wt[n-1],n-1),knapsack(wt,val,W,n-1))\n",
    "    if wt[n-1]>W:\n",
    "        return dp[n][W] = knapsack(wt,val,W,n-1)"
   ]
  },
  {
   "cell_type": "markdown",
   "metadata": {},
   "source": [
    "### subset sum problem"
   ]
  },
  {
   "cell_type": "code",
   "execution_count": null,
   "metadata": {},
   "outputs": [],
   "source": [
    "# recursive solution\n",
    "def helper(A,B,n):\n",
    "    if B == 0 and n == 0:\n",
    "        return 1\n",
    "    if n == 0 and B>0:\n",
    "        return 0\n",
    "    if B >= A[n-1]:\n",
    "        return helper(A,B-A[n-1],n-1) or helper(A,B,n-1)\n",
    "    else:\n",
    "        return helper(A,B,n-1)\n",
    "n = len(A)\n",
    "return helper(A,B,n)"
   ]
  },
  {
   "cell_type": "code",
   "execution_count": 2,
   "metadata": {},
   "outputs": [],
   "source": [
    "def solve(A, B):\n",
    "    n = len(A)\n",
    "    dp = [[0 for i in range(B+1)] for j in range(n+1)]\n",
    "    for i in range(n+1):\n",
    "        for j in range(B+1):\n",
    "            if j == 0:\n",
    "                dp[i][j] = 1\n",
    "    for i in range(1,n+1):\n",
    "        for j in range(1,B+1):\n",
    "            if j >= A[i-1]:\n",
    "                dp[i][j] = dp[i-1][j-A[i-1]] or dp[i-1][j] # to count all the subsets with given sum  the \n",
    "            elif A[i-1]>j:                                 # we need to replace or with '+'   \n",
    "                dp[i][j] = dp[i-1][j]\n",
    "    return dp[n][B]"
   ]
  },
  {
   "cell_type": "markdown",
   "metadata": {},
   "source": [
    "#### equal sum partition"
   ]
  },
  {
   "cell_type": "code",
   "execution_count": 3,
   "metadata": {},
   "outputs": [],
   "source": [
    "def equalPart(arr):\n",
    "    if sum(arr)%2 != 0:\n",
    "        return 0\n",
    "    W =sum(arr)//2\n",
    "    return solve(arr,W)"
   ]
  },
  {
   "cell_type": "markdown",
   "metadata": {},
   "source": [
    "####  minimum subset sum"
   ]
  },
  {
   "cell_type": "code",
   "execution_count": 4,
   "metadata": {},
   "outputs": [],
   "source": [
    "def solve(arr):\n",
    "    def helper(arr,r,n):\n",
    "        dp = [[0 for y in range(r+1)] for x in range(n+1)]\n",
    "        for i in range(n+1):\n",
    "            for j in range(r+1):\n",
    "                if i == 0:\n",
    "                    dp[i][j] = 0\n",
    "                if j == 0:\n",
    "                    dp[i][j] = 1\n",
    "        for i in range(1,n+1):\n",
    "            for j in range(1,r+1):\n",
    "                if arr[i-1] <= j:\n",
    "                    dp[i][j] = dp[i-1][j-arr[i-1]] or dp[i-1][j]\n",
    "                elif arr[i-1] > j:\n",
    "                    dp[i][j] = dp[i-1][j]\n",
    "        res = []\n",
    "        for k in range((r//2) +1):\n",
    "            if dp[n][k]:\n",
    "                res.append(k)\n",
    "\n",
    "        return res\n",
    "\n",
    "    n = len(arr)\n",
    "    r = sum(arr)\n",
    "    s = helper(arr,r,n)\n",
    "    mini = float('inf')\n",
    "    for l in range(len(s)):\n",
    "        mini = min(mini,r - 2*s[l])\n",
    "    return mini"
   ]
  },
  {
   "cell_type": "markdown",
   "metadata": {},
   "source": [
    "#### count the number with given differnce and target sum"
   ]
  },
  {
   "cell_type": "code",
   "execution_count": null,
   "metadata": {},
   "outputs": [],
   "source": [
    "def CountSub(A, B):\n",
    "    n = len(A)\n",
    "    dp = [[0 for i in range(B+1)] for j in range(n+1)]\n",
    "    for i in range(n+1):\n",
    "        for j in range(B+1):\n",
    "            if j == 0:\n",
    "                dp[i][j] = 1\n",
    "    for i in range(1,n+1):\n",
    "        for j in range(1,B+1):\n",
    "            if j >= A[i-1]:\n",
    "                dp[i][j] = dp[i-1][j-A[i-1]] + dp[i-1][j] # to count all the subsets with given sum  the \n",
    "            elif A[i-1]>j:                                 # we need to replace or with '+'   \n",
    "                dp[i][j] = dp[i-1][j]\n",
    "    return dp[n][B]\n",
    "A = []\n",
    "d = 5 # given differnce\n",
    "B = (sum(A)+d)/2\n",
    "CountSub(A,B)"
   ]
  },
  {
   "cell_type": "code",
   "execution_count": null,
   "metadata": {},
   "outputs": [],
   "source": [
    "# leetcode wdge cases read again\n",
    "def findTargetSumWays(self, nums: List[int], S: int) -> int:\n",
    "    if S > sum(nums):\n",
    "        return 0\n",
    "    if (S+sum(nums))%2 != 0:\n",
    "        return 0\n",
    "    else :\n",
    "        target = (S+sum(nums))//2\n",
    "\n",
    "    nums.sort()\n",
    "\n",
    "    dp = [[0]*(target+1) for _ in range(len(nums)+1)]\n",
    "\n",
    "\n",
    "    for X in range(len(dp)):\n",
    "        dp[X][0] = 2**(nums.count(0))\n",
    "\n",
    "\n",
    "    for i in range(1,len(dp)):\n",
    "        for j in range(1,len(dp[0])):\n",
    "            if nums[i-1] <= j :\n",
    "                dp[i][j] = dp[i-1][j] + dp[i-1][j-nums[i-1]]\n",
    "\n",
    "            else :\n",
    "                dp[i][j] = dp[i-1][j]\n",
    "\n",
    "    return dp[-1][-1]"
   ]
  },
  {
   "cell_type": "markdown",
   "metadata": {},
   "source": [
    "# 2.\n",
    "# Unbounded knapsack"
   ]
  },
  {
   "cell_type": "code",
   "execution_count": null,
   "metadata": {},
   "outputs": [],
   "source": [
    "def knapsack(wt,val,W,n):\n",
    "    dp = [[0 for x  in range(W+1)] for x in range(n+1)]\n",
    "    for i in range(1,n+1):\n",
    "        for w in range(1,W+1):\n",
    "            if i == 0 or w == 0:\n",
    "                dp[i][w] =0\n",
    "            elif wt[i-1] <= w:\n",
    "                # change is we are calling again the same item to be include and leaving item same as\n",
    "                #before which is not included\n",
    "                dp[i][w] = max(val[i-1] + dp[i][w-wt[i-1]],dp[i-1][w])\n",
    "            else:\n",
    "                dp[i][w] = dp[i-1][w]\n",
    "    return dp[n][W]"
   ]
  },
  {
   "cell_type": "code",
   "execution_count": null,
   "metadata": {},
   "outputs": [],
   "source": [
    "global dp \n",
    "dp = [[-1 for x in range(100)] for x in range(100)]\n",
    "def knapsack(wt,val,W,n):\n",
    "    if W==0 or n == 0:\n",
    "        return 0\n",
    "    if dp[n][W] != -1:\n",
    "        return dp[n][W]\n",
    "    if wt[n-1] <= W:                                    \n",
    "        return dp[n][W] = max(val[n-1]+knapsack(wt,val,W-wt[n-1],n),knapsack(wt,val,W,n-1))\n",
    "                                                        #change--^ n in place of n-1\n",
    "    if wt[n-1]>W:\n",
    "        return dp[n][W] = knapsack(wt,val,W,n-1)"
   ]
  },
  {
   "cell_type": "code",
   "execution_count": null,
   "metadata": {},
   "outputs": [],
   "source": [
    "def unboundedKnapsack(W, n, val, wt): \n",
    "  \n",
    "    # dp[i] is going to store maximum  \n",
    "    # value with knapsack capacity i. \n",
    "    dp = [0 for i in range(W + 1)] \n",
    "  \n",
    "    ans = 0\n",
    "  \n",
    "    # Fill dp[] using above recursive formula \n",
    "    for i in range(W + 1): \n",
    "        for j in range(n): \n",
    "            if (wt[j] <= i): \n",
    "                dp[i] = max(dp[i], dp[i - wt[j]] + val[j]) \n",
    "  \n",
    "    return dp[W] "
   ]
  },
  {
   "cell_type": "code",
   "execution_count": 2,
   "metadata": {},
   "outputs": [],
   "source": [
    "global dp\n",
    "n = 10\n",
    "W = 50\n",
    "dp = [[-1 for i in range(W+1)] for j in range(n+1)]\n",
    "def unbounded(val,wt,W,n):\n",
    "\n",
    "    if n == 0 or W == 0:\n",
    "        return 0\n",
    "    if dp[n][W] != -1:\n",
    "        return dp[n][W]\n",
    "    if val[n-1] <= W:\n",
    "        dp[n][W] = max(val[n-1]+unbounded(val,wt,W-val[n-1],n),unbounded(val,wt,W,n-1))\n",
    "        return dp[n][W]\n",
    "    elif val[n-1] > W:\n",
    "        dp[n][W] = unbounded(val,wt,W,n-1)"
   ]
  },
  {
   "cell_type": "markdown",
   "metadata": {},
   "source": [
    "#### Cutting a Rod \n",
    "Given a rod of length n inches and an array of prices that contains prices of all pieces of size smaller than n. Determine the maximum value obtainable by cutting up the rod and selling the pieces. "
   ]
  },
  {
   "cell_type": "code",
   "execution_count": null,
   "metadata": {},
   "outputs": [],
   "source": [
    "def rodCutting()\n",
    "length = []\n",
    "price = []"
   ]
  },
  {
   "cell_type": "markdown",
   "metadata": {},
   "source": [
    "# 3.\n",
    "# Longest Comman Subsequence(LCS)"
   ]
  },
  {
   "cell_type": "markdown",
   "metadata": {},
   "source": [
    "# Kadane's Algorithm\n",
    "### maximum product subarray"
   ]
  },
  {
   "cell_type": "code",
   "execution_count": 10,
   "metadata": {},
   "outputs": [
    {
     "data": {
      "text/plain": [
       "0"
      ]
     },
     "execution_count": 10,
     "metadata": {},
     "output_type": "execute_result"
    }
   ],
   "source": [
    "# negative answer also covered here \n",
    "def maxProduct(arr):\n",
    "    max_so_far = arr[0]\n",
    "    max_here = arr[0]\n",
    "    min_here = arr[0]\n",
    "    for i in range(1,len(arr)):\n",
    "        if arr[i] == 0:\n",
    "            max_here = 0\n",
    "            min_here = 1\n",
    "        elif arr[i]>0:\n",
    "            min_here = min_here*arr[i]\n",
    "            max_here = max_here*arr[i]\n",
    "        elif arr[i]<0:\n",
    "            prevmax = max_here\n",
    "            max_here = min_here*arr[i]\n",
    "            min_here = prevmax*arr[i]\n",
    "        max_so_far = max(max_so_far,max_here)\n",
    "        if max_here <=0:\n",
    "            max_here = 1\n",
    "    return max_so_far\n",
    "arr = [0, -4, 0, -2]\n",
    "maxProduct(arr)"
   ]
  },
  {
   "cell_type": "markdown",
   "metadata": {},
   "source": [
    "### Longest Increasing subsequence"
   ]
  },
  {
   "cell_type": "code",
   "execution_count": 2,
   "metadata": {},
   "outputs": [
    {
     "data": {
      "text/plain": [
       "5"
      ]
     },
     "execution_count": 2,
     "metadata": {},
     "output_type": "execute_result"
    }
   ],
   "source": [
    "def Longest(arr,ans,i):\n",
    "    if i == len(arr)-1 and arr[i]>=arr[i-1]:\n",
    "        return 0\n",
    "    if arr[i+1]>=arr[i]:\n",
    "        return max(1+Longest(arr,ans,i+1),Longest(arr,ans,i+1))\n",
    "    else:\n",
    "        return Longest(arr,ans,i+1)\n",
    "arr = [10, 22, 9, 33, 21, 50, 41, 60, 80]\n",
    "ans = 10\n",
    "Longest(arr,ans,0)"
   ]
  },
  {
   "cell_type": "markdown",
   "metadata": {},
   "source": [
    "# Matrix Chain Multiplication(MCM)"
   ]
  },
  {
   "cell_type": "markdown",
   "metadata": {},
   "source": [
    "#### Formate\n",
    "steps\n",
    "<li>find i and j</li>\n",
    "<li>find base condition\n",
    "<li>find k loop\n",
    "<li>get answer from temperary answers"
   ]
  },
  {
   "cell_type": "code",
   "execution_count": 3,
   "metadata": {},
   "outputs": [
    {
     "ename": "IndentationError",
     "evalue": "unexpected indent (<ipython-input-3-b1518c736304>, line 7)",
     "output_type": "error",
     "traceback": [
      "\u001b[0;36m  File \u001b[0;32m\"<ipython-input-3-b1518c736304>\"\u001b[0;36m, line \u001b[0;32m7\u001b[0m\n\u001b[0;31m    solve(arr,k+1,j)\u001b[0m\n\u001b[0m    ^\u001b[0m\n\u001b[0;31mIndentationError\u001b[0m\u001b[0;31m:\u001b[0m unexpected indent\n"
     ]
    }
   ],
   "source": [
    "def solve(arr,i,j):\n",
    "    if i>j:\n",
    "        return 0\n",
    "    for k in range(i,j):\n",
    "        temp_ans = solve(arr,i,k)\n",
    "                   # some operator\n",
    "                   solve(arr,k+1,j)\n",
    "        ans = fun(ans,temp_ans)\n",
    "    return ans"
   ]
  },
  {
   "cell_type": "markdown",
   "metadata": {},
   "source": [
    "### MCM"
   ]
  },
  {
   "cell_type": "code",
   "execution_count": 6,
   "metadata": {},
   "outputs": [
    {
     "data": {
      "text/plain": [
       "18"
      ]
     },
     "execution_count": 6,
     "metadata": {},
     "output_type": "execute_result"
    }
   ],
   "source": [
    "global dp\n",
    "arr = [1, 2, 3, 4]\n",
    "\n",
    "dp = [[-1 for i in range(len(arr)+1)]for k in range(len(arr)+1)]\n",
    "i = 1\n",
    "j = len(arr)-1\n",
    "def mcm(arr,i,j):\n",
    "    if i>=j:\n",
    "        return 0\n",
    "    if dp[i][j] != -1:\n",
    "        return dp[i][j]\n",
    "    ans = float('inf')\n",
    "    for k in range(i,j):\n",
    "        temp = mcm(arr,i,k)+mcm(arr,k+1,j)+arr[i-1]*arr[k]*arr[j]\n",
    "        ans = min(ans,temp)\n",
    "    dp[i][j] = ans\n",
    "    return dp[i][j]\n",
    "\n",
    "mcm(arr,i,j)"
   ]
  },
  {
   "cell_type": "markdown",
   "metadata": {},
   "source": [
    "### Palindrome Partitioning"
   ]
  },
  {
   "cell_type": "code",
   "execution_count": null,
   "metadata": {},
   "outputs": [],
   "source": [
    "global dp1\n",
    "s = 'nitik'\n",
    "dp = [[-1 for i in range(len(s)+1)]for k in range(len(s)+1)]\n",
    "def PalPart(s,i,j):\n",
    "    if i>=j:\n",
    "        return 0\n",
    "    if isPal(s,i,j):\n",
    "        return 0\n",
    "    if dp1 != -1:\n",
    "        return dp1[i][j]\n",
    "    ans = float('inf')\n",
    "    for k in range(i,j):\n",
    "        if dp[i][k] != -1:\n",
    "            left = dp[i][k]\n",
    "        else:\n",
    "            left = PalPart(s,i,k)\n",
    "        if dp[k+1][j] != -1:\n",
    "            right = dp[k+1][j]\n",
    "        else:\n",
    "            right = PalPart(s,k+1,j)\n",
    "        temp = left+right+1\n",
    "        ans = min(ans,temp)\n",
    "    dp1[i][j] = ans\n",
    "    return dp1[i][j]\n",
    "s = 'nitinn'\n",
    "i = 0\n",
    "j = len(s)-1\n",
    "PalPal(s,i,j)"
   ]
  },
  {
   "cell_type": "markdown",
   "metadata": {},
   "source": [
    "### Evaluate Expression to True Boolean Parenthesization"
   ]
  },
  {
   "cell_type": "code",
   "execution_count": null,
   "metadata": {},
   "outputs": [],
   "source": [
    "s = 'T|F^'\n",
    "\n",
    "def EvalExpress(s,i,j,isTrue):\n",
    "    if i>j:\n",
    "        return False\n",
    "    if i == j:\n",
    "        if isTrue == True:\n",
    "            return s[i] == 'T'\n",
    "        else:\n",
    "            return s[i] == 'F'\n",
    "    ans = 0\n",
    "    for k in range(i,j,2):\n",
    "        lt = EvalExpress(s,i,k-1,True)\n",
    "        lf = EvalExpress(s,i,k-1,False)\n",
    "        rt = EvalExpress(s,k+1,j,True)\n",
    "        rf = EvalExpress(s,k+1,j,False)\n",
    "        if s[k] == '&':\n",
    "            if isTrue:\n",
    "                ans = ans + lt*rt\n",
    "            else:\n",
    "                ans = ans + lt*rf + lf*rt + lf*rf\n",
    "        elif s[k] == '|':\n",
    "            if isTrue:\n",
    "                ans+=lt*rt + lf*rt + lt*rf\n",
    "            else:\n",
    "                ans+=ans + lf*rf\n",
    "        elif s[k] == '^':\n",
    "            if isTrue:\n",
    "                ans+=lt*rf + lf*rt\n",
    "            else:\n",
    "                ans+=lt*rt +lf*rf\n",
    "    return ans\n",
    "i = 0\n",
    "j = len(s)-1\n",
    "isTrue = True\n",
    "EvalExpress(s,i,j,isTrue)    "
   ]
  },
  {
   "cell_type": "markdown",
   "metadata": {},
   "source": [
    "memoization"
   ]
  },
  {
   "cell_type": "code",
   "execution_count": 9,
   "metadata": {},
   "outputs": [
    {
     "data": {
      "text/plain": [
       "0"
      ]
     },
     "execution_count": 9,
     "metadata": {},
     "output_type": "execute_result"
    }
   ],
   "source": [
    "s = 'T|F'\n",
    "global dp1\n",
    "dp = dict()\n",
    "def EvalExpress(s,i,j,isTrue):\n",
    "    if i>j:\n",
    "        return False\n",
    "    if i == j:\n",
    "        if isTrue == True:\n",
    "            return s[i] == 'T'\n",
    "        else:\n",
    "            return s[i] == 'F'\n",
    "    temp_key = str(i)+\" \"+str(j)+\" \"+str(isTrue)\n",
    "    if temp_key in dp:\n",
    "        return dp[temp_key]\n",
    "    ans = 0\n",
    "    for k in range(i,j,2):\n",
    "        lt = EvalExpress(s,i,k-1,True)\n",
    "        lf = EvalExpress(s,i,k-1,False)\n",
    "        rt = EvalExpress(s,k+1,j,True)\n",
    "        rf = EvalExpress(s,k+1,j,False)\n",
    "        if s[k] == '&':\n",
    "            if isTrue:\n",
    "                ans = ans + lt*rt\n",
    "            else:\n",
    "                ans = ans + lt*rf + lf*rt + lf*rf\n",
    "        elif s[k] == '|':\n",
    "            if isTrue:\n",
    "                ans+=lt*rt + lf*rt + lt*rf\n",
    "            else:\n",
    "                ans+=ans + lf*rf\n",
    "        elif s[k] == '^':\n",
    "            if isTrue:\n",
    "                ans+=lt*rf + lf*rt\n",
    "            else:\n",
    "                ans+=lt*rt +lf*rf\n",
    "    dp[temp_key] = ans\n",
    "    return ans\n",
    "i = 0\n",
    "j = len(s)-1\n",
    "isTrue = True\n",
    "EvalExpress(s,i,j,isTrue)  "
   ]
  },
  {
   "cell_type": "markdown",
   "metadata": {},
   "source": [
    "###  Scrambled String Recursive"
   ]
  },
  {
   "cell_type": "code",
   "execution_count": 1,
   "metadata": {},
   "outputs": [
    {
     "ename": "SyntaxError",
     "evalue": "invalid syntax (<ipython-input-1-78a55279fc2e>, line 9)",
     "output_type": "error",
     "traceback": [
      "\u001b[0;36m  File \u001b[0;32m\"<ipython-input-1-78a55279fc2e>\"\u001b[0;36m, line \u001b[0;32m9\u001b[0m\n\u001b[0;31m    if (ScrambleString(a[:-i],b[i:]) and ScrambleString(a[-i:],b[:i])) or\u001b[0m\n\u001b[0m                                                                         ^\u001b[0m\n\u001b[0;31mSyntaxError\u001b[0m\u001b[0;31m:\u001b[0m invalid syntax\n"
     ]
    }
   ],
   "source": [
    "def ScrambleString(a,b):\n",
    "    if a == b:\n",
    "        return True\n",
    "    if len(a)<=1:\n",
    "        return False\n",
    "    flag = False\n",
    "    n = len(a)\n",
    "    for i in range(1,n):\n",
    "        if (ScrambleString(a[:-i],b[i:]) and ScrambleString(a[-i:],b[:i])) or\n",
    "        (ScrambleString(a[:i],b[:i]) and ScrambleString(a[i:],b[i:])):\n",
    "            flag = True\n",
    "            break\n",
    "    return flag\n",
    "    \n",
    "a = input()\n",
    "b = input()\n",
    "if len(a) != len(b):\n",
    "    print(\"False\")\n",
    "if a is None and b is None:\n",
    "    print(\"True\")"
   ]
  },
  {
   "cell_type": "markdown",
   "metadata": {},
   "source": [
    "memoize"
   ]
  },
  {
   "cell_type": "code",
   "execution_count": null,
   "metadata": {},
   "outputs": [],
   "source": [
    "global cache\n",
    "cache = dict()\n",
    "def ScrambleString(a,b):\n",
    "    if a == b:\n",
    "        return True\n",
    "    if len(a)<=1:\n",
    "        return False\n",
    "    flag = False\n",
    "    n = len(a)\n",
    "    temp = a+\" \"+b\n",
    "    if temp in cache:\n",
    "        return cache[temp]\n",
    "    for i in range(1,n):\n",
    "        if (ScrambleString(a[:-i],b[i:]) and ScrambleString(a[-i:],b[:i])) or\n",
    "        (ScrambleString(a[:i],b[:i]) and ScrambleString(a[i:],b[i:])):\n",
    "            flag = True\n",
    "            break\n",
    "    cache[temp] = flag\n",
    "    return flag\n",
    "    \n",
    "a = input()\n",
    "b = input()\n",
    "if len(a) != len(b):\n",
    "    print(\"False\")\n",
    "if a is None and b is None:\n",
    "    print(\"True\")"
   ]
  },
  {
   "cell_type": "markdown",
   "metadata": {},
   "source": [
    "### Egg droping Problem"
   ]
  },
  {
   "cell_type": "code",
   "execution_count": 5,
   "metadata": {},
   "outputs": [
    {
     "data": {
      "text/plain": [
       "4"
      ]
     },
     "execution_count": 5,
     "metadata": {},
     "output_type": "execute_result"
    }
   ],
   "source": [
    "def solve(eggs,f):\n",
    "    if f == 0 or f == 1:\n",
    "        return f\n",
    "    if eggs == 0:\n",
    "        return f\n",
    "    ans = float('inf')\n",
    "    for k in range(1,f+1):\n",
    "        temp = 1+max(solve(eggs-1,k-1),solve(eggs,f-k))\n",
    "        ans = min(ans,temp)\n",
    "    return ans\n",
    "n = 2\n",
    "f = 10\n",
    "solve(n,f)"
   ]
  },
  {
   "cell_type": "markdown",
   "metadata": {},
   "source": [
    " memoization"
   ]
  },
  {
   "cell_type": "code",
   "execution_count": 10,
   "metadata": {},
   "outputs": [
    {
     "data": {
      "text/plain": [
       "4"
      ]
     },
     "execution_count": 10,
     "metadata": {},
     "output_type": "execute_result"
    }
   ],
   "source": [
    "n = 2\n",
    "f = 10\n",
    "global t\n",
    "t = [[-1 for x in range(f+1)]for h in range(n+1)]\n",
    "def solve(e,f):\n",
    "    if f == 0 or f == 1:\n",
    "        return f\n",
    "    if e == 0:\n",
    "        return f\n",
    "    if t[e][f] != -1:\n",
    "        return t[e][f]\n",
    "    ans = float('inf')\n",
    "    for k in range(1,f+1):\n",
    "        if t[e-1][k-1] != -1:\n",
    "            down = t[e-1][k-1]\n",
    "        else:\n",
    "            down = solve(e-1,k-1)\n",
    "            t[e-1][k-1] = down\n",
    "        if t[e][k-1] != -1:\n",
    "            up = t[e][f-k]\n",
    "        else:\n",
    "            up = solve(e,f-k)\n",
    "            t[e][f-k] = up\n",
    "        temp = 1+max(down,up)\n",
    "        ans = min(ans,temp)\n",
    "    t[e][f] = ans\n",
    "    return ans\n",
    "\n",
    "solve(n,f)"
   ]
  },
  {
   "cell_type": "code",
   "execution_count": null,
   "metadata": {},
   "outputs": [],
   "source": [
    "def divisor(n):\n",
    "    \n",
    "    "
   ]
  },
  {
   "cell_type": "code",
   "execution_count": 7,
   "metadata": {},
   "outputs": [
    {
     "name": "stdout",
     "output_type": "stream",
     "text": [
      "5\n"
     ]
    }
   ],
   "source": [
    "# longest increasing subsequence\n",
    "\n",
    "arr =   [3,2,1,6,7,10,9,13]\n",
    "# arr = [1,2,3,6,7,9,10,13]\n",
    "#     []\n",
    "dp = [1 for i in range(len(arr))]\n",
    "for i in range(1,len(arr)):\n",
    "    for j in range(i):\n",
    "        if arr[i]>arr[j]:\n",
    "            dp[i] = max(dp[j]+1,dp[i])\n",
    "print(dp[-1])"
   ]
  },
  {
   "cell_type": "code",
   "execution_count": 8,
   "metadata": {},
   "outputs": [
    {
     "name": "stdout",
     "output_type": "stream",
     "text": [
      "[1, 1, 1, 2, 3, 4, 4, 5]\n"
     ]
    }
   ],
   "source": [
    "print(dp)"
   ]
  },
  {
   "cell_type": "code",
   "execution_count": null,
   "metadata": {},
   "outputs": [],
   "source": [
    "# hey this is very new to me i don't know that to do with this situation"
   ]
  }
 ],
 "metadata": {
  "kernelspec": {
   "display_name": "Python 3",
   "language": "python",
   "name": "python3"
  },
  "language_info": {
   "codemirror_mode": {
    "name": "ipython",
    "version": 3
   },
   "file_extension": ".py",
   "mimetype": "text/x-python",
   "name": "python",
   "nbconvert_exporter": "python",
   "pygments_lexer": "ipython3",
   "version": "3.8.8"
  }
 },
 "nbformat": 4,
 "nbformat_minor": 4
}
