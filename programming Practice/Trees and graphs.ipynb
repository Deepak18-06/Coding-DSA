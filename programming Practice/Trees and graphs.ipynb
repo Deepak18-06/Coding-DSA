{
 "cells": [
  {
   "cell_type": "markdown",
   "metadata": {},
   "source": [
    "### 1. Serialize and Deserialize Tree/BST/BT"
   ]
  },
  {
   "cell_type": "code",
   "execution_count": null,
   "metadata": {},
   "outputs": [],
   "source": [
    "class Codec:\n",
    "\n",
    "    def serialize(self, root: TreeNode) -> str:\n",
    "        \"\"\"Encodes a tree to a single string.\n",
    "        \"\"\"\n",
    "        if root is None:\n",
    "            return 'X,'\n",
    "        left = self.serialize(root.left)\n",
    "        right = self.serialize(root.right)\n",
    "        return str(root.val)+','+left+right\n",
    "        \n",
    "\n",
    "    def deserialize(self, data: str) -> TreeNode:\n",
    "        \"\"\"Decodes your encoded data to tree.\n",
    "        \"\"\"\n",
    "        q = data.split(',')\n",
    "        def helper(q):\n",
    "            front = q.pop(0)\n",
    "            if front == 'X':\n",
    "                return None\n",
    "            newNode = TreeNode(int(front))\n",
    "            newNode.left = helper(q)\n",
    "            newNode.right = helper(q)\n",
    "            return newNode\n",
    "        return helper(q)"
   ]
  },
  {
   "cell_type": "markdown",
   "metadata": {},
   "source": [
    "### 2. Traversals"
   ]
  },
  {
   "cell_type": "code",
   "execution_count": 3,
   "metadata": {},
   "outputs": [
    {
     "name": "stdout",
     "output_type": "stream",
     "text": [
      "Preorder traversal of binary tree is\n",
      "1\n",
      "2\n",
      "4\n",
      "5\n",
      "3\n",
      "\n",
      "Inorder traversal of binary tree is\n",
      "4\n",
      "2\n",
      "5\n",
      "1\n",
      "3\n",
      "\n",
      "Postorder traversal of binary tree is\n",
      "4\n",
      "5\n",
      "2\n",
      "3\n",
      "1\n"
     ]
    }
   ],
   "source": [
    "class Node:\n",
    "    def __init__(self,key):\n",
    "        self.left = None\n",
    "        self.right = None\n",
    "        self.val = key\n",
    "def preorder(root):\n",
    "    if root:\n",
    "        print(root.val)\n",
    "        preorder(root.left)\n",
    "        preorder(root.right)\n",
    "def inorder(root):\n",
    "    if root:\n",
    "        inorder(root.left)\n",
    "        print(root.val)\n",
    "        inorder(root.right)\n",
    "def postorder(root):\n",
    "    if root:\n",
    "        postorder(root.left)\n",
    "        postorder(root.right)\n",
    "        print(root.val)\n",
    "# iterative\n",
    "def preorderTraversal(node):\n",
    "    stack = []\n",
    "    stack.append(node)\n",
    "    ans = []\n",
    "    while len(stack) > 0:\n",
    "        temp = stack.pop()\n",
    "        ans.append(temp.val)\n",
    "        if temp.right != None:\n",
    "            stack.append(temp.right)\n",
    "        if temp.left != None:\n",
    "            stack.append(temp.left)\n",
    "\n",
    "    return ans\n",
    "\n",
    "def inorderTraversal(A):\n",
    "    stack = []\n",
    "    result = []\n",
    "    node = A\n",
    "    while(stack or node):\n",
    "        if node:\n",
    "            stack.append(node)\n",
    "            node = node.left\n",
    "        else:\n",
    "            node = stack.pop()\n",
    "            result.append(node.val)\n",
    "            node = node.right\n",
    "    #print(self.result)\n",
    "    return result\n",
    "def postorderTraversal(A):\n",
    "    result = []; d = [A]\n",
    "    while d:\n",
    "        node = d.pop()\n",
    "        if node:\n",
    "            result.append(node.val)\n",
    "            d.append(node.left)\n",
    "            d.append(node.right)\n",
    "    return result[::-1]\n",
    "root = Node(1) \n",
    "root.left      = Node(2) \n",
    "root.right     = Node(3) \n",
    "root.left.left  = Node(4) \n",
    "root.left.right  = Node(5) \n",
    "print(\"Preorder traversal of binary tree is\")\n",
    "preorder(root) \n",
    "  \n",
    "print(\"\\nInorder traversal of binary tree is\")\n",
    "inorder(root) \n",
    "  \n",
    "print(\"\\nPostorder traversal of binary tree is\")\n",
    "postorder(root) "
   ]
  },
  {
   "attachments": {
    "tree.gif": {
     "image/gif": "[encoded data removed]"
    }
   },
   "cell_type": "markdown",
   "metadata": {},
   "source": [
    "![tree.gif](attachment:tree.gif)"
   ]
  },
  {
   "cell_type": "markdown",
   "metadata": {},
   "source": [
    "### 3. Left View of a Binary Tree"
   ]
  },
  {
   "cell_type": "code",
   "execution_count": 37,
   "metadata": {},
   "outputs": [
    {
     "name": "stdout",
     "output_type": "stream",
     "text": [
      "1 2 4 "
     ]
    }
   ],
   "source": [
    "def leftviewutill(root,level,maxlevel): #\n",
    "    if root is None:\n",
    "        return\n",
    "    if maxlevel[0] < level:\n",
    "        print(root.val,end = ' ')\n",
    "        maxlevel[0] = level\n",
    "    leftviewutill(root.left,level+1,maxlevel)\n",
    "    leftviewutill(root.right,level+1,maxlevel)\n",
    "    #leftviewutill(root.left,level+1,maxlevel) # to get right view of the tree and comment out the left part and uncomment this part\n",
    "def leftview(root):\n",
    "    maxlevel = [0]                             # we took maxlevel as array not varible because it changes values globally\n",
    "    leftviewutill(root,1,maxlevel)\n",
    "leftview(root)\n",
    "\n"
   ]
  },
  {
   "cell_type": "code",
   "execution_count": 35,
   "metadata": {},
   "outputs": [
    {
     "name": "stdout",
     "output_type": "stream",
     "text": [
      "1 2 4 "
     ]
    }
   ],
   "source": [
    "def preorderleftView(root,level,visited):\n",
    "    if root:\n",
    "        if visited[level] != 1:\n",
    "            print(root.val,end = \" \")\n",
    "            visited[level] = 1\n",
    "        preorderleftView(root.left,level+1,visited)\n",
    "        preorderleftView(root.right,level+1,visited)\n",
    "def leftviewPreOrder(root):\n",
    "    h = height(root)\n",
    "    visited = [ 0 for i in range(h)]\n",
    "    preorderleftView(root,0,visited)\n",
    "leftviewPreOrder(root)  \n",
    "    "
   ]
  },
  {
   "cell_type": "markdown",
   "metadata": {},
   "source": [
    "### 4. level order traversal"
   ]
  },
  {
   "cell_type": "code",
   "execution_count": 9,
   "metadata": {},
   "outputs": [
    {
     "name": "stdout",
     "output_type": "stream",
     "text": [
      "1->2->3->4->5->"
     ]
    }
   ],
   "source": [
    "def levelOrder(root):\n",
    "    queue = [root]\n",
    "    while len(queue) != 0 :\n",
    "        temp = queue.pop(0)\n",
    "        print(temp.val,end = \"->\")\n",
    "        if temp.left:\n",
    "            queue.append(temp.left)\n",
    "        if temp.right:\n",
    "            queue.append(temp.right)\n",
    "levelOrder(root)\n",
    "            \n",
    "    "
   ]
  },
  {
   "cell_type": "code",
   "execution_count": 23,
   "metadata": {},
   "outputs": [
    {
     "name": "stdout",
     "output_type": "stream",
     "text": [
      "1->2->3->4->5->"
     ]
    }
   ],
   "source": [
    "def levelOrderRecursion(root,level):\n",
    "    if root is None:\n",
    "        return \n",
    "    if level == 1:\n",
    "        print(root.val,end = \"->\")\n",
    "    elif level>1:\n",
    "        levelOrderRecursion(root.left,level-1)\n",
    "        levelOrderRecursion(root.right,level-1)\n",
    "def levelOrderRecurMain(root):\n",
    "    h = height(root)\n",
    "    for i in range(1,h+1):\n",
    "        levelOrderRecursion(root,i)\n",
    "levelOrderRecurMain(root)"
   ]
  },
  {
   "cell_type": "markdown",
   "metadata": {},
   "source": [
    "### 5. height of Binary Tree"
   ]
  },
  {
   "cell_type": "code",
   "execution_count": 14,
   "metadata": {},
   "outputs": [
    {
     "data": {
      "text/plain": [
       "3"
      ]
     },
     "execution_count": 14,
     "metadata": {},
     "output_type": "execute_result"
    }
   ],
   "source": [
    "def height(root):\n",
    "    if root is None:\n",
    "        return 0\n",
    "    return max(height(root.left)+1,height(root.right)+1)\n",
    "height(root)        "
   ]
  },
  {
   "attachments": {
    "tree.gif": {
     "image/gif": "[encoded data removed]"
    }
   },
   "cell_type": "markdown",
   "metadata": {},
   "source": [
    "### 6. Diameter of Binary tree\n",
    "![tree.gif](attachment:tree.gif)"
   ]
  },
  {
   "cell_type": "code",
   "execution_count": 45,
   "metadata": {},
   "outputs": [
    {
     "name": "stdout",
     "output_type": "stream",
     "text": [
      "4\n"
     ]
    }
   ],
   "source": [
    "def diameter(root,res):\n",
    "    if root is None:\n",
    "        return 0\n",
    "    l = diameter(root.left,res)\n",
    "    r = diameter(root.right,res)\n",
    "    temp = max(l,r)\n",
    "    temp+=1\n",
    "    ans = max(temp,l+r+1)\n",
    "    res[0] = max(res[0],ans)\n",
    "    return temp\n",
    "res = [float('-inf')]\n",
    "diameter(root,res)\n",
    "print(res[0])\n",
    "\n",
    "def diameter(root,res):\n",
    "    if root is None:\n",
    "        return 0\n",
    "    l = diameter(root.left,res)\n",
    "    r = diameter(root.right,res)\n",
    "    temp = max(left,right)\n",
    "    temp+=1\n",
    "    ans = max(temp,l+r+1)\n",
    "    res[0] = max(res[0,ans])\n",
    "    return temp\n",
    "# using the height of binary tree concept for lca\n",
    "\n",
    "def diameter(root,res):\n",
    "    if root is None:\n",
    "        return 0\n",
    "    lh = diameter(root.left)\n",
    "    rh = diameter(root.right)\n",
    "    res[0] = max(res[0],lh+rh)\n",
    "    return 1+max(lh,rh)"
   ]
  },
  {
   "cell_type": "markdown",
   "metadata": {},
   "source": [
    "### 7. Balanced binary Tree or not i.e AVL tree or not"
   ]
  },
  {
   "cell_type": "code",
   "execution_count": 51,
   "metadata": {},
   "outputs": [
    {
     "data": {
      "text/plain": [
       "True"
      ]
     },
     "execution_count": 51,
     "metadata": {},
     "output_type": "execute_result"
    }
   ],
   "source": [
    "def isBAlanced(root):\n",
    "    if root is None:\n",
    "        return True\n",
    "    lh = height(root.left)\n",
    "    rh = height(root.right)\n",
    "    if abs(lh-rh) <=1 and isBAlanced(root.left) and isBAlanced(root.right):\n",
    "        return True\n",
    "    return False\n",
    "isBAlanced(root)"
   ]
  },
  {
   "cell_type": "markdown",
   "metadata": {},
   "source": [
    "root = Node(1) \n",
    "root.left = Node(2) \n",
    "root.right = Node(3) \n",
    "root.left.left = Node(4) \n",
    "root.left.right = Node(5) \n",
    "root.left.left.left = Node(8)\n"
   ]
  },
  {
   "cell_type": "markdown",
   "metadata": {},
   "source": [
    "### 8. Identical Binary Tree or not"
   ]
  },
  {
   "cell_type": "code",
   "execution_count": 54,
   "metadata": {},
   "outputs": [
    {
     "name": "stdout",
     "output_type": "stream",
     "text": [
      "Both trees are identical\n"
     ]
    }
   ],
   "source": [
    "def isIdentical(root1,root2):\n",
    "    if root1 is None and root2 is None:\n",
    "        return True\n",
    "    if root1 is not None and root2 is not None:\n",
    "        return ((root1.val == root2.val) and isIdentical(root1.left,root2.left) and isIdentical(root1.right,root2.right))\n",
    "    return False\n",
    "root1 = Node(1) \n",
    "root2 = Node(1) \n",
    "root1.left = Node(2) \n",
    "root1.right = Node(3) \n",
    "root1.left.left = Node(4) \n",
    "root1.left.right = Node(5) \n",
    "  \n",
    "root2.left = Node(2) \n",
    "root2.right = Node(3) \n",
    "root2.left.left = Node(4) \n",
    "root2.left.right = Node(5) \n",
    "  \n",
    "if isIdentical(root1, root2): \n",
    "    print(\"Both trees are identical\")\n",
    "else: \n",
    "    print(\"Trees are not identical\")"
   ]
  },
  {
   "cell_type": "markdown",
   "metadata": {},
   "source": [
    "# Zig Zag Traversal in Binary Tree\n"
   ]
  },
  {
   "cell_type": "code",
   "execution_count": null,
   "metadata": {},
   "outputs": [],
   "source": [
    "# use level order traversal and using a flag leftToRight to chagnge the\n",
    "# direction\n",
    "def zigZag(root):\n",
    "    res = []\n",
    "    queue = [root]\n",
    "    while queue:\n",
    "        k = len(queue)\n",
    "        \n",
    "        "
   ]
  },
  {
   "cell_type": "markdown",
   "metadata": {},
   "source": [
    "# Boundary Traversal in Binary Tree\n"
   ]
  },
  {
   "cell_type": "code",
   "execution_count": null,
   "metadata": {},
   "outputs": [],
   "source": [
    "def addLeft(root,res):\n",
    "    curr = root.left\n",
    "    while curr:\n",
    "        if not leafNode(curr):\n",
    "            res.append(curr.val)\n",
    "        if curr.left:\n",
    "            curr =curr.left\n",
    "        else:\n",
    "            curr.right\n",
    "def addRight(root,res):\n",
    "    curr = root.right\n",
    "    temp = []\n",
    "    while curr:\n",
    "        if not leafNode(curr):\n",
    "            temp.append(curr.val)\n",
    "        if curr.right:\n",
    "            curr = curr.right\n",
    "        else:\n",
    "            curr.left\n",
    "    for i in temp[::-1]:\n",
    "        res.append(i)\n",
    "# leaf nodes shoudl be in the order\n",
    "def addLeaves(root,res):\n",
    "    if leafNode(root):\n",
    "        res.append(root.val)\n",
    "        return\n",
    "    if root.left:\n",
    "        addLeaves(root.left)\n",
    "    if root.right:\n",
    "        addLeaves(root.right )\n",
    "        \n",
    "def boundaryTraversal(root):\n",
    "    #left boundary node\n",
    "    #leaf nodes\n",
    "    #right boundary in reverse\n",
    "    res = []\n",
    "    if not root:\n",
    "        return res\n",
    "    if isLeaf(root):\n",
    "        res.append(root.data)\n",
    "    addLeft(root,res)\n",
    "    addLeaves(root,res)\n",
    "    addRight(root,res)\n",
    "    return res\n",
    "    "
   ]
  },
  {
   "cell_type": "markdown",
   "metadata": {},
   "source": [
    "# vertical Order Traversal"
   ]
  },
  {
   "cell_type": "code",
   "execution_count": 5,
   "metadata": {},
   "outputs": [],
   "source": [
    "def verticalTraversal(self, root: Optional[TreeNode]) -> List[List[int]]:\n",
    "    q = collections.deque()\n",
    "    q.append((root, 0, 0))\n",
    "    levels = {(0,0): [root.val]}\n",
    "\n",
    "    # Part 1: Populating \"levels,\" whose keys represent the coordinates of nodes\n",
    "    # ------------------------------------------------------------------------------\n",
    "    while q:\n",
    "        for i in range(len(q)):\n",
    "            node, row, col = q.popleft()\n",
    "\n",
    "            if node:\n",
    "                if node.left:\n",
    "                    if (row + 1, col - 1) not in levels:\n",
    "                        levels.update({(row + 1, col - 1): [node.left.val]})\n",
    "                    else:\n",
    "                        levels[(row + 1, col - 1)].append(node.left.val)\n",
    "                if node.right:\n",
    "                    if (row + 1, col + 1) not in levels:\n",
    "                        levels.update({(row + 1, col + 1): [node.right.val]})\n",
    "                    else:\n",
    "                        levels[(row + 1, col + 1)].append(node.right.val)\n",
    "                q.append((node.left, row + 1, col - 1))\n",
    "                q.append((node.right, row + 1, col + 1))\n",
    "    keySort = sorted(map(list, levels.items()) \n",
    "                    , key = lambda cl: (cl[0][1], cl[0][0]))\n",
    "        \n",
    "        # sort node values within shared columns\n",
    "        for params in keySort:\n",
    "            params[1] = sorted(params[1])\n",
    "            \n",
    "        # sort by row\n",
    "        to_skip = set()\n",
    "        for i in range(1, len(keySort)):\n",
    "            if keySort[i][0][1] == keySort[i - 1][0][1]:\n",
    "                keySort[i][1] = keySort[i - 1][1] + keySort[i][1]\n",
    "                to_skip.add(i - 1)\n",
    "                \n",
    "        # build result array       \n",
    "        result = []\n",
    "        for i in range(len(keySort)):\n",
    "            if i in to_skip:\n",
    "                continue\n",
    "            else:\n",
    "                result.append(keySort[i][1])\n",
    "\n",
    "        return result"
   ]
  },
  {
   "cell_type": "markdown",
   "metadata": {},
   "source": [
    "# Top View of Binary Tree"
   ]
  },
  {
   "cell_type": "code",
   "execution_count": 29,
   "metadata": {},
   "outputs": [],
   "source": [
    "# leve order traversal will be used\n",
    "def solve(root):\n",
    "    ans = []\n",
    "    if root == None:\n",
    "        return ans\n",
    "    mpp = defaultdict()\n",
    "    queue  = collections.deque()\n",
    "    queue.append((root,0))\n",
    "    while queue:\n",
    "        node,line = queue.popleft()\n",
    "        if line not in mpp:\n",
    "            mpp[line] = node.data\n",
    "        if node.left:\n",
    "            queue.append((node.left,line-1))\n",
    "        if node.right:\n",
    "            queue.append(node.right,line+1)\n",
    "    for key,val in mpp.items():\n",
    "        ans.append(val)\n",
    "    return ans\n"
   ]
  },
  {
   "cell_type": "markdown",
   "metadata": {},
   "source": [
    "# Bottom View of Binary Tree"
   ]
  },
  {
   "cell_type": "code",
   "execution_count": null,
   "metadata": {},
   "outputs": [],
   "source": [
    "def solve(root):\n",
    "    ans = []\n",
    "    if root == None:\n",
    "        return ans\n",
    "    mpp = defaultdict()\n",
    "    queue  = collections.deque()\n",
    "    queue.append((root,0))\n",
    "    while queue:\n",
    "        node,line = queue.popleft()\n",
    "        mpp[line] = node.data\n",
    "        if node.left:\n",
    "            queue.append((node.left,line-1))\n",
    "        if node.right:\n",
    "            queue.append(node.right,line+1)\n",
    "    for key,val in mpp.items():\n",
    "        ans.append(val)\n",
    "    return ans\n",
    "\n"
   ]
  },
  {
   "cell_type": "markdown",
   "metadata": {},
   "source": [
    "# right View of Binary Tree"
   ]
  },
  {
   "cell_type": "code",
   "execution_count": null,
   "metadata": {},
   "outputs": [],
   "source": [
    "# it can be done in level order traversal \n",
    "\n",
    "def rightView(root):\n",
    "    queue = [root]\n",
    "    ans = []\n",
    "    while queue:\n",
    "        n = len(queue)\n",
    "        for i in range(n):\n",
    "# Recursive Traversal\n",
    "# reverse preorder\n",
    "# root right left\n",
    "def solve(node,level,res):\n",
    "    if node == None:\n",
    "        return \n",
    "    if level ==  len(res):\n",
    "        res.append(node.val)\n",
    "    solve(node.right,level+1,res)\n",
    "    solve(node.left,level+1,res)\n"
   ]
  },
  {
   "cell_type": "markdown",
   "metadata": {},
   "source": [
    "# root to node path"
   ]
  },
  {
   "cell_type": "code",
   "execution_count": null,
   "metadata": {},
   "outputs": [],
   "source": [
    "# using inorder traversal\n",
    "def getPath(root,arr,x):\n",
    "    if not root:\n",
    "        return False\n",
    "    arr.append(root.val)\n",
    "    if root.val == x:\n",
    "        return True\n",
    "    if getPath(root.left,arr,x) or getPath(root.right,arr,x):\n",
    "        return True\n",
    "    arr.pop()\n",
    "    return False\n",
    "def solve(root,int:nodeval):\n",
    "    ans = []\n",
    "    if root is None:\n",
    "        return ans\n",
    "    getPath(root,ans,nodeval)\n",
    "    return ans"
   ]
  },
  {
   "cell_type": "markdown",
   "metadata": {},
   "source": [
    "### 9. LCA(lowest comman ancestor)"
   ]
  },
  {
   "cell_type": "code",
   "execution_count": 59,
   "metadata": {},
   "outputs": [
    {
     "name": "stdout",
     "output_type": "stream",
     "text": [
      "3\n"
     ]
    }
   ],
   "source": [
    "def lca(root,x,y):\n",
    "    if root is None:\n",
    "        return None\n",
    "    if root.val == x or root.val == y :\n",
    "        return root\n",
    "    leftresult = lca(root.left,x,y)\n",
    "    rightresult = lca(root.right,x,y)\n",
    "    if leftresult is None:\n",
    "        return rightresult\n",
    "    if rightresult is None:\n",
    "        return leftresult\n",
    "    return root\n",
    "res = lca(root,3,3) \n",
    "print(res.val)"
   ]
  },
  {
   "cell_type": "markdown",
   "metadata": {},
   "source": [
    "# max Width of Binary Tree"
   ]
  },
  {
   "cell_type": "code",
   "execution_count": null,
   "metadata": {},
   "outputs": [],
   "source": [
    "def solve(root):\n",
    "    if root is None:\n",
    "        return 0\n",
    "    q = [root,0]\n",
    "    ans = 0\n",
    "    while q:\n",
    "        n = len(q)\n",
    "        mmin = q[0][0]\n",
    "        for i in range(n):\n",
    "            curr_index = q[0][1] -  mmin\n",
    "            q.pop(0)\n",
    "            if i == 0:\n",
    "                first = curr_index\n",
    "            if i == n-1:\n",
    "                last = curr_index\n",
    "            if node.left:\n",
    "                q.append(node.left,curr_index*2 + 1)\n",
    "            if node.rigth:\n",
    "                q.append(node.right,curr_index*2 + 2)\n",
    "        ans = max(ans,last-first+1)"
   ]
  },
  {
   "cell_type": "markdown",
   "metadata": {},
   "source": [
    "# children sum Property"
   ]
  },
  {
   "cell_type": "code",
   "execution_count": null,
   "metadata": {},
   "outputs": [],
   "source": [
    "def childSum(root):\n",
    "    if not root :\n",
    "        return \n",
    "    child = 0\n",
    "    if root.left:\n",
    "        child+=root.left.val\n",
    "    if root.right:\n",
    "        child+=root.right.val\n",
    "    if child >= root.val:\n",
    "        root.val = child\n",
    "    else:\n",
    "        if root.left:\n",
    "            root.left.val = root.val\n",
    "        else if root.right:\n",
    "            root.right.val = root.val\n",
    "    childSum(root.left)\n",
    "    childSum(root.right)\n",
    "    tot = 0\n",
    "    if root.left:\n",
    "        tot = root.left.val\n",
    "        if root.right:\n",
    "            tot += root.right.val\n",
    "        if root.left:\n",
    "            tot +=root.left.val\n",
    "        if root.left or root.right:\n",
    "            root.val = tot"
   ]
  },
  {
   "cell_type": "markdown",
   "metadata": {},
   "source": [
    "# Print all Nodes at a distance of K"
   ]
  },
  {
   "cell_type": "code",
   "execution_count": null,
   "metadata": {},
   "outputs": [],
   "source": [
    "def markParent(root,parent,target):\n",
    "    q = []\n",
    "    q.append(root)\n",
    "    while q:\n",
    "        curr = q.pop(0)\n",
    "        if curr.left:\n",
    "            parent[curr.left] = curr\n",
    "            q.append(curr.left)\n",
    "        if curr.right:\n",
    "            parent[curr.right] = curr\n",
    "            q.append(curr.right)\n",
    "\n",
    "def solve(root,target,k):\n",
    "    parent = defaultdict()\n",
    "    markParent(root,parent,target)\n",
    "    vis = defaultdict()\n",
    "    q = [target]\n",
    "    vis[target] = 1\n",
    "    curr_level = 0\n",
    "    while q:\n",
    "        size = len(q)\n",
    "        curr_level+=1\n",
    "        if curr_level == k:\n",
    "            break\n",
    "        for i in range(size):\n",
    "            current = q.pop(0)\n",
    "            if current.left and curr.left not vis:\n",
    "                q.append(curr.left)\n",
    "                vis[curr.left] = 1\n",
    "            if current.right and curr.right not vis:\n",
    "                q.append(curr.right)\n",
    "                vis[curr.right] = 1\n",
    "            if current.parent and curr.parent not vis:\n",
    "                q.append(curr.parent)\n",
    "                vis[curr.parent] = 1\n",
    "    return q\n",
    "    "
   ]
  },
  {
   "cell_type": "markdown",
   "metadata": {},
   "source": [
    "# Count total Nodes in a Complete binary Tree"
   ]
  },
  {
   "cell_type": "code",
   "execution_count": null,
   "metadata": {},
   "outputs": [],
   "source": [
    "def solve(root):\n",
    "    if not root:\n",
    "        return 0\n",
    "    lh = findHeight(root)\n",
    "    rh = findHeight(root)\n",
    "    if lh == rh:\n",
    "        return 1<<lh -1\n",
    "    return 1 + solve(root.left)+ solve(root.right)\n",
    "def findHeightLeft(node):\n",
    "    h = 0\n",
    "    while node:\n",
    "        h+=1\n",
    "        node = node.left\n",
    "    return h\n",
    "def findRightHeight(node):\n",
    "    h = 0 \n",
    "    while node:\n",
    "        h+=1\n",
    "        node = node.right\n",
    "    return h"
   ]
  },
  {
   "cell_type": "markdown",
   "metadata": {},
   "source": [
    "# Requirement Needed to construct a Unique Binary Tree"
   ]
  },
  {
   "cell_type": "code",
   "execution_count": null,
   "metadata": {},
   "outputs": [],
   "source": [
    "# it can be achieved by only when inorder is given "
   ]
  },
  {
   "cell_type": "markdown",
   "metadata": {},
   "source": [
    "# Construct a Binary Tree from Preoder and Inoder Traversal"
   ]
  },
  {
   "cell_type": "code",
   "execution_count": null,
   "metadata": {},
   "outputs": [],
   "source": [
    "class Node:\n",
    "    def __init__(self,val,left = None,right= None):\n",
    "        self.val = val\n",
    "        self.left = left\n",
    "        self.right = right\n",
    "def construct(inorder,preorder):\n",
    "    "
   ]
  },
  {
   "cell_type": "markdown",
   "metadata": {},
   "source": [
    "### 10. maximum avg subtree"
   ]
  },
  {
   "cell_type": "code",
   "execution_count": null,
   "metadata": {},
   "outputs": [],
   "source": [
    "class TreeNode:\n",
    "    def __init__(self, value):\n",
    "        self.val = value\n",
    "        self.children = []\n",
    "        \n",
    "\n",
    "class Solution: \n",
    "    def MaxAverageSubtree(self, root):\n",
    "        if not root or not root.children:\n",
    "            return None\n",
    "        \n",
    "        self.res = [float('-inf'), 0]\n",
    "        # self.res[0]: average; self.res[1]: number of nodes\n",
    "        self.dfs(root)\n",
    "        return self.res[1]\n",
    "    \n",
    "    def dfs(self, root):\n",
    "        if not root.children:\n",
    "            return [root.val, 1]\n",
    "        \n",
    "        temp_sum, temp_num = root.val, 1\n",
    "        for child in root.children:\n",
    "            child_sum, child_num = self.dfs(child)\n",
    "            temp_sum += child_sum\n",
    "            temp_num += child_num\n",
    "            \n",
    "        if temp_sum/temp_num > self.res[0]:\n",
    "            self.res = [temp_sum/temp_num, root.val]\n",
    "        \n",
    "        return [temp_sum, temp_num]"
   ]
  },
  {
   "cell_type": "markdown",
   "metadata": {},
   "source": [
    "### 11. Maximum Path Sum any Node to any Node"
   ]
  },
  {
   "cell_type": "code",
   "execution_count": null,
   "metadata": {},
   "outputs": [],
   "source": [
    "import sys\n",
    "sys.setrecursionlimit(1000000)\n",
    "class Solution:\n",
    "    def maxPathSum(self, root: TreeNode) -> int:\n",
    "        res = [float(\"-inf\")]\n",
    "        def solve(root,res):\n",
    "            if root is None:\n",
    "                return 0\n",
    "            l = solve(root.left,res)\n",
    "            r = solve(root.right,res)\n",
    "            temp = max((max(l,r)+root.val),root.val)\n",
    "            ans  = max(temp,l+r+root.val)\n",
    "            res[0] = max(ans,res[0])\n",
    "            return temp\n",
    "        solve(root,res)\n",
    "        return res[0]\n",
    "# concept of maximum height and diameter\n",
    "\n"
   ]
  },
  {
   "cell_type": "markdown",
   "metadata": {},
   "source": [
    "### 12. Maximum Path Sum leaf to leaf"
   ]
  },
  {
   "cell_type": "code",
   "execution_count": 7,
   "metadata": {},
   "outputs": [
    {
     "name": "stdout",
     "output_type": "stream",
     "text": [
      "11\n"
     ]
    }
   ],
   "source": [
    "def solve(root,res):\n",
    "    if root is None:\n",
    "        return 0\n",
    "    l = solve(root.left,res)\n",
    "    r = solve(root.right,res)\n",
    "    temp = max(l,r) + root.val\n",
    "    '''\n",
    "    # just for the concept\n",
    "    if root.left is None and root.right is None:\n",
    "        temp = max(temp,root.val)\n",
    "    '''\n",
    "    ans = max(temp,l+r+root.val)\n",
    "    res[0] = max(ans,res[0])\n",
    "    return temp\n",
    "res = [float(\"-inf\")]\n",
    "solve(root,res)\n",
    "print(res[0])\n",
    "def maxPath(node,res):\n",
    "    if node == None:\n",
    "        return 0\n",
    "    leftSum = maxPath(node.left)\n",
    "    rightSum = maxPath(node.right)\n",
    "    res[0] = max(res[0],leftSum+rightSum+node.val)\n",
    "    return node.val + max(leftSum,rightSum)    "
   ]
  },
  {
   "cell_type": "markdown",
   "metadata": {},
   "source": [
    "### 13. Path Sum\n",
    "root to leaf sum exist or not"
   ]
  },
  {
   "cell_type": "code",
   "execution_count": 9,
   "metadata": {},
   "outputs": [],
   "source": [
    "class Solution:\n",
    "    def hasPathSum(self, root: Node, sum: int) -> bool:\n",
    "        def helper(root,target):\n",
    "            if root is None:\n",
    "                return False\n",
    "            elif root.right is None and root.left is None and (target - root.val) == 0:\n",
    "                return True\n",
    "            else:\n",
    "                return helper(root.left,target-root.val) or helper(root.right,target-root.val)\n",
    "        return helper(root,sum)\n",
    "                "
   ]
  },
  {
   "cell_type": "markdown",
   "metadata": {},
   "source": [
    "### 14. Construct Binary Tree using Preorder and inorder"
   ]
  },
  {
   "cell_type": "code",
   "execution_count": 10,
   "metadata": {},
   "outputs": [
    {
     "data": {
      "text/plain": [
       "'\\ndef Construct(A,B):\\n    if len(B) == 0:\\n        return\\n    root = Node(A[0])\\n    for i in range(len(B)):\\n        if B[i] == A[0]:\\n            root.left = Construct(A[1:],)\\n            root.right = Construct()        \\n    \\n    return root\\ndef solve(preorder,inorder):\\n    for i in range(len(preorder)):\\n        for j in range(len(inorder)):\\n'"
      ]
     },
     "execution_count": 10,
     "metadata": {},
     "output_type": "execute_result"
    }
   ],
   "source": [
    "'''\n",
    "def Construct(A,B):\n",
    "    if len(B) == 0:\n",
    "        return\n",
    "    root = Node(A[0])\n",
    "    for i in range(len(B)):\n",
    "        if B[i] == A[0]:\n",
    "            root.left = Construct(A[1:],)\n",
    "            root.right = Construct()        \n",
    "    \n",
    "    return root\n",
    "def solve(preorder,inorder):\n",
    "    for i in range(len(preorder)):\n",
    "        for j in range(len(inorder)):\n",
    "'''"
   ]
  },
  {
   "cell_type": "markdown",
   "metadata": {},
   "source": [
    "# Serialize and Deserialize a binary tree"
   ]
  },
  {
   "cell_type": "code",
   "execution_count": null,
   "metadata": {},
   "outputs": [],
   "source": [
    "# using level order traversal\n",
    "def serialize(root):\n",
    "    if not root:\n",
    "        return \"\"\n",
    "    s = \"\"\n",
    "    q = []\n",
    "    q.append(root)\n",
    "    while q:\n",
    "        curr = q.pop(0)\n",
    "        if curr is None:\n",
    "            s+=\"#\"\n",
    "        else:\n",
    "            s+=str(curr.val)+','\n",
    "        if curr != None:\n",
    "            q.append(curr.left)\n",
    "            q.append(curr.right)\n",
    "    return s\n",
    "def deserialize(s):\n",
    "    if len(s) == 0:\n",
    "        return None\n",
    "    s = s.split(',')\n",
    "    n = s.pop(0)\n",
    "    root = Node(0)\n",
    "    q = [root]\n",
    "    while q:\n",
    "        node = q.pop(0)\n",
    "        n = s.pop(0)\n",
    "        if n == \"#\":\n",
    "            node.left = None\n",
    "        else:\n",
    "            leftNode = Node(int(n))\n",
    "            node.left = leftNode\n",
    "        n = s.pop(0)\n",
    "        if n == \"#\":\n",
    "            rightNode = None\n",
    "            root.right = None\n",
    "        else:\n",
    "            rightNOde = Node(int(n))\n",
    "            root.right = rightNode\n",
    "    return root\n",
    "        "
   ]
  },
  {
   "cell_type": "markdown",
   "metadata": {},
   "source": [
    "# morris Travsersal"
   ]
  },
  {
   "cell_type": "code",
   "execution_count": null,
   "metadata": {},
   "outputs": [],
   "source": [
    "\n",
    "#Threaded Binary Tree\n",
    "#inoder\n",
    "#left Root Right"
   ]
  },
  {
   "cell_type": "markdown",
   "metadata": {},
   "source": [
    "### 15. Flatten the binary tree"
   ]
  },
  {
   "cell_type": "code",
   "execution_count": 11,
   "metadata": {},
   "outputs": [],
   "source": [
    "def flatten(root):\n",
    "    if root is None:\n",
    "        return\n",
    "    flatten(root.left)\n",
    "    flatten(root.right)\n",
    "    if root is not None:\n",
    "        curr = root.left\n",
    "        while curr.right is not None:\n",
    "            curr = curr.right\n",
    "        curr.right = root.right\n",
    "        root.right = root.left\n",
    "        root.left = None"
   ]
  },
  {
   "cell_type": "markdown",
   "metadata": {},
   "source": [
    "### 16. Mirror of Binary Tree(Symmetric)"
   ]
  },
  {
   "cell_type": "code",
   "execution_count": 13,
   "metadata": {},
   "outputs": [],
   "source": [
    "def Mirror(root1,root2):\n",
    "    if root1 is None and root2 is None:\n",
    "        return True\n",
    "    if root1 is not None and root2 is not None:\n",
    "        return root1.val == root2.val and Mirror(root1.left,root2.right) and Mirror(root1,right,root2,left)\n",
    "    return False"
   ]
  },
  {
   "cell_type": "code",
   "execution_count": null,
   "metadata": {},
   "outputs": [],
   "source": [
    "def Identical(root1,root2):\n",
    "    if root1 is None and root2 is None:\n",
    "        return True\n",
    "    if root1 is not None and root2 is not None:\n",
    "        return root1.val == root2.val and Mirror(root1.left,root2.left) and Mirror(root1.right,root2.right)\n",
    "    return False"
   ]
  },
  {
   "cell_type": "raw",
   "metadata": {},
   "source": []
  },
  {
   "cell_type": "code",
   "execution_count": 2,
   "metadata": {},
   "outputs": [
    {
     "data": {
      "text/plain": [
       "122"
      ]
     },
     "execution_count": 2,
     "metadata": {},
     "output_type": "execute_result"
    }
   ],
   "source": [
    "ord('z')"
   ]
  },
  {
   "cell_type": "code",
   "execution_count": 1,
   "metadata": {},
   "outputs": [],
   "source": [
    "a = [1, 5, 3, 4, 6]\n"
   ]
  },
  {
   "cell_type": "code",
   "execution_count": 3,
   "metadata": {},
   "outputs": [
    {
     "data": {
      "text/plain": [
       "False"
      ]
     },
     "execution_count": 3,
     "metadata": {},
     "output_type": "execute_result"
    }
   ],
   "source": [
    "sorted(a) == a"
   ]
  },
  {
   "cell_type": "markdown",
   "metadata": {},
   "source": [
    "# Maximum Depth in Binary Tree"
   ]
  },
  {
   "cell_type": "code",
   "execution_count": 1,
   "metadata": {},
   "outputs": [],
   "source": [
    "class Node:\n",
    "    def __init__(self,left,right,val):\n",
    "        self.val = val\n",
    "        self.left = left\n",
    "        self.right = right\n",
    "def height(root):\n",
    "    if root == None:\n",
    "        return 0\n",
    "    return 1+max(height(root.left),height(root.right))"
   ]
  },
  {
   "cell_type": "markdown",
   "metadata": {},
   "source": [
    "# Ceil in Binary Search Tree"
   ]
  },
  {
   "cell_type": "code",
   "execution_count": null,
   "metadata": {},
   "outputs": [],
   "source": [
    "def ceil(root,key):\n",
    "    c = -1\n",
    "    while True:\n",
    "        if root.data == key:\n",
    "            c = root.data\n",
    "            return c\n",
    "        if key>root.data:\n",
    "            root = root.right\n",
    "        else:\n",
    "            c = root.data\n",
    "            root = root.left\n",
    "    return c"
   ]
  },
  {
   "cell_type": "markdown",
   "metadata": {},
   "source": [
    "# floor in Binary Search Tree"
   ]
  },
  {
   "cell_type": "code",
   "execution_count": null,
   "metadata": {},
   "outputs": [],
   "source": [
    "def floor(root,key):\n",
    "    f = -1\n",
    "    while True:\n",
    "        if root.data == key:\n",
    "            f = root.data\n",
    "            return f\n",
    "        if key<root.data:\n",
    "            f = root.data\n",
    "            root = root.right\n",
    "        else:\n",
    "            root = root.left\n",
    "    return f"
   ]
  },
  {
   "cell_type": "markdown",
   "metadata": {},
   "source": [
    "# Insert a given node in Binary Search Tree"
   ]
  },
  {
   "cell_type": "code",
   "execution_count": 34,
   "metadata": {},
   "outputs": [],
   "source": [
    "def solve(root,val):\n",
    "    if not root:\n",
    "        return Node(node)\n",
    "    curr = root\n",
    "    while True:\n",
    "        if curr.val <=val:\n",
    "            if curr.right is not None:\n",
    "                curr = curr.right\n",
    "            else:\n",
    "                curr.right = Node(val)\n",
    "                break\n",
    "        else:\n",
    "            if curr.left is not None:\n",
    "                curr = curr.left\n",
    "            else:\n",
    "                curr.left = Node(val)\n",
    "                break\n",
    "    return root"
   ]
  },
  {
   "cell_type": "markdown",
   "metadata": {},
   "source": [
    "# Delete a node in BST"
   ]
  },
  {
   "cell_type": "code",
   "execution_count": null,
   "metadata": {},
   "outputs": [],
   "source": [
    "def solve(root,val):\n",
    "     if not root:\n",
    "        return None\n",
    "    if root.val == val:\n",
    "        reuturn helper(root)\n",
    "    dummy = root\n",
    "    while root:\n",
    "        if root.val >val:\n",
    "            if root.left and root.left.val == key:\n",
    "                root.left = helper(root.left)\n",
    "                break\n",
    "            else:\n",
    "                root = root.left\n",
    "        else:\n",
    "            if root.right and root.right.val == key:\n",
    "                root.right = helper(root.right)\n",
    "                break\n",
    "            else:\n",
    "                root = root.right\n",
    "    return dummy\n",
    "def helper(root):\n",
    "    if root.left == None:\n",
    "        return root.right\n",
    "    elif root.right == None:\n",
    "        return root.left\n",
    "    righchild = root.right\n",
    "    lastRight = findLastRight(root.left)\n",
    "    lastRight.right = righChild\n",
    "    return root.left\n",
    "def findLastRight(node):\n",
    "    if node.right == None:\n",
    "        return node\n",
    "    return findLastRight(node.right)"
   ]
  },
  {
   "cell_type": "markdown",
   "metadata": {},
   "source": [
    "# kth smallest and largest in bst\n"
   ]
  },
  {
   "cell_type": "code",
   "execution_count": null,
   "metadata": {},
   "outputs": [],
   "source": [
    "class Solution:\n",
    "    def kthSmallest(self, root: Optional[TreeNode], k: int) -> int:\n",
    "        self.kth = None\n",
    "        self.remaining = k\n",
    "        def inorder(root):\n",
    "            if root and self.remaining > 0:\n",
    "                if root.left:\n",
    "                    inorder(root.left)\n",
    "                if self.remaining == 1:\n",
    "                    self.kth=root.val\n",
    "                self.remaining-=1\n",
    "                    \n",
    "                if root.right:\n",
    "                    inorder(root.right)\n",
    "        inorder(root)\n",
    "        return self.kth  "
   ]
  },
  {
   "cell_type": "code",
   "execution_count": 35,
   "metadata": {},
   "outputs": [],
   "source": [
    "# kth largest will be (n-k)th smallest\n"
   ]
  },
  {
   "cell_type": "markdown",
   "metadata": {},
   "source": [
    "# check if tree is bst or bt/validate bst"
   ]
  },
  {
   "cell_type": "code",
   "execution_count": 36,
   "metadata": {},
   "outputs": [],
   "source": [
    "def checkBST(root):\n",
    "    return isBST(root,float(\"-inf\"),float(\"inf\"))\n",
    "def isBST(root,left,right):\n",
    "    if root ==  None:\n",
    "        return True\n",
    "    if root.val >=right or root.val <= left:\n",
    "        return False\n",
    "    return isBST(root.left,left,root.val) and isBST(root.right,root.val,right)\n"
   ]
  },
  {
   "cell_type": "markdown",
   "metadata": {},
   "source": [
    "# LCA in BST"
   ]
  },
  {
   "cell_type": "code",
   "execution_count": null,
   "metadata": {},
   "outputs": [],
   "source": [
    "# longest common ancestor\n",
    "def lca(root,a,b):\n",
    "    if not root:\n",
    "        return None\n",
    "    curr = root.val\n",
    "    if curr<a and curr<q:\n",
    "        return lca(root.right,a,b)\n",
    "    if curr>a and curr>b:\n",
    "        return lca(root.left,a,b)\n",
    "    return root"
   ]
  },
  {
   "cell_type": "markdown",
   "metadata": {},
   "source": [
    "# Construct BST from preorder"
   ]
  },
  {
   "cell_type": "code",
   "execution_count": null,
   "metadata": {},
   "outputs": [],
   "source": [
    "# sort preorder and we get inorder and then\n",
    "# we can construct bst\n",
    "def bstPreorder(A):\n",
    "    i = 0\n",
    "    return build(A,i,float(\"inf\"))\n",
    "def build(A,i,bound):\n",
    "    if  i == len(A) or A[i]>bound:\n",
    "        return\n",
    "    root =. Node(A[i])\n",
    "    i+=1\n",
    "    root.left = build(A,i,root.val)\n",
    "    root.right = build(A,i,bound)\n",
    "    return root\n"
   ]
  },
  {
   "cell_type": "markdown",
   "metadata": {},
   "source": [
    "# inorder successor/predessor in bst"
   ]
  },
  {
   "cell_type": "code",
   "execution_count": null,
   "metadata": {},
   "outputs": [],
   "source": [
    "def inorderSuccessor(root,p):\n",
    "    successor = None\n",
    "    while root:\n",
    "        if p.val >=root.val:\n",
    "            root = root.right\n",
    "        else:\n",
    "            successor = root\n",
    "            root = root.left\n",
    "    return successor"
   ]
  },
  {
   "cell_type": "markdown",
   "metadata": {},
   "source": [
    "# Binary Search Iterator in bst"
   ]
  },
  {
   "cell_type": "code",
   "execution_count": null,
   "metadata": {},
   "outputs": [],
   "source": [
    "def bstIterator(root):\n",
    "    def __init__(self,root):\n",
    "        self.root = root\n",
    "        self.stack = []\n",
    "        self.pushAll(self.root)\n",
    "    def pushAll(self,node):\n",
    "        while node\n",
    "            if node != None:\n",
    "                stack.append(node)\n",
    "            else:\n",
    "                node = node.left"
   ]
  },
  {
   "cell_type": "markdown",
   "metadata": {},
   "source": [
    "# Two Sum IV"
   ]
  },
  {
   "cell_type": "code",
   "execution_count": null,
   "metadata": {},
   "outputs": [],
   "source": [
    "def twoSum(root,k):\n",
    "    "
   ]
  },
  {
   "cell_type": "markdown",
   "metadata": {},
   "source": [
    "# largest bst in binary tree"
   ]
  },
  {
   "cell_type": "code",
   "execution_count": null,
   "metadata": {},
   "outputs": [],
   "source": []
  }
 ],
 "metadata": {
  "kernelspec": {
   "display_name": "Python 3",
   "language": "python",
   "name": "python3"
  },
  "language_info": {
   "codemirror_mode": {
    "name": "ipython",
    "version": 3
   },
   "file_extension": ".py",
   "mimetype": "text/x-python",
   "name": "python",
   "nbconvert_exporter": "python",
   "pygments_lexer": "ipython3",
   "version": "3.8.8"
  }
 },
 "nbformat": 4,
 "nbformat_minor": 4
}
