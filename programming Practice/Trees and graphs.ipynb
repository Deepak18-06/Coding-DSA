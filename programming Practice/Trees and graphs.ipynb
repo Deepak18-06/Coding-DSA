{
 "cells": [
  {
   "cell_type": "markdown",
   "metadata": {},
   "source": [
    "### 1. Serialize and Deserialize Tree/BST/BT"
   ]
  },
  {
   "cell_type": "code",
   "execution_count": null,
   "metadata": {},
   "outputs": [],
   "source": [
    "class Codec:\n",
    "\n",
    "    def serialize(self, root: TreeNode) -> str:\n",
    "        \"\"\"Encodes a tree to a single string.\n",
    "        \"\"\"\n",
    "        if root is None:\n",
    "            return 'X,'\n",
    "        left = self.serialize(root.left)\n",
    "        right = self.serialize(root.right)\n",
    "        return str(root.val)+','+left+right\n",
    "        \n",
    "\n",
    "    def deserialize(self, data: str) -> TreeNode:\n",
    "        \"\"\"Decodes your encoded data to tree.\n",
    "        \"\"\"\n",
    "        q = data.split(',')\n",
    "        def helper(q):\n",
    "            front = q.pop(0)\n",
    "            if front == 'X':\n",
    "                return None\n",
    "            newNode = TreeNode(int(front))\n",
    "            newNode.left = helper(q)\n",
    "            newNode.right = helper(q)\n",
    "            return newNode\n",
    "        return helper(q)"
   ]
  },
  {
   "cell_type": "markdown",
   "metadata": {},
   "source": [
    "### 2. Traversals"
   ]
  },
  {
   "cell_type": "code",
   "execution_count": 3,
   "metadata": {},
   "outputs": [
    {
     "name": "stdout",
     "output_type": "stream",
     "text": [
      "Preorder traversal of binary tree is\n",
      "1\n",
      "2\n",
      "4\n",
      "5\n",
      "3\n",
      "\n",
      "Inorder traversal of binary tree is\n",
      "4\n",
      "2\n",
      "5\n",
      "1\n",
      "3\n",
      "\n",
      "Postorder traversal of binary tree is\n",
      "4\n",
      "5\n",
      "2\n",
      "3\n",
      "1\n"
     ]
    }
   ],
   "source": [
    "class Node:\n",
    "    def __init__(self,key):\n",
    "        self.left = None\n",
    "        self.right = None\n",
    "        self.val = key\n",
    "def preorder(root):\n",
    "    if root:\n",
    "        print(root.val)\n",
    "        preorder(root.left)\n",
    "        preorder(root.right)\n",
    "def inorder(root):\n",
    "    if root:\n",
    "        inorder(root.left)\n",
    "        print(root.val)\n",
    "        inorder(root.right)\n",
    "def postorder(root):\n",
    "    if root:\n",
    "        postorder(root.left)\n",
    "        postorder(root.right)\n",
    "        print(root.val)\n",
    "# iterative\n",
    "def preorderTraversal(node):\n",
    "    stack = []\n",
    "    stack.append(node)\n",
    "    ans = []\n",
    "    while len(stack) > 0:\n",
    "        temp = stack.pop()\n",
    "        ans.append(temp.val)\n",
    "        if temp.right != None:\n",
    "            stack.append(temp.right)\n",
    "        if temp.left != None:\n",
    "            stack.append(temp.left)\n",
    "\n",
    "    return ans\n",
    "\n",
    "def inorderTraversal(A):\n",
    "    stack = []\n",
    "    result = []\n",
    "    node = A\n",
    "    while(stack or node):\n",
    "        if node:\n",
    "            stack.append(node)\n",
    "            node = node.left\n",
    "        else:\n",
    "            node = stack.pop()\n",
    "            result.append(node.val)\n",
    "            node = node.right\n",
    "    #print(self.result)\n",
    "    return result\n",
    "def postorderTraversal(A):\n",
    "    result = []; d = [A]\n",
    "    while d:\n",
    "        node = d.pop()\n",
    "        if node:\n",
    "            result.append(node.val)\n",
    "            d.append(node.left)\n",
    "            d.append(node.right)\n",
    "    return result[::-1]\n",
    "root = Node(1) \n",
    "root.left      = Node(2) \n",
    "root.right     = Node(3) \n",
    "root.left.left  = Node(4) \n",
    "root.left.right  = Node(5) \n",
    "print(\"Preorder traversal of binary tree is\")\n",
    "preorder(root) \n",
    "  \n",
    "print(\"\\nInorder traversal of binary tree is\")\n",
    "inorder(root) \n",
    "  \n",
    "print(\"\\nPostorder traversal of binary tree is\")\n",
    "postorder(root) "
   ]
  },
  {
   "attachments": {
    "tree.gif": {
     "image/gif": "[encoded data removed]"
    }
   },
   "cell_type": "markdown",
   "metadata": {},
   "source": [
    "![tree.gif](attachment:tree.gif)"
   ]
  },
  {
   "cell_type": "markdown",
   "metadata": {},
   "source": [
    "### 3. Left View of a Binary Tree"
   ]
  },
  {
   "cell_type": "code",
   "execution_count": 37,
   "metadata": {},
   "outputs": [
    {
     "name": "stdout",
     "output_type": "stream",
     "text": [
      "1 2 4 "
     ]
    }
   ],
   "source": [
    "def leftviewutill(root,level,maxlevel): #\n",
    "    if root is None:\n",
    "        return\n",
    "    if maxlevel[0] < level:\n",
    "        print(root.val,end = ' ')\n",
    "        maxlevel[0] = level\n",
    "    leftviewutill(root.left,level+1,maxlevel)\n",
    "    leftviewutill(root.right,level+1,maxlevel)\n",
    "    #leftviewutill(root.left,level+1,maxlevel) # to get right view of the tree and comment out the left part and uncomment this part\n",
    "def leftview(root):\n",
    "    maxlevel = [0]                             # we took maxlevel as array not varible because it changes values globally\n",
    "    leftviewutill(root,1,maxlevel)\n",
    "leftview(root)\n",
    "\n"
   ]
  },
  {
   "cell_type": "code",
   "execution_count": 35,
   "metadata": {},
   "outputs": [
    {
     "name": "stdout",
     "output_type": "stream",
     "text": [
      "1 2 4 "
     ]
    }
   ],
   "source": [
    "def preorderleftView(root,level,visited):\n",
    "    if root:\n",
    "        if visited[level] != 1:\n",
    "            print(root.val,end = \" \")\n",
    "            visited[level] = 1\n",
    "        preorderleftView(root.left,level+1,visited)\n",
    "        preorderleftView(root.right,level+1,visited)\n",
    "def leftviewPreOrder(root):\n",
    "    h = height(root)\n",
    "    visited = [ 0 for i in range(h)]\n",
    "    preorderleftView(root,0,visited)\n",
    "leftviewPreOrder(root)  \n",
    "    "
   ]
  },
  {
   "cell_type": "markdown",
   "metadata": {},
   "source": [
    "### 4. level order traversal"
   ]
  },
  {
   "cell_type": "code",
   "execution_count": 9,
   "metadata": {},
   "outputs": [
    {
     "name": "stdout",
     "output_type": "stream",
     "text": [
      "1->2->3->4->5->"
     ]
    }
   ],
   "source": [
    "def levelOrder(root):\n",
    "    queue = [root]\n",
    "    while len(queue) != 0 :\n",
    "        temp = queue.pop(0)\n",
    "        print(temp.val,end = \"->\")\n",
    "        if temp.left:\n",
    "            queue.append(temp.left)\n",
    "        if temp.right:\n",
    "            queue.append(temp.right)\n",
    "levelOrder(root)\n",
    "            \n",
    "    "
   ]
  },
  {
   "cell_type": "code",
   "execution_count": 23,
   "metadata": {},
   "outputs": [
    {
     "name": "stdout",
     "output_type": "stream",
     "text": [
      "1->2->3->4->5->"
     ]
    }
   ],
   "source": [
    "def levelOrderRecursion(root,level):\n",
    "    if root is None:\n",
    "        return \n",
    "    if level == 1:\n",
    "        print(root.val,end = \"->\")\n",
    "    elif level>1:\n",
    "        levelOrderRecursion(root.left,level-1)\n",
    "        levelOrderRecursion(root.right,level-1)\n",
    "def levelOrderRecurMain(root):\n",
    "    h = height(root)\n",
    "    for i in range(1,h+1):\n",
    "        levelOrderRecursion(root,i)\n",
    "levelOrderRecurMain(root)"
   ]
  },
  {
   "cell_type": "markdown",
   "metadata": {},
   "source": [
    "### 5. height of Binary Tree"
   ]
  },
  {
   "cell_type": "code",
   "execution_count": 14,
   "metadata": {},
   "outputs": [
    {
     "data": {
      "text/plain": [
       "3"
      ]
     },
     "execution_count": 14,
     "metadata": {},
     "output_type": "execute_result"
    }
   ],
   "source": [
    "def height(root):\n",
    "    if root is None:\n",
    "        return 0\n",
    "    return max(height(root.left)+1,height(root.right)+1)\n",
    "height(root)        "
   ]
  },
  {
   "attachments": {
    "tree.gif": {
     "image/gif": "[encoded data removed]"
    }
   },
   "cell_type": "markdown",
   "metadata": {},
   "source": [
    "### 6. Diameter of Binary tree\n",
    "![tree.gif](attachment:tree.gif)"
   ]
  },
  {
   "cell_type": "code",
   "execution_count": 45,
   "metadata": {},
   "outputs": [
    {
     "name": "stdout",
     "output_type": "stream",
     "text": [
      "4\n"
     ]
    }
   ],
   "source": [
    "def diameter(root,res):\n",
    "    if root is None:\n",
    "        return 0\n",
    "    l = diameter(root.left,res)\n",
    "    r = diameter(root.right,res)\n",
    "    temp = max(l,r)\n",
    "    temp+=1\n",
    "    ans = max(temp,l+r+1)\n",
    "    res[0] = max(res[0],ans)\n",
    "    return temp\n",
    "res = [float('-inf')]\n",
    "diameter(root,res)\n",
    "print(res[0])\n",
    "def diameter(root,res):\n",
    "    if root is None:\n",
    "        return 0\n",
    "    l = diameter(root.left,res)\n",
    "    r = diameter(root.right,res)\n",
    "    temp = max(left,right)\n",
    "    temp+=1\n",
    "    ans = max(temp,l+r+1)\n",
    "    res[0] = max(res[0,ans])\n",
    "    return temp\n",
    "        "
   ]
  },
  {
   "cell_type": "markdown",
   "metadata": {},
   "source": [
    "### 7. Balanced binary Tree or not i.e AVL tree or not"
   ]
  },
  {
   "cell_type": "code",
   "execution_count": 51,
   "metadata": {},
   "outputs": [
    {
     "data": {
      "text/plain": [
       "True"
      ]
     },
     "execution_count": 51,
     "metadata": {},
     "output_type": "execute_result"
    }
   ],
   "source": [
    "def isBAlanced(root):\n",
    "    if root is None:\n",
    "        return True\n",
    "    lh = height(root.left)\n",
    "    rh = height(root.right)\n",
    "    if abs(lh-rh) <=1 and isBAlanced(root.left) and isBAlanced(root.right):\n",
    "        return True\n",
    "    return False\n",
    "isBAlanced(root)"
   ]
  },
  {
   "cell_type": "markdown",
   "metadata": {},
   "source": [
    "root = Node(1) \n",
    "root.left = Node(2) \n",
    "root.right = Node(3) \n",
    "root.left.left = Node(4) \n",
    "root.left.right = Node(5) \n",
    "root.left.left.left = Node(8)\n"
   ]
  },
  {
   "cell_type": "markdown",
   "metadata": {},
   "source": [
    "### 8. Identical Binary Tree or not"
   ]
  },
  {
   "cell_type": "code",
   "execution_count": 54,
   "metadata": {},
   "outputs": [
    {
     "name": "stdout",
     "output_type": "stream",
     "text": [
      "Both trees are identical\n"
     ]
    }
   ],
   "source": [
    "def isIdentical(root1,root2):\n",
    "    if root1 is None and root2 is None:\n",
    "        return True\n",
    "    if root1 is not None and root2 is not None:\n",
    "        return ((root1.val == root2.val) and isIdentical(root1.left,root2.left) and isIdentical(root1.right,root2.right))\n",
    "    return False\n",
    "root1 = Node(1) \n",
    "root2 = Node(1) \n",
    "root1.left = Node(2) \n",
    "root1.right = Node(3) \n",
    "root1.left.left = Node(4) \n",
    "root1.left.right = Node(5) \n",
    "  \n",
    "root2.left = Node(2) \n",
    "root2.right = Node(3) \n",
    "root2.left.left = Node(4) \n",
    "root2.left.right = Node(5) \n",
    "  \n",
    "if isIdentical(root1, root2): \n",
    "    print(\"Both trees are identical\")\n",
    "else: \n",
    "    print(\"Trees are not identical\")"
   ]
  },
  {
   "cell_type": "markdown",
   "metadata": {},
   "source": [
    "### 9. LCA(lowest comman ancestor)"
   ]
  },
  {
   "cell_type": "code",
   "execution_count": 59,
   "metadata": {},
   "outputs": [
    {
     "name": "stdout",
     "output_type": "stream",
     "text": [
      "3\n"
     ]
    }
   ],
   "source": [
    "def lca(root,x,y):\n",
    "    if root is None:\n",
    "        return None\n",
    "    if root.val == x or root.val == y :\n",
    "        return root\n",
    "    leftresult = lca(root.left,x,y)\n",
    "    rightresult = lca(root.right,x,y)\n",
    "    if leftresult is None:\n",
    "        return rightresult\n",
    "    if rightresult is None:\n",
    "        return leftresult\n",
    "    return root\n",
    "res = lca(root,3,3) \n",
    "print(res.val)"
   ]
  },
  {
   "cell_type": "markdown",
   "metadata": {},
   "source": [
    "### 10. maximum avg subtree"
   ]
  },
  {
   "cell_type": "code",
   "execution_count": null,
   "metadata": {},
   "outputs": [],
   "source": [
    "class TreeNode:\n",
    "    def __init__(self, value):\n",
    "        self.val = value\n",
    "        self.children = []\n",
    "        \n",
    "\n",
    "class Solution: \n",
    "    def MaxAverageSubtree(self, root):\n",
    "        if not root or not root.children:\n",
    "            return None\n",
    "        \n",
    "        self.res = [float('-inf'), 0]\n",
    "        # self.res[0]: average; self.res[1]: number of nodes\n",
    "        self.dfs(root)\n",
    "        return self.res[1]\n",
    "    \n",
    "    def dfs(self, root):\n",
    "        if not root.children:\n",
    "            return [root.val, 1]\n",
    "        \n",
    "        temp_sum, temp_num = root.val, 1\n",
    "        for child in root.children:\n",
    "            child_sum, child_num = self.dfs(child)\n",
    "            temp_sum += child_sum\n",
    "            temp_num += child_num\n",
    "            \n",
    "        if temp_sum/temp_num > self.res[0]:\n",
    "            self.res = [temp_sum/temp_num, root.val]\n",
    "        \n",
    "        return [temp_sum, temp_num]"
   ]
  },
  {
   "cell_type": "markdown",
   "metadata": {},
   "source": [
    "### 11. Maximum Path Sum any Node to any Node"
   ]
  },
  {
   "cell_type": "code",
   "execution_count": null,
   "metadata": {},
   "outputs": [],
   "source": [
    "import sys\n",
    "sys.setrecursionlimit(1000000)\n",
    "class Solution:\n",
    "    def maxPathSum(self, root: TreeNode) -> int:\n",
    "        res = [float(\"-inf\")]\n",
    "        def solve(root,res):\n",
    "            if root is None:\n",
    "                return 0\n",
    "            l = solve(root.left,res)\n",
    "            r = solve(root.right,res)\n",
    "            temp = max((max(l,r)+root.val),root.val)\n",
    "            ans  = max(temp,l+r+root.val)\n",
    "            res[0] = max(ans,res[0])\n",
    "            return temp\n",
    "        solve(root,res)\n",
    "        return res[0]"
   ]
  },
  {
   "cell_type": "markdown",
   "metadata": {},
   "source": [
    "### 12. Maximum Path Sum leaf to leaf"
   ]
  },
  {
   "cell_type": "code",
   "execution_count": 7,
   "metadata": {},
   "outputs": [
    {
     "name": "stdout",
     "output_type": "stream",
     "text": [
      "11\n"
     ]
    }
   ],
   "source": [
    "def solve(root,res):\n",
    "    if root is None:\n",
    "        return 0\n",
    "    l = solve(root.left,res)\n",
    "    r = solve(root.right,res)\n",
    "    temp = max(l,r) + root.val\n",
    "    '''\n",
    "    # just for the concept\n",
    "    if root.left is None and root.right is None:\n",
    "        temp = max(temp,root.val)\n",
    "    '''\n",
    "    ans = max(temp,l+r+root.val)\n",
    "    res[0] = max(ans,res[0])\n",
    "    return temp\n",
    "res = [float(\"-inf\")]\n",
    "solve(root,res)\n",
    "print(res[0])\n",
    "    "
   ]
  },
  {
   "cell_type": "markdown",
   "metadata": {},
   "source": [
    "### 13. Path Sum\n",
    "root to leaf sum exist or not"
   ]
  },
  {
   "cell_type": "code",
   "execution_count": 9,
   "metadata": {},
   "outputs": [],
   "source": [
    "class Solution:\n",
    "    def hasPathSum(self, root: Node, sum: int) -> bool:\n",
    "        def helper(root,target):\n",
    "            if root is None:\n",
    "                return False\n",
    "            elif root.right is None and root.left is None and (target - root.val) == 0:\n",
    "                return True\n",
    "            else:\n",
    "                return helper(root.left,target-root.val) or helper(root.right,target-root.val)\n",
    "        return helper(root,sum)\n",
    "                "
   ]
  },
  {
   "cell_type": "markdown",
   "metadata": {},
   "source": [
    "### 14. Construct Binary Tree using Preorder and inorder"
   ]
  },
  {
   "cell_type": "code",
   "execution_count": 10,
   "metadata": {},
   "outputs": [
    {
     "data": {
      "text/plain": [
       "'\\ndef Construct(A,B):\\n    if len(B) == 0:\\n        return\\n    root = Node(A[0])\\n    for i in range(len(B)):\\n        if B[i] == A[0]:\\n            root.left = Construct(A[1:],)\\n            root.right = Construct()        \\n    \\n    return root\\ndef solve(preorder,inorder):\\n    for i in range(len(preorder)):\\n        for j in range(len(inorder)):\\n'"
      ]
     },
     "execution_count": 10,
     "metadata": {},
     "output_type": "execute_result"
    }
   ],
   "source": [
    "'''\n",
    "def Construct(A,B):\n",
    "    if len(B) == 0:\n",
    "        return\n",
    "    root = Node(A[0])\n",
    "    for i in range(len(B)):\n",
    "        if B[i] == A[0]:\n",
    "            root.left = Construct(A[1:],)\n",
    "            root.right = Construct()        \n",
    "    \n",
    "    return root\n",
    "def solve(preorder,inorder):\n",
    "    for i in range(len(preorder)):\n",
    "        for j in range(len(inorder)):\n",
    "'''"
   ]
  },
  {
   "cell_type": "markdown",
   "metadata": {},
   "source": [
    "### 15. Flatten the binary tree"
   ]
  },
  {
   "cell_type": "code",
   "execution_count": 11,
   "metadata": {},
   "outputs": [],
   "source": [
    "def flatten(root):\n",
    "    if root is None:\n",
    "        return\n",
    "    flatten(root.left)\n",
    "    flatten(root.right)\n",
    "    if root is not None:\n",
    "        curr = root.left\n",
    "        while curr.right is not None:\n",
    "            curr = curr.right\n",
    "        curr.right = root.right\n",
    "        root.right = root.left\n",
    "        root.left = None"
   ]
  },
  {
   "cell_type": "markdown",
   "metadata": {},
   "source": [
    "### 16. Mirror of Binary Tree(Symmetric)"
   ]
  },
  {
   "cell_type": "code",
   "execution_count": 13,
   "metadata": {},
   "outputs": [],
   "source": [
    "def Mirror(root1,root2):\n",
    "    if root1 is None and root2 is None:\n",
    "        return True\n",
    "    if root1 is not None and root2 is not None:\n",
    "        return root1.val == root2.val and Mirror(root1.left,root2.right) and Mirror(root1,right,root2,left)\n",
    "    return False"
   ]
  },
  {
   "cell_type": "code",
   "execution_count": null,
   "metadata": {},
   "outputs": [],
   "source": [
    "def Identical(root1,root2):\n",
    "    if root1 is None and root2 is None:\n",
    "        return True\n",
    "    if root1 is not None and root2 is not None:\n",
    "        return root1.val == root2.val and Mirror(root1.left,root2.left) and Mirror(root1.right,root2.right)\n",
    "    return False"
   ]
  },
  {
   "cell_type": "raw",
   "metadata": {},
   "source": []
  },
  {
   "cell_type": "code",
   "execution_count": 2,
   "metadata": {},
   "outputs": [
    {
     "data": {
      "text/plain": [
       "122"
      ]
     },
     "execution_count": 2,
     "metadata": {},
     "output_type": "execute_result"
    }
   ],
   "source": [
    "ord('z')"
   ]
  },
  {
   "cell_type": "code",
   "execution_count": 1,
   "metadata": {},
   "outputs": [],
   "source": [
    "a = [1, 5, 3, 4, 6]\n"
   ]
  },
  {
   "cell_type": "code",
   "execution_count": 3,
   "metadata": {},
   "outputs": [
    {
     "data": {
      "text/plain": [
       "False"
      ]
     },
     "execution_count": 3,
     "metadata": {},
     "output_type": "execute_result"
    }
   ],
   "source": [
    "sorted(a) == a"
   ]
  },
  {
   "cell_type": "code",
   "execution_count": null,
   "metadata": {},
   "outputs": [],
   "source": []
  }
 ],
 "metadata": {
  "kernelspec": {
   "display_name": "Python 3",
   "language": "python",
   "name": "python3"
  },
  "language_info": {
   "codemirror_mode": {
    "name": "ipython",
    "version": 3
   },
   "file_extension": ".py",
   "mimetype": "text/x-python",
   "name": "python",
   "nbconvert_exporter": "python",
   "pygments_lexer": "ipython3",
   "version": "3.8.3"
  }
 },
 "nbformat": 4,
 "nbformat_minor": 4
}
