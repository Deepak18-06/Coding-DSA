{
 "cells": [
  {
   "cell_type": "markdown",
   "id": "16603563",
   "metadata": {},
   "source": [
    "## 0-1 KnapSack"
   ]
  },
  {
   "cell_type": "code",
   "execution_count": 5,
   "id": "76c6750c",
   "metadata": {},
   "outputs": [
    {
     "data": {
      "text/plain": [
       "9"
      ]
     },
     "execution_count": 5,
     "metadata": {},
     "output_type": "execute_result"
    }
   ],
   "source": [
    "def knapSack(W, wt, val, n):\n",
    "    if n == 0 or W == 0:\n",
    "        return 0\n",
    "    if wt[n-1] <= W:\n",
    "        return  max(val[n-1] + knapSack(W-wt[n-1],wt, val, n-1), knapSack(W, wt, val, n-1))\n",
    "    else:\n",
    "        return knapSack(W, wt, val, n-1)\n",
    "W = 7\n",
    "wt = [1, 3, 4, 5]\n",
    "val = [1, 4, 5, 7]\n",
    "n = len(wt)\n",
    "knapSack(W,wt, val, n)"
   ]
  },
  {
   "cell_type": "code",
   "execution_count": 3,
   "id": "ed5ba644",
   "metadata": {},
   "outputs": [
    {
     "name": "stdout",
     "output_type": "stream",
     "text": [
      "Maximum value that can be obtained: 9\n"
     ]
    }
   ],
   "source": [
    "# Memoization technique for Knapsack\n",
    "def knapSack(wt, val, W, n, dp):\n",
    "    if n == 0 or W == 0:\n",
    "        return 0\n",
    "    if dp[n][W] != -1:  # Check the memoization table for n and W\n",
    "        return dp[n][W]\n",
    "    \n",
    "    # If the weight of the nth item is less than or equal to the capacity W\n",
    "    if wt[n-1] <= W:\n",
    "        dp[n][W] = max(val[n-1] + knapSack(wt, val, W-wt[n-1], n-1, dp), \n",
    "                       knapSack(wt, val, W, n-1, dp))\n",
    "    else:\n",
    "        dp[n][W] = knapSack(wt, val, W, n-1, dp)\n",
    "    \n",
    "    return dp[n][W]\n",
    "    \n",
    "# Example usage\n",
    "wt = [1, 3, 4, 5]  # Weights of the items\n",
    "val = [1, 4, 5, 7]  # Values of the items\n",
    "W = 7  # Maximum weight capacity of the knapsack\n",
    "n = len(wt)  # Number of items\n",
    "\n",
    "# Initialize the memoization table with -1\n",
    "dp = [[-1 for _ in range(W+1)] for _ in range(n+1)]\n",
    "\n",
    "# Call the knapSack function\n",
    "max_value = knapSack(wt, val, W, n, dp)\n",
    "print(f\"Maximum value that can be obtained: {max_value}\")\n"
   ]
  },
  {
   "cell_type": "code",
   "execution_count": 9,
   "id": "304c0a08",
   "metadata": {},
   "outputs": [
    {
     "data": {
      "text/plain": [
       "9"
      ]
     },
     "execution_count": 9,
     "metadata": {},
     "output_type": "execute_result"
    }
   ],
   "source": [
    "# tabulization approach\n",
    "def knapSack(wt, val, W, n):\n",
    "    dp = [[0 for i in range(W+1)] for j in range(n+1)]\n",
    "    for i in range(1,n+1):\n",
    "        for w in range(1,W+1):\n",
    "            if wt[i-1] <= w:\n",
    "                dp[i][w] = max( val[i-1] + dp[i-1][w-wt[i-1]], dp[i-1][w])\n",
    "            else:\n",
    "                dp[i][w] = dp[i-1][w]\n",
    "    return dp[n][W]\n",
    "wt = [1, 3, 4, 5]  # Weights of the items\n",
    "val = [1, 4, 5, 7]  # Values of the items\n",
    "W = 7  # Maximum weight capacity of the knapsack\n",
    "n = len(wt)  # Number of items\n",
    "knapSack(wt, val, W, n)"
   ]
  },
  {
   "cell_type": "markdown",
   "id": "b7050e15",
   "metadata": {},
   "source": [
    "## Problems that depends on 0/1 knapsack\n",
    "- subset sum problem\n",
    "- equal sum partition\n",
    "- count of subset sum\n",
    "- min subset sum diff\n",
    "- target sum\n",
    "- num of subset given diff"
   ]
  },
  {
   "cell_type": "markdown",
   "id": "7a2941b6",
   "metadata": {},
   "source": [
    "# subset sum problem"
   ]
  },
  {
   "cell_type": "code",
   "execution_count": 39,
   "id": "556f7aa4",
   "metadata": {},
   "outputs": [
    {
     "name": "stdout",
     "output_type": "stream",
     "text": [
      "There exists a subset with sum 9\n"
     ]
    }
   ],
   "source": [
    "def isSubsetSum(N, arr, sum):\n",
    "    # Base cases\n",
    "    if sum == 0:\n",
    "        return True  # If sum is 0, we can always achieve this by selecting no elements\n",
    "    if N == 0:\n",
    "        return False  # If no elements are left and sum is not 0, we cannot achieve the sum\n",
    "\n",
    "    # Check if the current element can be included or excluded\n",
    "    if arr[N-1] <= sum:\n",
    "        # We have two choices: include the current element or exclude it\n",
    "        return isSubsetSum(N-1, arr, sum - arr[N-1]) or isSubsetSum(N-1, arr, sum)\n",
    "    else:\n",
    "        # If the current element cannot be included, move to the next element\n",
    "        return isSubsetSum(N-1, arr, sum)\n",
    "\n",
    "# Example usage\n",
    "arr = [3, 34, 4, 12, 5, 2]\n",
    "sum = 9\n",
    "N = len(arr)\n",
    "\n",
    "if isSubsetSum(N, arr, sum):\n",
    "    print(f\"There exists a subset with sum {sum}\")\n",
    "else:\n",
    "    print(f\"No subset with sum {sum}\")\n"
   ]
  },
  {
   "cell_type": "code",
   "execution_count": 45,
   "id": "37597c92",
   "metadata": {},
   "outputs": [
    {
     "data": {
      "text/plain": [
       "True"
      ]
     },
     "execution_count": 45,
     "metadata": {},
     "output_type": "execute_result"
    }
   ],
   "source": [
    "# memoization\n",
    "def isSubsetSum(N, arr, sum, dp):\n",
    "    if sum == 0:\n",
    "        return True\n",
    "    if N == 0:\n",
    "        return False\n",
    "    if dp[N][sum] != -1:\n",
    "        return dp[N][sum]\n",
    "    if arr[N-1] <= sum:\n",
    "        dp[N][sum] = isSubsetSum(N-1, arr, sum-arr[N-1], dp) or isSubsetSum(N-1, arr, sum, dp)\n",
    "    else:\n",
    "        dp[N][sum] = isSubsetSum(N-1, arr, sum, dp)\n",
    "    return dp[N][sum]\n",
    "    \n",
    "arr = [3, 34, 4, 12, 5, 2]\n",
    "sum = 9\n",
    "N = len(arr)\n",
    "dp = [[-1 for j in range(sum+1)] for i in range(N+1)]\n",
    "isSubsetSum(N, arr, sum, dp)"
   ]
  },
  {
   "cell_type": "code",
   "execution_count": 19,
   "id": "58590ad2",
   "metadata": {},
   "outputs": [
    {
     "data": {
      "text/plain": [
       "True"
      ]
     },
     "execution_count": 19,
     "metadata": {},
     "output_type": "execute_result"
    }
   ],
   "source": [
    "# tabularization -> Top-up\n",
    "def isSubsetSum(N, arr, sum):\n",
    "    dp = [[0 for j in range(sum+1)] for i in range(N+1)]\n",
    "    for i in range(N+1):\n",
    "        for j in range(sum+1):\n",
    "            if i ==0 and j == 0:\n",
    "                dp[i][j] = True\n",
    "            elif i == 0 and j >0:\n",
    "                dp[i][j] = False\n",
    "            elif i >0 and j == 0:\n",
    "                dp[i][j] = True\n",
    "    for i in range(1,N+1):\n",
    "        for j in range(1,sum+1):\n",
    "            if arr[i-1] <= j:\n",
    "                dp[i][j] = dp[i-1][j-arr[i-1]] or dp[i-1][j]\n",
    "            else:\n",
    "                dp[i][j] = dp[i-1][j]\n",
    "    return dp[N][sum]\n",
    "N = 1\n",
    "arr = [4]\n",
    "sum = 4\n",
    "isSubsetSum(N, arr, sum)"
   ]
  },
  {
   "cell_type": "markdown",
   "id": "703b9863",
   "metadata": {},
   "source": [
    "# subset sum problem\n"
   ]
  },
  {
   "cell_type": "code",
   "execution_count": null,
   "id": "76a2a5c0",
   "metadata": {},
   "outputs": [],
   "source": [
    "class Solution:\n",
    "    def isSubsetSum(self,nums, target, n):\n",
    "        dp = [[0 for j in range(target+1)] for i in range(n+1)]\n",
    "        for i in range(n+1):\n",
    "            for j in range(target+1):\n",
    "                if i == 0 and j == 0 :\n",
    "                    dp[i][j] = 1\n",
    "                elif i ==0 and j>0:\n",
    "                    dp[i][j] = 0\n",
    "                elif i > 0 and j == 0:\n",
    "                    dp[i][j] = 1\n",
    "        for i in range(1,n+1):\n",
    "            for j in range(1,target+1):\n",
    "                if nums[i-1] <= j:\n",
    "                    dp[i][j] = dp[i-1][j-nums[i-1]] or dp[i-1][j]\n",
    "                else:\n",
    "                    dp[i][j] = dp[i-1][j]\n",
    "        return dp[n][target]\n",
    "    def canPartition(self, nums: List[int]) -> bool:\n",
    "        summation = sum(nums)\n",
    "        if summation%2 != 0:\n",
    "            return False\n",
    "        return self.isSubsetSum(nums, summation//2, len(nums))"
   ]
  },
  {
   "cell_type": "markdown",
   "id": "90a5d464",
   "metadata": {},
   "source": [
    "# Count subset with sum k"
   ]
  },
  {
   "cell_type": "code",
   "execution_count": 22,
   "id": "f0afd3aa",
   "metadata": {},
   "outputs": [
    {
     "data": {
      "text/plain": [
       "2"
      ]
     },
     "execution_count": 22,
     "metadata": {},
     "output_type": "execute_result"
    }
   ],
   "source": [
    "def countSubsetSum(nums, target, n):\n",
    "        dp = [[0 for j in range(target+1)] for i in range(n+1)]\n",
    "        for i in range(n+1):\n",
    "            for j in range(target+1):\n",
    "                if i == 0 and j == 0 :\n",
    "                    dp[i][j] = 1\n",
    "                elif i ==0 and j>0:\n",
    "                    dp[i][j] = 0\n",
    "                elif i > 0 and j == 0:\n",
    "                    dp[i][j] = 1\n",
    "        for i in range(1,n+1):\n",
    "            for j in range(1,target+1):\n",
    "                if nums[i-1] <= j:\n",
    "                    dp[i][j] = dp[i-1][j-nums[i-1]] + dp[i-1][j]\n",
    "                else:\n",
    "                    dp[i][j] = dp[i-1][j]\n",
    "        return dp[n][target]\n",
    "isSubsetSum([1,2,3,4], 5, 4)"
   ]
  },
  {
   "cell_type": "markdown",
   "id": "109cfba4",
   "metadata": {},
   "source": [
    "# Unbounded KnapSack"
   ]
  },
  {
   "cell_type": "code",
   "execution_count": 26,
   "id": "bd75f2ee",
   "metadata": {},
   "outputs": [
    {
     "data": {
      "text/plain": [
       "50"
      ]
     },
     "execution_count": 26,
     "metadata": {},
     "output_type": "execute_result"
    }
   ],
   "source": [
    "def unboundedKnapSack(wt, val, W, n):\n",
    "    if W == 0 or n == 0:\n",
    "        return 0\n",
    "    if wt[n-1] <= W:\n",
    "        return max(val[n-1] + unboundedKnapSack(wt, val, W-wt[n-1], n), unboundedKnapSack(wt,val, W, n-1))\n",
    "    else:\n",
    "         return unboundedKnapSack(wt,val, W, n-1)\n",
    "        \n",
    "wt = [1,2,3,4]\n",
    "val = [1,2,3,4]\n",
    "n = 4\n",
    "W = 50\n",
    "unboundedKnapSack(wt, val, W, n)"
   ]
  },
  {
   "cell_type": "code",
   "execution_count": null,
   "id": "38507736",
   "metadata": {},
   "outputs": [],
   "source": [
    "def knapSack(wt, val, W, n):\n",
    "    dp = [[0 for i in range(W+1)] for j in range(n+1)]\n",
    "    for i in range(1,n+1):\n",
    "        for w in range(1,W+1):\n",
    "            if wt[i-1] <= w:\n",
    "                dp[i][w] = max( val[i-1] + dp[i][w-wt[i-1]], dp[i-1][w])\n",
    "            else:\n",
    "                dp[i][w] = dp[i-1][w]\n",
    "    return dp[n][W]"
   ]
  },
  {
   "cell_type": "markdown",
   "id": "24e88996",
   "metadata": {},
   "source": [
    "# Rod Cutting problem"
   ]
  },
  {
   "cell_type": "code",
   "execution_count": 47,
   "id": "09610b84",
   "metadata": {},
   "outputs": [
    {
     "name": "stdout",
     "output_type": "stream",
     "text": [
      "Maximum profit obtainable: 22\n"
     ]
    }
   ],
   "source": [
    "def rodCutting(price, n):\n",
    "    # dp[i] will store the maximum profit for rod of length i\n",
    "    dp = [0] * (n + 1)\n",
    "    \n",
    "    # Fill the dp array with optimal solutions for each length\n",
    "    for i in range(1, n + 1):\n",
    "        max_val = float('-inf')\n",
    "        for j in range(i):\n",
    "            max_val = max(max_val, price[j] + dp[i - j - 1])\n",
    "        dp[i] = max_val\n",
    "    \n",
    "    return dp[n]\n",
    "\n",
    "# Example usage:\n",
    "price = [1, 5, 8, 9, 10, 17, 17, 20]  # Price array\n",
    "n = 8  # Length of the rod\n",
    "max_profit = rodCutting(price, n)\n",
    "print(f\"Maximum profit obtainable: {max_profit}\")\n"
   ]
  },
  {
   "cell_type": "markdown",
   "id": "8e48b6a6-0823-4cf9-8ef3-4138501f953b",
   "metadata": {},
   "source": [
    "## Coin change (Max number of ways)"
   ]
  },
  {
   "cell_type": "code",
   "execution_count": null,
   "id": "e5d69496-6695-4bf7-9008-241cf5a162cf",
   "metadata": {},
   "outputs": [],
   "source": [
    "def coinChangeMaxWays(coins, sum):\n",
    "    # dp[i] will store the number of ways to get the sum i\n",
    "    dp = [0] * (sum + 1)\n",
    "    \n",
    "    # Base case: there's one way to make the sum 0, by choosing no coins\n",
    "    dp[0] = 1\n",
    "    \n",
    "    # Update the dp array for each coin\n",
    "    for coin in coins:\n",
    "        for i in range(coin, sum + 1):\n",
    "            dp[i] += dp[i - coin]\n",
    "    \n",
    "    return dp[sum]\n",
    "\n",
    "# Example usage:\n",
    "coins = [1, 2, 3]  # Coin denominations\n",
    "sum = 4  # Target sum\n",
    "result = coinChangeMaxWays(coins, sum)\n",
    "print(f\"Maximum number of ways to make change: {result}\")\n"
   ]
  },
  {
   "cell_type": "markdown",
   "id": "08d4f3a9",
   "metadata": {},
   "source": [
    "# Longest Common subsequence"
   ]
  },
  {
   "cell_type": "code",
   "execution_count": 54,
   "id": "9d404c62",
   "metadata": {},
   "outputs": [
    {
     "data": {
      "text/plain": [
       "4"
      ]
     },
     "execution_count": 54,
     "metadata": {},
     "output_type": "execute_result"
    }
   ],
   "source": [
    "# using recursion and memoization\n",
    "def helper(x, y, n, m, dp):\n",
    "    if n == 0 or m == 0:\n",
    "        return 0\n",
    "    if dp[n][m] != -1:\n",
    "        return dp[n][m]\n",
    "    if x[n-1] == y[m-1]:\n",
    "        dp[n][m] =  1+helper(x,y,n-1,m-1, dp)\n",
    "    else:\n",
    "        dp[n][m] =  max(helper(x,y,n-1,m, dp), helper(x,y,n, m-1, dp))\n",
    "    return dp[n][m]\n",
    "text1 = 'abcede'\n",
    "text2 = 'abvcd'\n",
    "dp = [[-1 for i in range(len(text2)+1)] for j in range(len(text1)+1)]\n",
    "helper(text1,text2,len(text1), len(text2), dp)"
   ]
  },
  {
   "cell_type": "code",
   "execution_count": null,
   "id": "262e1d80",
   "metadata": {},
   "outputs": [],
   "source": [
    "# using tabularization ->top down approach\n",
    "class Solution:\n",
    "    def longestCommonSubsequence(self, text1: str, text2: str) -> int:\n",
    "        n = len(text1)\n",
    "        m = len(text2)\n",
    "        dp = [[0 for j in range(m+1)] for i in range(n+1)]\n",
    "        for i in range(1,n+1):\n",
    "            for j in range(1,m+1):\n",
    "                if text1[i-1] == text2[j-1]:\n",
    "                    dp[i][j] = 1 + dp[i-1][j-1]\n",
    "                else:\n",
    "                    dp[i][j] = max(dp[i][j-1], dp[i-1][j])\n",
    "        return dp[n][m]"
   ]
  },
  {
   "cell_type": "markdown",
   "id": "a29934a5",
   "metadata": {},
   "source": [
    "# Longest Common substring(string which is continous)"
   ]
  },
  {
   "cell_type": "code",
   "execution_count": 39,
   "id": "d3351bc7",
   "metadata": {},
   "outputs": [
    {
     "data": {
      "text/plain": [
       "5"
      ]
     },
     "execution_count": 39,
     "metadata": {},
     "output_type": "execute_result"
    }
   ],
   "source": [
    "def longestCommonSubstring(x, y):\n",
    "    n = len(x)\n",
    "    m = len(y)\n",
    "    dp = [[0 for j in range(m + 1)] for i in range(n + 1)]\n",
    "    max_length = 0\n",
    "    for i in range(1, n + 1):\n",
    "        for j in range(1, m + 1):\n",
    "            if x[i - 1] == y[j - 1]:\n",
    "                dp[i][j] = 1 + dp[i - 1][j - 1]\n",
    "                max_length = max(max_length, dp[i][j])\n",
    "            else:\n",
    "                dp[i][j] = 0 # making this zero as when not equal assign to zero \n",
    "    return max_length\n",
    "x = \"GeeksforGeeks\" \n",
    "y = \"GeeksQuiz\"\n",
    "longestCommonSubstring(x, y)"
   ]
  },
  {
   "cell_type": "markdown",
   "id": "3db68dc4",
   "metadata": {},
   "source": [
    "# print longest common subsequence"
   ]
  },
  {
   "cell_type": "code",
   "execution_count": 54,
   "id": "4d9278ab",
   "metadata": {},
   "outputs": [
    {
     "data": {
      "text/plain": [
       "'abcd'"
      ]
     },
     "execution_count": 54,
     "metadata": {},
     "output_type": "execute_result"
    }
   ],
   "source": [
    "def longestCommonSubsequence(text1: str, text2: str) -> int:\n",
    "    n = len(text1)\n",
    "    m = len(text2)\n",
    "    dp = [[\"\" for j in range(m+1)] for i in range(n+1)]\n",
    "    for i in range(1,n+1):\n",
    "        for j in range(1,m+1):\n",
    "            if text1[i-1] == text2[j-1]:\n",
    "                dp[i][j] =  dp[i-1][j-1] + text1[i-1]\n",
    "            else:\n",
    "                first = len(dp[i][j-1])\n",
    "                second = len(dp[i-1][j])\n",
    "                if first > second:\n",
    "                    dp[i][j] = dp[i][j-1]\n",
    "                else:\n",
    "                    dp[i][j] = dp[i-1][j]\n",
    "    return dp[n][m]\n",
    "text1 = 'abcde'\n",
    "text2 = 'abecd'\n",
    "longestCommonSubsequence(text1,text2)"
   ]
  },
  {
   "cell_type": "markdown",
   "id": "91b81c47",
   "metadata": {},
   "source": [
    "# shortest commone supersequence"
   ]
  },
  {
   "cell_type": "code",
   "execution_count": 47,
   "id": "98ee6419",
   "metadata": {},
   "outputs": [],
   "source": [
    "def shortestCommonSubsequence(x,y):\n",
    "    lcs = longestCommonSubsequence(x,y) # return 2 .i.e. \"ek\"\n",
    "    return len(x)+len(y) - lcs\n",
    "x = 'geek'\n",
    "y = 'eke'\n"
   ]
  },
  {
   "cell_type": "markdown",
   "id": "dd3f41f0",
   "metadata": {},
   "source": [
    "# Print Shortest Common supersequence"
   ]
  },
  {
   "cell_type": "code",
   "execution_count": 56,
   "id": "f54048d2",
   "metadata": {},
   "outputs": [
    {
     "name": "stdout",
     "output_type": "stream",
     "text": [
      "ee\n"
     ]
    },
    {
     "ename": "TypeError",
     "evalue": "string indices must be integers, not 'tuple'",
     "output_type": "error",
     "traceback": [
      "\u001b[0;31m---------------------------------------------------------------------------\u001b[0m",
      "\u001b[0;31mTypeError\u001b[0m                                 Traceback (most recent call last)",
      "Cell \u001b[0;32mIn[56], line 21\u001b[0m\n\u001b[1;32m     19\u001b[0m x \u001b[38;5;241m=\u001b[39m \u001b[38;5;124m'\u001b[39m\u001b[38;5;124mgeek\u001b[39m\u001b[38;5;124m'\u001b[39m\n\u001b[1;32m     20\u001b[0m y \u001b[38;5;241m=\u001b[39m \u001b[38;5;124m'\u001b[39m\u001b[38;5;124meke\u001b[39m\u001b[38;5;124m'\u001b[39m\n\u001b[0;32m---> 21\u001b[0m printShortestCommonSupersequence(x,y)\n",
      "Cell \u001b[0;32mIn[56], line 8\u001b[0m, in \u001b[0;36mprintShortestCommonSupersequence\u001b[0;34m(x, y)\u001b[0m\n\u001b[1;32m      6\u001b[0m res \u001b[38;5;241m=\u001b[39m \u001b[38;5;124m\"\u001b[39m\u001b[38;5;124m\"\u001b[39m\n\u001b[1;32m      7\u001b[0m \u001b[38;5;28;01mfor\u001b[39;00m ch \u001b[38;5;129;01min\u001b[39;00m lcs:\n\u001b[0;32m----> 8\u001b[0m     \u001b[38;5;28;01mwhile\u001b[39;00m x[i] \u001b[38;5;241m!=\u001b[39m ch:\n\u001b[1;32m      9\u001b[0m         res \u001b[38;5;241m+\u001b[39m\u001b[38;5;241m=\u001b[39m x[i]\n\u001b[1;32m     10\u001b[0m         i \u001b[38;5;241m+\u001b[39m\u001b[38;5;241m=\u001b[39m \u001b[38;5;241m1\u001b[39m\n",
      "\u001b[0;31mTypeError\u001b[0m: string indices must be integers, not 'tuple'"
     ]
    }
   ],
   "source": [
    "def printShortestCommonSupersequence(x,y):\n",
    "    lcs = longestCommonSubsequence(x,y) # return \"ek\"\n",
    "    print(lcs)\n",
    "    i = 0, \n",
    "    j = 0\n",
    "    res = \"\"\n",
    "    for ch in lcs:\n",
    "        while x[i] != ch:\n",
    "            res += x[i]\n",
    "            i += 1\n",
    "        while y[j] != ch:\n",
    "            res += y[j]\n",
    "            j += 1\n",
    "        res += ch\n",
    "        i += 1\n",
    "        j += 1\n",
    "    res += x[i:] + y[j:]\n",
    "    return res\n",
    "x = 'geek'\n",
    "y = 'eke'\n",
    "printShortestCommonSupersequence(x,y)"
   ]
  },
  {
   "cell_type": "markdown",
   "id": "a239d589",
   "metadata": {},
   "source": [
    "# Minimum number of insertion and deletion to make string same"
   ]
  },
  {
   "cell_type": "code",
   "execution_count": 49,
   "id": "8b89e63f",
   "metadata": {},
   "outputs": [],
   "source": [
    "def minNoOfInsertionDeletion(str1, str2):\n",
    "    lcs = longestCommonSubsequence(str1,str2)\n",
    "    deletions = len(str1) - lcs\n",
    "    insertions = len(str2) - lcs\n",
    "    return insertions, deletion\n",
    "str1 = \"geeksforgeeks\"\n",
    "str2 = \"geeks\"\n",
    "output = 8\n"
   ]
  },
  {
   "cell_type": "markdown",
   "id": "3accc01d",
   "metadata": {},
   "source": [
    "# Longest Pallindromic subsequence"
   ]
  },
  {
   "cell_type": "code",
   "execution_count": 50,
   "id": "38108df7",
   "metadata": {},
   "outputs": [
    {
     "data": {
      "text/plain": [
       "4"
      ]
     },
     "execution_count": 50,
     "metadata": {},
     "output_type": "execute_result"
    }
   ],
   "source": [
    "def longestPallindromicSubsequence(x):\n",
    "    y = x[::-1] # lcs with reverse longest common subsequence\n",
    "    n = len(x)\n",
    "    dp = [[0 for j in range(n+1)] for i in range(n+1)]\n",
    "    for i in range(1,n+1):\n",
    "        for j in range(1,n+1):\n",
    "            if x[i-1] == y[j-1]:\n",
    "                dp[i][j] = 1 + dp[i-1][j-1]\n",
    "            else:\n",
    "                dp[i][j] = max(dp[i][j-1], dp[i-1][j])\n",
    "    return dp[n][n]\n",
    "x = 'bbbab'\n",
    "longestPallindromicSubsequence(x)"
   ]
  },
  {
   "cell_type": "markdown",
   "id": "93cf5771",
   "metadata": {},
   "source": [
    "## Minimum no of deletion to make it pallindrome"
   ]
  },
  {
   "cell_type": "code",
   "execution_count": 51,
   "id": "9ea3b2be",
   "metadata": {},
   "outputs": [
    {
     "data": {
      "text/plain": [
       "1"
      ]
     },
     "execution_count": 51,
     "metadata": {},
     "output_type": "execute_result"
    }
   ],
   "source": [
    "def minNoOfDeletionForPallindrome(x):\n",
    "    lps = longestPallindromicSubsequence(x) \n",
    "    return len(x) - lps\n",
    "x = 'bbbab'\n",
    "minNoOfDeletionForPallindrome(x)"
   ]
  },
  {
   "cell_type": "markdown",
   "id": "31323733",
   "metadata": {},
   "source": [
    "# Minimum number of insertion to make it pallindrome"
   ]
  },
  {
   "cell_type": "code",
   "execution_count": 66,
   "id": "d7a4f160",
   "metadata": {},
   "outputs": [],
   "source": [
    "# ab: Number of insertions required is 1. bab\n",
    "# aa: Number of insertions required is 0. aa\n",
    "def minNoOfInsertion(s):\n",
    "    lps = longestPallindromicSubsequence(x)\n",
    "    return len(x) - lps\n",
    "s = \"ab\"\n"
   ]
  },
  {
   "cell_type": "markdown",
   "id": "741e5a4c",
   "metadata": {},
   "source": [
    "# Longest Repeating subsequence"
   ]
  },
  {
   "cell_type": "code",
   "execution_count": 62,
   "id": "8d3bf285",
   "metadata": {},
   "outputs": [
    {
     "data": {
      "text/plain": [
       "1"
      ]
     },
     "execution_count": 62,
     "metadata": {},
     "output_type": "execute_result"
    }
   ],
   "source": [
    "def longestRepeatingSubsequence(x):\n",
    "    y = x[::]\n",
    "    n = len(x)\n",
    "    dp = [[0 for _ in range(n+1)] for _ in range(n+1)]\n",
    "    for i in range(1,n+1):\n",
    "        for j in range(1,n+1):\n",
    "            if x[i-1] == y[j-1] and i!=j:\n",
    "                dp[i][j] = 1 + dp[i-1][j-1]\n",
    "            else:\n",
    "                dp[i][j] = max(dp[i-1][j] , dp[i][j-1])\n",
    "    return dp[n][n]\n",
    "x = \"aab\"\n",
    "longestRepeatingSubsequence(x) # =>1 =>  \"a\""
   ]
  },
  {
   "cell_type": "markdown",
   "id": "214d2b3a",
   "metadata": {},
   "source": [
    "# Sequence Pattern Matching"
   ]
  },
  {
   "cell_type": "code",
   "execution_count": 65,
   "id": "a48a4067",
   "metadata": {},
   "outputs": [],
   "source": [
    "def isSequencePattern(s,t):\n",
    "    lcs = longestCommoneSequence(s,t)\n",
    "    return len(s) == lcs\n",
    "s = \"abc\"\n",
    "t = \"ahbgdc\"\n",
    "Output =  True"
   ]
  },
  {
   "cell_type": "markdown",
   "id": "33dd966b",
   "metadata": {},
   "source": [
    "# Matix Chain Multiplication\n",
    "- mcm\n",
    "- print mcm\n",
    "- evaluate expression to true/false\n",
    "- min/ max of expression\n",
    "- pallindrome partisioning\n",
    "- scrambled string\n",
    "- egg dropping"
   ]
  },
  {
   "cell_type": "code",
   "execution_count": 67,
   "id": "e7d31676",
   "metadata": {},
   "outputs": [],
   "source": [
    "# this is like a template\n",
    "def solve(arr, i, j):\n",
    "    if i > j:\n",
    "        return 0\n",
    "    for k in range(i,j):\n",
    "        # calculate temp ans\n",
    "        temp_ans = solve(arr, i, k) + solve(arr, k,j)\n",
    "        ans = max(ans, temp_ans)\n",
    "    return ans"
   ]
  },
  {
   "cell_type": "markdown",
   "id": "f21bff86",
   "metadata": {},
   "source": [
    "### MCM\n",
    "Given the dimension of a sequence of matrices in an array arr[], where the dimension of the ith matrix is (arr[i-1] * arr[i]), the task is to find the most efficient way to multiply these matrices together such that the total number of element multiplications is minimum."
   ]
  },
  {
   "cell_type": "code",
   "execution_count": 68,
   "id": "2028d37c",
   "metadata": {},
   "outputs": [],
   "source": [
    "def mcm(arr,i,j):\n",
    "    if i >=j:\n",
    "        return 0\n",
    "    for k in range(i,j-1):\n",
    "        temp = mcm(arr,i,k) + mcm(arr,k+1,j) + arr[i-1]*arr[k]*arr[j]\n",
    "        if temp < ans:\n",
    "            ans = temp\n",
    "    return ans\n",
    "\n",
    "def mcm(arr,i,j):\n",
    "    if i >=j:\n",
    "        return 0\n",
    "    if dp[i][j] != -1:\n",
    "        return dp[i][j]\n",
    "    for k in range(i,j-1):\n",
    "        temp = mcm(arr,i,k) + mcm(arr,k+1,j) + arr[i-1]*arr[k]*arr[j]\n",
    "        if temp < ans:\n",
    "            ans = temp\n",
    "    dp[i][j] = ans\n",
    "    return ans"
   ]
  },
  {
   "cell_type": "markdown",
   "id": "87483786-fa55-4817-b3d9-53bc8247bdca",
   "metadata": {},
   "source": [
    "## Rod cutting"
   ]
  },
  {
   "cell_type": "code",
   "execution_count": null,
   "id": "3d192d96-2077-4e6a-b20a-3ec0aa740530",
   "metadata": {},
   "outputs": [],
   "source": [
    "class Solution:\n",
    "    def solve(self, cuts, i, j):\n",
    "        if i > j:\n",
    "            return 0\n",
    "        min_cost = float(\"inf\")\n",
    "\n",
    "        for k in range(i,j+1):\n",
    "            cost = (cuts[j+1] - cuts[i-1]) + self.solve(cuts, i, k-1) + self.solve(cuts, k+1, j)\n",
    "            min_cost = min(min_cost, cost)\n",
    "        return min_cost\n",
    "    def minCost(self, n: int, cuts: List[int]) -> int:\n",
    "        cuts = [0]+sorted(cuts)+[n]\n",
    "        return self.solve(cuts, 1, len(cuts)-2)\n",
    "\n",
    "\n",
    "class Solution:\n",
    "    def solve(self, cuts, i, j, dp):\n",
    "        # If there are no more cuts between i and j\n",
    "        if i > j:\n",
    "            return 0\n",
    "        \n",
    "        # If result is already computed\n",
    "        if dp[i][j] != -1:\n",
    "            return dp[i][j]\n",
    "        \n",
    "        # Initialize the minimum cost to a large value\n",
    "        min_cost = float('inf')\n",
    "        \n",
    "        # Try making each cut between i and j and calculate the cost\n",
    "        for k in range(i, j+1):\n",
    "            cost = (cuts[j+1] - cuts[i-1]) + self.solve(cuts, i, k-1, dp) + self.solve(cuts, k+1, j, dp)\n",
    "            min_cost = min(min_cost, cost)\n",
    "        \n",
    "        # Store the result and return\n",
    "        dp[i][j] = min_cost\n",
    "        return dp[i][j]\n",
    "    \n",
    "    def minCost(self, n: int, cuts: List[int]) -> int:\n",
    "        cuts = [0] + sorted(cuts) + [n]  # Add 0 and n as the boundary cuts\n",
    "        m = len(cuts)\n",
    "        \n",
    "        # Initialize a DP table with -1 (indicating not computed yet)\n",
    "        dp = [[-1 for _ in range(m)] for _ in range(m)]\n",
    "        \n",
    "        # Call the recursive function with the full range of cuts\n",
    "        return self.solve(cuts, 1, len(cuts)-2, dp)\n"
   ]
  },
  {
   "cell_type": "markdown",
   "id": "f69ff898",
   "metadata": {},
   "source": [
    "### Palindrome partition"
   ]
  },
  {
   "cell_type": "code",
   "execution_count": null,
   "id": "6b405e7d",
   "metadata": {},
   "outputs": [],
   "source": [
    "def pallindromePartion(x,i,j):\n",
    "    if i >= j or isPalindrome(x,i,j):\n",
    "        return 0\n",
    "    for k in range(i,j-1):\n",
    "        temp = pallindromePartion(x,i,k) + pallindromePartions(x,k+1,j)\n",
    "        ans = min(temp, ans)\n",
    "    return ans\n",
    "  \n",
    "s = \"nitin\"\n",
    "i = 0\n",
    "j = len(s)"
   ]
  }
 ],
 "metadata": {
  "kernelspec": {
   "display_name": "Python 3 (ipykernel)",
   "language": "python",
   "name": "python3"
  },
  "language_info": {
   "codemirror_mode": {
    "name": "ipython",
    "version": 3
   },
   "file_extension": ".py",
   "mimetype": "text/x-python",
   "name": "python",
   "nbconvert_exporter": "python",
   "pygments_lexer": "ipython3",
   "version": "3.12.4"
  }
 },
 "nbformat": 4,
 "nbformat_minor": 5
}
