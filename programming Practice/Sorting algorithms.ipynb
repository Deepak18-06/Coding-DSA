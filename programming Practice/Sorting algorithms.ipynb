{
 "cells": [
  {
   "cell_type": "markdown",
   "metadata": {},
   "source": [
    "# 1. Bubble Sort\n",
    "O(n^2) for time complexity\n",
    "first one  will give n^2 even if array ois sorted  but the second optimized method will give less than that "
   ]
  },
  {
   "cell_type": "code",
   "execution_count": 8,
   "metadata": {},
   "outputs": [
    {
     "name": "stdout",
     "output_type": "stream",
     "text": [
      "1 [1, 8, 9, 2, 6, 0, 10, 12]\n",
      "2 [1, 8, 2, 6, 0, 9, 10, 12]\n",
      "3 [1, 2, 6, 0, 8, 9, 10, 12]\n",
      "4 [1, 2, 0, 6, 8, 9, 10, 12]\n",
      "5 [1, 0, 2, 6, 8, 9, 10, 12]\n",
      "6 [0, 1, 2, 6, 8, 9, 10, 12]\n",
      "7 [0, 1, 2, 6, 8, 9, 10, 12]\n",
      "8 [0, 1, 2, 6, 8, 9, 10, 12]\n"
     ]
    },
    {
     "data": {
      "text/plain": [
       "[0, 1, 2, 6, 8, 9, 10, 12]"
      ]
     },
     "execution_count": 8,
     "metadata": {},
     "output_type": "execute_result"
    }
   ],
   "source": [
    "def BubbleSort(arr):\n",
    "    n = len(arr)\n",
    "    pas = 0\n",
    "    for i in range(n):\n",
    "        for j in range(0,n-i-1):\n",
    "            if arr[j]>arr[j+1]:\n",
    "                arr[j+1], arr[j] = arr[j],arr[j+1]\n",
    "        pas+=1\n",
    "        print(pas,arr)\n",
    "    return arr\n",
    "arr = [9,1,8,10,2,6,0,12]\n",
    "BubbleSort(arr)"
   ]
  },
  {
   "cell_type": "code",
   "execution_count": 4,
   "metadata": {},
   "outputs": [],
   "source": [
    "def BubbleSort(arr):\n",
    "    n = len(arr)\n",
    "    for i in range(n):\n",
    "        for j in range(0,n-i-1):\n",
    "            if arr[j]>arr[j+1]:\n",
    "                arr[j+1], arr[j] = arr[j],arr[j+1]\n",
    "    return arr\n",
    "# An optimized version of Bubble Sort \n",
    "def bubbleSortOP(arr): \n",
    "    n = len(arr) \n",
    "   \n",
    "    # Traverse through all array elements \n",
    "    for i in range(n): \n",
    "        swapped = False\n",
    "  \n",
    "        # Last i elements are already \n",
    "        #  in place \n",
    "        for j in range(0, n-i-1): \n",
    "   \n",
    "            # traverse the array from 0 to \n",
    "            # n-i-1. Swap if the element  \n",
    "            # found is greater than the \n",
    "            # next element \n",
    "            if arr[j] > arr[j+1] : \n",
    "                arr[j], arr[j+1] = arr[j+1], arr[j] \n",
    "                swapped = True\n",
    "  \n",
    "        # IF no two elements were swapped \n",
    "        # by inner loop, then break \n",
    "        if swapped == False: \n",
    "            break"
   ]
  },
  {
   "cell_type": "markdown",
   "metadata": {},
   "source": [
    "# 2. Selection sort"
   ]
  },
  {
   "cell_type": "code",
   "execution_count": 7,
   "metadata": {},
   "outputs": [
    {
     "name": "stdout",
     "output_type": "stream",
     "text": [
      "1 [0, 1, 8, 10, 2, 6, 9, 12]\n",
      "2 [0, 1, 8, 10, 2, 6, 9, 12]\n",
      "3 [0, 1, 2, 10, 8, 6, 9, 12]\n",
      "4 [0, 1, 2, 6, 8, 10, 9, 12]\n",
      "5 [0, 1, 2, 6, 8, 10, 9, 12]\n",
      "6 [0, 1, 2, 6, 8, 9, 10, 12]\n",
      "7 [0, 1, 2, 6, 8, 9, 10, 12]\n",
      "8 [0, 1, 2, 6, 8, 9, 10, 12]\n",
      "[0, 1, 2, 6, 8, 9, 10, 12]\n"
     ]
    }
   ],
   "source": [
    "def selectionSort(arr):\n",
    "    n = len(arr)\n",
    "    pas = 0\n",
    "    for i in range(n):\n",
    "        min_index = i\n",
    "        for j in range(i+1,n):\n",
    "            if arr[j]<arr[min_index]:\n",
    "                min_index = j\n",
    "        arr[i],arr[min_index] = arr[min_index],arr[i]\n",
    "        pas+=1\n",
    "        print(pas,arr)\n",
    "    print(arr)\n",
    "A = [9,1,8,10,2,6,0,12] \n",
    "selectionSort(A)"
   ]
  },
  {
   "cell_type": "code",
   "execution_count": 6,
   "metadata": {},
   "outputs": [
    {
     "data": {
      "text/plain": [
       "[11, 12, 22, 25, 64]"
      ]
     },
     "execution_count": 6,
     "metadata": {},
     "output_type": "execute_result"
    }
   ],
   "source": [
    "BubbleSort(A)"
   ]
  },
  {
   "cell_type": "markdown",
   "metadata": {},
   "source": [
    "# 3. Insertion Sort\n",
    "same time complexity as bubble sort and selection sort but <b> perform better in pratical scenario campare to both\n",
    "        "
   ]
  },
  {
   "cell_type": "code",
   "execution_count": 1,
   "metadata": {},
   "outputs": [
    {
     "name": "stdout",
     "output_type": "stream",
     "text": [
      "1 [1, 9, 8, 10, 2, 6, 0, 12]\n",
      "2 [1, 8, 9, 10, 2, 6, 0, 12]\n",
      "3 [1, 8, 9, 10, 2, 6, 0, 12]\n",
      "4 [1, 2, 8, 9, 10, 6, 0, 12]\n",
      "5 [1, 2, 6, 8, 9, 10, 0, 12]\n",
      "6 [0, 1, 2, 6, 8, 9, 10, 12]\n",
      "7 [0, 1, 2, 6, 8, 9, 10, 12]\n"
     ]
    },
    {
     "data": {
      "text/plain": [
       "[0, 1, 2, 6, 8, 9, 10, 12]"
      ]
     },
     "execution_count": 1,
     "metadata": {},
     "output_type": "execute_result"
    }
   ],
   "source": [
    "def insertionSort(arr):\n",
    "    pas = 0\n",
    "    for i in range(1,len(arr)):\n",
    "        value = arr[i]\n",
    "        hole = i\n",
    "        while hole > 0 and arr[hole-1]>value:\n",
    "            arr[hole] = arr[hole-1]\n",
    "            hole-=1\n",
    "        arr[hole] = value\n",
    "        pas+=1\n",
    "        print(pas,arr)\n",
    "    return arr\n",
    "arr = [9,1,8,10,2,6,0,12]\n",
    "insertionSort(arr)\n",
    "    "
   ]
  },
  {
   "cell_type": "code",
   "execution_count": null,
   "metadata": {},
   "outputs": [],
   "source": [
    "def insertion(arr):\n",
    "    for i in range(1,len(arr)):\n",
    "        value = arr[i]\n",
    "        hole  = i\n",
    "        while hole>0 and arr[hole-1]>value:\n",
    "            arr[hole] = arr[hole-1]\n",
    "            hole-=1\n",
    "        arr[hole] = value\n",
    "    print(arr)"
   ]
  },
  {
   "cell_type": "markdown",
   "metadata": {},
   "source": [
    "## 3(a). Insertion sort List"
   ]
  },
  {
   "cell_type": "code",
   "execution_count": null,
   "metadata": {},
   "outputs": [],
   "source": [
    "def insertionSortList(self, head: ListNode) -> ListNode:\n",
    "    if not head or not head.next: return head\n",
    "    temp = head.next\n",
    "    sort = head\n",
    "    while temp:\n",
    "        while sort != temp:\n",
    "            if sort.val > temp.val:\n",
    "                sort.val, temp.val = temp.val,sort.val\n",
    "            sort = sort.next\n",
    "        sort = head\n",
    "        temp = temp.next\n",
    "    return head"
   ]
  },
  {
   "cell_type": "markdown",
   "metadata": {},
   "source": [
    "# Merge Sort"
   ]
  },
  {
   "cell_type": "code",
   "execution_count": 2,
   "metadata": {},
   "outputs": [
    {
     "name": "stdout",
     "output_type": "stream",
     "text": [
      "[5, 6, 7, 11, 12, 13]\n"
     ]
    }
   ],
   "source": [
    "def mergeSort(arr):\n",
    "    if len(arr)>1:\n",
    "        mid  = len(arr)//2\n",
    "        L = arr[:mid]\n",
    "        R = arr[mid:]\n",
    "        mergeSort(L)\n",
    "        mergeSort(R)\n",
    "        i = j = k = 0\n",
    "        while i<len(L) and j<len(R):\n",
    "            if L[i]<R[j]:\n",
    "                arr[k] = L[i]\n",
    "                i+=1\n",
    "            else:\n",
    "                arr[k] = R[j]\n",
    "                j+=1\n",
    "            k+=1\n",
    "        while i<len(L):\n",
    "            arr[k] = L[i]\n",
    "            i+=1\n",
    "            k+=1\n",
    "        while j<len(R):\n",
    "            arr[k] = R[j]\n",
    "            j+=1\n",
    "            k+=1\n",
    "arr = [12,11,13,5,6,7]\n",
    "mergeSort(arr)\n",
    "print(arr)"
   ]
  },
  {
   "cell_type": "markdown",
   "metadata": {},
   "source": [
    "# QuickSort"
   ]
  },
  {
   "cell_type": "code",
   "execution_count": null,
   "metadata": {},
   "outputs": [],
   "source": [
    "def quicksort(arr):\n",
    "    "
   ]
  },
  {
   "cell_type": "code",
   "execution_count": null,
   "metadata": {},
   "outputs": [],
   "source": [
    "def mergeSort(arr):\n",
    "    n = len(arr)\n",
    "    if len(arr)>1:\n",
    "        mid = n//2\n",
    "        left = arr[:mid]\n",
    "        right = arr[mid:]\n",
    "        mergeSort(left)\n",
    "        mergeSort(right)\n",
    "        l = 0\n",
    "        r = 0\n",
    "        i = 0\n",
    "        while l<len(left) and r<len(right):\n",
    "            if left[l]<right[r]:\n",
    "                arr[i] = left[l]\n",
    "                l+=1\n",
    "                i+=1\n",
    "            else:\n",
    "                arr[i] = right[r]\n",
    "                r+=1\n",
    "                i+=1\n",
    "        if l != len(left):\n",
    "            while l<len(left):\n",
    "                arr[i] = left[l]\n",
    "                i+=1\n",
    "                l+=1\n",
    "        if r != len(right):\n",
    "            while r<len(left):\n",
    "                arr[i] = right[r]\n",
    "                i+=1\n",
    "                r+=1\n"
   ]
  },
  {
   "cell_type": "code",
   "execution_count": 3,
   "metadata": {},
   "outputs": [
    {
     "name": "stdout",
     "output_type": "stream",
     "text": [
      "9\n",
      "14\n",
      "46\n",
      "43\n",
      "27\n",
      "57\n",
      "41\n",
      "45\n",
      "21\n",
      "70\n",
      "[14, 21, 27, 41, 43, 45, 46, 57, 70]\n"
     ]
    }
   ],
   "source": [
    "def selectionSort(arr):\n",
    "    n = len(arr)\n",
    "    for i in range(n):\n",
    "        min_index = i\n",
    "        for j in range(i+1,n):\n",
    "            if arr[j]<arr[min_index]:\n",
    "                min_index = j\n",
    "        arr[i],arr[min_index] = arr[min_index],arr[i]\n",
    "    print(arr)\n",
    "n = int(input())\n",
    "arr = []\n",
    "for i in range(n):\n",
    "    arr.append(int(input()))\n",
    "selectionSort(arr)\n",
    "    \n",
    "    "
   ]
  },
  {
   "cell_type": "code",
   "execution_count": 4,
   "metadata": {},
   "outputs": [
    {
     "name": "stdout",
     "output_type": "stream",
     "text": [
      "0\n",
      "5\n",
      "10\n",
      "15\n",
      "0\n"
     ]
    }
   ],
   "source": [
    "i = 0\n",
    "while i<17:\n",
    "    print(i)\n",
    "    i+=5\n",
    "else:\n",
    "    print(0)"
   ]
  },
  {
   "cell_type": "code",
   "execution_count": null,
   "metadata": {},
   "outputs": [],
   "source": [
    "def solve(mat):\n",
    "    m = len(mat)\n",
    "    n = len(mat[0])\n",
    "    for i in range(m):\n",
    "        for j in range(n):\n",
    "            "
   ]
  },
  {
   "cell_type": "code",
   "execution_count": 5,
   "metadata": {},
   "outputs": [
    {
     "name": "stdout",
     "output_type": "stream",
     "text": [
      "3\n"
     ]
    }
   ],
   "source": [
    "count = 1\n",
    "if count != 0:\n",
    "    count+=1\n",
    "if count != 1:\n",
    "    count+=1\n",
    "print(count)\n",
    "count = 0"
   ]
  },
  {
   "cell_type": "code",
   "execution_count": null,
   "metadata": {},
   "outputs": [],
   "source": [
    "m=int(input())\n",
    "n=int(input())\n",
    "arr=[]\n",
    "k=[]\n",
    "for i in range(m):\n",
    "    for j in range(n):\n",
    "        k.append(int(input()))\n",
    "    arr.append(k)\n",
    "    k=[]\n",
    "h=0\n",
    "for i in range(m):\n",
    "    p= arr[i].count(1)\n",
    "    if p>2:\n",
    "        h+=p\n",
    "    elif p==2:\n",
    "        h+=1\n",
    "    p=0\n",
    "\n",
    "rez = [[arr[j][i] for j in range(len(arr))] for i in range(len(arr[0]))]\n",
    "k=0\n",
    "for i in range(n):\n",
    "    p= rez[i].count(1)\n",
    "    if p>2:\n",
    "        h+=p\n",
    "    elif p==2:\n",
    "        h+=1\n",
    "    p=0\n",
    "\n",
    "print(h+k)   "
   ]
  }
 ],
 "metadata": {
  "kernelspec": {
   "display_name": "Python 3",
   "language": "python",
   "name": "python3"
  },
  "language_info": {
   "codemirror_mode": {
    "name": "ipython",
    "version": 3
   },
   "file_extension": ".py",
   "mimetype": "text/x-python",
   "name": "python",
   "nbconvert_exporter": "python",
   "pygments_lexer": "ipython3",
   "version": "3.8.3"
  }
 },
 "nbformat": 4,
 "nbformat_minor": 4
}
