{
 "cells": [
  {
   "cell_type": "code",
   "execution_count": 14,
   "id": "cc2d9caa",
   "metadata": {},
   "outputs": [
    {
     "data": {
      "text/plain": [
       "'no'"
      ]
     },
     "execution_count": 14,
     "metadata": {},
     "output_type": "execute_result"
    }
   ],
   "source": [
    "def spiralSorted(arr):\n",
    "    n = len(arr)\n",
    "    start = 0\n",
    "    end = n-1\n",
    "    while start<end:\n",
    "        if arr[start]>arr[end]:\n",
    "            return \"no\"\n",
    "        start+=1\n",
    "        if arr[end]>arr[start]:\n",
    "            return \"no\"\n",
    "        end-=1\n",
    "    return \"yes\"\n",
    "arr = [1,3,5,-1,6,4,2]\n",
    "spiralSorted(arr)"
   ]
  },
  {
   "cell_type": "code",
   "execution_count": 23,
   "id": "e55d4696",
   "metadata": {},
   "outputs": [
    {
     "data": {
      "text/plain": [
       "'a'"
      ]
     },
     "execution_count": 23,
     "metadata": {},
     "output_type": "execute_result"
    }
   ],
   "source": [
    "def solve(A, B):\n",
    "    A+='-'\n",
    "    result = ''\n",
    "    count = 1\n",
    "    for i in range(1,len(A)):\n",
    "        if A[i-1] == A[i]:\n",
    "            count+=1\n",
    "        else:\n",
    "            result+=A[i-1]*(count%B)\n",
    "            count = 1\n",
    "\n",
    "    return result   \n",
    "s = 'bbbccca'\n",
    "b = 3\n",
    "solve(s,b)"
   ]
  },
  {
   "cell_type": "code",
   "execution_count": 24,
   "id": "a15ec14c",
   "metadata": {},
   "outputs": [
    {
     "name": "stdout",
     "output_type": "stream",
     "text": [
      "4\n",
      "1.2.3.1 1.2.3.2 1.2.3.4 1.2.3.5\n",
      "2\n",
      "1.2.3.1 1.2.3.4\n",
      "2\n",
      "1.2.3.1 1.2.3.4\n",
      "www.awesome.api\n",
      "2\n",
      "1.2.3.2 1.2.3.5\n"
     ]
    },
    {
     "ename": "ValueError",
     "evalue": "invalid literal for int() with base 10: '1.2.3.2 1.2.3.5'",
     "output_type": "error",
     "traceback": [
      "\u001b[0;31m---------------------------------------------------------------------------\u001b[0m",
      "\u001b[0;31mValueError\u001b[0m                                Traceback (most recent call last)",
      "\u001b[0;32m<ipython-input-24-94e555f81ea5>\u001b[0m in \u001b[0;36m<module>\u001b[0;34m\u001b[0m\n\u001b[1;32m     57\u001b[0m         \u001b[0mmp\u001b[0m\u001b[0;34m[\u001b[0m\u001b[0murl_s\u001b[0m\u001b[0;34m]\u001b[0m \u001b[0;34m=\u001b[0m \u001b[0mq\u001b[0m\u001b[0;34m\u001b[0m\u001b[0;34m\u001b[0m\u001b[0m\n\u001b[1;32m     58\u001b[0m     \u001b[0mprint\u001b[0m\u001b[0;34m(\u001b[0m\u001b[0mmp\u001b[0m\u001b[0;34m)\u001b[0m\u001b[0;34m\u001b[0m\u001b[0;34m\u001b[0m\u001b[0m\n\u001b[0;32m---> 59\u001b[0;31m \u001b[0msolve\u001b[0m\u001b[0;34m(\u001b[0m\u001b[0;34m)\u001b[0m\u001b[0;34m\u001b[0m\u001b[0;34m\u001b[0m\u001b[0m\n\u001b[0m\u001b[1;32m     60\u001b[0m \u001b[0;31m#     queries = int(input())\u001b[0m\u001b[0;34m\u001b[0m\u001b[0;34m\u001b[0m\u001b[0;34m\u001b[0m\u001b[0m\n\u001b[1;32m     61\u001b[0m \u001b[0;31m#     for i in range(queries):\u001b[0m\u001b[0;34m\u001b[0m\u001b[0;34m\u001b[0m\u001b[0;34m\u001b[0m\u001b[0m\n",
      "\u001b[0;32m<ipython-input-24-94e555f81ea5>\u001b[0m in \u001b[0;36msolve\u001b[0;34m()\u001b[0m\n\u001b[1;32m     50\u001b[0m     \u001b[0;32mfor\u001b[0m \u001b[0mi\u001b[0m \u001b[0;32min\u001b[0m \u001b[0mrange\u001b[0m\u001b[0;34m(\u001b[0m\u001b[0murlcnt\u001b[0m\u001b[0;34m)\u001b[0m\u001b[0;34m:\u001b[0m\u001b[0;34m\u001b[0m\u001b[0;34m\u001b[0m\u001b[0m\n\u001b[1;32m     51\u001b[0m         \u001b[0murl_s\u001b[0m \u001b[0;34m=\u001b[0m \u001b[0minput\u001b[0m\u001b[0;34m(\u001b[0m\u001b[0;34m)\u001b[0m\u001b[0;34m\u001b[0m\u001b[0;34m\u001b[0m\u001b[0m\n\u001b[0;32m---> 52\u001b[0;31m         \u001b[0mcount\u001b[0m \u001b[0;34m=\u001b[0m \u001b[0mint\u001b[0m\u001b[0;34m(\u001b[0m\u001b[0minput\u001b[0m\u001b[0;34m(\u001b[0m\u001b[0;34m)\u001b[0m\u001b[0;34m)\u001b[0m\u001b[0;34m\u001b[0m\u001b[0;34m\u001b[0m\u001b[0m\n\u001b[0m\u001b[1;32m     53\u001b[0m         \u001b[0mq\u001b[0m \u001b[0;34m=\u001b[0m \u001b[0;34m[\u001b[0m\u001b[0;34m]\u001b[0m\u001b[0;34m\u001b[0m\u001b[0;34m\u001b[0m\u001b[0m\n\u001b[1;32m     54\u001b[0m         \u001b[0;32mfor\u001b[0m \u001b[0mj\u001b[0m \u001b[0;32min\u001b[0m \u001b[0mrange\u001b[0m\u001b[0;34m(\u001b[0m\u001b[0mcount\u001b[0m\u001b[0;34m)\u001b[0m\u001b[0;34m:\u001b[0m\u001b[0;34m\u001b[0m\u001b[0;34m\u001b[0m\u001b[0m\n",
      "\u001b[0;31mValueError\u001b[0m: invalid literal for int() with base 10: '1.2.3.2 1.2.3.5'"
     ]
    }
   ],
   "source": [
    "from collections import defaultdict\n",
    "def read(s):\n",
    "    i = 0\n",
    "    domain = \"\"\n",
    "    while s[i] != \"/\":\n",
    "        domain+=s[i]\n",
    "        i+=1\n",
    "    return domain\n",
    "def read_up(s):\n",
    "    i = 0\n",
    "    ip = \"\"\n",
    "    up = \"\"\n",
    "    while s[i] != \"/\":\n",
    "        i+=1\n",
    "    i+=1\n",
    "    while i<len(s) and s[i] != \"/\" and s[i] != \"?\":\n",
    "        up+=s[i]\n",
    "        i+=1\n",
    "    i+=1\n",
    "    if up == \"machine_up\":\n",
    "        i+=3\n",
    "        while i<len(s):\n",
    "            ip+=s[i]\n",
    "            i+=1\n",
    "    return ip\n",
    "\n",
    "def read_down(s):\n",
    "    i = 0\n",
    "    ip = \"\"\n",
    "    down = \"\"\n",
    "    while s[i] != \"/\":\n",
    "        i+=1\n",
    "    i+=1\n",
    "    while i<len(s) and s[i] != \"/\" and s[i] != \"?\":\n",
    "        down+=s[i]\n",
    "        i+=1\n",
    "    i+=1\n",
    "    if down == \"machine_down\":\n",
    "        i+=3\n",
    "        while i<len(s):\n",
    "            ip+=s[i]\n",
    "            i+=1\n",
    "    return ip\n",
    "def solve():\n",
    "    mp = defaultdict(list)\n",
    "    mp1 = defaultdict(list)\n",
    "    n = int(input())\n",
    "    ips = input().split()\n",
    "    urlcnt = int(input())\n",
    "    for i in range(urlcnt):\n",
    "        url_s = input()\n",
    "        count = int(input())\n",
    "        q = input().split()\n",
    "        mp[url_s] = q\n",
    "    queries = int(input())\n",
    "    for i in range(queries):\n",
    "        s = input()\n",
    "        domain = read(s)\n",
    "        up = read_up(s)\n",
    "        down = read_down(s)\n",
    "        if up == \"\" and down == \"\":\n",
    "            q = mp[domain]\n",
    "            machine = q[0]\n",
    "            q.pop(0)\n",
    "            mp1[machine].append(s)\n",
    "            q.append(machine)\n",
    "            mp[domain] = q\n",
    "        elif up != \"\":\n",
    "            q = mp[domain]\n",
    "            q.append(up)\n",
    "            temp = q[0]\n",
    "            q.pop(0)\n",
    "            q.append(temp)\n",
    "            mp[domain] = q\n",
    "        elif down != \"\":\n",
    "            modified = []\n",
    "            q = mp[domain]\n",
    "            while q and q[0] != down:\n",
    "                modified.append(q[0])\n",
    "                q.pop(0)\n",
    "            q.pop(0)\n",
    "            while q:\n",
    "                modified.append(q[0])\n",
    "                q.pop()\n",
    "            mp[domain] = modified\n",
    "    for key,val in mp1.items():\n",
    "        print(key)\n",
    "        for i in val:\n",
    "            print(i)"
   ]
  },
  {
   "cell_type": "code",
   "execution_count": 30,
   "id": "104c24ef",
   "metadata": {},
   "outputs": [
    {
     "name": "stdout",
     "output_type": "stream",
     "text": [
      "4\n",
      "1.2.3.1 1.2.3.2 1.2.3.4 1.2.3.5\n",
      "2\n",
      "www1.awesome.api\n",
      "2\n",
      "1.2.3.1 1.2.3.4\n",
      "www2.awesome.api\n",
      "1.2.3.2 1.2.3.5\n"
     ]
    },
    {
     "ename": "ValueError",
     "evalue": "invalid literal for int() with base 10: '1.2.3.2 1.2.3.5'",
     "output_type": "error",
     "traceback": [
      "\u001b[0;31m---------------------------------------------------------------------------\u001b[0m",
      "\u001b[0;31mValueError\u001b[0m                                Traceback (most recent call last)",
      "\u001b[0;32m<ipython-input-30-a0e4f33e1dee>\u001b[0m in \u001b[0;36m<module>\u001b[0;34m\u001b[0m\n\u001b[1;32m      6\u001b[0m \u001b[0;32mfor\u001b[0m \u001b[0mi\u001b[0m \u001b[0;32min\u001b[0m \u001b[0mrange\u001b[0m\u001b[0;34m(\u001b[0m\u001b[0murlcnt\u001b[0m\u001b[0;34m)\u001b[0m\u001b[0;34m:\u001b[0m\u001b[0;34m\u001b[0m\u001b[0;34m\u001b[0m\u001b[0m\n\u001b[1;32m      7\u001b[0m     \u001b[0murl_s\u001b[0m \u001b[0;34m=\u001b[0m \u001b[0minput\u001b[0m\u001b[0;34m(\u001b[0m\u001b[0;34m)\u001b[0m\u001b[0;34m\u001b[0m\u001b[0;34m\u001b[0m\u001b[0m\n\u001b[0;32m----> 8\u001b[0;31m     \u001b[0mcount\u001b[0m \u001b[0;34m=\u001b[0m \u001b[0mint\u001b[0m\u001b[0;34m(\u001b[0m\u001b[0minput\u001b[0m\u001b[0;34m(\u001b[0m\u001b[0;34m)\u001b[0m\u001b[0;34m)\u001b[0m\u001b[0;34m\u001b[0m\u001b[0;34m\u001b[0m\u001b[0m\n\u001b[0m\u001b[1;32m      9\u001b[0m     \u001b[0mq\u001b[0m \u001b[0;34m=\u001b[0m \u001b[0minput\u001b[0m\u001b[0;34m(\u001b[0m\u001b[0;34m)\u001b[0m\u001b[0;34m.\u001b[0m\u001b[0msplit\u001b[0m\u001b[0;34m(\u001b[0m\u001b[0;34m)\u001b[0m\u001b[0;34m\u001b[0m\u001b[0;34m\u001b[0m\u001b[0m\n\u001b[1;32m     10\u001b[0m     \u001b[0mmp\u001b[0m\u001b[0;34m[\u001b[0m\u001b[0murl_s\u001b[0m\u001b[0;34m]\u001b[0m \u001b[0;34m=\u001b[0m \u001b[0mq\u001b[0m\u001b[0;34m\u001b[0m\u001b[0;34m\u001b[0m\u001b[0m\n",
      "\u001b[0;31mValueError\u001b[0m: invalid literal for int() with base 10: '1.2.3.2 1.2.3.5'"
     ]
    }
   ],
   "source": [
    "\n"
   ]
  },
  {
   "cell_type": "code",
   "execution_count": 31,
   "id": "1dd47890",
   "metadata": {},
   "outputs": [
    {
     "name": "stdout",
     "output_type": "stream",
     "text": [
      "2\n",
      "www1.awesome.api\n",
      "2\n",
      "1.2.3.1 1.2.3.4\n",
      "www2.awesome.api\n",
      "2\n",
      "1.2.3.2 1.2.3.5\n"
     ]
    }
   ],
   "source": []
  },
  {
   "cell_type": "code",
   "execution_count": 32,
   "id": "dca6e47d",
   "metadata": {},
   "outputs": [
    {
     "name": "stdout",
     "output_type": "stream",
     "text": [
      "defaultdict(<class 'list'>, {'www1.awesome.api': ['1.2.3.1', '1.2.3.4'], 'www2.awesome.api': ['1.2.3.2', '1.2.3.5']})\n"
     ]
    }
   ],
   "source": [
    "print(mp)"
   ]
  },
  {
   "cell_type": "code",
   "execution_count": 35,
   "id": "25392847",
   "metadata": {},
   "outputs": [
    {
     "name": "stdout",
     "output_type": "stream",
     "text": [
      "5\n",
      "www1.awesome.api/get/users\n",
      "www1.awesome.api/machine_down?ip=1.2.3.1\n",
      "www1.awesome.api/machine_up?ip=1.2.3.1\n",
      "www1.awesome.api/get/all\n",
      "www2.awesome.api/get/all\n"
     ]
    }
   ],
   "source": []
  },
  {
   "cell_type": "code",
   "execution_count": 39,
   "id": "2f94f69e",
   "metadata": {},
   "outputs": [
    {
     "name": "stdout",
     "output_type": "stream",
     "text": [
      "1.2.3.1\n",
      "www1.awesome.api/user\n",
      "www1.awesome.api/get/all\n",
      "1.2.3.4\n",
      "www1.awesome.api/get/users\n",
      "1.2.3.2\n",
      "www2.awesome.api/get/all\n"
     ]
    }
   ],
   "source": []
  },
  {
   "cell_type": "code",
   "execution_count": 43,
   "id": "6b3c0179",
   "metadata": {},
   "outputs": [
    {
     "name": "stdout",
     "output_type": "stream",
     "text": [
      "28\n"
     ]
    }
   ],
   "source": [
    "def solve(s):\n",
    "    result = 0\n",
    "    alpha = {chr(65+i):i+1 for i in range(26)}\n",
    "    for i in range(len(s)):\n",
    "        curr_char = alpha[s[len(s)-1-i]]\n",
    "        result = result+curr_char*(26**i)\n",
    "    print(result)\n",
    "solve(\"AB\")"
   ]
  },
  {
   "cell_type": "code",
   "execution_count": null,
   "id": "22bdcb90",
   "metadata": {},
   "outputs": [],
   "source": [
    "def solve(s):\n",
    "    result = ''\n",
    "    alpha = {i+1:chr(65+i) for i in range(26)}\n",
    "    while s:\n",
    "        power = \n",
    "    print(result)"
   ]
  },
  {
   "cell_type": "code",
   "execution_count": 44,
   "id": "7b56e824",
   "metadata": {},
   "outputs": [
    {
     "data": {
      "text/plain": [
       "0"
      ]
     },
     "execution_count": 44,
     "metadata": {},
     "output_type": "execute_result"
    }
   ],
   "source": [
    "2&1"
   ]
  },
  {
   "cell_type": "code",
   "execution_count": 45,
   "id": "3cab5ebc",
   "metadata": {},
   "outputs": [],
   "source": [
    "a = '2'"
   ]
  },
  {
   "cell_type": "code",
   "execution_count": null,
   "id": "672f42c0",
   "metadata": {},
   "outputs": [],
   "source": [
    "int(a)&int()"
   ]
  }
 ],
 "metadata": {
  "kernelspec": {
   "display_name": "Python 3",
   "language": "python",
   "name": "python3"
  },
  "language_info": {
   "codemirror_mode": {
    "name": "ipython",
    "version": 3
   },
   "file_extension": ".py",
   "mimetype": "text/x-python",
   "name": "python",
   "nbconvert_exporter": "python",
   "pygments_lexer": "ipython3",
   "version": "3.8.8"
  }
 },
 "nbformat": 4,
 "nbformat_minor": 5
}
