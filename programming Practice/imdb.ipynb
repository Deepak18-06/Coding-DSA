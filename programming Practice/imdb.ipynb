{
 "cells": [
  {
   "cell_type": "code",
   "execution_count": 25,
   "id": "bef027ad",
   "metadata": {},
   "outputs": [],
   "source": [
    "# imports \n",
    "\n",
    "import pandas as pd\n",
    "import requests\n",
    "from bs4 import BeautifulSoup"
   ]
  },
  {
   "cell_type": "code",
   "execution_count": 61,
   "id": "4f23f4c4",
   "metadata": {},
   "outputs": [],
   "source": [
    "#importing required Libraries\n",
    "import pandas as pd   #to create dataframe\n",
    "import requests       #to send the request to the URL\n",
    "from bs4 import BeautifulSoup #to get the content in the form of HTML\n",
    "import numpy as np  # to count the values (in our case)\n",
    "from collections import defaultdict\n",
    "\n",
    "def get_url(start):\n",
    "    url = 'https://www.imdb.com/search/title/?groups=top_1000&sort=user_rating,desc&count=100&start='+str(start)+'&ref_=adv_nxt'\n",
    "    return url\n",
    "#creating an empty list, so that we can append the values\n",
    "movie_name = []\n",
    "year = []\n",
    "time = []\n",
    "rating = []\n",
    "metascore = []\n",
    "votes = []\n",
    "gross = []\n",
    "#Note: These three list are added recently,\n",
    "description = []\n",
    "Director = []\n",
    "Stars = []\n",
    "\n",
    "Actor_movies = defaultdict(list)\n",
    "\n",
    "#assigning the URL with variable name url\n",
    "url = 'https://www.imdb.com/search/title/?groups=top_1000&sort=user_rating,desc&count=100&ref_=adv_prv'\n",
    "start = 1\n",
    "while True:\n",
    "    response = requests.get(url)\n",
    "    soup = BeautifulSoup(response.content, 'html.parser')\n",
    "    \n",
    "    #storing the meaningfull required data in the variable\n",
    "    movie_data = soup.findAll('div', attrs= {'class': 'lister-item mode-advanced'})\n",
    "    if movie_data == []:\n",
    "        break\n",
    "    populate_movie_data(movie_data)\n",
    "    start = start+100\n",
    "    url = get_url(start)\n",
    "#calling one by one using for loop\n",
    "def populate_movie_data(movie_data):\n",
    "    for store in movie_data:\n",
    "        name = store.h3.a.text\n",
    "        movie_name.append(name)\n",
    "\n",
    "        year_of_release = store.h3.find('span', class_ = 'lister-item-year text-muted unbold').text.replace('(', '').replace(')', '')\n",
    "        year.append(year_of_release)\n",
    "\n",
    "        runtime = store.p.find('span', class_ = 'runtime').text.replace(' min', '')\n",
    "        time.append(runtime)\n",
    "\n",
    "        rate = store.find('div', class_ = 'inline-block ratings-imdb-rating').text.replace('\\n', '')\n",
    "        rating.append(rate)\n",
    "\n",
    "        meta  = store.find('span', class_ = 'metascore').text.replace(' ', '') if store.find('span', class_ = 'metascore') else '^^^^^^'\n",
    "        metascore.append(meta)\n",
    "        #since, gross and votes have same attributes, that's why we had created a common variable and then used indexing\n",
    "        value = store.find_all('span', attrs = {'name': 'nv'})\n",
    "\n",
    "        vote = value[0].text\n",
    "        votes.append(vote)\n",
    "\n",
    "        grosses = value[1].text if len(value) >1 else '*****'\n",
    "        gross.append(grosses)\n",
    "\n",
    "        # Description of the Movies -- Not explained in the Video, But you will figure it out. \n",
    "        describe = store.find_all('p', class_ = 'text-muted')\n",
    "        description_ = describe[1].text.replace('\\n', '') if len(describe) >1 else '*****'\n",
    "        description.append(description_)\n",
    "\n",
    "        #Cast Details -- Scraping Director name and Stars -- Not explained in Video\n",
    "        cast = store.find(\"p\", class_ = '')\n",
    "        cast = cast.text.replace('\\n', '').split('|')\n",
    "        cast = [x.strip() for x in cast]\n",
    "        cast = [cast[i].replace(j, \"\") for i,j in enumerate([\"Director:\", \"Stars:\"])]\n",
    "        Director.append(cast[0])\n",
    "        Stars.append([x.strip() for x in cast[1].split(\",\")])\n",
    "        for s in Stars[-1]:\n",
    "            Actor_movies[s.strip()].append(name)\n",
    "populate_movie_data(movie_data)    \n",
    "#creating a dataframe using pandas library\n",
    "movie_DF = pd.DataFrame({'Name of movie': movie_name, 'Year of relase': year, 'Watchtime': time, 'Movie Rating': rating, 'Metascore': metascore, 'Votes': votes, 'Gross collection': gross, 'Description': description, \"Director\": Director, 'Star': Stars})"
   ]
  },
  {
   "cell_type": "code",
   "execution_count": null,
   "id": "3f4cdfd5",
   "metadata": {},
   "outputs": [],
   "source": [
    "movie_DF.head(7)"
   ]
  },
  {
   "cell_type": "code",
   "execution_count": 57,
   "id": "c7eaacd0",
   "metadata": {},
   "outputs": [
    {
     "data": {
      "text/plain": [
       "1000"
      ]
     },
     "execution_count": 57,
     "metadata": {},
     "output_type": "execute_result"
    }
   ],
   "source": [
    "len(movie_name)"
   ]
  },
  {
   "cell_type": "code",
   "execution_count": 64,
   "id": "a163fc4d",
   "metadata": {},
   "outputs": [
    {
     "data": {
      "text/plain": [
       "['The Shawshank Redemption', 'Se7en', 'Unforgiven']"
      ]
     },
     "execution_count": 64,
     "metadata": {},
     "output_type": "execute_result"
    }
   ],
   "source": [
    "Actor_movies['Morgan Freeman'][:3]"
   ]
  },
  {
   "cell_type": "code",
   "execution_count": 67,
   "id": "f991eb7b",
   "metadata": {},
   "outputs": [],
   "source": [
    "from bs4 import BeautifulSoup\n",
    "import requests\n",
    "url = 'https://www.imdb.com/search/title/?groups=top_1000&sort=user_rating,desc&count=100&ref_=adv_prv'\n",
    "response = requests.get(url)\n"
   ]
  },
  {
   "cell_type": "code",
   "execution_count": 91,
   "id": "7201b18d",
   "metadata": {},
   "outputs": [],
   "source": [
    "soup = BeautifulSoup(response.text,'html.parser')"
   ]
  },
  {
   "cell_type": "code",
   "execution_count": 92,
   "id": "cb3060c8",
   "metadata": {},
   "outputs": [],
   "source": [
    "a = soup.find_all('p',class_='imdb-footer__copyright')"
   ]
  },
  {
   "cell_type": "code",
   "execution_count": 96,
   "id": "7899224c",
   "metadata": {},
   "outputs": [
    {
     "data": {
      "text/plain": [
       "'© 1990-2021 by IMDb.com, Inc.'"
      ]
     },
     "execution_count": 96,
     "metadata": {},
     "output_type": "execute_result"
    }
   ],
   "source": [
    "a[0].text"
   ]
  },
  {
   "cell_type": "code",
   "execution_count": 99,
   "id": "77769273",
   "metadata": {},
   "outputs": [
    {
     "name": "stdout",
     "output_type": "stream",
     "text": [
      "10\n",
      "13\n"
     ]
    }
   ],
   "source": []
  },
  {
   "cell_type": "code",
   "execution_count": 104,
   "id": "de0072bb",
   "metadata": {},
   "outputs": [
    {
     "ename": "TypeError",
     "evalue": "'module' object is not callable",
     "output_type": "error",
     "traceback": [
      "\u001b[0;31m---------------------------------------------------------------------------\u001b[0m",
      "\u001b[0;31mTypeError\u001b[0m                                 Traceback (most recent call last)",
      "\u001b[0;32m<ipython-input-104-4f697ec744f8>\u001b[0m in \u001b[0;36m<module>\u001b[0;34m\u001b[0m\n\u001b[1;32m      1\u001b[0m \u001b[0;32mimport\u001b[0m \u001b[0mtime\u001b[0m\u001b[0;34m\u001b[0m\u001b[0;34m\u001b[0m\u001b[0m\n\u001b[0;32m----> 2\u001b[0;31m \u001b[0mprint\u001b[0m\u001b[0;34m(\u001b[0m\u001b[0mtime\u001b[0m\u001b[0;34m(\u001b[0m\u001b[0mtime\u001b[0m\u001b[0;34m.\u001b[0m\u001b[0mctime\u001b[0m\u001b[0;34m(\u001b[0m\u001b[0;34m)\u001b[0m\u001b[0;34m)\u001b[0m\u001b[0;34m)\u001b[0m\u001b[0;34m\u001b[0m\u001b[0;34m\u001b[0m\u001b[0m\n\u001b[0m",
      "\u001b[0;31mTypeError\u001b[0m: 'module' object is not callable"
     ]
    }
   ],
   "source": []
  },
  {
   "cell_type": "code",
   "execution_count": 111,
   "id": "3d1a6aa9",
   "metadata": {},
   "outputs": [],
   "source": [
    "from threading import Thread, Event"
   ]
  },
  {
   "cell_type": "code",
   "execution_count": 114,
   "id": "5b97cf46",
   "metadata": {},
   "outputs": [],
   "source": [
    "thread = Thread()\n",
    "event = Event()\n"
   ]
  },
  {
   "cell_type": "code",
   "execution_count": 116,
   "id": "80916e48",
   "metadata": {},
   "outputs": [
    {
     "name": "stderr",
     "output_type": "stream",
     "text": [
      "<ipython-input-116-dca5c6a6f7c3>:1: DeprecationWarning: isAlive() is deprecated, use is_alive() instead\n",
      "  thread.isAlive()\n"
     ]
    },
    {
     "data": {
      "text/plain": [
       "False"
      ]
     },
     "execution_count": 116,
     "metadata": {},
     "output_type": "execute_result"
    }
   ],
   "source": [
    "clear\n"
   ]
  },
  {
   "cell_type": "code",
   "execution_count": 117,
   "id": "d4574f72",
   "metadata": {},
   "outputs": [],
   "source": [
    "import subprocess"
   ]
  },
  {
   "cell_type": "code",
   "execution_count": 121,
   "id": "46a9b0c4",
   "metadata": {},
   "outputs": [
    {
     "data": {
      "text/plain": [
       "CompletedProcess(args=['echo', 'Hello'], returncode=0)"
      ]
     },
     "execution_count": 121,
     "metadata": {},
     "output_type": "execute_result"
    }
   ],
   "source": [
    "subprocess.run([\"echo\",\"Hello\"])"
   ]
  },
  {
   "cell_type": "code",
   "execution_count": 122,
   "id": "6170cc84",
   "metadata": {},
   "outputs": [
    {
     "data": {
      "text/plain": [
       "CompletedProcess(args=\"echo 'Hello world'\", returncode=0)"
      ]
     },
     "execution_count": 122,
     "metadata": {},
     "output_type": "execute_result"
    }
   ],
   "source": [
    "subprocess.run(\"echo 'Hello world'\",shell=True)"
   ]
  },
  {
   "cell_type": "code",
   "execution_count": 124,
   "id": "d1233779",
   "metadata": {},
   "outputs": [],
   "source": [
    "output = subprocess.run(\"echo 'Hello world'\",shell=True,stdout = subprocess.PIPE,universal_newlines=True)"
   ]
  },
  {
   "cell_type": "code",
   "execution_count": 127,
   "id": "50a7b68c",
   "metadata": {},
   "outputs": [
    {
     "data": {
      "text/plain": [
       "CompletedProcess(args=\"echo 'Hello world'\", returncode=0, stdout='Hello world\\n')"
      ]
     },
     "execution_count": 127,
     "metadata": {},
     "output_type": "execute_result"
    }
   ],
   "source": [
    "output"
   ]
  },
  {
   "cell_type": "code",
   "execution_count": 128,
   "id": "aa96274c",
   "metadata": {},
   "outputs": [
    {
     "data": {
      "text/plain": [
       "'Hello world\\n'"
      ]
     },
     "execution_count": 128,
     "metadata": {},
     "output_type": "execute_result"
    }
   ],
   "source": [
    "output.stdout"
   ]
  },
  {
   "cell_type": "code",
   "execution_count": 134,
   "id": "df678897",
   "metadata": {},
   "outputs": [],
   "source": [
    "output = subprocess.run(\"echo 'Hello world\",shell=True,stdout = subprocess.PIPE,stderr = subprocess.PIPE,universal_newlines=True)"
   ]
  },
  {
   "cell_type": "code",
   "execution_count": 135,
   "id": "1692c36f",
   "metadata": {},
   "outputs": [
    {
     "name": "stdout",
     "output_type": "stream",
     "text": [
      "CompletedProcess(args=\"echo 'Hello world\", returncode=2, stdout='', stderr=\"/bin/sh: -c: line 0: unexpected EOF while looking for matching `''\\n/bin/sh: -c: line 1: syntax error: unexpected end of file\\n\")\n"
     ]
    }
   ],
   "source": [
    "print(output)"
   ]
  },
  {
   "cell_type": "code",
   "execution_count": 136,
   "id": "4280b4c2",
   "metadata": {},
   "outputs": [
    {
     "name": "stdout",
     "output_type": "stream",
     "text": [
      "/bin/sh: -c: line 0: unexpected EOF while looking for matching `''\n",
      "/bin/sh: -c: line 1: syntax error: unexpected end of file\n",
      "\n"
     ]
    }
   ],
   "source": [
    "print(output.stderr)"
   ]
  },
  {
   "cell_type": "code",
   "execution_count": 137,
   "id": "a0688172",
   "metadata": {},
   "outputs": [],
   "source": [
    "from subprocess import Popen"
   ]
  },
  {
   "cell_type": "code",
   "execution_count": 149,
   "id": "2fe4a890",
   "metadata": {},
   "outputs": [
    {
     "data": {
      "text/plain": [
       "0"
      ]
     },
     "execution_count": 149,
     "metadata": {},
     "output_type": "execute_result"
    }
   ],
   "source": [
    "p = Popen([\"sleep\",\"4\"],stdout=PIPE)\n",
    "p.wait()"
   ]
  },
  {
   "cell_type": "code",
   "execution_count": 150,
   "id": "dcdadd0f",
   "metadata": {},
   "outputs": [
    {
     "name": "stdout",
     "output_type": "stream",
     "text": [
      "<subprocess.Popen object at 0x7fa76a26cb20>\n"
     ]
    }
   ],
   "source": [
    "print(p)"
   ]
  },
  {
   "cell_type": "code",
   "execution_count": 140,
   "id": "7441c5de",
   "metadata": {},
   "outputs": [
    {
     "data": {
      "text/plain": [
       "CompletedProcess(args=\"sleep '5'\", returncode=0)"
      ]
     },
     "execution_count": 140,
     "metadata": {},
     "output_type": "execute_result"
    }
   ],
   "source": [
    "subprocess.run(\"sleep '5'\",shell=True)"
   ]
  },
  {
   "cell_type": "code",
   "execution_count": 143,
   "id": "ce674287",
   "metadata": {},
   "outputs": [],
   "source": [
    "from subprocess import Popen,PIPE"
   ]
  },
  {
   "cell_type": "code",
   "execution_count": 144,
   "id": "b4d5b56b",
   "metadata": {},
   "outputs": [],
   "source": [
    "p1 = Popen([\"ls\",\"-1\"],stdout=PIPE)"
   ]
  },
  {
   "cell_type": "code",
   "execution_count": 145,
   "id": "6d82f105",
   "metadata": {},
   "outputs": [
    {
     "name": "stdout",
     "output_type": "stream",
     "text": [
      "<subprocess.Popen object at 0x7fa76a273d90>\n"
     ]
    }
   ],
   "source": [
    "print(p1)"
   ]
  },
  {
   "cell_type": "code",
   "execution_count": 152,
   "id": "4ca5c044",
   "metadata": {},
   "outputs": [
    {
     "name": "stdout",
     "output_type": "stream",
     "text": [
      "['PING python.org (138.197.63.241): 56 data bytes\\n', '64 bytes from 138.197.63.241: icmp_seq=0 ttl=44 time=275.209 ms\\n', '64 bytes from 138.197.63.241: icmp_seq=1 ttl=44 time=307.735 ms\\n', '64 bytes from 138.197.63.241: icmp_seq=2 ttl=44 time=309.355 ms\\n', '64 bytes from 138.197.63.241: icmp_seq=3 ttl=44 time=402.101 ms\\n', '64 bytes from 138.197.63.241: icmp_seq=4 ttl=44 time=526.274 ms\\n', '64 bytes from 138.197.63.241: icmp_seq=5 ttl=44 time=320.790 ms\\n', '64 bytes from 138.197.63.241: icmp_seq=6 ttl=44 time=307.538 ms\\n', 'Request timeout for icmp_seq 7\\n', '64 bytes from 138.197.63.241: icmp_seq=8 ttl=44 time=927.742 ms\\n', 'Request timeout for icmp_seq 9\\n', '64 bytes from 138.197.63.241: icmp_seq=9 ttl=44 time=1413.290 ms\\n', '64 bytes from 138.197.63.241: icmp_seq=10 ttl=44 time=734.966 ms\\n', '64 bytes from 138.197.63.241: icmp_seq=11 ttl=44 time=288.520 ms\\n', '64 bytes from 138.197.63.241: icmp_seq=12 ttl=44 time=320.343 ms\\n', '64 bytes from 138.197.63.241: icmp_seq=13 ttl=44 time=379.516 ms\\n', '64 bytes from 138.197.63.241: icmp_seq=14 ttl=44 time=310.458 ms\\n', '64 bytes from 138.197.63.241: icmp_seq=15 ttl=44 time=351.800 ms\\n', '64 bytes from 138.197.63.241: icmp_seq=16 ttl=44 time=576.550 ms\\n', '64 bytes from 138.197.63.241: icmp_seq=17 ttl=44 time=395.120 ms\\n', '64 bytes from 138.197.63.241: icmp_seq=18 ttl=44 time=473.807 ms\\n', '64 bytes from 138.197.63.241: icmp_seq=19 ttl=44 time=330.659 ms\\n', '64 bytes from 138.197.63.241: icmp_seq=20 ttl=44 time=659.762 ms\\n', '64 bytes from 138.197.63.241: icmp_seq=21 ttl=44 time=287.535 ms\\n', '64 bytes from 138.197.63.241: icmp_seq=22 ttl=44 time=696.946 ms\\n', '64 bytes from 138.197.63.241: icmp_seq=23 ttl=44 time=310.045 ms\\n', '64 bytes from 138.197.63.241: icmp_seq=24 ttl=44 time=294.533 ms\\n', '64 bytes from 138.197.63.241: icmp_seq=25 ttl=44 time=350.715 ms\\n', '64 bytes from 138.197.63.241: icmp_seq=26 ttl=44 time=289.102 ms\\n', '64 bytes from 138.197.63.241: icmp_seq=27 ttl=44 time=291.921 ms\\n', '64 bytes from 138.197.63.241: icmp_seq=28 ttl=44 time=413.731 ms\\n', '64 bytes from 138.197.63.241: icmp_seq=29 ttl=44 time=407.161 ms\\n', '64 bytes from 138.197.63.241: icmp_seq=30 ttl=44 time=456.202 ms\\n', '64 bytes from 138.197.63.241: icmp_seq=31 ttl=44 time=480.079 ms\\n', '64 bytes from 138.197.63.241: icmp_seq=32 ttl=44 time=503.863 ms\\n', '64 bytes from 138.197.63.241: icmp_seq=33 ttl=44 time=323.431 ms\\n', '64 bytes from 138.197.63.241: icmp_seq=34 ttl=44 time=344.866 ms\\n', '64 bytes from 138.197.63.241: icmp_seq=35 ttl=44 time=570.405 ms\\n', '64 bytes from 138.197.63.241: icmp_seq=36 ttl=44 time=386.289 ms\\n', '64 bytes from 138.197.63.241: icmp_seq=37 ttl=44 time=613.368 ms\\n', '64 bytes from 138.197.63.241: icmp_seq=38 ttl=44 time=428.235 ms\\n', '64 bytes from 138.197.63.241: icmp_seq=39 ttl=44 time=302.445 ms\\n', '64 bytes from 138.197.63.241: icmp_seq=40 ttl=44 time=467.266 ms\\n', '64 bytes from 138.197.63.241: icmp_seq=41 ttl=44 time=487.570 ms\\n', '64 bytes from 138.197.63.241: icmp_seq=42 ttl=44 time=412.035 ms\\n', '64 bytes from 138.197.63.241: icmp_seq=44 ttl=44 time=543.308 ms\\n', 'Request timeout for icmp_seq 45\\n', '64 bytes from 138.197.63.241: icmp_seq=46 ttl=44 time=586.104 ms\\n', '64 bytes from 138.197.63.241: icmp_seq=47 ttl=44 time=279.953 ms\\n', '64 bytes from 138.197.63.241: icmp_seq=48 ttl=44 time=422.709 ms\\n', '64 bytes from 138.197.63.241: icmp_seq=49 ttl=44 time=288.654 ms\\n', '\\n', '--- python.org ping statistics ---\\n', '50 packets transmitted, 47 packets received, 6.0% packet loss\\n', 'round-trip min/avg/max/stddev = 275.209/443.617/1413.290/200.289 ms\\n']\n",
      "RETURN-CODE 0\n"
     ]
    }
   ],
   "source": [
    "import subprocess\n",
    "process = subprocess.Popen(['ping','-c 50','python.org'],\n",
    "                          stdout=subprocess.PIPE,\n",
    "                          stderr=subprocess.PIPE,\n",
    "                          universal_newlines=True)\n",
    "while True:\n",
    "    output = process.stdout.readlines()\n",
    "    print(output)\n",
    "    return_code = process.poll()\n",
    "    if return_code is not None:\n",
    "        print(\"RETURN-CODE\",return_code)\n",
    "        for ouput in process.stdout.readlines():\n",
    "            print(output)\n",
    "        break\n",
    "    "
   ]
  },
  {
   "cell_type": "code",
   "execution_count": 164,
   "id": "49bb42ad",
   "metadata": {},
   "outputs": [
    {
     "name": "stdout",
     "output_type": "stream",
     "text": [
      "RETURN CODE 0\n",
      "PING google.com (142.250.194.78): 56 data bytes\n",
      "64 bytes from 142.250.194.78: icmp_seq=0 ttl=56 time=38.365 ms\n",
      "\n",
      "--- google.com ping statistics ---\n",
      "1 packets transmitted, 1 packets received, 0.0% packet loss\n",
      "round-trip min/avg/max/stddev = 38.365/38.365/38.365/0.000 ms\n",
      "\n"
     ]
    }
   ],
   "source": [
    "import subprocess\n",
    "proc = subprocess.Popen(['ping','-c 1','google.com'],\n",
    "                       stdout=subprocess.PIPE,\n",
    "                       stderr=subprocess.STDOUT)\n",
    "try:\n",
    "    outs,_ = proc.communicate(timeout=2)\n",
    "    print('RETURN CODE',proc.returncode)\n",
    "    print(outs.decode('utf-8'))\n",
    "except:\n",
    "    print('subprocess did not terminate in time')\n",
    "    proc.terminate()"
   ]
  },
  {
   "cell_type": "code",
   "execution_count": null,
   "id": "6d481b93",
   "metadata": {},
   "outputs": [],
   "source": []
  }
 ],
 "metadata": {
  "kernelspec": {
   "display_name": "Python 3",
   "language": "python",
   "name": "python3"
  },
  "language_info": {
   "codemirror_mode": {
    "name": "ipython",
    "version": 3
   },
   "file_extension": ".py",
   "mimetype": "text/x-python",
   "name": "python",
   "nbconvert_exporter": "python",
   "pygments_lexer": "ipython3",
   "version": "3.8.8"
  }
 },
 "nbformat": 4,
 "nbformat_minor": 5
}
