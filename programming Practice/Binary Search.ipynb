{
 "cells": [
  {
   "cell_type": "code",
   "execution_count": 4,
   "metadata": {},
   "outputs": [
    {
     "data": {
      "text/plain": [
       "5"
      ]
     },
     "execution_count": 4,
     "metadata": {},
     "output_type": "execute_result"
    }
   ],
   "source": [
    "def binarySearch(arr,num):\n",
    "    left = 0\n",
    "    right = len(arr)-1\n",
    "    while left<=right:\n",
    "        mid = (left+right)//2\n",
    "        if arr[mid] == num:\n",
    "            return mid\n",
    "        elif arr[mid]>num:\n",
    "            right = mid-1\n",
    "        else:\n",
    "            left = mid+1\n",
    "    return -1\n",
    "arr = [1,2,3,4,5,6,7,8,9]\n",
    "binarySearch(arr,6)"
   ]
  },
  {
   "cell_type": "markdown",
   "metadata": {},
   "source": [
    "# first and last occurance of an element"
   ]
  },
  {
   "cell_type": "code",
   "execution_count": 5,
   "metadata": {},
   "outputs": [
    {
     "data": {
      "text/plain": [
       "-1"
      ]
     },
     "execution_count": 5,
     "metadata": {},
     "output_type": "execute_result"
    }
   ],
   "source": [
    "def binarySearch(arr,num):\n",
    "    left = 0\n",
    "    right = len(arr)-1\n",
    "    res = -1\n",
    "    while left<=right:\n",
    "        mid = (left+right)//2\n",
    "        if arr[mid] == num:\n",
    "            res = -1\n",
    "            right = mid-1\n",
    "        elif arr[mid]>num:\n",
    "            right = mid-1\n",
    "        else:\n",
    "            left = mid+1\n",
    "    return res\n",
    "arr = [1,2,2,2,4,5,6]\n",
    "binarySearch(arr,2)"
   ]
  },
  {
   "cell_type": "markdown",
   "metadata": {},
   "source": [
    "# find the number of times sorted array is rotated"
   ]
  },
  {
   "cell_type": "code",
   "execution_count": null,
   "metadata": {},
   "outputs": [],
   "source": [
    "# index of minimum element\n",
    "def findRotated(arr):\n",
    "    left = 0\n",
    "    right = len(arr)-1\n",
    "    n = len(arr)\n",
    "    while left<=right:\n",
    "        mid = (left+right)//2\n",
    "        nxt = (mid+1)%n\n",
    "        prev = (n+mid-1)%n\n",
    "        if arr[mid]<arr[nxt] and arr[mid]<arr[prev]:\n",
    "            return mid\n",
    "        if arr[mid]>=arr[left]:\n",
    "            left = mid+1\n",
    "        elif arr[mid]<=arr[right]:\n",
    "            right = mid-1\n",
    "    return -1"
   ]
  }
 ],
 "metadata": {
  "kernelspec": {
   "display_name": "Python 3",
   "language": "python",
   "name": "python3"
  },
  "language_info": {
   "codemirror_mode": {
    "name": "ipython",
    "version": 3
   },
   "file_extension": ".py",
   "mimetype": "text/x-python",
   "name": "python",
   "nbconvert_exporter": "python",
   "pygments_lexer": "ipython3",
   "version": "3.8.8"
  }
 },
 "nbformat": 4,
 "nbformat_minor": 4
}
