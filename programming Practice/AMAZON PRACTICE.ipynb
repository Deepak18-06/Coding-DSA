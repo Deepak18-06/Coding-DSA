{
 "cells": [
  {
   "cell_type": "markdown",
   "metadata": {},
   "source": [
    "### 1.search-in-row-wise-and-column-wise-sorted-matrix"
   ]
  },
  {
   "cell_type": "code",
   "execution_count": null,
   "metadata": {},
   "outputs": [],
   "source": [
    "def searchMatrix(self, matrix: List[List[int]], target: int) -> bool:\n",
    "    if matrix == [] or matrix == [[]]:\n",
    "        return False\n",
    "    i = 0\n",
    "    n = len(matrix)\n",
    "    m = len(matrix[0])\n",
    "    j = m-1\n",
    "    while(i<n and j>=0):\n",
    "        if matrix[i][j] == target:\n",
    "            return True\n",
    "        elif matrix[i][j] > target:\n",
    "            j-=1\n",
    "        elif matrix[i][j] <target:\n",
    "            i+=1\n",
    "    return False"
   ]
  },
  {
   "cell_type": "markdown",
   "metadata": {},
   "source": [
    "### 2. Check if a binary tree is subtree of another binary tree\n"
   ]
  },
  {
   "cell_type": "code",
   "execution_count": null,
   "metadata": {},
   "outputs": [],
   "source": [
    "class Solution:\n",
    "    def isSame(self,s,t):\n",
    "        if s is None or t is None:\n",
    "            return s == None and t == None\n",
    "        elif s.val == t.val:\n",
    "            return self.isSame(s.left,t.left) and self.isSame(s.right,t.right)\n",
    "        else:\n",
    "            return False\n",
    "    def isSubtree(self, s: TreeNode, t: TreeNode) -> bool:\n",
    "        if s is None:\n",
    "            return False\n",
    "        elif self.isSame(s,t):\n",
    "            return True\n",
    "        else:\n",
    "            return self.isSubtree(s.left,t) or self.isSubtree(s.right,t)\n",
    "# time complexity O(m*n) for every m nodes of s we check the whole tree\n",
    "# space complexity O(min(m,n)) as recursion will go to min no nodes in the tree"
   ]
  },
  {
   "cell_type": "markdown",
   "metadata": {},
   "source": [
    "### 3. Implement Undo and Redo features of a Text Editor"
   ]
  },
  {
   "cell_type": "code",
   "execution_count": 9,
   "metadata": {},
   "outputs": [
    {
     "name": "stdout",
     "output_type": "stream",
     "text": [
      "A B\n",
      "A B C\n"
     ]
    }
   ],
   "source": [
    "def querry(Q):\n",
    "    redo = []\n",
    "    undo = []\n",
    "    for i in range(len(Q)):\n",
    "        q = Q[i].split(' ')\n",
    "       \n",
    "        if q[0] == \"WRITE\":\n",
    "            undo.append(q[1])\n",
    "            #rint(undo)\n",
    "        \n",
    "        elif q[0] == \"UNDO\":\n",
    "            element = undo.pop()\n",
    "            redo.append(element)\n",
    "        elif q[0] == \"REDO\":\n",
    "            element1= redo.pop()\n",
    "            undo.append(element1)\n",
    "        else:\n",
    "            print(*undo)\n",
    "        \n",
    "Q = [ \"WRITE A\", \"WRITE B\", \"WRITE C\", \"UNDO\", \"READ\", \"REDO\", \"READ\" ]\n",
    "querry(Q)"
   ]
  },
  {
   "cell_type": "markdown",
   "metadata": {},
   "source": [
    "### 4. Merge two sorted linked list"
   ]
  },
  {
   "cell_type": "code",
   "execution_count": 10,
   "metadata": {},
   "outputs": [
    {
     "ename": "NameError",
     "evalue": "name 'ListNode' is not defined",
     "output_type": "error",
     "traceback": [
      "\u001b[0;31m---------------------------------------------------------------------------\u001b[0m",
      "\u001b[0;31mNameError\u001b[0m                                 Traceback (most recent call last)",
      "\u001b[0;32m<ipython-input-10-b2e2e8078598>\u001b[0m in \u001b[0;36m<module>\u001b[0;34m\u001b[0m\n\u001b[0;32m----> 1\u001b[0;31m \u001b[0;32mclass\u001b[0m \u001b[0mSolution\u001b[0m\u001b[0;34m:\u001b[0m\u001b[0;34m\u001b[0m\u001b[0;34m\u001b[0m\u001b[0m\n\u001b[0m\u001b[1;32m      2\u001b[0m     \u001b[0;32mdef\u001b[0m \u001b[0mmergeTwoLists\u001b[0m\u001b[0;34m(\u001b[0m\u001b[0mself\u001b[0m\u001b[0;34m,\u001b[0m \u001b[0ml1\u001b[0m\u001b[0;34m:\u001b[0m \u001b[0mListNode\u001b[0m\u001b[0;34m,\u001b[0m \u001b[0ml2\u001b[0m\u001b[0;34m:\u001b[0m \u001b[0mListNode\u001b[0m\u001b[0;34m)\u001b[0m \u001b[0;34m->\u001b[0m \u001b[0mListNode\u001b[0m\u001b[0;34m:\u001b[0m\u001b[0;34m\u001b[0m\u001b[0;34m\u001b[0m\u001b[0m\n\u001b[1;32m      3\u001b[0m         \u001b[0mdummy\u001b[0m \u001b[0;34m=\u001b[0m \u001b[0mcurr\u001b[0m \u001b[0;34m=\u001b[0m \u001b[0mListNode\u001b[0m\u001b[0;34m(\u001b[0m\u001b[0;36m0\u001b[0m\u001b[0;34m)\u001b[0m\u001b[0;34m\u001b[0m\u001b[0;34m\u001b[0m\u001b[0m\n\u001b[1;32m      4\u001b[0m         \u001b[0;32mwhile\u001b[0m \u001b[0ml1\u001b[0m \u001b[0;32mand\u001b[0m \u001b[0ml2\u001b[0m\u001b[0;34m:\u001b[0m\u001b[0;34m\u001b[0m\u001b[0;34m\u001b[0m\u001b[0m\n\u001b[1;32m      5\u001b[0m             \u001b[0;32mif\u001b[0m \u001b[0ml1\u001b[0m\u001b[0;34m.\u001b[0m\u001b[0mval\u001b[0m \u001b[0;34m<\u001b[0m \u001b[0ml2\u001b[0m\u001b[0;34m.\u001b[0m\u001b[0mval\u001b[0m\u001b[0;34m:\u001b[0m\u001b[0;34m\u001b[0m\u001b[0;34m\u001b[0m\u001b[0m\n",
      "\u001b[0;32m<ipython-input-10-b2e2e8078598>\u001b[0m in \u001b[0;36mSolution\u001b[0;34m()\u001b[0m\n\u001b[1;32m      1\u001b[0m \u001b[0;32mclass\u001b[0m \u001b[0mSolution\u001b[0m\u001b[0;34m:\u001b[0m\u001b[0;34m\u001b[0m\u001b[0;34m\u001b[0m\u001b[0m\n\u001b[0;32m----> 2\u001b[0;31m     \u001b[0;32mdef\u001b[0m \u001b[0mmergeTwoLists\u001b[0m\u001b[0;34m(\u001b[0m\u001b[0mself\u001b[0m\u001b[0;34m,\u001b[0m \u001b[0ml1\u001b[0m\u001b[0;34m:\u001b[0m \u001b[0mListNode\u001b[0m\u001b[0;34m,\u001b[0m \u001b[0ml2\u001b[0m\u001b[0;34m:\u001b[0m \u001b[0mListNode\u001b[0m\u001b[0;34m)\u001b[0m \u001b[0;34m->\u001b[0m \u001b[0mListNode\u001b[0m\u001b[0;34m:\u001b[0m\u001b[0;34m\u001b[0m\u001b[0;34m\u001b[0m\u001b[0m\n\u001b[0m\u001b[1;32m      3\u001b[0m         \u001b[0mdummy\u001b[0m \u001b[0;34m=\u001b[0m \u001b[0mcurr\u001b[0m \u001b[0;34m=\u001b[0m \u001b[0mListNode\u001b[0m\u001b[0;34m(\u001b[0m\u001b[0;36m0\u001b[0m\u001b[0;34m)\u001b[0m\u001b[0;34m\u001b[0m\u001b[0;34m\u001b[0m\u001b[0m\n\u001b[1;32m      4\u001b[0m         \u001b[0;32mwhile\u001b[0m \u001b[0ml1\u001b[0m \u001b[0;32mand\u001b[0m \u001b[0ml2\u001b[0m\u001b[0;34m:\u001b[0m\u001b[0;34m\u001b[0m\u001b[0;34m\u001b[0m\u001b[0m\n\u001b[1;32m      5\u001b[0m             \u001b[0;32mif\u001b[0m \u001b[0ml1\u001b[0m\u001b[0;34m.\u001b[0m\u001b[0mval\u001b[0m \u001b[0;34m<\u001b[0m \u001b[0ml2\u001b[0m\u001b[0;34m.\u001b[0m\u001b[0mval\u001b[0m\u001b[0;34m:\u001b[0m\u001b[0;34m\u001b[0m\u001b[0;34m\u001b[0m\u001b[0m\n",
      "\u001b[0;31mNameError\u001b[0m: name 'ListNode' is not defined"
     ]
    }
   ],
   "source": [
    "class Solution:\n",
    "    def mergeTwoLists(self, l1: ListNode, l2: ListNode) -> ListNode:\n",
    "        dummy = curr = ListNode(0)\n",
    "        while l1 and l2:\n",
    "            if l1.val < l2.val:\n",
    "                curr.next = l1\n",
    "                l1 = l1.next\n",
    "            else:\n",
    "                curr.next = l2\n",
    "                l2 = l2.next\n",
    "            curr = curr.next\n",
    "        curr.next = l1 or l2\n",
    "        return dummy.next\n",
    "## inplace or recursive\n",
    "def merge( h1, h2): \n",
    "    if (h1 == None): \n",
    "        return h2 \n",
    "    if (h2 == None): \n",
    "        return h1 \n",
    "  \n",
    "    # start with the linked list \n",
    "    # whose head data is the least \n",
    "    if (h1.data < h2.data): \n",
    "        h1.next = merge(h1.next, h2) \n",
    "        return h1 \n",
    "      \n",
    "    else: \n",
    "        h2.next = merge(h1, h2.next) \n",
    "        return h2 "
   ]
  },
  {
   "cell_type": "markdown",
   "metadata": {},
   "source": [
    "### 5. Two Sum"
   ]
  },
  {
   "cell_type": "code",
   "execution_count": null,
   "metadata": {},
   "outputs": [],
   "source": [
    "class Solution:\n",
    "    def twoSum(self, nums: List[int], target: int) -> List[int]:\n",
    "        '''\n",
    "        result = 0\n",
    "        i = 0\n",
    "        arr = []\n",
    "        while result != target:\n",
    "            result+=nums[i]\n",
    "            if target - result >=nums[i] or target-result == 0:\n",
    "                arr.append(i)\n",
    "            else:\n",
    "                result-=nums[i]\n",
    "        return arr\n",
    "        '''\n",
    "        '''\n",
    "        for i in range(len(nums)):\n",
    "            for j in range(i+1,len(nums)):\n",
    "                if nums[j] == target- nums[i]:\n",
    "                    return [i,j]\n",
    "        '''\n",
    "        LookUp = {nums[val]:val for val in range(len(nums))}\n",
    "        for i in range(len(nums)):\n",
    "            if target - nums[i] in LookUp and (LookUp[target-nums[i]] !=i):\n",
    "                return [i,LookUp[target-nums[i]]] "
   ]
  },
  {
   "cell_type": "markdown",
   "metadata": {},
   "source": [
    "### 6. Critical Connections in a Network"
   ]
  },
  {
   "cell_type": "code",
   "execution_count": null,
   "metadata": {},
   "outputs": [],
   "source": []
  },
  {
   "cell_type": "markdown",
   "metadata": {},
   "source": [
    "### 7.Clone a linked list"
   ]
  },
  {
   "cell_type": "code",
   "execution_count": null,
   "metadata": {},
   "outputs": [],
   "source": []
  },
  {
   "cell_type": "markdown",
   "metadata": {},
   "source": [
    "### 8. Kth smallest element from an array of intervals"
   ]
  },
  {
   "cell_type": "code",
   "execution_count": null,
   "metadata": {},
   "outputs": [],
   "source": []
  },
  {
   "cell_type": "markdown",
   "metadata": {},
   "source": [
    "### 9. K largets elements in an array\n",
    "minheap is used and time complexcity of this is will be O(nlog(k))\n",
    "<br><b>alternate</b> solution will be using bubble sort and running outer loop for k times and returning last k elements"
   ]
  },
  {
   "cell_type": "code",
   "execution_count": 30,
   "metadata": {},
   "outputs": [
    {
     "data": {
      "text/plain": [
       "[9, 5100]"
      ]
     },
     "execution_count": 30,
     "metadata": {},
     "output_type": "execute_result"
    }
   ],
   "source": [
    "import heapq\n",
    "def klarge(arr,k):\n",
    "    a = []\n",
    "    for i in arr:\n",
    "        heapq.heappush(a,i)\n",
    "        if len(a)>k:\n",
    "            heapq.heappop(a)\n",
    "    return a\n",
    "        \n",
    "arr = [2,0,5,9,3,5100,8]\n",
    "k = 2\n",
    "klarge(arr,k)"
   ]
  },
  {
   "cell_type": "markdown",
   "metadata": {},
   "source": [
    "### 10. Pythagorean Triplet in an array\n",
    "<b>time complexcity </b> for this is O(n^2) as innner loop aslo can go n times<br>\n",
    "<b> this is the variation of 3Sum Problem we can also do this prblem using hashmap"
   ]
  },
  {
   "cell_type": "code",
   "execution_count": 37,
   "metadata": {},
   "outputs": [
    {
     "name": "stdout",
     "output_type": "stream",
     "text": [
      "36 + 64 = 100\n"
     ]
    },
    {
     "data": {
      "text/plain": [
       "True"
      ]
     },
     "execution_count": 37,
     "metadata": {},
     "output_type": "execute_result"
    }
   ],
   "source": [
    "def pythogoras(arr):\n",
    "    n = len(arr)\n",
    "    for i in range(n):\n",
    "        arr[i] = ar[i]*arr[i]\n",
    "    arr.sort()\n",
    "    for i in range(n-1,1,-1):\n",
    "        a = arr[i]\n",
    "        l = 0\n",
    "        r = i-1\n",
    "        while(l<r):\n",
    "            if arr[l]+arr[r] == a:\n",
    "                print(arr[l],\"+\",arr[r],\"=\",a)\n",
    "                return True\n",
    "            elif arr[l]+arr[r] > a:\n",
    "                r-=1\n",
    "            else:\n",
    "                l+=1\n",
    "    return False\n",
    "ar = [3, 1, 4, 6, 4,8,10] \n",
    "pythogoras(ar)"
   ]
  },
  {
   "cell_type": "markdown",
   "metadata": {},
   "source": [
    "### 11. Inplace rotate square matrix by 90 degrees"
   ]
  },
  {
   "cell_type": "code",
   "execution_count": 39,
   "metadata": {},
   "outputs": [],
   "source": [
    "def solve(matrix):\n",
    "    #get trnspose of the matrix\n",
    "    for i in range(n):\n",
    "        for i in range(i+1,n):\n",
    "            swap(matrix[i][j],matirx[j][i])\n",
    "    for i in range(n):\n",
    "        print(matrix[i][::-1])"
   ]
  },
  {
   "cell_type": "markdown",
   "metadata": {},
   "source": [
    "### 13. Design and Implement Special Stack Data Structure | Added Space Optimized Version(min stack)"
   ]
  },
  {
   "cell_type": "code",
   "execution_count": null,
   "metadata": {},
   "outputs": [],
   "source": [
    "class stack:\n",
    " \n",
    "  def __init__(self):\n",
    " \n",
    "    self.array = []\n",
    "    self.top = -1\n",
    "    self.max = 100 \n",
    " \n",
    "  # Stack's member method to check \n",
    "  # if the stack is iempty\n",
    "  def isEmpty(self):\n",
    " \n",
    "    if self.top == -1:\n",
    "        return True\n",
    "    else:\n",
    "        return False \n",
    " \n",
    "  # Stack's member method to check\n",
    "  # if the stack is full  \n",
    "  def isFull(self):  \n",
    "     \n",
    "    if self.top == self.max - 1:\n",
    "        return True\n",
    "    else:\n",
    "        return False  \n",
    " \n",
    "  # Stack's member method to \n",
    "  # insert an element to it   \n",
    " \n",
    "    def push(self, data):\n",
    " \n",
    "    if self.isFull():\n",
    "      print('Stack OverFlow')\n",
    "      return\n",
    "    else:\n",
    "      self.top += 1\n",
    "      self.array.append(data)     \n",
    " \n",
    "  # Stack's member method to \n",
    "  # remove an element from it \n",
    "  def pop(self):\n",
    " \n",
    "    if self.isEmpty():\n",
    "      print('Stack UnderFlow')\n",
    "      return\n",
    "    else: \n",
    "      self.top -= 1\n",
    "      return self.array.pop()\n",
    " \n",
    "# A class that supports all the stack  \n",
    "# operations and one additional \n",
    "# operation getMin() that returns the \n",
    "# minimum element from stack at \n",
    "# any time.  This class inherits from\n",
    "# the stack class and uses an \n",
    "# auxiliarry stack that holds \n",
    "# minimum elements  \n",
    "class SpecialStack(stack):\n",
    " \n",
    "  def __init__(self):\n",
    "    super().__init__()\n",
    "    self.Min = stack()  \n",
    " \n",
    "  # SpecialStack's member method to \n",
    "  # insert an element to it. This method \n",
    "  # makes sure that the min stack is also\n",
    "  # updated with appropriate minimum\n",
    "  # values \n",
    "  def push(self, x):\n",
    " \n",
    "    if self.isEmpty():\n",
    "      super().push(x)\n",
    "      self.Min.push(x)\n",
    "    else:\n",
    "      super().push(x)\n",
    "      y = self.Min.pop()\n",
    "      self.Min.push(y)\n",
    "      if x <= y:\n",
    "        self.Min.push(x)\n",
    "      else:\n",
    "        self.Min.push(y)  \n",
    " \n",
    "  # SpecialStack's member method to  \n",
    "  # remove an element from it. This \n",
    "  # method removes top element from \n",
    "  # min stack also. \n",
    "  def pop(self):\n",
    " \n",
    "    x = super().pop()\n",
    "    self.Min.pop()\n",
    "    return x  \n",
    " \n",
    "  # SpecialStack's member method \n",
    "  # to get minimum element from it.\n",
    "  def getmin(self):\n",
    " \n",
    "    x = self.Min.pop()\n",
    "    self.Min.push(x)\n",
    "    return x\n",
    " \n",
    "# Driver code\n",
    "if __name__ == '__main__':\n",
    "   \n",
    "  s = SpecialStack()\n",
    "  s.push(10)\n",
    "  s.push(20)\n",
    "  s.push(30)\n",
    "  print(s.getmin())\n",
    "  s.push(5)\n",
    "  print(s.getmin())\n",
    "    \n"
   ]
  },
  {
   "cell_type": "markdown",
   "metadata": {},
   "source": [
    "### 14. count of an element is sorted array"
   ]
  },
  {
   "cell_type": "code",
   "execution_count": null,
   "metadata": {},
   "outputs": [],
   "source": [
    "def searchRange(self, A, B):\n",
    "    start = 0\n",
    "    end = len(A)-1\n",
    "    res1 = -1\n",
    "    #res2 = -1\n",
    "    while start<=end:\n",
    "        mid = start + (end-start)//2\n",
    "        if A[mid] == B:\n",
    "            res1 =  mid\n",
    "            end = mid - 1\n",
    "        if A[mid] >= B:\n",
    "            end = mid -1\n",
    "        else:\n",
    "            start = mid+1\n",
    "    start = 0\n",
    "    end = len(A)-1\n",
    "    #res1 = -1\n",
    "    res2 = -1\n",
    "    while start<=end:\n",
    "        mid = start + (end-start)//2\n",
    "        if A[mid] == B:\n",
    "            res2 =  mid\n",
    "            start = mid+1\n",
    "        if A[mid] > B:\n",
    "            end = mid -1\n",
    "        else:\n",
    "            start = mid+1\n",
    "    return [res1,res2]"
   ]
  },
  {
   "cell_type": "markdown",
   "metadata": {},
   "source": [
    "### 15. songs recommendation"
   ]
  },
  {
   "cell_type": "code",
   "execution_count": 1,
   "metadata": {},
   "outputs": [
    {
     "name": "stdout",
     "output_type": "stream",
     "text": [
      "3\n",
      "2\n",
      "3\n",
      "3\n"
     ]
    }
   ],
   "source": [
    "from collections import defaultdict\n",
    "def solve(arr):\n",
    "    mem = defaultdict(lambda: 0)\n",
    "    count = 0\n",
    "\n",
    "    for i, duration in enumerate(arr):\n",
    "        duration %= 60\n",
    "        target = (60 - duration)%60\n",
    "        count += mem[target]\n",
    "        mem[duration] += 1\n",
    "    return count\n",
    "\n",
    "print(solve([60,60,60]))\n",
    "print(solve([10,50,90,30]))\n",
    "print(solve([30, 20, 150, 100, 40]))\n",
    "print(solve([60,60,60]))"
   ]
  },
  {
   "cell_type": "code",
   "execution_count": null,
   "metadata": {},
   "outputs": [],
   "source": []
  }
 ],
 "metadata": {
  "kernelspec": {
   "display_name": "Python 3",
   "language": "python",
   "name": "python3"
  },
  "language_info": {
   "codemirror_mode": {
    "name": "ipython",
    "version": 3
   },
   "file_extension": ".py",
   "mimetype": "text/x-python",
   "name": "python",
   "nbconvert_exporter": "python",
   "pygments_lexer": "ipython3",
   "version": "3.8.3"
  }
 },
 "nbformat": 4,
 "nbformat_minor": 4
}
