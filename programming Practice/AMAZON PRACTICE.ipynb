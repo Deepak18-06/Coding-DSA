{
 "cells": [
  {
   "cell_type": "markdown",
   "metadata": {},
   "source": [
    "### 1.search-in-row-wise-and-column-wise-sorted-matrix"
   ]
  },
  {
   "cell_type": "code",
   "execution_count": null,
   "metadata": {},
   "outputs": [],
   "source": [
    "def searchMatrix(self, matrix: List[List[int]], target: int) -> bool:\n",
    "    if matrix == [] or matrix == [[]]:\n",
    "        return False\n",
    "    i = 0\n",
    "    n = len(matrix)\n",
    "    m = len(matrix[0])\n",
    "    j = m-1\n",
    "    while(i<n and j>=0):\n",
    "        if matrix[i][j] == target:\n",
    "            return True\n",
    "        elif matrix[i][j] > target:\n",
    "            j-=1\n",
    "        elif matrix[i][j] <target:\n",
    "            i+=1\n",
    "    return False"
   ]
  },
  {
   "cell_type": "markdown",
   "metadata": {},
   "source": [
    "### 2. Check if a binary tree is subtree of another binary tree\n"
   ]
  },
  {
   "cell_type": "code",
   "execution_count": null,
   "metadata": {},
   "outputs": [],
   "source": [
    "class Solution:\n",
    "    def isSame(self,s,t):\n",
    "        if s is None or t is None:\n",
    "            return s == None and t == None\n",
    "        elif s.val == t.val:\n",
    "            return self.isSame(s.left,t.left) and self.isSame(s.right,t.right)\n",
    "        else:\n",
    "            return False\n",
    "    def isSubtree(self, s: TreeNode, t: TreeNode) -> bool:\n",
    "        if s is None:\n",
    "            return False\n",
    "        elif self.isSame(s,t):\n",
    "            return True\n",
    "        else:\n",
    "            return self.isSubtree(s.left,t) or self.isSubtree(s.right,t)\n",
    "# time complexity O(m*n) for every m nodes of s we check the whole tree\n",
    "# space complexity O(min(m,n)) as recursion will go to min no nodes in the tree"
   ]
  },
  {
   "cell_type": "markdown",
   "metadata": {},
   "source": [
    "### 3. Implement Undo and Redo features of a Text Editor"
   ]
  },
  {
   "cell_type": "code",
   "execution_count": 9,
   "metadata": {},
   "outputs": [
    {
     "name": "stdout",
     "output_type": "stream",
     "text": [
      "A B\n",
      "A B C\n"
     ]
    }
   ],
   "source": [
    "def querry(Q):\n",
    "    redo = []\n",
    "    undo = []\n",
    "    for i in range(len(Q)):\n",
    "        q = Q[i].split(' ')\n",
    "       \n",
    "        if q[0] == \"WRITE\":\n",
    "            undo.append(q[1])\n",
    "            #rint(undo)\n",
    "        \n",
    "        elif q[0] == \"UNDO\":\n",
    "            element = undo.pop()\n",
    "            redo.append(element)\n",
    "        elif q[0] == \"REDO\":\n",
    "            element1= redo.pop()\n",
    "            undo.append(element1)\n",
    "        else:\n",
    "            print(*undo)\n",
    "        \n",
    "Q = [ \"WRITE A\", \"WRITE B\", \"WRITE C\", \"UNDO\", \"READ\", \"REDO\", \"READ\" ]\n",
    "querry(Q)"
   ]
  },
  {
   "cell_type": "markdown",
   "metadata": {},
   "source": [
    "### 4. Merge two sorted linked list"
   ]
  },
  {
   "cell_type": "code",
   "execution_count": 10,
   "metadata": {},
   "outputs": [
    {
     "ename": "NameError",
     "evalue": "name 'ListNode' is not defined",
     "output_type": "error",
     "traceback": [
      "\u001b[0;31m---------------------------------------------------------------------------\u001b[0m",
      "\u001b[0;31mNameError\u001b[0m                                 Traceback (most recent call last)",
      "\u001b[0;32m<ipython-input-10-b2e2e8078598>\u001b[0m in \u001b[0;36m<module>\u001b[0;34m\u001b[0m\n\u001b[0;32m----> 1\u001b[0;31m \u001b[0;32mclass\u001b[0m \u001b[0mSolution\u001b[0m\u001b[0;34m:\u001b[0m\u001b[0;34m\u001b[0m\u001b[0;34m\u001b[0m\u001b[0m\n\u001b[0m\u001b[1;32m      2\u001b[0m     \u001b[0;32mdef\u001b[0m \u001b[0mmergeTwoLists\u001b[0m\u001b[0;34m(\u001b[0m\u001b[0mself\u001b[0m\u001b[0;34m,\u001b[0m \u001b[0ml1\u001b[0m\u001b[0;34m:\u001b[0m \u001b[0mListNode\u001b[0m\u001b[0;34m,\u001b[0m \u001b[0ml2\u001b[0m\u001b[0;34m:\u001b[0m \u001b[0mListNode\u001b[0m\u001b[0;34m)\u001b[0m \u001b[0;34m->\u001b[0m \u001b[0mListNode\u001b[0m\u001b[0;34m:\u001b[0m\u001b[0;34m\u001b[0m\u001b[0;34m\u001b[0m\u001b[0m\n\u001b[1;32m      3\u001b[0m         \u001b[0mdummy\u001b[0m \u001b[0;34m=\u001b[0m \u001b[0mcurr\u001b[0m \u001b[0;34m=\u001b[0m \u001b[0mListNode\u001b[0m\u001b[0;34m(\u001b[0m\u001b[0;36m0\u001b[0m\u001b[0;34m)\u001b[0m\u001b[0;34m\u001b[0m\u001b[0;34m\u001b[0m\u001b[0m\n\u001b[1;32m      4\u001b[0m         \u001b[0;32mwhile\u001b[0m \u001b[0ml1\u001b[0m \u001b[0;32mand\u001b[0m \u001b[0ml2\u001b[0m\u001b[0;34m:\u001b[0m\u001b[0;34m\u001b[0m\u001b[0;34m\u001b[0m\u001b[0m\n\u001b[1;32m      5\u001b[0m             \u001b[0;32mif\u001b[0m \u001b[0ml1\u001b[0m\u001b[0;34m.\u001b[0m\u001b[0mval\u001b[0m \u001b[0;34m<\u001b[0m \u001b[0ml2\u001b[0m\u001b[0;34m.\u001b[0m\u001b[0mval\u001b[0m\u001b[0;34m:\u001b[0m\u001b[0;34m\u001b[0m\u001b[0;34m\u001b[0m\u001b[0m\n",
      "\u001b[0;32m<ipython-input-10-b2e2e8078598>\u001b[0m in \u001b[0;36mSolution\u001b[0;34m()\u001b[0m\n\u001b[1;32m      1\u001b[0m \u001b[0;32mclass\u001b[0m \u001b[0mSolution\u001b[0m\u001b[0;34m:\u001b[0m\u001b[0;34m\u001b[0m\u001b[0;34m\u001b[0m\u001b[0m\n\u001b[0;32m----> 2\u001b[0;31m     \u001b[0;32mdef\u001b[0m \u001b[0mmergeTwoLists\u001b[0m\u001b[0;34m(\u001b[0m\u001b[0mself\u001b[0m\u001b[0;34m,\u001b[0m \u001b[0ml1\u001b[0m\u001b[0;34m:\u001b[0m \u001b[0mListNode\u001b[0m\u001b[0;34m,\u001b[0m \u001b[0ml2\u001b[0m\u001b[0;34m:\u001b[0m \u001b[0mListNode\u001b[0m\u001b[0;34m)\u001b[0m \u001b[0;34m->\u001b[0m \u001b[0mListNode\u001b[0m\u001b[0;34m:\u001b[0m\u001b[0;34m\u001b[0m\u001b[0;34m\u001b[0m\u001b[0m\n\u001b[0m\u001b[1;32m      3\u001b[0m         \u001b[0mdummy\u001b[0m \u001b[0;34m=\u001b[0m \u001b[0mcurr\u001b[0m \u001b[0;34m=\u001b[0m \u001b[0mListNode\u001b[0m\u001b[0;34m(\u001b[0m\u001b[0;36m0\u001b[0m\u001b[0;34m)\u001b[0m\u001b[0;34m\u001b[0m\u001b[0;34m\u001b[0m\u001b[0m\n\u001b[1;32m      4\u001b[0m         \u001b[0;32mwhile\u001b[0m \u001b[0ml1\u001b[0m \u001b[0;32mand\u001b[0m \u001b[0ml2\u001b[0m\u001b[0;34m:\u001b[0m\u001b[0;34m\u001b[0m\u001b[0;34m\u001b[0m\u001b[0m\n\u001b[1;32m      5\u001b[0m             \u001b[0;32mif\u001b[0m \u001b[0ml1\u001b[0m\u001b[0;34m.\u001b[0m\u001b[0mval\u001b[0m \u001b[0;34m<\u001b[0m \u001b[0ml2\u001b[0m\u001b[0;34m.\u001b[0m\u001b[0mval\u001b[0m\u001b[0;34m:\u001b[0m\u001b[0;34m\u001b[0m\u001b[0;34m\u001b[0m\u001b[0m\n",
      "\u001b[0;31mNameError\u001b[0m: name 'ListNode' is not defined"
     ]
    }
   ],
   "source": [
    "class Solution:\n",
    "    def mergeTwoLists(self, l1: ListNode, l2: ListNode) -> ListNode:\n",
    "        dummy = curr = ListNode(0)\n",
    "        while l1 and l2:\n",
    "            if l1.val < l2.val:\n",
    "                curr.next = l1\n",
    "                l1 = l1.next\n",
    "            else:\n",
    "                curr.next = l2\n",
    "                l2 = l2.next\n",
    "            curr = curr.next\n",
    "        curr.next = l1 or l2\n",
    "        return dummy.next\n",
    "## inplace or recursive\n",
    "def merge( h1, h2): \n",
    "    if (h1 == None): \n",
    "        return h2 \n",
    "    if (h2 == None): \n",
    "        return h1 \n",
    "  \n",
    "    # start with the linked list \n",
    "    # whose head data is the least \n",
    "    if (h1.data < h2.data): \n",
    "        h1.next = merge(h1.next, h2) \n",
    "        return h1 \n",
    "      \n",
    "    else: \n",
    "        h2.next = merge(h1, h2.next) \n",
    "        return h2 "
   ]
  },
  {
   "cell_type": "markdown",
   "metadata": {},
   "source": [
    "### 5. Two Sum"
   ]
  },
  {
   "cell_type": "code",
   "execution_count": null,
   "metadata": {},
   "outputs": [],
   "source": [
    "class Solution:\n",
    "    def twoSum(self, nums: List[int], target: int) -> List[int]:\n",
    "        '''\n",
    "        result = 0\n",
    "        i = 0\n",
    "        arr = []\n",
    "        while result != target:\n",
    "            result+=nums[i]\n",
    "            if target - result >=nums[i] or target-result == 0:\n",
    "                arr.append(i)\n",
    "            else:\n",
    "                result-=nums[i]\n",
    "        return arr\n",
    "        '''\n",
    "        '''\n",
    "        for i in range(len(nums)):\n",
    "            for j in range(i+1,len(nums)):\n",
    "                if nums[j] == target- nums[i]:\n",
    "                    return [i,j]\n",
    "        '''\n",
    "        LookUp = {nums[val]:val for val in range(len(nums))}\n",
    "        for i in range(len(nums)):\n",
    "            if target - nums[i] in LookUp and (LookUp[target-nums[i]] !=i):\n",
    "                return [i,LookUp[target-nums[i]]] "
   ]
  },
  {
   "cell_type": "markdown",
   "metadata": {},
   "source": [
    "### 6. Critical Connections in a Network"
   ]
  },
  {
   "cell_type": "code",
   "execution_count": null,
   "metadata": {},
   "outputs": [],
   "source": [
    "from collections import defaultdict\n",
    "\n",
    "def criticalConnections(n, connections):\n",
    "    def dfs(node, parent, level):\n",
    "        if levels[node] is None:\n",
    "            levels[node] = low[node] = level\n",
    "            [dfs(neighbour, node, level + 1) for neighbour in graph[node]]\n",
    "            low[node] = min([level] + [low[neighbour] for neighbour in graph[node] if neighbour != parent])\n",
    "    graph, levels, low = defaultdict(set), [None] * n, [None] * n\n",
    "    [(graph[x].add(y), graph[y].add(x)) for x, y in connections], dfs(0, None, 0)\n",
    "    return [[x, y] for x, y in connections if low[x] > levels[y] or low[y] > levels[x]]"
   ]
  },
  {
   "cell_type": "markdown",
   "metadata": {},
   "source": [
    "### 7.Clone a linked list"
   ]
  },
  {
   "cell_type": "code",
   "execution_count": null,
   "metadata": {},
   "outputs": [],
   "source": []
  },
  {
   "cell_type": "markdown",
   "metadata": {},
   "source": [
    "### 8. Kth smallest element from an array of intervals"
   ]
  },
  {
   "cell_type": "code",
   "execution_count": null,
   "metadata": {},
   "outputs": [],
   "source": [
    "# Python3 program to implement\n",
    "# the above approach\n",
    " \n",
    "# Function to get the Kth smallest\n",
    "# element from an array of intervals\n",
    "def KthSmallestNum(arr, n, k):\n",
    "     \n",
    "    # Store all the intervals so that it\n",
    "    # returns the minimum element in O(1)\n",
    "    pq = []\n",
    " \n",
    "    # Insert all Intervals into the MinHeap\n",
    "    for i in range(n):\n",
    "        pq.append([arr[i][0], arr[i][1]])\n",
    " \n",
    "    # Stores the count of\n",
    "    # popped elements\n",
    "    cnt = 1\n",
    " \n",
    "    # Iterate over MinHeap\n",
    "    while (cnt < k):\n",
    "         \n",
    "        # Stores minimum element\n",
    "        # from all remaining intervals\n",
    "        pq.sort(reverse = True)\n",
    "        interval = pq[0]\n",
    " \n",
    "        # Remove minimum element\n",
    "        pq.remove(pq[0])\n",
    " \n",
    "        # Check if the minimum of the current\n",
    "        # interval is less than the maximum\n",
    "        # of the current interval\n",
    "        if (interval[0] < interval[1]):\n",
    "             \n",
    "            # Insert new interval\n",
    "            pq.append([interval[0] + 1, \n",
    "                       interval[1]])\n",
    " \n",
    "        cnt += 1\n",
    "         \n",
    "    pq.sort(reverse = True)\n",
    "    return pq[0][0] + 1\n",
    " \n",
    "# Driver Code\n",
    "if __name__ == '__main__':\n",
    "     \n",
    "    # Intervals given\n",
    "    arr = [ [ 5, 11 ],\n",
    "            [ 10, 15 ],\n",
    "            [ 12, 20 ] ]\n",
    " \n",
    "    # Size of the arr\n",
    "    n = len(arr)\n",
    "     \n",
    "    k = 12\n",
    "     \n",
    "    print(KthSmallestNum(arr, n, k))"
   ]
  },
  {
   "cell_type": "markdown",
   "metadata": {},
   "source": [
    "### 9. K largests elements in an array\n",
    "minheap is used and time complexcity of this is will be O(nlog(k))\n",
    "<br><b>alternate</b> solution will be using bubble sort and running outer loop for k times and returning last k elements"
   ]
  },
  {
   "cell_type": "code",
   "execution_count": 30,
   "metadata": {},
   "outputs": [
    {
     "data": {
      "text/plain": [
       "[9, 5100]"
      ]
     },
     "execution_count": 30,
     "metadata": {},
     "output_type": "execute_result"
    }
   ],
   "source": [
    "import heapq\n",
    "def klarge(arr,k):\n",
    "    a = []\n",
    "    for i in arr:\n",
    "        heapq.heappush(a,i)\n",
    "        if len(a)>k:\n",
    "            heapq.heappop(a)\n",
    "    return a\n",
    "        \n",
    "arr = [2,0,5,9,3,5100,8]\n",
    "k = 2\n",
    "klarge(arr,k)"
   ]
  },
  {
   "cell_type": "markdown",
   "metadata": {},
   "source": [
    "### 10. Pythagorean Triplet in an array\n",
    "<b>time complexcity </b> for this is O(n^2) as innner loop aslo can go n times<br>\n",
    "<b> this is the variation of 3Sum Problem we can also do this prblem using hashmap"
   ]
  },
  {
   "cell_type": "code",
   "execution_count": 37,
   "metadata": {},
   "outputs": [
    {
     "name": "stdout",
     "output_type": "stream",
     "text": [
      "36 + 64 = 100\n"
     ]
    },
    {
     "data": {
      "text/plain": [
       "True"
      ]
     },
     "execution_count": 37,
     "metadata": {},
     "output_type": "execute_result"
    }
   ],
   "source": [
    "def pythogoras(arr):\n",
    "    n = len(arr)\n",
    "    for i in range(n):\n",
    "        arr[i] = ar[i]*arr[i]\n",
    "    arr.sort()\n",
    "    for i in range(n-1,1,-1):\n",
    "        a = arr[i]\n",
    "        l = 0\n",
    "        r = i-1\n",
    "        while(l<r):\n",
    "            if arr[l]+arr[r] == a:\n",
    "                print(arr[l],\"+\",arr[r],\"=\",a)\n",
    "                return True\n",
    "            elif arr[l]+arr[r] > a:\n",
    "                r-=1\n",
    "            else:\n",
    "                l+=1\n",
    "    return False\n",
    "ar = [3, 1, 4, 6, 4,8,10] \n",
    "pythogoras(ar)"
   ]
  },
  {
   "cell_type": "markdown",
   "metadata": {},
   "source": [
    "### 11. Inplace rotate square matrix by 90 degrees"
   ]
  },
  {
   "cell_type": "code",
   "execution_count": 39,
   "metadata": {},
   "outputs": [],
   "source": [
    "def solve(matrix):\n",
    "    #get trnspose of the matrix\n",
    "    for i in range(n):\n",
    "        for i in range(i+1,n):\n",
    "            swap(matrix[i][j],matirx[j][i])\n",
    "    for i in range(n):\n",
    "        print(matrix[i][::-1])"
   ]
  },
  {
   "cell_type": "markdown",
   "metadata": {},
   "source": [
    "### 13. Design and Implement Special Stack Data Structure | Added Space Optimized Version(min stack)"
   ]
  },
  {
   "cell_type": "code",
   "execution_count": null,
   "metadata": {},
   "outputs": [],
   "source": [
    "class stack:\n",
    " \n",
    "  def __init__(self):\n",
    " \n",
    "    self.array = []\n",
    "    self.top = -1\n",
    "    self.max = 100 \n",
    " \n",
    "  # Stack's member method to check \n",
    "  # if the stack is iempty\n",
    "  def isEmpty(self):\n",
    " \n",
    "    if self.top == -1:\n",
    "        return True\n",
    "    else:\n",
    "        return False \n",
    " \n",
    "  # Stack's member method to check\n",
    "  # if the stack is full  \n",
    "  def isFull(self):  \n",
    "     \n",
    "    if self.top == self.max - 1:\n",
    "        return True\n",
    "    else:\n",
    "        return False  \n",
    " \n",
    "  # Stack's member method to \n",
    "  # insert an element to it   \n",
    " \n",
    "    def push(self, data):\n",
    " \n",
    "    if self.isFull():\n",
    "      print('Stack OverFlow')\n",
    "      return\n",
    "    else:\n",
    "      self.top += 1\n",
    "      self.array.append(data)     \n",
    " \n",
    "  # Stack's member method to \n",
    "  # remove an element from it \n",
    "  def pop(self):\n",
    " \n",
    "    if self.isEmpty():\n",
    "      print('Stack UnderFlow')\n",
    "      return\n",
    "    else: \n",
    "      self.top -= 1\n",
    "      return self.array.pop()\n",
    " \n",
    "# A class that supports all the stack  \n",
    "# operations and one additional \n",
    "# operation getMin() that returns the \n",
    "# minimum element from stack at \n",
    "# any time.  This class inherits from\n",
    "# the stack class and uses an \n",
    "# auxiliarry stack that holds \n",
    "# minimum elements  \n",
    "class SpecialStack(stack):\n",
    " \n",
    "  def __init__(self):\n",
    "    super().__init__()\n",
    "    self.Min = stack()  \n",
    " \n",
    "  # SpecialStack's member method to \n",
    "  # insert an element to it. This method \n",
    "  # makes sure that the min stack is also\n",
    "  # updated with appropriate minimum\n",
    "  # values \n",
    "  def push(self, x):\n",
    " \n",
    "    if self.isEmpty():\n",
    "      super().push(x)\n",
    "      self.Min.push(x)\n",
    "    else:\n",
    "      super().push(x)\n",
    "      y = self.Min.pop()\n",
    "      self.Min.push(y)\n",
    "      if x <= y:\n",
    "        self.Min.push(x)\n",
    "      else:\n",
    "        self.Min.push(y)  \n",
    " \n",
    "  # SpecialStack's member method to  \n",
    "  # remove an element from it. This \n",
    "  # method removes top element from \n",
    "  # min stack also. \n",
    "  def pop(self):\n",
    " \n",
    "    x = super().pop()\n",
    "    self.Min.pop()\n",
    "    return x  \n",
    " \n",
    "  # SpecialStack's member method \n",
    "  # to get minimum element from it.\n",
    "  def getmin(self):\n",
    " \n",
    "    x = self.Min.pop()\n",
    "    self.Min.push(x)\n",
    "    return x\n",
    " \n",
    "# Driver code\n",
    "if __name__ == '__main__':\n",
    "   \n",
    "  s = SpecialStack()\n",
    "  s.push(10)\n",
    "  s.push(20)\n",
    "  s.push(30)\n",
    "  print(s.getmin())\n",
    "  s.push(5)\n",
    "  print(s.getmin())\n",
    "    \n"
   ]
  },
  {
   "cell_type": "markdown",
   "metadata": {},
   "source": [
    "### 14. count of an element is sorted array"
   ]
  },
  {
   "cell_type": "code",
   "execution_count": null,
   "metadata": {},
   "outputs": [],
   "source": [
    "def searchRange(self, A, B):\n",
    "    start = 0\n",
    "    end = len(A)-1\n",
    "    res1 = -1\n",
    "    #res2 = -1\n",
    "    while start<=end:\n",
    "        mid = start + (end-start)//2\n",
    "        if A[mid] == B:\n",
    "            res1 =  mid\n",
    "            end = mid - 1\n",
    "        if A[mid] >= B:\n",
    "            end = mid -1\n",
    "        else:\n",
    "            start = mid+1\n",
    "    start = 0\n",
    "    end = len(A)-1\n",
    "    #res1 = -1\n",
    "    res2 = -1\n",
    "    while start<=end:\n",
    "        mid = start + (end-start)//2\n",
    "        if A[mid] == B:\n",
    "            res2 =  mid\n",
    "            start = mid+1\n",
    "        if A[mid] > B:\n",
    "            end = mid -1\n",
    "        else:\n",
    "            start = mid+1\n",
    "    return [res1,res2]"
   ]
  },
  {
   "cell_type": "markdown",
   "metadata": {},
   "source": [
    "### 15. songs recommendation"
   ]
  },
  {
   "cell_type": "code",
   "execution_count": 1,
   "metadata": {},
   "outputs": [
    {
     "name": "stdout",
     "output_type": "stream",
     "text": [
      "3\n",
      "2\n",
      "3\n",
      "3\n"
     ]
    }
   ],
   "source": [
    "from collections import defaultdict\n",
    "def solve(arr):\n",
    "    mem = defaultdict(lambda: 0)\n",
    "    count = 0\n",
    "\n",
    "    for i, duration in enumerate(arr):\n",
    "        duration %= 60\n",
    "        target = (60 - duration)%60\n",
    "        count += mem[target]\n",
    "        mem[duration] += 1\n",
    "    return count\n",
    "\n",
    "print(solve([60,60,60]))\n",
    "print(solve([10,50,90,30]))\n",
    "print(solve([30, 20, 150, 100, 40]))\n",
    "print(solve([60,60,60]))"
   ]
  },
  {
   "cell_type": "markdown",
   "metadata": {},
   "source": [
    " Tree, Graph, DP, Stack in decreasing order"
   ]
  },
  {
   "cell_type": "markdown",
   "metadata": {},
   "source": [
    "# 16. Number of ways to get a given sum with n number of m-faced dices(dice Throw DP)"
   ]
  },
  {
   "cell_type": "code",
   "execution_count": 5,
   "metadata": {},
   "outputs": [
    {
     "name": "stdout",
     "output_type": "stream",
     "text": [
      "0\n",
      "2\n",
      "21\n",
      "4\n",
      "6\n"
     ]
    }
   ],
   "source": [
    "#  Python program \n",
    "#  The main function that returns number of ways to get sum 'x' \n",
    "#  with 'n' dice and 'm' with m faces. \n",
    "  \n",
    "def findWays(f, d, s): \n",
    "    # Create a table to store results of subproblems. One extra \n",
    "    # row and column are used for simpilicity (Number of dice \n",
    "    # is directly used as row index and sum is directly used \n",
    "    # as column index). The entries in 0th row and 0th column \n",
    "    # are never used. \n",
    "    mem = [[0 for i in range(s+1)] for j in range(d+1)] \n",
    "    # Table entries for no dices \n",
    "    # If you do not have any data, then the value must be 0, so the result is 1 \n",
    "    mem[0][0] = 1\n",
    "    # Iterate over dices \n",
    "    for i in range(1, d+1): \n",
    "  \n",
    "        # Iterate over sum \n",
    "        for j in range(1, s+1): \n",
    "            # The result is obtained in two ways, pin the current dice and spending 1 of the value, \n",
    "            # so we have mem[i-1][j-1] remaining combinations, to find the remaining combinations we \n",
    "            # would have to pin the values ??above 1 then we use mem[i][j-1] to sum all combinations \n",
    "            # that pin the remaining j-1's. But there is a way, when \"j-f-1> = 0\" we would be adding \n",
    "            # extra combinations, so we remove the combinations that only pin the extrapolated dice face and \n",
    "            # subtract the extrapolated combinations. \n",
    "            mem[i][j] = mem[i][j - 1] + mem[i - 1][j - 1] \n",
    "            if j - f - 1 >= 0: \n",
    "                mem[i][j] -= mem[i - 1][j - f - 1] \n",
    "    return mem[d][s] \n",
    "  \n",
    "# Driver code \n",
    "  \n",
    "print(findWays(4, 2, 1)) \n",
    "print(findWays(2, 2, 3)) \n",
    "print(findWays(6, 3, 8)) \n",
    "print(findWays(4, 2, 5)) \n",
    "print(findWays(4, 3, 5)) "
   ]
  },
  {
   "cell_type": "markdown",
   "metadata": {},
   "source": [
    "# 17. Sieve Prime number"
   ]
  },
  {
   "cell_type": "code",
   "execution_count": 4,
   "metadata": {},
   "outputs": [
    {
     "name": "stdout",
     "output_type": "stream",
     "text": [
      "2 3 5 7 11 "
     ]
    }
   ],
   "source": [
    "def generatePrime(n):\n",
    "    primes = [True]*(n+1)\n",
    "    primes[0] = False\n",
    "    primes[1] = False\n",
    "    for p in range(2,int(n**.5)+1):\n",
    "        if primes[p] == True:\n",
    "            for i in range(p*p,n+1,p):\n",
    "                primes[i] = False\n",
    "    for j in range(0,len(primes)):\n",
    "        if primes[j]:\n",
    "            print(j,end = ' ')\n",
    "generatePrime(12)"
   ]
  },
  {
   "cell_type": "markdown",
   "metadata": {},
   "source": [
    "# 18. Count Inversions"
   ]
  },
  {
   "cell_type": "code",
   "execution_count": 3,
   "metadata": {},
   "outputs": [
    {
     "name": "stdout",
     "output_type": "stream",
     "text": [
      "2\n"
     ]
    }
   ],
   "source": [
    "def countInversions(arr):\n",
    "    count = 0\n",
    "    for i in range(len(arr)):\n",
    "        for j in range(i+1,len(arr)):\n",
    "            if arr[i]>arr[j]:\n",
    "                count+=1\n",
    "    print(count)\n",
    "arr = [3,1,2]\n",
    "countInversions(arr)\n",
    "\n",
    "# Using enhanced merge sort"
   ]
  },
  {
   "cell_type": "markdown",
   "metadata": {},
   "source": [
    "# 19.Reverse k alternative nodes in a linked list"
   ]
  },
  {
   "cell_type": "code",
   "execution_count": null,
   "metadata": {},
   "outputs": [],
   "source": [
    "def kAltReverse(head, k) :  \n",
    "    current = head  \n",
    "    next = None\n",
    "    prev = None\n",
    "    count = 0\n",
    "  \n",
    "    #1) reverse first k nodes of the linked list  \n",
    "    while (current != None and count < k) :  \n",
    "        next = current.next\n",
    "        current.next = prev  \n",
    "        prev = current  \n",
    "        current = next\n",
    "        count = count + 1; \n",
    "      \n",
    "    # 2) Now head pos to the kth node.  \n",
    "    # So change next of head to (k+1)th node \n",
    "    if(head != None):  \n",
    "        head.next = current  \n",
    "  \n",
    "    # 3) We do not want to reverse next k  \n",
    "    # nodes. So move the current  \n",
    "    # poer to skip next k nodes  \n",
    "    count = 0\n",
    "    while(count < k - 1 and current != None ):  \n",
    "        current = current.next\n",
    "        count = count + 1\n",
    "      \n",
    "    # 4) Recursively call for the list  \n",
    "    # starting from current.next. And make \n",
    "    # rest of the list as next of first node  \n",
    "    if(current != None):  \n",
    "        current.next = kAltReverse(current.next, k)  \n",
    "  \n",
    "    # 5) prev is new head of the input list  \n",
    "    return prev  \n",
    "class Solution:\n",
    "    # @param A : head node of linked list\n",
    "    # @param B : integer\n",
    "    # @return the head node in the linked list\n",
    "    def solve(self, A, B):\n",
    "        return kAltReverse(A,B);"
   ]
  },
  {
   "cell_type": "markdown",
   "metadata": {},
   "source": [
    "# 20. Program to find first letter of each word"
   ]
  },
  {
   "cell_type": "code",
   "execution_count": null,
   "metadata": {},
   "outputs": [],
   "source": []
  },
  {
   "cell_type": "markdown",
   "metadata": {},
   "source": [
    "# 21. n meetings in a room or train platform problem"
   ]
  },
  {
   "cell_type": "code",
   "execution_count": null,
   "metadata": {},
   "outputs": [],
   "source": [
    "class Solution:\n",
    "    def merge(self, intervals: List[List[int]]) -> List[List[int]]:\n",
    "        intervals.sort(key = lambda x:x[0])\n",
    "        i=1\n",
    "        while i<len(intervals):\n",
    "            if intervals[i][0] <= intervals[i-1][1]:\n",
    "                intervals[i-1][0] = min(intervals[i][0],intervals[i-1][0])\n",
    "                intervals[i-1][1] = max(intervals[i][1],intervals[i-1][1])\n",
    "                del intervals[i]\n",
    "            else:\n",
    "                i+=1\n",
    "        return intervals"
   ]
  },
  {
   "cell_type": "markdown",
   "metadata": {},
   "source": [
    "# 22. LCS"
   ]
  },
  {
   "cell_type": "code",
   "execution_count": null,
   "metadata": {},
   "outputs": [],
   "source": [
    "class Solution:\n",
    "    def longestCommonSubsequence(self, text1: str, text2: str) -> int:\n",
    "        n = len(text1)\n",
    "        m = len(text2)\n",
    "        dp = [[-1 for x in range(m+1)] for x in range(n+1)]\n",
    "        def helper(text1,text2,n,m,dp):\n",
    "            if n == 0 or m == 0:\n",
    "                return 0\n",
    "            if dp[n][m] != -1:\n",
    "                return dp[n][m]\n",
    "            if text1[n-1] == text2[m-1]:\n",
    "                dp[n][m] = 1 + helper(text1,text2,n-1,m-1,dp)\n",
    "                return dp[n][m]\n",
    "            else:\n",
    "                dp[n][m] = max(helper(text1,text2,n-1,m,dp),helper(text1,text2,n,m-1,dp))\n",
    "                return dp[n][m]\n",
    "        return helper(text1,text2,n,m,dp)"
   ]
  },
  {
   "cell_type": "markdown",
   "metadata": {},
   "source": [
    "# 23. find minimum height of a tree given its inorder and level order traversal"
   ]
  },
  {
   "cell_type": "code",
   "execution_count": null,
   "metadata": {},
   "outputs": [],
   "source": []
  },
  {
   "cell_type": "markdown",
   "metadata": {},
   "source": [
    "# 24. Reach Given Score\n",
    "Consider a game where a player can score 3 or 5 or 10 points in a move. Given a total score n, find number of distinct combinations to reach the given score."
   ]
  },
  {
   "cell_type": "code",
   "execution_count": null,
   "metadata": {},
   "outputs": [],
   "source": [
    "def count(n): \n",
    "  \n",
    "    # table[i] will store count of solutions for value i. \n",
    "    # Initialize all table values as 0. \n",
    "    table = [0 for i in range(n+1)] \n",
    "  \n",
    "    # Base case (If given value is 0) \n",
    "    table[0] = 1\n",
    "  \n",
    "    # One by one consider given 3 moves and update the \n",
    "    # table[] values after the index greater than or equal \n",
    "    # to the value of the picked move. \n",
    "    for i in range(3, n+1): \n",
    "        table[i] += table[i-3] \n",
    "    for i in range(5, n+1): \n",
    "        table[i] += table[i-5] \n",
    "    for i in range(10, n+1): \n",
    "        table[i] += table[i-10] \n",
    "  \n",
    "    return table[n] \n",
    "  \n",
    "# Driver Program \n",
    "n = 20\n",
    "print('Count for', n, 'is', count(n)) \n",
    "  \n",
    "n = 13\n",
    "print('Count for', n, 'is', count(n)) "
   ]
  },
  {
   "cell_type": "markdown",
   "metadata": {},
   "source": [
    "# 25. Smallest distinct window"
   ]
  },
  {
   "cell_type": "code",
   "execution_count": null,
   "metadata": {},
   "outputs": [],
   "source": [
    "from collections import defaultdict \n",
    "  \n",
    "MAX_CHARS = 256\n",
    "  \n",
    "# Function to find smallest window \n",
    "# containing all distinct characters \n",
    "def findSubString(strr): \n",
    "      \n",
    "    n = len(strr) \n",
    "      \n",
    "    # Count all distinct characters. \n",
    "    dist_count = len(set([x for x in strr])) \n",
    "      \n",
    "    curr_count = defaultdict(lambda: 0) \n",
    "    count = 0\n",
    "    start = 0\n",
    "    min_len = n \n",
    "      \n",
    "    # Now follow the algorithm discussed in below \n",
    "    # post. We basically maintain a window of characters \n",
    "    # that contains all characters of given string. \n",
    "    for j in range(n): \n",
    "        curr_count[strr[j]] += 1\n",
    "          \n",
    "        # If any distinct character matched, \n",
    "        # then increment count \n",
    "        if curr_count[strr[j]] == 1: \n",
    "            count += 1\n",
    "              \n",
    "        # Try to minimize the window i.e., check if \n",
    "        # any character is occurring more no. of times \n",
    "        # than its occurrence in pattern, if yes \n",
    "        # then remove it from starting and also remove \n",
    "        # the useless characters. \n",
    "        if count == dist_count: \n",
    "            while curr_count[strr[start]] > 1: \n",
    "                if curr_count[strr[start]] > 1: \n",
    "                    curr_count[strr[start]] -= 1\n",
    "                      \n",
    "                start += 1\n",
    "                  \n",
    "            # Update window size \n",
    "            len_window = j - start + 1\n",
    "              \n",
    "            if min_len > len_window: \n",
    "                min_len = len_window \n",
    "                start_index = start \n",
    "  \n",
    "    # Return substring starting from start_index \n",
    "    # and length min_len \"\"\" \n",
    "    return str(strr[start_index: start_index +\n",
    "                                 min_len]) \n",
    "                                   \n",
    "# Driver code \n",
    "if __name__=='__main__': \n",
    "      \n",
    "    print(\"Smallest window containing \" \n",
    "          \"all distinct characters is: {}\".format( \n",
    "           findSubString(\"aabcbcdbca\"))) \n",
    "  \n",
    "# This code is contributed by   \n",
    "# Subhrajit  "
   ]
  },
  {
   "cell_type": "markdown",
   "metadata": {},
   "source": [
    "# 26. copy Linked list with a random Pointer"
   ]
  },
  {
   "cell_type": "code",
   "execution_count": null,
   "metadata": {},
   "outputs": [],
   "source": []
  },
  {
   "cell_type": "markdown",
   "metadata": {},
   "source": [
    "# 27. Mean Mode Median  "
   ]
  },
  {
   "cell_type": "code",
   "execution_count": null,
   "metadata": {},
   "outputs": [],
   "source": []
  },
  {
   "cell_type": "markdown",
   "metadata": {},
   "source": [
    "# 28. "
   ]
  }
 ],
 "metadata": {
  "kernelspec": {
   "display_name": "Python 3",
   "language": "python",
   "name": "python3"
  },
  "language_info": {
   "codemirror_mode": {
    "name": "ipython",
    "version": 3
   },
   "file_extension": ".py",
   "mimetype": "text/x-python",
   "name": "python",
   "nbconvert_exporter": "python",
   "pygments_lexer": "ipython3",
   "version": "3.8.3"
  }
 },
 "nbformat": 4,
 "nbformat_minor": 4
}
