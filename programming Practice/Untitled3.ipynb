{
 "cells": [
  {
   "cell_type": "code",
   "execution_count": 20,
   "metadata": {},
   "outputs": [],
   "source": [
    "a = [\"10\",\"6\",\"9\",\"3\",\"+\",\"-11\",\"*\",\"/\",\"*\",\"17\",\"+\",\"5\",\"+\"]\n"
   ]
  },
  {
   "cell_type": "code",
   "execution_count": 32,
   "metadata": {},
   "outputs": [
    {
     "name": "stdout",
     "output_type": "stream",
     "text": [
      "10 [10]\n",
      "6 [10, 6]\n",
      "9 [10, 6, 9]\n",
      "3 [10, 6, 9, 3]\n",
      "+ [10, 6, 12]\n",
      "-11 [10, 6, 12, -11]\n",
      "* [10, 6, -132]\n",
      "/ [10, 0]\n",
      "* [0]\n",
      "17 [0, 17]\n",
      "+ [17]\n",
      "5 [17, 5]\n",
      "+ [22]\n"
     ]
    },
    {
     "data": {
      "text/plain": [
       "22"
      ]
     },
     "execution_count": 32,
     "metadata": {},
     "output_type": "execute_result"
    }
   ],
   "source": [
    "def evalRPN(tokens):\n",
    "    stack = []\n",
    "    for i in tokens:\n",
    "        if i  == \"+\":\n",
    "            a = stack.pop()\n",
    "            b = stack.pop()\n",
    "            stack.append(a+b)\n",
    "        elif i == \"-\":\n",
    "            a = stack.pop()\n",
    "            b = stack.pop()\n",
    "            stack.append(b-a)\n",
    "        elif i == \"*\":\n",
    "            a = stack.pop()\n",
    "            b = stack.pop()\n",
    "            stack.append(a*b)\n",
    "        elif i == \"/\":\n",
    "            a = stack.pop()\n",
    "            b = stack.pop()\n",
    "            k = b/a\n",
    "            stack.append(int(k))\n",
    "        else:\n",
    "            stack.append(int(i))\n",
    "        print(i,stack)\n",
    "    return stack[0]\n",
    "evalRPN(a)"
   ]
  },
  {
   "cell_type": "code",
   "execution_count": 27,
   "metadata": {},
   "outputs": [
    {
     "data": {
      "text/plain": [
       "-22"
      ]
     },
     "execution_count": 27,
     "metadata": {},
     "output_type": "execute_result"
    }
   ],
   "source": [
    "-132//6"
   ]
  },
  {
   "cell_type": "code",
   "execution_count": 28,
   "metadata": {},
   "outputs": [
    {
     "data": {
      "text/plain": [
       "-0.045454545454545456"
      ]
     },
     "execution_count": 28,
     "metadata": {},
     "output_type": "execute_result"
    }
   ],
   "source": [
    "6/-132"
   ]
  },
  {
   "cell_type": "code",
   "execution_count": 29,
   "metadata": {},
   "outputs": [
    {
     "data": {
      "text/plain": [
       "0"
      ]
     },
     "execution_count": 29,
     "metadata": {},
     "output_type": "execute_result"
    }
   ],
   "source": [
    "int(-0.045454545454545456)"
   ]
  },
  {
   "cell_type": "code",
   "execution_count": 31,
   "metadata": {},
   "outputs": [
    {
     "data": {
      "text/plain": [
       "0"
      ]
     },
     "execution_count": 31,
     "metadata": {},
     "output_type": "execute_result"
    }
   ],
   "source": [
    "int(.6)"
   ]
  },
  {
   "cell_type": "code",
   "execution_count": null,
   "metadata": {},
   "outputs": [],
   "source": []
  }
 ],
 "metadata": {
  "kernelspec": {
   "display_name": "Python 3",
   "language": "python",
   "name": "python3"
  },
  "language_info": {
   "codemirror_mode": {
    "name": "ipython",
    "version": 3
   },
   "file_extension": ".py",
   "mimetype": "text/x-python",
   "name": "python",
   "nbconvert_exporter": "python",
   "pygments_lexer": "ipython3",
   "version": "3.8.3"
  }
 },
 "nbformat": 4,
 "nbformat_minor": 4
}
