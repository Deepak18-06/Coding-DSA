{
 "cells": [
  {
   "cell_type": "markdown",
   "id": "16603563",
   "metadata": {},
   "source": [
    "## 0-1 KnapSack"
   ]
  },
  {
   "cell_type": "code",
   "execution_count": 4,
   "id": "76c6750c",
   "metadata": {},
   "outputs": [],
   "source": [
    "def knapSack(W, wt, val, n):\n",
    "    if n == 0 or W == 0:\n",
    "        return 0\n",
    "    if wt[n-1] <= W:\n",
    "        return  max(val[n-1] + knapSack(W-wt[n-1],wt, val, n-1), knapSack(W, wt, val, n-1))\n",
    "    else:\n",
    "        return knapSack(W, wt, val, n-1)"
   ]
  },
  {
   "cell_type": "code",
   "execution_count": 5,
   "id": "ed5ba644",
   "metadata": {},
   "outputs": [
    {
     "data": {
      "text/plain": [
       "0"
      ]
     },
     "execution_count": 5,
     "metadata": {},
     "output_type": "execute_result"
    }
   ],
   "source": [
    "#Memoization technique\n",
    "def knapSack(wt, val, W, n, dp):\n",
    "    if n == 0 or W == 0:\n",
    "        return 0\n",
    "    if dp[W][n-1] != -1:\n",
    "        return dp[W][n-1]\n",
    "    if wt[n-1] <= W:\n",
    "        dp[W][n-1] = max(val[n-1] + knapSack(wt, val, W-wt[n-1], n-1), knapSack(wt, val, W, n-1))\n",
    "    else:\n",
    "        dp[W][n-1] = knapSack(wt, val, W, n-1)\n",
    "    return dp[W][n-1]\n",
    "    \n",
    "wt = []\n",
    "val = []\n",
    "W = 0\n",
    "n = 0\n",
    "dp = [[-1 for _ in range(W+1)] for _ in range(n+1)]\n",
    "knapSack(wt, val, W, n, dp)"
   ]
  },
  {
   "cell_type": "code",
   "execution_count": 6,
   "id": "304c0a08",
   "metadata": {},
   "outputs": [],
   "source": [
    "# tabulization approach\n",
    "def knapSack(wt, val, W, n):\n",
    "    dp = [[0 for i in range(W+1)] for j in range(n+1)]\n",
    "    for i in range(1,n+1):\n",
    "        for w in range(1,W+1):\n",
    "            if wt[i-1] <= w:\n",
    "                dp[i][w] = max( val[i-1] + dp[i-1][w-wt[i-1]], dp[i-1][w])\n",
    "            else:\n",
    "                dp[i][w] = dp[i-1][w]\n",
    "    return dp[n][W]"
   ]
  },
  {
   "cell_type": "markdown",
   "id": "b7050e15",
   "metadata": {},
   "source": [
    "## Problems that depends on 0/1 knapsack\n",
    "- subset sum problem\n",
    "- equal sum partition\n",
    "- count of subset sum\n",
    "- min subset sum diff\n",
    "- target sum\n",
    "- num of subset given diff"
   ]
  },
  {
   "cell_type": "markdown",
   "id": "7a2941b6",
   "metadata": {},
   "source": [
    "# subset sum problem"
   ]
  },
  {
   "cell_type": "code",
   "execution_count": 7,
   "id": "556f7aa4",
   "metadata": {},
   "outputs": [],
   "source": [
    "def isSubsetSum (N, arr, sum):\n",
    "        if N == 0 and sum == 0:\n",
    "            return 1\n",
    "        if N == 0 and sum >0:\n",
    "            return 0\n",
    "        if sum == 0 and N > 0:\n",
    "            return 1\n",
    "        if arr[N-1] <= sum:\n",
    "            return isSubsetSum(N-1, arr, sum - arr[N-1]) or isSubsetSum(N-1, arr, sum)\n",
    "        else:\n",
    "            return isSubsetSum(N-1, arr, sum)"
   ]
  },
  {
   "cell_type": "code",
   "execution_count": 14,
   "id": "37597c92",
   "metadata": {},
   "outputs": [
    {
     "data": {
      "text/plain": [
       "False"
      ]
     },
     "execution_count": 14,
     "metadata": {},
     "output_type": "execute_result"
    }
   ],
   "source": [
    "# memoization\n",
    "def isSubsetSum(N, arr, sum, dp):\n",
    "    if N == 0 and sum == 0:\n",
    "        return True\n",
    "    if N == 0 and sum > 0:\n",
    "        return False\n",
    "    if sum == 0 and N > 0:\n",
    "        return True\n",
    "    if dp[N][sum] != -1:\n",
    "        return dp[N][sum]\n",
    "    if arr[N-1] <= sum:\n",
    "        dp[N][sum] = isSubsetSum(N-1, arr, sum-arr[N-1], dp) or isSubsetSum(N-1, arr, sum, dp)\n",
    "    else:\n",
    "        dp[N][sum] = isSubsetSum(N-1, arr, sum)\n",
    "    return dp[N][sum]\n",
    "    \n",
    "N = 1\n",
    "arr = [4]\n",
    "sum = 9\n",
    "dp = [[-1 for j in range(sum+1)] for i in range(N+1)]\n",
    "isSubsetSum(N, arr, sum, dp)"
   ]
  },
  {
   "cell_type": "code",
   "execution_count": 19,
   "id": "58590ad2",
   "metadata": {},
   "outputs": [
    {
     "data": {
      "text/plain": [
       "True"
      ]
     },
     "execution_count": 19,
     "metadata": {},
     "output_type": "execute_result"
    }
   ],
   "source": [
    "# tabularization -> Top-up\n",
    "def isSubsetSum(N, arr, sum):\n",
    "    dp = [[0 for j in range(sum+1)] for i in range(N+1)]\n",
    "    for i in range(N+1):\n",
    "        for j in range(sum+1):\n",
    "            if i ==0 and j == 0:\n",
    "                dp[i][j] = True\n",
    "            elif i == 0 and j >0:\n",
    "                dp[i][j] = False\n",
    "            elif i >0 and j == 0:\n",
    "                dp[i][j] = True\n",
    "    for i in range(1,N+1):\n",
    "        for j in range(1,sum+1):\n",
    "            if arr[i-1] <= j:\n",
    "                dp[i][j] = dp[i-1][j-arr[i-1]] or dp[i-1][j]\n",
    "            else:\n",
    "                dp[i][j] = dp[i-1][j]\n",
    "    return dp[N][sum]\n",
    "N = 1\n",
    "arr = [4]\n",
    "sum = 4\n",
    "isSubsetSum(N, arr, sum)"
   ]
  },
  {
   "cell_type": "markdown",
   "id": "703b9863",
   "metadata": {},
   "source": [
    "# subset sum problem\n"
   ]
  },
  {
   "cell_type": "code",
   "execution_count": null,
   "id": "76a2a5c0",
   "metadata": {},
   "outputs": [],
   "source": [
    "class Solution:\n",
    "    def isSubsetSum(self,nums, target, n):\n",
    "        dp = [[0 for j in range(target+1)] for i in range(n+1)]\n",
    "        for i in range(n+1):\n",
    "            for j in range(target+1):\n",
    "                if i == 0 and j == 0 :\n",
    "                    dp[i][j] = 1\n",
    "                elif i ==0 and j>0:\n",
    "                    dp[i][j] = 0\n",
    "                elif i > 0 and j == 0:\n",
    "                    dp[i][j] = 1\n",
    "        for i in range(1,n+1):\n",
    "            for j in range(1,target+1):\n",
    "                if nums[i-1] <= j:\n",
    "                    dp[i][j] = dp[i-1][j-nums[i-1]] or dp[i-1][j]\n",
    "                else:\n",
    "                    dp[i][j] = dp[i-1][j]\n",
    "        return dp[n][target]\n",
    "    def canPartition(self, nums: List[int]) -> bool:\n",
    "        summation = sum(nums)\n",
    "        if summation%2 != 0:\n",
    "            return False\n",
    "        return self.isSubsetSum(nums, summation//2, len(nums))"
   ]
  },
  {
   "cell_type": "markdown",
   "id": "90a5d464",
   "metadata": {},
   "source": [
    "# Count subset with sum k"
   ]
  },
  {
   "cell_type": "code",
   "execution_count": 22,
   "id": "f0afd3aa",
   "metadata": {},
   "outputs": [
    {
     "data": {
      "text/plain": [
       "2"
      ]
     },
     "execution_count": 22,
     "metadata": {},
     "output_type": "execute_result"
    }
   ],
   "source": [
    "def countSubsetSum(nums, target, n):\n",
    "        dp = [[0 for j in range(target+1)] for i in range(n+1)]\n",
    "        for i in range(n+1):\n",
    "            for j in range(target+1):\n",
    "                if i == 0 and j == 0 :\n",
    "                    dp[i][j] = 1\n",
    "                elif i ==0 and j>0:\n",
    "                    dp[i][j] = 0\n",
    "                elif i > 0 and j == 0:\n",
    "                    dp[i][j] = 1\n",
    "        for i in range(1,n+1):\n",
    "            for j in range(1,target+1):\n",
    "                if nums[i-1] <= j:\n",
    "                    dp[i][j] = dp[i-1][j-nums[i-1]] + dp[i-1][j]\n",
    "                else:\n",
    "                    dp[i][j] = dp[i-1][j]\n",
    "        return dp[n][target]\n",
    "isSubsetSum([1,2,3,4], 5, 4)"
   ]
  },
  {
   "cell_type": "markdown",
   "id": "109cfba4",
   "metadata": {},
   "source": [
    "# Unbounded KnapSack"
   ]
  },
  {
   "cell_type": "code",
   "execution_count": 26,
   "id": "bd75f2ee",
   "metadata": {},
   "outputs": [
    {
     "data": {
      "text/plain": [
       "50"
      ]
     },
     "execution_count": 26,
     "metadata": {},
     "output_type": "execute_result"
    }
   ],
   "source": [
    "def unboundedKnapSack(wt, val, W, n):\n",
    "    if W == 0 or n == 0:\n",
    "        return 0\n",
    "    if wt[n-1] <= W:\n",
    "        return max(val[n-1] + unboundedKnapSack(wt, val, W-wt[n-1], n), unboundedKnapSack(wt,val, W, n-1))\n",
    "    else:\n",
    "         return unboundedKnapSack(wt,val, W, n-1)\n",
    "        \n",
    "wt = [1,2,3,4]\n",
    "val = [1,2,3,4]\n",
    "n = 4\n",
    "W = 50\n",
    "unboundedKnapSack(wt, val, W, n)"
   ]
  },
  {
   "cell_type": "code",
   "execution_count": null,
   "id": "38507736",
   "metadata": {},
   "outputs": [],
   "source": [
    "def knapSack(wt, val, W, n):\n",
    "    dp = [[0 for i in range(W+1)] for j in range(n+1)]\n",
    "    for i in range(1,n+1):\n",
    "        for w in range(1,W+1):\n",
    "            if wt[i-1] <= w:\n",
    "                dp[i][w] = max( val[i-1] + dp[i][w-wt[i-1]], dp[i-1][w])\n",
    "            else:\n",
    "                dp[i][w] = dp[i-1][w]\n",
    "    return dp[n][W]"
   ]
  },
  {
   "cell_type": "markdown",
   "id": "24e88996",
   "metadata": {},
   "source": [
    "# Rod Cutting problem"
   ]
  },
  {
   "cell_type": "code",
   "execution_count": null,
   "id": "09610b84",
   "metadata": {},
   "outputs": [],
   "source": [
    "# maximize profit\n",
    "def rodCutting(prices, index, n):\n",
    "    if index == 0:\n",
    "        return n*prices[index]\n",
    "    notCut = rodCutting(prices, index-1, n)\n",
    "    cut = \n",
    "    \n",
    "prices = [1,2,3,4,5]\n",
    "rodCutting(prices, len(prices)-1, len(prices))"
   ]
  },
  {
   "cell_type": "markdown",
   "id": "08d4f3a9",
   "metadata": {},
   "source": [
    "# Longest Common subsequence"
   ]
  },
  {
   "cell_type": "code",
   "execution_count": 29,
   "id": "9d404c62",
   "metadata": {},
   "outputs": [
    {
     "data": {
      "text/plain": [
       "4"
      ]
     },
     "execution_count": 29,
     "metadata": {},
     "output_type": "execute_result"
    }
   ],
   "source": [
    "# using recursion and memoization\n",
    "def helper(x, y, n, m, dp):\n",
    "    if n == 0 or m == 0:\n",
    "        return 0\n",
    "    if dp[n][m] != -1:\n",
    "        return dp[n][m]\n",
    "    if x[n-1] == y[m-1]:\n",
    "        dp[n][m] =  1+helper(x,y,n-1,m-1, dp)\n",
    "    else:\n",
    "        dp[n][m] =  max(helper(x,y,n-1,m, dp), helper(x,y,n, m-1, dp))\n",
    "    return dp[n][m]\n",
    "text1 = 'abcd'\n",
    "text2 = 'abcd'\n",
    "dp = [[-1 for i in range(len(text2)+1)] for j in range(len(text1)+1)]\n",
    "helper(text1,text2,len(text1), len(text2), dp)"
   ]
  },
  {
   "cell_type": "code",
   "execution_count": null,
   "id": "262e1d80",
   "metadata": {},
   "outputs": [],
   "source": [
    "# using tabularization ->top down approach\n",
    "class Solution:\n",
    "    def longestCommonSubsequence(self, text1: str, text2: str) -> int:\n",
    "        n = len(text1)\n",
    "        m = len(text2)\n",
    "        dp = [[0 for j in range(m+1)] for i in range(n+1)]\n",
    "        for i in range(1,n+1):\n",
    "            for j in range(1,m+1):\n",
    "                if text1[i-1] == text2[j-1]:\n",
    "                    dp[i][j] = 1 + dp[i-1][j-1]\n",
    "                else:\n",
    "                    dp[i][j] = max(dp[i][j-1], dp[i-1][j])\n",
    "        return dp[n][m]"
   ]
  },
  {
   "cell_type": "markdown",
   "id": "a29934a5",
   "metadata": {},
   "source": [
    "# Longest Common substring(string which is continous)"
   ]
  },
  {
   "cell_type": "code",
   "execution_count": 39,
   "id": "d3351bc7",
   "metadata": {},
   "outputs": [
    {
     "data": {
      "text/plain": [
       "5"
      ]
     },
     "execution_count": 39,
     "metadata": {},
     "output_type": "execute_result"
    }
   ],
   "source": [
    "def longestCommonSubstring(x, y):\n",
    "    n = len(x)\n",
    "    m = len(y)\n",
    "    dp = [[0 for j in range(m + 1)] for i in range(n + 1)]\n",
    "    max_length = 0\n",
    "    for i in range(1, n + 1):\n",
    "        for j in range(1, m + 1):\n",
    "            if x[i - 1] == y[j - 1]:\n",
    "                dp[i][j] = 1 + dp[i - 1][j - 1]\n",
    "                max_length = max(max_length, dp[i][j])\n",
    "            else:\n",
    "                dp[i][j] = 0 # making this zero as when not equal assign to zero \n",
    "    return max_length\n",
    "x = \"GeeksforGeeks\" \n",
    "y = \"GeeksQuiz\"\n",
    "longestCommonSubstring(x, y)"
   ]
  },
  {
   "cell_type": "markdown",
   "id": "3db68dc4",
   "metadata": {},
   "source": [
    "# print longest common subsequence"
   ]
  },
  {
   "cell_type": "code",
   "execution_count": 54,
   "id": "4d9278ab",
   "metadata": {},
   "outputs": [
    {
     "data": {
      "text/plain": [
       "'abcd'"
      ]
     },
     "execution_count": 54,
     "metadata": {},
     "output_type": "execute_result"
    }
   ],
   "source": [
    "def longestCommonSubsequence(text1: str, text2: str) -> int:\n",
    "    n = len(text1)\n",
    "    m = len(text2)\n",
    "    dp = [[\"\" for j in range(m+1)] for i in range(n+1)]\n",
    "    for i in range(1,n+1):\n",
    "        for j in range(1,m+1):\n",
    "            if text1[i-1] == text2[j-1]:\n",
    "                dp[i][j] =  dp[i-1][j-1] + text1[i-1]\n",
    "            else:\n",
    "                first = len(dp[i][j-1])\n",
    "                second = len(dp[i-1][j])\n",
    "                if first > second:\n",
    "                    dp[i][j] = dp[i][j-1]\n",
    "                else:\n",
    "                    dp[i][j] = dp[i-1][j]\n",
    "    return dp[n][m]\n",
    "text1 = 'abcde'\n",
    "text2 = 'abecd'\n",
    "longestCommonSubsequence(text1,text2)"
   ]
  },
  {
   "cell_type": "markdown",
   "id": "91b81c47",
   "metadata": {},
   "source": [
    "# shortest commone supersequence"
   ]
  },
  {
   "cell_type": "code",
   "execution_count": 47,
   "id": "98ee6419",
   "metadata": {},
   "outputs": [],
   "source": [
    "def shortestCommonSubsequence(x,y):\n",
    "    lcs = longestCommonSubsequence(x,y) # return 2 .i.e. \"ek\"\n",
    "    return len(x)+len(y) - lcs\n",
    "x = 'geek'\n",
    "y = 'eke'\n"
   ]
  },
  {
   "cell_type": "markdown",
   "id": "dd3f41f0",
   "metadata": {},
   "source": [
    "# Print Shortest Common supersequence"
   ]
  },
  {
   "cell_type": "code",
   "execution_count": 56,
   "id": "f54048d2",
   "metadata": {},
   "outputs": [
    {
     "name": "stdout",
     "output_type": "stream",
     "text": [
      "ee\n"
     ]
    },
    {
     "ename": "TypeError",
     "evalue": "string indices must be integers, not 'tuple'",
     "output_type": "error",
     "traceback": [
      "\u001b[0;31m---------------------------------------------------------------------------\u001b[0m",
      "\u001b[0;31mTypeError\u001b[0m                                 Traceback (most recent call last)",
      "Cell \u001b[0;32mIn[56], line 21\u001b[0m\n\u001b[1;32m     19\u001b[0m x \u001b[38;5;241m=\u001b[39m \u001b[38;5;124m'\u001b[39m\u001b[38;5;124mgeek\u001b[39m\u001b[38;5;124m'\u001b[39m\n\u001b[1;32m     20\u001b[0m y \u001b[38;5;241m=\u001b[39m \u001b[38;5;124m'\u001b[39m\u001b[38;5;124meke\u001b[39m\u001b[38;5;124m'\u001b[39m\n\u001b[0;32m---> 21\u001b[0m printShortestCommonSupersequence(x,y)\n",
      "Cell \u001b[0;32mIn[56], line 8\u001b[0m, in \u001b[0;36mprintShortestCommonSupersequence\u001b[0;34m(x, y)\u001b[0m\n\u001b[1;32m      6\u001b[0m res \u001b[38;5;241m=\u001b[39m \u001b[38;5;124m\"\u001b[39m\u001b[38;5;124m\"\u001b[39m\n\u001b[1;32m      7\u001b[0m \u001b[38;5;28;01mfor\u001b[39;00m ch \u001b[38;5;129;01min\u001b[39;00m lcs:\n\u001b[0;32m----> 8\u001b[0m     \u001b[38;5;28;01mwhile\u001b[39;00m x[i] \u001b[38;5;241m!=\u001b[39m ch:\n\u001b[1;32m      9\u001b[0m         res \u001b[38;5;241m+\u001b[39m\u001b[38;5;241m=\u001b[39m x[i]\n\u001b[1;32m     10\u001b[0m         i \u001b[38;5;241m+\u001b[39m\u001b[38;5;241m=\u001b[39m \u001b[38;5;241m1\u001b[39m\n",
      "\u001b[0;31mTypeError\u001b[0m: string indices must be integers, not 'tuple'"
     ]
    }
   ],
   "source": [
    "def printShortestCommonSupersequence(x,y):\n",
    "    lcs = longestCommonSubsequence(x,y) # return \"ek\"\n",
    "    print(lcs)\n",
    "    i = 0, \n",
    "    j = 0\n",
    "    res = \"\"\n",
    "    for ch in lcs:\n",
    "        while x[i] != ch:\n",
    "            res += x[i]\n",
    "            i += 1\n",
    "        while y[j] != ch:\n",
    "            res += y[j]\n",
    "            j += 1\n",
    "        res += ch\n",
    "        i += 1\n",
    "        j += 1\n",
    "    res += x[i:] + y[j:]\n",
    "    return res\n",
    "x = 'geek'\n",
    "y = 'eke'\n",
    "printShortestCommonSupersequence(x,y)"
   ]
  },
  {
   "cell_type": "markdown",
   "id": "a239d589",
   "metadata": {},
   "source": [
    "# Minimum number of insertion and deletion to make string same"
   ]
  },
  {
   "cell_type": "code",
   "execution_count": 49,
   "id": "8b89e63f",
   "metadata": {},
   "outputs": [],
   "source": [
    "def minNoOfInsertionDeletion(str1, str2):\n",
    "    lcs = longestCommonSubsequence(str1,str2)\n",
    "    deletions = len(str1) - lcs\n",
    "    insertions = len(str2) - lcs\n",
    "    return insertions, deletion\n",
    "str1 = \"geeksforgeeks\"\n",
    "str2 = \"geeks\"\n",
    "output = 8\n"
   ]
  },
  {
   "cell_type": "markdown",
   "id": "3accc01d",
   "metadata": {},
   "source": [
    "# Longest Pallindromic subsequence"
   ]
  },
  {
   "cell_type": "code",
   "execution_count": 50,
   "id": "38108df7",
   "metadata": {},
   "outputs": [
    {
     "data": {
      "text/plain": [
       "4"
      ]
     },
     "execution_count": 50,
     "metadata": {},
     "output_type": "execute_result"
    }
   ],
   "source": [
    "def longestPallindromicSubsequence(x):\n",
    "    y = x[::-1] # lcs with reverse longest common subsequence\n",
    "    n = len(x)\n",
    "    dp = [[0 for j in range(n+1)] for i in range(n+1)]\n",
    "    for i in range(1,n+1):\n",
    "        for j in range(1,n+1):\n",
    "            if x[i-1] == y[j-1]:\n",
    "                dp[i][j] = 1 + dp[i-1][j-1]\n",
    "            else:\n",
    "                dp[i][j] = max(dp[i][j-1], dp[i-1][j])\n",
    "    return dp[n][n]\n",
    "x = 'bbbab'\n",
    "longestPallindromicSubsequence(x)"
   ]
  },
  {
   "cell_type": "markdown",
   "id": "93cf5771",
   "metadata": {},
   "source": [
    "## Minimum no of deletion to make it pallindrome"
   ]
  },
  {
   "cell_type": "code",
   "execution_count": 51,
   "id": "9ea3b2be",
   "metadata": {},
   "outputs": [
    {
     "data": {
      "text/plain": [
       "1"
      ]
     },
     "execution_count": 51,
     "metadata": {},
     "output_type": "execute_result"
    }
   ],
   "source": [
    "def minNoOfDeletionForPallindrome(x):\n",
    "    lps = longestPallindromicSubsequence(x) \n",
    "    return len(x) - lps\n",
    "x = 'bbbab'\n",
    "minNoOfDeletionForPallindrome(x)"
   ]
  },
  {
   "cell_type": "markdown",
   "id": "31323733",
   "metadata": {},
   "source": [
    "# Minimum number of insertion to make it pallindrome"
   ]
  },
  {
   "cell_type": "code",
   "execution_count": 66,
   "id": "d7a4f160",
   "metadata": {},
   "outputs": [],
   "source": [
    "# ab: Number of insertions required is 1. bab\n",
    "# aa: Number of insertions required is 0. aa\n",
    "def minNoOfInsertion(s):\n",
    "    lps = longestPallindromicSubsequence(x)\n",
    "    return len(x) - lps\n",
    "s = \"ab\"\n"
   ]
  },
  {
   "cell_type": "markdown",
   "id": "741e5a4c",
   "metadata": {},
   "source": [
    "# Longest Repeating subsequence"
   ]
  },
  {
   "cell_type": "code",
   "execution_count": 62,
   "id": "8d3bf285",
   "metadata": {},
   "outputs": [
    {
     "data": {
      "text/plain": [
       "1"
      ]
     },
     "execution_count": 62,
     "metadata": {},
     "output_type": "execute_result"
    }
   ],
   "source": [
    "def longestRepeatingSubsequence(x):\n",
    "    y = x[::]\n",
    "    n = len(x)\n",
    "    dp = [[0 for _ in range(n+1)] for _ in range(n+1)]\n",
    "    for i in range(1,n+1):\n",
    "        for j in range(1,n+1):\n",
    "            if x[i-1] == y[j-1] and i!=j:\n",
    "                dp[i][j] = 1 + dp[i-1][j-1]\n",
    "            else:\n",
    "                dp[i][j] = max(dp[i-1][j] , dp[i][j-1])\n",
    "    return dp[n][n]\n",
    "x = \"aab\"\n",
    "longestRepeatingSubsequence(x) # =>1 =>  \"a\""
   ]
  },
  {
   "cell_type": "markdown",
   "id": "214d2b3a",
   "metadata": {},
   "source": [
    "# Sequence Pattern Matching"
   ]
  },
  {
   "cell_type": "code",
   "execution_count": 65,
   "id": "a48a4067",
   "metadata": {},
   "outputs": [],
   "source": [
    "def isSequencePattern(s,t):\n",
    "    lcs = longestCommoneSequence(s,t)\n",
    "    return len(s) == lcs\n",
    "s = \"abc\"\n",
    "t = \"ahbgdc\"\n",
    "Output =  True"
   ]
  },
  {
   "cell_type": "markdown",
   "id": "33dd966b",
   "metadata": {},
   "source": [
    "# Matix Chain Multiplication\n",
    "- mcm\n",
    "- print mcm\n",
    "- evaluate expression to true/false\n",
    "- min/ max of expression\n",
    "- pallindrome partisioning\n",
    "- scrambled string\n",
    "- egg dropping"
   ]
  },
  {
   "cell_type": "code",
   "execution_count": 67,
   "id": "e7d31676",
   "metadata": {},
   "outputs": [],
   "source": [
    "# this is like a template\n",
    "def solve(arr, i, j):\n",
    "    if i > j:\n",
    "        return 0\n",
    "    for k in range(i,j):\n",
    "        # calculate temp ans\n",
    "        temp_ans = solve(arr, i, k) + solve(arr, k,j)\n",
    "        ans = max(ans, temp_ans)\n",
    "    return ans"
   ]
  },
  {
   "cell_type": "markdown",
   "id": "f21bff86",
   "metadata": {},
   "source": [
    "### MCM\n",
    "Given the dimension of a sequence of matrices in an array arr[], where the dimension of the ith matrix is (arr[i-1] * arr[i]), the task is to find the most efficient way to multiply these matrices together such that the total number of element multiplications is minimum."
   ]
  },
  {
   "cell_type": "code",
   "execution_count": 68,
   "id": "2028d37c",
   "metadata": {},
   "outputs": [],
   "source": [
    "def mcm(arr,i,j):\n",
    "    if i >=j:\n",
    "        return 0\n",
    "    for k in range(i,j-1):\n",
    "        temp = mcm(arr,i,k) + mcm(arr,k+1,j) + arr[i-1]*arr[k]*arr[j]\n",
    "        if temp < ans:\n",
    "            ans = temp\n",
    "    return ans\n",
    "\n",
    "def mcm(arr,i,j):\n",
    "    if i >=j:\n",
    "        return 0\n",
    "    if dp[i][j] != -1:\n",
    "        return dp[i][j]\n",
    "    for k in range(i,j-1):\n",
    "        temp = mcm(arr,i,k) + mcm(arr,k+1,j) + arr[i-1]*arr[k]*arr[j]\n",
    "        if temp < ans:\n",
    "            ans = temp\n",
    "    dp[i][j] = ans\n",
    "    return ans\n",
    "        "
   ]
  },
  {
   "cell_type": "markdown",
   "id": "f69ff898",
   "metadata": {},
   "source": [
    "### Palindrome partition"
   ]
  },
  {
   "cell_type": "code",
   "execution_count": null,
   "id": "6b405e7d",
   "metadata": {},
   "outputs": [],
   "source": [
    "def pallindromePartion(x,i,j):\n",
    "    if i >= j or isPalindrome(x,i,j):\n",
    "        return 0\n",
    "    for k in range(i,j-1):\n",
    "        temp = pallindromePartion(x,i,k) + pallindromePartions(x,k+1,j)\n",
    "        ans = min(temp, ans)\n",
    "    return ans\n",
    "  \n",
    "s = \"nitin\"\n",
    "i = 0\n",
    "j = len(s)"
   ]
  },
  {
   "cell_type": "code",
   "execution_count": null,
   "id": "ddfbf6ca",
   "metadata": {},
   "outputs": [],
   "source": [
    "def solve(intervals, newIntervals):\n",
    "    stack = []\n",
    "    stack.append([1,2])\n",
    "    \n",
    "intervals = [[1,2],[3,5],[6,7],[8,10],[12,16]], newInterval = [4,8]"
   ]
  }
 ],
 "metadata": {
  "kernelspec": {
   "display_name": "Python 3 (ipykernel)",
   "language": "python",
   "name": "python3"
  },
  "language_info": {
   "codemirror_mode": {
    "name": "ipython",
    "version": 3
   },
   "file_extension": ".py",
   "mimetype": "text/x-python",
   "name": "python",
   "nbconvert_exporter": "python",
   "pygments_lexer": "ipython3",
   "version": "3.11.5"
  }
 },
 "nbformat": 4,
 "nbformat_minor": 5
}
