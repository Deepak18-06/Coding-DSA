{
 "cells": [
  {
   "cell_type": "code",
   "execution_count": null,
   "metadata": {},
   "outputs": [],
   "source": [
    "#-----------------------------------------------------\n",
    "#           i      k      j\n",
    "def solve(arr,i,j):\n",
    "    # base condition - think of the smallest value input or first invalid input\n",
    "    if i>j:\n",
    "        retrun 0 # or something else\n",
    "    for k in range(i,j):\n",
    "        temp1 = solve(arr,i,k) + solve(arr,k+1,j)\n",
    "        ans = max(ans,tmep1)\n",
    "    return ans"
   ]
  },
  {
   "cell_type": "code",
   "execution_count": 6,
   "metadata": {},
   "outputs": [
    {
     "data": {
      "text/plain": [
       "4"
      ]
     },
     "execution_count": 6,
     "metadata": {},
     "output_type": "execute_result"
    }
   ],
   "source": [
    "def solve(a,b):\n",
    "    if a == 0:\n",
    "        return b\n",
    "    return solve(b%a,a)\n",
    "solve(20,36)\n",
    "    "
   ]
  },
  {
   "cell_type": "markdown",
   "metadata": {},
   "source": [
    "# Matrix chain Multiplication(MCM)\n",
    "[Question](https://www.geeksforgeeks.org/matrix-chain-multiplication-dp-8/)"
   ]
  },
  {
   "cell_type": "code",
   "execution_count": 9,
   "metadata": {},
   "outputs": [
    {
     "data": {
      "text/plain": [
       "30"
      ]
     },
     "execution_count": 9,
     "metadata": {},
     "output_type": "execute_result"
    }
   ],
   "source": [
    "arr = [1, 2, 3, 4, 3]\n",
    "n = len(arr)\n",
    "dp = [[-1 for i in range(n)] for j in range(n)]\n",
    "def mcm(arr,i,j):\n",
    "    if i>=j: # this means that we need arr of size at least two \n",
    "        return 0\n",
    "    if dp[i][j] != -1:\n",
    "        return dp[i][j]\n",
    "    mn = float(\"inf\")\n",
    "    for k in range(i,j):\n",
    "        temp = mcm(arr,i,k) + mcm(arr,k+1,j) + arr[i-1]*arr[k]*arr[j]\n",
    "        if mn>temp:\n",
    "            mn = temp\n",
    "    dp[i][j] = mn\n",
    "    return mn\n",
    "\n",
    "mcm(arr,1,n-1)"
   ]
  },
  {
   "cell_type": "code",
   "execution_count": 11,
   "metadata": {},
   "outputs": [
    {
     "name": "stdout",
     "output_type": "stream",
     "text": [
      "[-1, -1, -1, -1, -1]\n",
      "[-1, -1, 6, 18, 30]\n",
      "[-1, -1, -1, 24, 48]\n",
      "[-1, -1, -1, -1, 36]\n",
      "[-1, -1, -1, -1, -1]\n"
     ]
    }
   ],
   "source": [
    "for row in dp:\n",
    "    print(row)"
   ]
  },
  {
   "cell_type": "code",
   "execution_count": 6,
   "metadata": {},
   "outputs": [
    {
     "data": {
      "text/plain": [
       "30"
      ]
     },
     "execution_count": 6,
     "metadata": {},
     "output_type": "execute_result"
    }
   ],
   "source": [
    "def solve(arr,i,j):\n",
    "    if i>=j:\n",
    "        return 0\n",
    "    mn = float(\"inf\")\n",
    "    for k in range(i,j):\n",
    "        mn = min(mn,arr[i]*arr[j+1]*arr[k+1]+solve(arr,i,k)+solve(arr,k+1,j))\n",
    "    return mn\n",
    "arr = [1,2,3,4,3]\n",
    "solve(arr,0,len(arr)-2)"
   ]
  },
  {
   "cell_type": "markdown",
   "metadata": {},
   "source": [
    "# Palindrome Partitioning"
   ]
  },
  {
   "cell_type": "code",
   "execution_count": 4,
   "metadata": {},
   "outputs": [
    {
     "data": {
      "text/plain": [
       "3"
      ]
     },
     "execution_count": 4,
     "metadata": {},
     "output_type": "execute_result"
    }
   ],
   "source": [
    "def isPal(string):\n",
    "    return string == string[::-1]\n",
    "def solve(string,i,j):\n",
    "    if i>j or isPal(string[i:j+1]):\n",
    "        return 0\n",
    "    mn = float(\"inf\")\n",
    "    for k in range(i,j):\n",
    "        temp = solve(string,i,k)+solve(string,k+1,j)+1\n",
    "        mn = min(mn,temp)\n",
    "    return mn\n",
    "solve(\"ntin\",0,len(\"ntin\")-1)"
   ]
  },
  {
   "cell_type": "markdown",
   "metadata": {},
   "source": [
    "# n^3 solution"
   ]
  },
  {
   "cell_type": "code",
   "execution_count": 16,
   "metadata": {},
   "outputs": [
    {
     "name": "stdout",
     "output_type": "stream",
     "text": [
      "[1, False, 0, 0, 0, 0]\n",
      "[0, 1, False, 0, 1, 0]\n",
      "[0, 0, 1, True, 0, 0]\n",
      "[0, 0, 0, 1, False, 1]\n",
      "[0, 0, 0, 0, 1, False]\n",
      "[0, 0, 0, 0, 0, 1]\n",
      "-----------------\n",
      "[0, 1, 0, 0, 0, 0]\n",
      "[0, 0, 1, 0, 0, 0]\n",
      "[0, 0, 0, 0, 0, 0]\n",
      "[0, 0, 0, 0, 1, 0]\n",
      "[0, 0, 0, 0, 0, 1]\n",
      "[0, 0, 0, 0, 0, 0]\n"
     ]
    },
    {
     "data": {
      "text/plain": [
       "0"
      ]
     },
     "execution_count": 16,
     "metadata": {},
     "output_type": "execute_result"
    }
   ],
   "source": [
    "def solve(string):\n",
    "    # boolean array\n",
    "    dp = [[0 for i in range(len(string))] for j in range(len(string))]\n",
    "    for gap in range(len(string)):\n",
    "        for j in range(gap, len(string)):\n",
    "            i = j - gap\n",
    "            if gap == 0:\n",
    "                dp[i][j] = 1\n",
    "            elif gap == 1:\n",
    "                dp[i][j] = string[i] == string[j]\n",
    "            else:\n",
    "                if string[i] == string[j] and dp[i+1][j-1]:\n",
    "                    dp[i][j] = 1\n",
    "                else:\n",
    "                    dp[i][j] = 0\n",
    "    for row in dp:\n",
    "        print(row)\n",
    "    strg = [[0 for i in range(len(string))] for j in range(len(string))]\n",
    "    for gap in range(len(string)):\n",
    "        for j in range(gap,len(string)):\n",
    "            i = j-gap\n",
    "            if gap == 0:\n",
    "                strg[i][j] = 0\n",
    "            elif gap == 1:\n",
    "                if string[i] == string[j]:\n",
    "                    strg[i][j] == 0\n",
    "                else:\n",
    "                    strg[i][j] = 1\n",
    "            else:\n",
    "                if dp[i][j]:\n",
    "                    strg[i][j] = 0\n",
    "                else:\n",
    "                    mn = float(\"inf\")\n",
    "                    for k in range(i,j):\n",
    "                        left = strg[i][k]\n",
    "                        right = strg[k+1][j]\n",
    "                        if left+right+1<mn:\n",
    "                            mn = left+right+1\n",
    "                    dp[i][j] = mn\n",
    "    print(\"-----------------\")\n",
    "    for row in strg:\n",
    "        print(row)\n",
    "    return strg[0][-1]\n",
    "    \n",
    "solve(\"abccbc\")"
   ]
  },
  {
   "cell_type": "code",
   "execution_count": null,
   "metadata": {},
   "outputs": [],
   "source": []
  }
 ],
 "metadata": {
  "kernelspec": {
   "display_name": "Python 3",
   "language": "python",
   "name": "python3"
  },
  "language_info": {
   "codemirror_mode": {
    "name": "ipython",
    "version": 3
   },
   "file_extension": ".py",
   "mimetype": "text/x-python",
   "name": "python",
   "nbconvert_exporter": "python",
   "pygments_lexer": "ipython3",
   "version": "3.8.3"
  }
 },
 "nbformat": 4,
 "nbformat_minor": 4
}
