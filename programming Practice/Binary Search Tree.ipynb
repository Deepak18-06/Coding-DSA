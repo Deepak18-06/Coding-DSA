{
 "cells": [
  {
   "cell_type": "markdown",
   "metadata": {},
   "source": [
    "### 1. Populate next right pointer of Tree"
   ]
  },
  {
   "cell_type": "code",
   "execution_count": 2,
   "metadata": {},
   "outputs": [],
   "source": [
    "def Populate(root):\n",
    "    if root is None:\n",
    "        return None\n",
    "    curr = root\n",
    "    next_root = curr.left\n",
    "    while next_root:\n",
    "        next_root.next = curr.right\n",
    "        if curr.next:\n",
    "            curr.right.next =curr.next.left\n",
    "            curr = curr.next\n",
    "        else:\n",
    "            curr = next_root\n",
    "            next_root = curr.next\n",
    "    return root"
   ]
  },
  {
   "cell_type": "markdown",
   "metadata": {},
   "source": [
    "### 2. Search given Key in Binary Search Tree"
   ]
  },
  {
   "cell_type": "code",
   "execution_count": 2,
   "metadata": {},
   "outputs": [],
   "source": [
    "def solve(root,key):\n",
    "    if root is None:\n",
    "        return\n",
    "    if root.val == key:\n",
    "        return root\n",
    "    if root.val < val:\n",
    "        return solve(root.right,key)\n",
    "    if root.val > val:\n",
    "        return solve(root.left,key)\n",
    "class Node:\n",
    "    def __init__(self,val):\n",
    "        self.val = val\n",
    "        self.right = None\n",
    "        self.left = None\n",
    "        #self.next = None\n",
    "root = Node(3)\n",
    "root.left = Node(2)\n",
    "root.right = Node(4)\n",
    "root.left.left = Node(1)\n",
    "root.right.right = Node(5)"
   ]
  },
  {
   "cell_type": "markdown",
   "metadata": {},
   "source": [
    "### 3. Construct BST from given keys"
   ]
  },
  {
   "cell_type": "code",
   "execution_count": 7,
   "metadata": {},
   "outputs": [],
   "source": [
    "def insert(root,node):\n",
    "    if root is None:\n",
    "        root = node\n",
    "    else:\n",
    "        if root.val < node.val:\n",
    "            if root.right is None:\n",
    "                root.right = node\n",
    "            else:\n",
    "                insert(root.right,node)\n",
    "        else:\n",
    "            if root.left is None:\n",
    "                root.left = Node\n",
    "            else:\n",
    "                insert(root.left,node)"
   ]
  },
  {
   "cell_type": "markdown",
   "metadata": {},
   "source": [
    "### 4. Check if a BT is BST or not "
   ]
  },
  {
   "cell_type": "code",
   "execution_count": 8,
   "metadata": {},
   "outputs": [],
   "source": [
    "# inorder traversal and check if it is in increasing order or not"
   ]
  },
  {
   "cell_type": "markdown",
   "metadata": {},
   "source": [
    "### 5.Find LCA of two nodes in BST "
   ]
  },
  {
   "cell_type": "code",
   "execution_count": null,
   "metadata": {},
   "outputs": [],
   "source": []
  },
  {
   "cell_type": "markdown",
   "metadata": {},
   "source": [
    "### 6. Find the inorder predecessor/successor of a given Key in BST"
   ]
  },
  {
   "cell_type": "code",
   "execution_count": null,
   "metadata": {},
   "outputs": [],
   "source": []
  },
  {
   "cell_type": "markdown",
   "metadata": {},
   "source": [
    "### 7. Find a pair with a given sum in BST \n",
    "we can use inorder and auxilary space and we can find two sum in sorted array <b>Time Complexity O(n) also Space complexity is same<b><br>\n",
    "<b> Using Inorder and Reverse Inorder we can find pair sum using two pointers"
   ]
  },
  {
   "cell_type": "code",
   "execution_count": 9,
   "metadata": {},
   "outputs": [],
   "source": [
    "\n",
    "def pairSum(root,target):\n",
    "    vals = set()\n",
    "    if root is None:\n",
    "        return False\n",
    "    if target - root.val in vals:\n",
    "        return True\n",
    "    vals.add(root.val)\n",
    "    return pairSum(root.left,target) or pairSum(root.right,target)"
   ]
  },
  {
   "cell_type": "markdown",
   "metadata": {},
   "source": [
    "### 8. BST iterator"
   ]
  },
  {
   "cell_type": "code",
   "execution_count": 11,
   "metadata": {},
   "outputs": [],
   "source": [
    "# uses extra memory\n",
    "class BSTIterator:\n",
    "\n",
    "    def __init__(self, root: Node):\n",
    "        \n",
    "        # Array containing all the nodes in the sorted order\n",
    "        self.nodes_sorted = []\n",
    "        \n",
    "        # Pointer to the next smallest element in the BST\n",
    "        self.index = -1\n",
    "        \n",
    "        # Call to flatten the input binary search tree\n",
    "        self._inorder(root)\n",
    "        \n",
    "    def _inorder(self, root):\n",
    "        if not root:\n",
    "            return\n",
    "        self._inorder(root.left)\n",
    "        self.nodes_sorted.append(root.val)\n",
    "        self._inorder(root.right)\n",
    "\n",
    "    def next(self) -> int:\n",
    "        \"\"\"\n",
    "        @return the next smallest number\n",
    "        \"\"\"\n",
    "        self.index += 1\n",
    "        return self.nodes_sorted[self.index]\n",
    "\n",
    "    def hasNext(self) -> bool:\n",
    "        \"\"\"\n",
    "        @return whether we have a next smallest number\n",
    "        \"\"\"\n",
    "        return self.index + 1 < len(self.nodes_sorted)"
   ]
  },
  {
   "cell_type": "code",
   "execution_count": 13,
   "metadata": {},
   "outputs": [],
   "source": [
    "# using stack in one iteration with space co,plexity reduced to O(1)\n",
    "class BSTiterator:\n",
    "    def __int__(self,root):\n",
    "        self.stack = []\n",
    "        self._leftmost_inorder(root)\n",
    "    def _leftmost_inorder(self,root):\n",
    "        while root:\n",
    "            self.stack.append(root)\n",
    "            root = root.left\n",
    "    def next(self):\n",
    "        top_node = self.stack.pop()\n",
    "        if top_node.right:\n",
    "            self._leftmost_inorder(root.right)\n",
    "        return top_node.val\n",
    "    def hasNext(self):\n",
    "        return len(self.stack)>0"
   ]
  },
  {
   "cell_type": "markdown",
   "metadata": {},
   "source": [
    "### 9. Floor and Ceil Of BST\n",
    "<b>O(h) is the time complexity and O(1) will be the space complexity"
   ]
  },
  {
   "cell_type": "code",
   "execution_count": null,
   "metadata": {},
   "outputs": [],
   "source": [
    "def floorCeil(root,key):\n",
    "    if root is None:\n",
    "        return None\n",
    "    floor = None\n",
    "    ceil = None\n",
    "    while root:\n",
    "        if root.val > key:\n",
    "            ceil = root\n",
    "            root = root.left\n",
    "        elif root.val < key:\n",
    "            floor = root\n",
    "            root = root.right\n",
    "        elif root.val == key:\n",
    "            floor = root\n",
    "            ceil = root\n",
    "            break\n",
    "    return (floor,ceil)"
   ]
  },
  {
   "cell_type": "markdown",
   "metadata": {},
   "source": [
    "### 10. kth smallest element in BST"
   ]
  },
  {
   "cell_type": "code",
   "execution_count": 6,
   "metadata": {},
   "outputs": [
    {
     "name": "stdout",
     "output_type": "stream",
     "text": [
      "5\n"
     ]
    }
   ],
   "source": [
    "def kthSmallest(root,num,k):\n",
    "    if root is None:\n",
    "        return \n",
    "\n",
    "    kthSmallest(root.left,num,k)\n",
    "    num[0]+=1\n",
    "    if num[0] == k:\n",
    "        num[1] = root.val\n",
    "        return\n",
    "    kthSmallest(root.right,num,k)\n",
    "nums = [0,0]\n",
    "k = 5\n",
    "kthSmallest(root,nums,k)\n",
    "print(nums[1])\n",
    "        \n",
    "    "
   ]
  },
  {
   "cell_type": "markdown",
   "metadata": {},
   "source": [
    "### 11. kth largest element"
   ]
  },
  {
   "cell_type": "code",
   "execution_count": 8,
   "metadata": {},
   "outputs": [
    {
     "name": "stdout",
     "output_type": "stream",
     "text": [
      "4\n"
     ]
    }
   ],
   "source": [
    "def kthlargest(root,nums,k):\n",
    "    if root is None:\n",
    "        return\n",
    "    kthlargest(root.right,nums,k)\n",
    "    nums[0]+=1\n",
    "    if nums[0] == k:\n",
    "        nums[1] = root.val\n",
    "        return\n",
    "    kthlargest(root.left,nums,k)\n",
    "nums = [0,0]\n",
    "k = 2\n",
    "kthlargest(root,nums,k)\n",
    "print(nums[1])"
   ]
  },
  {
   "cell_type": "code",
   "execution_count": null,
   "metadata": {},
   "outputs": [],
   "source": []
  }
 ],
 "metadata": {
  "kernelspec": {
   "display_name": "Python 3",
   "language": "python",
   "name": "python3"
  },
  "language_info": {
   "codemirror_mode": {
    "name": "ipython",
    "version": 3
   },
   "file_extension": ".py",
   "mimetype": "text/x-python",
   "name": "python",
   "nbconvert_exporter": "python",
   "pygments_lexer": "ipython3",
   "version": "3.8.3"
  }
 },
 "nbformat": 4,
 "nbformat_minor": 4
}
