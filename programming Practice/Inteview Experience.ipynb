{
 "cells": [
  {
   "cell_type": "code",
   "execution_count": 8,
   "id": "9e346015",
   "metadata": {
    "scrolled": false
   },
   "outputs": [
    {
     "name": "stdout",
     "output_type": "stream",
     "text": [
      "[0, 0, 0, 0, 0, 0, 1, 1, 1, 1]\n"
     ]
    }
   ],
   "source": [
    "arr = [0,1,0,1,0,0,0,1,1,0]\n",
    "left = 0\n",
    "mid = 0\n",
    "right = len(arr)-1\n",
    "while mid<=right:\n",
    "    if arr[mid] == 0:\n",
    "        arr[left],arr[mid] = arr[mid],arr[left]\n",
    "        mid+=1\n",
    "        left+=1\n",
    "    elif arr[mid] == 1:\n",
    "        arr[mid],arr[right] = arr[right],arr[mid]\n",
    "        right-=1\n",
    "print(arr)"
   ]
  },
  {
   "cell_type": "code",
   "execution_count": null,
   "id": "4e5702c6",
   "metadata": {},
   "outputs": [],
   "source": [
    "class Node:\n",
    "    def __init__(self,x):\n",
    "        self.data = x\n",
    "        self.neighbours = defaultdict(list)\n",
    "\n",
    "def dfs(adj,node,is_possible,stack,vis):\n",
    "    if is_possible == False:\n",
    "        return -1\n",
    "    vis[node] = 1\n",
    "    for n in adj[node]:\n",
    "        if vis[node] == 0:\n",
    "            dfs(adj,n,is_possible,stack,vis)\n",
    "        elif vis[node] == 1:\n",
    "            is_pos = False\n",
    "            return False\n",
    "    stack.append(node)\n",
    "def solution(n,pre):\n",
    "    adj_list = collections.defaultdict(list)\n",
    "    for src,dst in pre:\n",
    "        adj[src].append(dst)\n",
    "    is_pos = True\n",
    "    vis = [0 for i in range(n)]\n",
    "    stack = []\n",
    "    "
   ]
  },
  {
   "cell_type": "code",
   "execution_count": null,
   "id": "562ad2be",
   "metadata": {},
   "outputs": [],
   "source": [
    "def inorderSucc(root,node):\n",
    "    if node.right:\n",
    "        succ = minValua(node.right)\n",
    "    succ = Node(None)\n",
    "    while root:\n",
    "        if root.data<node.data:\n",
    "            root = root.right\n",
    "        elif root.data>node.data:\n",
    "            succ = root.data\n",
    "            root = root.left\n",
    "    return succ"
   ]
  },
  {
   "cell_type": "code",
   "execution_count": null,
   "id": "76ec6b33",
   "metadata": {},
   "outputs": [],
   "source": [
    "def addTwoNumbers(node1,node2):\n",
    "    temp = Node(None)\n",
    "    dummy = temp\n",
    "    carry = 0\n",
    "    while node1 != None or node2 != None or carry\n",
    "        s = 0\n",
    "        if node1:\n",
    "            s+=node1.val\n",
    "            node1 = node1.next\n",
    "        if node2:\n",
    "            s+=node2.val\n",
    "            node2 = node2.next\n",
    "        s+=carry\n",
    "        carr = s/10\n",
    "        temp.next = Node(s%10)\n",
    "        temp = temp.next"
   ]
  }
 ],
 "metadata": {
  "kernelspec": {
   "display_name": "Python 3",
   "language": "python",
   "name": "python3"
  },
  "language_info": {
   "codemirror_mode": {
    "name": "ipython",
    "version": 3
   },
   "file_extension": ".py",
   "mimetype": "text/x-python",
   "name": "python",
   "nbconvert_exporter": "python",
   "pygments_lexer": "ipython3",
   "version": "3.8.8"
  }
 },
 "nbformat": 4,
 "nbformat_minor": 5
}
