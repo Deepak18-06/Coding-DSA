{
 "cells": [
  {
   "cell_type": "markdown",
   "id": "c4acca55",
   "metadata": {},
   "source": [
    "# "
   ]
  },
  {
   "cell_type": "code",
   "execution_count": 18,
   "id": "7aa5512e",
   "metadata": {},
   "outputs": [],
   "source": [
    "mat = [[0, 0, 1, 1, 0],\n",
    "       [1, 0, 1, 1, 0],\n",
    "        [0, 0, 0, 0, 0],\n",
    "        [0, 0, 0, 0, 1]]\n"
   ]
  },
  {
   "cell_type": "code",
   "execution_count": 19,
   "id": "d18c7ea5",
   "metadata": {},
   "outputs": [
    {
     "data": {
      "text/plain": [
       "[[0, 0, 1, 1, 0], [1, 0, 1, 1, 0], [0, 0, 0, 0, 0], [0, 0, 0, 0, 1]]"
      ]
     },
     "execution_count": 19,
     "metadata": {},
     "output_type": "execute_result"
    }
   ],
   "source": [
    "mat"
   ]
  },
  {
   "cell_type": "code",
   "execution_count": 20,
   "id": "1fd9ead2",
   "metadata": {
    "scrolled": false
   },
   "outputs": [
    {
     "name": "stdout",
     "output_type": "stream",
     "text": [
      "[4, 1, 1]\n"
     ]
    }
   ],
   "source": [
    "def dfs(grid,i,j):\n",
    "    if i<0 or i>=len(grid) or j>=len(grid[0]) or j<0 or grid[i][j] == 0:\n",
    "        return 0\n",
    "    grid[i][j] = 0\n",
    "    return 1+dfs(grid,i,j+1)+dfs(grid,i,j-1)+dfs(grid,i+1,j)+dfs(grid,i-1,j)+dfs(grid,i-1,j-1)+dfs(grid,i-1,j+1)+dfs(grid,i+1,j-1)+dfs(grid,i+1,j+1)\n",
    "res = []\n",
    "for i in range(len(mat)):\n",
    "    for j in range(len(mat[0])):\n",
    "        if mat[i][j] == 1:\n",
    "            res.append(dfs(mat,i,j))\n",
    "print(res)"
   ]
  },
  {
   "cell_type": "code",
   "execution_count": null,
   "id": "acad5572",
   "metadata": {},
   "outputs": [],
   "source": [
    "# In this question it is given that a matrix with values zeros and ones you need to give the "
   ]
  }
 ],
 "metadata": {
  "kernelspec": {
   "display_name": "Python 3",
   "language": "python",
   "name": "python3"
  },
  "language_info": {
   "codemirror_mode": {
    "name": "ipython",
    "version": 3
   },
   "file_extension": ".py",
   "mimetype": "text/x-python",
   "name": "python",
   "nbconvert_exporter": "python",
   "pygments_lexer": "ipython3",
   "version": "3.8.8"
  }
 },
 "nbformat": 4,
 "nbformat_minor": 5
}
