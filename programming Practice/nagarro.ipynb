{
 "cells": [
  {
   "cell_type": "code",
   "execution_count": 2,
   "metadata": {},
   "outputs": [
    {
     "data": {
      "text/plain": [
       "56"
      ]
     },
     "execution_count": 2,
     "metadata": {},
     "output_type": "execute_result"
    }
   ],
   "source": [
    "sum = 0\n",
    "n = 7\n",
    "for i in range(1,8):\n",
    "    for j in range(1,i-1+1):\n",
    "        sum+=j\n",
    "sum"
   ]
  },
  {
   "cell_type": "code",
   "execution_count": 3,
   "metadata": {},
   "outputs": [
    {
     "name": "stdout",
     "output_type": "stream",
     "text": [
      "GeeksforGeeks\n",
      "5\n",
      "3\n",
      "3\n"
     ]
    }
   ],
   "source": []
  },
  {
   "cell_type": "markdown",
   "metadata": {},
   "source": []
  },
  {
   "cell_type": "markdown",
   "metadata": {},
   "source": [
    "# 1 Interview experience [link](https://www.geeksforgeeks.org/nagarro-interview-experience-for-freshers/)"
   ]
  },
  {
   "cell_type": "markdown",
   "metadata": {},
   "source": [
    "[LIS]()"
   ]
  },
  {
   "cell_type": "markdown",
   "metadata": {},
   "source": [
    "Find out a square of a number and add it to the previous number till the required digit."
   ]
  },
  {
   "cell_type": "markdown",
   "metadata": {},
   "source": [
    "neares perfect square number"
   ]
  },
  {
   "cell_type": "markdown",
   "metadata": {},
   "source": [
    "# 2nd interview Experience"
   ]
  },
  {
   "cell_type": "code",
   "execution_count": null,
   "metadata": {},
   "outputs": [],
   "source": [
    "def rotate2d(mat,x,y,n):\n",
    "    for x in range(0,int(n/2)):\n",
    "        for y in range(x,n-x-1):\n",
    "            \n",
    "    \n",
    "    \n",
    "mat = [ [1, 2, 3, 4 ], \n",
    "        [5, 6, 7, 8 ], \n",
    "        [9, 10, 11, 12 ], \n",
    "        [13, 14, 15, 16 ] ] "
   ]
  },
  {
   "cell_type": "code",
   "execution_count": 10,
   "metadata": {},
   "outputs": [
    {
     "name": "stdout",
     "output_type": "stream",
     "text": [
      "1 2 3 4 \n",
      "5 6 7 8 \n",
      "9 10 11 12 \n",
      "13 14 15 16 \n"
     ]
    }
   ],
   "source": [
    "def rotateMatrix(mat,l,m,N): \n",
    "      \n",
    "    # Consider all squares one by one \n",
    "    for x in range(l, l+int(N / 2)): \n",
    "          \n",
    "        # Consider elements in group    \n",
    "        # of 4 in current square \n",
    "        for y in range(x, N-x-1): \n",
    "              \n",
    "            # store current cell in temp variable \n",
    "            temp = mat[x][y] \n",
    "  \n",
    "            # move values from right to top \n",
    "            mat[x][y] = mat[y][N-1-x] \n",
    "  \n",
    "            # move values from bottom to right \n",
    "            mat[y][N-1-x] = mat[N-1-x][N-1-y] \n",
    "  \n",
    "            # move values from left to bottom \n",
    "            mat[N-1-x][N-1-y] = mat[N-1-y][x] \n",
    "  \n",
    "            # assign temp to left \n",
    "            mat[N-1-y][x] = temp \n",
    "  \n",
    "    #print(mat)\n",
    "# Function to print the matrix \n",
    "def displayMatrix( mat ): \n",
    "    N = len(mat)  \n",
    "    for i in range(0, N): \n",
    "          \n",
    "        for j in range(0, N): \n",
    "              \n",
    "            print (mat[i][j], end = ' ') \n",
    "        print (\"\") \n",
    "      \n",
    "      \n",
    "  \n",
    "  \n",
    "# Driver Code \n",
    "#mat = [[0 for x in range(N)] for y in range(N)] \n",
    "  \n",
    "# Test case 1 \n",
    "mat = [ [1, 2, 3, 4 ], \n",
    "        [5, 6, 7, 8 ], \n",
    "        [9, 10, 11, 12 ], \n",
    "        [13, 14, 15, 16 ] ] \n",
    "          \n",
    "''' \n",
    "# Test case 2 \n",
    "mat = [ [1, 2, 3 ], \n",
    "        [4, 5, 6 ], \n",
    "        [7, 8, 9 ] ] \n",
    "  \n",
    "# Test case 3 \n",
    "mat = [ [1, 2 ], \n",
    "        [4, 5 ] ] \n",
    "          \n",
    "'''\n",
    "  \n",
    "rotateMatrix(mat,1,1,3) \n",
    "  \n",
    "# Print rotated matrix \n",
    "displayMatrix(mat) "
   ]
  },
  {
   "cell_type": "code",
   "execution_count": 15,
   "metadata": {},
   "outputs": [
    {
     "name": "stdout",
     "output_type": "stream",
     "text": [
      "[-1, -3, 3, -5, 6, -8, 9]\n"
     ]
    }
   ],
   "source": [
    "# resort the array\n",
    "def merge(neg,pos):\n",
    "    res = []\n",
    "    i = 0\n",
    "    j = 0\n",
    "    while i<len(neg) and j<len(pos):\n",
    "        if abs(neg[i])>pos[j]:\n",
    "            res.append(pos[j])\n",
    "            j+=1\n",
    "        else:\n",
    "            res.append(neg[i])\n",
    "            i+=1\n",
    "    res.extend(pos[j:])\n",
    "    res.extend(neg[i:])\n",
    "    return res\n",
    "        \n",
    "    \n",
    "def resort(arr):\n",
    "    for i in range(len(arr)):\n",
    "        if arr[i]>=0:\n",
    "            negetive = arr[:i][::-1]\n",
    "            positive = arr[i:]\n",
    "            break\n",
    "    print(merge(negetive,positive))\n",
    "\n",
    "arr = [-8,-5,-3,-1,3,6,9]\n",
    "resort(arr)"
   ]
  },
  {
   "cell_type": "code",
   "execution_count": null,
   "metadata": {},
   "outputs": [],
   "source": [
    "# subset equal sum\n",
    "def solve(s,W):\n",
    "    n = len(s)\n",
    "    dp = [[ 0 for i in range(w+1)] for j in range(n+1)]\n",
    "    for i in range(1,n+1):\n",
    "        for j in range(1,W+1):\n",
    "            if s[i-1]<=j:\n",
    "                dp[i][j] = s[i-1] + \n",
    "                \n",
    "\n",
    "def subsets():\n",
    "    s = [1,2,3,4,2]\n",
    "    w = sum(s)\n",
    "    if w%2 == 0:\n",
    "        solve(s,w//2)\n",
    "    else:\n",
    "        print('no subsets')"
   ]
  },
  {
   "cell_type": "markdown",
   "metadata": {},
   "source": [
    "# Longest Increasing subsequence"
   ]
  },
  {
   "cell_type": "code",
   "execution_count": 19,
   "metadata": {},
   "outputs": [
    {
     "name": "stdout",
     "output_type": "stream",
     "text": [
      "[3, 7, 40, 80]\n"
     ]
    }
   ],
   "source": [
    "# this approach takes O(n^2) time and O(2*n) space complexity\n",
    "def actual(res,arr):\n",
    "    idx = res.index(max(res))\n",
    "    ans = [arr[idx]]\n",
    "    for i in range(idx-1,-1,-1):\n",
    "        if res[i] + 1 == res[idx] and arr[i]<arr[idx]:\n",
    "            idx = i\n",
    "            ans.append(arr[idx])\n",
    "    return ans[::-1]\n",
    "    \n",
    "def lis(arr,n):\n",
    "    res = [0 for i in range(n)]\n",
    "    res[0] = 1\n",
    "    for i in range(1,n):\n",
    "        res[i] = 1\n",
    "        for j in range(i):\n",
    "            if arr[i]>arr[j] and res[i]<res[j]+1:\n",
    "                res[i] = res[j]+1\n",
    "    return actual(res,arr)\n",
    "arr = [50,3,10,7,40,80]\n",
    "n = len(arr)\n",
    "print(lis(arr,n))"
   ]
  },
  {
   "cell_type": "code",
   "execution_count": 20,
   "metadata": {},
   "outputs": [
    {
     "data": {
      "text/plain": [
       "[2, 3, 6, 8, 10, 13]"
      ]
     },
     "execution_count": 20,
     "metadata": {},
     "output_type": "execute_result"
    }
   ],
   "source": [
    "def lowerBoundIndex(num,res):\n",
    "    low = 0\n",
    "    high = len(res)-1\n",
    "    ans = -1\n",
    "    while low<=high:            # this is binary search which gives us the index of element\n",
    "        mid = (low+high)//2     # which is just greater than the given element\n",
    "        if res[mid]<num:        \n",
    "            low = mid+1\n",
    "        elif res[mid]>=num:\n",
    "            ans = mid\n",
    "            high = mid-1\n",
    "    return ans\n",
    "def longestIncresing(arr,n):\n",
    "    res = [arr[0]]\n",
    "    for i in range(1,n):\n",
    "        if arr[i]>res[-1]:\n",
    "            res.append(arr[i])\n",
    "        else:\n",
    "            idx = lowerBoundIndex(arr[i],res)\n",
    "            res[idx] = arr[i]\n",
    "    return res\n",
    "arr = [2,5,3,7,11,8,10,13,6]\n",
    "#lowerBoundIndex(3,[2,5])\n",
    "longestIncresing(arr,len(arr))"
   ]
  },
  {
   "cell_type": "code",
   "execution_count": 18,
   "metadata": {},
   "outputs": [
    {
     "data": {
      "text/plain": [
       "5"
      ]
     },
     "execution_count": 18,
     "metadata": {},
     "output_type": "execute_result"
    }
   ],
   "source": [
    "arr.index(80)"
   ]
  },
  {
   "cell_type": "code",
   "execution_count": 22,
   "metadata": {},
   "outputs": [
    {
     "name": "stdout",
     "output_type": "stream",
     "text": [
      "5\n",
      "abcdy\n"
     ]
    }
   ],
   "source": [
    "def actual(res,arr):\n",
    "    idx = res.index(max(res))\n",
    "    ans = [arr[idx]]\n",
    "    for i in range(idx-1,-1,-1):\n",
    "        if res[i] + 1 == res[idx] and arr[i]<arr[idx]:\n",
    "            idx = i\n",
    "            ans.append(arr[idx])\n",
    "    return ans[::-1]\n",
    "    \n",
    "def lis(arr,n):\n",
    "    res = [0 for i in range(n)]\n",
    "    res[0] = 1\n",
    "    for i in range(1,n):\n",
    "        res[i] = 1\n",
    "        for j in range(i):\n",
    "            if ord(arr[i])>ord(arr[j]) and res[i]<res[j]+1:\n",
    "                res[i] = res[j]+1\n",
    "    print(max(res))\n",
    "    return ''.join(actual(res,arr))\n",
    "arr = 'zxabcdy'\n",
    "n = len(arr)\n",
    "print(lis(arr,n))"
   ]
  },
  {
   "cell_type": "code",
   "execution_count": 21,
   "metadata": {},
   "outputs": [
    {
     "data": {
      "text/plain": [
       "1"
      ]
     },
     "execution_count": 21,
     "metadata": {},
     "output_type": "execute_result"
    }
   ],
   "source": [
    "def square(num):\n",
    "    res = num\n",
    "    left = 1\n",
    "    right = num\n",
    "    while left<right:\n",
    "        mid = (left+right)//2\n",
    "        if mid*mid == num:\n",
    "            res = mid\n",
    "            return res\n",
    "        elif mid*mid<num:\n",
    "            res = mid\n",
    "            left = mid+1\n",
    "        else:\n",
    "            right = mid-1\n",
    "    return res\n",
    "square(2)"
   ]
  },
  {
   "cell_type": "markdown",
   "metadata": {},
   "source": [
    "# Program to find the nth prime number"
   ]
  },
  {
   "cell_type": "code",
   "execution_count": 33,
   "metadata": {},
   "outputs": [
    {
     "name": "stdout",
     "output_type": "stream",
     "text": [
      "2 3 5 7 9 "
     ]
    }
   ],
   "source": [
    "def primeSieve(num):\n",
    "    primes = [True]*(num+1)\n",
    "    primes[0] = False\n",
    "    primes[1] = False\n",
    "    for i in range(2,int(n**.5)+1):\n",
    "        if primes[i] == True:\n",
    "            for j in range(i*i,num+1,i):\n",
    "                primes[j] = False\n",
    "    for i in range(len(primes)):\n",
    "        if primes[i]:\n",
    "            print(i,end = ' ')\n",
    "primeSieve(10)\n"
   ]
  },
  {
   "cell_type": "code",
   "execution_count": 22,
   "metadata": {},
   "outputs": [
    {
     "name": "stdout",
     "output_type": "stream",
     "text": [
      "2 3 5 7 11 "
     ]
    }
   ],
   "source": [
    "\n",
    "def generatePrime(n):\n",
    "    primes = [True]*(n+1)\n",
    "    primes[0] = False\n",
    "    primes[1] = False\n",
    "    for p in range(2,int(n**.5)+1):\n",
    "        if primes[p] == True:\n",
    "            for i in range(p*p,n+1,p):\n",
    "                primes[i] = False\n",
    "    for j in range(0,len(primes)):\n",
    "        if primes[j]:\n",
    "            print(j,end = ' ')\n",
    "generatePrime(12)"
   ]
  },
  {
   "cell_type": "code",
   "execution_count": 34,
   "metadata": {},
   "outputs": [
    {
     "name": "stdout",
     "output_type": "stream",
     "text": [
      "Count of Derangements is  9\n"
     ]
    }
   ],
   "source": [
    "def countDer(n):\n",
    "     \n",
    "    # Base cases\n",
    "    if (n == 1): return 0\n",
    "    if (n == 2): return 1\n",
    "     \n",
    "    # countDer(n) = (n-1)[countDer(n-1) + der(n-2)]\n",
    "    return (n - 1) * (countDer(n - 1) +\n",
    "                      countDer(n - 2))\n",
    " \n",
    "# Driver Code\n",
    "n = 4\n",
    "print(\"Count of Derangements is \", countDer(n))"
   ]
  },
  {
   "cell_type": "code",
   "execution_count": 37,
   "metadata": {},
   "outputs": [
    {
     "name": "stdout",
     "output_type": "stream",
     "text": [
      "dpak\n"
     ]
    }
   ],
   "source": [
    "def removeChar(s,k):\n",
    "    n = s.count(k)\n",
    "    s = list(s)\n",
    "    while n:\n",
    "        s.remove(k)\n",
    "        n-=1\n",
    "    print(''.join(s))\n",
    "removeChar('deepak','e')"
   ]
  },
  {
   "cell_type": "markdown",
   "metadata": {},
   "source": [
    "Find the largest palindrome string in the given string"
   ]
  },
  {
   "cell_type": "code",
   "execution_count": 50,
   "metadata": {},
   "outputs": [
    {
     "name": "stdout",
     "output_type": "stream",
     "text": [
      "[1, 2, 3, 4]\n",
      "[5, 14, 10, 6]\n",
      "[9, 15, 11, 7]\n",
      "[13, 16, 12, 8]\n"
     ]
    }
   ],
   "source": [
    "def rotateClockWise(mat,x,y,m):\n",
    "    n = len(mat)\n",
    "    for i in range(0,int(m//2)):\n",
    "        for j in range(i,m-i-1):\n",
    "            temp = mat[x+i][y+j]\n",
    "            mat[x+i][y+j] = mat[x+m-1-j][y+i]\n",
    "            mat[x+m-1-j][y+i] = mat[m+x-1-i][m+y-1-j]\n",
    "            mat[x+m-1-i][y+m-1-j] = mat[x+j][m+y-1-i]\n",
    "            mat[x+j][y+m-1-i] = temp\n",
    "    for row in mat:\n",
    "        print(row)\n",
    "A = [[1, 2, 3, 4],\n",
    "     [5, 6, 7, 8], \n",
    "     [9, 10, 11, 12], \n",
    "     [13, 14, 15, 16]]\n",
    "rotateClockWise(A,1,1,3)"
   ]
  },
  {
   "cell_type": "markdown",
   "metadata": {},
   "source": [
    "# Check if singly linked list is palindrome or not"
   ]
  },
  {
   "cell_type": "code",
   "execution_count": null,
   "metadata": {},
   "outputs": [],
   "source": []
  },
  {
   "cell_type": "markdown",
   "metadata": {},
   "source": [
    "# Construct a tree using level order and inorder traversal"
   ]
  },
  {
   "cell_type": "code",
   "execution_count": null,
   "metadata": {},
   "outputs": [],
   "source": [
    "levelorder = [20, 8, 22, 4, 12, 10, 14]\n",
    "inorder = [4, 8, 10, 12, 14, 20, 22]"
   ]
  },
  {
   "cell_type": "code",
   "execution_count": 28,
   "metadata": {},
   "outputs": [
    {
     "name": "stdout",
     "output_type": "stream",
     "text": [
      "4 8 10 12 14 20 22 "
     ]
    }
   ],
   "source": [
    "class Node:\n",
    "    def __init__(self,val):\n",
    "        self.val = val\n",
    "        self.left = None\n",
    "        self.right = None\n",
    "def construct(inOrder,levelOrder):\n",
    "    if inOrder:\n",
    "        for i in range(len(levelOrder)):\n",
    "            if levelOrder[i] in inOrder:\n",
    "                node = Node(levelOrder[i])\n",
    "                idx = inOrder.index(levelOrder[i])\n",
    "                break\n",
    "        if not inOrder:\n",
    "            return node\n",
    "        node.left = construct(inOrder[:idx],levelOrder)\n",
    "        node.right = construct(inOrder[idx+1:],levelOrder)\n",
    "        return node\n",
    "def inorder(root):\n",
    "    if root == None:\n",
    "        return\n",
    "    inorder(root.left)\n",
    "    print(root.val)\n",
    "    inorder(root.right)\n",
    "def printInorder(node):\n",
    "    if node is None:\n",
    "        return\n",
    " \n",
    "    # first recur on left child\n",
    "    printInorder(node.left)\n",
    " \n",
    "    # then print the data of node\n",
    "    print(node.val, end=\" \")\n",
    " \n",
    "    # now recur on right child\n",
    "    printInorder(node.right)        \n",
    "        \n",
    "levelorder = [20, 8, 22, 4, 12, 10, 14]\n",
    "inorder = [4, 8, 10, 12, 14, 20, 22]\n",
    "root = construct(inorder,levelorder)\n",
    "printInorder(root)\n",
    "#inorder(root)"
   ]
  },
  {
   "cell_type": "code",
   "execution_count": 31,
   "metadata": {},
   "outputs": [
    {
     "name": "stdout",
     "output_type": "stream",
     "text": [
      "321"
     ]
    }
   ],
   "source": [
    "class ListNode:\n",
    "    def __init__(self,val= None):\n",
    "        self.val = val\n",
    "        self.next = None\n",
    "def solve(node):\n",
    "    if node == None:\n",
    "        return\n",
    "    solve(node.next)\n",
    "    print(node.val,end = \"\")\n",
    "root = ListNode(1)\n",
    "root.next =ListNode(2)\n",
    "root.next.next = ListNode(3)\n",
    "solve(root)"
   ]
  },
  {
   "cell_type": "code",
   "execution_count": 33,
   "metadata": {},
   "outputs": [
    {
     "data": {
      "text/plain": [
       "-4289385"
      ]
     },
     "execution_count": 33,
     "metadata": {},
     "output_type": "execute_result"
    }
   ],
   "source": [
    "~4289384"
   ]
  },
  {
   "cell_type": "code",
   "execution_count": 3,
   "metadata": {},
   "outputs": [
    {
     "name": "stdout",
     "output_type": "stream",
     "text": [
      "Python is fantastic\n",
      "Python is awesome\n"
     ]
    }
   ],
   "source": [
    "x = \"awesome\"\n",
    "\n",
    "def myfunc():\n",
    "    x = \"fantastic\"\n",
    "    print(\"Python is \" + x)\n",
    "\n",
    "myfunc()\n",
    "\n",
    "print(\"Python is \" + x)"
   ]
  },
  {
   "cell_type": "code",
   "execution_count": 6,
   "metadata": {},
   "outputs": [
    {
     "name": "stdout",
     "output_type": "stream",
     "text": [
      "Python is fantastic\n"
     ]
    }
   ],
   "source": [
    "# use global keyword to make variable global inside a function\n",
    "def myfunc():\n",
    "    global x\n",
    "    x = \"fantastic\"\n",
    "myfunc()\n",
    "\n",
    "print(\"Python is \" + x)"
   ]
  },
  {
   "cell_type": "code",
   "execution_count": 8,
   "metadata": {},
   "outputs": [
    {
     "name": "stdout",
     "output_type": "stream",
     "text": [
      "Python is fantastic\n"
     ]
    }
   ],
   "source": [
    "# use global variable to change the value of global variable in a function\n",
    "x = \"awesome\"\n",
    "\n",
    "def myfunc():\n",
    "    global x\n",
    "    x = \"fantastic\"\n",
    "\n",
    "myfunc()\n",
    "\n",
    "print(\"Python is \" + x)"
   ]
  },
  {
   "cell_type": "code",
   "execution_count": null,
   "metadata": {},
   "outputs": [],
   "source": []
  }
 ],
 "metadata": {
  "kernelspec": {
   "display_name": "Python 3",
   "language": "python",
   "name": "python3"
  },
  "language_info": {
   "codemirror_mode": {
    "name": "ipython",
    "version": 3
   },
   "file_extension": ".py",
   "mimetype": "text/x-python",
   "name": "python",
   "nbconvert_exporter": "python",
   "pygments_lexer": "ipython3",
   "version": "3.8.3"
  }
 },
 "nbformat": 4,
 "nbformat_minor": 4
}
