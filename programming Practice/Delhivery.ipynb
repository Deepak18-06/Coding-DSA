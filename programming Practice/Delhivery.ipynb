{
 "cells": [
  {
   "cell_type": "markdown",
   "metadata": {},
   "source": [
    "# 1\n",
    "Given a Directed Graph at most 1 edge coming out of it. Find the node if started traversing from that node covers the maximum node. (20 marks.)\n",
    "(Hint- DFS from every node output which will cover maximum nodes.)\n",
    "(Try brute force)."
   ]
  },
  {
   "cell_type": "markdown",
   "metadata": {},
   "source": [
    "# 2 \n",
    "There a t-test cases. For each test case, given two numbers m, n, and a prime number p. You have to count a number of times p occurs in the prime factorization of all numbers in the range of being, n] (20 marks).\n",
    "Constraints: t<10^5, m, n<10^9, p<10^6 Test case: m=6 n=8 p=2 Ans : 4(6=2*3, 7=7, 8=2*2*2 therefore count of 2 is 4)"
   ]
  },
  {
   "cell_type": "markdown",
   "metadata": {},
   "source": [
    "# 3\n",
    "Given a string consisting of * and # and two variables r1, r2. Starting from the first index of the string you have to find a minimum number of steps required to reach the last index without landing on a * character index. You can move from every * marked index i to (i+1) and (i+2) in one step. Also, you can move to (i+A) if (A/i)>=(r1/r2), where A is the number of prime numbers from 1 to i. Print “No Way” if it is impossible to reach the nth index. (50 marks)\n",
    "Test case: string = #*###### r1=1 r2=2\n",
    "and : 3(1->3->5->8)."
   ]
  },
  {
   "cell_type": "markdown",
   "metadata": {},
   "source": [
    "# 4 \n"
   ]
  }
 ],
 "metadata": {
  "kernelspec": {
   "display_name": "Python 3",
   "language": "python",
   "name": "python3"
  },
  "language_info": {
   "codemirror_mode": {
    "name": "ipython",
    "version": 3
   },
   "file_extension": ".py",
   "mimetype": "text/x-python",
   "name": "python",
   "nbconvert_exporter": "python",
   "pygments_lexer": "ipython3",
   "version": "3.8.3"
  }
 },
 "nbformat": 4,
 "nbformat_minor": 4
}
